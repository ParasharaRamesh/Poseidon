{
  "cells": [
    {
      "cell_type": "code",
      "execution_count": 1,
      "metadata": {
        "id": "vR47piE0KzoH",
        "colab": {
          "base_uri": "https://localhost:8080/"
        },
        "outputId": "08c0babe-90dd-49af-aa16-8a80c121107c"
      },
      "outputs": [
        {
          "output_type": "stream",
          "name": "stdout",
          "text": [
            "Requirement already satisfied: numpy==1.24 in /usr/local/lib/python3.10/dist-packages (1.24.0)\n",
            "Requirement already satisfied: matplotlib==3.7 in /usr/local/lib/python3.10/dist-packages (3.7.0)\n",
            "Requirement already satisfied: contourpy>=1.0.1 in /usr/local/lib/python3.10/dist-packages (from matplotlib==3.7) (1.3.1)\n",
            "Requirement already satisfied: cycler>=0.10 in /usr/local/lib/python3.10/dist-packages (from matplotlib==3.7) (0.12.1)\n",
            "Requirement already satisfied: fonttools>=4.22.0 in /usr/local/lib/python3.10/dist-packages (from matplotlib==3.7) (4.54.1)\n",
            "Requirement already satisfied: kiwisolver>=1.0.1 in /usr/local/lib/python3.10/dist-packages (from matplotlib==3.7) (1.4.7)\n",
            "Requirement already satisfied: numpy>=1.20 in /usr/local/lib/python3.10/dist-packages (from matplotlib==3.7) (1.24.0)\n",
            "Requirement already satisfied: packaging>=20.0 in /usr/local/lib/python3.10/dist-packages (from matplotlib==3.7) (24.2)\n",
            "Requirement already satisfied: pillow>=6.2.0 in /usr/local/lib/python3.10/dist-packages (from matplotlib==3.7) (11.0.0)\n",
            "Requirement already satisfied: pyparsing>=2.3.1 in /usr/local/lib/python3.10/dist-packages (from matplotlib==3.7) (3.2.0)\n",
            "Requirement already satisfied: python-dateutil>=2.7 in /usr/local/lib/python3.10/dist-packages (from matplotlib==3.7) (2.8.2)\n",
            "Requirement already satisfied: six>=1.5 in /usr/local/lib/python3.10/dist-packages (from python-dateutil>=2.7->matplotlib==3.7) (1.16.0)\n",
            "Requirement already satisfied: scipy==1.10.1 in /usr/local/lib/python3.10/dist-packages (1.10.1)\n",
            "Requirement already satisfied: numpy<1.27.0,>=1.19.5 in /usr/local/lib/python3.10/dist-packages (from scipy==1.10.1) (1.24.0)\n",
            "Requirement already satisfied: networkx==3.1 in /usr/local/lib/python3.10/dist-packages (3.1)\n",
            "Requirement already satisfied: seaborn==0.13 in /usr/local/lib/python3.10/dist-packages (0.13.0)\n",
            "Collecting numpy!=1.24.0,>=1.20 (from seaborn==0.13)\n",
            "  Using cached numpy-2.1.3-cp310-cp310-manylinux_2_17_x86_64.manylinux2014_x86_64.whl.metadata (62 kB)\n",
            "Requirement already satisfied: pandas>=1.2 in /usr/local/lib/python3.10/dist-packages (from seaborn==0.13) (2.2.2)\n",
            "Requirement already satisfied: matplotlib!=3.6.1,>=3.3 in /usr/local/lib/python3.10/dist-packages (from seaborn==0.13) (3.7.0)\n",
            "Requirement already satisfied: contourpy>=1.0.1 in /usr/local/lib/python3.10/dist-packages (from matplotlib!=3.6.1,>=3.3->seaborn==0.13) (1.3.1)\n",
            "Requirement already satisfied: cycler>=0.10 in /usr/local/lib/python3.10/dist-packages (from matplotlib!=3.6.1,>=3.3->seaborn==0.13) (0.12.1)\n",
            "Requirement already satisfied: fonttools>=4.22.0 in /usr/local/lib/python3.10/dist-packages (from matplotlib!=3.6.1,>=3.3->seaborn==0.13) (4.54.1)\n",
            "Requirement already satisfied: kiwisolver>=1.0.1 in /usr/local/lib/python3.10/dist-packages (from matplotlib!=3.6.1,>=3.3->seaborn==0.13) (1.4.7)\n",
            "Requirement already satisfied: packaging>=20.0 in /usr/local/lib/python3.10/dist-packages (from matplotlib!=3.6.1,>=3.3->seaborn==0.13) (24.2)\n",
            "Requirement already satisfied: pillow>=6.2.0 in /usr/local/lib/python3.10/dist-packages (from matplotlib!=3.6.1,>=3.3->seaborn==0.13) (11.0.0)\n",
            "Requirement already satisfied: pyparsing>=2.3.1 in /usr/local/lib/python3.10/dist-packages (from matplotlib!=3.6.1,>=3.3->seaborn==0.13) (3.2.0)\n",
            "Requirement already satisfied: python-dateutil>=2.7 in /usr/local/lib/python3.10/dist-packages (from matplotlib!=3.6.1,>=3.3->seaborn==0.13) (2.8.2)\n",
            "Requirement already satisfied: pytz>=2020.1 in /usr/local/lib/python3.10/dist-packages (from pandas>=1.2->seaborn==0.13) (2024.2)\n",
            "Requirement already satisfied: tzdata>=2022.7 in /usr/local/lib/python3.10/dist-packages (from pandas>=1.2->seaborn==0.13) (2024.2)\n",
            "Requirement already satisfied: six>=1.5 in /usr/local/lib/python3.10/dist-packages (from python-dateutil>=2.7->matplotlib!=3.6.1,>=3.3->seaborn==0.13) (1.16.0)\n",
            "Using cached numpy-2.1.3-cp310-cp310-manylinux_2_17_x86_64.manylinux2014_x86_64.whl (16.3 MB)\n",
            "Installing collected packages: numpy\n",
            "  Attempting uninstall: numpy\n",
            "    Found existing installation: numpy 1.24.0\n",
            "    Uninstalling numpy-1.24.0:\n",
            "      Successfully uninstalled numpy-1.24.0\n",
            "\u001b[31mERROR: pip's dependency resolver does not currently take into account all the packages that are installed. This behaviour is the source of the following dependency conflicts.\n",
            "bigframes 1.25.0 requires matplotlib>=3.7.1, but you have matplotlib 3.7.0 which is incompatible.\n",
            "cupy-cuda12x 12.2.0 requires numpy<1.27,>=1.20, but you have numpy 2.1.3 which is incompatible.\n",
            "gensim 4.3.3 requires numpy<2.0,>=1.18.5, but you have numpy 2.1.3 which is incompatible.\n",
            "langchain 0.3.7 requires numpy<2,>=1; python_version < \"3.12\", but you have numpy 2.1.3 which is incompatible.\n",
            "numba 0.60.0 requires numpy<2.1,>=1.22, but you have numpy 2.1.3 which is incompatible.\n",
            "plotnine 0.14.1 requires matplotlib>=3.8.0, but you have matplotlib 3.7.0 which is incompatible.\n",
            "pytensor 2.25.5 requires numpy<2,>=1.17.0, but you have numpy 2.1.3 which is incompatible.\n",
            "scipy 1.10.1 requires numpy<1.27.0,>=1.19.5, but you have numpy 2.1.3 which is incompatible.\n",
            "tensorflow 2.17.1 requires numpy<2.0.0,>=1.23.5; python_version <= \"3.11\", but you have numpy 2.1.3 which is incompatible.\n",
            "thinc 8.2.5 requires numpy<2.0.0,>=1.19.0; python_version >= \"3.9\", but you have numpy 2.1.3 which is incompatible.\u001b[0m\u001b[31m\n",
            "\u001b[0mSuccessfully installed numpy-2.1.3\n",
            "Requirement already satisfied: pymetis==2023.1 in /usr/local/lib/python3.10/dist-packages (2023.1)\n",
            "Requirement already satisfied: six in /usr/local/lib/python3.10/dist-packages (from pymetis==2023.1) (1.16.0)\n",
            "Requirement already satisfied: python-louvain==0.16 in /usr/local/lib/python3.10/dist-packages (0.16)\n",
            "Requirement already satisfied: networkx in /usr/local/lib/python3.10/dist-packages (from python-louvain==0.16) (3.1)\n",
            "Requirement already satisfied: numpy in /usr/local/lib/python3.10/dist-packages (from python-louvain==0.16) (2.1.3)\n",
            "Requirement already satisfied: rdkit==2023.09.6 in /usr/local/lib/python3.10/dist-packages (2023.9.6)\n",
            "Requirement already satisfied: numpy in /usr/local/lib/python3.10/dist-packages (from rdkit==2023.09.6) (2.1.3)\n",
            "Requirement already satisfied: Pillow in /usr/local/lib/python3.10/dist-packages (from rdkit==2023.09.6) (11.0.0)\n",
            "Collecting torch==2.1.2\n",
            "  Using cached torch-2.1.2-cp310-cp310-manylinux1_x86_64.whl.metadata (25 kB)\n",
            "Requirement already satisfied: filelock in /usr/local/lib/python3.10/dist-packages (from torch==2.1.2) (3.16.1)\n",
            "Requirement already satisfied: typing-extensions in /usr/local/lib/python3.10/dist-packages (from torch==2.1.2) (4.12.2)\n",
            "Requirement already satisfied: sympy in /usr/local/lib/python3.10/dist-packages (from torch==2.1.2) (1.13.1)\n",
            "Requirement already satisfied: networkx in /usr/local/lib/python3.10/dist-packages (from torch==2.1.2) (3.1)\n",
            "Requirement already satisfied: jinja2 in /usr/local/lib/python3.10/dist-packages (from torch==2.1.2) (3.1.4)\n",
            "Requirement already satisfied: fsspec in /usr/local/lib/python3.10/dist-packages (from torch==2.1.2) (2024.10.0)\n",
            "Collecting nvidia-cuda-nvrtc-cu12==12.1.105 (from torch==2.1.2)\n",
            "  Using cached nvidia_cuda_nvrtc_cu12-12.1.105-py3-none-manylinux1_x86_64.whl.metadata (1.5 kB)\n",
            "Collecting nvidia-cuda-runtime-cu12==12.1.105 (from torch==2.1.2)\n",
            "  Using cached nvidia_cuda_runtime_cu12-12.1.105-py3-none-manylinux1_x86_64.whl.metadata (1.5 kB)\n",
            "Collecting nvidia-cuda-cupti-cu12==12.1.105 (from torch==2.1.2)\n",
            "  Using cached nvidia_cuda_cupti_cu12-12.1.105-py3-none-manylinux1_x86_64.whl.metadata (1.6 kB)\n",
            "Collecting nvidia-cudnn-cu12==8.9.2.26 (from torch==2.1.2)\n",
            "  Using cached nvidia_cudnn_cu12-8.9.2.26-py3-none-manylinux1_x86_64.whl.metadata (1.6 kB)\n",
            "Collecting nvidia-cublas-cu12==12.1.3.1 (from torch==2.1.2)\n",
            "  Using cached nvidia_cublas_cu12-12.1.3.1-py3-none-manylinux1_x86_64.whl.metadata (1.5 kB)\n",
            "Collecting nvidia-cufft-cu12==11.0.2.54 (from torch==2.1.2)\n",
            "  Using cached nvidia_cufft_cu12-11.0.2.54-py3-none-manylinux1_x86_64.whl.metadata (1.5 kB)\n",
            "Collecting nvidia-curand-cu12==10.3.2.106 (from torch==2.1.2)\n",
            "  Using cached nvidia_curand_cu12-10.3.2.106-py3-none-manylinux1_x86_64.whl.metadata (1.5 kB)\n",
            "Collecting nvidia-cusolver-cu12==11.4.5.107 (from torch==2.1.2)\n",
            "  Using cached nvidia_cusolver_cu12-11.4.5.107-py3-none-manylinux1_x86_64.whl.metadata (1.6 kB)\n",
            "Collecting nvidia-cusparse-cu12==12.1.0.106 (from torch==2.1.2)\n",
            "  Using cached nvidia_cusparse_cu12-12.1.0.106-py3-none-manylinux1_x86_64.whl.metadata (1.6 kB)\n",
            "Collecting nvidia-nccl-cu12==2.18.1 (from torch==2.1.2)\n",
            "  Using cached nvidia_nccl_cu12-2.18.1-py3-none-manylinux1_x86_64.whl.metadata (1.8 kB)\n",
            "Collecting nvidia-nvtx-cu12==12.1.105 (from torch==2.1.2)\n",
            "  Using cached nvidia_nvtx_cu12-12.1.105-py3-none-manylinux1_x86_64.whl.metadata (1.7 kB)\n",
            "Collecting triton==2.1.0 (from torch==2.1.2)\n",
            "  Using cached triton-2.1.0-0-cp310-cp310-manylinux2014_x86_64.manylinux_2_17_x86_64.whl.metadata (1.3 kB)\n",
            "Requirement already satisfied: nvidia-nvjitlink-cu12 in /usr/local/lib/python3.10/dist-packages (from nvidia-cusolver-cu12==11.4.5.107->torch==2.1.2) (12.6.77)\n",
            "Requirement already satisfied: MarkupSafe>=2.0 in /usr/local/lib/python3.10/dist-packages (from jinja2->torch==2.1.2) (3.0.2)\n",
            "Requirement already satisfied: mpmath<1.4,>=1.1.0 in /usr/local/lib/python3.10/dist-packages (from sympy->torch==2.1.2) (1.3.0)\n",
            "Downloading torch-2.1.2-cp310-cp310-manylinux1_x86_64.whl (670.2 MB)\n",
            "\u001b[2K   \u001b[90m━━━━━━━━━━━━━━━━━━━━━━━━━━━━━━━━━━━━━━━━\u001b[0m \u001b[32m670.2/670.2 MB\u001b[0m \u001b[31m1.6 MB/s\u001b[0m eta \u001b[36m0:00:00\u001b[0m\n",
            "\u001b[?25hDownloading nvidia_cublas_cu12-12.1.3.1-py3-none-manylinux1_x86_64.whl (410.6 MB)\n",
            "\u001b[2K   \u001b[90m━━━━━━━━━━━━━━━━━━━━━━━━━━━━━━━━━━━━━━━━\u001b[0m \u001b[32m410.6/410.6 MB\u001b[0m \u001b[31m2.1 MB/s\u001b[0m eta \u001b[36m0:00:00\u001b[0m\n",
            "\u001b[?25hDownloading nvidia_cuda_cupti_cu12-12.1.105-py3-none-manylinux1_x86_64.whl (14.1 MB)\n",
            "\u001b[2K   \u001b[90m━━━━━━━━━━━━━━━━━━━━━━━━━━━━━━━━━━━━━━━━\u001b[0m \u001b[32m14.1/14.1 MB\u001b[0m \u001b[31m108.5 MB/s\u001b[0m eta \u001b[36m0:00:00\u001b[0m\n",
            "\u001b[?25hDownloading nvidia_cuda_nvrtc_cu12-12.1.105-py3-none-manylinux1_x86_64.whl (23.7 MB)\n",
            "\u001b[2K   \u001b[90m━━━━━━━━━━━━━━━━━━━━━━━━━━━━━━━━━━━━━━━━\u001b[0m \u001b[32m23.7/23.7 MB\u001b[0m \u001b[31m85.4 MB/s\u001b[0m eta \u001b[36m0:00:00\u001b[0m\n",
            "\u001b[?25hDownloading nvidia_cuda_runtime_cu12-12.1.105-py3-none-manylinux1_x86_64.whl (823 kB)\n",
            "\u001b[2K   \u001b[90m━━━━━━━━━━━━━━━━━━━━━━━━━━━━━━━━━━━━━━━━\u001b[0m \u001b[32m823.6/823.6 kB\u001b[0m \u001b[31m55.8 MB/s\u001b[0m eta \u001b[36m0:00:00\u001b[0m\n",
            "\u001b[?25hDownloading nvidia_cudnn_cu12-8.9.2.26-py3-none-manylinux1_x86_64.whl (731.7 MB)\n",
            "\u001b[2K   \u001b[90m━━━━━━━━━━━━━━━━━━━━━━━━━━━━━━━━━━━━━━━━\u001b[0m \u001b[32m731.7/731.7 MB\u001b[0m \u001b[31m1.3 MB/s\u001b[0m eta \u001b[36m0:00:00\u001b[0m\n",
            "\u001b[?25hDownloading nvidia_cufft_cu12-11.0.2.54-py3-none-manylinux1_x86_64.whl (121.6 MB)\n",
            "\u001b[2K   \u001b[90m━━━━━━━━━━━━━━━━━━━━━━━━━━━━━━━━━━━━━━━━\u001b[0m \u001b[32m121.6/121.6 MB\u001b[0m \u001b[31m16.8 MB/s\u001b[0m eta \u001b[36m0:00:00\u001b[0m\n",
            "\u001b[?25hDownloading nvidia_curand_cu12-10.3.2.106-py3-none-manylinux1_x86_64.whl (56.5 MB)\n",
            "\u001b[2K   \u001b[90m━━━━━━━━━━━━━━━━━━━━━━━━━━━━━━━━━━━━━━━━\u001b[0m \u001b[32m56.5/56.5 MB\u001b[0m \u001b[31m37.3 MB/s\u001b[0m eta \u001b[36m0:00:00\u001b[0m\n",
            "\u001b[?25hDownloading nvidia_cusolver_cu12-11.4.5.107-py3-none-manylinux1_x86_64.whl (124.2 MB)\n",
            "\u001b[2K   \u001b[90m━━━━━━━━━━━━━━━━━━━━━━━━━━━━━━━━━━━━━━━━\u001b[0m \u001b[32m124.2/124.2 MB\u001b[0m \u001b[31m8.4 MB/s\u001b[0m eta \u001b[36m0:00:00\u001b[0m\n",
            "\u001b[?25hDownloading nvidia_cusparse_cu12-12.1.0.106-py3-none-manylinux1_x86_64.whl (196.0 MB)\n",
            "\u001b[2K   \u001b[90m━━━━━━━━━━━━━━━━━━━━━━━━━━━━━━━━━━━━━━━━\u001b[0m \u001b[32m196.0/196.0 MB\u001b[0m \u001b[31m10.3 MB/s\u001b[0m eta \u001b[36m0:00:00\u001b[0m\n",
            "\u001b[?25hDownloading nvidia_nccl_cu12-2.18.1-py3-none-manylinux1_x86_64.whl (209.8 MB)\n",
            "\u001b[2K   \u001b[90m━━━━━━━━━━━━━━━━━━━━━━━━━━━━━━━━━━━━━━━━\u001b[0m \u001b[32m209.8/209.8 MB\u001b[0m \u001b[31m4.6 MB/s\u001b[0m eta \u001b[36m0:00:00\u001b[0m\n",
            "\u001b[?25hDownloading nvidia_nvtx_cu12-12.1.105-py3-none-manylinux1_x86_64.whl (99 kB)\n",
            "\u001b[2K   \u001b[90m━━━━━━━━━━━━━━━━━━━━━━━━━━━━━━━━━━━━━━━━\u001b[0m \u001b[32m99.1/99.1 kB\u001b[0m \u001b[31m10.1 MB/s\u001b[0m eta \u001b[36m0:00:00\u001b[0m\n",
            "\u001b[?25hDownloading triton-2.1.0-0-cp310-cp310-manylinux2014_x86_64.manylinux_2_17_x86_64.whl (89.2 MB)\n",
            "\u001b[2K   \u001b[90m━━━━━━━━━━━━━━━━━━━━━━━━━━━━━━━━━━━━━━━━\u001b[0m \u001b[32m89.2/89.2 MB\u001b[0m \u001b[31m22.8 MB/s\u001b[0m eta \u001b[36m0:00:00\u001b[0m\n",
            "\u001b[?25hInstalling collected packages: triton, nvidia-nvtx-cu12, nvidia-nccl-cu12, nvidia-cusparse-cu12, nvidia-curand-cu12, nvidia-cufft-cu12, nvidia-cuda-runtime-cu12, nvidia-cuda-nvrtc-cu12, nvidia-cuda-cupti-cu12, nvidia-cublas-cu12, nvidia-cusolver-cu12, nvidia-cudnn-cu12, torch\n",
            "  Attempting uninstall: nvidia-nccl-cu12\n",
            "    Found existing installation: nvidia-nccl-cu12 2.23.4\n",
            "    Uninstalling nvidia-nccl-cu12-2.23.4:\n",
            "      Successfully uninstalled nvidia-nccl-cu12-2.23.4\n",
            "  Attempting uninstall: nvidia-cusparse-cu12\n",
            "    Found existing installation: nvidia-cusparse-cu12 12.5.4.2\n",
            "    Uninstalling nvidia-cusparse-cu12-12.5.4.2:\n",
            "      Successfully uninstalled nvidia-cusparse-cu12-12.5.4.2\n",
            "  Attempting uninstall: nvidia-curand-cu12\n",
            "    Found existing installation: nvidia-curand-cu12 10.3.7.77\n",
            "    Uninstalling nvidia-curand-cu12-10.3.7.77:\n",
            "      Successfully uninstalled nvidia-curand-cu12-10.3.7.77\n",
            "  Attempting uninstall: nvidia-cufft-cu12\n",
            "    Found existing installation: nvidia-cufft-cu12 11.3.0.4\n",
            "    Uninstalling nvidia-cufft-cu12-11.3.0.4:\n",
            "      Successfully uninstalled nvidia-cufft-cu12-11.3.0.4\n",
            "  Attempting uninstall: nvidia-cuda-runtime-cu12\n",
            "    Found existing installation: nvidia-cuda-runtime-cu12 12.6.77\n",
            "    Uninstalling nvidia-cuda-runtime-cu12-12.6.77:\n",
            "      Successfully uninstalled nvidia-cuda-runtime-cu12-12.6.77\n",
            "  Attempting uninstall: nvidia-cuda-cupti-cu12\n",
            "    Found existing installation: nvidia-cuda-cupti-cu12 12.6.80\n",
            "    Uninstalling nvidia-cuda-cupti-cu12-12.6.80:\n",
            "      Successfully uninstalled nvidia-cuda-cupti-cu12-12.6.80\n",
            "  Attempting uninstall: nvidia-cublas-cu12\n",
            "    Found existing installation: nvidia-cublas-cu12 12.6.3.3\n",
            "    Uninstalling nvidia-cublas-cu12-12.6.3.3:\n",
            "      Successfully uninstalled nvidia-cublas-cu12-12.6.3.3\n",
            "  Attempting uninstall: nvidia-cusolver-cu12\n",
            "    Found existing installation: nvidia-cusolver-cu12 11.7.1.2\n",
            "    Uninstalling nvidia-cusolver-cu12-11.7.1.2:\n",
            "      Successfully uninstalled nvidia-cusolver-cu12-11.7.1.2\n",
            "  Attempting uninstall: nvidia-cudnn-cu12\n",
            "    Found existing installation: nvidia-cudnn-cu12 9.5.1.17\n",
            "    Uninstalling nvidia-cudnn-cu12-9.5.1.17:\n",
            "      Successfully uninstalled nvidia-cudnn-cu12-9.5.1.17\n",
            "  Attempting uninstall: torch\n",
            "    Found existing installation: torch 2.5.1+cu121\n",
            "    Uninstalling torch-2.5.1+cu121:\n",
            "      Successfully uninstalled torch-2.5.1+cu121\n",
            "\u001b[31mERROR: pip's dependency resolver does not currently take into account all the packages that are installed. This behaviour is the source of the following dependency conflicts.\n",
            "torchaudio 2.5.1+cu121 requires torch==2.5.1, but you have torch 2.1.2 which is incompatible.\n",
            "torchvision 0.20.1+cu121 requires torch==2.5.1, but you have torch 2.1.2 which is incompatible.\u001b[0m\u001b[31m\n",
            "\u001b[0mSuccessfully installed nvidia-cublas-cu12-12.1.3.1 nvidia-cuda-cupti-cu12-12.1.105 nvidia-cuda-nvrtc-cu12-12.1.105 nvidia-cuda-runtime-cu12-12.1.105 nvidia-cudnn-cu12-8.9.2.26 nvidia-cufft-cu12-11.0.2.54 nvidia-curand-cu12-10.3.2.106 nvidia-cusolver-cu12-11.4.5.107 nvidia-cusparse-cu12-12.1.0.106 nvidia-nccl-cu12-2.18.1 nvidia-nvtx-cu12-12.1.105 torch-2.1.2 triton-2.1.0\n",
            "Collecting torchvision==0.16\n",
            "  Downloading torchvision-0.16.0-cp310-cp310-manylinux1_x86_64.whl.metadata (6.6 kB)\n",
            "Requirement already satisfied: numpy in /usr/local/lib/python3.10/dist-packages (from torchvision==0.16) (2.1.3)\n",
            "Requirement already satisfied: requests in /usr/local/lib/python3.10/dist-packages (from torchvision==0.16) (2.32.3)\n",
            "Collecting torch==2.1.0 (from torchvision==0.16)\n",
            "  Downloading torch-2.1.0-cp310-cp310-manylinux1_x86_64.whl.metadata (25 kB)\n",
            "Requirement already satisfied: pillow!=8.3.*,>=5.3.0 in /usr/local/lib/python3.10/dist-packages (from torchvision==0.16) (11.0.0)\n",
            "Requirement already satisfied: filelock in /usr/local/lib/python3.10/dist-packages (from torch==2.1.0->torchvision==0.16) (3.16.1)\n",
            "Requirement already satisfied: typing-extensions in /usr/local/lib/python3.10/dist-packages (from torch==2.1.0->torchvision==0.16) (4.12.2)\n",
            "Requirement already satisfied: sympy in /usr/local/lib/python3.10/dist-packages (from torch==2.1.0->torchvision==0.16) (1.13.1)\n",
            "Requirement already satisfied: networkx in /usr/local/lib/python3.10/dist-packages (from torch==2.1.0->torchvision==0.16) (3.1)\n",
            "Requirement already satisfied: jinja2 in /usr/local/lib/python3.10/dist-packages (from torch==2.1.0->torchvision==0.16) (3.1.4)\n",
            "Requirement already satisfied: fsspec in /usr/local/lib/python3.10/dist-packages (from torch==2.1.0->torchvision==0.16) (2024.10.0)\n",
            "Requirement already satisfied: nvidia-cuda-nvrtc-cu12==12.1.105 in /usr/local/lib/python3.10/dist-packages (from torch==2.1.0->torchvision==0.16) (12.1.105)\n",
            "Requirement already satisfied: nvidia-cuda-runtime-cu12==12.1.105 in /usr/local/lib/python3.10/dist-packages (from torch==2.1.0->torchvision==0.16) (12.1.105)\n",
            "Requirement already satisfied: nvidia-cuda-cupti-cu12==12.1.105 in /usr/local/lib/python3.10/dist-packages (from torch==2.1.0->torchvision==0.16) (12.1.105)\n",
            "Requirement already satisfied: nvidia-cudnn-cu12==8.9.2.26 in /usr/local/lib/python3.10/dist-packages (from torch==2.1.0->torchvision==0.16) (8.9.2.26)\n",
            "Requirement already satisfied: nvidia-cublas-cu12==12.1.3.1 in /usr/local/lib/python3.10/dist-packages (from torch==2.1.0->torchvision==0.16) (12.1.3.1)\n",
            "Requirement already satisfied: nvidia-cufft-cu12==11.0.2.54 in /usr/local/lib/python3.10/dist-packages (from torch==2.1.0->torchvision==0.16) (11.0.2.54)\n",
            "Requirement already satisfied: nvidia-curand-cu12==10.3.2.106 in /usr/local/lib/python3.10/dist-packages (from torch==2.1.0->torchvision==0.16) (10.3.2.106)\n",
            "Requirement already satisfied: nvidia-cusolver-cu12==11.4.5.107 in /usr/local/lib/python3.10/dist-packages (from torch==2.1.0->torchvision==0.16) (11.4.5.107)\n",
            "Requirement already satisfied: nvidia-cusparse-cu12==12.1.0.106 in /usr/local/lib/python3.10/dist-packages (from torch==2.1.0->torchvision==0.16) (12.1.0.106)\n",
            "Requirement already satisfied: nvidia-nccl-cu12==2.18.1 in /usr/local/lib/python3.10/dist-packages (from torch==2.1.0->torchvision==0.16) (2.18.1)\n",
            "Requirement already satisfied: nvidia-nvtx-cu12==12.1.105 in /usr/local/lib/python3.10/dist-packages (from torch==2.1.0->torchvision==0.16) (12.1.105)\n",
            "Requirement already satisfied: triton==2.1.0 in /usr/local/lib/python3.10/dist-packages (from torch==2.1.0->torchvision==0.16) (2.1.0)\n",
            "Requirement already satisfied: nvidia-nvjitlink-cu12 in /usr/local/lib/python3.10/dist-packages (from nvidia-cusolver-cu12==11.4.5.107->torch==2.1.0->torchvision==0.16) (12.6.77)\n",
            "Requirement already satisfied: charset-normalizer<4,>=2 in /usr/local/lib/python3.10/dist-packages (from requests->torchvision==0.16) (3.4.0)\n",
            "Requirement already satisfied: idna<4,>=2.5 in /usr/local/lib/python3.10/dist-packages (from requests->torchvision==0.16) (3.10)\n",
            "Requirement already satisfied: urllib3<3,>=1.21.1 in /usr/local/lib/python3.10/dist-packages (from requests->torchvision==0.16) (2.2.3)\n",
            "Requirement already satisfied: certifi>=2017.4.17 in /usr/local/lib/python3.10/dist-packages (from requests->torchvision==0.16) (2024.8.30)\n",
            "Requirement already satisfied: MarkupSafe>=2.0 in /usr/local/lib/python3.10/dist-packages (from jinja2->torch==2.1.0->torchvision==0.16) (3.0.2)\n",
            "Requirement already satisfied: mpmath<1.4,>=1.1.0 in /usr/local/lib/python3.10/dist-packages (from sympy->torch==2.1.0->torchvision==0.16) (1.3.0)\n",
            "Downloading torchvision-0.16.0-cp310-cp310-manylinux1_x86_64.whl (6.9 MB)\n",
            "\u001b[2K   \u001b[90m━━━━━━━━━━━━━━━━━━━━━━━━━━━━━━━━━━━━━━━━\u001b[0m \u001b[32m6.9/6.9 MB\u001b[0m \u001b[31m61.8 MB/s\u001b[0m eta \u001b[36m0:00:00\u001b[0m\n",
            "\u001b[?25hDownloading torch-2.1.0-cp310-cp310-manylinux1_x86_64.whl (670.2 MB)\n",
            "\u001b[2K   \u001b[90m━━━━━━━━━━━━━━━━━━━━━━━━━━━━━━━━━━━━━━━━\u001b[0m \u001b[32m670.2/670.2 MB\u001b[0m \u001b[31m1.3 MB/s\u001b[0m eta \u001b[36m0:00:00\u001b[0m\n",
            "\u001b[?25hInstalling collected packages: torch, torchvision\n",
            "  Attempting uninstall: torch\n",
            "    Found existing installation: torch 2.1.2\n",
            "    Uninstalling torch-2.1.2:\n",
            "      Successfully uninstalled torch-2.1.2\n",
            "  Attempting uninstall: torchvision\n",
            "    Found existing installation: torchvision 0.20.1+cu121\n",
            "    Uninstalling torchvision-0.20.1+cu121:\n",
            "      Successfully uninstalled torchvision-0.20.1+cu121\n",
            "\u001b[31mERROR: pip's dependency resolver does not currently take into account all the packages that are installed. This behaviour is the source of the following dependency conflicts.\n",
            "torchaudio 2.5.1+cu121 requires torch==2.5.1, but you have torch 2.1.0 which is incompatible.\u001b[0m\u001b[31m\n",
            "\u001b[0mSuccessfully installed torch-2.1.0 torchvision-0.16.0\n",
            "Collecting plotly==5.22.0\n",
            "  Downloading plotly-5.22.0-py3-none-any.whl.metadata (7.1 kB)\n",
            "Requirement already satisfied: tenacity>=6.2.0 in /usr/local/lib/python3.10/dist-packages (from plotly==5.22.0) (9.0.0)\n",
            "Requirement already satisfied: packaging in /usr/local/lib/python3.10/dist-packages (from plotly==5.22.0) (24.2)\n",
            "Downloading plotly-5.22.0-py3-none-any.whl (16.4 MB)\n",
            "\u001b[2K   \u001b[90m━━━━━━━━━━━━━━━━━━━━━━━━━━━━━━━━━━━━━━━━\u001b[0m \u001b[32m16.4/16.4 MB\u001b[0m \u001b[31m105.4 MB/s\u001b[0m eta \u001b[36m0:00:00\u001b[0m\n",
            "\u001b[?25hInstalling collected packages: plotly\n",
            "  Attempting uninstall: plotly\n",
            "    Found existing installation: plotly 5.24.1\n",
            "    Uninstalling plotly-5.24.1:\n",
            "      Successfully uninstalled plotly-5.24.1\n",
            "Successfully installed plotly-5.22.0\n",
            "Collecting scikit-learn==1.3.2\n",
            "  Downloading scikit_learn-1.3.2-cp310-cp310-manylinux_2_17_x86_64.manylinux2014_x86_64.whl.metadata (11 kB)\n",
            "Collecting numpy<2.0,>=1.17.3 (from scikit-learn==1.3.2)\n",
            "  Downloading numpy-1.26.4-cp310-cp310-manylinux_2_17_x86_64.manylinux2014_x86_64.whl.metadata (61 kB)\n",
            "\u001b[2K     \u001b[90m━━━━━━━━━━━━━━━━━━━━━━━━━━━━━━━━━━━━━━━━\u001b[0m \u001b[32m61.0/61.0 kB\u001b[0m \u001b[31m2.8 MB/s\u001b[0m eta \u001b[36m0:00:00\u001b[0m\n",
            "\u001b[?25hRequirement already satisfied: scipy>=1.5.0 in /usr/local/lib/python3.10/dist-packages (from scikit-learn==1.3.2) (1.10.1)\n",
            "Requirement already satisfied: joblib>=1.1.1 in /usr/local/lib/python3.10/dist-packages (from scikit-learn==1.3.2) (1.4.2)\n",
            "Requirement already satisfied: threadpoolctl>=2.0.0 in /usr/local/lib/python3.10/dist-packages (from scikit-learn==1.3.2) (3.5.0)\n",
            "Downloading scikit_learn-1.3.2-cp310-cp310-manylinux_2_17_x86_64.manylinux2014_x86_64.whl (10.8 MB)\n",
            "\u001b[2K   \u001b[90m━━━━━━━━━━━━━━━━━━━━━━━━━━━━━━━━━━━━━━━━\u001b[0m \u001b[32m10.8/10.8 MB\u001b[0m \u001b[31m106.9 MB/s\u001b[0m eta \u001b[36m0:00:00\u001b[0m\n",
            "\u001b[?25hDownloading numpy-1.26.4-cp310-cp310-manylinux_2_17_x86_64.manylinux2014_x86_64.whl (18.2 MB)\n",
            "\u001b[2K   \u001b[90m━━━━━━━━━━━━━━━━━━━━━━━━━━━━━━━━━━━━━━━━\u001b[0m \u001b[32m18.2/18.2 MB\u001b[0m \u001b[31m105.4 MB/s\u001b[0m eta \u001b[36m0:00:00\u001b[0m\n",
            "\u001b[?25hInstalling collected packages: numpy, scikit-learn\n",
            "  Attempting uninstall: numpy\n",
            "    Found existing installation: numpy 2.1.3\n",
            "    Uninstalling numpy-2.1.3:\n",
            "      Successfully uninstalled numpy-2.1.3\n",
            "  Attempting uninstall: scikit-learn\n",
            "    Found existing installation: scikit-learn 1.5.2\n",
            "    Uninstalling scikit-learn-1.5.2:\n",
            "      Successfully uninstalled scikit-learn-1.5.2\n",
            "\u001b[31mERROR: pip's dependency resolver does not currently take into account all the packages that are installed. This behaviour is the source of the following dependency conflicts.\n",
            "bigframes 1.25.0 requires matplotlib>=3.7.1, but you have matplotlib 3.7.0 which is incompatible.\n",
            "plotnine 0.14.1 requires matplotlib>=3.8.0, but you have matplotlib 3.7.0 which is incompatible.\u001b[0m\u001b[31m\n",
            "\u001b[0mSuccessfully installed numpy-1.26.4 scikit-learn-1.3.2\n",
            "Collecting umap-learn==0.5.6\n",
            "  Downloading umap_learn-0.5.6-py3-none-any.whl.metadata (21 kB)\n",
            "Requirement already satisfied: numpy>=1.17 in /usr/local/lib/python3.10/dist-packages (from umap-learn==0.5.6) (1.26.4)\n",
            "Requirement already satisfied: scipy>=1.3.1 in /usr/local/lib/python3.10/dist-packages (from umap-learn==0.5.6) (1.10.1)\n",
            "Requirement already satisfied: scikit-learn>=0.22 in /usr/local/lib/python3.10/dist-packages (from umap-learn==0.5.6) (1.3.2)\n",
            "Requirement already satisfied: numba>=0.51.2 in /usr/local/lib/python3.10/dist-packages (from umap-learn==0.5.6) (0.60.0)\n",
            "Collecting pynndescent>=0.5 (from umap-learn==0.5.6)\n",
            "  Downloading pynndescent-0.5.13-py3-none-any.whl.metadata (6.8 kB)\n",
            "Requirement already satisfied: tqdm in /usr/local/lib/python3.10/dist-packages (from umap-learn==0.5.6) (4.66.6)\n",
            "Requirement already satisfied: llvmlite<0.44,>=0.43.0dev0 in /usr/local/lib/python3.10/dist-packages (from numba>=0.51.2->umap-learn==0.5.6) (0.43.0)\n",
            "Requirement already satisfied: joblib>=0.11 in /usr/local/lib/python3.10/dist-packages (from pynndescent>=0.5->umap-learn==0.5.6) (1.4.2)\n",
            "Requirement already satisfied: threadpoolctl>=2.0.0 in /usr/local/lib/python3.10/dist-packages (from scikit-learn>=0.22->umap-learn==0.5.6) (3.5.0)\n",
            "Downloading umap_learn-0.5.6-py3-none-any.whl (85 kB)\n",
            "\u001b[2K   \u001b[90m━━━━━━━━━━━━━━━━━━━━━━━━━━━━━━━━━━━━━━━━\u001b[0m \u001b[32m85.7/85.7 kB\u001b[0m \u001b[31m3.6 MB/s\u001b[0m eta \u001b[36m0:00:00\u001b[0m\n",
            "\u001b[?25hDownloading pynndescent-0.5.13-py3-none-any.whl (56 kB)\n",
            "\u001b[2K   \u001b[90m━━━━━━━━━━━━━━━━━━━━━━━━━━━━━━━━━━━━━━━━\u001b[0m \u001b[32m56.9/56.9 kB\u001b[0m \u001b[31m5.9 MB/s\u001b[0m eta \u001b[36m0:00:00\u001b[0m\n",
            "\u001b[?25hInstalling collected packages: pynndescent, umap-learn\n",
            "Successfully installed pynndescent-0.5.13 umap-learn-0.5.6\n",
            "Looking in links: https://data.dgl.ai/wheels/torch-2.1/cu121/repo.html\n",
            "Collecting dgl\n",
            "  Downloading https://data.dgl.ai/wheels/torch-2.1/cu121/dgl-2.4.0%2Bcu121-cp310-cp310-manylinux1_x86_64.whl (483.2 MB)\n",
            "\u001b[2K     \u001b[90m━━━━━━━━━━━━━━━━━━━━━━━━━━━━━━━━━━━━━━━━\u001b[0m \u001b[32m483.2/483.2 MB\u001b[0m \u001b[31m1.7 MB/s\u001b[0m eta \u001b[36m0:00:00\u001b[0m\n",
            "\u001b[?25hRequirement already satisfied: networkx>=2.1 in /usr/local/lib/python3.10/dist-packages (from dgl) (3.1)\n",
            "Requirement already satisfied: numpy>=1.14.0 in /usr/local/lib/python3.10/dist-packages (from dgl) (1.26.4)\n",
            "Requirement already satisfied: packaging in /usr/local/lib/python3.10/dist-packages (from dgl) (24.2)\n",
            "Requirement already satisfied: pandas in /usr/local/lib/python3.10/dist-packages (from dgl) (2.2.2)\n",
            "Requirement already satisfied: psutil>=5.8.0 in /usr/local/lib/python3.10/dist-packages (from dgl) (5.9.5)\n",
            "Requirement already satisfied: pydantic>=2.0 in /usr/local/lib/python3.10/dist-packages (from dgl) (2.9.2)\n",
            "Requirement already satisfied: pyyaml in /usr/local/lib/python3.10/dist-packages (from dgl) (6.0.2)\n",
            "Requirement already satisfied: requests>=2.19.0 in /usr/local/lib/python3.10/dist-packages (from dgl) (2.32.3)\n",
            "Requirement already satisfied: scipy>=1.1.0 in /usr/local/lib/python3.10/dist-packages (from dgl) (1.10.1)\n",
            "Requirement already satisfied: tqdm in /usr/local/lib/python3.10/dist-packages (from dgl) (4.66.6)\n",
            "Requirement already satisfied: torch<=2.4.0 in /usr/local/lib/python3.10/dist-packages (from dgl) (2.1.0)\n",
            "Requirement already satisfied: annotated-types>=0.6.0 in /usr/local/lib/python3.10/dist-packages (from pydantic>=2.0->dgl) (0.7.0)\n",
            "Requirement already satisfied: pydantic-core==2.23.4 in /usr/local/lib/python3.10/dist-packages (from pydantic>=2.0->dgl) (2.23.4)\n",
            "Requirement already satisfied: typing-extensions>=4.6.1 in /usr/local/lib/python3.10/dist-packages (from pydantic>=2.0->dgl) (4.12.2)\n",
            "Requirement already satisfied: charset-normalizer<4,>=2 in /usr/local/lib/python3.10/dist-packages (from requests>=2.19.0->dgl) (3.4.0)\n",
            "Requirement already satisfied: idna<4,>=2.5 in /usr/local/lib/python3.10/dist-packages (from requests>=2.19.0->dgl) (3.10)\n",
            "Requirement already satisfied: urllib3<3,>=1.21.1 in /usr/local/lib/python3.10/dist-packages (from requests>=2.19.0->dgl) (2.2.3)\n",
            "Requirement already satisfied: certifi>=2017.4.17 in /usr/local/lib/python3.10/dist-packages (from requests>=2.19.0->dgl) (2024.8.30)\n",
            "Requirement already satisfied: filelock in /usr/local/lib/python3.10/dist-packages (from torch<=2.4.0->dgl) (3.16.1)\n",
            "Requirement already satisfied: sympy in /usr/local/lib/python3.10/dist-packages (from torch<=2.4.0->dgl) (1.13.1)\n",
            "Requirement already satisfied: jinja2 in /usr/local/lib/python3.10/dist-packages (from torch<=2.4.0->dgl) (3.1.4)\n",
            "Requirement already satisfied: fsspec in /usr/local/lib/python3.10/dist-packages (from torch<=2.4.0->dgl) (2024.10.0)\n",
            "Requirement already satisfied: nvidia-cuda-nvrtc-cu12==12.1.105 in /usr/local/lib/python3.10/dist-packages (from torch<=2.4.0->dgl) (12.1.105)\n",
            "Requirement already satisfied: nvidia-cuda-runtime-cu12==12.1.105 in /usr/local/lib/python3.10/dist-packages (from torch<=2.4.0->dgl) (12.1.105)\n",
            "Requirement already satisfied: nvidia-cuda-cupti-cu12==12.1.105 in /usr/local/lib/python3.10/dist-packages (from torch<=2.4.0->dgl) (12.1.105)\n",
            "Requirement already satisfied: nvidia-cudnn-cu12==8.9.2.26 in /usr/local/lib/python3.10/dist-packages (from torch<=2.4.0->dgl) (8.9.2.26)\n",
            "Requirement already satisfied: nvidia-cublas-cu12==12.1.3.1 in /usr/local/lib/python3.10/dist-packages (from torch<=2.4.0->dgl) (12.1.3.1)\n",
            "Requirement already satisfied: nvidia-cufft-cu12==11.0.2.54 in /usr/local/lib/python3.10/dist-packages (from torch<=2.4.0->dgl) (11.0.2.54)\n",
            "Requirement already satisfied: nvidia-curand-cu12==10.3.2.106 in /usr/local/lib/python3.10/dist-packages (from torch<=2.4.0->dgl) (10.3.2.106)\n",
            "Requirement already satisfied: nvidia-cusolver-cu12==11.4.5.107 in /usr/local/lib/python3.10/dist-packages (from torch<=2.4.0->dgl) (11.4.5.107)\n",
            "Requirement already satisfied: nvidia-cusparse-cu12==12.1.0.106 in /usr/local/lib/python3.10/dist-packages (from torch<=2.4.0->dgl) (12.1.0.106)\n",
            "Requirement already satisfied: nvidia-nccl-cu12==2.18.1 in /usr/local/lib/python3.10/dist-packages (from torch<=2.4.0->dgl) (2.18.1)\n",
            "Requirement already satisfied: nvidia-nvtx-cu12==12.1.105 in /usr/local/lib/python3.10/dist-packages (from torch<=2.4.0->dgl) (12.1.105)\n",
            "Requirement already satisfied: triton==2.1.0 in /usr/local/lib/python3.10/dist-packages (from torch<=2.4.0->dgl) (2.1.0)\n",
            "Requirement already satisfied: nvidia-nvjitlink-cu12 in /usr/local/lib/python3.10/dist-packages (from nvidia-cusolver-cu12==11.4.5.107->torch<=2.4.0->dgl) (12.6.77)\n",
            "Requirement already satisfied: python-dateutil>=2.8.2 in /usr/local/lib/python3.10/dist-packages (from pandas->dgl) (2.8.2)\n",
            "Requirement already satisfied: pytz>=2020.1 in /usr/local/lib/python3.10/dist-packages (from pandas->dgl) (2024.2)\n",
            "Requirement already satisfied: tzdata>=2022.7 in /usr/local/lib/python3.10/dist-packages (from pandas->dgl) (2024.2)\n",
            "Requirement already satisfied: six>=1.5 in /usr/local/lib/python3.10/dist-packages (from python-dateutil>=2.8.2->pandas->dgl) (1.16.0)\n",
            "Requirement already satisfied: MarkupSafe>=2.0 in /usr/local/lib/python3.10/dist-packages (from jinja2->torch<=2.4.0->dgl) (3.0.2)\n",
            "Requirement already satisfied: mpmath<1.4,>=1.1.0 in /usr/local/lib/python3.10/dist-packages (from sympy->torch<=2.4.0->dgl) (1.3.0)\n",
            "Installing collected packages: dgl\n",
            "Successfully installed dgl-2.4.0+cu121\n",
            "Collecting torch_geometric==2.5.1\n",
            "  Downloading torch_geometric-2.5.1-py3-none-any.whl.metadata (64 kB)\n",
            "\u001b[2K     \u001b[90m━━━━━━━━━━━━━━━━━━━━━━━━━━━━━━━━━━━━━━━━\u001b[0m \u001b[32m64.2/64.2 kB\u001b[0m \u001b[31m2.1 MB/s\u001b[0m eta \u001b[36m0:00:00\u001b[0m\n",
            "\u001b[?25hRequirement already satisfied: tqdm in /usr/local/lib/python3.10/dist-packages (from torch_geometric==2.5.1) (4.66.6)\n",
            "Requirement already satisfied: numpy in /usr/local/lib/python3.10/dist-packages (from torch_geometric==2.5.1) (1.26.4)\n",
            "Requirement already satisfied: scipy in /usr/local/lib/python3.10/dist-packages (from torch_geometric==2.5.1) (1.10.1)\n",
            "Requirement already satisfied: fsspec in /usr/local/lib/python3.10/dist-packages (from torch_geometric==2.5.1) (2024.10.0)\n",
            "Requirement already satisfied: jinja2 in /usr/local/lib/python3.10/dist-packages (from torch_geometric==2.5.1) (3.1.4)\n",
            "Requirement already satisfied: aiohttp in /usr/local/lib/python3.10/dist-packages (from torch_geometric==2.5.1) (3.10.10)\n",
            "Requirement already satisfied: requests in /usr/local/lib/python3.10/dist-packages (from torch_geometric==2.5.1) (2.32.3)\n",
            "Requirement already satisfied: pyparsing in /usr/local/lib/python3.10/dist-packages (from torch_geometric==2.5.1) (3.2.0)\n",
            "Requirement already satisfied: scikit-learn in /usr/local/lib/python3.10/dist-packages (from torch_geometric==2.5.1) (1.3.2)\n",
            "Requirement already satisfied: psutil>=5.8.0 in /usr/local/lib/python3.10/dist-packages (from torch_geometric==2.5.1) (5.9.5)\n",
            "Requirement already satisfied: aiohappyeyeballs>=2.3.0 in /usr/local/lib/python3.10/dist-packages (from aiohttp->torch_geometric==2.5.1) (2.4.3)\n",
            "Requirement already satisfied: aiosignal>=1.1.2 in /usr/local/lib/python3.10/dist-packages (from aiohttp->torch_geometric==2.5.1) (1.3.1)\n",
            "Requirement already satisfied: attrs>=17.3.0 in /usr/local/lib/python3.10/dist-packages (from aiohttp->torch_geometric==2.5.1) (24.2.0)\n",
            "Requirement already satisfied: frozenlist>=1.1.1 in /usr/local/lib/python3.10/dist-packages (from aiohttp->torch_geometric==2.5.1) (1.5.0)\n",
            "Requirement already satisfied: multidict<7.0,>=4.5 in /usr/local/lib/python3.10/dist-packages (from aiohttp->torch_geometric==2.5.1) (6.1.0)\n",
            "Requirement already satisfied: yarl<2.0,>=1.12.0 in /usr/local/lib/python3.10/dist-packages (from aiohttp->torch_geometric==2.5.1) (1.17.1)\n",
            "Requirement already satisfied: async-timeout<5.0,>=4.0 in /usr/local/lib/python3.10/dist-packages (from aiohttp->torch_geometric==2.5.1) (4.0.3)\n",
            "Requirement already satisfied: MarkupSafe>=2.0 in /usr/local/lib/python3.10/dist-packages (from jinja2->torch_geometric==2.5.1) (3.0.2)\n",
            "Requirement already satisfied: charset-normalizer<4,>=2 in /usr/local/lib/python3.10/dist-packages (from requests->torch_geometric==2.5.1) (3.4.0)\n",
            "Requirement already satisfied: idna<4,>=2.5 in /usr/local/lib/python3.10/dist-packages (from requests->torch_geometric==2.5.1) (3.10)\n",
            "Requirement already satisfied: urllib3<3,>=1.21.1 in /usr/local/lib/python3.10/dist-packages (from requests->torch_geometric==2.5.1) (2.2.3)\n",
            "Requirement already satisfied: certifi>=2017.4.17 in /usr/local/lib/python3.10/dist-packages (from requests->torch_geometric==2.5.1) (2024.8.30)\n",
            "Requirement already satisfied: joblib>=1.1.1 in /usr/local/lib/python3.10/dist-packages (from scikit-learn->torch_geometric==2.5.1) (1.4.2)\n",
            "Requirement already satisfied: threadpoolctl>=2.0.0 in /usr/local/lib/python3.10/dist-packages (from scikit-learn->torch_geometric==2.5.1) (3.5.0)\n",
            "Requirement already satisfied: typing-extensions>=4.1.0 in /usr/local/lib/python3.10/dist-packages (from multidict<7.0,>=4.5->aiohttp->torch_geometric==2.5.1) (4.12.2)\n",
            "Requirement already satisfied: propcache>=0.2.0 in /usr/local/lib/python3.10/dist-packages (from yarl<2.0,>=1.12.0->aiohttp->torch_geometric==2.5.1) (0.2.0)\n",
            "Downloading torch_geometric-2.5.1-py3-none-any.whl (1.1 MB)\n",
            "\u001b[2K   \u001b[90m━━━━━━━━━━━━━━━━━━━━━━━━━━━━━━━━━━━━━━━━\u001b[0m \u001b[32m1.1/1.1 MB\u001b[0m \u001b[31m20.6 MB/s\u001b[0m eta \u001b[36m0:00:00\u001b[0m\n",
            "\u001b[?25hInstalling collected packages: torch_geometric\n",
            "Successfully installed torch_geometric-2.5.1\n"
          ]
        }
      ],
      "source": [
        "# NOTE: you will have to restart the session multiple times!\n",
        "\n",
        "# Basic Libraries\n",
        "!pip install numpy==1.24\n",
        "!pip install matplotlib==3.7\n",
        "!pip install scipy==1.10.1\n",
        "!pip install networkx==3.1\n",
        "!pip install seaborn==0.13\n",
        "\n",
        "# Graph Libraries\n",
        "!pip install pymetis==2023.1\n",
        "!pip install python-louvain==0.16\n",
        "\n",
        "# Molecule Libraries\n",
        "!pip install rdkit==2023.09.6  # Adjust the version as necessary\n",
        "\n",
        "# Deep Learning Libraries\n",
        "!pip install torch==2.1.2\n",
        "!pip install torchvision==0.16\n",
        "\n",
        "# Additional Pip-specific Libraries\n",
        "!pip install plotly==5.22.0\n",
        "!pip install scikit-learn==1.3.2\n",
        "!pip install umap-learn==0.5.6\n",
        "\n",
        "# DGL (Deep Graph Library)\n",
        "!pip install  dgl -f https://data.dgl.ai/wheels/torch-2.1/cu121/repo.html\n",
        "# !pip install dgl==1.0.0 -f https://data.dgl.ai/wheels/repo.html\n",
        "\n",
        "# PyTorch Geometric\n",
        "!pip install torch_geometric==2.5.1\n"
      ]
    },
    {
      "cell_type": "code",
      "execution_count": 2,
      "metadata": {
        "colab": {
          "base_uri": "https://localhost:8080/"
        },
        "id": "y8DkuNSqxLqA",
        "outputId": "3239d2aa-6335-4159-cf4d-4a1a829d2baa"
      },
      "outputs": [
        {
          "output_type": "stream",
          "name": "stdout",
          "text": [
            "Mounted at /content/gdrive\n",
            "gdrive/MyDrive/cs5284/Poseidon\n",
            "/content/gdrive/MyDrive/cs5284/Poseidon\n"
          ]
        }
      ],
      "source": [
        "# Link Google Drive if current environment is Colab\n",
        "import os\n",
        "import sys\n",
        "if 'google.colab' in sys.modules:\n",
        "    # mount google drive\n",
        "    from google.colab import drive\n",
        "    drive.mount('/content/gdrive')\n",
        "    path_to_file = os.path.join('gdrive', \"MyDrive\", \"cs5284\", \"Poseidon\")\n",
        "    print(path_to_file)\n",
        "    # change current path to the folder containing \"path_to_file\"\n",
        "    os.chdir(f'./{path_to_file}')\n",
        "    !pwd"
      ]
    },
    {
      "cell_type": "code",
      "execution_count": 3,
      "metadata": {
        "colab": {
          "base_uri": "https://localhost:8080/"
        },
        "id": "IaACgJP7Ub2i",
        "outputId": "080f3f6c-d4d6-4825-b9c9-b464afac32bf"
      },
      "outputs": [
        {
          "output_type": "stream",
          "name": "stdout",
          "text": [
            "/content/gdrive/MyDrive/cs5284/Poseidon\n"
          ]
        }
      ],
      "source": [
        "!pwd"
      ]
    },
    {
      "cell_type": "code",
      "execution_count": 4,
      "metadata": {
        "id": "IzN3com8UfZU",
        "colab": {
          "base_uri": "https://localhost:8080/"
        },
        "outputId": "a75d37f0-4b8f-4a71-ef7c-efd2ae1ba191"
      },
      "outputs": [
        {
          "output_type": "stream",
          "name": "stdout",
          "text": [
            "total 2118\n",
            "drwx------ 2 root root    4096 Nov 17 07:55 colab\n",
            "-rw------- 1 root root   88665 Nov 16 10:13 custom.ipynb\n",
            "drwx------ 2 root root    4096 Nov 17 07:55 data\n",
            "drwx------ 2 root root    4096 Nov 17 07:55 data_collection\n",
            "drwx------ 2 root root    4096 Nov 17 07:55 dataloader\n",
            "drwx------ 2 root root    4096 Nov 17 07:55 datasets\n",
            "-rw------- 1 root root 2003753 Nov 17 04:35 EDA.ipynb\n",
            "drwx------ 2 root root    4096 Nov 17 07:55 .git\n",
            "-rw------- 1 root root     247 Nov  2 02:21 .gitignore\n",
            "drwx------ 2 root root    4096 Nov 17 07:55 .idea\n",
            "drwx------ 2 root root    4096 Nov 17 07:55 models\n",
            "-rw------- 1 root root   28569 Nov 17 07:13 poseidon.ipynb\n",
            "-rw------- 1 root root     191 Oct 21 05:36 README.md\n",
            "-rw------- 1 root root     531 Nov 16 14:19 requirements.txt\n",
            "drwx------ 2 root root    4096 Nov 17 07:55 resources\n",
            "drwx------ 2 root root    4096 Nov 17 07:55 src\n",
            "drwx------ 2 root root    4096 Nov 17 07:55 utils\n"
          ]
        }
      ],
      "source": [
        "!ls -la"
      ]
    },
    {
      "cell_type": "code",
      "execution_count": 5,
      "metadata": {
        "id": "MwXC4BbD1gkB"
      },
      "outputs": [],
      "source": [
        "import shutil\n",
        "from datetime import datetime"
      ]
    },
    {
      "cell_type": "markdown",
      "metadata": {
        "id": "wvUHCG3m3rbL"
      },
      "source": [
        "GNN Training"
      ]
    },
    {
      "cell_type": "code",
      "source": [
        "from src.simple_pose_gnn.train_and_test import training_loop\n",
        "from argparse import Namespace\n",
        "import os\n",
        "from datetime import datetime\n",
        "timestamp = datetime.now().strftime(\"%Y-%m-%d--%H-%M-%S\")\n",
        "\n",
        "args_dict = {\n",
        "    'learning_rate': 3e-5,\n",
        "    'num_epochs': 30,\n",
        "    'batch_size': 256,\n",
        "    'action_loss_multiplier': 1,\n",
        "    'pose_loss_multiplier': 100,\n",
        "    'training_2d_data_path': os.path.join('datasets', 'custom', 'Processed', 'train_2d_poses.npy'),\n",
        "    'training_3d_data_path': os.path.join('datasets', 'custom', 'Processed', 'train_3d_poses.npy'),\n",
        "    'training_label_path': os.path.join('datasets', 'custom', 'Processed', 'train_actions.npy'),\n",
        "    'testing_2d_data_path': os.path.join('datasets', 'custom', 'Processed', 'test_2d_poses.npy'),\n",
        "    'testing_3d_data_path': os.path.join('datasets', 'custom', 'Processed', 'test_3d_poses.npy'),\n",
        "    'testing_label_path': os.path.join('datasets', 'custom', 'Processed', 'test_actions.npy'),\n",
        "    'save_path': os.path.join('model_outputs', 'simple_pose_gnn_custom', timestamp)\n",
        "}\n",
        "args = Namespace(**args_dict)\n",
        "training_loop(args)\n",
        "\n"
      ],
      "metadata": {
        "id": "OvEsBpeD_-DW",
        "colab": {
          "base_uri": "https://localhost:8080/",
          "height": 1000
        },
        "outputId": "9991e110-f308-4b1e-837a-d15b48555e3b"
      },
      "execution_count": 6,
      "outputs": [
        {
          "output_type": "stream",
          "name": "stderr",
          "text": [
            "DGL backend not selected or invalid.  Assuming PyTorch for now.\n"
          ]
        },
        {
          "output_type": "stream",
          "name": "stdout",
          "text": [
            "Setting the default backend to \"pytorch\". You can change it in the ~/.dgl/config.json file or export the DGLBACKEND environment variable.  Valid options are: pytorch, mxnet, tensorflow (all lowercase)\n",
            "Training args are: Namespace(learning_rate=3e-05, num_epochs=30, batch_size=256, action_loss_multiplier=1, pose_loss_multiplier=100, training_2d_data_path='datasets/custom/Processed/train_2d_poses.npy', training_3d_data_path='datasets/custom/Processed/train_3d_poses.npy', training_label_path='datasets/custom/Processed/train_actions.npy', testing_2d_data_path='datasets/custom/Processed/test_2d_poses.npy', testing_3d_data_path='datasets/custom/Processed/test_3d_poses.npy', testing_label_path='datasets/custom/Processed/test_actions.npy', save_path='model_outputs/simple_pose_gnn_custom/2024-11-17--08-39-44')\n",
            "Starting EPOCH: 1 / 30\n"
          ]
        },
        {
          "output_type": "stream",
          "name": "stderr",
          "text": [
            "Training =>: 100%|██████████| 126/126 [00:22<00:00,  5.63it/s]\n"
          ]
        },
        {
          "output_type": "stream",
          "name": "stdout",
          "text": [
            "Saving at epoch 0\n",
            "Epoch: 0 | Total Training Loss: 37.714317321777344 | Pose Training Loss: 0.36073991656303406 | Action Training Loss: 1.6403099298477173 | Action Train Label Accuracy: 21.74007579051997\n"
          ]
        },
        {
          "output_type": "stream",
          "name": "stderr",
          "text": [
            "Testing =>: 100%|██████████| 10/10 [00:01<00:00,  6.88it/s]\n"
          ]
        },
        {
          "output_type": "stream",
          "name": "stdout",
          "text": [
            "Epoch: 0 | Total Testing Loss: 6.000362396240234 | Pose Testing Loss: 0.0446021631360054 | Action Testing Loss: 1.5401461124420166 | Action Test Label Accuracy: 33.625\n",
            "Starting EPOCH: 2 / 30\n"
          ]
        },
        {
          "output_type": "stream",
          "name": "stderr",
          "text": [
            "Training =>: 100%|██████████| 126/126 [00:20<00:00,  6.16it/s]\n"
          ]
        },
        {
          "output_type": "stream",
          "name": "stdout",
          "text": [
            "Saving at epoch 1\n",
            "Epoch: 1 | Total Training Loss: 17.883731842041016 | Pose Training Loss: 0.1632789820432663 | Action Training Loss: 1.555834174156189 | Action Train Label Accuracy: 28.452506678263028\n"
          ]
        },
        {
          "output_type": "stream",
          "name": "stderr",
          "text": [
            "Testing =>: 100%|██████████| 10/10 [00:01<00:00,  6.55it/s]\n"
          ]
        },
        {
          "output_type": "stream",
          "name": "stdout",
          "text": [
            "Epoch: 1 | Total Testing Loss: 5.342889308929443 | Pose Testing Loss: 0.039038948714733124 | Action Testing Loss: 1.4389941692352295 | Action Test Label Accuracy: 45.916666666666664\n",
            "Starting EPOCH: 3 / 30\n"
          ]
        },
        {
          "output_type": "stream",
          "name": "stderr",
          "text": [
            "Training =>: 100%|██████████| 126/126 [00:20<00:00,  6.17it/s]\n"
          ]
        },
        {
          "output_type": "stream",
          "name": "stdout",
          "text": [
            "Saving at epoch 2\n",
            "Epoch: 2 | Total Training Loss: 11.371230125427246 | Pose Training Loss: 0.09922848641872406 | Action Training Loss: 1.448385238647461 | Action Train Label Accuracy: 36.56892588681121\n"
          ]
        },
        {
          "output_type": "stream",
          "name": "stderr",
          "text": [
            "Testing =>: 100%|██████████| 10/10 [00:01<00:00,  5.35it/s]\n"
          ]
        },
        {
          "output_type": "stream",
          "name": "stdout",
          "text": [
            "Epoch: 2 | Total Testing Loss: 5.204286098480225 | Pose Testing Loss: 0.03892947733402252 | Action Testing Loss: 1.3113385438919067 | Action Test Label Accuracy: 55.791666666666664\n",
            "Starting EPOCH: 4 / 30\n"
          ]
        },
        {
          "output_type": "stream",
          "name": "stderr",
          "text": [
            "Training =>: 100%|██████████| 126/126 [00:20<00:00,  6.08it/s]\n"
          ]
        },
        {
          "output_type": "stream",
          "name": "stdout",
          "text": [
            "Saving at epoch 3\n",
            "Epoch: 3 | Total Training Loss: 8.630080223083496 | Pose Training Loss: 0.07303892076015472 | Action Training Loss: 1.3261865377426147 | Action Train Label Accuracy: 41.80592657016835\n"
          ]
        },
        {
          "output_type": "stream",
          "name": "stderr",
          "text": [
            "Testing =>: 100%|██████████| 10/10 [00:01<00:00,  6.38it/s]\n"
          ]
        },
        {
          "output_type": "stream",
          "name": "stdout",
          "text": [
            "Epoch: 3 | Total Testing Loss: 4.888587474822998 | Pose Testing Loss: 0.036871712654829025 | Action Testing Loss: 1.201416015625 | Action Test Label Accuracy: 64.75\n",
            "Starting EPOCH: 5 / 30\n"
          ]
        },
        {
          "output_type": "stream",
          "name": "stderr",
          "text": [
            "Training =>: 100%|██████████| 126/126 [00:20<00:00,  6.10it/s]\n"
          ]
        },
        {
          "output_type": "stream",
          "name": "stdout",
          "text": [
            "Saving at epoch 4\n",
            "Epoch: 4 | Total Training Loss: 7.3558244705200195 | Pose Training Loss: 0.06132775545120239 | Action Training Loss: 1.2230476140975952 | Action Train Label Accuracy: 45.53022302292353\n"
          ]
        },
        {
          "output_type": "stream",
          "name": "stderr",
          "text": [
            "Testing =>: 100%|██████████| 10/10 [00:01<00:00,  6.46it/s]\n"
          ]
        },
        {
          "output_type": "stream",
          "name": "stdout",
          "text": [
            "Epoch: 4 | Total Testing Loss: 4.532105922698975 | Pose Testing Loss: 0.03412986919283867 | Action Testing Loss: 1.1191195249557495 | Action Test Label Accuracy: 67.79166666666666\n",
            "Starting EPOCH: 6 / 30\n"
          ]
        },
        {
          "output_type": "stream",
          "name": "stderr",
          "text": [
            "Training =>: 100%|██████████| 126/126 [00:20<00:00,  6.06it/s]\n"
          ]
        },
        {
          "output_type": "stream",
          "name": "stdout",
          "text": [
            "Saving at epoch 5\n",
            "Epoch: 5 | Total Training Loss: 6.642796993255615 | Pose Training Loss: 0.0549495667219162 | Action Training Loss: 1.1478407382965088 | Action Train Label Accuracy: 48.72336460209977\n"
          ]
        },
        {
          "output_type": "stream",
          "name": "stderr",
          "text": [
            "Testing =>: 100%|██████████| 10/10 [00:01<00:00,  5.17it/s]\n"
          ]
        },
        {
          "output_type": "stream",
          "name": "stdout",
          "text": [
            "Epoch: 5 | Total Testing Loss: 4.269049167633057 | Pose Testing Loss: 0.032060977071523666 | Action Testing Loss: 1.062951922416687 | Action Test Label Accuracy: 63.041666666666664\n",
            "Starting EPOCH: 7 / 30\n"
          ]
        },
        {
          "output_type": "stream",
          "name": "stderr",
          "text": [
            "Training =>: 100%|██████████| 126/126 [00:20<00:00,  6.14it/s]\n"
          ]
        },
        {
          "output_type": "stream",
          "name": "stdout",
          "text": [
            "Saving at epoch 6\n",
            "Epoch: 6 | Total Training Loss: 6.185048580169678 | Pose Training Loss: 0.05094769224524498 | Action Training Loss: 1.0902814865112305 | Action Train Label Accuracy: 51.58103994533143\n"
          ]
        },
        {
          "output_type": "stream",
          "name": "stderr",
          "text": [
            "Testing =>: 100%|██████████| 10/10 [00:01<00:00,  6.46it/s]\n"
          ]
        },
        {
          "output_type": "stream",
          "name": "stdout",
          "text": [
            "Epoch: 6 | Total Testing Loss: 4.038477897644043 | Pose Testing Loss: 0.030037248507142067 | Action Testing Loss: 1.0347527265548706 | Action Test Label Accuracy: 61.5\n",
            "Starting EPOCH: 8 / 30\n"
          ]
        },
        {
          "output_type": "stream",
          "name": "stderr",
          "text": [
            "Training =>: 100%|██████████| 126/126 [00:20<00:00,  6.06it/s]\n"
          ]
        },
        {
          "output_type": "stream",
          "name": "stdout",
          "text": [
            "Saving at epoch 7\n",
            "Epoch: 7 | Total Training Loss: 5.834321022033691 | Pose Training Loss: 0.04794291406869888 | Action Training Loss: 1.0400302410125732 | Action Train Label Accuracy: 54.152947754239925\n"
          ]
        },
        {
          "output_type": "stream",
          "name": "stderr",
          "text": [
            "Testing =>: 100%|██████████| 10/10 [00:01<00:00,  5.74it/s]\n"
          ]
        },
        {
          "output_type": "stream",
          "name": "stdout",
          "text": [
            "Epoch: 7 | Total Testing Loss: 3.8277223110198975 | Pose Testing Loss: 0.028386685997247696 | Action Testing Loss: 0.9890533685684204 | Action Test Label Accuracy: 61.66666666666667\n",
            "Starting EPOCH: 9 / 30\n"
          ]
        },
        {
          "output_type": "stream",
          "name": "stderr",
          "text": [
            "Training =>: 100%|██████████| 126/126 [00:21<00:00,  5.85it/s]\n"
          ]
        },
        {
          "output_type": "stream",
          "name": "stdout",
          "text": [
            "Saving at epoch 8\n",
            "Epoch: 8 | Total Training Loss: 5.545805931091309 | Pose Training Loss: 0.045611605048179626 | Action Training Loss: 0.9846470952033997 | Action Train Label Accuracy: 57.37093868422688\n"
          ]
        },
        {
          "output_type": "stream",
          "name": "stderr",
          "text": [
            "Testing =>: 100%|██████████| 10/10 [00:01<00:00,  6.42it/s]\n"
          ]
        },
        {
          "output_type": "stream",
          "name": "stdout",
          "text": [
            "Epoch: 8 | Total Testing Loss: 3.631406784057617 | Pose Testing Loss: 0.0268689151853323 | Action Testing Loss: 0.9445155262947083 | Action Test Label Accuracy: 62.875\n",
            "Starting EPOCH: 10 / 30\n"
          ]
        },
        {
          "output_type": "stream",
          "name": "stderr",
          "text": [
            "Training =>: 100%|██████████| 126/126 [00:21<00:00,  6.00it/s]\n"
          ]
        },
        {
          "output_type": "stream",
          "name": "stdout",
          "text": [
            "Saving at epoch 9\n",
            "Epoch: 9 | Total Training Loss: 5.293685436248779 | Pose Training Loss: 0.04362371936440468 | Action Training Loss: 0.9313135743141174 | Action Train Label Accuracy: 59.22221531962477\n"
          ]
        },
        {
          "output_type": "stream",
          "name": "stderr",
          "text": [
            "Testing =>: 100%|██████████| 10/10 [00:01<00:00,  6.39it/s]\n"
          ]
        },
        {
          "output_type": "stream",
          "name": "stdout",
          "text": [
            "Epoch: 9 | Total Testing Loss: 3.465406894683838 | Pose Testing Loss: 0.025635093450546265 | Action Testing Loss: 0.9018974304199219 | Action Test Label Accuracy: 64.75\n",
            "Starting EPOCH: 11 / 30\n"
          ]
        },
        {
          "output_type": "stream",
          "name": "stderr",
          "text": [
            "Training =>: 100%|██████████| 126/126 [00:20<00:00,  6.16it/s]\n"
          ]
        },
        {
          "output_type": "stream",
          "name": "stdout",
          "text": [
            "Saving at epoch 10\n",
            "Epoch: 10 | Total Training Loss: 5.0606184005737305 | Pose Training Loss: 0.04182446375489235 | Action Training Loss: 0.8781706690788269 | Action Train Label Accuracy: 60.99583773373921\n"
          ]
        },
        {
          "output_type": "stream",
          "name": "stderr",
          "text": [
            "Testing =>: 100%|██████████| 10/10 [00:01<00:00,  6.14it/s]\n"
          ]
        },
        {
          "output_type": "stream",
          "name": "stdout",
          "text": [
            "Epoch: 10 | Total Testing Loss: 3.2644011974334717 | Pose Testing Loss: 0.024171508848667145 | Action Testing Loss: 0.8472504019737244 | Action Test Label Accuracy: 68.29166666666666\n",
            "Starting EPOCH: 12 / 30\n"
          ]
        },
        {
          "output_type": "stream",
          "name": "stderr",
          "text": [
            "Training =>: 100%|██████████| 126/126 [00:20<00:00,  6.15it/s]\n"
          ]
        },
        {
          "output_type": "stream",
          "name": "stdout",
          "text": [
            "Saving at epoch 11\n",
            "Epoch: 11 | Total Training Loss: 4.8437628746032715 | Pose Training Loss: 0.04015728086233139 | Action Training Loss: 0.828034520149231 | Action Train Label Accuracy: 62.68869975771882\n"
          ]
        },
        {
          "output_type": "stream",
          "name": "stderr",
          "text": [
            "Testing =>: 100%|██████████| 10/10 [00:01<00:00,  6.37it/s]\n"
          ]
        },
        {
          "output_type": "stream",
          "name": "stdout",
          "text": [
            "Epoch: 11 | Total Testing Loss: 3.0832836627960205 | Pose Testing Loss: 0.022888971492648125 | Action Testing Loss: 0.7943863272666931 | Action Test Label Accuracy: 70.16666666666667\n",
            "Starting EPOCH: 13 / 30\n"
          ]
        },
        {
          "output_type": "stream",
          "name": "stderr",
          "text": [
            "Training =>: 100%|██████████| 126/126 [00:20<00:00,  6.18it/s]\n"
          ]
        },
        {
          "output_type": "stream",
          "name": "stdout",
          "text": [
            "Saving at epoch 12\n",
            "Epoch: 12 | Total Training Loss: 4.650606632232666 | Pose Training Loss: 0.03872573748230934 | Action Training Loss: 0.7780320644378662 | Action Train Label Accuracy: 64.38777411940113\n"
          ]
        },
        {
          "output_type": "stream",
          "name": "stderr",
          "text": [
            "Testing =>: 100%|██████████| 10/10 [00:01<00:00,  6.36it/s]\n"
          ]
        },
        {
          "output_type": "stream",
          "name": "stdout",
          "text": [
            "Epoch: 12 | Total Testing Loss: 2.903841972351074 | Pose Testing Loss: 0.0215502567589283 | Action Testing Loss: 0.7488164305686951 | Action Test Label Accuracy: 72.08333333333333\n",
            "Starting EPOCH: 14 / 30\n"
          ]
        },
        {
          "output_type": "stream",
          "name": "stderr",
          "text": [
            "Training =>: 100%|██████████| 126/126 [00:21<00:00,  5.93it/s]\n"
          ]
        },
        {
          "output_type": "stream",
          "name": "stdout",
          "text": [
            "Saving at epoch 13\n",
            "Epoch: 13 | Total Training Loss: 4.482811450958252 | Pose Training Loss: 0.037466861307621 | Action Training Loss: 0.7361244559288025 | Action Train Label Accuracy: 65.77001925824688\n"
          ]
        },
        {
          "output_type": "stream",
          "name": "stderr",
          "text": [
            "Testing =>: 100%|██████████| 10/10 [00:01<00:00,  6.31it/s]\n"
          ]
        },
        {
          "output_type": "stream",
          "name": "stdout",
          "text": [
            "Epoch: 13 | Total Testing Loss: 2.7984635829925537 | Pose Testing Loss: 0.02085983008146286 | Action Testing Loss: 0.7124808430671692 | Action Test Label Accuracy: 72.29166666666667\n",
            "Starting EPOCH: 15 / 30\n"
          ]
        },
        {
          "output_type": "stream",
          "name": "stderr",
          "text": [
            "Training =>: 100%|██████████| 126/126 [00:21<00:00,  5.88it/s]\n"
          ]
        },
        {
          "output_type": "stream",
          "name": "stdout",
          "text": [
            "Saving at epoch 14\n",
            "Epoch: 14 | Total Training Loss: 4.319504737854004 | Pose Training Loss: 0.0361844077706337 | Action Training Loss: 0.7010629773139954 | Action Train Label Accuracy: 66.68012673168914\n"
          ]
        },
        {
          "output_type": "stream",
          "name": "stderr",
          "text": [
            "Testing =>: 100%|██████████| 10/10 [00:01<00:00,  6.38it/s]\n"
          ]
        },
        {
          "output_type": "stream",
          "name": "stdout",
          "text": [
            "Epoch: 14 | Total Testing Loss: 2.6182780265808105 | Pose Testing Loss: 0.019453896209597588 | Action Testing Loss: 0.672888457775116 | Action Test Label Accuracy: 73.91666666666666\n",
            "Starting EPOCH: 16 / 30\n"
          ]
        },
        {
          "output_type": "stream",
          "name": "stderr",
          "text": [
            "Training =>: 100%|██████████| 126/126 [00:21<00:00,  5.94it/s]\n"
          ]
        },
        {
          "output_type": "stream",
          "name": "stdout",
          "text": [
            "Saving at epoch 15\n",
            "Epoch: 15 | Total Training Loss: 4.178109645843506 | Pose Training Loss: 0.035056356340646744 | Action Training Loss: 0.6724737286567688 | Action Train Label Accuracy: 67.66788842641486\n"
          ]
        },
        {
          "output_type": "stream",
          "name": "stderr",
          "text": [
            "Testing =>: 100%|██████████| 10/10 [00:01<00:00,  5.75it/s]\n"
          ]
        },
        {
          "output_type": "stream",
          "name": "stdout",
          "text": [
            "Epoch: 15 | Total Testing Loss: 2.4883105754852295 | Pose Testing Loss: 0.018665360286831856 | Action Testing Loss: 0.6217744946479797 | Action Test Label Accuracy: 76.0\n",
            "Starting EPOCH: 17 / 30\n"
          ]
        },
        {
          "output_type": "stream",
          "name": "stderr",
          "text": [
            "Training =>: 100%|██████████| 126/126 [00:21<00:00,  5.98it/s]\n"
          ]
        },
        {
          "output_type": "stream",
          "name": "stdout",
          "text": [
            "Saving at epoch 16\n",
            "Epoch: 16 | Total Training Loss: 4.038969039916992 | Pose Training Loss: 0.03391425311565399 | Action Training Loss: 0.6475448608398438 | Action Train Label Accuracy: 68.63080077032988\n"
          ]
        },
        {
          "output_type": "stream",
          "name": "stderr",
          "text": [
            "Testing =>: 100%|██████████| 10/10 [00:01<00:00,  5.24it/s]\n"
          ]
        },
        {
          "output_type": "stream",
          "name": "stdout",
          "text": [
            "Epoch: 16 | Total Testing Loss: 2.3985111713409424 | Pose Testing Loss: 0.017758965492248535 | Action Testing Loss: 0.6226145625114441 | Action Test Label Accuracy: 73.83333333333333\n",
            "Starting EPOCH: 18 / 30\n"
          ]
        },
        {
          "output_type": "stream",
          "name": "stderr",
          "text": [
            "Training =>: 100%|██████████| 126/126 [00:20<00:00,  6.10it/s]\n"
          ]
        },
        {
          "output_type": "stream",
          "name": "stdout",
          "text": [
            "Saving at epoch 17\n",
            "Epoch: 17 | Total Training Loss: 3.9154207706451416 | Pose Training Loss: 0.032892126590013504 | Action Training Loss: 0.6262086033821106 | Action Train Label Accuracy: 69.35764428154314\n"
          ]
        },
        {
          "output_type": "stream",
          "name": "stderr",
          "text": [
            "Testing =>: 100%|██████████| 10/10 [00:01<00:00,  5.46it/s]\n"
          ]
        },
        {
          "output_type": "stream",
          "name": "stdout",
          "text": [
            "Epoch: 17 | Total Testing Loss: 2.2276904582977295 | Pose Testing Loss: 0.01650703139603138 | Action Testing Loss: 0.5769872069358826 | Action Test Label Accuracy: 77.41666666666667\n",
            "Starting EPOCH: 19 / 30\n"
          ]
        },
        {
          "output_type": "stream",
          "name": "stderr",
          "text": [
            "Training =>: 100%|██████████| 126/126 [00:21<00:00,  5.91it/s]\n"
          ]
        },
        {
          "output_type": "stream",
          "name": "stdout",
          "text": [
            "Saving at epoch 18\n",
            "Epoch: 18 | Total Training Loss: 3.7965006828308105 | Pose Training Loss: 0.03186830133199692 | Action Training Loss: 0.6096699833869934 | Action Train Label Accuracy: 69.87326831086537\n"
          ]
        },
        {
          "output_type": "stream",
          "name": "stderr",
          "text": [
            "Testing =>: 100%|██████████| 10/10 [00:01<00:00,  6.40it/s]\n"
          ]
        },
        {
          "output_type": "stream",
          "name": "stdout",
          "text": [
            "Epoch: 18 | Total Testing Loss: 2.0996041297912598 | Pose Testing Loss: 0.015541605651378632 | Action Testing Loss: 0.5454434752464294 | Action Test Label Accuracy: 77.91666666666667\n",
            "Starting EPOCH: 20 / 30\n"
          ]
        },
        {
          "output_type": "stream",
          "name": "stderr",
          "text": [
            "Training =>: 100%|██████████| 126/126 [00:21<00:00,  5.92it/s]\n"
          ]
        },
        {
          "output_type": "stream",
          "name": "stdout",
          "text": [
            "Saving at epoch 19\n",
            "Epoch: 19 | Total Training Loss: 3.678908586502075 | Pose Training Loss: 0.030897410586476326 | Action Training Loss: 0.5891678929328918 | Action Train Label Accuracy: 70.9169410449152\n"
          ]
        },
        {
          "output_type": "stream",
          "name": "stderr",
          "text": [
            "Testing =>: 100%|██████████| 10/10 [00:01<00:00,  5.86it/s]\n"
          ]
        },
        {
          "output_type": "stream",
          "name": "stdout",
          "text": [
            "Epoch: 19 | Total Testing Loss: 1.9624990224838257 | Pose Testing Loss: 0.014344505965709686 | Action Testing Loss: 0.5280483961105347 | Action Test Label Accuracy: 78.625\n",
            "Starting EPOCH: 21 / 30\n"
          ]
        },
        {
          "output_type": "stream",
          "name": "stderr",
          "text": [
            "Training =>: 100%|██████████| 126/126 [00:20<00:00,  6.16it/s]\n"
          ]
        },
        {
          "output_type": "stream",
          "name": "stdout",
          "text": [
            "Saving at epoch 20\n",
            "Epoch: 20 | Total Training Loss: 3.5707449913024902 | Pose Training Loss: 0.0299838799983263 | Action Training Loss: 0.5723558664321899 | Action Train Label Accuracy: 72.0475865068025\n"
          ]
        },
        {
          "output_type": "stream",
          "name": "stderr",
          "text": [
            "Testing =>: 100%|██████████| 10/10 [00:01<00:00,  5.08it/s]\n"
          ]
        },
        {
          "output_type": "stream",
          "name": "stdout",
          "text": [
            "Epoch: 20 | Total Testing Loss: 1.8845933675765991 | Pose Testing Loss: 0.01369071938097477 | Action Testing Loss: 0.5155217051506042 | Action Test Label Accuracy: 79.08333333333334\n",
            "Starting EPOCH: 22 / 30\n"
          ]
        },
        {
          "output_type": "stream",
          "name": "stderr",
          "text": [
            "Training =>: 100%|██████████| 126/126 [00:21<00:00,  5.84it/s]\n"
          ]
        },
        {
          "output_type": "stream",
          "name": "stdout",
          "text": [
            "Saving at epoch 21\n",
            "Epoch: 21 | Total Training Loss: 3.4543957710266113 | Pose Training Loss: 0.029015757143497467 | Action Training Loss: 0.5528197884559631 | Action Train Label Accuracy: 73.42051313909424\n"
          ]
        },
        {
          "output_type": "stream",
          "name": "stderr",
          "text": [
            "Testing =>: 100%|██████████| 10/10 [00:01<00:00,  6.22it/s]\n"
          ]
        },
        {
          "output_type": "stream",
          "name": "stdout",
          "text": [
            "Epoch: 21 | Total Testing Loss: 1.7582670450210571 | Pose Testing Loss: 0.01272787619382143 | Action Testing Loss: 0.4854795038700104 | Action Test Label Accuracy: 81.20833333333334\n",
            "Starting EPOCH: 23 / 30\n"
          ]
        },
        {
          "output_type": "stream",
          "name": "stderr",
          "text": [
            "Training =>: 100%|██████████| 126/126 [00:21<00:00,  5.91it/s]\n"
          ]
        },
        {
          "output_type": "stream",
          "name": "stdout",
          "text": [
            "Saving at epoch 22\n",
            "Epoch: 22 | Total Training Loss: 3.352302074432373 | Pose Training Loss: 0.02816575951874256 | Action Training Loss: 0.5357258915901184 | Action Train Label Accuracy: 74.80897061564266\n"
          ]
        },
        {
          "output_type": "stream",
          "name": "stderr",
          "text": [
            "Testing =>: 100%|██████████| 10/10 [00:01<00:00,  6.00it/s]\n"
          ]
        },
        {
          "output_type": "stream",
          "name": "stdout",
          "text": [
            "Epoch: 22 | Total Testing Loss: 1.6530998945236206 | Pose Testing Loss: 0.01198518555611372 | Action Testing Loss: 0.45458149909973145 | Action Test Label Accuracy: 85.70833333333333\n",
            "Starting EPOCH: 24 / 30\n"
          ]
        },
        {
          "output_type": "stream",
          "name": "stderr",
          "text": [
            "Training =>: 100%|██████████| 126/126 [00:21<00:00,  5.99it/s]\n"
          ]
        },
        {
          "output_type": "stream",
          "name": "stdout",
          "text": [
            "Saving at epoch 23\n",
            "Epoch: 23 | Total Training Loss: 3.244232416152954 | Pose Training Loss: 0.027304669842123985 | Action Training Loss: 0.5137646794319153 | Action Train Label Accuracy: 76.80313101820215\n"
          ]
        },
        {
          "output_type": "stream",
          "name": "stderr",
          "text": [
            "Testing =>: 100%|██████████| 10/10 [00:01<00:00,  6.20it/s]\n"
          ]
        },
        {
          "output_type": "stream",
          "name": "stdout",
          "text": [
            "Epoch: 23 | Total Testing Loss: 1.56304132938385 | Pose Testing Loss: 0.011284707114100456 | Action Testing Loss: 0.43457069993019104 | Action Test Label Accuracy: 84.625\n",
            "Starting EPOCH: 25 / 30\n"
          ]
        },
        {
          "output_type": "stream",
          "name": "stderr",
          "text": [
            "Training =>: 100%|██████████| 126/126 [00:21<00:00,  5.95it/s]\n"
          ]
        },
        {
          "output_type": "stream",
          "name": "stdout",
          "text": [
            "Saving at epoch 24\n",
            "Epoch: 24 | Total Training Loss: 3.143807888031006 | Pose Training Loss: 0.026554804295301437 | Action Training Loss: 0.48832690715789795 | Action Train Label Accuracy: 78.36553395042554\n"
          ]
        },
        {
          "output_type": "stream",
          "name": "stderr",
          "text": [
            "Testing =>: 100%|██████████| 10/10 [00:01<00:00,  6.43it/s]\n"
          ]
        },
        {
          "output_type": "stream",
          "name": "stdout",
          "text": [
            "Epoch: 24 | Total Testing Loss: 1.4566868543624878 | Pose Testing Loss: 0.010593350976705551 | Action Testing Loss: 0.39735159277915955 | Action Test Label Accuracy: 88.70833333333333\n",
            "Starting EPOCH: 26 / 30\n"
          ]
        },
        {
          "output_type": "stream",
          "name": "stderr",
          "text": [
            "Training =>: 100%|██████████| 126/126 [00:21<00:00,  5.93it/s]\n"
          ]
        },
        {
          "output_type": "stream",
          "name": "stdout",
          "text": [
            "Saving at epoch 25\n",
            "Epoch: 25 | Total Training Loss: 3.0398330688476562 | Pose Training Loss: 0.025769824162125587 | Action Training Loss: 0.46284911036491394 | Action Train Label Accuracy: 79.965210908865\n"
          ]
        },
        {
          "output_type": "stream",
          "name": "stderr",
          "text": [
            "Testing =>: 100%|██████████| 10/10 [00:01<00:00,  6.18it/s]\n"
          ]
        },
        {
          "output_type": "stream",
          "name": "stdout",
          "text": [
            "Epoch: 25 | Total Testing Loss: 1.41031014919281 | Pose Testing Loss: 0.010293652303516865 | Action Testing Loss: 0.3809449374675751 | Action Test Label Accuracy: 86.79166666666667\n",
            "Starting EPOCH: 27 / 30\n"
          ]
        },
        {
          "output_type": "stream",
          "name": "stderr",
          "text": [
            "Training =>: 100%|██████████| 126/126 [00:21<00:00,  5.79it/s]\n"
          ]
        },
        {
          "output_type": "stream",
          "name": "stdout",
          "text": [
            "Saving at epoch 26\n",
            "Epoch: 26 | Total Training Loss: 2.9510278701782227 | Pose Training Loss: 0.02514844387769699 | Action Training Loss: 0.4361836910247803 | Action Train Label Accuracy: 81.85686773933031\n"
          ]
        },
        {
          "output_type": "stream",
          "name": "stderr",
          "text": [
            "Testing =>: 100%|██████████| 10/10 [00:01<00:00,  6.21it/s]\n"
          ]
        },
        {
          "output_type": "stream",
          "name": "stdout",
          "text": [
            "Epoch: 26 | Total Testing Loss: 1.3308981657028198 | Pose Testing Loss: 0.009875102899968624 | Action Testing Loss: 0.3433879017829895 | Action Test Label Accuracy: 89.95833333333333\n",
            "Starting EPOCH: 28 / 30\n"
          ]
        },
        {
          "output_type": "stream",
          "name": "stderr",
          "text": [
            "Training =>: 100%|██████████| 126/126 [00:20<00:00,  6.10it/s]\n"
          ]
        },
        {
          "output_type": "stream",
          "name": "stdout",
          "text": [
            "Saving at epoch 27\n",
            "Epoch: 27 | Total Training Loss: 2.865375280380249 | Pose Training Loss: 0.024542605504393578 | Action Training Loss: 0.4111143946647644 | Action Train Label Accuracy: 83.25153755358141\n"
          ]
        },
        {
          "output_type": "stream",
          "name": "stderr",
          "text": [
            "Testing =>: 100%|██████████| 10/10 [00:02<00:00,  4.51it/s]\n"
          ]
        },
        {
          "output_type": "stream",
          "name": "stdout",
          "text": [
            "Epoch: 27 | Total Testing Loss: 1.2284334897994995 | Pose Testing Loss: 0.009261858649551868 | Action Testing Loss: 0.3022475838661194 | Action Test Label Accuracy: 92.45833333333333\n",
            "Starting EPOCH: 29 / 30\n"
          ]
        },
        {
          "output_type": "stream",
          "name": "stderr",
          "text": [
            "Training =>: 100%|██████████| 126/126 [00:19<00:00,  6.31it/s]\n"
          ]
        },
        {
          "output_type": "stream",
          "name": "stdout",
          "text": [
            "Saving at epoch 28\n",
            "Epoch: 28 | Total Training Loss: 2.7746057510375977 | Pose Training Loss: 0.023917444050312042 | Action Training Loss: 0.38286271691322327 | Action Train Label Accuracy: 84.87606386283159\n"
          ]
        },
        {
          "output_type": "stream",
          "name": "stderr",
          "text": [
            "Testing =>: 100%|██████████| 10/10 [00:01<00:00,  5.91it/s]\n"
          ]
        },
        {
          "output_type": "stream",
          "name": "stdout",
          "text": [
            "Epoch: 28 | Total Testing Loss: 1.159064769744873 | Pose Testing Loss: 0.008857653476297855 | Action Testing Loss: 0.2732994258403778 | Action Test Label Accuracy: 94.20833333333334\n",
            "Starting EPOCH: 30 / 30\n"
          ]
        },
        {
          "output_type": "stream",
          "name": "stderr",
          "text": [
            "Training =>: 100%|██████████| 126/126 [00:21<00:00,  5.85it/s]\n"
          ]
        },
        {
          "output_type": "stream",
          "name": "stdout",
          "text": [
            "Saving at epoch 29\n",
            "Epoch: 29 | Total Training Loss: 2.6875386238098145 | Pose Training Loss: 0.02336752787232399 | Action Training Loss: 0.35078567266464233 | Action Train Label Accuracy: 86.81120705721564\n"
          ]
        },
        {
          "output_type": "stream",
          "name": "stderr",
          "text": [
            "Testing =>: 100%|██████████| 10/10 [00:01<00:00,  5.61it/s]\n"
          ]
        },
        {
          "output_type": "stream",
          "name": "stdout",
          "text": [
            "Epoch: 29 | Total Testing Loss: 1.0730615854263306 | Pose Testing Loss: 0.00841727014631033 | Action Testing Loss: 0.23133455216884613 | Action Test Label Accuracy: 95.75\n"
          ]
        },
        {
          "output_type": "display_data",
          "data": {
            "text/plain": [
              "<Figure size 640x480 with 0 Axes>"
            ]
          },
          "metadata": {}
        }
      ]
    },
    {
      "cell_type": "markdown",
      "source": [
        "TAG training\n"
      ],
      "metadata": {
        "id": "B9zYt-trPMR2"
      }
    },
    {
      "cell_type": "code",
      "source": [
        "from src.simple_pose_tag.train_and_test import training_loop\n",
        "from argparse import Namespace\n",
        "import os\n",
        "from datetime import datetime\n",
        "timestamp = datetime.now().strftime(\"%Y-%m-%d--%H-%M-%S\")\n",
        "\n",
        "args_dict = {\n",
        "    'learning_rate': 3e-5,\n",
        "    'num_epochs': 30,\n",
        "    'batch_size': 256,\n",
        "    'action_loss_multiplier': 1,\n",
        "    'pose_loss_multiplier': 100,\n",
        "    'training_2d_data_path': os.path.join('datasets', 'custom', 'Processed', 'train_2d_poses.npy'),\n",
        "    'training_3d_data_path': os.path.join('datasets', 'custom', 'Processed', 'train_3d_poses.npy'),\n",
        "    'training_label_path': os.path.join('datasets', 'custom', 'Processed', 'train_actions.npy'),\n",
        "    'testing_2d_data_path': os.path.join('datasets', 'custom', 'Processed', 'test_2d_poses.npy'),\n",
        "    'testing_3d_data_path': os.path.join('datasets', 'custom', 'Processed', 'test_3d_poses.npy'),\n",
        "    'testing_label_path': os.path.join('datasets', 'custom', 'Processed', 'test_actions.npy'),\n",
        "    'save_path': os.path.join('model_outputs', 'simple_pose_tag_custom', timestamp)\n",
        "}\n",
        "args = Namespace(**args_dict)\n",
        "training_loop(args)\n",
        "\n"
      ],
      "metadata": {
        "colab": {
          "base_uri": "https://localhost:8080/",
          "height": 1000
        },
        "id": "7k8frUJAOu68",
        "outputId": "94a6fc99-72a6-4586-ed24-a6c52271fda3"
      },
      "execution_count": 7,
      "outputs": [
        {
          "output_type": "stream",
          "name": "stdout",
          "text": [
            "Training args are: Namespace(learning_rate=3e-05, num_epochs=30, batch_size=256, action_loss_multiplier=1, pose_loss_multiplier=100, training_2d_data_path='datasets/custom/Processed/train_2d_poses.npy', training_3d_data_path='datasets/custom/Processed/train_3d_poses.npy', training_label_path='datasets/custom/Processed/train_actions.npy', testing_2d_data_path='datasets/custom/Processed/test_2d_poses.npy', testing_3d_data_path='datasets/custom/Processed/test_3d_poses.npy', testing_label_path='datasets/custom/Processed/test_actions.npy', save_path='model_outputs/simple_pose_tag_custom/2024-11-17--08-51-33')\n",
            "Starting EPOCH: 1 / 30\n"
          ]
        },
        {
          "output_type": "stream",
          "name": "stderr",
          "text": [
            "Training =>: 100%|██████████| 126/126 [00:24<00:00,  5.16it/s]\n"
          ]
        },
        {
          "output_type": "stream",
          "name": "stdout",
          "text": [
            "Saving at epoch 0\n",
            "Epoch: 0 | Total Training Loss: 24.604963302612305 | Pose Training Loss: 0.22997219860553741 | Action Training Loss: 1.6077426671981812 | Action Train Label Accuracy: 24.485929055103437\n"
          ]
        },
        {
          "output_type": "stream",
          "name": "stderr",
          "text": [
            "Testing =>: 100%|██████████| 10/10 [00:01<00:00,  5.55it/s]\n"
          ]
        },
        {
          "output_type": "stream",
          "name": "stdout",
          "text": [
            "Epoch: 0 | Total Testing Loss: 5.861079216003418 | Pose Testing Loss: 0.04376217722892761 | Action Testing Loss: 1.4848613739013672 | Action Test Label Accuracy: 40.0\n",
            "Starting EPOCH: 2 / 30\n"
          ]
        },
        {
          "output_type": "stream",
          "name": "stderr",
          "text": [
            "Training =>: 100%|██████████| 126/126 [00:24<00:00,  5.08it/s]\n"
          ]
        },
        {
          "output_type": "stream",
          "name": "stdout",
          "text": [
            "Saving at epoch 1\n",
            "Epoch: 1 | Total Training Loss: 12.097752571105957 | Pose Training Loss: 0.10659296065568924 | Action Training Loss: 1.4384592771530151 | Action Train Label Accuracy: 36.643473939243336\n"
          ]
        },
        {
          "output_type": "stream",
          "name": "stderr",
          "text": [
            "Testing =>: 100%|██████████| 10/10 [00:01<00:00,  5.55it/s]\n"
          ]
        },
        {
          "output_type": "stream",
          "name": "stdout",
          "text": [
            "Epoch: 1 | Total Testing Loss: 4.9486002922058105 | Pose Testing Loss: 0.03675764799118042 | Action Testing Loss: 1.272835612297058 | Action Test Label Accuracy: 45.83333333333333\n",
            "Starting EPOCH: 3 / 30\n"
          ]
        },
        {
          "output_type": "stream",
          "name": "stderr",
          "text": [
            "Training =>: 100%|██████████| 126/126 [00:25<00:00,  4.88it/s]\n"
          ]
        },
        {
          "output_type": "stream",
          "name": "stdout",
          "text": [
            "Saving at epoch 2\n",
            "Epoch: 2 | Total Training Loss: 8.253189086914062 | Pose Training Loss: 0.0698033794760704 | Action Training Loss: 1.2728521823883057 | Action Train Label Accuracy: 42.52966391253029\n"
          ]
        },
        {
          "output_type": "stream",
          "name": "stderr",
          "text": [
            "Testing =>: 100%|██████████| 10/10 [00:01<00:00,  5.46it/s]\n"
          ]
        },
        {
          "output_type": "stream",
          "name": "stdout",
          "text": [
            "Epoch: 2 | Total Testing Loss: 4.672059535980225 | Pose Testing Loss: 0.03508434817194939 | Action Testing Loss: 1.1636245250701904 | Action Test Label Accuracy: 58.62500000000001\n",
            "Starting EPOCH: 4 / 30\n"
          ]
        },
        {
          "output_type": "stream",
          "name": "stderr",
          "text": [
            "Training =>: 100%|██████████| 126/126 [00:25<00:00,  5.04it/s]\n"
          ]
        },
        {
          "output_type": "stream",
          "name": "stdout",
          "text": [
            "Saving at epoch 3\n",
            "Epoch: 3 | Total Training Loss: 6.816596508026123 | Pose Training Loss: 0.05628381669521332 | Action Training Loss: 1.1882131099700928 | Action Train Label Accuracy: 45.01770516245263\n"
          ]
        },
        {
          "output_type": "stream",
          "name": "stderr",
          "text": [
            "Testing =>: 100%|██████████| 10/10 [00:01<00:00,  5.50it/s]\n"
          ]
        },
        {
          "output_type": "stream",
          "name": "stdout",
          "text": [
            "Epoch: 3 | Total Testing Loss: 4.427868843078613 | Pose Testing Loss: 0.03301572427153587 | Action Testing Loss: 1.1262962818145752 | Action Test Label Accuracy: 61.291666666666664\n",
            "Starting EPOCH: 5 / 30\n"
          ]
        },
        {
          "output_type": "stream",
          "name": "stderr",
          "text": [
            "Training =>: 100%|██████████| 126/126 [00:25<00:00,  4.97it/s]\n"
          ]
        },
        {
          "output_type": "stream",
          "name": "stdout",
          "text": [
            "Saving at epoch 4\n",
            "Epoch: 4 | Total Training Loss: 6.130388259887695 | Pose Training Loss: 0.049892768263816833 | Action Training Loss: 1.141111135482788 | Action Train Label Accuracy: 46.57700192582469\n"
          ]
        },
        {
          "output_type": "stream",
          "name": "stderr",
          "text": [
            "Testing =>: 100%|██████████| 10/10 [00:01<00:00,  5.20it/s]\n"
          ]
        },
        {
          "output_type": "stream",
          "name": "stdout",
          "text": [
            "Epoch: 4 | Total Testing Loss: 4.177281379699707 | Pose Testing Loss: 0.030838200822472572 | Action Testing Loss: 1.0934619903564453 | Action Test Label Accuracy: 65.79166666666667\n",
            "Starting EPOCH: 6 / 30\n"
          ]
        },
        {
          "output_type": "stream",
          "name": "stderr",
          "text": [
            "Training =>: 100%|██████████| 126/126 [00:24<00:00,  5.07it/s]\n"
          ]
        },
        {
          "output_type": "stream",
          "name": "stdout",
          "text": [
            "Saving at epoch 5\n",
            "Epoch: 5 | Total Training Loss: 5.700883865356445 | Pose Training Loss: 0.04592260718345642 | Action Training Loss: 1.1086233854293823 | Action Train Label Accuracy: 48.875566875815366\n"
          ]
        },
        {
          "output_type": "stream",
          "name": "stderr",
          "text": [
            "Testing =>: 100%|██████████| 10/10 [00:02<00:00,  4.57it/s]\n"
          ]
        },
        {
          "output_type": "stream",
          "name": "stdout",
          "text": [
            "Epoch: 5 | Total Testing Loss: 4.001275539398193 | Pose Testing Loss: 0.029452184215188026 | Action Testing Loss: 1.0560569763183594 | Action Test Label Accuracy: 67.125\n",
            "Starting EPOCH: 7 / 30\n"
          ]
        },
        {
          "output_type": "stream",
          "name": "stderr",
          "text": [
            "Training =>: 100%|██████████| 126/126 [00:25<00:00,  5.01it/s]\n"
          ]
        },
        {
          "output_type": "stream",
          "name": "stdout",
          "text": [
            "Saving at epoch 6\n",
            "Epoch: 6 | Total Training Loss: 5.380367755889893 | Pose Training Loss: 0.04306160286068916 | Action Training Loss: 1.0742082595825195 | Action Train Label Accuracy: 51.79225942722246\n"
          ]
        },
        {
          "output_type": "stream",
          "name": "stderr",
          "text": [
            "Testing =>: 100%|██████████| 10/10 [00:02<00:00,  4.89it/s]\n"
          ]
        },
        {
          "output_type": "stream",
          "name": "stdout",
          "text": [
            "Epoch: 6 | Total Testing Loss: 3.7552459239959717 | Pose Testing Loss: 0.027385283261537552 | Action Testing Loss: 1.0167179107666016 | Action Test Label Accuracy: 71.125\n",
            "Starting EPOCH: 8 / 30\n"
          ]
        },
        {
          "output_type": "stream",
          "name": "stderr",
          "text": [
            "Training =>: 100%|██████████| 126/126 [00:24<00:00,  5.15it/s]\n"
          ]
        },
        {
          "output_type": "stream",
          "name": "stdout",
          "text": [
            "Saving at epoch 7\n",
            "Epoch: 7 | Total Training Loss: 5.102537155151367 | Pose Training Loss: 0.04067090153694153 | Action Training Loss: 1.0354468822479248 | Action Train Label Accuracy: 54.556749704913955\n"
          ]
        },
        {
          "output_type": "stream",
          "name": "stderr",
          "text": [
            "Testing =>: 100%|██████████| 10/10 [00:02<00:00,  4.42it/s]\n"
          ]
        },
        {
          "output_type": "stream",
          "name": "stdout",
          "text": [
            "Epoch: 7 | Total Testing Loss: 3.521557331085205 | Pose Testing Loss: 0.025540530681610107 | Action Testing Loss: 0.9675043225288391 | Action Test Label Accuracy: 74.25\n",
            "Starting EPOCH: 9 / 30\n"
          ]
        },
        {
          "output_type": "stream",
          "name": "stderr",
          "text": [
            "Training =>: 100%|██████████| 126/126 [00:25<00:00,  4.99it/s]\n"
          ]
        },
        {
          "output_type": "stream",
          "name": "stdout",
          "text": [
            "Saving at epoch 8\n",
            "Epoch: 8 | Total Training Loss: 4.829096794128418 | Pose Training Loss: 0.03849945589900017 | Action Training Loss: 0.9791510701179504 | Action Train Label Accuracy: 58.74075914766726\n"
          ]
        },
        {
          "output_type": "stream",
          "name": "stderr",
          "text": [
            "Testing =>: 100%|██████████| 10/10 [00:02<00:00,  4.41it/s]\n"
          ]
        },
        {
          "output_type": "stream",
          "name": "stdout",
          "text": [
            "Epoch: 8 | Total Testing Loss: 3.2820236682891846 | Pose Testing Loss: 0.023879364132881165 | Action Testing Loss: 0.8940872550010681 | Action Test Label Accuracy: 72.91666666666666\n",
            "Starting EPOCH: 10 / 30\n"
          ]
        },
        {
          "output_type": "stream",
          "name": "stderr",
          "text": [
            "Training =>: 100%|██████████| 126/126 [00:25<00:00,  5.00it/s]\n"
          ]
        },
        {
          "output_type": "stream",
          "name": "stdout",
          "text": [
            "Saving at epoch 9\n",
            "Epoch: 9 | Total Training Loss: 4.539920806884766 | Pose Training Loss: 0.03640567883849144 | Action Training Loss: 0.8993526101112366 | Action Train Label Accuracy: 63.281978008324536\n"
          ]
        },
        {
          "output_type": "stream",
          "name": "stderr",
          "text": [
            "Testing =>: 100%|██████████| 10/10 [00:01<00:00,  5.10it/s]\n"
          ]
        },
        {
          "output_type": "stream",
          "name": "stdout",
          "text": [
            "Epoch: 9 | Total Testing Loss: 2.9344980716705322 | Pose Testing Loss: 0.021476266905665398 | Action Testing Loss: 0.7868713140487671 | Action Test Label Accuracy: 78.0\n",
            "Starting EPOCH: 11 / 30\n"
          ]
        },
        {
          "output_type": "stream",
          "name": "stderr",
          "text": [
            "Training =>: 100%|██████████| 126/126 [00:24<00:00,  5.05it/s]\n"
          ]
        },
        {
          "output_type": "stream",
          "name": "stdout",
          "text": [
            "Saving at epoch 10\n",
            "Epoch: 10 | Total Training Loss: 4.264094352722168 | Pose Training Loss: 0.03446154296398163 | Action Training Loss: 0.8179416656494141 | Action Train Label Accuracy: 66.40678387277133\n"
          ]
        },
        {
          "output_type": "stream",
          "name": "stderr",
          "text": [
            "Testing =>: 100%|██████████| 10/10 [00:02<00:00,  4.88it/s]\n"
          ]
        },
        {
          "output_type": "stream",
          "name": "stdout",
          "text": [
            "Epoch: 10 | Total Testing Loss: 2.628223419189453 | Pose Testing Loss: 0.019357552751898766 | Action Testing Loss: 0.6924678087234497 | Action Test Label Accuracy: 78.25\n",
            "Starting EPOCH: 12 / 30\n"
          ]
        },
        {
          "output_type": "stream",
          "name": "stderr",
          "text": [
            "Training =>: 100%|██████████| 126/126 [00:24<00:00,  5.16it/s]\n"
          ]
        },
        {
          "output_type": "stream",
          "name": "stdout",
          "text": [
            "Saving at epoch 11\n",
            "Epoch: 11 | Total Training Loss: 4.004626274108887 | Pose Training Loss: 0.03265868127346039 | Action Training Loss: 0.7387587428092957 | Action Train Label Accuracy: 68.5438280424924\n"
          ]
        },
        {
          "output_type": "stream",
          "name": "stderr",
          "text": [
            "Testing =>: 100%|██████████| 10/10 [00:02<00:00,  4.90it/s]\n"
          ]
        },
        {
          "output_type": "stream",
          "name": "stdout",
          "text": [
            "Epoch: 11 | Total Testing Loss: 2.3730692863464355 | Pose Testing Loss: 0.017610684037208557 | Action Testing Loss: 0.6120006442070007 | Action Test Label Accuracy: 79.08333333333334\n",
            "Starting EPOCH: 13 / 30\n"
          ]
        },
        {
          "output_type": "stream",
          "name": "stderr",
          "text": [
            "Training =>: 100%|██████████| 126/126 [00:25<00:00,  4.93it/s]\n"
          ]
        },
        {
          "output_type": "stream",
          "name": "stdout",
          "text": [
            "Saving at epoch 12\n",
            "Epoch: 12 | Total Training Loss: 3.781144142150879 | Pose Training Loss: 0.031034525483846664 | Action Training Loss: 0.6776904463768005 | Action Train Label Accuracy: 70.24600857302603\n"
          ]
        },
        {
          "output_type": "stream",
          "name": "stderr",
          "text": [
            "Testing =>: 100%|██████████| 10/10 [00:01<00:00,  5.26it/s]\n"
          ]
        },
        {
          "output_type": "stream",
          "name": "stdout",
          "text": [
            "Epoch: 12 | Total Testing Loss: 2.1424129009246826 | Pose Testing Loss: 0.01594742387533188 | Action Testing Loss: 0.5476707220077515 | Action Test Label Accuracy: 79.625\n",
            "Starting EPOCH: 14 / 30\n"
          ]
        },
        {
          "output_type": "stream",
          "name": "stderr",
          "text": [
            "Training =>: 100%|██████████| 126/126 [00:25<00:00,  4.94it/s]\n"
          ]
        },
        {
          "output_type": "stream",
          "name": "stdout",
          "text": [
            "Saving at epoch 13\n",
            "Epoch: 13 | Total Training Loss: 3.5937533378601074 | Pose Training Loss: 0.029595455154776573 | Action Training Loss: 0.6342069506645203 | Action Train Label Accuracy: 71.40150338572406\n"
          ]
        },
        {
          "output_type": "stream",
          "name": "stderr",
          "text": [
            "Testing =>: 100%|██████████| 10/10 [00:01<00:00,  5.18it/s]\n"
          ]
        },
        {
          "output_type": "stream",
          "name": "stdout",
          "text": [
            "Epoch: 13 | Total Testing Loss: 1.985192894935608 | Pose Testing Loss: 0.014636816456913948 | Action Testing Loss: 0.5215112566947937 | Action Test Label Accuracy: 79.33333333333333\n",
            "Starting EPOCH: 15 / 30\n"
          ]
        },
        {
          "output_type": "stream",
          "name": "stderr",
          "text": [
            "Training =>: 100%|██████████| 126/126 [00:25<00:00,  4.89it/s]\n"
          ]
        },
        {
          "output_type": "stream",
          "name": "stdout",
          "text": [
            "Saving at epoch 14\n",
            "Epoch: 14 | Total Training Loss: 3.4012482166290283 | Pose Training Loss: 0.02809671126306057 | Action Training Loss: 0.5915773510932922 | Action Train Label Accuracy: 73.24967385227062\n"
          ]
        },
        {
          "output_type": "stream",
          "name": "stderr",
          "text": [
            "Testing =>: 100%|██████████| 10/10 [00:01<00:00,  5.33it/s]\n"
          ]
        },
        {
          "output_type": "stream",
          "name": "stdout",
          "text": [
            "Epoch: 14 | Total Testing Loss: 1.801714539527893 | Pose Testing Loss: 0.013378671370446682 | Action Testing Loss: 0.46384739875793457 | Action Test Label Accuracy: 81.29166666666666\n",
            "Starting EPOCH: 16 / 30\n"
          ]
        },
        {
          "output_type": "stream",
          "name": "stderr",
          "text": [
            "Training =>: 100%|██████████| 126/126 [00:25<00:00,  4.92it/s]\n"
          ]
        },
        {
          "output_type": "stream",
          "name": "stdout",
          "text": [
            "Saving at epoch 15\n",
            "Epoch: 15 | Total Training Loss: 3.228895664215088 | Pose Training Loss: 0.026718586683273315 | Action Training Loss: 0.557037889957428 | Action Train Label Accuracy: 75.38982419084302\n"
          ]
        },
        {
          "output_type": "stream",
          "name": "stderr",
          "text": [
            "Testing =>: 100%|██████████| 10/10 [00:02<00:00,  4.97it/s]\n"
          ]
        },
        {
          "output_type": "stream",
          "name": "stdout",
          "text": [
            "Epoch: 15 | Total Testing Loss: 1.6028164625167847 | Pose Testing Loss: 0.01179039478302002 | Action Testing Loss: 0.4237770140171051 | Action Test Label Accuracy: 82.625\n",
            "Starting EPOCH: 17 / 30\n"
          ]
        },
        {
          "output_type": "stream",
          "name": "stderr",
          "text": [
            "Training =>: 100%|██████████| 126/126 [00:24<00:00,  5.05it/s]\n"
          ]
        },
        {
          "output_type": "stream",
          "name": "stdout",
          "text": [
            "Saving at epoch 16\n",
            "Epoch: 16 | Total Training Loss: 3.0400192737579346 | Pose Training Loss: 0.025258399546146393 | Action Training Loss: 0.5141792297363281 | Action Train Label Accuracy: 78.53637323724918\n"
          ]
        },
        {
          "output_type": "stream",
          "name": "stderr",
          "text": [
            "Testing =>: 100%|██████████| 10/10 [00:02<00:00,  4.83it/s]\n"
          ]
        },
        {
          "output_type": "stream",
          "name": "stdout",
          "text": [
            "Epoch: 16 | Total Testing Loss: 1.543251395225525 | Pose Testing Loss: 0.011270416900515556 | Action Testing Loss: 0.41620951890945435 | Action Test Label Accuracy: 82.45833333333333\n",
            "Starting EPOCH: 18 / 30\n"
          ]
        },
        {
          "output_type": "stream",
          "name": "stderr",
          "text": [
            "Training =>: 100%|██████████| 126/126 [00:24<00:00,  5.05it/s]\n"
          ]
        },
        {
          "output_type": "stream",
          "name": "stdout",
          "text": [
            "Saving at epoch 17\n",
            "Epoch: 17 | Total Training Loss: 2.8731439113616943 | Pose Training Loss: 0.024078819900751114 | Action Training Loss: 0.4652617573738098 | Action Train Label Accuracy: 81.94073429831646\n"
          ]
        },
        {
          "output_type": "stream",
          "name": "stderr",
          "text": [
            "Testing =>: 100%|██████████| 10/10 [00:02<00:00,  4.71it/s]\n"
          ]
        },
        {
          "output_type": "stream",
          "name": "stdout",
          "text": [
            "Epoch: 17 | Total Testing Loss: 1.3423446416854858 | Pose Testing Loss: 0.009921792894601822 | Action Testing Loss: 0.3501652181148529 | Action Test Label Accuracy: 87.625\n",
            "Starting EPOCH: 19 / 30\n"
          ]
        },
        {
          "output_type": "stream",
          "name": "stderr",
          "text": [
            "Training =>: 100%|██████████| 126/126 [00:24<00:00,  5.15it/s]\n"
          ]
        },
        {
          "output_type": "stream",
          "name": "stdout",
          "text": [
            "Saving at epoch 18\n",
            "Epoch: 18 | Total Training Loss: 2.7040860652923584 | Pose Training Loss: 0.023028358817100525 | Action Training Loss: 0.40125027298927307 | Action Train Label Accuracy: 86.01292166242158\n"
          ]
        },
        {
          "output_type": "stream",
          "name": "stderr",
          "text": [
            "Testing =>: 100%|██████████| 10/10 [00:02<00:00,  4.35it/s]\n"
          ]
        },
        {
          "output_type": "stream",
          "name": "stdout",
          "text": [
            "Epoch: 18 | Total Testing Loss: 1.306970477104187 | Pose Testing Loss: 0.009735936298966408 | Action Testing Loss: 0.33337685465812683 | Action Test Label Accuracy: 89.08333333333334\n",
            "Starting EPOCH: 20 / 30\n"
          ]
        },
        {
          "output_type": "stream",
          "name": "stderr",
          "text": [
            "Training =>: 100%|██████████| 126/126 [00:24<00:00,  5.06it/s]\n"
          ]
        },
        {
          "output_type": "stream",
          "name": "stdout",
          "text": [
            "Saving at epoch 19\n",
            "Epoch: 19 | Total Training Loss: 2.5368576049804688 | Pose Training Loss: 0.02221865765750408 | Action Training Loss: 0.3149925172328949 | Action Train Label Accuracy: 90.63490091321364\n"
          ]
        },
        {
          "output_type": "stream",
          "name": "stderr",
          "text": [
            "Testing =>: 100%|██████████| 10/10 [00:02<00:00,  4.33it/s]\n"
          ]
        },
        {
          "output_type": "stream",
          "name": "stdout",
          "text": [
            "Epoch: 19 | Total Testing Loss: 1.0858885049819946 | Pose Testing Loss: 0.008921866305172443 | Action Testing Loss: 0.19370190799236298 | Action Test Label Accuracy: 94.58333333333333\n",
            "Starting EPOCH: 21 / 30\n"
          ]
        },
        {
          "output_type": "stream",
          "name": "stderr",
          "text": [
            "Training =>: 100%|██████████| 126/126 [00:25<00:00,  5.00it/s]\n"
          ]
        },
        {
          "output_type": "stream",
          "name": "stdout",
          "text": [
            "Saving at epoch 20\n",
            "Epoch: 20 | Total Training Loss: 2.392704486846924 | Pose Training Loss: 0.021417217329144478 | Action Training Loss: 0.2509821653366089 | Action Train Label Accuracy: 93.13847300739269\n"
          ]
        },
        {
          "output_type": "stream",
          "name": "stderr",
          "text": [
            "Testing =>: 100%|██████████| 10/10 [00:01<00:00,  5.16it/s]\n"
          ]
        },
        {
          "output_type": "stream",
          "name": "stdout",
          "text": [
            "Epoch: 20 | Total Testing Loss: 1.085976481437683 | Pose Testing Loss: 0.008648441173136234 | Action Testing Loss: 0.22113235294818878 | Action Test Label Accuracy: 90.33333333333333\n",
            "Starting EPOCH: 22 / 30\n"
          ]
        },
        {
          "output_type": "stream",
          "name": "stderr",
          "text": [
            "Training =>: 100%|██████████| 126/126 [00:25<00:00,  5.03it/s]\n"
          ]
        },
        {
          "output_type": "stream",
          "name": "stdout",
          "text": [
            "Saving at epoch 21\n",
            "Epoch: 21 | Total Training Loss: 2.2785274982452393 | Pose Training Loss: 0.020735878497362137 | Action Training Loss: 0.20493939518928528 | Action Train Label Accuracy: 94.56731067900851\n"
          ]
        },
        {
          "output_type": "stream",
          "name": "stderr",
          "text": [
            "Testing =>: 100%|██████████| 10/10 [00:02<00:00,  4.81it/s]\n"
          ]
        },
        {
          "output_type": "stream",
          "name": "stdout",
          "text": [
            "Epoch: 21 | Total Testing Loss: 0.8280550241470337 | Pose Testing Loss: 0.0074910991825163364 | Action Testing Loss: 0.07894500344991684 | Action Test Label Accuracy: 98.45833333333334\n",
            "Starting EPOCH: 23 / 30\n"
          ]
        },
        {
          "output_type": "stream",
          "name": "stderr",
          "text": [
            "Training =>: 100%|██████████| 126/126 [00:25<00:00,  4.95it/s]\n"
          ]
        },
        {
          "output_type": "stream",
          "name": "stdout",
          "text": [
            "Saving at epoch 22\n",
            "Epoch: 22 | Total Training Loss: 2.182511806488037 | Pose Training Loss: 0.020160475745797157 | Action Training Loss: 0.166464701294899 | Action Train Label Accuracy: 95.86879542771946\n"
          ]
        },
        {
          "output_type": "stream",
          "name": "stderr",
          "text": [
            "Testing =>: 100%|██████████| 10/10 [00:02<00:00,  4.92it/s]\n"
          ]
        },
        {
          "output_type": "stream",
          "name": "stdout",
          "text": [
            "Epoch: 22 | Total Testing Loss: 0.7566310167312622 | Pose Testing Loss: 0.006961257662624121 | Action Testing Loss: 0.06050524115562439 | Action Test Label Accuracy: 99.16666666666667\n",
            "Starting EPOCH: 24 / 30\n"
          ]
        },
        {
          "output_type": "stream",
          "name": "stderr",
          "text": [
            "Training =>: 100%|██████████| 126/126 [00:25<00:00,  4.91it/s]\n"
          ]
        },
        {
          "output_type": "stream",
          "name": "stdout",
          "text": [
            "Saving at epoch 23\n",
            "Epoch: 23 | Total Training Loss: 2.095309257507324 | Pose Training Loss: 0.019559187814593315 | Action Training Loss: 0.13939037919044495 | Action Train Label Accuracy: 96.72609803068895\n"
          ]
        },
        {
          "output_type": "stream",
          "name": "stderr",
          "text": [
            "Testing =>: 100%|██████████| 10/10 [00:02<00:00,  4.81it/s]\n"
          ]
        },
        {
          "output_type": "stream",
          "name": "stdout",
          "text": [
            "Epoch: 23 | Total Testing Loss: 0.7344331741333008 | Pose Testing Loss: 0.007027387619018555 | Action Testing Loss: 0.031694453209638596 | Action Test Label Accuracy: 100.0\n",
            "Starting EPOCH: 25 / 30\n"
          ]
        },
        {
          "output_type": "stream",
          "name": "stderr",
          "text": [
            "Training =>: 100%|██████████| 126/126 [00:25<00:00,  4.93it/s]\n"
          ]
        },
        {
          "output_type": "stream",
          "name": "stdout",
          "text": [
            "Saving at epoch 24\n",
            "Epoch: 24 | Total Training Loss: 2.013103485107422 | Pose Training Loss: 0.018964966759085655 | Action Training Loss: 0.11660662293434143 | Action Train Label Accuracy: 97.44051686649686\n"
          ]
        },
        {
          "output_type": "stream",
          "name": "stderr",
          "text": [
            "Testing =>: 100%|██████████| 10/10 [00:01<00:00,  5.02it/s]\n"
          ]
        },
        {
          "output_type": "stream",
          "name": "stdout",
          "text": [
            "Epoch: 24 | Total Testing Loss: 0.6455315351486206 | Pose Testing Loss: 0.006191509775817394 | Action Testing Loss: 0.0263805091381073 | Action Test Label Accuracy: 100.0\n",
            "Starting EPOCH: 26 / 30\n"
          ]
        },
        {
          "output_type": "stream",
          "name": "stderr",
          "text": [
            "Training =>: 100%|██████████| 126/126 [00:25<00:00,  4.88it/s]\n"
          ]
        },
        {
          "output_type": "stream",
          "name": "stdout",
          "text": [
            "Saving at epoch 25\n",
            "Epoch: 25 | Total Training Loss: 1.9518983364105225 | Pose Training Loss: 0.018499888479709625 | Action Training Loss: 0.1019093245267868 | Action Train Label Accuracy: 97.73560290737404\n"
          ]
        },
        {
          "output_type": "stream",
          "name": "stderr",
          "text": [
            "Testing =>: 100%|██████████| 10/10 [00:01<00:00,  5.09it/s]\n"
          ]
        },
        {
          "output_type": "stream",
          "name": "stdout",
          "text": [
            "Epoch: 25 | Total Testing Loss: 0.6117373704910278 | Pose Testing Loss: 0.005883154459297657 | Action Testing Loss: 0.023421943187713623 | Action Test Label Accuracy: 100.0\n",
            "Starting EPOCH: 27 / 30\n"
          ]
        },
        {
          "output_type": "stream",
          "name": "stderr",
          "text": [
            "Training =>: 100%|██████████| 126/126 [00:26<00:00,  4.76it/s]\n"
          ]
        },
        {
          "output_type": "stream",
          "name": "stdout",
          "text": [
            "Saving at epoch 26\n",
            "Epoch: 26 | Total Training Loss: 1.8873393535614014 | Pose Training Loss: 0.017983732745051384 | Action Training Loss: 0.0889657512307167 | Action Train Label Accuracy: 98.0369012859539\n"
          ]
        },
        {
          "output_type": "stream",
          "name": "stderr",
          "text": [
            "Testing =>: 100%|██████████| 10/10 [00:01<00:00,  5.12it/s]\n"
          ]
        },
        {
          "output_type": "stream",
          "name": "stdout",
          "text": [
            "Epoch: 26 | Total Testing Loss: 0.6068246960639954 | Pose Testing Loss: 0.005937904119491577 | Action Testing Loss: 0.013034261763095856 | Action Test Label Accuracy: 99.95833333333334\n",
            "Starting EPOCH: 28 / 30\n"
          ]
        },
        {
          "output_type": "stream",
          "name": "stderr",
          "text": [
            "Training =>: 100%|██████████| 126/126 [00:25<00:00,  4.94it/s]\n"
          ]
        },
        {
          "output_type": "stream",
          "name": "stdout",
          "text": [
            "Saving at epoch 27\n",
            "Epoch: 27 | Total Training Loss: 1.835940957069397 | Pose Training Loss: 0.01757536642253399 | Action Training Loss: 0.07840480655431747 | Action Train Label Accuracy: 98.3816860284525\n"
          ]
        },
        {
          "output_type": "stream",
          "name": "stderr",
          "text": [
            "Testing =>: 100%|██████████| 10/10 [00:01<00:00,  5.09it/s]\n"
          ]
        },
        {
          "output_type": "stream",
          "name": "stdout",
          "text": [
            "Epoch: 27 | Total Testing Loss: 0.5772802233695984 | Pose Testing Loss: 0.005662480369210243 | Action Testing Loss: 0.011032248847186565 | Action Test Label Accuracy: 100.0\n",
            "Starting EPOCH: 29 / 30\n"
          ]
        },
        {
          "output_type": "stream",
          "name": "stderr",
          "text": [
            "Training =>: 100%|██████████| 126/126 [00:24<00:00,  5.10it/s]\n"
          ]
        },
        {
          "output_type": "stream",
          "name": "stdout",
          "text": [
            "Saving at epoch 28\n",
            "Epoch: 28 | Total Training Loss: 1.7913509607315063 | Pose Training Loss: 0.017214156687259674 | Action Training Loss: 0.06993512809276581 | Action Train Label Accuracy: 98.59601167919489\n"
          ]
        },
        {
          "output_type": "stream",
          "name": "stderr",
          "text": [
            "Testing =>: 100%|██████████| 10/10 [00:02<00:00,  3.83it/s]\n"
          ]
        },
        {
          "output_type": "stream",
          "name": "stdout",
          "text": [
            "Epoch: 28 | Total Testing Loss: 0.645545482635498 | Pose Testing Loss: 0.0059052444994449615 | Action Testing Loss: 0.0550210177898407 | Action Test Label Accuracy: 97.16666666666667\n",
            "Starting EPOCH: 30 / 30\n"
          ]
        },
        {
          "output_type": "stream",
          "name": "stderr",
          "text": [
            "Training =>: 100%|██████████| 126/126 [00:24<00:00,  5.08it/s]\n"
          ]
        },
        {
          "output_type": "stream",
          "name": "stdout",
          "text": [
            "Saving at epoch 29\n",
            "Epoch: 29 | Total Training Loss: 1.752930760383606 | Pose Training Loss: 0.016896378248929977 | Action Training Loss: 0.06329337507486343 | Action Train Label Accuracy: 98.77616947257253\n"
          ]
        },
        {
          "output_type": "stream",
          "name": "stderr",
          "text": [
            "Testing =>: 100%|██████████| 10/10 [00:02<00:00,  4.76it/s]\n"
          ]
        },
        {
          "output_type": "stream",
          "name": "stdout",
          "text": [
            "Epoch: 29 | Total Testing Loss: 0.5635214447975159 | Pose Testing Loss: 0.005169626325368881 | Action Testing Loss: 0.04655873775482178 | Action Test Label Accuracy: 98.08333333333333\n"
          ]
        },
        {
          "output_type": "display_data",
          "data": {
            "text/plain": [
              "<Figure size 640x480 with 0 Axes>"
            ]
          },
          "metadata": {}
        }
      ]
    },
    {
      "cell_type": "markdown",
      "source": [
        "GAT Training"
      ],
      "metadata": {
        "id": "2YjEHp9lPOT3"
      }
    },
    {
      "cell_type": "code",
      "source": [
        "from src.simple_pose_gat.train_and_test import training_loop\n",
        "from argparse import Namespace\n",
        "import os\n",
        "from datetime import datetime\n",
        "timestamp = datetime.now().strftime(\"%Y-%m-%d--%H-%M-%S\")\n",
        "\n",
        "args_dict = {\n",
        "    'learning_rate': 3e-5,\n",
        "    'num_epochs': 30,\n",
        "    'batch_size': 256,\n",
        "    'action_loss_multiplier': 1,\n",
        "    'pose_loss_multiplier': 100,\n",
        "    'training_2d_data_path': os.path.join('datasets', 'custom', 'Processed', 'train_2d_poses.npy'),\n",
        "    'training_3d_data_path': os.path.join('datasets', 'custom', 'Processed', 'train_3d_poses.npy'),\n",
        "    'training_label_path': os.path.join('datasets', 'custom', 'Processed', 'train_actions.npy'),\n",
        "    'testing_2d_data_path': os.path.join('datasets', 'custom', 'Processed', 'test_2d_poses.npy'),\n",
        "    'testing_3d_data_path': os.path.join('datasets', 'custom', 'Processed', 'test_3d_poses.npy'),\n",
        "    'testing_label_path': os.path.join('datasets', 'custom', 'Processed', 'test_actions.npy'),\n",
        "    'save_path': os.path.join('model_outputs', 'simple_pose_gat_custom', timestamp)\n",
        "}\n",
        "args = Namespace(**args_dict)\n",
        "training_loop(args)\n",
        "\n"
      ],
      "metadata": {
        "colab": {
          "base_uri": "https://localhost:8080/",
          "height": 1000
        },
        "id": "XhW6HCVoOvmf",
        "outputId": "258074c6-3e1f-4a4a-be18-6587b3493654"
      },
      "execution_count": 8,
      "outputs": [
        {
          "output_type": "stream",
          "name": "stdout",
          "text": [
            "Training args are: Namespace(learning_rate=3e-05, num_epochs=30, batch_size=256, action_loss_multiplier=1, pose_loss_multiplier=100, training_2d_data_path='datasets/custom/Processed/train_2d_poses.npy', training_3d_data_path='datasets/custom/Processed/train_3d_poses.npy', training_label_path='datasets/custom/Processed/train_actions.npy', testing_2d_data_path='datasets/custom/Processed/test_2d_poses.npy', testing_3d_data_path='datasets/custom/Processed/test_3d_poses.npy', testing_label_path='datasets/custom/Processed/test_actions.npy', save_path='model_outputs/simple_pose_gat_custom/2024-11-17--09-05-38')\n",
            "Starting EPOCH: 1 / 30\n"
          ]
        },
        {
          "output_type": "stream",
          "name": "stderr",
          "text": [
            "Training =>: 100%|██████████| 126/126 [00:29<00:00,  4.29it/s]\n"
          ]
        },
        {
          "output_type": "stream",
          "name": "stdout",
          "text": [
            "Saving at epoch 0\n",
            "Epoch: 0 | Total Training Loss: 18.847429275512695 | Pose Training Loss: 0.1733040064573288 | Action Training Loss: 1.5170223712921143 | Action Train Label Accuracy: 27.290799527862337\n"
          ]
        },
        {
          "output_type": "stream",
          "name": "stderr",
          "text": [
            "Testing =>: 100%|██████████| 10/10 [00:02<00:00,  4.56it/s]\n"
          ]
        },
        {
          "output_type": "stream",
          "name": "stdout",
          "text": [
            "Epoch: 0 | Total Testing Loss: 4.888330936431885 | Pose Testing Loss: 0.03508218750357628 | Action Testing Loss: 1.3801120519638062 | Action Test Label Accuracy: 34.708333333333336\n",
            "Starting EPOCH: 2 / 30\n"
          ]
        },
        {
          "output_type": "stream",
          "name": "stderr",
          "text": [
            "Training =>: 100%|██████████| 126/126 [00:27<00:00,  4.60it/s]\n"
          ]
        },
        {
          "output_type": "stream",
          "name": "stdout",
          "text": [
            "Saving at epoch 1\n",
            "Epoch: 1 | Total Training Loss: 6.682464599609375 | Pose Training Loss: 0.05359276384115219 | Action Training Loss: 1.3231863975524902 | Action Train Label Accuracy: 39.17189538423308\n"
          ]
        },
        {
          "output_type": "stream",
          "name": "stderr",
          "text": [
            "Testing =>: 100%|██████████| 10/10 [00:02<00:00,  4.51it/s]\n"
          ]
        },
        {
          "output_type": "stream",
          "name": "stdout",
          "text": [
            "Epoch: 1 | Total Testing Loss: 3.4098281860351562 | Pose Testing Loss: 0.021639913320541382 | Action Testing Loss: 1.2458367347717285 | Action Test Label Accuracy: 47.5\n",
            "Starting EPOCH: 3 / 30\n"
          ]
        },
        {
          "output_type": "stream",
          "name": "stderr",
          "text": [
            "Training =>: 100%|██████████| 126/126 [00:29<00:00,  4.24it/s]\n"
          ]
        },
        {
          "output_type": "stream",
          "name": "stdout",
          "text": [
            "Saving at epoch 2\n",
            "Epoch: 2 | Total Training Loss: 4.770929336547852 | Pose Training Loss: 0.03551367670297623 | Action Training Loss: 1.2195608615875244 | Action Train Label Accuracy: 46.654656147108156\n"
          ]
        },
        {
          "output_type": "stream",
          "name": "stderr",
          "text": [
            "Testing =>: 100%|██████████| 10/10 [00:01<00:00,  5.56it/s]\n"
          ]
        },
        {
          "output_type": "stream",
          "name": "stdout",
          "text": [
            "Epoch: 2 | Total Testing Loss: 2.760838747024536 | Pose Testing Loss: 0.01593446172773838 | Action Testing Loss: 1.167392373085022 | Action Test Label Accuracy: 54.91666666666667\n",
            "Starting EPOCH: 4 / 30\n"
          ]
        },
        {
          "output_type": "stream",
          "name": "stderr",
          "text": [
            "Training =>: 100%|██████████| 126/126 [00:30<00:00,  4.12it/s]\n"
          ]
        },
        {
          "output_type": "stream",
          "name": "stdout",
          "text": [
            "Saving at epoch 3\n",
            "Epoch: 3 | Total Training Loss: 3.7399611473083496 | Pose Training Loss: 0.025832826271653175 | Action Training Loss: 1.1566786766052246 | Action Train Label Accuracy: 50.58706591290303\n"
          ]
        },
        {
          "output_type": "stream",
          "name": "stderr",
          "text": [
            "Testing =>: 100%|██████████| 10/10 [00:02<00:00,  4.67it/s]\n"
          ]
        },
        {
          "output_type": "stream",
          "name": "stdout",
          "text": [
            "Epoch: 3 | Total Testing Loss: 2.360884428024292 | Pose Testing Loss: 0.012459858320653439 | Action Testing Loss: 1.114898681640625 | Action Test Label Accuracy: 57.91666666666667\n",
            "Starting EPOCH: 5 / 30\n"
          ]
        },
        {
          "output_type": "stream",
          "name": "stderr",
          "text": [
            "Training =>: 100%|██████████| 126/126 [00:29<00:00,  4.26it/s]\n"
          ]
        },
        {
          "output_type": "stream",
          "name": "stdout",
          "text": [
            "Saving at epoch 4\n",
            "Epoch: 4 | Total Training Loss: 3.0791923999786377 | Pose Training Loss: 0.019740356132388115 | Action Training Loss: 1.1051560640335083 | Action Train Label Accuracy: 52.80797664161023\n"
          ]
        },
        {
          "output_type": "stream",
          "name": "stderr",
          "text": [
            "Testing =>: 100%|██████████| 10/10 [00:02<00:00,  4.57it/s]\n"
          ]
        },
        {
          "output_type": "stream",
          "name": "stdout",
          "text": [
            "Epoch: 4 | Total Testing Loss: 2.096870183944702 | Pose Testing Loss: 0.010267323814332485 | Action Testing Loss: 1.0701379776000977 | Action Test Label Accuracy: 61.75000000000001\n",
            "Starting EPOCH: 6 / 30\n"
          ]
        },
        {
          "output_type": "stream",
          "name": "stderr",
          "text": [
            "Training =>: 100%|██████████| 126/126 [00:28<00:00,  4.42it/s]\n"
          ]
        },
        {
          "output_type": "stream",
          "name": "stdout",
          "text": [
            "Saving at epoch 5\n",
            "Epoch: 5 | Total Training Loss: 2.638282537460327 | Pose Training Loss: 0.015783263370394707 | Action Training Loss: 1.059957504272461 | Action Train Label Accuracy: 56.0508169224079\n"
          ]
        },
        {
          "output_type": "stream",
          "name": "stderr",
          "text": [
            "Testing =>: 100%|██████████| 10/10 [00:02<00:00,  3.83it/s]\n"
          ]
        },
        {
          "output_type": "stream",
          "name": "stdout",
          "text": [
            "Epoch: 5 | Total Testing Loss: 1.8768690824508667 | Pose Testing Loss: 0.008604113012552261 | Action Testing Loss: 1.0164577960968018 | Action Test Label Accuracy: 66.45833333333333\n",
            "Starting EPOCH: 7 / 30\n"
          ]
        },
        {
          "output_type": "stream",
          "name": "stderr",
          "text": [
            "Training =>: 100%|██████████| 126/126 [00:29<00:00,  4.24it/s]\n"
          ]
        },
        {
          "output_type": "stream",
          "name": "stdout",
          "text": [
            "Saving at epoch 6\n",
            "Epoch: 6 | Total Training Loss: 2.3209707736968994 | Pose Training Loss: 0.013055916875600815 | Action Training Loss: 1.0153781175613403 | Action Train Label Accuracy: 59.38684226874573\n"
          ]
        },
        {
          "output_type": "stream",
          "name": "stderr",
          "text": [
            "Testing =>: 100%|██████████| 10/10 [00:02<00:00,  4.26it/s]\n"
          ]
        },
        {
          "output_type": "stream",
          "name": "stdout",
          "text": [
            "Epoch: 6 | Total Testing Loss: 1.7197178602218628 | Pose Testing Loss: 0.0074919359758496284 | Action Testing Loss: 0.97052401304245 | Action Test Label Accuracy: 67.70833333333334\n",
            "Starting EPOCH: 8 / 30\n"
          ]
        },
        {
          "output_type": "stream",
          "name": "stderr",
          "text": [
            "Training =>: 100%|██████████| 126/126 [00:27<00:00,  4.55it/s]\n"
          ]
        },
        {
          "output_type": "stream",
          "name": "stdout",
          "text": [
            "Saving at epoch 7\n",
            "Epoch: 7 | Total Training Loss: 2.0781779289245605 | Pose Training Loss: 0.011137526482343674 | Action Training Loss: 0.9644256234169006 | Action Train Label Accuracy: 62.62347021184071\n"
          ]
        },
        {
          "output_type": "stream",
          "name": "stderr",
          "text": [
            "Testing =>: 100%|██████████| 10/10 [00:02<00:00,  4.31it/s]\n"
          ]
        },
        {
          "output_type": "stream",
          "name": "stdout",
          "text": [
            "Epoch: 7 | Total Testing Loss: 1.5931633710861206 | Pose Testing Loss: 0.00678751477971673 | Action Testing Loss: 0.9144118428230286 | Action Test Label Accuracy: 70.91666666666666\n",
            "Starting EPOCH: 9 / 30\n"
          ]
        },
        {
          "output_type": "stream",
          "name": "stderr",
          "text": [
            "Training =>: 100%|██████████| 126/126 [00:28<00:00,  4.42it/s]\n"
          ]
        },
        {
          "output_type": "stream",
          "name": "stdout",
          "text": [
            "Saving at epoch 8\n",
            "Epoch: 8 | Total Training Loss: 1.8765244483947754 | Pose Training Loss: 0.009722626768052578 | Action Training Loss: 0.9042615294456482 | Action Train Label Accuracy: 66.5496676399329\n"
          ]
        },
        {
          "output_type": "stream",
          "name": "stderr",
          "text": [
            "Testing =>: 100%|██████████| 10/10 [00:01<00:00,  5.05it/s]\n"
          ]
        },
        {
          "output_type": "stream",
          "name": "stdout",
          "text": [
            "Epoch: 8 | Total Testing Loss: 1.4656723737716675 | Pose Testing Loss: 0.006207507103681564 | Action Testing Loss: 0.8449217081069946 | Action Test Label Accuracy: 74.125\n",
            "Starting EPOCH: 10 / 30\n"
          ]
        },
        {
          "output_type": "stream",
          "name": "stderr",
          "text": [
            "Training =>: 100%|██████████| 126/126 [00:30<00:00,  4.15it/s]\n"
          ]
        },
        {
          "output_type": "stream",
          "name": "stdout",
          "text": [
            "Saving at epoch 9\n",
            "Epoch: 9 | Total Training Loss: 1.7060773372650146 | Pose Training Loss: 0.008699155412614346 | Action Training Loss: 0.8361616134643555 | Action Train Label Accuracy: 70.44790954836306\n"
          ]
        },
        {
          "output_type": "stream",
          "name": "stderr",
          "text": [
            "Testing =>: 100%|██████████| 10/10 [00:02<00:00,  4.88it/s]\n"
          ]
        },
        {
          "output_type": "stream",
          "name": "stdout",
          "text": [
            "Epoch: 9 | Total Testing Loss: 1.3457680940628052 | Pose Testing Loss: 0.00577841280028224 | Action Testing Loss: 0.7679266929626465 | Action Test Label Accuracy: 78.625\n",
            "Starting EPOCH: 11 / 30\n"
          ]
        },
        {
          "output_type": "stream",
          "name": "stderr",
          "text": [
            "Training =>: 100%|██████████| 126/126 [00:28<00:00,  4.37it/s]\n"
          ]
        },
        {
          "output_type": "stream",
          "name": "stdout",
          "text": [
            "Saving at epoch 10\n",
            "Epoch: 10 | Total Training Loss: 1.5461571216583252 | Pose Training Loss: 0.007890376262366772 | Action Training Loss: 0.757119357585907 | Action Train Label Accuracy: 74.4579735354414\n"
          ]
        },
        {
          "output_type": "stream",
          "name": "stderr",
          "text": [
            "Testing =>: 100%|██████████| 10/10 [00:02<00:00,  4.64it/s]\n"
          ]
        },
        {
          "output_type": "stream",
          "name": "stdout",
          "text": [
            "Epoch: 10 | Total Testing Loss: 1.2230852842330933 | Pose Testing Loss: 0.0054253279231488705 | Action Testing Loss: 0.6805524230003357 | Action Test Label Accuracy: 81.16666666666667\n",
            "Starting EPOCH: 12 / 30\n"
          ]
        },
        {
          "output_type": "stream",
          "name": "stderr",
          "text": [
            "Training =>: 100%|██████████| 126/126 [00:28<00:00,  4.35it/s]\n"
          ]
        },
        {
          "output_type": "stream",
          "name": "stdout",
          "text": [
            "Saving at epoch 11\n",
            "Epoch: 11 | Total Training Loss: 1.4028596878051758 | Pose Training Loss: 0.007275119889527559 | Action Training Loss: 0.6753474473953247 | Action Train Label Accuracy: 77.67907063427968\n"
          ]
        },
        {
          "output_type": "stream",
          "name": "stderr",
          "text": [
            "Testing =>: 100%|██████████| 10/10 [00:02<00:00,  4.51it/s]\n"
          ]
        },
        {
          "output_type": "stream",
          "name": "stdout",
          "text": [
            "Epoch: 11 | Total Testing Loss: 1.0962234735488892 | Pose Testing Loss: 0.0051146079786121845 | Action Testing Loss: 0.584762692451477 | Action Test Label Accuracy: 83.08333333333333\n",
            "Starting EPOCH: 13 / 30\n"
          ]
        },
        {
          "output_type": "stream",
          "name": "stderr",
          "text": [
            "Training =>: 100%|██████████| 126/126 [00:29<00:00,  4.31it/s]\n"
          ]
        },
        {
          "output_type": "stream",
          "name": "stdout",
          "text": [
            "Saving at epoch 12\n",
            "Epoch: 12 | Total Training Loss: 1.2704097032546997 | Pose Training Loss: 0.006765310186892748 | Action Training Loss: 0.5938781499862671 | Action Train Label Accuracy: 79.94657389575698\n"
          ]
        },
        {
          "output_type": "stream",
          "name": "stderr",
          "text": [
            "Testing =>: 100%|██████████| 10/10 [00:02<00:00,  4.22it/s]\n"
          ]
        },
        {
          "output_type": "stream",
          "name": "stdout",
          "text": [
            "Epoch: 12 | Total Testing Loss: 0.9957235455513 | Pose Testing Loss: 0.004873571451753378 | Action Testing Loss: 0.5083664059638977 | Action Test Label Accuracy: 85.0\n",
            "Starting EPOCH: 14 / 30\n"
          ]
        },
        {
          "output_type": "stream",
          "name": "stderr",
          "text": [
            "Training =>: 100%|██████████| 126/126 [00:27<00:00,  4.50it/s]\n"
          ]
        },
        {
          "output_type": "stream",
          "name": "stdout",
          "text": [
            "Saving at epoch 13\n",
            "Epoch: 13 | Total Training Loss: 1.1567158699035645 | Pose Training Loss: 0.006326667033135891 | Action Training Loss: 0.5240492224693298 | Action Train Label Accuracy: 82.08672423432938\n"
          ]
        },
        {
          "output_type": "stream",
          "name": "stderr",
          "text": [
            "Testing =>: 100%|██████████| 10/10 [00:02<00:00,  4.57it/s]\n"
          ]
        },
        {
          "output_type": "stream",
          "name": "stdout",
          "text": [
            "Epoch: 13 | Total Testing Loss: 0.9096500277519226 | Pose Testing Loss: 0.004686473403126001 | Action Testing Loss: 0.4410026967525482 | Action Test Label Accuracy: 84.875\n",
            "Starting EPOCH: 15 / 30\n"
          ]
        },
        {
          "output_type": "stream",
          "name": "stderr",
          "text": [
            "Training =>: 100%|██████████| 126/126 [00:29<00:00,  4.29it/s]\n"
          ]
        },
        {
          "output_type": "stream",
          "name": "stdout",
          "text": [
            "Saving at epoch 14\n",
            "Epoch: 14 | Total Training Loss: 1.0652787685394287 | Pose Training Loss: 0.005972470156848431 | Action Training Loss: 0.4680315852165222 | Action Train Label Accuracy: 83.4099521649997\n"
          ]
        },
        {
          "output_type": "stream",
          "name": "stderr",
          "text": [
            "Testing =>: 100%|██████████| 10/10 [00:01<00:00,  5.20it/s]\n"
          ]
        },
        {
          "output_type": "stream",
          "name": "stdout",
          "text": [
            "Epoch: 14 | Total Testing Loss: 0.8358082175254822 | Pose Testing Loss: 0.004498257301747799 | Action Testing Loss: 0.385982483625412 | Action Test Label Accuracy: 86.5\n",
            "Starting EPOCH: 16 / 30\n"
          ]
        },
        {
          "output_type": "stream",
          "name": "stderr",
          "text": [
            "Training =>: 100%|██████████| 126/126 [00:29<00:00,  4.26it/s]\n"
          ]
        },
        {
          "output_type": "stream",
          "name": "stdout",
          "text": [
            "Saving at epoch 15\n",
            "Epoch: 15 | Total Training Loss: 0.9818954467773438 | Pose Training Loss: 0.005638862960040569 | Action Training Loss: 0.4180089235305786 | Action Train Label Accuracy: 85.29850282661366\n"
          ]
        },
        {
          "output_type": "stream",
          "name": "stderr",
          "text": [
            "Testing =>: 100%|██████████| 10/10 [00:02<00:00,  4.90it/s]\n"
          ]
        },
        {
          "output_type": "stream",
          "name": "stdout",
          "text": [
            "Epoch: 15 | Total Testing Loss: 0.7859076261520386 | Pose Testing Loss: 0.0043704756535589695 | Action Testing Loss: 0.3488600552082062 | Action Test Label Accuracy: 88.75\n",
            "Starting EPOCH: 17 / 30\n"
          ]
        },
        {
          "output_type": "stream",
          "name": "stderr",
          "text": [
            "Training =>: 100%|██████████| 126/126 [00:28<00:00,  4.45it/s]\n"
          ]
        },
        {
          "output_type": "stream",
          "name": "stdout",
          "text": [
            "Saving at epoch 16\n",
            "Epoch: 16 | Total Training Loss: 0.9134091138839722 | Pose Training Loss: 0.0053558070212602615 | Action Training Loss: 0.37782803177833557 | Action Train Label Accuracy: 87.24607069640305\n"
          ]
        },
        {
          "output_type": "stream",
          "name": "stderr",
          "text": [
            "Testing =>: 100%|██████████| 10/10 [00:02<00:00,  4.22it/s]\n"
          ]
        },
        {
          "output_type": "stream",
          "name": "stdout",
          "text": [
            "Epoch: 16 | Total Testing Loss: 0.7367722392082214 | Pose Testing Loss: 0.004249818157404661 | Action Testing Loss: 0.31179043650627136 | Action Test Label Accuracy: 91.95833333333333\n",
            "Starting EPOCH: 18 / 30\n"
          ]
        },
        {
          "output_type": "stream",
          "name": "stderr",
          "text": [
            "Training =>: 100%|██████████| 126/126 [00:29<00:00,  4.26it/s]\n"
          ]
        },
        {
          "output_type": "stream",
          "name": "stdout",
          "text": [
            "Saving at epoch 17\n",
            "Epoch: 17 | Total Training Loss: 0.8466176986694336 | Pose Training Loss: 0.005099284928292036 | Action Training Loss: 0.336689293384552 | Action Train Label Accuracy: 89.73721811517674\n"
          ]
        },
        {
          "output_type": "stream",
          "name": "stderr",
          "text": [
            "Testing =>: 100%|██████████| 10/10 [00:02<00:00,  4.01it/s]\n"
          ]
        },
        {
          "output_type": "stream",
          "name": "stdout",
          "text": [
            "Epoch: 17 | Total Testing Loss: 0.6659722328186035 | Pose Testing Loss: 0.004074958618730307 | Action Testing Loss: 0.2584763765335083 | Action Test Label Accuracy: 95.54166666666667\n",
            "Starting EPOCH: 19 / 30\n"
          ]
        },
        {
          "output_type": "stream",
          "name": "stderr",
          "text": [
            "Training =>: 100%|██████████| 126/126 [00:28<00:00,  4.41it/s]\n"
          ]
        },
        {
          "output_type": "stream",
          "name": "stdout",
          "text": [
            "Saving at epoch 18\n",
            "Epoch: 18 | Total Training Loss: 0.789129912853241 | Pose Training Loss: 0.004906782880425453 | Action Training Loss: 0.29845139384269714 | Action Train Label Accuracy: 91.63819345219606\n"
          ]
        },
        {
          "output_type": "stream",
          "name": "stderr",
          "text": [
            "Testing =>: 100%|██████████| 10/10 [00:02<00:00,  4.96it/s]\n"
          ]
        },
        {
          "output_type": "stream",
          "name": "stdout",
          "text": [
            "Epoch: 18 | Total Testing Loss: 0.6178909540176392 | Pose Testing Loss: 0.003949982579797506 | Action Testing Loss: 0.2228926718235016 | Action Test Label Accuracy: 96.29166666666666\n",
            "Starting EPOCH: 20 / 30\n"
          ]
        },
        {
          "output_type": "stream",
          "name": "stderr",
          "text": [
            "Training =>: 100%|██████████| 126/126 [00:30<00:00,  4.12it/s]\n"
          ]
        },
        {
          "output_type": "stream",
          "name": "stdout",
          "text": [
            "Saving at epoch 19\n",
            "Epoch: 19 | Total Training Loss: 0.7367039918899536 | Pose Training Loss: 0.004732431378215551 | Action Training Loss: 0.26346060633659363 | Action Train Label Accuracy: 93.0515002795552\n"
          ]
        },
        {
          "output_type": "stream",
          "name": "stderr",
          "text": [
            "Testing =>: 100%|██████████| 10/10 [00:02<00:00,  4.04it/s]\n"
          ]
        },
        {
          "output_type": "stream",
          "name": "stdout",
          "text": [
            "Epoch: 19 | Total Testing Loss: 0.5750098824501038 | Pose Testing Loss: 0.0038906403351575136 | Action Testing Loss: 0.18594585359096527 | Action Test Label Accuracy: 97.375\n",
            "Starting EPOCH: 21 / 30\n"
          ]
        },
        {
          "output_type": "stream",
          "name": "stderr",
          "text": [
            "Training =>: 100%|██████████| 126/126 [00:27<00:00,  4.50it/s]\n"
          ]
        },
        {
          "output_type": "stream",
          "name": "stdout",
          "text": [
            "Saving at epoch 20\n",
            "Epoch: 20 | Total Training Loss: 0.6820797920227051 | Pose Training Loss: 0.004557604435831308 | Action Training Loss: 0.2263195663690567 | Action Train Label Accuracy: 94.13555320867243\n"
          ]
        },
        {
          "output_type": "stream",
          "name": "stderr",
          "text": [
            "Testing =>: 100%|██████████| 10/10 [00:02<00:00,  4.29it/s]\n"
          ]
        },
        {
          "output_type": "stream",
          "name": "stdout",
          "text": [
            "Epoch: 20 | Total Testing Loss: 0.5367264151573181 | Pose Testing Loss: 0.0038602936547249556 | Action Testing Loss: 0.1506970375776291 | Action Test Label Accuracy: 97.79166666666667\n",
            "Starting EPOCH: 22 / 30\n"
          ]
        },
        {
          "output_type": "stream",
          "name": "stderr",
          "text": [
            "Training =>: 100%|██████████| 126/126 [00:30<00:00,  4.12it/s]\n"
          ]
        },
        {
          "output_type": "stream",
          "name": "stdout",
          "text": [
            "Saving at epoch 21\n",
            "Epoch: 21 | Total Training Loss: 0.6342492699623108 | Pose Training Loss: 0.004400122910737991 | Action Training Loss: 0.19423680007457733 | Action Train Label Accuracy: 95.14195191650619\n"
          ]
        },
        {
          "output_type": "stream",
          "name": "stderr",
          "text": [
            "Testing =>: 100%|██████████| 10/10 [00:01<00:00,  5.44it/s]\n"
          ]
        },
        {
          "output_type": "stream",
          "name": "stdout",
          "text": [
            "Epoch: 21 | Total Testing Loss: 0.5014554858207703 | Pose Testing Loss: 0.003690306795760989 | Action Testing Loss: 0.13242487609386444 | Action Test Label Accuracy: 97.5\n",
            "Starting EPOCH: 23 / 30\n"
          ]
        },
        {
          "output_type": "stream",
          "name": "stderr",
          "text": [
            "Training =>: 100%|██████████| 126/126 [00:29<00:00,  4.32it/s]\n"
          ]
        },
        {
          "output_type": "stream",
          "name": "stdout",
          "text": [
            "Saving at epoch 22\n",
            "Epoch: 22 | Total Training Loss: 0.5954297184944153 | Pose Training Loss: 0.004255352541804314 | Action Training Loss: 0.1698944866657257 | Action Train Label Accuracy: 95.69174380319313\n"
          ]
        },
        {
          "output_type": "stream",
          "name": "stderr",
          "text": [
            "Testing =>: 100%|██████████| 10/10 [00:01<00:00,  5.52it/s]\n"
          ]
        },
        {
          "output_type": "stream",
          "name": "stdout",
          "text": [
            "Epoch: 22 | Total Testing Loss: 0.46493569016456604 | Pose Testing Loss: 0.003570642787963152 | Action Testing Loss: 0.10787143558263779 | Action Test Label Accuracy: 98.08333333333333\n",
            "Starting EPOCH: 24 / 30\n"
          ]
        },
        {
          "output_type": "stream",
          "name": "stderr",
          "text": [
            "Training =>: 100%|██████████| 126/126 [00:30<00:00,  4.20it/s]\n"
          ]
        },
        {
          "output_type": "stream",
          "name": "stdout",
          "text": [
            "Saving at epoch 23\n",
            "Epoch: 23 | Total Training Loss: 0.5630213618278503 | Pose Training Loss: 0.00412291893735528 | Action Training Loss: 0.1507297307252884 | Action Train Label Accuracy: 96.0334223768404\n"
          ]
        },
        {
          "output_type": "stream",
          "name": "stderr",
          "text": [
            "Testing =>: 100%|██████████| 10/10 [00:02<00:00,  4.71it/s]\n"
          ]
        },
        {
          "output_type": "stream",
          "name": "stdout",
          "text": [
            "Epoch: 23 | Total Testing Loss: 0.44215860962867737 | Pose Testing Loss: 0.00349289714358747 | Action Testing Loss: 0.09286892414093018 | Action Test Label Accuracy: 98.16666666666667\n",
            "Starting EPOCH: 25 / 30\n"
          ]
        },
        {
          "output_type": "stream",
          "name": "stderr",
          "text": [
            "Training =>: 100%|██████████| 126/126 [00:29<00:00,  4.25it/s]\n"
          ]
        },
        {
          "output_type": "stream",
          "name": "stdout",
          "text": [
            "Saving at epoch 24\n",
            "Epoch: 24 | Total Training Loss: 0.5287870168685913 | Pose Training Loss: 0.003990016411989927 | Action Training Loss: 0.12978529930114746 | Action Train Label Accuracy: 96.63291296514879\n"
          ]
        },
        {
          "output_type": "stream",
          "name": "stderr",
          "text": [
            "Testing =>: 100%|██████████| 10/10 [00:02<00:00,  4.63it/s]\n"
          ]
        },
        {
          "output_type": "stream",
          "name": "stdout",
          "text": [
            "Epoch: 24 | Total Testing Loss: 0.42629334330558777 | Pose Testing Loss: 0.0034683928824961185 | Action Testing Loss: 0.07945401221513748 | Action Test Label Accuracy: 98.16666666666667\n",
            "Starting EPOCH: 26 / 30\n"
          ]
        },
        {
          "output_type": "stream",
          "name": "stderr",
          "text": [
            "Training =>: 100%|██████████| 126/126 [00:29<00:00,  4.29it/s]\n"
          ]
        },
        {
          "output_type": "stream",
          "name": "stdout",
          "text": [
            "Saving at epoch 25\n",
            "Epoch: 25 | Total Training Loss: 0.5113875269889832 | Pose Training Loss: 0.0038873443845659494 | Action Training Loss: 0.1226532980799675 | Action Train Label Accuracy: 96.71056718643226\n"
          ]
        },
        {
          "output_type": "stream",
          "name": "stderr",
          "text": [
            "Testing =>: 100%|██████████| 10/10 [00:02<00:00,  4.33it/s]\n"
          ]
        },
        {
          "output_type": "stream",
          "name": "stdout",
          "text": [
            "Epoch: 25 | Total Testing Loss: 0.3950822949409485 | Pose Testing Loss: 0.003281459677964449 | Action Testing Loss: 0.06693637371063232 | Action Test Label Accuracy: 98.875\n",
            "Starting EPOCH: 27 / 30\n"
          ]
        },
        {
          "output_type": "stream",
          "name": "stderr",
          "text": [
            "Training =>: 100%|██████████| 126/126 [00:28<00:00,  4.48it/s]\n"
          ]
        },
        {
          "output_type": "stream",
          "name": "stdout",
          "text": [
            "Saving at epoch 26\n",
            "Epoch: 26 | Total Training Loss: 0.4857252836227417 | Pose Training Loss: 0.003774957964196801 | Action Training Loss: 0.10822926461696625 | Action Train Label Accuracy: 97.13611231906566\n"
          ]
        },
        {
          "output_type": "stream",
          "name": "stderr",
          "text": [
            "Testing =>: 100%|██████████| 10/10 [00:02<00:00,  4.44it/s]\n"
          ]
        },
        {
          "output_type": "stream",
          "name": "stdout",
          "text": [
            "Epoch: 26 | Total Testing Loss: 0.3784596025943756 | Pose Testing Loss: 0.003200934501364827 | Action Testing Loss: 0.05836616829037666 | Action Test Label Accuracy: 99.33333333333333\n",
            "Starting EPOCH: 28 / 30\n"
          ]
        },
        {
          "output_type": "stream",
          "name": "stderr",
          "text": [
            "Training =>: 100%|██████████| 126/126 [00:30<00:00,  4.11it/s]\n"
          ]
        },
        {
          "output_type": "stream",
          "name": "stdout",
          "text": [
            "Saving at epoch 27\n",
            "Epoch: 27 | Total Training Loss: 0.4692411422729492 | Pose Training Loss: 0.003682614304125309 | Action Training Loss: 0.100979745388031 | Action Train Label Accuracy: 97.09883829284959\n"
          ]
        },
        {
          "output_type": "stream",
          "name": "stderr",
          "text": [
            "Testing =>: 100%|██████████| 10/10 [00:02<00:00,  4.79it/s]\n"
          ]
        },
        {
          "output_type": "stream",
          "name": "stdout",
          "text": [
            "Epoch: 27 | Total Testing Loss: 0.3716006577014923 | Pose Testing Loss: 0.0031931009143590927 | Action Testing Loss: 0.05229054018855095 | Action Test Label Accuracy: 99.41666666666666\n",
            "Starting EPOCH: 29 / 30\n"
          ]
        },
        {
          "output_type": "stream",
          "name": "stderr",
          "text": [
            "Training =>: 100%|██████████| 126/126 [00:28<00:00,  4.36it/s]\n"
          ]
        },
        {
          "output_type": "stream",
          "name": "stdout",
          "text": [
            "Saving at epoch 28\n",
            "Epoch: 28 | Total Training Loss: 0.4505458474159241 | Pose Training Loss: 0.0035965824499726295 | Action Training Loss: 0.09088759124279022 | Action Train Label Accuracy: 97.3721811517674\n"
          ]
        },
        {
          "output_type": "stream",
          "name": "stderr",
          "text": [
            "Testing =>: 100%|██████████| 10/10 [00:02<00:00,  4.98it/s]\n"
          ]
        },
        {
          "output_type": "stream",
          "name": "stdout",
          "text": [
            "Epoch: 28 | Total Testing Loss: 0.3583279848098755 | Pose Testing Loss: 0.0031420474406331778 | Action Testing Loss: 0.044123243540525436 | Action Test Label Accuracy: 99.5\n",
            "Starting EPOCH: 30 / 30\n"
          ]
        },
        {
          "output_type": "stream",
          "name": "stderr",
          "text": [
            "Training =>: 100%|██████████| 126/126 [00:27<00:00,  4.62it/s]\n"
          ]
        },
        {
          "output_type": "stream",
          "name": "stdout",
          "text": [
            "Saving at epoch 29\n",
            "Epoch: 29 | Total Training Loss: 0.4308996796607971 | Pose Training Loss: 0.003506248816847801 | Action Training Loss: 0.08027482032775879 | Action Train Label Accuracy: 97.85053115487358\n"
          ]
        },
        {
          "output_type": "stream",
          "name": "stderr",
          "text": [
            "Testing =>: 100%|██████████| 10/10 [00:02<00:00,  3.98it/s]\n"
          ]
        },
        {
          "output_type": "stream",
          "name": "stdout",
          "text": [
            "Epoch: 29 | Total Testing Loss: 0.3450351655483246 | Pose Testing Loss: 0.00305281113833189 | Action Testing Loss: 0.03975405916571617 | Action Test Label Accuracy: 99.5\n"
          ]
        },
        {
          "output_type": "display_data",
          "data": {
            "text/plain": [
              "<Figure size 640x480 with 0 Axes>"
            ]
          },
          "metadata": {}
        }
      ]
    },
    {
      "cell_type": "markdown",
      "source": [
        "Simple Training"
      ],
      "metadata": {
        "id": "Vrwtk-boPQZP"
      }
    },
    {
      "cell_type": "code",
      "source": [
        "from src.simple_pose.train_and_test import training_loop\n",
        "from argparse import Namespace\n",
        "import os\n",
        "from datetime import datetime\n",
        "timestamp = datetime.now().strftime(\"%Y-%m-%d--%H-%M-%S\")\n",
        "\n",
        "args_dict = {\n",
        "    'learning_rate': 3e-5,\n",
        "    'num_epochs': 30,\n",
        "    'batch_size': 256,\n",
        "    'action_loss_multiplier': 1,\n",
        "    'pose_loss_multiplier': 100,\n",
        "    'training_2d_data_path': os.path.join('datasets', 'custom', 'Processed', 'train_2d_poses.npy'),\n",
        "    'training_3d_data_path': os.path.join('datasets', 'custom', 'Processed', 'train_3d_poses.npy'),\n",
        "    'training_label_path': os.path.join('datasets', 'custom', 'Processed', 'train_actions.npy'),\n",
        "    'testing_2d_data_path': os.path.join('datasets', 'custom', 'Processed', 'test_2d_poses.npy'),\n",
        "    'testing_3d_data_path': os.path.join('datasets', 'custom', 'Processed', 'test_3d_poses.npy'),\n",
        "    'testing_label_path': os.path.join('datasets', 'custom', 'Processed', 'test_actions.npy'),\n",
        "    'save_path': os.path.join('model_outputs', 'simple_pose_custom', timestamp)\n",
        "}\n",
        "args = Namespace(**args_dict)\n",
        "training_loop(args)\n",
        "\n"
      ],
      "metadata": {
        "colab": {
          "base_uri": "https://localhost:8080/",
          "height": 1000
        },
        "id": "O9SkhIaYOwSd",
        "outputId": "7b98935a-0a26-4e77-d542-2dcb068a441c"
      },
      "execution_count": 9,
      "outputs": [
        {
          "output_type": "stream",
          "name": "stdout",
          "text": [
            "Training args are: Namespace(learning_rate=3e-05, num_epochs=30, batch_size=256, action_loss_multiplier=1, pose_loss_multiplier=100, training_2d_data_path='datasets/custom/Processed/train_2d_poses.npy', training_3d_data_path='datasets/custom/Processed/train_3d_poses.npy', training_label_path='datasets/custom/Processed/train_actions.npy', testing_2d_data_path='datasets/custom/Processed/test_2d_poses.npy', testing_3d_data_path='datasets/custom/Processed/test_3d_poses.npy', testing_label_path='datasets/custom/Processed/test_actions.npy', save_path='model_outputs/simple_pose_custom/2024-11-17--09-21-41')\n",
            "Starting EPOCH: 1 / 30\n"
          ]
        },
        {
          "output_type": "stream",
          "name": "stderr",
          "text": [
            "Training =>:   0%|          | 0/126 [00:00<?, ?it/s]\n",
            "Training =>:   6%|▋         | 8/126 [00:00<00:01, 77.62it/s]\n",
            "Training =>:  13%|█▎        | 17/126 [00:00<00:01, 79.60it/s]\n",
            "Training =>:  21%|██        | 26/126 [00:00<00:01, 80.36it/s]\n",
            "Training =>:  28%|██▊       | 35/126 [00:00<00:01, 80.65it/s]\n",
            "Training =>:  35%|███▍      | 44/126 [00:00<00:00, 82.34it/s]\n",
            "Training =>:  42%|████▏     | 53/126 [00:00<00:00, 83.01it/s]\n",
            "Training =>:  49%|████▉     | 62/126 [00:00<00:00, 83.47it/s]\n",
            "Training =>:  56%|█████▋    | 71/126 [00:00<00:00, 83.81it/s]\n",
            "Training =>:  63%|██████▎   | 80/126 [00:00<00:00, 83.48it/s]\n",
            "Training =>:  71%|███████   | 89/126 [00:01<00:00, 84.09it/s]\n",
            "Training =>:  78%|███████▊  | 98/126 [00:01<00:00, 84.15it/s]\n",
            "Training =>:  85%|████████▍ | 107/126 [00:01<00:00, 84.48it/s]\n",
            "Training =>:  92%|█████████▏| 116/126 [00:01<00:00, 84.33it/s]\n",
            "Training =>:  99%|█████████▉| 125/126 [00:01<00:00, 84.07it/s]\n",
            "100%|██████████| 126/126 [00:01<00:00, 83.09it/s]\n",
            "Training =>: 100%|██████████| 126/126 [00:01<00:00, 82.78it/s]\n"
          ]
        },
        {
          "output_type": "stream",
          "name": "stdout",
          "text": [
            "Saving at epoch 0\n",
            "Epoch: 0 | Total Training Loss: 158.8680877685547 | Pose Training Loss: 1.5735925436019897 | Action Training Loss: 1.508824110031128 | Action Train Label Accuracy: 37.423122320929366\n"
          ]
        },
        {
          "output_type": "stream",
          "name": "stderr",
          "text": [
            "Testing =>:   0%|          | 0/10 [00:00<?, ?it/s]\n",
            "100%|██████████| 10/10 [00:00<00:00, 187.38it/s]\n",
            "Testing =>: 100%|██████████| 10/10 [00:00<00:00, 170.78it/s]\n"
          ]
        },
        {
          "output_type": "stream",
          "name": "stdout",
          "text": [
            "Epoch: 0 | Total Testing Loss: 14.504740715026855 | Pose Testing Loss: 0.11845336109399796 | Action Testing Loss: 2.659405469894409 | Action Test Label Accuracy: 20.0\n",
            "Starting EPOCH: 2 / 30\n"
          ]
        },
        {
          "output_type": "stream",
          "name": "stderr",
          "text": [
            "Training =>:   0%|          | 0/126 [00:00<?, ?it/s]\n",
            "Training =>:   6%|▋         | 8/126 [00:00<00:01, 78.86it/s]\n",
            "Training =>:  13%|█▎        | 17/126 [00:00<00:01, 82.06it/s]\n",
            "Training =>:  21%|██        | 26/126 [00:00<00:01, 82.74it/s]\n",
            "Training =>:  28%|██▊       | 35/126 [00:00<00:01, 81.99it/s]\n",
            "Training =>:  35%|███▍      | 44/126 [00:00<00:00, 82.78it/s]\n",
            "Training =>:  42%|████▏     | 53/126 [00:00<00:00, 82.41it/s]\n",
            "Training =>:  49%|████▉     | 62/126 [00:00<00:00, 82.76it/s]\n",
            "Training =>:  56%|█████▋    | 71/126 [00:00<00:00, 82.07it/s]\n",
            "Training =>:  63%|██████▎   | 80/126 [00:00<00:00, 81.60it/s]\n",
            "Training =>:  71%|███████   | 89/126 [00:01<00:00, 82.30it/s]\n",
            "Training =>:  78%|███████▊  | 98/126 [00:01<00:00, 82.68it/s]\n",
            "Training =>:  85%|████████▍ | 107/126 [00:01<00:00, 83.28it/s]\n",
            "Training =>:  92%|█████████▏| 116/126 [00:01<00:00, 83.12it/s]\n",
            "Training =>:  99%|█████████▉| 125/126 [00:01<00:00, 83.21it/s]\n",
            "100%|██████████| 126/126 [00:01<00:00, 82.65it/s]\n",
            "Training =>: 100%|██████████| 126/126 [00:01<00:00, 82.39it/s]\n"
          ]
        },
        {
          "output_type": "stream",
          "name": "stdout",
          "text": [
            "Saving at epoch 1\n",
            "Epoch: 1 | Total Training Loss: 85.60617065429688 | Pose Training Loss: 0.8459522724151611 | Action Training Loss: 1.0109256505966187 | Action Train Label Accuracy: 53.5503509970802\n"
          ]
        },
        {
          "output_type": "stream",
          "name": "stderr",
          "text": [
            "Testing =>:   0%|          | 0/10 [00:00<?, ?it/s]\n",
            "100%|██████████| 10/10 [00:00<00:00, 206.60it/s]\n",
            "Testing =>: 100%|██████████| 10/10 [00:00<00:00, 185.62it/s]\n"
          ]
        },
        {
          "output_type": "stream",
          "name": "stdout",
          "text": [
            "Epoch: 1 | Total Testing Loss: 14.138185501098633 | Pose Testing Loss: 0.11169858276844025 | Action Testing Loss: 2.968327283859253 | Action Test Label Accuracy: 20.0\n",
            "Starting EPOCH: 3 / 30\n"
          ]
        },
        {
          "output_type": "stream",
          "name": "stderr",
          "text": [
            "Training =>:   0%|          | 0/126 [00:00<?, ?it/s]\n",
            "Training =>:   6%|▋         | 8/126 [00:00<00:01, 77.11it/s]\n",
            "Training =>:  13%|█▎        | 17/126 [00:00<00:01, 80.70it/s]\n",
            "Training =>:  21%|██        | 26/126 [00:00<00:01, 81.56it/s]\n",
            "Training =>:  28%|██▊       | 35/126 [00:00<00:01, 80.68it/s]\n",
            "Training =>:  35%|███▍      | 44/126 [00:00<00:01, 78.96it/s]\n",
            "Training =>:  41%|████▏     | 52/126 [00:00<00:00, 78.23it/s]\n",
            "Training =>:  48%|████▊     | 61/126 [00:00<00:00, 79.40it/s]\n",
            "Training =>:  56%|█████▌    | 70/126 [00:00<00:00, 80.14it/s]\n",
            "Training =>:  63%|██████▎   | 79/126 [00:00<00:00, 81.34it/s]\n",
            "Training =>:  70%|██████▉   | 88/126 [00:01<00:00, 80.03it/s]\n",
            "Training =>:  77%|███████▋  | 97/126 [00:01<00:00, 78.94it/s]\n",
            "Training =>:  84%|████████▍ | 106/126 [00:01<00:00, 80.36it/s]\n",
            "Training =>:  91%|█████████▏| 115/126 [00:01<00:00, 81.53it/s]\n",
            "Training =>:  98%|█████████▊| 124/126 [00:01<00:00, 82.45it/s]\n",
            "100%|██████████| 126/126 [00:01<00:00, 80.66it/s]\n",
            "Training =>: 100%|██████████| 126/126 [00:01<00:00, 80.32it/s]\n"
          ]
        },
        {
          "output_type": "stream",
          "name": "stdout",
          "text": [
            "Saving at epoch 2\n",
            "Epoch: 2 | Total Training Loss: 51.71696090698242 | Pose Training Loss: 0.5086367726325989 | Action Training Loss: 0.8532938361167908 | Action Train Label Accuracy: 60.62309747157856\n"
          ]
        },
        {
          "output_type": "stream",
          "name": "stderr",
          "text": [
            "Testing =>:   0%|          | 0/10 [00:00<?, ?it/s]\n",
            "100%|██████████| 10/10 [00:00<00:00, 201.92it/s]\n",
            "Testing =>: 100%|██████████| 10/10 [00:00<00:00, 181.18it/s]\n"
          ]
        },
        {
          "output_type": "stream",
          "name": "stdout",
          "text": [
            "Epoch: 2 | Total Testing Loss: 10.414505004882812 | Pose Testing Loss: 0.0768788754940033 | Action Testing Loss: 2.726616382598877 | Action Test Label Accuracy: 20.0\n",
            "Starting EPOCH: 4 / 30\n"
          ]
        },
        {
          "output_type": "stream",
          "name": "stderr",
          "text": [
            "Training =>:   0%|          | 0/126 [00:00<?, ?it/s]\n",
            "Training =>:   6%|▋         | 8/126 [00:00<00:01, 72.04it/s]\n",
            "Training =>:  13%|█▎        | 16/126 [00:00<00:01, 74.57it/s]\n",
            "Training =>:  19%|█▉        | 24/126 [00:00<00:01, 75.67it/s]\n",
            "Training =>:  25%|██▌       | 32/126 [00:00<00:01, 76.81it/s]\n",
            "Training =>:  33%|███▎      | 41/126 [00:00<00:01, 79.10it/s]\n",
            "Training =>:  40%|███▉      | 50/126 [00:00<00:00, 80.58it/s]\n",
            "Training =>:  47%|████▋     | 59/126 [00:00<00:00, 79.96it/s]\n",
            "Training =>:  53%|█████▎    | 67/126 [00:00<00:00, 78.57it/s]\n",
            "Training =>:  60%|██████    | 76/126 [00:00<00:00, 79.86it/s]\n",
            "Training =>:  67%|██████▋   | 84/126 [00:01<00:00, 79.48it/s]\n",
            "Training =>:  73%|███████▎  | 92/126 [00:01<00:00, 79.22it/s]\n",
            "Training =>:  80%|████████  | 101/126 [00:01<00:00, 79.99it/s]\n",
            "Training =>:  87%|████████▋ | 109/126 [00:01<00:00, 79.32it/s]\n",
            "Training =>:  93%|█████████▎| 117/126 [00:01<00:00, 78.25it/s]\n",
            "100%|██████████| 126/126 [00:01<00:00, 78.85it/s]\n",
            "Training =>: 100%|██████████| 126/126 [00:01<00:00, 78.59it/s]\n"
          ]
        },
        {
          "output_type": "stream",
          "name": "stdout",
          "text": [
            "Saving at epoch 3\n",
            "Epoch: 3 | Total Training Loss: 33.121376037597656 | Pose Training Loss: 0.3232436776161194 | Action Training Loss: 0.7970070838928223 | Action Train Label Accuracy: 63.59259489345841\n"
          ]
        },
        {
          "output_type": "stream",
          "name": "stderr",
          "text": [
            "Testing =>:   0%|          | 0/10 [00:00<?, ?it/s]\n",
            "100%|██████████| 10/10 [00:00<00:00, 169.52it/s]\n",
            "Testing =>: 100%|██████████| 10/10 [00:00<00:00, 155.78it/s]\n"
          ]
        },
        {
          "output_type": "stream",
          "name": "stdout",
          "text": [
            "Epoch: 3 | Total Testing Loss: 9.148798942565918 | Pose Testing Loss: 0.06517723202705383 | Action Testing Loss: 2.631075620651245 | Action Test Label Accuracy: 20.0\n",
            "Starting EPOCH: 5 / 30\n"
          ]
        },
        {
          "output_type": "stream",
          "name": "stderr",
          "text": [
            "Training =>:   0%|          | 0/126 [00:00<?, ?it/s]\n",
            "Training =>:   6%|▋         | 8/126 [00:00<00:01, 76.89it/s]\n",
            "Training =>:  13%|█▎        | 17/126 [00:00<00:01, 79.72it/s]\n",
            "Training =>:  21%|██        | 26/126 [00:00<00:01, 81.00it/s]\n",
            "Training =>:  28%|██▊       | 35/126 [00:00<00:01, 82.15it/s]\n",
            "Training =>:  35%|███▍      | 44/126 [00:00<00:00, 82.74it/s]\n",
            "Training =>:  42%|████▏     | 53/126 [00:00<00:00, 82.55it/s]\n",
            "Training =>:  49%|████▉     | 62/126 [00:00<00:00, 82.16it/s]\n",
            "Training =>:  56%|█████▋    | 71/126 [00:00<00:00, 82.02it/s]\n",
            "Training =>:  63%|██████▎   | 80/126 [00:00<00:00, 82.25it/s]\n",
            "Training =>:  71%|███████   | 89/126 [00:01<00:00, 82.67it/s]\n",
            "Training =>:  78%|███████▊  | 98/126 [00:01<00:00, 82.32it/s]\n",
            "Training =>:  85%|████████▍ | 107/126 [00:01<00:00, 82.35it/s]\n",
            "Training =>:  92%|█████████▏| 116/126 [00:01<00:00, 82.68it/s]\n",
            "Training =>:  99%|█████████▉| 125/126 [00:01<00:00, 82.70it/s]\n",
            "100%|██████████| 126/126 [00:01<00:00, 82.26it/s]\n",
            "Training =>: 100%|██████████| 126/126 [00:01<00:00, 81.89it/s]\n"
          ]
        },
        {
          "output_type": "stream",
          "name": "stdout",
          "text": [
            "Saving at epoch 4\n",
            "Epoch: 4 | Total Training Loss: 23.717937469482422 | Pose Training Loss: 0.229532852768898 | Action Training Loss: 0.7646594047546387 | Action Train Label Accuracy: 65.56501211405852\n"
          ]
        },
        {
          "output_type": "stream",
          "name": "stderr",
          "text": [
            "Testing =>:   0%|          | 0/10 [00:00<?, ?it/s]\n",
            "100%|██████████| 10/10 [00:00<00:00, 205.62it/s]\n",
            "Testing =>: 100%|██████████| 10/10 [00:00<00:00, 185.00it/s]\n"
          ]
        },
        {
          "output_type": "stream",
          "name": "stdout",
          "text": [
            "Epoch: 4 | Total Testing Loss: 8.888945579528809 | Pose Testing Loss: 0.06429732590913773 | Action Testing Loss: 2.459212064743042 | Action Test Label Accuracy: 20.0\n",
            "Starting EPOCH: 6 / 30\n"
          ]
        },
        {
          "output_type": "stream",
          "name": "stderr",
          "text": [
            "Training =>:   0%|          | 0/126 [00:00<?, ?it/s]\n",
            "Training =>:   6%|▋         | 8/126 [00:00<00:01, 76.09it/s]\n",
            "Training =>:  13%|█▎        | 17/126 [00:00<00:01, 79.35it/s]\n",
            "Training =>:  21%|██        | 26/126 [00:00<00:01, 80.17it/s]\n",
            "Training =>:  28%|██▊       | 35/126 [00:00<00:01, 81.24it/s]\n",
            "Training =>:  35%|███▍      | 44/126 [00:00<00:01, 81.85it/s]\n",
            "Training =>:  42%|████▏     | 53/126 [00:00<00:00, 81.90it/s]\n",
            "Training =>:  49%|████▉     | 62/126 [00:00<00:00, 82.48it/s]\n",
            "Training =>:  56%|█████▋    | 71/126 [00:00<00:00, 82.98it/s]\n",
            "Training =>:  63%|██████▎   | 80/126 [00:00<00:00, 83.05it/s]\n",
            "Training =>:  71%|███████   | 89/126 [00:01<00:00, 82.85it/s]\n",
            "Training =>:  78%|███████▊  | 98/126 [00:01<00:00, 82.37it/s]\n",
            "Training =>:  85%|████████▍ | 107/126 [00:01<00:00, 82.26it/s]\n",
            "Training =>:  92%|█████████▏| 116/126 [00:01<00:00, 83.20it/s]\n",
            "Training =>:  99%|█████████▉| 125/126 [00:01<00:00, 83.42it/s]\n",
            "100%|██████████| 126/126 [00:01<00:00, 82.31it/s]\n",
            "Training =>: 100%|██████████| 126/126 [00:01<00:00, 82.01it/s]\n"
          ]
        },
        {
          "output_type": "stream",
          "name": "stdout",
          "text": [
            "Saving at epoch 5\n",
            "Epoch: 5 | Total Training Loss: 18.47554588317871 | Pose Training Loss: 0.17741942405700684 | Action Training Loss: 0.7336008548736572 | Action Train Label Accuracy: 67.7113747903336\n"
          ]
        },
        {
          "output_type": "stream",
          "name": "stderr",
          "text": [
            "Testing =>:   0%|          | 0/10 [00:00<?, ?it/s]\n",
            "100%|██████████| 10/10 [00:00<00:00, 207.74it/s]\n",
            "Testing =>: 100%|██████████| 10/10 [00:00<00:00, 187.12it/s]\n"
          ]
        },
        {
          "output_type": "stream",
          "name": "stdout",
          "text": [
            "Epoch: 5 | Total Testing Loss: 8.611437797546387 | Pose Testing Loss: 0.06243332847952843 | Action Testing Loss: 2.36810564994812 | Action Test Label Accuracy: 20.25\n",
            "Starting EPOCH: 7 / 30\n"
          ]
        },
        {
          "output_type": "stream",
          "name": "stderr",
          "text": [
            "Training =>:   0%|          | 0/126 [00:00<?, ?it/s]\n",
            "Training =>:   6%|▋         | 8/126 [00:00<00:01, 79.42it/s]\n",
            "Training =>:  13%|█▎        | 17/126 [00:00<00:01, 81.72it/s]\n",
            "Training =>:  21%|██        | 26/126 [00:00<00:01, 82.16it/s]\n",
            "Training =>:  28%|██▊       | 35/126 [00:00<00:01, 82.64it/s]\n",
            "Training =>:  35%|███▍      | 44/126 [00:00<00:00, 82.37it/s]\n",
            "Training =>:  42%|████▏     | 53/126 [00:00<00:00, 82.88it/s]\n",
            "Training =>:  49%|████▉     | 62/126 [00:00<00:00, 83.27it/s]\n",
            "Training =>:  56%|█████▋    | 71/126 [00:00<00:00, 83.16it/s]\n",
            "Training =>:  63%|██████▎   | 80/126 [00:00<00:00, 83.36it/s]\n",
            "Training =>:  71%|███████   | 89/126 [00:01<00:00, 82.72it/s]\n",
            "Training =>:  78%|███████▊  | 98/126 [00:01<00:00, 82.46it/s]\n",
            "Training =>:  85%|████████▍ | 107/126 [00:01<00:00, 82.91it/s]\n",
            "Training =>:  92%|█████████▏| 116/126 [00:01<00:00, 83.09it/s]\n",
            "Training =>:  99%|█████████▉| 125/126 [00:01<00:00, 83.30it/s]\n",
            "100%|██████████| 126/126 [00:01<00:00, 82.88it/s]\n",
            "Training =>: 100%|██████████| 126/126 [00:01<00:00, 82.60it/s]\n"
          ]
        },
        {
          "output_type": "stream",
          "name": "stdout",
          "text": [
            "Saving at epoch 6\n",
            "Epoch: 6 | Total Training Loss: 15.324664115905762 | Pose Training Loss: 0.14620667695999146 | Action Training Loss: 0.7039858102798462 | Action Train Label Accuracy: 69.49431571100206\n"
          ]
        },
        {
          "output_type": "stream",
          "name": "stderr",
          "text": [
            "Testing =>:   0%|          | 0/10 [00:00<?, ?it/s]\n",
            "100%|██████████| 10/10 [00:00<00:00, 203.04it/s]\n",
            "Testing =>: 100%|██████████| 10/10 [00:00<00:00, 185.02it/s]\n"
          ]
        },
        {
          "output_type": "stream",
          "name": "stdout",
          "text": [
            "Epoch: 6 | Total Testing Loss: 8.223422050476074 | Pose Testing Loss: 0.059359800070524216 | Action Testing Loss: 2.2874419689178467 | Action Test Label Accuracy: 20.375\n",
            "Starting EPOCH: 8 / 30\n"
          ]
        },
        {
          "output_type": "stream",
          "name": "stderr",
          "text": [
            "Training =>:   0%|          | 0/126 [00:00<?, ?it/s]\n",
            "Training =>:   6%|▋         | 8/126 [00:00<00:01, 74.61it/s]\n",
            "Training =>:  13%|█▎        | 16/126 [00:00<00:01, 77.56it/s]\n",
            "Training =>:  20%|█▉        | 25/126 [00:00<00:01, 79.21it/s]\n",
            "Training =>:  26%|██▌       | 33/126 [00:00<00:01, 79.42it/s]\n",
            "Training =>:  33%|███▎      | 41/126 [00:00<00:01, 75.44it/s]\n",
            "Training =>:  40%|███▉      | 50/126 [00:00<00:00, 78.45it/s]\n",
            "Training =>:  47%|████▋     | 59/126 [00:00<00:00, 79.50it/s]\n",
            "Training =>:  53%|█████▎    | 67/126 [00:00<00:00, 79.18it/s]\n",
            "Training =>:  60%|██████    | 76/126 [00:00<00:00, 80.74it/s]\n",
            "Training =>:  67%|██████▋   | 85/126 [00:01<00:00, 80.73it/s]\n",
            "Training =>:  75%|███████▍  | 94/126 [00:01<00:00, 81.27it/s]\n",
            "Training =>:  82%|████████▏ | 103/126 [00:01<00:00, 82.21it/s]\n",
            "Training =>:  89%|████████▉ | 112/126 [00:01<00:00, 79.41it/s]\n",
            "Training =>:  96%|█████████▌| 121/126 [00:01<00:00, 80.89it/s]\n",
            "100%|██████████| 126/126 [00:01<00:00, 80.04it/s]\n",
            "Training =>: 100%|██████████| 126/126 [00:01<00:00, 79.70it/s]\n"
          ]
        },
        {
          "output_type": "stream",
          "name": "stdout",
          "text": [
            "Saving at epoch 7\n",
            "Epoch: 7 | Total Training Loss: 13.264892578125 | Pose Training Loss: 0.12591703236103058 | Action Training Loss: 0.673190176486969 | Action Train Label Accuracy: 71.23066409890042\n"
          ]
        },
        {
          "output_type": "stream",
          "name": "stderr",
          "text": [
            "Testing =>:   0%|          | 0/10 [00:00<?, ?it/s]\n",
            "100%|██████████| 10/10 [00:00<00:00, 197.13it/s]\n",
            "Testing =>: 100%|██████████| 10/10 [00:00<00:00, 174.85it/s]\n"
          ]
        },
        {
          "output_type": "stream",
          "name": "stdout",
          "text": [
            "Epoch: 7 | Total Testing Loss: 7.842933654785156 | Pose Testing Loss: 0.05481123924255371 | Action Testing Loss: 2.3618102073669434 | Action Test Label Accuracy: 20.583333333333336\n",
            "Starting EPOCH: 9 / 30\n"
          ]
        },
        {
          "output_type": "stream",
          "name": "stderr",
          "text": [
            "Training =>:   0%|          | 0/126 [00:00<?, ?it/s]\n",
            "Training =>:   6%|▋         | 8/126 [00:00<00:01, 75.67it/s]\n",
            "Training =>:  13%|█▎        | 17/126 [00:00<00:01, 80.19it/s]\n",
            "Training =>:  21%|██        | 26/126 [00:00<00:01, 80.67it/s]\n",
            "Training =>:  28%|██▊       | 35/126 [00:00<00:01, 81.66it/s]\n",
            "Training =>:  35%|███▍      | 44/126 [00:00<00:00, 82.12it/s]\n",
            "Training =>:  42%|████▏     | 53/126 [00:00<00:00, 82.64it/s]\n",
            "Training =>:  49%|████▉     | 62/126 [00:00<00:00, 83.00it/s]\n",
            "Training =>:  56%|█████▋    | 71/126 [00:00<00:00, 82.68it/s]\n",
            "Training =>:  63%|██████▎   | 80/126 [00:00<00:00, 83.30it/s]\n",
            "Training =>:  71%|███████   | 89/126 [00:01<00:00, 84.09it/s]\n",
            "Training =>:  78%|███████▊  | 98/126 [00:01<00:00, 84.27it/s]\n",
            "Training =>:  85%|████████▍ | 107/126 [00:01<00:00, 81.59it/s]\n",
            "Training =>:  92%|█████████▏| 116/126 [00:01<00:00, 81.36it/s]\n",
            "Training =>:  99%|█████████▉| 125/126 [00:01<00:00, 82.14it/s]\n",
            "100%|██████████| 126/126 [00:01<00:00, 82.18it/s]\n",
            "Training =>: 100%|██████████| 126/126 [00:01<00:00, 81.92it/s]\n"
          ]
        },
        {
          "output_type": "stream",
          "name": "stdout",
          "text": [
            "Saving at epoch 8\n",
            "Epoch: 8 | Total Training Loss: 11.706273078918457 | Pose Training Loss: 0.11067637801170349 | Action Training Loss: 0.6386374235153198 | Action Train Label Accuracy: 73.11921476051438\n"
          ]
        },
        {
          "output_type": "stream",
          "name": "stderr",
          "text": [
            "Testing =>:   0%|          | 0/10 [00:00<?, ?it/s]\n",
            "100%|██████████| 10/10 [00:00<00:00, 196.16it/s]\n",
            "Testing =>: 100%|██████████| 10/10 [00:00<00:00, 180.91it/s]\n"
          ]
        },
        {
          "output_type": "stream",
          "name": "stdout",
          "text": [
            "Epoch: 8 | Total Testing Loss: 7.0985260009765625 | Pose Testing Loss: 0.049631137400865555 | Action Testing Loss: 2.1354126930236816 | Action Test Label Accuracy: 23.958333333333336\n",
            "Starting EPOCH: 10 / 30\n"
          ]
        },
        {
          "output_type": "stream",
          "name": "stderr",
          "text": [
            "Training =>:   0%|          | 0/126 [00:00<?, ?it/s]\n",
            "Training =>:   6%|▋         | 8/126 [00:00<00:01, 75.58it/s]\n",
            "Training =>:  13%|█▎        | 17/126 [00:00<00:01, 79.93it/s]\n",
            "Training =>:  21%|██        | 26/126 [00:00<00:01, 80.90it/s]\n",
            "Training =>:  28%|██▊       | 35/126 [00:00<00:01, 78.73it/s]\n",
            "Training =>:  35%|███▍      | 44/126 [00:00<00:01, 79.66it/s]\n",
            "Training =>:  41%|████▏     | 52/126 [00:00<00:00, 79.59it/s]\n",
            "Training =>:  48%|████▊     | 61/126 [00:00<00:00, 80.56it/s]\n",
            "Training =>:  56%|█████▌    | 70/126 [00:00<00:00, 81.59it/s]\n",
            "Training =>:  63%|██████▎   | 79/126 [00:00<00:00, 82.00it/s]\n",
            "Training =>:  70%|██████▉   | 88/126 [00:01<00:00, 82.88it/s]\n",
            "Training =>:  77%|███████▋  | 97/126 [00:01<00:00, 83.45it/s]\n",
            "Training =>:  84%|████████▍ | 106/126 [00:01<00:00, 83.23it/s]\n",
            "Training =>:  91%|█████████▏| 115/126 [00:01<00:00, 83.42it/s]\n",
            "Training =>:  98%|█████████▊| 124/126 [00:01<00:00, 81.50it/s]\n",
            "100%|██████████| 126/126 [00:01<00:00, 81.36it/s]\n",
            "Training =>: 100%|██████████| 126/126 [00:01<00:00, 81.06it/s]\n"
          ]
        },
        {
          "output_type": "stream",
          "name": "stdout",
          "text": [
            "Saving at epoch 9\n",
            "Epoch: 9 | Total Training Loss: 10.55134105682373 | Pose Training Loss: 0.09941957145929337 | Action Training Loss: 0.6093844771385193 | Action Train Label Accuracy: 74.6039634714543\n"
          ]
        },
        {
          "output_type": "stream",
          "name": "stderr",
          "text": [
            "Testing =>:   0%|          | 0/10 [00:00<?, ?it/s]\n",
            "100%|██████████| 10/10 [00:00<00:00, 203.17it/s]\n",
            "Testing =>: 100%|██████████| 10/10 [00:00<00:00, 182.28it/s]\n"
          ]
        },
        {
          "output_type": "stream",
          "name": "stdout",
          "text": [
            "Epoch: 9 | Total Testing Loss: 6.8260040283203125 | Pose Testing Loss: 0.04415412247180939 | Action Testing Loss: 2.410592794418335 | Action Test Label Accuracy: 22.958333333333332\n",
            "Starting EPOCH: 11 / 30\n"
          ]
        },
        {
          "output_type": "stream",
          "name": "stderr",
          "text": [
            "Training =>:   0%|          | 0/126 [00:00<?, ?it/s]\n",
            "Training =>:   6%|▋         | 8/126 [00:00<00:01, 76.77it/s]\n",
            "Training =>:  13%|█▎        | 17/126 [00:00<00:01, 79.90it/s]\n",
            "Training =>:  21%|██        | 26/126 [00:00<00:01, 80.58it/s]\n",
            "Training =>:  28%|██▊       | 35/126 [00:00<00:01, 80.80it/s]\n",
            "Training =>:  35%|███▍      | 44/126 [00:00<00:01, 81.94it/s]\n",
            "Training =>:  42%|████▏     | 53/126 [00:00<00:00, 80.86it/s]\n",
            "Training =>:  49%|████▉     | 62/126 [00:00<00:00, 81.61it/s]\n",
            "Training =>:  56%|█████▋    | 71/126 [00:00<00:00, 81.68it/s]\n",
            "Training =>:  63%|██████▎   | 80/126 [00:00<00:00, 80.26it/s]\n",
            "Training =>:  71%|███████   | 89/126 [00:01<00:00, 81.01it/s]\n",
            "Training =>:  78%|███████▊  | 98/126 [00:01<00:00, 80.45it/s]\n",
            "Training =>:  85%|████████▍ | 107/126 [00:01<00:00, 81.36it/s]\n",
            "Training =>:  92%|█████████▏| 116/126 [00:01<00:00, 81.98it/s]\n",
            "Training =>:  99%|█████████▉| 125/126 [00:01<00:00, 82.42it/s]\n",
            "100%|██████████| 126/126 [00:01<00:00, 81.34it/s]\n",
            "Training =>: 100%|██████████| 126/126 [00:01<00:00, 81.04it/s]\n"
          ]
        },
        {
          "output_type": "stream",
          "name": "stdout",
          "text": [
            "Saving at epoch 10\n",
            "Epoch: 10 | Total Training Loss: 9.53645133972168 | Pose Training Loss: 0.08964976668357849 | Action Training Loss: 0.571474552154541 | Action Train Label Accuracy: 76.50493880847364\n"
          ]
        },
        {
          "output_type": "stream",
          "name": "stderr",
          "text": [
            "Testing =>:   0%|          | 0/10 [00:00<?, ?it/s]\n",
            "100%|██████████| 10/10 [00:00<00:00, 202.59it/s]\n",
            "Testing =>: 100%|██████████| 10/10 [00:00<00:00, 179.40it/s]\n"
          ]
        },
        {
          "output_type": "stream",
          "name": "stdout",
          "text": [
            "Epoch: 10 | Total Testing Loss: 6.227787971496582 | Pose Testing Loss: 0.041821930557489395 | Action Testing Loss: 2.0455944538116455 | Action Test Label Accuracy: 28.625\n",
            "Starting EPOCH: 12 / 30\n"
          ]
        },
        {
          "output_type": "stream",
          "name": "stderr",
          "text": [
            "Training =>:   0%|          | 0/126 [00:00<?, ?it/s]\n",
            "Training =>:   6%|▋         | 8/126 [00:00<00:01, 78.19it/s]\n",
            "Training =>:  13%|█▎        | 16/126 [00:00<00:01, 79.12it/s]\n",
            "Training =>:  19%|█▉        | 24/126 [00:00<00:01, 76.22it/s]\n",
            "Training =>:  25%|██▌       | 32/126 [00:00<00:01, 77.41it/s]\n",
            "Training =>:  33%|███▎      | 41/126 [00:00<00:01, 79.36it/s]\n",
            "Training =>:  39%|███▉      | 49/126 [00:00<00:00, 79.03it/s]\n",
            "Training =>:  45%|████▌     | 57/126 [00:00<00:00, 79.05it/s]\n",
            "Training =>:  52%|█████▏    | 65/126 [00:00<00:00, 78.74it/s]\n",
            "Training =>:  58%|█████▊    | 73/126 [00:00<00:00, 79.07it/s]\n",
            "Training =>:  65%|██████▌   | 82/126 [00:01<00:00, 80.22it/s]\n",
            "Training =>:  72%|███████▏  | 91/126 [00:01<00:00, 80.17it/s]\n",
            "Training =>:  79%|███████▉  | 100/126 [00:01<00:00, 80.27it/s]\n",
            "Training =>:  87%|████████▋ | 109/126 [00:01<00:00, 81.42it/s]\n",
            "Training =>:  94%|█████████▎| 118/126 [00:01<00:00, 81.79it/s]\n",
            "100%|██████████| 126/126 [00:01<00:00, 80.13it/s]\n",
            "Training =>: 100%|██████████| 126/126 [00:01<00:00, 79.81it/s]\n"
          ]
        },
        {
          "output_type": "stream",
          "name": "stdout",
          "text": [
            "Saving at epoch 11\n",
            "Epoch: 11 | Total Training Loss: 8.759888648986816 | Pose Training Loss: 0.08219175040721893 | Action Training Loss: 0.5407126545906067 | Action Train Label Accuracy: 77.96794433745418\n"
          ]
        },
        {
          "output_type": "stream",
          "name": "stderr",
          "text": [
            "Testing =>:   0%|          | 0/10 [00:00<?, ?it/s]\n",
            "100%|██████████| 10/10 [00:00<00:00, 196.55it/s]\n",
            "Testing =>: 100%|██████████| 10/10 [00:00<00:00, 176.29it/s]\n"
          ]
        },
        {
          "output_type": "stream",
          "name": "stdout",
          "text": [
            "Epoch: 11 | Total Testing Loss: 6.003182888031006 | Pose Testing Loss: 0.03785937651991844 | Action Testing Loss: 2.217244863510132 | Action Test Label Accuracy: 28.958333333333336\n",
            "Starting EPOCH: 13 / 30\n"
          ]
        },
        {
          "output_type": "stream",
          "name": "stderr",
          "text": [
            "Training =>:   0%|          | 0/126 [00:00<?, ?it/s]\n",
            "Training =>:   6%|▋         | 8/126 [00:00<00:01, 76.21it/s]\n",
            "Training =>:  13%|█▎        | 17/126 [00:00<00:01, 79.99it/s]\n",
            "Training =>:  21%|██        | 26/126 [00:00<00:01, 80.51it/s]\n",
            "Training =>:  28%|██▊       | 35/126 [00:00<00:01, 81.53it/s]\n",
            "Training =>:  35%|███▍      | 44/126 [00:00<00:00, 82.07it/s]\n",
            "Training =>:  42%|████▏     | 53/126 [00:00<00:00, 82.45it/s]\n",
            "Training =>:  49%|████▉     | 62/126 [00:00<00:00, 82.73it/s]\n",
            "Training =>:  56%|█████▋    | 71/126 [00:00<00:00, 83.41it/s]\n",
            "Training =>:  63%|██████▎   | 80/126 [00:00<00:00, 83.10it/s]\n",
            "Training =>:  71%|███████   | 89/126 [00:01<00:00, 83.19it/s]\n",
            "Training =>:  78%|███████▊  | 98/126 [00:01<00:00, 82.35it/s]\n",
            "Training =>:  85%|████████▍ | 107/126 [00:01<00:00, 83.04it/s]\n",
            "Training =>:  92%|█████████▏| 116/126 [00:01<00:00, 83.07it/s]\n",
            "Training =>:  99%|█████████▉| 125/126 [00:01<00:00, 83.15it/s]\n",
            "100%|██████████| 126/126 [00:01<00:00, 82.54it/s]\n",
            "Training =>: 100%|██████████| 126/126 [00:01<00:00, 82.17it/s]\n"
          ]
        },
        {
          "output_type": "stream",
          "name": "stdout",
          "text": [
            "Saving at epoch 12\n",
            "Epoch: 12 | Total Training Loss: 8.07141399383545 | Pose Training Loss: 0.0756165087223053 | Action Training Loss: 0.5097624659538269 | Action Train Label Accuracy: 79.52102876312355\n"
          ]
        },
        {
          "output_type": "stream",
          "name": "stderr",
          "text": [
            "Testing =>:   0%|          | 0/10 [00:00<?, ?it/s]\n",
            "100%|██████████| 10/10 [00:00<00:00, 207.88it/s]\n",
            "Testing =>: 100%|██████████| 10/10 [00:00<00:00, 182.93it/s]\n"
          ]
        },
        {
          "output_type": "stream",
          "name": "stdout",
          "text": [
            "Epoch: 12 | Total Testing Loss: 5.554859161376953 | Pose Testing Loss: 0.03597448021173477 | Action Testing Loss: 1.9574116468429565 | Action Test Label Accuracy: 32.75\n",
            "Starting EPOCH: 14 / 30\n"
          ]
        },
        {
          "output_type": "stream",
          "name": "stderr",
          "text": [
            "Training =>:   0%|          | 0/126 [00:00<?, ?it/s]\n",
            "Training =>:   6%|▋         | 8/126 [00:00<00:01, 75.03it/s]\n",
            "Training =>:  13%|█▎        | 16/126 [00:00<00:01, 77.37it/s]\n",
            "Training =>:  20%|█▉        | 25/126 [00:00<00:01, 79.36it/s]\n",
            "Training =>:  27%|██▋       | 34/126 [00:00<00:01, 80.65it/s]\n",
            "Training =>:  34%|███▍      | 43/126 [00:00<00:01, 81.97it/s]\n",
            "Training =>:  41%|████▏     | 52/126 [00:00<00:00, 81.53it/s]\n",
            "Training =>:  48%|████▊     | 61/126 [00:00<00:00, 81.95it/s]\n",
            "Training =>:  56%|█████▌    | 70/126 [00:00<00:00, 81.93it/s]\n",
            "Training =>:  63%|██████▎   | 79/126 [00:00<00:00, 82.54it/s]\n",
            "Training =>:  70%|██████▉   | 88/126 [00:01<00:00, 82.84it/s]\n",
            "Training =>:  77%|███████▋  | 97/126 [00:01<00:00, 82.21it/s]\n",
            "Training =>:  84%|████████▍ | 106/126 [00:01<00:00, 82.09it/s]\n",
            "Training =>:  91%|█████████▏| 115/126 [00:01<00:00, 82.48it/s]\n",
            "Training =>:  98%|█████████▊| 124/126 [00:01<00:00, 82.85it/s]\n",
            "100%|██████████| 126/126 [00:01<00:00, 81.78it/s]\n",
            "Training =>: 100%|██████████| 126/126 [00:01<00:00, 81.48it/s]\n"
          ]
        },
        {
          "output_type": "stream",
          "name": "stdout",
          "text": [
            "Saving at epoch 13\n",
            "Epoch: 13 | Total Training Loss: 7.509942531585693 | Pose Training Loss: 0.07024296373128891 | Action Training Loss: 0.485645592212677 | Action Train Label Accuracy: 80.6858420823756\n"
          ]
        },
        {
          "output_type": "stream",
          "name": "stderr",
          "text": [
            "Testing =>:   0%|          | 0/10 [00:00<?, ?it/s]\n",
            "100%|██████████| 10/10 [00:00<00:00, 197.81it/s]\n",
            "Testing =>: 100%|██████████| 10/10 [00:00<00:00, 181.65it/s]\n"
          ]
        },
        {
          "output_type": "stream",
          "name": "stdout",
          "text": [
            "Epoch: 13 | Total Testing Loss: 5.195000171661377 | Pose Testing Loss: 0.03368651866912842 | Action Testing Loss: 1.8263483047485352 | Action Test Label Accuracy: 35.625\n",
            "Starting EPOCH: 15 / 30\n"
          ]
        },
        {
          "output_type": "stream",
          "name": "stderr",
          "text": [
            "Training =>:   0%|          | 0/126 [00:00<?, ?it/s]\n",
            "Training =>:   1%|          | 1/126 [00:00<00:16,  7.37it/s]\n",
            "Training =>:   8%|▊         | 10/126 [00:00<00:02, 47.25it/s]\n",
            "Training =>:  15%|█▌        | 19/126 [00:00<00:01, 62.82it/s]\n",
            "Training =>:  22%|██▏       | 28/126 [00:00<00:01, 70.55it/s]\n",
            "Training =>:  29%|██▊       | 36/126 [00:00<00:01, 72.46it/s]\n",
            "Training =>:  36%|███▌      | 45/126 [00:00<00:01, 76.29it/s]\n",
            "Training =>:  43%|████▎     | 54/126 [00:00<00:00, 78.76it/s]\n",
            "Training =>:  50%|█████     | 63/126 [00:00<00:00, 79.71it/s]\n",
            "Training =>:  57%|█████▋    | 72/126 [00:00<00:00, 81.00it/s]\n",
            "Training =>:  64%|██████▍   | 81/126 [00:01<00:00, 81.40it/s]\n",
            "Training =>:  71%|███████▏  | 90/126 [00:01<00:00, 81.33it/s]\n",
            "Training =>:  79%|███████▊  | 99/126 [00:01<00:00, 82.00it/s]\n",
            "Training =>:  86%|████████▌ | 108/126 [00:01<00:00, 81.97it/s]\n",
            "Training =>:  93%|█████████▎| 117/126 [00:01<00:00, 81.11it/s]\n",
            "Training =>: 100%|██████████| 126/126 [00:01<00:00, 81.88it/s]\n",
            "100%|██████████| 126/126 [00:01<00:00, 75.94it/s]\n",
            "Training =>: 100%|██████████| 126/126 [00:01<00:00, 75.69it/s]\n"
          ]
        },
        {
          "output_type": "stream",
          "name": "stdout",
          "text": [
            "Saving at epoch 14\n",
            "Epoch: 14 | Total Training Loss: 6.99613094329834 | Pose Training Loss: 0.06542618572711945 | Action Training Loss: 0.45351463556289673 | Action Train Label Accuracy: 82.09293657203206\n"
          ]
        },
        {
          "output_type": "stream",
          "name": "stderr",
          "text": [
            "Testing =>:   0%|          | 0/10 [00:00<?, ?it/s]\n",
            "100%|██████████| 10/10 [00:00<00:00, 201.94it/s]\n",
            "Testing =>: 100%|██████████| 10/10 [00:00<00:00, 183.39it/s]\n"
          ]
        },
        {
          "output_type": "stream",
          "name": "stdout",
          "text": [
            "Epoch: 14 | Total Testing Loss: 4.95660924911499 | Pose Testing Loss: 0.03133685514330864 | Action Testing Loss: 1.8229230642318726 | Action Test Label Accuracy: 36.333333333333336\n",
            "Starting EPOCH: 16 / 30\n"
          ]
        },
        {
          "output_type": "stream",
          "name": "stderr",
          "text": [
            "Training =>:   0%|          | 0/126 [00:00<?, ?it/s]\n",
            "Training =>:   7%|▋         | 9/126 [00:00<00:01, 81.07it/s]\n",
            "Training =>:  14%|█▍        | 18/126 [00:00<00:01, 80.35it/s]\n",
            "Training =>:  21%|██▏       | 27/126 [00:00<00:01, 81.08it/s]\n",
            "Training =>:  29%|██▊       | 36/126 [00:00<00:01, 81.87it/s]\n",
            "Training =>:  36%|███▌      | 45/126 [00:00<00:00, 81.63it/s]\n",
            "Training =>:  43%|████▎     | 54/126 [00:00<00:00, 79.96it/s]\n",
            "Training =>:  50%|█████     | 63/126 [00:00<00:00, 80.74it/s]\n",
            "Training =>:  57%|█████▋    | 72/126 [00:00<00:00, 81.63it/s]\n",
            "Training =>:  64%|██████▍   | 81/126 [00:01<00:00, 80.88it/s]\n",
            "Training =>:  71%|███████▏  | 90/126 [00:01<00:00, 80.48it/s]\n",
            "Training =>:  79%|███████▊  | 99/126 [00:01<00:00, 76.86it/s]\n",
            "Training =>:  85%|████████▍ | 107/126 [00:01<00:00, 76.15it/s]\n",
            "Training =>:  92%|█████████▏| 116/126 [00:01<00:00, 77.53it/s]\n",
            "Training =>:  99%|█████████▉| 125/126 [00:01<00:00, 79.11it/s]\n",
            "100%|██████████| 126/126 [00:01<00:00, 79.63it/s]\n",
            "Training =>: 100%|██████████| 126/126 [00:01<00:00, 79.37it/s]\n"
          ]
        },
        {
          "output_type": "stream",
          "name": "stdout",
          "text": [
            "Saving at epoch 15\n",
            "Epoch: 15 | Total Training Loss: 6.569628715515137 | Pose Training Loss: 0.06140951067209244 | Action Training Loss: 0.4286794662475586 | Action Train Label Accuracy: 82.97198235696092\n"
          ]
        },
        {
          "output_type": "stream",
          "name": "stderr",
          "text": [
            "Testing =>:   0%|          | 0/10 [00:00<?, ?it/s]\n",
            "100%|██████████| 10/10 [00:00<00:00, 203.18it/s]\n",
            "Testing =>: 100%|██████████| 10/10 [00:00<00:00, 181.27it/s]\n"
          ]
        },
        {
          "output_type": "stream",
          "name": "stdout",
          "text": [
            "Epoch: 15 | Total Testing Loss: 4.884727954864502 | Pose Testing Loss: 0.030209971591830254 | Action Testing Loss: 1.863730788230896 | Action Test Label Accuracy: 35.875\n",
            "Starting EPOCH: 17 / 30\n"
          ]
        },
        {
          "output_type": "stream",
          "name": "stderr",
          "text": [
            "Training =>:   0%|          | 0/126 [00:00<?, ?it/s]\n",
            "Training =>:   6%|▋         | 8/126 [00:00<00:01, 76.57it/s]\n",
            "Training =>:  13%|█▎        | 16/126 [00:00<00:01, 78.37it/s]\n",
            "Training =>:  20%|█▉        | 25/126 [00:00<00:01, 80.38it/s]\n",
            "Training =>:  27%|██▋       | 34/126 [00:00<00:01, 81.66it/s]\n",
            "Training =>:  34%|███▍      | 43/126 [00:00<00:01, 82.80it/s]\n",
            "Training =>:  41%|████▏     | 52/126 [00:00<00:00, 83.03it/s]\n",
            "Training =>:  48%|████▊     | 61/126 [00:00<00:00, 83.55it/s]\n",
            "Training =>:  56%|█████▌    | 70/126 [00:00<00:00, 83.79it/s]\n",
            "Training =>:  63%|██████▎   | 79/126 [00:00<00:00, 83.60it/s]\n",
            "Training =>:  70%|██████▉   | 88/126 [00:01<00:00, 82.33it/s]\n",
            "Training =>:  77%|███████▋  | 97/126 [00:01<00:00, 81.63it/s]\n",
            "Training =>:  84%|████████▍ | 106/126 [00:01<00:00, 82.29it/s]\n",
            "Training =>:  91%|█████████▏| 115/126 [00:01<00:00, 83.00it/s]\n",
            "Training =>:  98%|█████████▊| 124/126 [00:01<00:00, 82.89it/s]\n",
            "100%|██████████| 126/126 [00:01<00:00, 82.38it/s]\n",
            "Training =>: 100%|██████████| 126/126 [00:01<00:00, 82.10it/s]\n"
          ]
        },
        {
          "output_type": "stream",
          "name": "stdout",
          "text": [
            "Saving at epoch 16\n",
            "Epoch: 16 | Total Training Loss: 6.162843704223633 | Pose Training Loss: 0.05753231421113014 | Action Training Loss: 0.4096134901046753 | Action Train Label Accuracy: 84.10573398769957\n"
          ]
        },
        {
          "output_type": "stream",
          "name": "stderr",
          "text": [
            "Testing =>:   0%|          | 0/10 [00:00<?, ?it/s]\n",
            "100%|██████████| 10/10 [00:00<00:00, 206.36it/s]\n",
            "Testing =>: 100%|██████████| 10/10 [00:00<00:00, 180.64it/s]\n"
          ]
        },
        {
          "output_type": "stream",
          "name": "stdout",
          "text": [
            "Epoch: 16 | Total Testing Loss: 4.811641693115234 | Pose Testing Loss: 0.028288954868912697 | Action Testing Loss: 1.9827461242675781 | Action Test Label Accuracy: 37.708333333333336\n",
            "Starting EPOCH: 18 / 30\n"
          ]
        },
        {
          "output_type": "stream",
          "name": "stderr",
          "text": [
            "Training =>:   0%|          | 0/126 [00:00<?, ?it/s]\n",
            "Training =>:   6%|▋         | 8/126 [00:00<00:01, 78.90it/s]\n",
            "Training =>:  13%|█▎        | 16/126 [00:00<00:01, 78.70it/s]\n",
            "Training =>:  19%|█▉        | 24/126 [00:00<00:01, 78.85it/s]\n",
            "Training =>:  26%|██▌       | 33/126 [00:00<00:01, 80.11it/s]\n",
            "Training =>:  33%|███▎      | 42/126 [00:00<00:01, 80.99it/s]\n",
            "Training =>:  40%|████      | 51/126 [00:00<00:00, 81.14it/s]\n",
            "Training =>:  48%|████▊     | 60/126 [00:00<00:00, 82.01it/s]\n",
            "Training =>:  55%|█████▍    | 69/126 [00:00<00:00, 81.58it/s]\n",
            "Training =>:  62%|██████▏   | 78/126 [00:00<00:00, 81.89it/s]\n",
            "Training =>:  69%|██████▉   | 87/126 [00:01<00:00, 82.43it/s]\n",
            "Training =>:  76%|███████▌  | 96/126 [00:01<00:00, 82.38it/s]\n",
            "Training =>:  83%|████████▎ | 105/126 [00:01<00:00, 81.67it/s]\n",
            "Training =>:  90%|█████████ | 114/126 [00:01<00:00, 79.28it/s]\n",
            "Training =>:  98%|█████████▊| 123/126 [00:01<00:00, 80.39it/s]\n",
            "100%|██████████| 126/126 [00:01<00:00, 81.08it/s]\n",
            "Training =>: 100%|██████████| 126/126 [00:01<00:00, 80.76it/s]\n"
          ]
        },
        {
          "output_type": "stream",
          "name": "stdout",
          "text": [
            "Saving at epoch 17\n",
            "Epoch: 17 | Total Training Loss: 5.814176559448242 | Pose Training Loss: 0.054272864013910294 | Action Training Loss: 0.38688933849334717 | Action Train Label Accuracy: 84.96924892837174\n"
          ]
        },
        {
          "output_type": "stream",
          "name": "stderr",
          "text": [
            "Testing =>:   0%|          | 0/10 [00:00<?, ?it/s]\n",
            "100%|██████████| 10/10 [00:00<00:00, 200.63it/s]\n",
            "Testing =>: 100%|██████████| 10/10 [00:00<00:00, 184.35it/s]\n"
          ]
        },
        {
          "output_type": "stream",
          "name": "stdout",
          "text": [
            "Epoch: 17 | Total Testing Loss: 4.564406871795654 | Pose Testing Loss: 0.02728303335607052 | Action Testing Loss: 1.8361027240753174 | Action Test Label Accuracy: 38.79166666666667\n",
            "Starting EPOCH: 19 / 30\n"
          ]
        },
        {
          "output_type": "stream",
          "name": "stderr",
          "text": [
            "Training =>:   0%|          | 0/126 [00:00<?, ?it/s]\n",
            "Training =>:   6%|▋         | 8/126 [00:00<00:01, 79.33it/s]\n",
            "Training =>:  13%|█▎        | 17/126 [00:00<00:01, 81.13it/s]\n",
            "Training =>:  21%|██        | 26/126 [00:00<00:01, 82.10it/s]\n",
            "Training =>:  28%|██▊       | 35/126 [00:00<00:01, 82.70it/s]\n",
            "Training =>:  35%|███▍      | 44/126 [00:00<00:01, 81.58it/s]\n",
            "Training =>:  42%|████▏     | 53/126 [00:00<00:00, 82.00it/s]\n",
            "Training =>:  49%|████▉     | 62/126 [00:00<00:00, 82.02it/s]\n",
            "Training =>:  56%|█████▋    | 71/126 [00:00<00:00, 81.59it/s]\n",
            "Training =>:  63%|██████▎   | 80/126 [00:00<00:00, 82.40it/s]\n",
            "Training =>:  71%|███████   | 89/126 [00:01<00:00, 82.83it/s]\n",
            "Training =>:  78%|███████▊  | 98/126 [00:01<00:00, 82.61it/s]\n",
            "Training =>:  85%|████████▍ | 107/126 [00:01<00:00, 81.96it/s]\n",
            "Training =>:  92%|█████████▏| 116/126 [00:01<00:00, 82.45it/s]\n",
            "Training =>:  99%|█████████▉| 125/126 [00:01<00:00, 81.52it/s]\n",
            "100%|██████████| 126/126 [00:01<00:00, 81.90it/s]\n",
            "Training =>: 100%|██████████| 126/126 [00:01<00:00, 81.65it/s]\n"
          ]
        },
        {
          "output_type": "stream",
          "name": "stdout",
          "text": [
            "Saving at epoch 18\n",
            "Epoch: 18 | Total Training Loss: 5.505810260772705 | Pose Training Loss: 0.05138162150979042 | Action Training Loss: 0.3676486611366272 | Action Train Label Accuracy: 85.94769211654345\n"
          ]
        },
        {
          "output_type": "stream",
          "name": "stderr",
          "text": [
            "Testing =>:   0%|          | 0/10 [00:00<?, ?it/s]\n",
            "100%|██████████| 10/10 [00:00<00:00, 195.81it/s]\n",
            "Testing =>: 100%|██████████| 10/10 [00:00<00:00, 174.50it/s]\n"
          ]
        },
        {
          "output_type": "stream",
          "name": "stdout",
          "text": [
            "Epoch: 18 | Total Testing Loss: 4.392388820648193 | Pose Testing Loss: 0.026375798508524895 | Action Testing Loss: 1.754809021949768 | Action Test Label Accuracy: 38.958333333333336\n",
            "Starting EPOCH: 20 / 30\n"
          ]
        },
        {
          "output_type": "stream",
          "name": "stderr",
          "text": [
            "Training =>:   0%|          | 0/126 [00:00<?, ?it/s]\n",
            "Training =>:   6%|▋         | 8/126 [00:00<00:01, 78.27it/s]\n",
            "Training =>:  13%|█▎        | 17/126 [00:00<00:01, 80.74it/s]\n",
            "Training =>:  21%|██        | 26/126 [00:00<00:01, 78.62it/s]\n",
            "Training =>:  27%|██▋       | 34/126 [00:00<00:01, 78.34it/s]\n",
            "Training =>:  34%|███▍      | 43/126 [00:00<00:01, 79.93it/s]\n",
            "Training =>:  41%|████▏     | 52/126 [00:00<00:00, 80.61it/s]\n",
            "Training =>:  48%|████▊     | 61/126 [00:00<00:00, 80.59it/s]\n",
            "Training =>:  56%|█████▌    | 70/126 [00:00<00:00, 81.24it/s]\n",
            "Training =>:  63%|██████▎   | 79/126 [00:00<00:00, 81.17it/s]\n",
            "Training =>:  70%|██████▉   | 88/126 [00:01<00:00, 80.40it/s]\n",
            "Training =>:  77%|███████▋  | 97/126 [00:01<00:00, 79.91it/s]\n",
            "Training =>:  84%|████████▍ | 106/126 [00:01<00:00, 81.08it/s]\n",
            "Training =>:  91%|█████████▏| 115/126 [00:01<00:00, 81.92it/s]\n",
            "Training =>:  98%|█████████▊| 124/126 [00:01<00:00, 82.52it/s]\n",
            "100%|██████████| 126/126 [00:01<00:00, 80.91it/s]\n",
            "Training =>: 100%|██████████| 126/126 [00:01<00:00, 80.67it/s]\n"
          ]
        },
        {
          "output_type": "stream",
          "name": "stdout",
          "text": [
            "Saving at epoch 19\n",
            "Epoch: 19 | Total Training Loss: 5.2156829833984375 | Pose Training Loss: 0.048666082322597504 | Action Training Loss: 0.34907588362693787 | Action Train Label Accuracy: 86.65589861464869\n"
          ]
        },
        {
          "output_type": "stream",
          "name": "stderr",
          "text": [
            "Testing =>:   0%|          | 0/10 [00:00<?, ?it/s]\n",
            "100%|██████████| 10/10 [00:00<00:00, 204.95it/s]\n",
            "Testing =>: 100%|██████████| 10/10 [00:00<00:00, 187.69it/s]\n"
          ]
        },
        {
          "output_type": "stream",
          "name": "stdout",
          "text": [
            "Epoch: 19 | Total Testing Loss: 4.5503435134887695 | Pose Testing Loss: 0.025700030848383904 | Action Testing Loss: 1.9803400039672852 | Action Test Label Accuracy: 38.79166666666667\n",
            "Starting EPOCH: 21 / 30\n"
          ]
        },
        {
          "output_type": "stream",
          "name": "stderr",
          "text": [
            "Training =>:   0%|          | 0/126 [00:00<?, ?it/s]\n",
            "Training =>:   6%|▋         | 8/126 [00:00<00:01, 77.54it/s]\n",
            "Training =>:  13%|█▎        | 17/126 [00:00<00:01, 79.75it/s]\n",
            "Training =>:  21%|██        | 26/126 [00:00<00:01, 81.56it/s]\n",
            "Training =>:  28%|██▊       | 35/126 [00:00<00:01, 82.30it/s]\n",
            "Training =>:  35%|███▍      | 44/126 [00:00<00:01, 81.68it/s]\n",
            "Training =>:  42%|████▏     | 53/126 [00:00<00:00, 82.03it/s]\n",
            "Training =>:  49%|████▉     | 62/126 [00:00<00:00, 81.98it/s]\n",
            "Training =>:  56%|█████▋    | 71/126 [00:00<00:00, 81.60it/s]\n",
            "Training =>:  63%|██████▎   | 80/126 [00:00<00:00, 81.92it/s]\n",
            "Training =>:  71%|███████   | 89/126 [00:01<00:00, 82.42it/s]\n",
            "Training =>:  78%|███████▊  | 98/126 [00:01<00:00, 83.01it/s]\n",
            "Training =>:  85%|████████▍ | 107/126 [00:01<00:00, 83.33it/s]\n",
            "Training =>:  92%|█████████▏| 116/126 [00:01<00:00, 83.17it/s]\n",
            "Training =>:  99%|█████████▉| 125/126 [00:01<00:00, 83.70it/s]\n",
            "100%|██████████| 126/126 [00:01<00:00, 82.47it/s]\n",
            "Training =>: 100%|██████████| 126/126 [00:01<00:00, 82.14it/s]\n"
          ]
        },
        {
          "output_type": "stream",
          "name": "stdout",
          "text": [
            "Saving at epoch 20\n",
            "Epoch: 20 | Total Training Loss: 4.971051216125488 | Pose Training Loss: 0.046408891677856445 | Action Training Loss: 0.3301609456539154 | Action Train Label Accuracy: 87.66229732248246\n"
          ]
        },
        {
          "output_type": "stream",
          "name": "stderr",
          "text": [
            "Testing =>:   0%|          | 0/10 [00:00<?, ?it/s]\n",
            "100%|██████████| 10/10 [00:00<00:00, 199.23it/s]\n",
            "Testing =>: 100%|██████████| 10/10 [00:00<00:00, 177.37it/s]\n"
          ]
        },
        {
          "output_type": "stream",
          "name": "stdout",
          "text": [
            "Epoch: 20 | Total Testing Loss: 4.411677837371826 | Pose Testing Loss: 0.025155356153845787 | Action Testing Loss: 1.8961416482925415 | Action Test Label Accuracy: 39.04166666666667\n",
            "Starting EPOCH: 22 / 30\n"
          ]
        },
        {
          "output_type": "stream",
          "name": "stderr",
          "text": [
            "Training =>:   0%|          | 0/126 [00:00<?, ?it/s]\n",
            "Training =>:   6%|▋         | 8/126 [00:00<00:01, 78.95it/s]\n",
            "Training =>:  13%|█▎        | 17/126 [00:00<00:01, 80.91it/s]\n",
            "Training =>:  21%|██        | 26/126 [00:00<00:01, 81.37it/s]\n",
            "Training =>:  28%|██▊       | 35/126 [00:00<00:01, 82.39it/s]\n",
            "Training =>:  35%|███▍      | 44/126 [00:00<00:00, 83.12it/s]\n",
            "Training =>:  42%|████▏     | 53/126 [00:00<00:00, 82.22it/s]\n",
            "Training =>:  49%|████▉     | 62/126 [00:00<00:00, 81.05it/s]\n",
            "Training =>:  56%|█████▋    | 71/126 [00:00<00:00, 81.27it/s]\n",
            "Training =>:  63%|██████▎   | 80/126 [00:00<00:00, 81.20it/s]\n",
            "Training =>:  71%|███████   | 89/126 [00:01<00:00, 81.89it/s]\n",
            "Training =>:  78%|███████▊  | 98/126 [00:01<00:00, 81.82it/s]\n",
            "Training =>:  85%|████████▍ | 107/126 [00:01<00:00, 82.88it/s]\n",
            "Training =>:  92%|█████████▏| 116/126 [00:01<00:00, 80.56it/s]\n",
            "Training =>:  99%|█████████▉| 125/126 [00:01<00:00, 81.78it/s]\n",
            "100%|██████████| 126/126 [00:01<00:00, 81.74it/s]\n",
            "Training =>: 100%|██████████| 126/126 [00:01<00:00, 81.49it/s]\n"
          ]
        },
        {
          "output_type": "stream",
          "name": "stdout",
          "text": [
            "Saving at epoch 21\n",
            "Epoch: 21 | Total Training Loss: 4.743142604827881 | Pose Training Loss: 0.044319503009319305 | Action Training Loss: 0.3111892342567444 | Action Train Label Accuracy: 88.40777784680375\n"
          ]
        },
        {
          "output_type": "stream",
          "name": "stderr",
          "text": [
            "Testing =>:   0%|          | 0/10 [00:00<?, ?it/s]\n",
            "100%|██████████| 10/10 [00:00<00:00, 187.48it/s]\n",
            "Testing =>: 100%|██████████| 10/10 [00:00<00:00, 168.20it/s]\n"
          ]
        },
        {
          "output_type": "stream",
          "name": "stdout",
          "text": [
            "Epoch: 21 | Total Testing Loss: 4.291747570037842 | Pose Testing Loss: 0.02463706210255623 | Action Testing Loss: 1.828041911125183 | Action Test Label Accuracy: 39.54166666666667\n",
            "Starting EPOCH: 23 / 30\n"
          ]
        },
        {
          "output_type": "stream",
          "name": "stderr",
          "text": [
            "Training =>:   0%|          | 0/126 [00:00<?, ?it/s]\n",
            "Training =>:   6%|▋         | 8/126 [00:00<00:01, 78.34it/s]\n",
            "Training =>:  13%|█▎        | 16/126 [00:00<00:01, 77.48it/s]\n",
            "Training =>:  19%|█▉        | 24/126 [00:00<00:01, 78.57it/s]\n",
            "Training =>:  26%|██▌       | 33/126 [00:00<00:01, 79.62it/s]\n",
            "Training =>:  33%|███▎      | 42/126 [00:00<00:01, 81.08it/s]\n",
            "Training =>:  40%|████      | 51/126 [00:00<00:00, 81.23it/s]\n",
            "Training =>:  48%|████▊     | 60/126 [00:00<00:00, 81.22it/s]\n",
            "Training =>:  55%|█████▍    | 69/126 [00:00<00:00, 81.62it/s]\n",
            "Training =>:  62%|██████▏   | 78/126 [00:00<00:00, 81.73it/s]\n",
            "Training =>:  69%|██████▉   | 87/126 [00:01<00:00, 81.91it/s]\n",
            "Training =>:  76%|███████▌  | 96/126 [00:01<00:00, 81.64it/s]\n",
            "Training =>:  83%|████████▎ | 105/126 [00:01<00:00, 81.99it/s]\n",
            "Training =>:  90%|█████████ | 114/126 [00:01<00:00, 82.61it/s]\n",
            "Training =>:  98%|█████████▊| 123/126 [00:01<00:00, 81.46it/s]\n",
            "100%|██████████| 126/126 [00:01<00:00, 81.15it/s]\n",
            "Training =>: 100%|██████████| 126/126 [00:01<00:00, 80.86it/s]\n"
          ]
        },
        {
          "output_type": "stream",
          "name": "stdout",
          "text": [
            "Saving at epoch 22\n",
            "Epoch: 22 | Total Training Loss: 4.552125453948975 | Pose Training Loss: 0.04254040867090225 | Action Training Loss: 0.29808229207992554 | Action Train Label Accuracy: 88.74945642045101\n"
          ]
        },
        {
          "output_type": "stream",
          "name": "stderr",
          "text": [
            "Testing =>:   0%|          | 0/10 [00:00<?, ?it/s]\n",
            "100%|██████████| 10/10 [00:00<00:00, 199.14it/s]\n",
            "Testing =>: 100%|██████████| 10/10 [00:00<00:00, 179.26it/s]\n"
          ]
        },
        {
          "output_type": "stream",
          "name": "stdout",
          "text": [
            "Epoch: 22 | Total Testing Loss: 3.993650197982788 | Pose Testing Loss: 0.02461198717355728 | Action Testing Loss: 1.5324517488479614 | Action Test Label Accuracy: 40.958333333333336\n",
            "Starting EPOCH: 24 / 30\n"
          ]
        },
        {
          "output_type": "stream",
          "name": "stderr",
          "text": [
            "Training =>:   0%|          | 0/126 [00:00<?, ?it/s]\n",
            "Training =>:   6%|▋         | 8/126 [00:00<00:01, 78.83it/s]\n",
            "Training =>:  13%|█▎        | 17/126 [00:00<00:01, 80.24it/s]\n",
            "Training =>:  21%|██        | 26/126 [00:00<00:01, 80.08it/s]\n",
            "Training =>:  28%|██▊       | 35/126 [00:00<00:01, 80.70it/s]\n",
            "Training =>:  35%|███▍      | 44/126 [00:00<00:01, 80.96it/s]\n",
            "Training =>:  42%|████▏     | 53/126 [00:00<00:00, 80.87it/s]\n",
            "Training =>:  49%|████▉     | 62/126 [00:00<00:00, 80.51it/s]\n",
            "Training =>:  56%|█████▋    | 71/126 [00:00<00:00, 80.31it/s]\n",
            "Training =>:  63%|██████▎   | 80/126 [00:00<00:00, 79.23it/s]\n",
            "Training =>:  71%|███████   | 89/126 [00:01<00:00, 79.97it/s]\n",
            "Training =>:  78%|███████▊  | 98/126 [00:01<00:00, 78.52it/s]\n",
            "Training =>:  85%|████████▍ | 107/126 [00:01<00:00, 79.33it/s]\n",
            "Training =>:  92%|█████████▏| 116/126 [00:01<00:00, 80.82it/s]\n",
            "Training =>:  99%|█████████▉| 125/126 [00:01<00:00, 80.89it/s]\n",
            "100%|██████████| 126/126 [00:01<00:00, 80.17it/s]\n",
            "Training =>: 100%|██████████| 126/126 [00:01<00:00, 79.89it/s]\n"
          ]
        },
        {
          "output_type": "stream",
          "name": "stdout",
          "text": [
            "Saving at epoch 23\n",
            "Epoch: 23 | Total Training Loss: 4.3711652755737305 | Pose Training Loss: 0.04089689254760742 | Action Training Loss: 0.28147682547569275 | Action Train Label Accuracy: 89.70926259551469\n"
          ]
        },
        {
          "output_type": "stream",
          "name": "stderr",
          "text": [
            "Testing =>:   0%|          | 0/10 [00:00<?, ?it/s]\n",
            "100%|██████████| 10/10 [00:00<00:00, 194.75it/s]\n",
            "Testing =>: 100%|██████████| 10/10 [00:00<00:00, 175.08it/s]\n"
          ]
        },
        {
          "output_type": "stream",
          "name": "stdout",
          "text": [
            "Epoch: 23 | Total Testing Loss: 4.097865581512451 | Pose Testing Loss: 0.024369308724999428 | Action Testing Loss: 1.6609344482421875 | Action Test Label Accuracy: 40.583333333333336\n",
            "Starting EPOCH: 25 / 30\n"
          ]
        },
        {
          "output_type": "stream",
          "name": "stderr",
          "text": [
            "Training =>:   0%|          | 0/126 [00:00<?, ?it/s]\n",
            "Training =>:   1%|          | 1/126 [00:00<00:27,  4.55it/s]\n",
            "Training =>:   7%|▋         | 9/126 [00:00<00:03, 32.79it/s]\n",
            "Training =>:  13%|█▎        | 17/126 [00:00<00:02, 49.05it/s]\n",
            "Training =>:  21%|██        | 26/126 [00:00<00:01, 60.69it/s]\n",
            "Training =>:  27%|██▋       | 34/126 [00:00<00:01, 65.84it/s]\n",
            "Training =>:  34%|███▍      | 43/126 [00:00<00:01, 70.39it/s]\n",
            "Training =>:  41%|████▏     | 52/126 [00:00<00:01, 73.89it/s]\n",
            "Training =>:  48%|████▊     | 61/126 [00:00<00:00, 76.46it/s]\n",
            "Training =>:  56%|█████▌    | 70/126 [00:01<00:00, 78.26it/s]\n",
            "Training =>:  63%|██████▎   | 79/126 [00:01<00:00, 79.67it/s]\n",
            "Training =>:  70%|██████▉   | 88/126 [00:01<00:00, 78.00it/s]\n",
            "Training =>:  77%|███████▋  | 97/126 [00:01<00:00, 79.37it/s]\n",
            "Training =>:  84%|████████▍ | 106/126 [00:01<00:00, 80.01it/s]\n",
            "Training =>:  91%|█████████▏| 115/126 [00:01<00:00, 80.06it/s]\n",
            "100%|██████████| 126/126 [00:01<00:00, 79.78it/s]\n",
            "Training =>: 100%|██████████| 126/126 [00:01<00:00, 70.66it/s]\n"
          ]
        },
        {
          "output_type": "stream",
          "name": "stdout",
          "text": [
            "Saving at epoch 24\n",
            "Epoch: 24 | Total Training Loss: 4.194711208343506 | Pose Training Loss: 0.03932053968310356 | Action Training Loss: 0.26265838742256165 | Action Train Label Accuracy: 90.43610610672796\n"
          ]
        },
        {
          "output_type": "stream",
          "name": "stderr",
          "text": [
            "Testing =>:   0%|          | 0/10 [00:00<?, ?it/s]\n",
            "100%|██████████| 10/10 [00:00<00:00, 194.30it/s]\n",
            "Testing =>: 100%|██████████| 10/10 [00:00<00:00, 177.67it/s]\n"
          ]
        },
        {
          "output_type": "stream",
          "name": "stdout",
          "text": [
            "Epoch: 24 | Total Testing Loss: 3.9985299110412598 | Pose Testing Loss: 0.02429943159222603 | Action Testing Loss: 1.5685865879058838 | Action Test Label Accuracy: 41.833333333333336\n",
            "Starting EPOCH: 26 / 30\n"
          ]
        },
        {
          "output_type": "stream",
          "name": "stderr",
          "text": [
            "Training =>:   0%|          | 0/126 [00:00<?, ?it/s]\n",
            "Training =>:   6%|▋         | 8/126 [00:00<00:01, 76.72it/s]\n",
            "Training =>:  13%|█▎        | 17/126 [00:00<00:01, 80.64it/s]\n",
            "Training =>:  21%|██        | 26/126 [00:00<00:01, 81.15it/s]\n",
            "Training =>:  28%|██▊       | 35/126 [00:00<00:01, 81.94it/s]\n",
            "Training =>:  35%|███▍      | 44/126 [00:00<00:00, 82.74it/s]\n",
            "Training =>:  42%|████▏     | 53/126 [00:00<00:00, 82.54it/s]\n",
            "Training =>:  49%|████▉     | 62/126 [00:00<00:00, 82.86it/s]\n",
            "Training =>:  56%|█████▋    | 71/126 [00:00<00:00, 83.34it/s]\n",
            "Training =>:  63%|██████▎   | 80/126 [00:00<00:00, 83.08it/s]\n",
            "Training =>:  71%|███████   | 89/126 [00:01<00:00, 83.53it/s]\n",
            "Training =>:  78%|███████▊  | 98/126 [00:01<00:00, 84.18it/s]\n",
            "Training =>:  85%|████████▍ | 107/126 [00:01<00:00, 83.21it/s]\n",
            "Training =>:  92%|█████████▏| 116/126 [00:01<00:00, 83.19it/s]\n",
            "Training =>:  99%|█████████▉| 125/126 [00:01<00:00, 83.45it/s]\n",
            "100%|██████████| 126/126 [00:01<00:00, 82.85it/s]\n",
            "Training =>: 100%|██████████| 126/126 [00:01<00:00, 82.50it/s]\n"
          ]
        },
        {
          "output_type": "stream",
          "name": "stdout",
          "text": [
            "Saving at epoch 25\n",
            "Epoch: 25 | Total Training Loss: 4.053676128387451 | Pose Training Loss: 0.038035012781620026 | Action Training Loss: 0.2501749098300934 | Action Train Label Accuracy: 91.25924085233274\n"
          ]
        },
        {
          "output_type": "stream",
          "name": "stderr",
          "text": [
            "Testing =>:   0%|          | 0/10 [00:00<?, ?it/s]\n",
            "100%|██████████| 10/10 [00:00<00:00, 195.48it/s]\n",
            "Testing =>: 100%|██████████| 10/10 [00:00<00:00, 178.33it/s]\n"
          ]
        },
        {
          "output_type": "stream",
          "name": "stdout",
          "text": [
            "Epoch: 25 | Total Testing Loss: 4.023375034332275 | Pose Testing Loss: 0.02408008463680744 | Action Testing Loss: 1.6153665781021118 | Action Test Label Accuracy: 41.583333333333336\n",
            "Starting EPOCH: 27 / 30\n"
          ]
        },
        {
          "output_type": "stream",
          "name": "stderr",
          "text": [
            "Training =>:   0%|          | 0/126 [00:00<?, ?it/s]\n",
            "Training =>:   6%|▋         | 8/126 [00:00<00:01, 77.65it/s]\n",
            "Training =>:  13%|█▎        | 17/126 [00:00<00:01, 80.43it/s]\n",
            "Training =>:  21%|██        | 26/126 [00:00<00:01, 80.76it/s]\n",
            "Training =>:  28%|██▊       | 35/126 [00:00<00:01, 80.68it/s]\n",
            "Training =>:  35%|███▍      | 44/126 [00:00<00:01, 81.19it/s]\n",
            "Training =>:  42%|████▏     | 53/126 [00:00<00:00, 80.81it/s]\n",
            "Training =>:  49%|████▉     | 62/126 [00:00<00:00, 79.36it/s]\n",
            "Training =>:  56%|█████▋    | 71/126 [00:00<00:00, 79.86it/s]\n",
            "Training =>:  63%|██████▎   | 80/126 [00:00<00:00, 81.36it/s]\n",
            "Training =>:  71%|███████   | 89/126 [00:01<00:00, 82.09it/s]\n",
            "Training =>:  78%|███████▊  | 98/126 [00:01<00:00, 80.73it/s]\n",
            "Training =>:  85%|████████▍ | 107/126 [00:01<00:00, 81.72it/s]\n",
            "Training =>:  92%|█████████▏| 116/126 [00:01<00:00, 82.05it/s]\n",
            "Training =>:  99%|█████████▉| 125/126 [00:01<00:00, 82.25it/s]\n",
            "100%|██████████| 126/126 [00:01<00:00, 81.11it/s]\n",
            "Training =>: 100%|██████████| 126/126 [00:01<00:00, 80.77it/s]\n"
          ]
        },
        {
          "output_type": "stream",
          "name": "stdout",
          "text": [
            "Saving at epoch 26\n",
            "Epoch: 26 | Total Training Loss: 3.8960278034210205 | Pose Training Loss: 0.0366131030023098 | Action Training Loss: 0.23471814393997192 | Action Train Label Accuracy: 91.78107721935764\n"
          ]
        },
        {
          "output_type": "stream",
          "name": "stderr",
          "text": [
            "Testing =>:   0%|          | 0/10 [00:00<?, ?it/s]\n",
            "100%|██████████| 10/10 [00:00<00:00, 197.75it/s]\n",
            "Testing =>: 100%|██████████| 10/10 [00:00<00:00, 178.94it/s]\n"
          ]
        },
        {
          "output_type": "stream",
          "name": "stdout",
          "text": [
            "Epoch: 26 | Total Testing Loss: 4.13593053817749 | Pose Testing Loss: 0.023670418187975883 | Action Testing Loss: 1.768889307975769 | Action Test Label Accuracy: 45.125\n",
            "Starting EPOCH: 28 / 30\n"
          ]
        },
        {
          "output_type": "stream",
          "name": "stderr",
          "text": [
            "Training =>:   0%|          | 0/126 [00:00<?, ?it/s]\n",
            "Training =>:   6%|▋         | 8/126 [00:00<00:01, 79.13it/s]\n",
            "Training =>:  13%|█▎        | 17/126 [00:00<00:01, 81.25it/s]\n",
            "Training =>:  21%|██        | 26/126 [00:00<00:01, 80.02it/s]\n",
            "Training =>:  28%|██▊       | 35/126 [00:00<00:01, 80.99it/s]\n",
            "Training =>:  35%|███▍      | 44/126 [00:00<00:01, 81.71it/s]\n",
            "Training =>:  42%|████▏     | 53/126 [00:00<00:00, 81.10it/s]\n",
            "Training =>:  49%|████▉     | 62/126 [00:00<00:00, 81.46it/s]\n",
            "Training =>:  56%|█████▋    | 71/126 [00:00<00:00, 81.75it/s]\n",
            "Training =>:  63%|██████▎   | 80/126 [00:00<00:00, 82.14it/s]\n",
            "Training =>:  71%|███████   | 89/126 [00:01<00:00, 82.82it/s]\n",
            "Training =>:  78%|███████▊  | 98/126 [00:01<00:00, 83.61it/s]\n",
            "Training =>:  85%|████████▍ | 107/126 [00:01<00:00, 83.01it/s]\n",
            "Training =>:  92%|█████████▏| 116/126 [00:01<00:00, 83.42it/s]\n",
            "Training =>:  99%|█████████▉| 125/126 [00:01<00:00, 83.24it/s]\n",
            "100%|██████████| 126/126 [00:01<00:00, 82.28it/s]\n",
            "Training =>: 100%|██████████| 126/126 [00:01<00:00, 82.02it/s]\n"
          ]
        },
        {
          "output_type": "stream",
          "name": "stdout",
          "text": [
            "Saving at epoch 27\n",
            "Epoch: 27 | Total Training Loss: 3.7766196727752686 | Pose Training Loss: 0.03554868325591087 | Action Training Loss: 0.22175225615501404 | Action Train Label Accuracy: 92.54830092563832\n"
          ]
        },
        {
          "output_type": "stream",
          "name": "stderr",
          "text": [
            "Testing =>:   0%|          | 0/10 [00:00<?, ?it/s]\n",
            "100%|██████████| 10/10 [00:00<00:00, 197.76it/s]\n",
            "Testing =>: 100%|██████████| 10/10 [00:00<00:00, 178.26it/s]\n"
          ]
        },
        {
          "output_type": "stream",
          "name": "stdout",
          "text": [
            "Epoch: 27 | Total Testing Loss: 3.8994667530059814 | Pose Testing Loss: 0.02349700592458248 | Action Testing Loss: 1.549765944480896 | Action Test Label Accuracy: 48.95833333333333\n",
            "Starting EPOCH: 29 / 30\n"
          ]
        },
        {
          "output_type": "stream",
          "name": "stderr",
          "text": [
            "Training =>:   0%|          | 0/126 [00:00<?, ?it/s]\n",
            "Training =>:   6%|▋         | 8/126 [00:00<00:01, 79.50it/s]\n",
            "Training =>:  13%|█▎        | 17/126 [00:00<00:01, 81.00it/s]\n",
            "Training =>:  21%|██        | 26/126 [00:00<00:01, 81.11it/s]\n",
            "Training =>:  28%|██▊       | 35/126 [00:00<00:01, 81.53it/s]\n",
            "Training =>:  35%|███▍      | 44/126 [00:00<00:01, 81.82it/s]\n",
            "Training =>:  42%|████▏     | 53/126 [00:00<00:00, 81.88it/s]\n",
            "Training =>:  49%|████▉     | 62/126 [00:00<00:00, 81.79it/s]\n",
            "Training =>:  56%|█████▋    | 71/126 [00:00<00:00, 81.81it/s]\n",
            "Training =>:  63%|██████▎   | 80/126 [00:00<00:00, 79.11it/s]\n",
            "Training =>:  71%|███████   | 89/126 [00:01<00:00, 80.67it/s]\n",
            "Training =>:  78%|███████▊  | 98/126 [00:01<00:00, 81.46it/s]\n",
            "Training =>:  85%|████████▍ | 107/126 [00:01<00:00, 82.34it/s]\n",
            "Training =>:  92%|█████████▏| 116/126 [00:01<00:00, 82.54it/s]\n",
            "Training =>:  99%|█████████▉| 125/126 [00:01<00:00, 81.82it/s]\n",
            "100%|██████████| 126/126 [00:01<00:00, 81.56it/s]\n",
            "Training =>: 100%|██████████| 126/126 [00:01<00:00, 81.19it/s]\n"
          ]
        },
        {
          "output_type": "stream",
          "name": "stdout",
          "text": [
            "Saving at epoch 28\n",
            "Epoch: 28 | Total Training Loss: 3.6671485900878906 | Pose Training Loss: 0.03457837924361229 | Action Training Loss: 0.20931008458137512 | Action Train Label Accuracy: 92.83717462881282\n"
          ]
        },
        {
          "output_type": "stream",
          "name": "stderr",
          "text": [
            "Testing =>:   0%|          | 0/10 [00:00<?, ?it/s]\n",
            "100%|██████████| 10/10 [00:00<00:00, 209.28it/s]\n",
            "Testing =>: 100%|██████████| 10/10 [00:00<00:00, 185.23it/s]\n"
          ]
        },
        {
          "output_type": "stream",
          "name": "stdout",
          "text": [
            "Epoch: 28 | Total Testing Loss: 3.9393727779388428 | Pose Testing Loss: 0.022818228229880333 | Action Testing Loss: 1.6575498580932617 | Action Test Label Accuracy: 50.875\n",
            "Starting EPOCH: 30 / 30\n"
          ]
        },
        {
          "output_type": "stream",
          "name": "stderr",
          "text": [
            "Training =>:   0%|          | 0/126 [00:00<?, ?it/s]\n",
            "Training =>:   6%|▋         | 8/126 [00:00<00:01, 77.54it/s]\n",
            "Training =>:  13%|█▎        | 16/126 [00:00<00:01, 78.88it/s]\n",
            "Training =>:  20%|█▉        | 25/126 [00:00<00:01, 79.66it/s]\n",
            "Training =>:  27%|██▋       | 34/126 [00:00<00:01, 80.21it/s]\n",
            "Training =>:  34%|███▍      | 43/126 [00:00<00:01, 80.41it/s]\n",
            "Training =>:  41%|████▏     | 52/126 [00:00<00:00, 80.87it/s]\n",
            "Training =>:  48%|████▊     | 61/126 [00:00<00:00, 81.17it/s]\n",
            "Training =>:  56%|█████▌    | 70/126 [00:00<00:00, 81.31it/s]\n",
            "Training =>:  63%|██████▎   | 79/126 [00:00<00:00, 81.48it/s]\n",
            "Training =>:  70%|██████▉   | 88/126 [00:01<00:00, 82.00it/s]\n",
            "Training =>:  77%|███████▋  | 97/126 [00:01<00:00, 81.07it/s]\n",
            "Training =>:  84%|████████▍ | 106/126 [00:01<00:00, 81.38it/s]\n",
            "Training =>:  91%|█████████▏| 115/126 [00:01<00:00, 81.87it/s]\n",
            "Training =>:  98%|█████████▊| 124/126 [00:01<00:00, 82.47it/s]\n",
            "100%|██████████| 126/126 [00:01<00:00, 81.45it/s]\n",
            "Training =>: 100%|██████████| 126/126 [00:01<00:00, 81.09it/s]\n"
          ]
        },
        {
          "output_type": "stream",
          "name": "stdout",
          "text": [
            "Saving at epoch 29\n",
            "Epoch: 29 | Total Training Loss: 3.5527873039245605 | Pose Training Loss: 0.03356274217367172 | Action Training Loss: 0.19651304185390472 | Action Train Label Accuracy: 93.42734671056718\n"
          ]
        },
        {
          "output_type": "stream",
          "name": "stderr",
          "text": [
            "Testing =>:   0%|          | 0/10 [00:00<?, ?it/s]\n",
            "100%|██████████| 10/10 [00:00<00:00, 193.44it/s]\n",
            "Testing =>: 100%|██████████| 10/10 [00:00<00:00, 177.21it/s]\n"
          ]
        },
        {
          "output_type": "stream",
          "name": "stdout",
          "text": [
            "Epoch: 29 | Total Testing Loss: 3.8463234901428223 | Pose Testing Loss: 0.02288799360394478 | Action Testing Loss: 1.55752432346344 | Action Test Label Accuracy: 56.208333333333336\n"
          ]
        },
        {
          "output_type": "display_data",
          "data": {
            "text/plain": [
              "<Figure size 640x480 with 0 Axes>"
            ]
          },
          "metadata": {}
        }
      ]
    }
  ],
  "metadata": {
    "accelerator": "GPU",
    "colab": {
      "gpuType": "A100",
      "machine_shape": "hm",
      "provenance": []
    },
    "kernelspec": {
      "display_name": "Python 3",
      "name": "python3"
    },
    "language_info": {
      "name": "python"
    }
  },
  "nbformat": 4,
  "nbformat_minor": 0
}