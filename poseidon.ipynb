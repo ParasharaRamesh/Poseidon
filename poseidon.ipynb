{
 "cells": [
  {
   "cell_type": "markdown",
   "id": "47024cb481badce7",
   "metadata": {},
   "source": [
    "# POSEIDON: Pose Estimation & Activity Recognition using GNNs\n",
    "\n",
    "Team Members (Group 16): \n",
    "1. Chong Jun Rong Brian (A0290882U)\n",
    "2. Parashara Ramesh (A0285647M)\n",
    "3. Ng Wei Jie Brandon (A0184893L)"
   ]
  },
  {
   "cell_type": "code",
   "execution_count": null,
   "id": "ca470c79",
   "metadata": {
    "ExecuteTime": {
     "end_time": "2024-11-17T07:11:37.226265Z",
     "start_time": "2024-11-17T07:11:37.179250Z"
    }
   },
   "outputs": [],
   "source": [
    "%load_ext autoreload\n",
    "%autoreload 2"
   ]
  },
  {
   "cell_type": "markdown",
   "id": "54775158eb81e1a9",
   "metadata": {},
   "source": [
    "NOTE: Need to add anchor jump links to each heading\n",
    "\n",
    "<h2><u> Table of contents </u></h2>\n",
    "\n",
    "1. What is this project about?\n",
    "<br> 1.1. Project Motivation\n",
    "<br> 1.2. Project Description\n",
    "<br> 1.3. Project Setup \n",
    "<br> 1.4. Project Changes from Initial Proposal\n",
    "<br> 1.5. Project Presentation Video\n",
    "\n",
    "2. Model building approach\n",
    "<br> 2.1. SimplePose (Baseline model) \n",
    "<br> 2.2. SimplePoseGNN\n",
    "<br> 2.3. SimplePoseGAT\n",
    "<br> 2.4. SimplePoseTAG\n",
    "\n",
    "3. Human 3.6M Dataset\n",
    "<br> 3.1. Summary of the dataset\n",
    "<br> 3.2. Preparing the dataset\n",
    "<br> 3.3. Visualizing poses\n",
    "<br> 3.4. Training baseline model (SimplePose)\n",
    "<br> 3.5. Training Graph Convolutional model (SimplePoseGNN)\n",
    "<br> 3.6. Training Graph Transformer model (SimplePoseGAT)\n",
    "<br> 3.7. Training Toplogy Adaptive Graph Convolutional model (SimplePoseTAG)\n",
    "\n",
    "4. Custom Dataset\n",
    "<br> 4.1. Summary of the dataset\n",
    "<br> 4.2. Preparing the dataset\n",
    "<br> 4.3. Visualizing poses\n",
    "<br> 4.4. Training baseline model (SimplePose)\n",
    "<br> 4.5. Training Graph Convolutional model (SimplePoseGNN)\n",
    "<br> 4.6. Training Graph Transformer model (SimplePoseGAT)\n",
    "<br> 4.7. Training Toplogy Adaptive Graph Convolutional model (SimplePoseTAG)\n",
    "\n",
    "5. Evaluation\n",
    "<br> 5.1. Human 3.6M dataset\n",
    "<br> 5.2. Custom Dataset\n",
    "\n",
    "6. Lessons Learnt & Conclusions\n",
    "7. Resources\n"
   ]
  },
  {
   "cell_type": "markdown",
   "id": "5e9d0baed6e093c8",
   "metadata": {},
   "source": [
    "<h2><u>1. What is this project about?</u></h2>\n",
    "<h3><u>1.1. Project Motivation</u></h3>\n",
    "\n",
    "Accurately predicting 3D human poses from 2D keypoints is essential for applications like motion capture and activity recognition. Traditional methods, such as direct regression or lifting techniques, often fail to capture the intricate spatial relationships between body joints. By modeling 2D pose keypoints as graphs, we can utilize the inherent connectivity between joints to enhance 3D pose estimation. Furthermore, recognizing and classifying human activities from these poses is vital in areas like surveillance and healthcare. This project aims to investigate how Graph Neural Networks (GNNs) can improve both 3D pose estimation and activity recognition.\n",
    "\n",
    "<h3><u>1.2. Project Description</h3></u>\n",
    "\n",
    "This project has two primary objectives.\n",
    "\n",
    "The first is to accurately predict 3D human poses from 2D keypoints using Graph Neural Networks (GNNs).\n",
    "\n",
    "* We will begin by developing two baseline models: one utilizing a standard Neural Network (NN) and Convolutional Neural Network (CNN), and the other employing a simple GNN for 3D pose estimation.\n",
    "* Next, we will reimplement the SemGCN model, which represents 2D pose keypoints as graph nodes with edges capturing the connectivity between joints.\n",
    "* Finally, we aim to enhance the SemGCN model by exploring alternative GNN architectures and introducing modifications to improve its performance.\n",
    "\n",
    "The second objective is to classify human activities based on 2D keypoints. For this task, we will use custom datasets to evaluate the generalization capabilities of GNN-based models for activity recognition.\n",
    "\n",
    "<h3><u>1.3. Project Setup</u></h3>\n",
    "\n",
    "(TODO need to rewrite this part)\n",
    "\n",
    "1. Install the dependencies from `requirements.txt` using the command\n",
    "\n",
    "`pip install -r requirements.txt`\n",
    "\n",
    "<h3><u>1.4. Project Changes from Initial Proposal</u></h3>\n",
    "\n",
    "TODO\n",
    "\n",
    "<h3><u>1.5. Project Presentation Video</u></h3>\n",
    "\n",
    "(TODO add our presentation slides as well)\n",
    "\n",
    "Our project presentation has been uploaded to youtube and can be found at <a href=\"https://youtu.be/O3Qb1UfjszM\">this link</a>. "
   ]
  },
  {
   "cell_type": "markdown",
   "id": "3c9b83ba",
   "metadata": {},
   "source": [
    "<h2><u>2. Model Building Approach</u></h2>\n",
    "\n",
    "Previous works have attempted to do pose estimation and activity recognition via normal Neural Network methods such as Convolutional Neural Networks such as [PoseCNN: A Convolutional Neural Network for 6D Object Pose Estimation in Cluttered Scenes by Xiang. et al](https://arxiv.org/abs/1711.00199) and [Skeleton-based Human Action Recognition via\n",
    "Convolutional Neural Networks (CNN) by Ali. et al](https://arxiv.org/pdf/2301.13360).\n",
    "\n"
   ]
  },
  {
   "cell_type": "markdown",
   "id": "c12f9218",
   "metadata": {},
   "source": [
    "<h3><u>2.1 SimplePose (Baseline model)</u></h3>\n",
    "\n",
    "To study the effectiveness of Graph Neural Networks in 3D Pose Estimation and Activity Recognition, we built our own basic Neural Network model which we will call it as SimplePose.\n",
    "\n",
    "SimplePose is a simple Neural Network model that uses the same model architecture as [A simple yet effective baseline for 3d human pose estimation by Martinez. et al](https://arxiv.org/abs/1705.03098) but with a few tweaks compared against the original architecture.\n",
    "\n",
    "These are the tweaks that we have done for SimplePose:-\n",
    "\n",
    "1. We increased the dropout rate from 0.5 to 0.6 to ensure stable training and to prevent overfitting.\n",
    "2. Instead of having 2 blocks as shown in Figure 1, we have 6 blocks because we found out it having bigger models enabled the multitask learning to perform well for SimplePose.\n",
    "3. After the last block, we add a small Neural Network for 3D Pose Estimation and another small Neural Network for Activity Recognition. Both of their inputs is the last block final output.\n",
    "\n",
    "You can see the SimplePose's implementation at [models/simple_pose.py](./models/simple_pose.py)\n",
    "\n",
    "The figure below illustrates the SimplePose Architecture:-\n",
    "\n",
    "<img title=\"SimplePose\" alt=\"SimplePose\" src=\"./notebook_images/SimplePose.drawio.png\">\n",
    "\n",
    "\n",
    "Below shows the number of trainable parameters for SimplePose:-"
   ]
  },
  {
   "cell_type": "code",
   "execution_count": null,
   "id": "fd4b4c11",
   "metadata": {},
   "outputs": [],
   "source": [
    "from models.simple_pose import SimplePose\n",
    "from utils.pytorch_utils import count_parameters\n",
    "model = SimplePose(total_joints=13, total_actions=5)\n",
    "parameters = count_parameters(model)\n",
    "print(f\"SimplePose Trainable Parameters: {parameters}\")"
   ]
  },
  {
   "cell_type": "markdown",
   "id": "93cd8e54",
   "metadata": {},
   "source": [
    "<h3><u>2.2 SimplePoseGNN</u></h3>\n",
    "\n",
    "We built 3 Graph Neural Networks to compare against SimplePose. Our first model is a Graph Convolutional Neural Network which we will call it as SimplePoseGNN.\n",
    "\n",
    "SimplePoseGNN is a Graph Convolutional Neural Network model that was proposed by [Kipf. et al](https://arxiv.org/pdf/1609.02907v4). We decided to implement this model because it is the baseline model for Graph Neural Networks.\n",
    "\n",
    "For our Graph Convolutional Layers for SimplePoseGNN, we used [GraphConv from DGL](https://docs.dgl.ai/en/1.1.x/generated/dgl.nn.pytorch.conv.GraphConv.html) in its default settings to build our own GraphConvModule.\n",
    "\n",
    "A GraphConvModule consists of these layers in sequence.:-\n",
    "1. GraphConv\n",
    "2. BatchNorm1D\n",
    "3. ReLU\n",
    "4. GraphConv\n",
    "5. BatchNorm1D\n",
    "6. Dropout \n",
    "7. ReLU\n",
    "8. Linear Layer\n",
    "   \n",
    "There is also a residual connection that connects from the input of the first GraphConv with the output from Linear Layer.\n",
    "\n",
    "SimplePoseGNN has 6 GraphConvModule to ensure good performance.\n",
    "\n",
    "Not only that, these are the additional modifications we have done for SimplePoseGNN:-\n",
    "\n",
    "1. We compute the Laplacian Positional Encoding of our graph inputs using [dgl.transforms.LapPE](https://docs.dgl.ai/en/1.1.x/generated/dgl.transforms.LapPE.html) with k = 5.\n",
    "2. We embed our Node Features, Laplacian Positional Encodings and Edge features into their own nn.Linear layers and concatenate the values before giving it to the first GraphConvModule.\n",
    "3. We add a small Neural Network for 3D Pose Estimation and Activity Recognition after the last GraphConvModule. Their inputs are the output of the last GraphConvModule.\n",
    "\n",
    "You can see the SimplePoseGNN's implementation at [models/simple_pose_gnn.py](./models/simple_pose_gnn.py)\n",
    "\n",
    "Here is SimplePoseGNN's architecture as described:-\n",
    "\n",
    "<img title=\"SimplePoseGNN\" alt=\"SimplePoseGNN\" src=\"./notebook_images/SimplePoseGNN.drawio.png\">\n",
    "\n",
    "Below shows the number of trainable parameters for SimplePoseGNN:-"
   ]
  },
  {
   "cell_type": "code",
   "execution_count": null,
   "id": "01f9c9ea",
   "metadata": {},
   "outputs": [],
   "source": [
    "from models.simple_pose_gnn import SimplePoseGNN\n",
    "from utils.pytorch_utils import count_parameters\n",
    "model = SimplePoseGNN(hidden_size=80, num_classes=5)\n",
    "parameters = count_parameters(model)\n",
    "print(f\"SimplePoseGNN Trainable Parameters: {parameters}\")"
   ]
  },
  {
   "cell_type": "markdown",
   "id": "eb5d730a",
   "metadata": {},
   "source": [
    "<h3><u>2.3 SimplePoseGAT</u></h3>\n",
    "\n",
    "Our 2nd Graph Neural Network implementation is the Graph Transformer Neural Network which we denote it as SimplePoseGAT.\n",
    "\n",
    "SimplePoseGAT is a Graph Transformer Neural Network model that is proposed by [Dwivedi et al](https://arxiv.org/pdf/2012.09699v2). We decided to implement this model because we want to investigate if having attention scores can help improve the tasks' performance compared against all the other models.\n",
    "\n",
    "For this implementation, we followed the Graph Transformer's implementation as described in [DGL's Graph Transformers Tutorial](https://docs.dgl.ai/en/1.1.x/notebooks/sparse/graph_transformer.html) but with our own tweaks.\n",
    "\n",
    "These are the tweaks that we have done for SimplePoseGAT:-\n",
    "\n",
    "1. We compute the Laplacian Positional Encoding of our graph inputs using [dgl.transforms.LapPE](https://docs.dgl.ai/en/1.1.x/generated/dgl.transforms.LapPE.html) with k = 20.\n",
    "2. We embed our Node Features, Laplacian Positional Encodings and Edge features into their own nn.Linear layers and concatenate the values before giving it to the MultiHeadAttention Layer.\n",
    "3. We reduced the Graph Transformer Layers to 2 due to GPU memory limitations.\n",
    "4. We add a linear layer after the Graph Transformer to perform 3D Pose Estimations.\n",
    "5. We add a SumPooling layer followed by a small neural network model to perform Activity Recognition.\n",
    "\n",
    "You can see the SimplePoseGAT's implementation at [models/simple_pose_gat.py](./models/simple_pose_gat.py)\n",
    "\n",
    "The figure below illustrates the SimplePoseGAT Architecture:-\n",
    "\n",
    "<img title=\"SimplePoseGAT\" alt=\"SimplePoseGAT\" src=\"./notebook_images/SimplePoseGAT.drawio.png\">\n",
    "\n",
    "\n",
    "Below shows the number of trainable parameters for SimplePoseGAT:-"
   ]
  },
  {
   "cell_type": "code",
   "execution_count": null,
   "id": "c1db7da3",
   "metadata": {},
   "outputs": [],
   "source": [
    "from models.simple_pose_gat import SimplePoseGAT\n",
    "from utils.pytorch_utils import count_parameters\n",
    "model = SimplePoseGAT(in_size=2, out_size=3, num_classes=5)\n",
    "parameters = count_parameters(model)\n",
    "print(f\"SimplePoseGAT Trainable Parameters: {parameters}\")"
   ]
  },
  {
   "cell_type": "markdown",
   "id": "4e712f82",
   "metadata": {},
   "source": [
    "<h3><u>2.4 SimplePoseTAG</u></h3>\n",
    "\n",
    "For our final Graph Neural Network model, we built a Topology Adaptive Graph Convolutional Neural Network that was proposed by [Du. et al](https://arxiv.org/pdf/1710.10370).\n",
    "\n",
    "We will call this model as SimplePoseTAG. We decided to implement SimplePoseTAG because we want to see if allowing the model to interpret the topology of a graph can improve the tasks' performance as compared with other models\n",
    "\n",
    "For this implementation. we followed the same approach as SimplePoseGNN as stated in Section 2.2 with a few differences.\n",
    "\n",
    "1. We replaced the GraphConv layers with [TAGConv from DGL.](https://docs.dgl.ai/en/0.8.x/generated/dgl.nn.pytorch.conv.TAGConv.html). We also renamed this from GraphConvModule to TAGConvModule.\n",
    "\n",
    "You can see the SimplePoseTAG's implementation at [models/simple_pose_tag.py](./models/simple_pose_tag.py)\n",
    "\n",
    "The figure below illustrates the SimplePoseTAG Architecture:-\n",
    "\n",
    "<img title=\"SimplePoseTAG\" alt=\"SimplePoseTAG\" src=\"./notebook_images/SimplePoseTAG.drawio.png\">\n",
    "\n",
    "\n",
    "Below shows the number of trainable parameters for SimplePoseTAG:-"
   ]
  },
  {
   "cell_type": "code",
   "execution_count": null,
   "id": "74653c41",
   "metadata": {},
   "outputs": [],
   "source": [
    "from models.simple_pose_tag import SimplePoseTAG\n",
    "from utils.pytorch_utils import count_parameters\n",
    "model = SimplePoseTAG(hidden_size=80, num_classes=5)\n",
    "parameters = count_parameters(model)\n",
    "print(f\"SimplePoseTAG Trainable Parameters: {parameters}\")"
   ]
  },
  {
   "cell_type": "markdown",
   "id": "611734fb42bb945e",
   "metadata": {},
   "source": [
    "<h2><u>3. Human 3.6M Dataset</u></h2>\n",
    "\n",
    "<h3><u>3.1. Summary of the dataset </u></h3>\n",
    "\n",
    "The [Human 3.6M dataset](http://vision.imar.ro/human3.6m/description.php) is a comprehensive dataset comprising 3.6 million 3D human poses, captured from 11 professional actors performing 17 everyday activities (e.g., talking, smoking, discussing).\n",
    "\n",
    "This dataset utilizes a 3D motion capture system with 10 cameras to track reflective markers placed on the body, enabling automatic labeling of joint positions.\n",
    "\n",
    "Participants were provided with detailed task instructions and visual examples of the actions to perform, but they were also allowed some freedom to move naturally during execution.\n",
    "\n",
    "As a result, the Human 3.6M dataset serves as a valuable resource for 3D human pose estimation, action recognition, and other computer vision research tasks."
   ]
  },
  {
   "cell_type": "markdown",
   "id": "76972dcfdd4a2b57",
   "metadata": {},
   "source": [
    "<h3><u>3.2. Dataset preparation </u></h3>\n",
    "\n",
    "Downloading the Human 3.6M dataset directly from the official website requires a login. To simplify access, we will use a preprocessed version of the dataset, which is available on Google Drive [here](https://drive.google.com/file/d/1JGt3j9q5A8WzUY-QKfyMVJUUvfreri-s/view?usp=drive_link).\n",
    "\n",
    "The preprocessing was originally performed by [Martinez et al](https://github.com/una-dinosauria/3d-pose-baseline) and is sourced from their repository.\n",
    "\n",
    "The following cells outline the steps to download this preprocessed dataset and create train-test files after applying necessary transformations.\n",
    "\n",
    "From Section 3 (Models) onward, we will use the preprocessed train-test files directly. Therefore, executing the cells in this section is optional."
   ]
  },
  {
   "cell_type": "markdown",
   "id": "f7b437e917fa318b",
   "metadata": {},
   "source": [
    "#### Downloading the zip from google drive"
   ]
  },
  {
   "cell_type": "code",
   "execution_count": null,
   "id": "71f1e0ceefe13857",
   "metadata": {
    "ExecuteTime": {
     "end_time": "2024-11-17T07:13:36.538742Z",
     "start_time": "2024-11-17T07:13:24.732200Z"
    }
   },
   "outputs": [],
   "source": [
    "# Download the zip from google drive\n",
    "import gdown\n",
    "import os\n",
    "\n",
    "# file id from gdrive (refer to markdown cell above for full link)\n",
    "file_id = '1JGt3j9q5A8WzUY-QKfyMVJUUvfreri-s' \n",
    "download_url = f'https://drive.google.com/uc?id={file_id}'\n",
    "\n",
    "# Folder where you want to save the file\n",
    "folder_path = os.path.join(os.getcwd(),\"datasets\", \"h36m\", \"Original\")\n",
    "zip_file_path = os.path.join(folder_path, 'h36m.zip')\n",
    "\n",
    "# Ensure the folder exists\n",
    "os.makedirs(folder_path, exist_ok=True)\n",
    "\n",
    "# Download the ZIP file\n",
    "gdown.download(download_url, zip_file_path, quiet=False)\n",
    "\n",
    "print(f\"Downloaded ZIP file and saved to {zip_file_path}\")\n"
   ]
  },
  {
   "cell_type": "markdown",
   "id": "82af82d9932cf7c2",
   "metadata": {},
   "source": [
    "#### Extracting the contents into the same folder"
   ]
  },
  {
   "cell_type": "code",
   "execution_count": null,
   "id": "93b0822847be0d9c",
   "metadata": {
    "ExecuteTime": {
     "end_time": "2024-11-17T07:12:32.649677Z",
     "start_time": "2024-11-17T07:12:28.972734Z"
    }
   },
   "outputs": [],
   "source": [
    "# extracting the contents inside the /datasets/h36m/Original folder\n",
    "import zipfile\n",
    "\n",
    "print(f\"Extracting files to {folder_path}..\")\n",
    "# Open the ZIP file and extract its contents\n",
    "with zipfile.ZipFile(zip_file_path, 'r') as zip_ref:\n",
    "    zip_ref.extractall(folder_path)\n",
    "\n",
    "print(f\"Finished extracting files to {folder_path}\")\n",
    "\n"
   ]
  },
  {
   "cell_type": "markdown",
   "id": "93b5da612c5f96",
   "metadata": {},
   "source": [
    "#### Saving the 3d positions into a compressed np file"
   ]
  },
  {
   "cell_type": "code",
   "execution_count": null,
   "id": "4e513820c9281fc5",
   "metadata": {},
   "outputs": [],
   "source": [
    "import h5py\n",
    "from glob import glob\n",
    "from tqdm import tqdm\n",
    "import numpy as np\n",
    "\n",
    "output_filename = os.path.join(folder_path, 'data_3d_h36m')\n",
    "subjects = ['S1', 'S5', 'S6', 'S7', 'S8', 'S9', 'S11']\n",
    "\n",
    "output = dict()\n",
    "for subject in tqdm(subjects, desc= f'Processing subjects..'):\n",
    "    output[subject] = dict()\n",
    "    file_list = glob(os.path.join(folder_path, 'h36m', subject, 'MyPoses', '3D_positions', '*.h5'))\n",
    "    assert len(file_list) == 30, \"Expected 30 files for subject \" + subject + \", got \" + str(len(file_list))\n",
    "    for f in file_list:\n",
    "        action = os.path.splitext(os.path.basename(f))[0]\n",
    "\n",
    "        if subject == 'S11' and action == 'Directions':\n",
    "            continue  # Discard corrupted video\n",
    "\n",
    "        with h5py.File(f) as hf:\n",
    "            positions = hf.get('3D_positions')[:].reshape(32, 3, -1).transpose(2, 0, 1)\n",
    "            positions /= 1000  # Meters instead of millimeters\n",
    "            output[subject][action] = positions.astype('float32')\n",
    "\n",
    "print(f'Saving compressed 3d positions into {output_filename}')\n",
    "np.savez_compressed(output_filename, positions_3d=output)\n",
    "print(f'Finished saving 3d positions into {output_filename}')\n",
    "del output\n"
   ]
  },
  {
   "cell_type": "markdown",
   "id": "e588965a522e8f8",
   "metadata": {},
   "source": [
    "#### Compute the ground truth 2d poses.\n",
    "\n",
    "The motion capture system records 3D poses using 10 cameras in the world coordinate frame. By applying the intrinsic and extrinsic matrices of each camera, these 3D poses are projected into 2D poses as they would appear in the respective camera's frame. The coordinates are then normalized so that the x, y, and z values range between -1 and 1."
   ]
  },
  {
   "cell_type": "code",
   "execution_count": null,
   "id": "6c4794b93a1836eb",
   "metadata": {},
   "outputs": [],
   "source": [
    "from data.camera import world_to_camera, project_to_2d, image_coordinates, wrap\n",
    "from data.h36m_dataset import Human36mDataset\n",
    "\n",
    "print('Computing ground-truth 2D poses...')\n",
    "output_filename_2d = os.path.join(folder_path, 'data_2d_h36m_gt')\n",
    "\n",
    "dataset = Human36mDataset(output_filename + '.npz')\n",
    "output_2d_poses = {}\n",
    "for subject in dataset.subjects():\n",
    "    output_2d_poses[subject] = {}\n",
    "    for action in dataset[subject].keys():\n",
    "        anim = dataset[subject][action]\n",
    "\n",
    "        positions_2d = []\n",
    "        for cam in anim['cameras']:\n",
    "            pos_3d = world_to_camera(anim['positions'], R=cam['orientation'], t=cam['translation'])\n",
    "            pos_2d = wrap(project_to_2d, True, pos_3d, cam['intrinsic'])\n",
    "            pos_2d_pixel_space = image_coordinates(pos_2d, w=cam['res_w'], h=cam['res_h'])\n",
    "            positions_2d.append(pos_2d_pixel_space.astype('float32'))\n",
    "        output_2d_poses[subject][action] = positions_2d\n",
    "\n",
    "print(f'Saving compressed 2d positions into {output_filename_2d}')\n",
    "metadata = {\n",
    "    'num_joints': dataset.skeleton().num_joints(),\n",
    "    'keypoints_symmetry': [dataset.skeleton().joints_left(), dataset.skeleton().joints_right()]\n",
    "}\n",
    "np.savez_compressed(output_filename_2d, positions_2d=output_2d_poses, metadata=metadata)\n",
    "\n",
    "print(f'Done saving compressed 2d positions into {output_filename_2d}')\n",
    "del output_2d_poses"
   ]
  },
  {
   "cell_type": "markdown",
   "id": "72697b64fd7d407d",
   "metadata": {},
   "source": [
    "#### Cleanup the extracted files and the downloaded zip"
   ]
  },
  {
   "cell_type": "code",
   "execution_count": null,
   "id": "118fd2a82b04cd62",
   "metadata": {},
   "outputs": [],
   "source": [
    "from shutil import rmtree\n",
    "\n",
    "rmtree(os.path.join(folder_path, 'h36m'))\n",
    "os.remove(os.path.join(folder_path, 'h36m.zip'))"
   ]
  },
  {
   "cell_type": "markdown",
   "id": "b27ac66ee540da7d",
   "metadata": {},
   "source": [
    "#### Creating and saving train and test files from the saved npz files"
   ]
  },
  {
   "cell_type": "code",
   "execution_count": null,
   "id": "5cb37ba45841bf03",
   "metadata": {},
   "outputs": [],
   "source": [
    "from utils.data_utils import read_3d_data, create_2d_data, create_train_test_files\n",
    "from data.h36m_dataset import TRAIN_SUBJECTS, TEST_SUBJECTS, Human36mDataset\n",
    "import os\n",
    "\n",
    "subjects_train = TRAIN_SUBJECTS\n",
    "subjects_test = TEST_SUBJECTS\n",
    "\n",
    "processed_dataset_path = os.path.join(os.getcwd(), \"datasets\", \"h36m\", \"Processed\")\n",
    "os.makedirs(processed_dataset_path, exist_ok=True)\n",
    "\n",
    "dataset_path = os.path.join(os.getcwd(), \"datasets\", \"h36m\", \"Original\", \"data_3d_h36m.npz\")\n",
    "dataset = Human36mDataset(dataset_path)\n"
   ]
  },
  {
   "cell_type": "markdown",
   "id": "35824cc0",
   "metadata": {},
   "source": [
    "#### Normalizing the 2D poses to [-1, 1] while preserving aspect ratio and 3D poses to camera's frame"
   ]
  },
  {
   "cell_type": "code",
   "execution_count": null,
   "id": "a7ad8d6cc3eb740e",
   "metadata": {},
   "outputs": [],
   "source": [
    "print(\"Reading 3d npz file\")\n",
    "dataset = read_3d_data(dataset)\n",
    "\n",
    "print(\"Reading 2d npz file\")\n",
    "dataset_2d_path = os.path.join(os.getcwd(), \"datasets\", \"h36m\", \"Original\", \"data_2d_h36m_gt.npz\")\n",
    "keypoints = create_2d_data(dataset_2d_path, dataset)\n",
    "print(\"Done\")"
   ]
  },
  {
   "cell_type": "markdown",
   "id": "58717c84",
   "metadata": {},
   "source": [
    "#### Select subset of distinct actions to train and test models"
   ]
  },
  {
   "cell_type": "code",
   "execution_count": null,
   "id": "092c8614",
   "metadata": {},
   "outputs": [],
   "source": [
    "keep_actions = [\n",
    "    'Greeting',\n",
    "    'Photo',\n",
    "    'Sitting',\n",
    "    'SittingDown',\n",
    "    'Walking'\n",
    "]"
   ]
  },
  {
   "cell_type": "markdown",
   "id": "a5af75e0",
   "metadata": {},
   "source": [
    "#### Save the 2D poses, 3D poses, and actions in numpy files"
   ]
  },
  {
   "cell_type": "code",
   "execution_count": null,
   "id": "f68a656a402feba5",
   "metadata": {},
   "outputs": [],
   "source": [
    "print(\"Creating train datasets and saving into file\")\n",
    "_, _, _ = create_train_test_files(subjects_train, dataset, keypoints, \"train\", processed_dataset_path, keep_actions)\n",
    "\n",
    "print(\"Creating test datasets and saving into file\")\n",
    "_, _, _ = create_train_test_files(subjects_test, dataset, keypoints, \"test\", processed_dataset_path, keep_actions)\n",
    "print(\"Done\")"
   ]
  },
  {
   "cell_type": "markdown",
   "id": "63c43c8d75e4e921",
   "metadata": {},
   "source": [
    "<h3><u>3.3 Visualizing poses </u></h3>\n",
    "\n",
    "Since the train and test files have already been saved, we will use these files for the remainder of the notebook.\n",
    "\n",
    "These files are also available in this [Google Drive Link](https://drive.google.com/drive/folders/1d38hWSM8clZlI11nqljxBECog1KY-iTd?usp=sharing), which can be placed in the local path to skip the execution of earlier cells.\n",
    "\n",
    "The visualizations below indicate that, after the processing steps outlined above, human poses are represented as skeletons consisting of 13 joints."
   ]
  },
  {
   "cell_type": "markdown",
   "id": "dde57df9f7a0383",
   "metadata": {},
   "source": [
    "Let's visualise the poses for the 5 actions in the h3.6m dataset"
   ]
  },
  {
   "cell_type": "code",
   "execution_count": null,
   "id": "83dc71b13b6e69ee",
   "metadata": {},
   "outputs": [],
   "source": [
    "from utils.visualization_utils import visualize_2d_pose_actions\n",
    "\n",
    "out_poses_2d = np.load(\"datasets/h36m/Processed/test_2d_poses.npy\")\n",
    "out_actions = np.load(\"datasets/h36m/Processed/test_actions.npy\")\n",
    "for action in np.unique(out_actions):\n",
    "    out_poses_2d_action = out_poses_2d[out_actions == action]\n",
    "    visualize_2d_pose_actions(out_poses_2d_action, action=action)"
   ]
  },
  {
   "cell_type": "markdown",
   "id": "dc82a59366a53d26",
   "metadata": {},
   "source": [
    "Let's visualise the first 2D pose and corresponding 3D poses in the h3.6m dataset"
   ]
  },
  {
   "cell_type": "code",
   "execution_count": null,
   "id": "e3e8ef64a0039560",
   "metadata": {},
   "outputs": [],
   "source": [
    "import numpy as np\n",
    "\n",
    "from utils.visualization_utils import visualize_2d_pose, visualize_3d_pose\n",
    "\n",
    "poses_2d = np.load(\"datasets/h36m/Processed/test_2d_poses.npy\")\n",
    "poses_3d = np.load(\"datasets/h36m/Processed/test_3d_poses.npy\")\n",
    "\n",
    "visualize_2d_pose(poses_2d[0])\n",
    "visualize_3d_pose(poses_3d[0], elev=110, azim=90)"
   ]
  },
  {
   "cell_type": "markdown",
   "id": "7725e8082f63bef6",
   "metadata": {},
   "source": [
    "Let's visualise the distribution of the 5 actions in the h3.6m train and test datasets"
   ]
  },
  {
   "cell_type": "code",
   "execution_count": null,
   "id": "6ac4ee6d0caadd6c",
   "metadata": {},
   "outputs": [],
   "source": [
    "import pandas as pd\n",
    "import matplotlib.pyplot as plt\n",
    "\n",
    "def show_action_stats(actions, type):\n",
    "    train_actions_df = pd.DataFrame(actions, columns=['actions'])\n",
    "    action_counts = train_actions_df['actions'].value_counts()\n",
    "    print(action_counts)\n",
    "    \n",
    "    action_counts.plot(kind='bar')\n",
    "    \n",
    "    # Step 4: Show the plot\n",
    "    plt.title(f'{type} Action Distribution')\n",
    "    plt.xlabel('Action')\n",
    "    plt.ylabel('Count')\n",
    "    plt.show()\n"
   ]
  },
  {
   "cell_type": "code",
   "execution_count": null,
   "id": "4a3d339da3ad4be1",
   "metadata": {},
   "outputs": [],
   "source": [
    "train_actions = np.load(\"datasets/h36m/Processed/train_actions.npy\")\n",
    "show_action_stats(train_actions, \"Train\")"
   ]
  },
  {
   "cell_type": "code",
   "execution_count": null,
   "id": "60e77e8dbb1d9828",
   "metadata": {},
   "outputs": [],
   "source": [
    "test_actions = np.load(\"datasets/h36m/Processed/test_actions.npy\")\n",
    "show_action_stats(test_actions, \"Test\")"
   ]
  },
  {
   "cell_type": "code",
   "execution_count": null,
   "id": "28e0c3ff",
   "metadata": {},
   "outputs": [],
   "source": [
    "from dataloader.h36m_graph_loader_with_edge_feats import Human36MGraphEdgeDataset\n",
    "import networkx as nx\n",
    "import dgl\n",
    "\n",
    "item = {\n",
    "    'training_2d_data_path': os.path.join('datasets', 'h36m', 'Processed', 'train_2d_poses.npy'),\n",
    "    'training_3d_data_path': os.path.join('datasets', 'h36m', 'Processed', 'train_3d_poses.npy'),\n",
    "    'training_label_path': os.path.join('datasets', 'h36m', 'Processed', 'train_actions.npy'),\n",
    "}\n",
    "\n",
    "training_data = Human36MGraphEdgeDataset(item['training_2d_data_path'], item['training_3d_data_path'], item['training_label_path'])\n",
    "g = training_data[0][0]\n",
    "print(g)\n",
    "options = {\n",
    "    'node_size': 100,\n",
    "    'width': 1,\n",
    "}\n",
    "G = dgl.to_networkx(g)\n",
    "plt.figure(figsize=[15,7])\n",
    "nx.draw(G, **options)\n"
   ]
  },
  {
   "cell_type": "markdown",
   "id": "016dbee3",
   "metadata": {},
   "source": [
    "**NOTE: do not run the cells below as the output contains our training execution logs**"
   ]
  },
  {
   "cell_type": "markdown",
   "id": "7da5d78a",
   "metadata": {},
   "source": [
    "<h3><u>3.4.  Training baseline model (SimplePose) </u></h3>"
   ]
  },
  {
   "cell_type": "code",
   "execution_count": null,
   "id": "f272c692",
   "metadata": {
    "colab": {
     "base_uri": "https://localhost:8080/",
     "height": 1000
    },
    "id": "f272c692",
    "outputId": "a5842824-23dc-4240-d3e8-3af2f4174254"
   },
   "outputs": [
    {
     "output_type": "stream",
     "name": "stdout",
     "text": [
      "Training args are: Namespace(learning_rate=3e-05, num_epochs=30, batch_size=256, action_loss_multiplier=1, pose_loss_multiplier=100, training_2d_data_path='datasets/h36m/Processed/train_2d_poses.npy', training_3d_data_path='datasets/h36m/Processed/train_3d_poses.npy', training_label_path='datasets/h36m/Processed/train_actions.npy', testing_2d_data_path='datasets/h36m/Processed/test_2d_poses.npy', testing_3d_data_path='datasets/h36m/Processed/test_3d_poses.npy', testing_label_path='datasets/h36m/Processed/test_actions.npy', save_path='model_outputs/simple_pose/2024-11-18--03-29-34')\n",
      "Starting EPOCH: 1 / 30\n"
     ]
    },
    {
     "output_type": "stream",
     "name": "stderr",
     "text": [
      "Training =>:   0%|          | 0/773 [00:00<?, ?it/s]\n",
      "Training =>:   1%|          | 8/773 [00:00<00:10, 74.30it/s]\n",
      "Training =>:   2%|▏         | 17/773 [00:00<00:09, 81.13it/s]\n",
      "Training =>:   3%|▎         | 26/773 [00:00<00:09, 79.53it/s]\n",
      "Training =>:   5%|▍         | 35/773 [00:00<00:09, 80.33it/s]\n",
      "Training =>:   6%|▌         | 44/773 [00:00<00:08, 81.01it/s]\n",
      "Training =>:   7%|▋         | 53/773 [00:00<00:08, 83.71it/s]\n",
      "Training =>:   8%|▊         | 62/773 [00:00<00:08, 84.76it/s]\n",
      "Training =>:   9%|▉         | 71/773 [00:00<00:08, 86.19it/s]\n",
      "Training =>:  10%|█         | 80/773 [00:00<00:08, 86.40it/s]\n",
      "Training =>:  12%|█▏        | 89/773 [00:01<00:07, 86.45it/s]\n",
      "Training =>:  13%|█▎        | 98/773 [00:01<00:07, 85.60it/s]\n",
      "Training =>:  14%|█▍        | 107/773 [00:01<00:07, 85.13it/s]\n",
      "Training =>:  15%|█▌        | 116/773 [00:01<00:07, 84.16it/s]\n",
      "Training =>:  16%|█▌        | 125/773 [00:01<00:07, 84.93it/s]\n",
      "Training =>:  17%|█▋        | 134/773 [00:01<00:07, 84.60it/s]\n",
      "Training =>:  18%|█▊        | 143/773 [00:01<00:07, 85.11it/s]\n",
      "Training =>:  20%|█▉        | 152/773 [00:01<00:07, 85.37it/s]\n",
      "Training =>:  21%|██        | 161/773 [00:01<00:07, 86.68it/s]\n",
      "Training =>:  22%|██▏       | 171/773 [00:02<00:06, 87.81it/s]\n",
      "Training =>:  23%|██▎       | 181/773 [00:02<00:06, 88.87it/s]\n",
      "Training =>:  25%|██▍       | 191/773 [00:02<00:06, 89.33it/s]\n",
      "Training =>:  26%|██▌       | 200/773 [00:02<00:06, 89.22it/s]\n",
      "Training =>:  27%|██▋       | 209/773 [00:02<00:06, 87.81it/s]\n",
      "Training =>:  28%|██▊       | 218/773 [00:02<00:06, 88.42it/s]\n",
      "Training =>:  29%|██▉       | 228/773 [00:02<00:06, 89.40it/s]\n",
      "Training =>:  31%|███       | 237/773 [00:02<00:06, 88.89it/s]\n",
      "Training =>:  32%|███▏      | 247/773 [00:02<00:05, 89.69it/s]\n",
      "Training =>:  33%|███▎      | 257/773 [00:02<00:05, 90.04it/s]\n",
      "Training =>:  35%|███▍      | 267/773 [00:03<00:05, 89.09it/s]\n",
      "Training =>:  36%|███▌      | 276/773 [00:03<00:05, 89.23it/s]\n",
      "Training =>:  37%|███▋      | 286/773 [00:03<00:05, 88.84it/s]\n",
      "Training =>:  38%|███▊      | 295/773 [00:03<00:05, 89.04it/s]\n",
      "Training =>:  39%|███▉      | 305/773 [00:03<00:05, 89.70it/s]\n",
      "Training =>:  41%|████      | 314/773 [00:03<00:05, 89.77it/s]\n",
      "Training =>:  42%|████▏     | 324/773 [00:03<00:04, 90.10it/s]\n",
      "Training =>:  43%|████▎     | 334/773 [00:03<00:04, 90.04it/s]\n",
      "Training =>:  45%|████▍     | 344/773 [00:03<00:04, 89.93it/s]\n",
      "Training =>:  46%|████▌     | 354/773 [00:04<00:04, 90.48it/s]\n",
      "Training =>:  47%|████▋     | 364/773 [00:04<00:04, 90.83it/s]\n",
      "Training =>:  48%|████▊     | 374/773 [00:04<00:04, 90.54it/s]\n",
      "Training =>:  50%|████▉     | 384/773 [00:04<00:04, 89.52it/s]\n",
      "Training =>:  51%|█████     | 394/773 [00:04<00:04, 89.86it/s]\n",
      "Training =>:  52%|█████▏    | 404/773 [00:04<00:04, 90.22it/s]\n",
      "Training =>:  54%|█████▎    | 414/773 [00:04<00:03, 89.88it/s]\n",
      "Training =>:  55%|█████▍    | 423/773 [00:04<00:03, 89.77it/s]\n",
      "Training =>:  56%|█████▌    | 432/773 [00:04<00:03, 89.35it/s]\n",
      "Training =>:  57%|█████▋    | 442/773 [00:05<00:03, 90.16it/s]\n",
      "Training =>:  58%|█████▊    | 452/773 [00:05<00:03, 90.04it/s]\n",
      "Training =>:  60%|█████▉    | 462/773 [00:05<00:03, 90.01it/s]\n",
      "Training =>:  61%|██████    | 472/773 [00:05<00:03, 89.87it/s]\n",
      "Training =>:  62%|██████▏   | 481/773 [00:05<00:03, 89.84it/s]\n",
      "Training =>:  64%|██████▎   | 491/773 [00:05<00:03, 90.83it/s]\n",
      "Training =>:  65%|██████▍   | 501/773 [00:05<00:02, 91.52it/s]\n",
      "Training =>:  66%|██████▌   | 511/773 [00:05<00:02, 91.15it/s]\n",
      "Training =>:  67%|██████▋   | 521/773 [00:05<00:02, 91.05it/s]\n",
      "Training =>:  69%|██████▊   | 531/773 [00:06<00:02, 91.02it/s]\n",
      "Training =>:  70%|██████▉   | 541/773 [00:06<00:02, 90.42it/s]\n",
      "Training =>:  71%|███████▏  | 551/773 [00:06<00:02, 90.41it/s]\n",
      "Training =>:  73%|███████▎  | 561/773 [00:06<00:02, 89.96it/s]\n",
      "Training =>:  74%|███████▎  | 570/773 [00:06<00:02, 89.96it/s]\n",
      "Training =>:  75%|███████▌  | 580/773 [00:06<00:02, 90.32it/s]\n",
      "Training =>:  76%|███████▋  | 590/773 [00:06<00:02, 90.26it/s]\n",
      "Training =>:  78%|███████▊  | 600/773 [00:06<00:01, 90.48it/s]\n",
      "Training =>:  79%|███████▉  | 610/773 [00:06<00:01, 90.73it/s]\n",
      "Training =>:  80%|████████  | 620/773 [00:07<00:01, 90.38it/s]\n",
      "Training =>:  82%|████████▏ | 630/773 [00:07<00:01, 90.40it/s]\n",
      "Training =>:  83%|████████▎ | 640/773 [00:07<00:01, 90.26it/s]\n",
      "Training =>:  84%|████████▍ | 650/773 [00:07<00:01, 89.90it/s]\n",
      "Training =>:  85%|████████▌ | 659/773 [00:07<00:01, 89.85it/s]\n",
      "Training =>:  87%|████████▋ | 669/773 [00:07<00:01, 90.17it/s]\n",
      "Training =>:  88%|████████▊ | 679/773 [00:07<00:01, 90.46it/s]\n",
      "Training =>:  89%|████████▉ | 689/773 [00:07<00:00, 90.69it/s]\n",
      "Training =>:  90%|█████████ | 699/773 [00:07<00:00, 90.42it/s]\n",
      "Training =>:  92%|█████████▏| 709/773 [00:07<00:00, 90.42it/s]\n",
      "Training =>:  93%|█████████▎| 719/773 [00:08<00:00, 90.63it/s]\n",
      "Training =>:  94%|█████████▍| 729/773 [00:08<00:00, 90.49it/s]\n",
      "Training =>:  96%|█████████▌| 739/773 [00:08<00:00, 89.81it/s]\n",
      "Training =>:  97%|█████████▋| 748/773 [00:08<00:00, 88.97it/s]\n",
      "Training =>:  98%|█████████▊| 758/773 [00:08<00:00, 89.85it/s]\n",
      "Training =>:  99%|█████████▉| 768/773 [00:08<00:00, 90.29it/s]\n",
      "100%|██████████| 773/773 [00:08<00:00, 88.86it/s]\n",
      "Training =>: 100%|██████████| 773/773 [00:08<00:00, 88.80it/s]\n"
     ]
    },
    {
     "output_type": "stream",
     "name": "stdout",
     "text": [
      "Saving at epoch 0\n",
      "Epoch: 0 | Total Training Loss: 67.90802764892578 | Pose Training Loss: 0.6661983132362366 | Action Training Loss: 1.2881903648376465 | Action Train Label Accuracy: 49.450094009663786\n"
     ]
    },
    {
     "output_type": "stream",
     "name": "stderr",
     "text": [
      "Testing =>:   0%|          | 0/293 [00:00<?, ?it/s]\n",
      "Testing =>:   7%|▋         | 21/293 [00:00<00:01, 209.40it/s]\n",
      "Testing =>:  15%|█▍        | 43/293 [00:00<00:01, 210.80it/s]\n",
      "Testing =>:  22%|██▏       | 65/293 [00:00<00:01, 211.29it/s]\n",
      "Testing =>:  30%|██▉       | 87/293 [00:00<00:00, 210.03it/s]\n",
      "Testing =>:  37%|███▋      | 109/293 [00:00<00:00, 209.14it/s]\n",
      "Testing =>:  44%|████▍     | 130/293 [00:00<00:00, 207.74it/s]\n",
      "Testing =>:  52%|█████▏    | 151/293 [00:00<00:00, 208.40it/s]\n",
      "Testing =>:  59%|█████▊    | 172/293 [00:00<00:00, 208.07it/s]\n",
      "Testing =>:  66%|██████▌   | 193/293 [00:00<00:00, 207.57it/s]\n",
      "Testing =>:  73%|███████▎  | 214/293 [00:01<00:00, 207.57it/s]\n",
      "Testing =>:  80%|████████  | 235/293 [00:01<00:00, 207.65it/s]\n",
      "Testing =>:  87%|████████▋ | 256/293 [00:01<00:00, 206.42it/s]\n",
      "Testing =>:  95%|█████████▍| 277/293 [00:01<00:00, 206.72it/s]\n",
      "100%|██████████| 293/293 [00:01<00:00, 208.23it/s]\n",
      "Testing =>: 100%|██████████| 293/293 [00:01<00:00, 207.49it/s]\n"
     ]
    },
    {
     "output_type": "stream",
     "name": "stdout",
     "text": [
      "Epoch: 0 | Total Testing Loss: 10.159862518310547 | Pose Testing Loss: 0.09032389521598816 | Action Testing Loss: 1.1274749040603638 | Action Test Label Accuracy: 44.87938947593126\n",
      "Starting EPOCH: 2 / 30\n"
     ]
    },
    {
     "output_type": "stream",
     "name": "stderr",
     "text": [
      "Training =>:   0%|          | 0/773 [00:00<?, ?it/s]\n",
      "Training =>:   1%|          | 8/773 [00:00<00:09, 79.98it/s]\n",
      "Training =>:   2%|▏         | 17/773 [00:00<00:08, 84.80it/s]\n",
      "Training =>:   3%|▎         | 26/773 [00:00<00:08, 86.90it/s]\n",
      "Training =>:   5%|▍         | 36/773 [00:00<00:08, 88.53it/s]\n",
      "Training =>:   6%|▌         | 45/773 [00:00<00:08, 87.21it/s]\n",
      "Training =>:   7%|▋         | 54/773 [00:00<00:08, 87.61it/s]\n",
      "Training =>:   8%|▊         | 63/773 [00:00<00:08, 88.03it/s]\n",
      "Training =>:   9%|▉         | 72/773 [00:00<00:07, 88.42it/s]\n",
      "Training =>:  10%|█         | 81/773 [00:00<00:07, 88.51it/s]\n",
      "Training =>:  12%|█▏        | 91/773 [00:01<00:07, 89.38it/s]\n",
      "Training =>:  13%|█▎        | 100/773 [00:01<00:07, 87.16it/s]\n",
      "Training =>:  14%|█▍        | 109/773 [00:01<00:07, 86.32it/s]\n",
      "Training =>:  15%|█▌        | 118/773 [00:01<00:07, 86.81it/s]\n",
      "Training =>:  17%|█▋        | 128/773 [00:01<00:07, 88.13it/s]\n",
      "Training =>:  18%|█▊        | 138/773 [00:01<00:07, 88.91it/s]\n",
      "Training =>:  19%|█▉        | 148/773 [00:01<00:07, 89.06it/s]\n",
      "Training =>:  20%|██        | 158/773 [00:01<00:06, 89.54it/s]\n",
      "Training =>:  22%|██▏       | 168/773 [00:01<00:06, 90.36it/s]\n",
      "Training =>:  23%|██▎       | 178/773 [00:02<00:06, 90.14it/s]\n",
      "Training =>:  24%|██▍       | 188/773 [00:02<00:06, 87.46it/s]\n",
      "Training =>:  25%|██▌       | 197/773 [00:02<00:06, 88.00it/s]\n",
      "Training =>:  27%|██▋       | 207/773 [00:02<00:06, 88.91it/s]\n",
      "Training =>:  28%|██▊       | 217/773 [00:02<00:06, 89.87it/s]\n",
      "Training =>:  29%|██▉       | 226/773 [00:02<00:06, 88.00it/s]\n",
      "Training =>:  30%|███       | 235/773 [00:02<00:06, 87.32it/s]\n",
      "Training =>:  32%|███▏      | 244/773 [00:02<00:06, 87.05it/s]\n",
      "Training =>:  33%|███▎      | 254/773 [00:02<00:05, 88.67it/s]\n",
      "Training =>:  34%|███▍      | 263/773 [00:02<00:05, 88.99it/s]\n",
      "Training =>:  35%|███▌      | 272/773 [00:03<00:05, 89.14it/s]\n",
      "Training =>:  36%|███▋      | 282/773 [00:03<00:05, 90.03it/s]\n",
      "Training =>:  38%|███▊      | 292/773 [00:03<00:05, 90.73it/s]\n",
      "Training =>:  39%|███▉      | 302/773 [00:03<00:05, 91.01it/s]\n",
      "Training =>:  40%|████      | 312/773 [00:03<00:05, 90.82it/s]\n",
      "Training =>:  42%|████▏     | 322/773 [00:03<00:04, 90.43it/s]\n",
      "Training =>:  43%|████▎     | 332/773 [00:03<00:04, 90.72it/s]\n",
      "Training =>:  44%|████▍     | 342/773 [00:03<00:04, 90.75it/s]\n",
      "Training =>:  46%|████▌     | 352/773 [00:03<00:04, 90.32it/s]\n",
      "Training =>:  47%|████▋     | 362/773 [00:04<00:04, 90.06it/s]\n",
      "Training =>:  48%|████▊     | 372/773 [00:04<00:04, 90.38it/s]\n",
      "Training =>:  49%|████▉     | 382/773 [00:04<00:04, 91.15it/s]\n",
      "Training =>:  51%|█████     | 392/773 [00:04<00:04, 91.68it/s]\n",
      "Training =>:  52%|█████▏    | 402/773 [00:04<00:04, 92.12it/s]\n",
      "Training =>:  53%|█████▎    | 412/773 [00:04<00:03, 92.75it/s]\n",
      "Training =>:  55%|█████▍    | 422/773 [00:04<00:03, 92.45it/s]\n",
      "Training =>:  56%|█████▌    | 432/773 [00:04<00:03, 92.19it/s]\n",
      "Training =>:  57%|█████▋    | 442/773 [00:04<00:03, 92.12it/s]\n",
      "Training =>:  58%|█████▊    | 452/773 [00:05<00:03, 91.79it/s]\n",
      "Training =>:  60%|█████▉    | 462/773 [00:05<00:03, 91.72it/s]\n",
      "Training =>:  61%|██████    | 472/773 [00:05<00:03, 92.11it/s]\n",
      "Training =>:  62%|██████▏   | 482/773 [00:05<00:03, 92.12it/s]\n",
      "Training =>:  64%|██████▎   | 492/773 [00:05<00:03, 92.27it/s]\n",
      "Training =>:  65%|██████▍   | 502/773 [00:05<00:02, 92.52it/s]\n",
      "Training =>:  66%|██████▌   | 512/773 [00:05<00:02, 91.32it/s]\n",
      "Training =>:  68%|██████▊   | 522/773 [00:05<00:02, 92.08it/s]\n",
      "Training =>:  69%|██████▉   | 532/773 [00:05<00:02, 92.19it/s]\n",
      "Training =>:  70%|███████   | 542/773 [00:06<00:02, 92.16it/s]\n",
      "Training =>:  71%|███████▏  | 552/773 [00:06<00:02, 91.55it/s]\n",
      "Training =>:  73%|███████▎  | 562/773 [00:06<00:02, 92.15it/s]\n",
      "Training =>:  74%|███████▍  | 572/773 [00:06<00:02, 92.61it/s]\n",
      "Training =>:  75%|███████▌  | 582/773 [00:06<00:02, 92.72it/s]\n",
      "Training =>:  77%|███████▋  | 592/773 [00:06<00:01, 92.51it/s]\n",
      "Training =>:  78%|███████▊  | 602/773 [00:06<00:01, 92.65it/s]\n",
      "Training =>:  79%|███████▉  | 612/773 [00:06<00:01, 92.79it/s]\n",
      "Training =>:  80%|████████  | 622/773 [00:06<00:01, 93.28it/s]\n",
      "Training =>:  82%|████████▏ | 632/773 [00:07<00:01, 90.96it/s]\n",
      "Training =>:  83%|████████▎ | 642/773 [00:07<00:01, 90.21it/s]\n",
      "Training =>:  84%|████████▍ | 652/773 [00:07<00:01, 90.65it/s]\n",
      "Training =>:  86%|████████▌ | 662/773 [00:07<00:01, 91.70it/s]\n",
      "Training =>:  87%|████████▋ | 672/773 [00:07<00:01, 92.40it/s]\n",
      "Training =>:  88%|████████▊ | 682/773 [00:07<00:00, 92.60it/s]\n",
      "Training =>:  90%|████████▉ | 692/773 [00:07<00:00, 93.11it/s]\n",
      "Training =>:  91%|█████████ | 702/773 [00:07<00:00, 92.03it/s]\n",
      "Training =>:  92%|█████████▏| 712/773 [00:07<00:00, 92.61it/s]\n",
      "Training =>:  93%|█████████▎| 722/773 [00:07<00:00, 92.15it/s]\n",
      "Training =>:  95%|█████████▍| 732/773 [00:08<00:00, 89.50it/s]\n",
      "Training =>:  96%|█████████▌| 742/773 [00:08<00:00, 90.67it/s]\n",
      "Training =>:  97%|█████████▋| 752/773 [00:08<00:00, 91.57it/s]\n",
      "Training =>:  99%|█████████▊| 762/773 [00:08<00:00, 91.97it/s]\n",
      "100%|██████████| 773/773 [00:08<00:00, 90.51it/s]\n",
      "Training =>: 100%|██████████| 773/773 [00:08<00:00, 90.46it/s]\n"
     ]
    },
    {
     "output_type": "stream",
     "name": "stdout",
     "text": [
      "Saving at epoch 1\n",
      "Epoch: 1 | Total Training Loss: 13.317322731018066 | Pose Training Loss: 0.12374890595674515 | Action Training Loss: 0.9424268007278442 | Action Train Label Accuracy: 61.97309099731112\n"
     ]
    },
    {
     "output_type": "stream",
     "name": "stderr",
     "text": [
      "Testing =>:   0%|          | 0/293 [00:00<?, ?it/s]\n",
      "Testing =>:   7%|▋         | 20/293 [00:00<00:01, 191.01it/s]\n",
      "Testing =>:  14%|█▍        | 41/293 [00:00<00:01, 197.17it/s]\n",
      "Testing =>:  21%|██        | 62/293 [00:00<00:01, 198.70it/s]\n",
      "Testing =>:  28%|██▊       | 82/293 [00:00<00:01, 195.75it/s]\n",
      "Testing =>:  35%|███▌      | 103/293 [00:00<00:00, 197.60it/s]\n",
      "Testing =>:  42%|████▏     | 124/293 [00:00<00:00, 200.29it/s]\n",
      "Testing =>:  49%|████▉     | 145/293 [00:00<00:00, 202.89it/s]\n",
      "Testing =>:  57%|█████▋    | 166/293 [00:00<00:00, 204.36it/s]\n",
      "Testing =>:  64%|██████▍   | 187/293 [00:00<00:00, 202.51it/s]\n",
      "Testing =>:  71%|███████   | 208/293 [00:01<00:00, 202.33it/s]\n",
      "Testing =>:  78%|███████▊  | 229/293 [00:01<00:00, 200.79it/s]\n",
      "Testing =>:  85%|████████▌ | 250/293 [00:01<00:00, 202.19it/s]\n",
      "Testing =>:  92%|█████████▏| 271/293 [00:01<00:00, 201.72it/s]\n",
      "Testing =>: 100%|█████████▉| 292/293 [00:01<00:00, 200.91it/s]\n",
      "100%|██████████| 293/293 [00:01<00:00, 200.46it/s]\n",
      "Testing =>: 100%|██████████| 293/293 [00:01<00:00, 199.69it/s]\n"
     ]
    },
    {
     "output_type": "stream",
     "name": "stdout",
     "text": [
      "Epoch: 1 | Total Testing Loss: 9.401177406311035 | Pose Testing Loss: 0.08492902666330338 | Action Testing Loss: 0.9082731008529663 | Action Test Label Accuracy: 60.170509125840546\n",
      "Starting EPOCH: 3 / 30\n"
     ]
    },
    {
     "output_type": "stream",
     "name": "stderr",
     "text": [
      "Training =>:   0%|          | 0/773 [00:00<?, ?it/s]\n",
      "Training =>:   1%|          | 8/773 [00:00<00:09, 77.63it/s]\n",
      "Training =>:   2%|▏         | 17/773 [00:00<00:09, 81.05it/s]\n",
      "Training =>:   3%|▎         | 26/773 [00:00<00:08, 83.88it/s]\n",
      "Training =>:   5%|▍         | 35/773 [00:00<00:08, 84.52it/s]\n",
      "Training =>:   6%|▌         | 44/773 [00:00<00:08, 86.05it/s]\n",
      "Training =>:   7%|▋         | 53/773 [00:00<00:08, 86.86it/s]\n",
      "Training =>:   8%|▊         | 62/773 [00:00<00:08, 87.36it/s]\n",
      "Training =>:   9%|▉         | 71/773 [00:00<00:08, 87.28it/s]\n",
      "Training =>:  10%|█         | 80/773 [00:00<00:07, 87.28it/s]\n",
      "Training =>:  12%|█▏        | 89/773 [00:01<00:07, 87.96it/s]\n",
      "Training =>:  13%|█▎        | 98/773 [00:01<00:07, 88.54it/s]\n",
      "Training =>:  14%|█▍        | 107/773 [00:01<00:07, 88.97it/s]\n",
      "Training =>:  15%|█▌        | 116/773 [00:01<00:07, 88.89it/s]\n",
      "Training =>:  16%|█▌        | 125/773 [00:01<00:07, 89.10it/s]\n",
      "Training =>:  17%|█▋        | 134/773 [00:01<00:07, 89.10it/s]\n",
      "Training =>:  18%|█▊        | 143/773 [00:01<00:07, 86.41it/s]\n",
      "Training =>:  20%|█▉        | 152/773 [00:01<00:07, 86.72it/s]\n",
      "Training =>:  21%|██        | 161/773 [00:01<00:07, 82.33it/s]\n",
      "Training =>:  22%|██▏       | 170/773 [00:01<00:07, 84.00it/s]\n",
      "Training =>:  23%|██▎       | 179/773 [00:02<00:07, 82.72it/s]\n",
      "Training =>:  24%|██▍       | 188/773 [00:02<00:06, 84.38it/s]\n",
      "Training =>:  25%|██▌       | 197/773 [00:02<00:06, 83.67it/s]\n",
      "Training =>:  27%|██▋       | 206/773 [00:02<00:06, 84.95it/s]\n",
      "Training =>:  28%|██▊       | 215/773 [00:02<00:06, 85.81it/s]\n",
      "Training =>:  29%|██▉       | 224/773 [00:02<00:06, 86.52it/s]\n",
      "Training =>:  30%|███       | 233/773 [00:02<00:06, 86.82it/s]\n",
      "Training =>:  31%|███▏      | 242/773 [00:02<00:06, 86.23it/s]\n",
      "Training =>:  32%|███▏      | 251/773 [00:02<00:05, 87.25it/s]\n",
      "Training =>:  34%|███▍      | 261/773 [00:03<00:05, 88.40it/s]\n",
      "Training =>:  35%|███▍      | 270/773 [00:03<00:05, 88.82it/s]\n",
      "Training =>:  36%|███▌      | 279/773 [00:03<00:05, 88.70it/s]\n",
      "Training =>:  37%|███▋      | 288/773 [00:03<00:05, 86.99it/s]\n",
      "Training =>:  38%|███▊      | 297/773 [00:03<00:05, 86.15it/s]\n",
      "Training =>:  40%|███▉      | 306/773 [00:03<00:05, 86.54it/s]\n",
      "Training =>:  41%|████      | 315/773 [00:03<00:05, 86.70it/s]\n",
      "Training =>:  42%|████▏     | 324/773 [00:03<00:05, 85.84it/s]\n",
      "Training =>:  43%|████▎     | 333/773 [00:03<00:05, 84.48it/s]\n",
      "Training =>:  44%|████▍     | 342/773 [00:03<00:05, 85.66it/s]\n",
      "Training =>:  45%|████▌     | 351/773 [00:04<00:05, 77.51it/s]\n",
      "Training =>:  46%|████▋     | 359/773 [00:04<00:05, 72.95it/s]\n",
      "Training =>:  47%|████▋     | 367/773 [00:04<00:05, 74.61it/s]\n",
      "Training =>:  49%|████▊     | 375/773 [00:04<00:05, 73.76it/s]\n",
      "Training =>:  50%|████▉     | 383/773 [00:04<00:05, 72.93it/s]\n",
      "Training =>:  51%|█████     | 391/773 [00:04<00:05, 72.92it/s]\n",
      "Training =>:  52%|█████▏    | 400/773 [00:04<00:04, 75.86it/s]\n",
      "Training =>:  53%|█████▎    | 408/773 [00:04<00:04, 76.84it/s]\n",
      "Training =>:  54%|█████▍    | 416/773 [00:04<00:04, 76.89it/s]\n",
      "Training =>:  55%|█████▍    | 425/773 [00:05<00:04, 79.59it/s]\n",
      "Training =>:  56%|█████▌    | 434/773 [00:05<00:04, 80.11it/s]\n",
      "Training =>:  57%|█████▋    | 443/773 [00:05<00:03, 82.65it/s]\n",
      "Training =>:  58%|█████▊    | 452/773 [00:05<00:03, 84.18it/s]\n",
      "Training =>:  60%|█████▉    | 461/773 [00:05<00:03, 85.32it/s]\n",
      "Training =>:  61%|██████    | 471/773 [00:05<00:03, 86.96it/s]\n",
      "Training =>:  62%|██████▏   | 480/773 [00:05<00:03, 82.46it/s]\n",
      "Training =>:  63%|██████▎   | 489/773 [00:05<00:03, 82.07it/s]\n",
      "Training =>:  64%|██████▍   | 498/773 [00:05<00:03, 84.12it/s]\n",
      "Training =>:  66%|██████▌   | 507/773 [00:06<00:03, 85.00it/s]\n",
      "Training =>:  67%|██████▋   | 517/773 [00:06<00:02, 86.85it/s]\n",
      "Training =>:  68%|██████▊   | 526/773 [00:06<00:02, 83.69it/s]\n",
      "Training =>:  69%|██████▉   | 535/773 [00:06<00:02, 82.19it/s]\n",
      "Training =>:  70%|███████   | 544/773 [00:06<00:02, 83.81it/s]\n",
      "Training =>:  72%|███████▏  | 553/773 [00:06<00:02, 84.85it/s]\n",
      "Training =>:  73%|███████▎  | 562/773 [00:06<00:02, 86.05it/s]\n",
      "Training =>:  74%|███████▍  | 571/773 [00:06<00:02, 85.60it/s]\n",
      "Training =>:  75%|███████▌  | 580/773 [00:06<00:02, 81.05it/s]\n",
      "Training =>:  76%|███████▌  | 589/773 [00:07<00:02, 81.79it/s]\n",
      "Training =>:  77%|███████▋  | 598/773 [00:07<00:02, 83.56it/s]\n",
      "Training =>:  79%|███████▊  | 607/773 [00:07<00:01, 85.18it/s]\n",
      "Training =>:  80%|███████▉  | 616/773 [00:07<00:01, 85.09it/s]\n",
      "Training =>:  81%|████████  | 625/773 [00:07<00:01, 85.65it/s]\n",
      "Training =>:  82%|████████▏ | 634/773 [00:07<00:01, 85.81it/s]\n",
      "Training =>:  83%|████████▎ | 643/773 [00:07<00:01, 86.43it/s]\n",
      "Training =>:  84%|████████▍ | 652/773 [00:07<00:01, 85.87it/s]\n",
      "Training =>:  86%|████████▌ | 661/773 [00:07<00:01, 84.35it/s]\n",
      "Training =>:  87%|████████▋ | 670/773 [00:07<00:01, 85.46it/s]\n",
      "Training =>:  88%|████████▊ | 679/773 [00:08<00:01, 86.61it/s]\n",
      "Training =>:  89%|████████▉ | 688/773 [00:08<00:00, 87.58it/s]\n",
      "Training =>:  90%|█████████ | 698/773 [00:08<00:00, 88.65it/s]\n",
      "Training =>:  92%|█████████▏| 708/773 [00:08<00:00, 89.56it/s]\n",
      "Training =>:  93%|█████████▎| 717/773 [00:08<00:00, 89.17it/s]\n",
      "Training =>:  94%|█████████▍| 726/773 [00:08<00:00, 89.27it/s]\n",
      "Training =>:  95%|█████████▌| 735/773 [00:08<00:00, 89.29it/s]\n",
      "Training =>:  96%|█████████▌| 744/773 [00:08<00:00, 87.55it/s]\n",
      "Training =>:  97%|█████████▋| 753/773 [00:08<00:00, 87.64it/s]\n",
      "Training =>:  99%|█████████▊| 762/773 [00:09<00:00, 88.17it/s]\n",
      "100%|██████████| 773/773 [00:09<00:00, 84.66it/s]\n",
      "Training =>: 100%|██████████| 773/773 [00:09<00:00, 84.60it/s]\n"
     ]
    },
    {
     "output_type": "stream",
     "name": "stdout",
     "text": [
      "Saving at epoch 2\n",
      "Epoch: 2 | Total Training Loss: 9.093670845031738 | Pose Training Loss: 0.08248811960220337 | Action Training Loss: 0.8448598384857178 | Action Train Label Accuracy: 65.86842690495926\n"
     ]
    },
    {
     "output_type": "stream",
     "name": "stderr",
     "text": [
      "Testing =>:   0%|          | 0/293 [00:00<?, ?it/s]\n",
      "Testing =>:   7%|▋         | 20/293 [00:00<00:01, 198.12it/s]\n",
      "Testing =>:  14%|█▎        | 40/293 [00:00<00:01, 198.31it/s]\n",
      "Testing =>:  21%|██        | 61/293 [00:00<00:01, 200.72it/s]\n",
      "Testing =>:  28%|██▊       | 82/293 [00:00<00:01, 201.35it/s]\n",
      "Testing =>:  35%|███▌      | 103/293 [00:00<00:00, 201.00it/s]\n",
      "Testing =>:  42%|████▏     | 124/293 [00:00<00:00, 196.99it/s]\n",
      "Testing =>:  49%|████▉     | 144/293 [00:00<00:00, 195.32it/s]\n",
      "Testing =>:  56%|█████▌    | 164/293 [00:00<00:00, 190.02it/s]\n",
      "Testing =>:  63%|██████▎   | 184/293 [00:00<00:00, 192.23it/s]\n",
      "Testing =>:  70%|██████▉   | 204/293 [00:01<00:00, 191.67it/s]\n",
      "Testing =>:  76%|███████▋  | 224/293 [00:01<00:00, 192.03it/s]\n",
      "Testing =>:  83%|████████▎ | 244/293 [00:01<00:00, 193.91it/s]\n",
      "Testing =>:  90%|█████████ | 264/293 [00:01<00:00, 195.06it/s]\n",
      "Testing =>:  97%|█████████▋| 284/293 [00:01<00:00, 196.29it/s]\n",
      "100%|██████████| 293/293 [00:01<00:00, 195.45it/s]\n",
      "Testing =>: 100%|██████████| 293/293 [00:01<00:00, 194.67it/s]\n"
     ]
    },
    {
     "output_type": "stream",
     "name": "stdout",
     "text": [
      "Epoch: 2 | Total Testing Loss: 8.432327270507812 | Pose Testing Loss: 0.07607001811265945 | Action Testing Loss: 0.8253238201141357 | Action Test Label Accuracy: 61.251200768491834\n",
      "Starting EPOCH: 4 / 30\n"
     ]
    },
    {
     "output_type": "stream",
     "name": "stderr",
     "text": [
      "Training =>:   0%|          | 0/773 [00:00<?, ?it/s]\n",
      "Training =>:   1%|          | 8/773 [00:00<00:09, 79.24it/s]\n",
      "Training =>:   2%|▏         | 17/773 [00:00<00:09, 82.77it/s]\n",
      "Training =>:   3%|▎         | 26/773 [00:00<00:08, 84.17it/s]\n",
      "Training =>:   5%|▍         | 35/773 [00:00<00:08, 85.36it/s]\n",
      "Training =>:   6%|▌         | 44/773 [00:00<00:08, 85.99it/s]\n",
      "Training =>:   7%|▋         | 53/773 [00:00<00:08, 86.12it/s]\n",
      "Training =>:   8%|▊         | 62/773 [00:00<00:08, 87.00it/s]\n",
      "Training =>:   9%|▉         | 71/773 [00:00<00:08, 87.42it/s]\n",
      "Training =>:  10%|█         | 80/773 [00:00<00:08, 86.62it/s]\n",
      "Training =>:  12%|█▏        | 89/773 [00:01<00:08, 84.89it/s]\n",
      "Training =>:  13%|█▎        | 98/773 [00:01<00:07, 85.30it/s]\n",
      "Training =>:  14%|█▍        | 107/773 [00:01<00:07, 86.10it/s]\n",
      "Training =>:  15%|█▌        | 116/773 [00:01<00:07, 87.04it/s]\n",
      "Training =>:  16%|█▋        | 126/773 [00:01<00:07, 88.08it/s]\n",
      "Training =>:  17%|█▋        | 135/773 [00:01<00:07, 87.85it/s]\n",
      "Training =>:  19%|█▉        | 145/773 [00:01<00:07, 88.65it/s]\n",
      "Training =>:  20%|█▉        | 154/773 [00:01<00:06, 88.92it/s]\n",
      "Training =>:  21%|██        | 163/773 [00:01<00:06, 89.21it/s]\n",
      "Training =>:  22%|██▏       | 172/773 [00:01<00:06, 87.98it/s]\n",
      "Training =>:  23%|██▎       | 181/773 [00:02<00:09, 62.46it/s]\n",
      "Training =>:  25%|██▍       | 190/773 [00:02<00:08, 68.57it/s]\n",
      "Training =>:  26%|██▌       | 198/773 [00:02<00:08, 71.03it/s]\n",
      "Training =>:  27%|██▋       | 207/773 [00:02<00:07, 75.47it/s]\n",
      "Training =>:  28%|██▊       | 217/773 [00:02<00:06, 80.10it/s]\n",
      "Training =>:  29%|██▉       | 227/773 [00:02<00:06, 83.44it/s]\n",
      "Training =>:  31%|███       | 237/773 [00:02<00:06, 85.41it/s]\n",
      "Training =>:  32%|███▏      | 246/773 [00:02<00:06, 84.22it/s]\n",
      "Training =>:  33%|███▎      | 255/773 [00:03<00:06, 84.78it/s]\n",
      "Training =>:  34%|███▍      | 265/773 [00:03<00:05, 86.88it/s]\n",
      "Training =>:  36%|███▌      | 275/773 [00:03<00:05, 88.41it/s]\n",
      "Training =>:  37%|███▋      | 285/773 [00:03<00:05, 89.13it/s]\n",
      "Training =>:  38%|███▊      | 294/773 [00:03<00:05, 89.21it/s]\n",
      "Training =>:  39%|███▉      | 304/773 [00:03<00:05, 89.69it/s]\n",
      "Training =>:  40%|████      | 313/773 [00:03<00:05, 89.72it/s]\n",
      "Training =>:  42%|████▏     | 322/773 [00:03<00:05, 89.63it/s]\n",
      "Training =>:  43%|████▎     | 331/773 [00:03<00:04, 89.17it/s]\n",
      "Training =>:  44%|████▍     | 340/773 [00:04<00:05, 86.49it/s]\n",
      "Training =>:  45%|████▌     | 349/773 [00:04<00:04, 87.23it/s]\n",
      "Training =>:  46%|████▋     | 358/773 [00:04<00:04, 87.67it/s]\n",
      "Training =>:  47%|████▋     | 367/773 [00:04<00:04, 88.34it/s]\n",
      "Training =>:  49%|████▊     | 376/773 [00:04<00:04, 86.83it/s]\n",
      "Training =>:  50%|████▉     | 386/773 [00:04<00:04, 88.89it/s]\n",
      "Training =>:  51%|█████     | 395/773 [00:04<00:04, 88.52it/s]\n",
      "Training =>:  52%|█████▏    | 405/773 [00:04<00:04, 90.02it/s]\n",
      "Training =>:  54%|█████▎    | 415/773 [00:04<00:03, 91.11it/s]\n",
      "Training =>:  55%|█████▍    | 425/773 [00:04<00:03, 91.03it/s]\n",
      "Training =>:  56%|█████▋    | 435/773 [00:05<00:03, 91.37it/s]\n",
      "Training =>:  58%|█████▊    | 445/773 [00:05<00:03, 92.15it/s]\n",
      "Training =>:  59%|█████▉    | 455/773 [00:05<00:03, 92.70it/s]\n",
      "Training =>:  60%|██████    | 465/773 [00:05<00:03, 92.84it/s]\n",
      "Training =>:  61%|██████▏   | 475/773 [00:05<00:03, 92.90it/s]\n",
      "Training =>:  63%|██████▎   | 485/773 [00:05<00:03, 93.07it/s]\n",
      "Training =>:  64%|██████▍   | 495/773 [00:05<00:02, 92.83it/s]\n",
      "Training =>:  65%|██████▌   | 505/773 [00:05<00:02, 92.31it/s]\n",
      "Training =>:  67%|██████▋   | 515/773 [00:05<00:02, 91.80it/s]\n",
      "Training =>:  68%|██████▊   | 525/773 [00:06<00:02, 91.20it/s]\n",
      "Training =>:  69%|██████▉   | 535/773 [00:06<00:02, 91.99it/s]\n",
      "Training =>:  71%|███████   | 545/773 [00:06<00:02, 92.05it/s]\n",
      "Training =>:  72%|███████▏  | 555/773 [00:06<00:02, 92.40it/s]\n",
      "Training =>:  73%|███████▎  | 565/773 [00:06<00:02, 92.63it/s]\n",
      "Training =>:  74%|███████▍  | 575/773 [00:06<00:02, 92.31it/s]\n",
      "Training =>:  76%|███████▌  | 585/773 [00:06<00:02, 91.90it/s]\n",
      "Training =>:  77%|███████▋  | 595/773 [00:06<00:01, 92.24it/s]\n",
      "Training =>:  78%|███████▊  | 605/773 [00:06<00:01, 92.06it/s]\n",
      "Training =>:  80%|███████▉  | 615/773 [00:07<00:01, 92.08it/s]\n",
      "Training =>:  81%|████████  | 625/773 [00:07<00:01, 92.44it/s]\n",
      "Training =>:  82%|████████▏ | 635/773 [00:07<00:01, 92.56it/s]\n",
      "Training =>:  83%|████████▎ | 645/773 [00:07<00:01, 92.31it/s]\n",
      "Training =>:  85%|████████▍ | 655/773 [00:07<00:01, 92.65it/s]\n",
      "Training =>:  86%|████████▌ | 665/773 [00:07<00:01, 92.71it/s]\n",
      "Training =>:  87%|████████▋ | 675/773 [00:07<00:01, 92.60it/s]\n",
      "Training =>:  89%|████████▊ | 685/773 [00:07<00:00, 92.20it/s]\n",
      "Training =>:  90%|████████▉ | 695/773 [00:07<00:00, 92.14it/s]\n",
      "Training =>:  91%|█████████ | 705/773 [00:08<00:00, 91.26it/s]\n",
      "Training =>:  92%|█████████▏| 715/773 [00:08<00:00, 91.01it/s]\n",
      "Training =>:  94%|█████████▍| 725/773 [00:08<00:00, 90.78it/s]\n",
      "Training =>:  95%|█████████▌| 735/773 [00:08<00:00, 91.18it/s]\n",
      "Training =>:  96%|█████████▋| 745/773 [00:08<00:00, 91.88it/s]\n",
      "Training =>:  98%|█████████▊| 755/773 [00:08<00:00, 89.30it/s]\n",
      "Training =>:  99%|█████████▉| 764/773 [00:08<00:00, 80.40it/s]\n",
      "Training =>: 100%|██████████| 773/773 [00:08<00:00, 75.95it/s]\n",
      "100%|██████████| 773/773 [00:08<00:00, 87.48it/s]\n",
      "Training =>: 100%|██████████| 773/773 [00:08<00:00, 87.42it/s]\n"
     ]
    },
    {
     "output_type": "stream",
     "name": "stdout",
     "text": [
      "Saving at epoch 3\n",
      "Epoch: 3 | Total Training Loss: 7.556921005249023 | Pose Training Loss: 0.06775582581758499 | Action Training Loss: 0.7813431620597839 | Action Train Label Accuracy: 68.30459131067667\n"
     ]
    },
    {
     "output_type": "stream",
     "name": "stderr",
     "text": [
      "Testing =>:   0%|          | 0/293 [00:00<?, ?it/s]\n",
      "Testing =>:   6%|▌         | 18/293 [00:00<00:01, 179.42it/s]\n",
      "Testing =>:  13%|█▎        | 39/293 [00:00<00:01, 196.10it/s]\n",
      "Testing =>:  21%|██        | 61/293 [00:00<00:01, 203.75it/s]\n",
      "Testing =>:  28%|██▊       | 82/293 [00:00<00:01, 195.24it/s]\n",
      "Testing =>:  35%|███▌      | 103/293 [00:00<00:00, 198.61it/s]\n",
      "Testing =>:  43%|████▎     | 125/293 [00:00<00:00, 202.90it/s]\n",
      "Testing =>:  50%|█████     | 147/293 [00:00<00:00, 205.54it/s]\n",
      "Testing =>:  57%|█████▋    | 168/293 [00:00<00:00, 205.96it/s]\n",
      "Testing =>:  65%|██████▍   | 189/293 [00:00<00:00, 207.11it/s]\n",
      "Testing =>:  72%|███████▏  | 210/293 [00:01<00:00, 197.85it/s]\n",
      "Testing =>:  79%|███████▉  | 231/293 [00:01<00:00, 198.80it/s]\n",
      "Testing =>:  86%|████████▌ | 251/293 [00:01<00:00, 197.42it/s]\n",
      "Testing =>:  93%|█████████▎| 272/293 [00:01<00:00, 200.94it/s]\n",
      "100%|██████████| 293/293 [00:01<00:00, 201.31it/s]\n",
      "Testing =>: 100%|██████████| 293/293 [00:01<00:00, 200.50it/s]\n"
     ]
    },
    {
     "output_type": "stream",
     "name": "stdout",
     "text": [
      "Epoch: 3 | Total Testing Loss: 7.191287517547607 | Pose Testing Loss: 0.06400567293167114 | Action Testing Loss: 0.7907236814498901 | Action Test Label Accuracy: 61.672803927847156\n",
      "Starting EPOCH: 5 / 30\n"
     ]
    },
    {
     "output_type": "stream",
     "name": "stderr",
     "text": [
      "Training =>:   0%|          | 0/773 [00:00<?, ?it/s]\n",
      "Training =>:   1%|          | 8/773 [00:00<00:09, 79.30it/s]\n",
      "Training =>:   2%|▏         | 17/773 [00:00<00:08, 85.11it/s]\n",
      "Training =>:   3%|▎         | 26/773 [00:00<00:08, 87.30it/s]\n",
      "Training =>:   5%|▍         | 36/773 [00:00<00:08, 88.81it/s]\n",
      "Training =>:   6%|▌         | 45/773 [00:00<00:08, 89.01it/s]\n",
      "Training =>:   7%|▋         | 54/773 [00:00<00:08, 88.33it/s]\n",
      "Training =>:   8%|▊         | 63/773 [00:00<00:08, 88.35it/s]\n",
      "Training =>:   9%|▉         | 73/773 [00:00<00:07, 89.36it/s]\n",
      "Training =>:  11%|█         | 82/773 [00:00<00:07, 89.27it/s]\n",
      "Training =>:  12%|█▏        | 91/773 [00:01<00:07, 88.19it/s]\n",
      "Training =>:  13%|█▎        | 100/773 [00:01<00:07, 87.86it/s]\n",
      "Training =>:  14%|█▍        | 109/773 [00:01<00:07, 88.19it/s]\n",
      "Training =>:  15%|█▌        | 118/773 [00:01<00:07, 88.69it/s]\n",
      "Training =>:  16%|█▋        | 127/773 [00:01<00:07, 88.58it/s]\n",
      "Training =>:  18%|█▊        | 136/773 [00:01<00:07, 88.44it/s]\n",
      "Training =>:  19%|█▉        | 145/773 [00:01<00:07, 88.59it/s]\n",
      "Training =>:  20%|█▉        | 154/773 [00:01<00:06, 88.80it/s]\n",
      "Training =>:  21%|██        | 163/773 [00:01<00:06, 88.19it/s]\n",
      "Training =>:  22%|██▏       | 173/773 [00:01<00:06, 88.94it/s]\n",
      "Training =>:  24%|██▎       | 182/773 [00:02<00:06, 88.62it/s]\n",
      "Training =>:  25%|██▍       | 191/773 [00:02<00:06, 87.15it/s]\n",
      "Training =>:  26%|██▌       | 200/773 [00:02<00:06, 87.92it/s]\n",
      "Training =>:  27%|██▋       | 210/773 [00:02<00:06, 88.95it/s]\n",
      "Training =>:  28%|██▊       | 220/773 [00:02<00:06, 89.68it/s]\n",
      "Training =>:  30%|██▉       | 229/773 [00:02<00:06, 88.30it/s]\n",
      "Training =>:  31%|███       | 238/773 [00:02<00:06, 87.19it/s]\n",
      "Training =>:  32%|███▏      | 247/773 [00:02<00:06, 86.97it/s]\n",
      "Training =>:  33%|███▎      | 256/773 [00:02<00:05, 87.24it/s]\n",
      "Training =>:  34%|███▍      | 265/773 [00:03<00:05, 87.47it/s]\n",
      "Training =>:  36%|███▌      | 275/773 [00:03<00:05, 88.48it/s]\n",
      "Training =>:  37%|███▋      | 284/773 [00:03<00:05, 88.42it/s]\n",
      "Training =>:  38%|███▊      | 293/773 [00:03<00:05, 88.39it/s]\n",
      "Training =>:  39%|███▉      | 302/773 [00:03<00:05, 88.18it/s]\n",
      "Training =>:  40%|████      | 311/773 [00:03<00:05, 88.31it/s]\n",
      "Training =>:  41%|████▏     | 320/773 [00:03<00:05, 88.42it/s]\n",
      "Training =>:  43%|████▎     | 330/773 [00:03<00:04, 89.11it/s]\n",
      "Training =>:  44%|████▍     | 339/773 [00:03<00:04, 88.87it/s]\n",
      "Training =>:  45%|████▌     | 348/773 [00:03<00:04, 88.68it/s]\n",
      "Training =>:  46%|████▌     | 357/773 [00:04<00:04, 88.75it/s]\n",
      "Training =>:  47%|████▋     | 366/773 [00:04<00:04, 86.66it/s]\n",
      "Training =>:  49%|████▊     | 375/773 [00:04<00:04, 86.17it/s]\n",
      "Training =>:  50%|████▉     | 384/773 [00:04<00:04, 85.90it/s]\n",
      "Training =>:  51%|█████     | 393/773 [00:04<00:04, 85.91it/s]\n",
      "Training =>:  52%|█████▏    | 402/773 [00:04<00:04, 85.77it/s]\n",
      "Training =>:  53%|█████▎    | 411/773 [00:04<00:04, 84.08it/s]\n",
      "Training =>:  54%|█████▍    | 420/773 [00:04<00:04, 83.96it/s]\n",
      "Training =>:  55%|█████▌    | 429/773 [00:04<00:04, 84.65it/s]\n",
      "Training =>:  57%|█████▋    | 439/773 [00:05<00:03, 86.42it/s]\n",
      "Training =>:  58%|█████▊    | 448/773 [00:05<00:03, 85.95it/s]\n",
      "Training =>:  59%|█████▉    | 458/773 [00:05<00:03, 87.45it/s]\n",
      "Training =>:  61%|██████    | 468/773 [00:05<00:03, 88.49it/s]\n",
      "Training =>:  62%|██████▏   | 478/773 [00:05<00:03, 89.32it/s]\n",
      "Training =>:  63%|██████▎   | 488/773 [00:05<00:03, 89.78it/s]\n",
      "Training =>:  64%|██████▍   | 498/773 [00:05<00:03, 90.28it/s]\n",
      "Training =>:  66%|██████▌   | 508/773 [00:05<00:02, 90.26it/s]\n",
      "Training =>:  67%|██████▋   | 518/773 [00:05<00:02, 90.42it/s]\n",
      "Training =>:  68%|██████▊   | 528/773 [00:05<00:02, 90.30it/s]\n",
      "Training =>:  70%|██████▉   | 538/773 [00:06<00:02, 85.55it/s]\n",
      "Training =>:  71%|███████   | 547/773 [00:06<00:02, 86.54it/s]\n",
      "Training =>:  72%|███████▏  | 557/773 [00:06<00:02, 87.95it/s]\n",
      "Training =>:  73%|███████▎  | 567/773 [00:06<00:02, 88.96it/s]\n",
      "Training =>:  75%|███████▍  | 577/773 [00:06<00:02, 89.49it/s]\n",
      "Training =>:  76%|███████▌  | 586/773 [00:06<00:02, 89.19it/s]\n",
      "Training =>:  77%|███████▋  | 595/773 [00:06<00:01, 89.36it/s]\n",
      "Training =>:  78%|███████▊  | 605/773 [00:06<00:01, 89.98it/s]\n",
      "Training =>:  80%|███████▉  | 615/773 [00:06<00:01, 90.45it/s]\n",
      "Training =>:  81%|████████  | 625/773 [00:07<00:01, 89.25it/s]\n",
      "Training =>:  82%|████████▏ | 635/773 [00:07<00:01, 89.68it/s]\n",
      "Training =>:  83%|████████▎ | 645/773 [00:07<00:01, 90.28it/s]\n",
      "Training =>:  85%|████████▍ | 655/773 [00:07<00:01, 90.88it/s]\n",
      "Training =>:  86%|████████▌ | 665/773 [00:07<00:01, 91.02it/s]\n",
      "Training =>:  87%|████████▋ | 675/773 [00:07<00:01, 91.13it/s]\n",
      "Training =>:  89%|████████▊ | 685/773 [00:07<00:00, 91.10it/s]\n",
      "Training =>:  90%|████████▉ | 695/773 [00:07<00:00, 91.01it/s]\n",
      "Training =>:  91%|█████████ | 705/773 [00:07<00:00, 90.89it/s]\n",
      "Training =>:  92%|█████████▏| 715/773 [00:08<00:00, 89.42it/s]\n",
      "Training =>:  94%|█████████▎| 724/773 [00:08<00:00, 88.37it/s]\n",
      "Training =>:  95%|█████████▍| 734/773 [00:08<00:00, 89.15it/s]\n",
      "Training =>:  96%|█████████▌| 744/773 [00:08<00:00, 89.79it/s]\n",
      "Training =>:  98%|█████████▊| 754/773 [00:08<00:00, 90.14it/s]\n",
      "Training =>:  99%|█████████▉| 764/773 [00:08<00:00, 90.01it/s]\n",
      "100%|██████████| 773/773 [00:08<00:00, 88.51it/s]\n",
      "Training =>: 100%|██████████| 773/773 [00:08<00:00, 88.45it/s]\n"
     ]
    },
    {
     "output_type": "stream",
     "name": "stdout",
     "text": [
      "Saving at epoch 4\n",
      "Epoch: 4 | Total Training Loss: 6.592976093292236 | Pose Training Loss: 0.058658014982938766 | Action Training Loss: 0.7271780967712402 | Action Train Label Accuracy: 70.4284010270303\n"
     ]
    },
    {
     "output_type": "stream",
     "name": "stderr",
     "text": [
      "Testing =>:   0%|          | 0/293 [00:00<?, ?it/s]\n",
      "Testing =>:   7%|▋         | 20/293 [00:00<00:01, 196.14it/s]\n",
      "Testing =>:  14%|█▎        | 40/293 [00:00<00:01, 197.72it/s]\n",
      "Testing =>:  21%|██        | 61/293 [00:00<00:01, 202.16it/s]\n",
      "Testing =>:  28%|██▊       | 82/293 [00:00<00:01, 205.21it/s]\n",
      "Testing =>:  35%|███▌      | 103/293 [00:00<00:00, 204.40it/s]\n",
      "Testing =>:  42%|████▏     | 124/293 [00:00<00:00, 174.38it/s]\n",
      "Testing =>:  49%|████▉     | 143/293 [00:00<00:00, 176.54it/s]\n",
      "Testing =>:  56%|█████▌    | 163/293 [00:00<00:00, 182.80it/s]\n",
      "Testing =>:  62%|██████▏   | 182/293 [00:00<00:00, 177.71it/s]\n",
      "Testing =>:  69%|██████▉   | 202/293 [00:01<00:00, 182.02it/s]\n",
      "Testing =>:  76%|███████▌  | 223/293 [00:01<00:00, 188.49it/s]\n",
      "Testing =>:  83%|████████▎ | 243/293 [00:01<00:00, 186.61it/s]\n",
      "Testing =>:  90%|█████████ | 264/293 [00:01<00:00, 191.32it/s]\n",
      "Testing =>:  97%|█████████▋| 285/293 [00:01<00:00, 194.13it/s]\n",
      "100%|██████████| 293/293 [00:01<00:00, 189.36it/s]\n",
      "Testing =>: 100%|██████████| 293/293 [00:01<00:00, 188.69it/s]\n"
     ]
    },
    {
     "output_type": "stream",
     "name": "stdout",
     "text": [
      "Epoch: 4 | Total Testing Loss: 6.330264568328857 | Pose Testing Loss: 0.055767644196748734 | Action Testing Loss: 0.7535014748573303 | Action Test Label Accuracy: 65.1577009285943\n",
      "Starting EPOCH: 6 / 30\n"
     ]
    },
    {
     "output_type": "stream",
     "name": "stderr",
     "text": [
      "Training =>:   0%|          | 0/773 [00:00<?, ?it/s]\n",
      "Training =>:   1%|          | 8/773 [00:00<00:10, 74.99it/s]\n",
      "Training =>:   2%|▏         | 16/773 [00:00<00:11, 68.63it/s]\n",
      "Training =>:   3%|▎         | 25/773 [00:00<00:09, 75.15it/s]\n",
      "Training =>:   4%|▍         | 34/773 [00:00<00:09, 79.90it/s]\n",
      "Training =>:   6%|▌         | 43/773 [00:00<00:08, 82.52it/s]\n",
      "Training =>:   7%|▋         | 52/773 [00:00<00:08, 83.76it/s]\n",
      "Training =>:   8%|▊         | 61/773 [00:00<00:08, 85.56it/s]\n",
      "Training =>:   9%|▉         | 71/773 [00:00<00:08, 87.26it/s]\n",
      "Training =>:  10%|█         | 81/773 [00:00<00:07, 88.37it/s]\n",
      "Training =>:  12%|█▏        | 90/773 [00:01<00:07, 88.72it/s]\n",
      "Training =>:  13%|█▎        | 100/773 [00:01<00:07, 89.33it/s]\n",
      "Training =>:  14%|█▍        | 109/773 [00:01<00:07, 89.03it/s]\n",
      "Training =>:  15%|█▌        | 118/773 [00:01<00:07, 89.30it/s]\n",
      "Training =>:  16%|█▋        | 127/773 [00:01<00:07, 87.78it/s]\n",
      "Training =>:  18%|█▊        | 136/773 [00:01<00:07, 87.28it/s]\n",
      "Training =>:  19%|█▉        | 145/773 [00:01<00:07, 87.84it/s]\n",
      "Training =>:  20%|█▉        | 154/773 [00:01<00:07, 87.28it/s]\n",
      "Training =>:  21%|██        | 163/773 [00:01<00:06, 87.86it/s]\n",
      "Training =>:  22%|██▏       | 173/773 [00:02<00:06, 89.15it/s]\n",
      "Training =>:  24%|██▎       | 182/773 [00:02<00:06, 89.29it/s]\n",
      "Training =>:  25%|██▍       | 192/773 [00:02<00:06, 89.80it/s]\n",
      "Training =>:  26%|██▌       | 202/773 [00:02<00:06, 90.34it/s]\n",
      "Training =>:  27%|██▋       | 212/773 [00:02<00:06, 90.04it/s]\n",
      "Training =>:  29%|██▊       | 222/773 [00:02<00:06, 90.05it/s]\n",
      "Training =>:  30%|███       | 232/773 [00:02<00:06, 89.31it/s]\n",
      "Training =>:  31%|███       | 241/773 [00:02<00:05, 89.35it/s]\n",
      "Training =>:  32%|███▏      | 251/773 [00:02<00:05, 89.87it/s]\n",
      "Training =>:  34%|███▎      | 260/773 [00:02<00:05, 89.89it/s]\n",
      "Training =>:  35%|███▍      | 270/773 [00:03<00:05, 90.07it/s]\n",
      "Training =>:  36%|███▌      | 280/773 [00:03<00:05, 90.76it/s]\n",
      "Training =>:  38%|███▊      | 290/773 [00:03<00:05, 91.36it/s]\n",
      "Training =>:  39%|███▉      | 300/773 [00:03<00:05, 90.05it/s]\n",
      " 39%|███▉      | 300/773 [00:03<00:05, 89.92it/s]\u001B[A\n",
      "Training =>:  40%|████      | 310/773 [00:03<00:05, 87.80it/s]\n",
      "Training =>:  41%|████▏     | 319/773 [00:03<00:05, 86.95it/s]\n",
      "Training =>:  43%|████▎     | 329/773 [00:03<00:05, 88.32it/s]\n",
      "Training =>:  44%|████▍     | 339/773 [00:03<00:04, 89.49it/s]\n",
      "Training =>:  45%|████▌     | 348/773 [00:03<00:04, 89.48it/s]\n",
      "Training =>:  46%|████▌     | 357/773 [00:04<00:04, 88.86it/s]\n",
      "Training =>:  47%|████▋     | 366/773 [00:04<00:04, 88.55it/s]\n",
      "Training =>:  49%|████▊     | 375/773 [00:04<00:04, 87.35it/s]\n",
      "Training =>:  50%|████▉     | 385/773 [00:04<00:04, 88.81it/s]\n",
      "Training =>:  51%|█████     | 395/773 [00:04<00:04, 89.13it/s]\n",
      "Training =>:  52%|█████▏    | 404/773 [00:04<00:04, 87.13it/s]\n",
      "Training =>:  53%|█████▎    | 413/773 [00:04<00:04, 87.01it/s]\n",
      "Training =>:  55%|█████▍    | 423/773 [00:04<00:03, 88.48it/s]\n",
      "Training =>:  56%|█████▌    | 432/773 [00:04<00:03, 88.80it/s]\n",
      "Training =>:  57%|█████▋    | 441/773 [00:05<00:03, 88.48it/s]\n",
      "Training =>:  58%|█████▊    | 450/773 [00:05<00:03, 87.67it/s]\n",
      "Training =>:  59%|█████▉    | 459/773 [00:05<00:03, 87.59it/s]\n",
      "Training =>:  61%|██████    | 468/773 [00:05<00:03, 85.95it/s]\n",
      "Training =>:  62%|██████▏   | 477/773 [00:05<00:03, 86.93it/s]\n",
      "Training =>:  63%|██████▎   | 486/773 [00:05<00:03, 85.42it/s]\n",
      "Training =>:  64%|██████▍   | 495/773 [00:05<00:03, 84.07it/s]\n",
      "Training =>:  65%|██████▌   | 505/773 [00:05<00:03, 86.46it/s]\n",
      "Training =>:  66%|██████▋   | 514/773 [00:05<00:03, 85.84it/s]\n",
      "Training =>:  68%|██████▊   | 524/773 [00:05<00:02, 87.54it/s]\n",
      "Training =>:  69%|██████▉   | 533/773 [00:06<00:02, 87.64it/s]\n",
      "Training =>:  70%|███████   | 542/773 [00:06<00:02, 87.78it/s]\n",
      "Training =>:  71%|███████▏  | 551/773 [00:06<00:02, 88.23it/s]\n",
      "Training =>:  72%|███████▏  | 560/773 [00:06<00:02, 88.43it/s]\n",
      "Training =>:  74%|███████▎  | 570/773 [00:06<00:02, 88.98it/s]\n",
      "Training =>:  75%|███████▍  | 579/773 [00:06<00:02, 88.71it/s]\n",
      "Training =>:  76%|███████▌  | 588/773 [00:06<00:02, 89.03it/s]\n",
      "Training =>:  77%|███████▋  | 598/773 [00:06<00:01, 89.56it/s]\n",
      "Training =>:  79%|███████▊  | 608/773 [00:06<00:01, 90.08it/s]\n",
      "Training =>:  80%|███████▉  | 618/773 [00:07<00:01, 90.55it/s]\n",
      "Training =>:  81%|████████  | 628/773 [00:07<00:01, 90.82it/s]\n",
      "Training =>:  83%|████████▎ | 638/773 [00:07<00:01, 90.53it/s]\n",
      "Training =>:  84%|████████▍ | 648/773 [00:07<00:01, 89.97it/s]\n",
      "Training =>:  85%|████████▌ | 658/773 [00:07<00:01, 90.29it/s]\n",
      "Training =>:  86%|████████▋ | 668/773 [00:07<00:01, 89.84it/s]\n",
      "Training =>:  88%|████████▊ | 677/773 [00:07<00:01, 89.66it/s]\n",
      "Training =>:  89%|████████▉ | 687/773 [00:07<00:00, 90.10it/s]\n",
      "Training =>:  90%|█████████ | 697/773 [00:07<00:00, 90.45it/s]\n",
      "Training =>:  91%|█████████▏| 707/773 [00:08<00:00, 90.90it/s]\n",
      "Training =>:  93%|█████████▎| 717/773 [00:08<00:00, 90.93it/s]\n",
      "Training =>:  94%|█████████▍| 727/773 [00:08<00:00, 90.73it/s]\n",
      "Training =>:  95%|█████████▌| 737/773 [00:08<00:00, 90.93it/s]\n",
      "Training =>:  97%|█████████▋| 747/773 [00:08<00:00, 91.43it/s]\n",
      "Training =>:  98%|█████████▊| 757/773 [00:08<00:00, 90.51it/s]\n",
      "100%|██████████| 773/773 [00:08<00:00, 88.44it/s]\n",
      "Training =>: 100%|██████████| 773/773 [00:08<00:00, 88.38it/s]\n"
     ]
    },
    {
     "output_type": "stream",
     "name": "stdout",
     "text": [
      "Saving at epoch 5\n",
      "Epoch: 5 | Total Training Loss: 5.937450885772705 | Pose Training Loss: 0.05259483680129051 | Action Training Loss: 0.6779706478118896 | Action Train Label Accuracy: 72.30556173301255\n"
     ]
    },
    {
     "output_type": "stream",
     "name": "stderr",
     "text": [
      "Testing =>:   0%|          | 0/293 [00:00<?, ?it/s]\n",
      "Testing =>:   7%|▋         | 21/293 [00:00<00:01, 202.69it/s]\n",
      "Testing =>:  14%|█▍        | 42/293 [00:00<00:01, 203.73it/s]\n",
      "Testing =>:  22%|██▏       | 63/293 [00:00<00:01, 204.94it/s]\n",
      "Testing =>:  29%|██▊       | 84/293 [00:00<00:01, 206.03it/s]\n",
      "Testing =>:  36%|███▌      | 105/293 [00:00<00:00, 206.65it/s]\n",
      "Testing =>:  43%|████▎     | 126/293 [00:00<00:00, 204.99it/s]\n",
      "Testing =>:  50%|█████     | 147/293 [00:00<00:00, 183.05it/s]\n",
      "Testing =>:  57%|█████▋    | 166/293 [00:00<00:00, 178.39it/s]\n",
      "Testing =>:  63%|██████▎   | 185/293 [00:00<00:00, 172.12it/s]\n",
      "Testing =>:  69%|██████▉   | 203/293 [00:01<00:00, 173.31it/s]\n",
      "Testing =>:  76%|███████▋  | 224/293 [00:01<00:00, 182.41it/s]\n",
      "Testing =>:  83%|████████▎ | 243/293 [00:01<00:00, 176.04it/s]\n",
      "Testing =>:  90%|████████▉ | 263/293 [00:01<00:00, 180.58it/s]\n",
      "Testing =>:  97%|█████████▋| 283/293 [00:01<00:00, 185.81it/s]\n",
      "100%|██████████| 293/293 [00:01<00:00, 187.30it/s]\n",
      "Testing =>: 100%|██████████| 293/293 [00:01<00:00, 186.60it/s]\n"
     ]
    },
    {
     "output_type": "stream",
     "name": "stdout",
     "text": [
      "Epoch: 5 | Total Testing Loss: 5.743738174438477 | Pose Testing Loss: 0.05008965730667114 | Action Testing Loss: 0.7347736954689026 | Action Test Label Accuracy: 67.38312520012808\n",
      "Starting EPOCH: 7 / 30\n"
     ]
    },
    {
     "output_type": "stream",
     "name": "stderr",
     "text": [
      "Training =>:   0%|          | 0/773 [00:00<?, ?it/s]\n",
      "Training =>:   1%|          | 8/773 [00:00<00:09, 77.44it/s]\n",
      "Training =>:   2%|▏         | 17/773 [00:00<00:09, 81.88it/s]\n",
      "Training =>:   3%|▎         | 26/773 [00:00<00:08, 83.91it/s]\n",
      "Training =>:   5%|▍         | 35/773 [00:00<00:08, 84.98it/s]\n",
      "Training =>:   6%|▌         | 44/773 [00:00<00:08, 85.90it/s]\n",
      "Training =>:   7%|▋         | 53/773 [00:00<00:08, 86.11it/s]\n",
      "Training =>:   8%|▊         | 62/773 [00:00<00:08, 86.31it/s]\n",
      "Training =>:   9%|▉         | 71/773 [00:00<00:08, 86.64it/s]\n",
      "Training =>:  10%|█         | 80/773 [00:00<00:07, 86.74it/s]\n",
      "Training =>:  12%|█▏        | 89/773 [00:01<00:07, 85.94it/s]\n",
      "Training =>:  13%|█▎        | 98/773 [00:01<00:07, 85.47it/s]\n",
      "Training =>:  14%|█▍        | 107/773 [00:01<00:07, 86.37it/s]\n",
      "Training =>:  15%|█▌        | 116/773 [00:01<00:07, 87.27it/s]\n",
      "Training =>:  16%|█▌        | 125/773 [00:01<00:07, 87.99it/s]\n",
      "Training =>:  17%|█▋        | 134/773 [00:01<00:07, 87.81it/s]\n",
      "Training =>:  18%|█▊        | 143/773 [00:01<00:07, 87.95it/s]\n",
      "Training =>:  20%|█▉        | 152/773 [00:01<00:07, 88.09it/s]\n",
      "Training =>:  21%|██        | 161/773 [00:01<00:07, 87.09it/s]\n",
      "Training =>:  22%|██▏       | 170/773 [00:01<00:06, 87.29it/s]\n",
      "Training =>:  23%|██▎       | 179/773 [00:02<00:06, 86.71it/s]\n",
      "Training =>:  24%|██▍       | 188/773 [00:02<00:06, 86.38it/s]\n",
      "Training =>:  25%|██▌       | 197/773 [00:02<00:06, 86.66it/s]\n",
      "Training =>:  27%|██▋       | 206/773 [00:02<00:06, 87.04it/s]\n",
      "Training =>:  28%|██▊       | 215/773 [00:02<00:06, 87.82it/s]\n",
      "Training =>:  29%|██▉       | 224/773 [00:02<00:06, 88.23it/s]\n",
      "Training =>:  30%|███       | 233/773 [00:02<00:06, 87.91it/s]\n",
      "Training =>:  31%|███▏      | 242/773 [00:02<00:06, 86.55it/s]\n",
      "Training =>:  32%|███▏      | 251/773 [00:02<00:06, 85.10it/s]\n",
      "Training =>:  34%|███▎      | 260/773 [00:03<00:06, 84.57it/s]\n",
      "Training =>:  35%|███▍      | 269/773 [00:03<00:05, 85.68it/s]\n",
      "Training =>:  36%|███▌      | 278/773 [00:03<00:05, 86.18it/s]\n",
      "Training =>:  37%|███▋      | 287/773 [00:03<00:05, 86.81it/s]\n",
      "Training =>:  38%|███▊      | 296/773 [00:03<00:05, 87.35it/s]\n",
      "Training =>:  39%|███▉      | 305/773 [00:03<00:05, 87.62it/s]\n",
      "Training =>:  41%|████      | 314/773 [00:03<00:05, 87.60it/s]\n",
      "Training =>:  42%|████▏     | 324/773 [00:03<00:05, 88.40it/s]\n",
      "Training =>:  43%|████▎     | 334/773 [00:03<00:04, 89.12it/s]\n",
      "Training =>:  44%|████▍     | 343/773 [00:03<00:04, 89.26it/s]\n",
      "Training =>:  46%|████▌     | 352/773 [00:04<00:04, 87.27it/s]\n",
      "Training =>:  47%|████▋     | 361/773 [00:04<00:04, 85.14it/s]\n",
      "Training =>:  48%|████▊     | 370/773 [00:04<00:04, 85.85it/s]\n",
      "Training =>:  49%|████▉     | 379/773 [00:04<00:04, 86.89it/s]\n",
      "Training =>:  50%|█████     | 388/773 [00:04<00:04, 85.97it/s]\n",
      "Training =>:  51%|█████▏    | 397/773 [00:04<00:04, 85.47it/s]\n",
      "Training =>:  53%|█████▎    | 406/773 [00:04<00:04, 86.60it/s]\n",
      "Training =>:  54%|█████▎    | 415/773 [00:04<00:04, 86.62it/s]\n",
      "Training =>:  55%|█████▍    | 424/773 [00:04<00:04, 85.41it/s]\n",
      "Training =>:  56%|█████▌    | 433/773 [00:05<00:04, 84.90it/s]\n",
      "Training =>:  57%|█████▋    | 442/773 [00:05<00:03, 84.82it/s]\n",
      "Training =>:  58%|█████▊    | 451/773 [00:05<00:03, 85.40it/s]\n",
      "Training =>:  60%|█████▉    | 460/773 [00:05<00:03, 86.43it/s]\n",
      "Training =>:  61%|██████    | 469/773 [00:05<00:03, 87.09it/s]\n",
      "Training =>:  62%|██████▏   | 478/773 [00:05<00:03, 87.80it/s]\n",
      "Training =>:  63%|██████▎   | 487/773 [00:05<00:03, 88.37it/s]\n",
      "Training =>:  64%|██████▍   | 496/773 [00:05<00:03, 87.16it/s]\n",
      "Training =>:  65%|██████▌   | 505/773 [00:05<00:03, 86.42it/s]\n",
      "Training =>:  66%|██████▋   | 514/773 [00:05<00:03, 85.20it/s]\n",
      "Training =>:  68%|██████▊   | 523/773 [00:06<00:02, 84.80it/s]\n",
      "Training =>:  69%|██████▉   | 532/773 [00:06<00:02, 83.84it/s]\n",
      "Training =>:  70%|██████▉   | 541/773 [00:06<00:02, 81.43it/s]\n",
      "Training =>:  71%|███████   | 550/773 [00:06<00:02, 80.64it/s]\n",
      "Training =>:  72%|███████▏  | 559/773 [00:06<00:02, 81.92it/s]\n",
      "Training =>:  73%|███████▎  | 568/773 [00:06<00:02, 83.58it/s]\n",
      "Training =>:  75%|███████▍  | 577/773 [00:06<00:02, 85.11it/s]\n",
      "Training =>:  76%|███████▌  | 586/773 [00:06<00:02, 86.45it/s]\n",
      "Training =>:  77%|███████▋  | 595/773 [00:06<00:02, 86.96it/s]\n",
      "Training =>:  78%|███████▊  | 604/773 [00:07<00:01, 86.82it/s]\n",
      "Training =>:  79%|███████▉  | 613/773 [00:07<00:01, 84.98it/s]\n",
      "Training =>:  80%|████████  | 622/773 [00:07<00:01, 86.02it/s]\n",
      "Training =>:  82%|████████▏ | 632/773 [00:07<00:01, 87.21it/s]\n",
      "Training =>:  83%|████████▎ | 641/773 [00:07<00:01, 87.90it/s]\n",
      "Training =>:  84%|████████▍ | 650/773 [00:07<00:01, 88.25it/s]\n",
      "Training =>:  85%|████████▌ | 659/773 [00:07<00:01, 88.54it/s]\n",
      "Training =>:  86%|████████▋ | 668/773 [00:07<00:01, 88.46it/s]\n",
      "Training =>:  88%|████████▊ | 677/773 [00:07<00:01, 88.64it/s]\n",
      "Training =>:  89%|████████▉ | 687/773 [00:07<00:00, 89.46it/s]\n",
      "Training =>:  90%|█████████ | 696/773 [00:08<00:00, 88.56it/s]\n",
      "Training =>:  91%|█████████ | 705/773 [00:08<00:00, 87.65it/s]\n",
      "Training =>:  92%|█████████▏| 714/773 [00:08<00:00, 88.10it/s]\n",
      "Training =>:  94%|█████████▎| 724/773 [00:08<00:00, 89.00it/s]\n",
      "Training =>:  95%|█████████▍| 733/773 [00:08<00:00, 88.66it/s]\n",
      "Training =>:  96%|█████████▌| 743/773 [00:08<00:00, 89.53it/s]\n",
      "Training =>:  97%|█████████▋| 752/773 [00:08<00:00, 89.66it/s]\n",
      "Training =>:  98%|█████████▊| 761/773 [00:08<00:00, 88.87it/s]\n",
      "Training =>: 100%|█████████▉| 771/773 [00:08<00:00, 89.71it/s]\n",
      "100%|██████████| 773/773 [00:08<00:00, 86.69it/s]\n",
      "Training =>: 100%|██████████| 773/773 [00:08<00:00, 86.64it/s]\n"
     ]
    },
    {
     "output_type": "stream",
     "name": "stdout",
     "text": [
      "Saving at epoch 6\n",
      "Epoch: 6 | Total Training Loss: 5.489512920379639 | Pose Training Loss: 0.04854542389512062 | Action Training Loss: 0.6349709033966064 | Action Train Label Accuracy: 73.98611083031761\n"
     ]
    },
    {
     "output_type": "stream",
     "name": "stderr",
     "text": [
      "Testing =>:   0%|          | 0/293 [00:00<?, ?it/s]\n",
      "Testing =>:   6%|▋         | 19/293 [00:00<00:01, 188.89it/s]\n",
      "Testing =>:  13%|█▎        | 39/293 [00:00<00:01, 195.27it/s]\n",
      "Testing =>:  20%|██        | 60/293 [00:00<00:01, 199.59it/s]\n",
      "Testing =>:  28%|██▊       | 81/293 [00:00<00:01, 201.53it/s]\n",
      "Testing =>:  35%|███▍      | 102/293 [00:00<00:00, 202.49it/s]\n",
      "Testing =>:  42%|████▏     | 123/293 [00:00<00:00, 201.25it/s]\n",
      "Testing =>:  49%|████▉     | 144/293 [00:00<00:00, 191.34it/s]\n",
      "Testing =>:  56%|█████▌    | 164/293 [00:00<00:00, 182.14it/s]\n",
      "Testing =>:  63%|██████▎   | 184/293 [00:00<00:00, 187.24it/s]\n",
      "Testing =>:  70%|██████▉   | 204/293 [00:01<00:00, 189.14it/s]\n",
      "Testing =>:  76%|███████▋  | 224/293 [00:01<00:00, 188.78it/s]\n",
      "Testing =>:  83%|████████▎ | 244/293 [00:01<00:00, 190.94it/s]\n",
      "Testing =>:  90%|█████████ | 264/293 [00:01<00:00, 192.61it/s]\n",
      "Testing =>:  97%|█████████▋| 284/293 [00:01<00:00, 192.34it/s]\n",
      "100%|██████████| 293/293 [00:01<00:00, 191.79it/s]\n",
      "Testing =>: 100%|██████████| 293/293 [00:01<00:00, 191.09it/s]\n"
     ]
    },
    {
     "output_type": "stream",
     "name": "stdout",
     "text": [
      "Epoch: 6 | Total Testing Loss: 5.44240140914917 | Pose Testing Loss: 0.047397974878549576 | Action Testing Loss: 0.7026021480560303 | Action Test Label Accuracy: 69.18160956345393\n",
      "Starting EPOCH: 8 / 30\n"
     ]
    },
    {
     "output_type": "stream",
     "name": "stderr",
     "text": [
      "Training =>:   0%|          | 0/773 [00:00<?, ?it/s]\n",
      "Training =>:   1%|          | 8/773 [00:00<00:09, 78.17it/s]\n",
      "Training =>:   2%|▏         | 17/773 [00:00<00:09, 80.74it/s]\n",
      "Training =>:   3%|▎         | 26/773 [00:00<00:08, 83.08it/s]\n",
      "Training =>:   5%|▍         | 35/773 [00:00<00:08, 85.02it/s]\n",
      "Training =>:   6%|▌         | 44/773 [00:00<00:08, 86.04it/s]\n",
      "Training =>:   7%|▋         | 53/773 [00:00<00:08, 86.92it/s]\n",
      "Training =>:   8%|▊         | 62/773 [00:00<00:08, 87.05it/s]\n",
      "Training =>:   9%|▉         | 71/773 [00:00<00:07, 87.79it/s]\n",
      "Training =>:  10%|█         | 80/773 [00:00<00:07, 88.36it/s]\n",
      "Training =>:  12%|█▏        | 89/773 [00:01<00:07, 87.70it/s]\n",
      "Training =>:  13%|█▎        | 98/773 [00:01<00:07, 88.23it/s]\n",
      "Training =>:  14%|█▍        | 107/773 [00:01<00:07, 88.45it/s]\n",
      "Training =>:  15%|█▌        | 117/773 [00:01<00:07, 89.07it/s]\n",
      "Training =>:  16%|█▋        | 127/773 [00:01<00:07, 89.83it/s]\n",
      "Training =>:  18%|█▊        | 137/773 [00:01<00:07, 90.07it/s]\n",
      "Training =>:  19%|█▉        | 147/773 [00:01<00:06, 90.54it/s]\n",
      "Training =>:  20%|██        | 157/773 [00:01<00:06, 90.84it/s]\n",
      "Training =>:  22%|██▏       | 167/773 [00:01<00:06, 91.30it/s]\n",
      "Training =>:  23%|██▎       | 177/773 [00:02<00:06, 91.09it/s]\n",
      "Training =>:  24%|██▍       | 187/773 [00:02<00:06, 89.59it/s]\n",
      "Training =>:  25%|██▌       | 196/773 [00:02<00:06, 89.58it/s]\n",
      "Training =>:  27%|██▋       | 206/773 [00:02<00:06, 90.03it/s]\n",
      "Training =>:  28%|██▊       | 216/773 [00:02<00:06, 90.96it/s]\n",
      "Training =>:  29%|██▉       | 226/773 [00:02<00:06, 91.11it/s]\n",
      "Training =>:  31%|███       | 236/773 [00:02<00:05, 90.68it/s]\n",
      "Training =>:  32%|███▏      | 246/773 [00:02<00:05, 90.14it/s]\n",
      "Training =>:  33%|███▎      | 256/773 [00:02<00:05, 90.02it/s]\n",
      "Training =>:  34%|███▍      | 266/773 [00:02<00:05, 90.16it/s]\n",
      "Training =>:  36%|███▌      | 276/773 [00:03<00:05, 88.84it/s]\n",
      "Training =>:  37%|███▋      | 285/773 [00:03<00:05, 88.66it/s]\n",
      "Training =>:  38%|███▊      | 294/773 [00:03<00:05, 88.68it/s]\n",
      "Training =>:  39%|███▉      | 303/773 [00:03<00:05, 89.03it/s]\n",
      "Training =>:  40%|████      | 313/773 [00:03<00:05, 89.64it/s]\n",
      "Training =>:  42%|████▏     | 323/773 [00:03<00:04, 90.01it/s]\n",
      "Training =>:  43%|████▎     | 333/773 [00:03<00:04, 89.67it/s]\n",
      "Training =>:  44%|████▍     | 343/773 [00:03<00:04, 90.38it/s]\n",
      "Training =>:  46%|████▌     | 353/773 [00:03<00:04, 90.71it/s]\n",
      "Training =>:  47%|████▋     | 363/773 [00:04<00:04, 87.84it/s]\n",
      "Training =>:  48%|████▊     | 372/773 [00:04<00:04, 88.28it/s]\n",
      "Training =>:  49%|████▉     | 381/773 [00:04<00:04, 88.24it/s]\n",
      "Training =>:  50%|█████     | 390/773 [00:04<00:04, 88.52it/s]\n",
      "Training =>:  52%|█████▏    | 399/773 [00:04<00:04, 88.39it/s]\n",
      "Training =>:  53%|█████▎    | 408/773 [00:04<00:04, 87.23it/s]\n",
      "Training =>:  54%|█████▍    | 417/773 [00:04<00:04, 87.13it/s]\n",
      "Training =>:  55%|█████▌    | 427/773 [00:04<00:03, 88.25it/s]\n",
      "Training =>:  56%|█████▋    | 436/773 [00:04<00:03, 88.45it/s]\n",
      "Training =>:  58%|█████▊    | 445/773 [00:05<00:03, 88.58it/s]\n",
      "Training =>:  59%|█████▊    | 454/773 [00:05<00:03, 87.19it/s]\n",
      "Training =>:  60%|█████▉    | 463/773 [00:05<00:03, 86.23it/s]\n",
      "Training =>:  61%|██████    | 472/773 [00:05<00:03, 86.43it/s]\n",
      "Training =>:  62%|██████▏   | 481/773 [00:05<00:03, 87.39it/s]\n",
      "Training =>:  63%|██████▎   | 490/773 [00:05<00:03, 87.52it/s]\n",
      "Training =>:  65%|██████▍   | 500/773 [00:05<00:03, 88.85it/s]\n",
      "Training =>:  66%|██████▌   | 509/773 [00:05<00:02, 88.89it/s]\n",
      "Training =>:  67%|██████▋   | 518/773 [00:05<00:02, 89.16it/s]\n",
      "Training =>:  68%|██████▊   | 528/773 [00:05<00:02, 89.72it/s]\n",
      "Training =>:  69%|██████▉   | 537/773 [00:06<00:02, 88.26it/s]\n",
      "Training =>:  71%|███████   | 546/773 [00:06<00:02, 86.93it/s]\n",
      "Training =>:  72%|███████▏  | 555/773 [00:06<00:02, 87.52it/s]\n",
      "Training =>:  73%|███████▎  | 564/773 [00:06<00:02, 87.47it/s]\n",
      "Training =>:  74%|███████▍  | 573/773 [00:06<00:02, 86.09it/s]\n",
      "Training =>:  75%|███████▌  | 582/773 [00:06<00:02, 84.91it/s]\n",
      "Training =>:  76%|███████▋  | 591/773 [00:06<00:02, 85.55it/s]\n",
      "Training =>:  78%|███████▊  | 600/773 [00:06<00:02, 86.39it/s]\n",
      "Training =>:  79%|███████▉  | 610/773 [00:06<00:01, 88.15it/s]\n",
      "Training =>:  80%|████████  | 620/773 [00:07<00:01, 89.30it/s]\n",
      "Training =>:  81%|████████▏ | 629/773 [00:07<00:01, 88.35it/s]\n",
      "Training =>:  83%|████████▎ | 638/773 [00:07<00:01, 88.09it/s]\n",
      "Training =>:  84%|████████▍ | 648/773 [00:07<00:01, 89.08it/s]\n",
      "Training =>:  85%|████████▍ | 657/773 [00:07<00:01, 89.24it/s]\n",
      "Training =>:  86%|████████▋ | 667/773 [00:07<00:01, 90.25it/s]\n",
      "Training =>:  88%|████████▊ | 677/773 [00:07<00:01, 89.55it/s]\n",
      "Training =>:  89%|████████▊ | 686/773 [00:07<00:00, 89.61it/s]\n",
      "Training =>:  90%|█████████ | 696/773 [00:07<00:00, 90.26it/s]\n",
      "Training =>:  91%|█████████▏| 706/773 [00:07<00:00, 87.08it/s]\n",
      "Training =>:  92%|█████████▏| 715/773 [00:08<00:00, 83.35it/s]\n",
      "Training =>:  94%|█████████▎| 724/773 [00:08<00:00, 80.71it/s]\n",
      "Training =>:  95%|█████████▍| 734/773 [00:08<00:00, 83.57it/s]\n",
      "Training =>:  96%|█████████▌| 743/773 [00:08<00:00, 84.59it/s]\n",
      "Training =>:  97%|█████████▋| 753/773 [00:08<00:00, 86.58it/s]\n",
      "Training =>:  99%|█████████▊| 762/773 [00:08<00:00, 87.07it/s]\n",
      "Training =>: 100%|█████████▉| 772/773 [00:08<00:00, 88.51it/s]\n",
      "100%|██████████| 773/773 [00:08<00:00, 88.14it/s]\n",
      "Training =>: 100%|██████████| 773/773 [00:08<00:00, 88.09it/s]\n"
     ]
    },
    {
     "output_type": "stream",
     "name": "stdout",
     "text": [
      "Saving at epoch 7\n",
      "Epoch: 7 | Total Training Loss: 5.1213178634643555 | Pose Training Loss: 0.04529615119099617 | Action Training Loss: 0.5917081236839294 | Action Train Label Accuracy: 75.68434991812062\n"
     ]
    },
    {
     "output_type": "stream",
     "name": "stderr",
     "text": [
      "Testing =>:   0%|          | 0/293 [00:00<?, ?it/s]\n",
      "Testing =>:   7%|▋         | 20/293 [00:00<00:01, 198.42it/s]\n",
      "Testing =>:  14%|█▍        | 41/293 [00:00<00:01, 203.32it/s]\n",
      "Testing =>:  21%|██        | 62/293 [00:00<00:01, 204.18it/s]\n",
      "Testing =>:  28%|██▊       | 83/293 [00:00<00:01, 204.95it/s]\n",
      "Testing =>:  35%|███▌      | 104/293 [00:00<00:00, 206.54it/s]\n",
      "Testing =>:  43%|████▎     | 125/293 [00:00<00:00, 191.22it/s]\n",
      "Testing =>:  49%|████▉     | 145/293 [00:00<00:00, 179.15it/s]\n",
      "Testing =>:  56%|█████▌    | 164/293 [00:00<00:00, 178.20it/s]\n",
      "Testing =>:  63%|██████▎   | 184/293 [00:00<00:00, 183.88it/s]\n",
      "Testing =>:  70%|██████▉   | 205/293 [00:01<00:00, 190.82it/s]\n",
      "Testing =>:  77%|███████▋  | 226/293 [00:01<00:00, 195.24it/s]\n",
      "Testing =>:  84%|████████▍ | 246/293 [00:01<00:00, 189.43it/s]\n",
      "Testing =>:  91%|█████████ | 266/293 [00:01<00:00, 184.61it/s]\n",
      "Testing =>:  97%|█████████▋| 285/293 [00:01<00:00, 185.10it/s]\n",
      "100%|██████████| 293/293 [00:01<00:00, 190.39it/s]\n",
      "Testing =>: 100%|██████████| 293/293 [00:01<00:00, 189.59it/s]\n"
     ]
    },
    {
     "output_type": "stream",
     "name": "stdout",
     "text": [
      "Epoch: 7 | Total Testing Loss: 4.9338531494140625 | Pose Testing Loss: 0.04264993593096733 | Action Testing Loss: 0.6688589453697205 | Action Test Label Accuracy: 72.30093926779806\n",
      "Starting EPOCH: 9 / 30\n"
     ]
    },
    {
     "output_type": "stream",
     "name": "stderr",
     "text": [
      "Training =>:   0%|          | 0/773 [00:00<?, ?it/s]\n",
      "Training =>:   1%|          | 8/773 [00:00<00:09, 79.85it/s]\n",
      "Training =>:   2%|▏         | 17/773 [00:00<00:09, 83.03it/s]\n",
      "Training =>:   3%|▎         | 26/773 [00:00<00:08, 84.84it/s]\n",
      "Training =>:   5%|▍         | 35/773 [00:00<00:08, 85.42it/s]\n",
      "Training =>:   6%|▌         | 44/773 [00:00<00:08, 86.32it/s]\n",
      "Training =>:   7%|▋         | 53/773 [00:00<00:08, 85.65it/s]\n",
      "Training =>:   8%|▊         | 62/773 [00:00<00:08, 84.98it/s]\n",
      "Training =>:   9%|▉         | 71/773 [00:00<00:08, 86.07it/s]\n",
      "Training =>:  10%|█         | 81/773 [00:00<00:07, 87.59it/s]\n",
      "Training =>:  12%|█▏        | 90/773 [00:01<00:07, 87.70it/s]\n",
      "Training =>:  13%|█▎        | 99/773 [00:01<00:07, 87.03it/s]\n",
      "Training =>:  14%|█▍        | 108/773 [00:01<00:07, 86.82it/s]\n",
      "Training =>:  15%|█▌        | 117/773 [00:01<00:07, 86.53it/s]\n",
      "Training =>:  16%|█▋        | 126/773 [00:01<00:07, 87.37it/s]\n",
      "Training =>:  17%|█▋        | 135/773 [00:01<00:07, 87.64it/s]\n",
      "Training =>:  19%|█▊        | 144/773 [00:01<00:07, 87.64it/s]\n",
      "Training =>:  20%|█▉        | 153/773 [00:01<00:07, 88.00it/s]\n",
      "Training =>:  21%|██        | 162/773 [00:01<00:06, 88.19it/s]\n",
      "Training =>:  22%|██▏       | 171/773 [00:01<00:06, 87.14it/s]\n",
      "Training =>:  23%|██▎       | 180/773 [00:02<00:06, 87.57it/s]\n",
      "Training =>:  24%|██▍       | 189/773 [00:02<00:06, 88.07it/s]\n",
      "Training =>:  26%|██▌       | 198/773 [00:02<00:06, 87.41it/s]\n",
      "Training =>:  27%|██▋       | 207/773 [00:02<00:06, 81.17it/s]\n",
      "Training =>:  28%|██▊       | 216/773 [00:02<00:06, 80.86it/s]\n",
      "Training =>:  29%|██▉       | 225/773 [00:02<00:06, 80.32it/s]\n",
      "Training =>:  30%|███       | 234/773 [00:02<00:06, 81.43it/s]\n",
      "Training =>:  31%|███▏      | 243/773 [00:02<00:06, 81.98it/s]\n",
      "Training =>:  33%|███▎      | 252/773 [00:02<00:06, 75.55it/s]\n",
      "Training =>:  34%|███▍      | 261/773 [00:03<00:06, 78.98it/s]\n",
      "Training =>:  35%|███▍      | 270/773 [00:03<00:06, 81.53it/s]\n",
      "Training =>:  36%|███▌      | 279/773 [00:03<00:05, 83.74it/s]\n",
      "Training =>:  37%|███▋      | 288/773 [00:03<00:05, 85.17it/s]\n",
      "Training =>:  38%|███▊      | 297/773 [00:03<00:05, 86.26it/s]\n",
      "Training =>:  40%|███▉      | 306/773 [00:03<00:05, 85.52it/s]\n",
      "Training =>:  41%|████      | 315/773 [00:03<00:05, 82.03it/s]\n",
      "Training =>:  42%|████▏     | 324/773 [00:03<00:05, 83.15it/s]\n",
      "Training =>:  43%|████▎     | 333/773 [00:03<00:05, 83.50it/s]\n",
      "Training =>:  44%|████▍     | 342/773 [00:04<00:05, 81.19it/s]\n",
      "Training =>:  45%|████▌     | 351/773 [00:04<00:05, 82.22it/s]\n",
      "Training =>:  47%|████▋     | 360/773 [00:04<00:04, 83.29it/s]\n",
      "Training =>:  48%|████▊     | 369/773 [00:04<00:04, 84.58it/s]\n",
      "Training =>:  49%|████▉     | 378/773 [00:04<00:04, 85.92it/s]\n",
      "Training =>:  50%|█████     | 387/773 [00:04<00:04, 85.08it/s]\n",
      "Training =>:  51%|█████     | 396/773 [00:04<00:04, 85.96it/s]\n",
      "Training =>:  52%|█████▏    | 405/773 [00:04<00:04, 84.77it/s]\n",
      "Training =>:  54%|█████▎    | 414/773 [00:04<00:04, 84.75it/s]\n",
      "Training =>:  55%|█████▍    | 423/773 [00:04<00:04, 86.13it/s]\n",
      "Training =>:  56%|█████▌    | 432/773 [00:05<00:05, 62.93it/s]\n",
      "Training =>:  57%|█████▋    | 440/773 [00:05<00:05, 65.58it/s]\n",
      "Training =>:  58%|█████▊    | 449/773 [00:05<00:04, 70.68it/s]\n",
      "Training =>:  59%|█████▉    | 458/773 [00:05<00:04, 74.44it/s]\n",
      "Training =>:  60%|██████    | 467/773 [00:05<00:03, 77.16it/s]\n",
      "Training =>:  62%|██████▏   | 476/773 [00:05<00:03, 80.15it/s]\n",
      "Training =>:  63%|██████▎   | 485/773 [00:05<00:03, 82.39it/s]\n",
      "Training =>:  64%|██████▍   | 494/773 [00:05<00:03, 84.05it/s]\n",
      "Training =>:  65%|██████▌   | 503/773 [00:06<00:03, 85.06it/s]\n",
      "Training =>:  66%|██████▌   | 512/773 [00:06<00:03, 84.65it/s]\n",
      "Training =>:  67%|██████▋   | 521/773 [00:06<00:02, 85.16it/s]\n",
      "Training =>:  69%|██████▊   | 530/773 [00:06<00:02, 84.49it/s]\n",
      "Training =>:  70%|██████▉   | 539/773 [00:06<00:03, 77.56it/s]\n",
      "Training =>:  71%|███████   | 547/773 [00:06<00:02, 78.18it/s]\n",
      "Training =>:  72%|███████▏  | 556/773 [00:06<00:02, 80.23it/s]\n",
      "Training =>:  73%|███████▎  | 565/773 [00:06<00:02, 81.72it/s]\n",
      "Training =>:  74%|███████▍  | 574/773 [00:06<00:02, 82.36it/s]\n",
      "Training =>:  75%|███████▌  | 583/773 [00:07<00:02, 83.79it/s]\n",
      "Training =>:  77%|███████▋  | 592/773 [00:07<00:02, 83.80it/s]\n",
      "Training =>:  78%|███████▊  | 601/773 [00:07<00:02, 84.47it/s]\n",
      "Training =>:  79%|███████▉  | 610/773 [00:07<00:01, 85.28it/s]\n",
      "Training =>:  80%|████████  | 619/773 [00:07<00:01, 85.17it/s]\n",
      "Training =>:  81%|████████  | 628/773 [00:07<00:01, 83.94it/s]\n",
      "Training =>:  82%|████████▏ | 637/773 [00:07<00:01, 84.09it/s]\n",
      "Training =>:  84%|████████▎ | 646/773 [00:07<00:01, 85.72it/s]\n",
      "Training =>:  85%|████████▍ | 655/773 [00:07<00:01, 86.88it/s]\n",
      "Training =>:  86%|████████▌ | 664/773 [00:07<00:01, 85.30it/s]\n",
      "Training =>:  87%|████████▋ | 673/773 [00:08<00:01, 83.58it/s]\n",
      "Training =>:  88%|████████▊ | 682/773 [00:08<00:01, 82.69it/s]\n",
      "Training =>:  89%|████████▉ | 691/773 [00:08<00:00, 83.52it/s]\n",
      "Training =>:  91%|█████████ | 700/773 [00:08<00:00, 80.40it/s]\n",
      "Training =>:  92%|█████████▏| 709/773 [00:08<00:00, 82.00it/s]\n",
      "Training =>:  93%|█████████▎| 718/773 [00:08<00:00, 83.79it/s]\n",
      "Training =>:  94%|█████████▍| 727/773 [00:08<00:00, 85.06it/s]\n",
      "Training =>:  95%|█████████▌| 736/773 [00:08<00:00, 85.91it/s]\n",
      "Training =>:  96%|█████████▋| 745/773 [00:08<00:00, 87.05it/s]\n",
      "Training =>:  98%|█████████▊| 754/773 [00:09<00:00, 86.82it/s]\n",
      "Training =>:  99%|█████████▊| 763/773 [00:09<00:00, 83.70it/s]\n",
      "100%|██████████| 773/773 [00:09<00:00, 83.17it/s]\n",
      "Training =>: 100%|██████████| 773/773 [00:09<00:00, 83.11it/s]\n"
     ]
    },
    {
     "output_type": "stream",
     "name": "stdout",
     "text": [
      "Saving at epoch 8\n",
      "Epoch: 8 | Total Training Loss: 4.5529351234436035 | Pose Training Loss: 0.04001784697175026 | Action Training Loss: 0.5511538982391357 | Action Train Label Accuracy: 77.19305339344561\n"
     ]
    },
    {
     "output_type": "stream",
     "name": "stderr",
     "text": [
      "Testing =>:   0%|          | 0/293 [00:00<?, ?it/s]\n",
      "Testing =>:   7%|▋         | 20/293 [00:00<00:01, 191.91it/s]\n",
      "Testing =>:  14%|█▎        | 40/293 [00:00<00:01, 191.76it/s]\n",
      "Testing =>:  20%|██        | 60/293 [00:00<00:01, 191.49it/s]\n",
      "Testing =>:  28%|██▊       | 81/293 [00:00<00:01, 195.96it/s]\n",
      "Testing =>:  34%|███▍      | 101/293 [00:00<00:01, 188.88it/s]\n",
      "Testing =>:  42%|████▏     | 122/293 [00:00<00:00, 193.91it/s]\n",
      "Testing =>:  48%|████▊     | 142/293 [00:00<00:00, 194.95it/s]\n",
      "Testing =>:  55%|█████▌    | 162/293 [00:00<00:00, 186.22it/s]\n",
      "Testing =>:  62%|██████▏   | 181/293 [00:00<00:00, 184.23it/s]\n",
      "Testing =>:  68%|██████▊   | 200/293 [00:01<00:00, 174.98it/s]\n",
      "Testing =>:  74%|███████▍  | 218/293 [00:01<00:00, 173.50it/s]\n",
      "Testing =>:  81%|████████  | 238/293 [00:01<00:00, 180.48it/s]\n",
      "Testing =>:  88%|████████▊ | 259/293 [00:01<00:00, 186.47it/s]\n",
      "Testing =>:  95%|█████████▌| 279/293 [00:01<00:00, 189.52it/s]\n",
      "100%|██████████| 293/293 [00:01<00:00, 187.54it/s]\n",
      "Testing =>: 100%|██████████| 293/293 [00:01<00:00, 186.85it/s]\n"
     ]
    },
    {
     "output_type": "stream",
     "name": "stdout",
     "text": [
      "Epoch: 8 | Total Testing Loss: 4.201845645904541 | Pose Testing Loss: 0.03563755005598068 | Action Testing Loss: 0.6380928754806519 | Action Test Label Accuracy: 73.35227879176006\n",
      "Starting EPOCH: 10 / 30\n"
     ]
    },
    {
     "output_type": "stream",
     "name": "stderr",
     "text": [
      "Training =>:   0%|          | 0/773 [00:00<?, ?it/s]\n",
      "Training =>:   1%|          | 8/773 [00:00<00:09, 77.41it/s]\n",
      "Training =>:   2%|▏         | 17/773 [00:00<00:09, 81.83it/s]\n",
      "Training =>:   3%|▎         | 26/773 [00:00<00:08, 83.14it/s]\n",
      "Training =>:   5%|▍         | 35/773 [00:00<00:08, 84.66it/s]\n",
      "Training =>:   6%|▌         | 44/773 [00:00<00:08, 85.63it/s]\n",
      "Training =>:   7%|▋         | 53/773 [00:00<00:08, 85.01it/s]\n",
      "Training =>:   8%|▊         | 62/773 [00:00<00:08, 85.99it/s]\n",
      "Training =>:   9%|▉         | 71/773 [00:00<00:08, 86.88it/s]\n",
      "Training =>:  10%|█         | 80/773 [00:00<00:08, 86.12it/s]\n",
      "Training =>:  12%|█▏        | 89/773 [00:01<00:07, 86.49it/s]\n",
      "Training =>:  13%|█▎        | 98/773 [00:01<00:07, 86.53it/s]\n",
      "Training =>:  14%|█▍        | 107/773 [00:01<00:07, 84.56it/s]\n",
      "Training =>:  15%|█▌        | 116/773 [00:01<00:07, 83.66it/s]\n",
      "Training =>:  16%|█▌        | 125/773 [00:01<00:07, 85.14it/s]\n",
      "Training =>:  17%|█▋        | 134/773 [00:01<00:07, 86.24it/s]\n",
      "Training =>:  18%|█▊        | 143/773 [00:01<00:07, 86.88it/s]\n",
      "Training =>:  20%|█▉        | 152/773 [00:01<00:07, 85.98it/s]\n",
      "Training =>:  21%|██        | 161/773 [00:01<00:07, 86.08it/s]\n",
      "Training =>:  22%|██▏       | 170/773 [00:01<00:06, 86.88it/s]\n",
      "Training =>:  23%|██▎       | 179/773 [00:02<00:06, 87.28it/s]\n",
      "Training =>:  24%|██▍       | 188/773 [00:02<00:06, 86.57it/s]\n",
      "Training =>:  25%|██▌       | 197/773 [00:02<00:06, 83.87it/s]\n",
      "Training =>:  27%|██▋       | 206/773 [00:02<00:06, 84.51it/s]\n",
      "Training =>:  28%|██▊       | 215/773 [00:02<00:06, 85.10it/s]\n",
      "Training =>:  29%|██▉       | 224/773 [00:02<00:06, 85.95it/s]\n",
      "Training =>:  30%|███       | 234/773 [00:02<00:06, 87.37it/s]\n",
      "Training =>:  31%|███▏      | 243/773 [00:02<00:06, 87.94it/s]\n",
      "Training =>:  33%|███▎      | 252/773 [00:02<00:05, 88.38it/s]\n",
      "Training =>:  34%|███▍      | 261/773 [00:03<00:05, 87.19it/s]\n",
      "Training =>:  35%|███▍      | 270/773 [00:03<00:05, 86.41it/s]\n",
      "Training =>:  36%|███▌      | 279/773 [00:03<00:05, 86.05it/s]\n",
      "Training =>:  37%|███▋      | 288/773 [00:03<00:05, 85.53it/s]\n",
      "Training =>:  38%|███▊      | 297/773 [00:03<00:05, 86.58it/s]\n",
      "Training =>:  40%|███▉      | 306/773 [00:03<00:05, 87.13it/s]\n",
      "Training =>:  41%|████      | 315/773 [00:03<00:05, 87.65it/s]\n",
      "Training =>:  42%|████▏     | 325/773 [00:03<00:05, 88.49it/s]\n",
      "Training =>:  43%|████▎     | 334/773 [00:03<00:04, 88.89it/s]\n",
      "Training =>:  44%|████▍     | 343/773 [00:03<00:04, 87.86it/s]\n",
      "Training =>:  46%|████▌     | 352/773 [00:04<00:04, 87.91it/s]\n",
      "Training =>:  47%|████▋     | 362/773 [00:04<00:04, 88.84it/s]\n",
      "Training =>:  48%|████▊     | 371/773 [00:04<00:04, 87.48it/s]\n",
      "Training =>:  49%|████▉     | 380/773 [00:04<00:04, 87.59it/s]\n",
      "Training =>:  50%|█████     | 390/773 [00:04<00:04, 88.86it/s]\n",
      "Training =>:  52%|█████▏    | 399/773 [00:04<00:04, 89.07it/s]\n",
      "Training =>:  53%|█████▎    | 409/773 [00:04<00:04, 90.09it/s]\n",
      "Training =>:  54%|█████▍    | 419/773 [00:04<00:03, 90.63it/s]\n",
      "Training =>:  55%|█████▌    | 429/773 [00:04<00:03, 89.49it/s]\n",
      "Training =>:  57%|█████▋    | 439/773 [00:05<00:03, 90.23it/s]\n",
      "Training =>:  58%|█████▊    | 449/773 [00:05<00:03, 90.43it/s]\n",
      "Training =>:  59%|█████▉    | 459/773 [00:05<00:03, 90.33it/s]\n",
      "Training =>:  61%|██████    | 469/773 [00:05<00:03, 88.19it/s]\n",
      "Training =>:  62%|██████▏   | 478/773 [00:05<00:03, 87.67it/s]\n",
      "Training =>:  63%|██████▎   | 487/773 [00:05<00:03, 86.09it/s]\n",
      "Training =>:  64%|██████▍   | 496/773 [00:05<00:03, 84.99it/s]\n",
      "Training =>:  65%|██████▌   | 505/773 [00:05<00:03, 85.86it/s]\n",
      "Training =>:  67%|██████▋   | 515/773 [00:05<00:02, 87.44it/s]\n",
      "Training =>:  68%|██████▊   | 524/773 [00:06<00:02, 87.83it/s]\n",
      "Training =>:  69%|██████▉   | 533/773 [00:06<00:02, 87.49it/s]\n",
      "Training =>:  70%|███████   | 542/773 [00:06<00:02, 87.64it/s]\n",
      "Training =>:  71%|███████▏  | 551/773 [00:06<00:02, 87.08it/s]\n",
      "Training =>:  72%|███████▏  | 560/773 [00:06<00:02, 87.13it/s]\n",
      "Training =>:  74%|███████▎  | 569/773 [00:06<00:02, 87.20it/s]\n",
      "Training =>:  75%|███████▍  | 578/773 [00:06<00:02, 85.92it/s]\n",
      "Training =>:  76%|███████▌  | 587/773 [00:06<00:02, 86.81it/s]\n",
      "Training =>:  77%|███████▋  | 596/773 [00:06<00:02, 87.41it/s]\n",
      "Training =>:  78%|███████▊  | 605/773 [00:06<00:01, 87.46it/s]\n",
      "Training =>:  79%|███████▉  | 614/773 [00:07<00:01, 87.71it/s]\n",
      "Training =>:  81%|████████  | 623/773 [00:07<00:01, 87.87it/s]\n",
      "Training =>:  82%|████████▏ | 632/773 [00:07<00:01, 86.76it/s]\n",
      "Training =>:  83%|████████▎ | 641/773 [00:07<00:01, 85.47it/s]\n",
      "Training =>:  84%|████████▍ | 650/773 [00:07<00:01, 84.41it/s]\n",
      "Training =>:  85%|████████▌ | 659/773 [00:07<00:01, 84.85it/s]\n",
      "Training =>:  87%|████████▋ | 669/773 [00:07<00:01, 86.90it/s]\n",
      "Training =>:  88%|████████▊ | 679/773 [00:07<00:01, 88.67it/s]\n",
      "Training =>:  89%|████████▉ | 689/773 [00:07<00:00, 89.49it/s]\n",
      "Training =>:  90%|█████████ | 699/773 [00:08<00:00, 90.83it/s]\n",
      "Training =>:  92%|█████████▏| 709/773 [00:08<00:00, 90.27it/s]\n",
      "Training =>:  93%|█████████▎| 719/773 [00:08<00:00, 90.37it/s]\n",
      "Training =>:  94%|█████████▍| 729/773 [00:08<00:00, 88.84it/s]\n",
      "Training =>:  96%|█████████▌| 739/773 [00:08<00:00, 89.50it/s]\n",
      "Training =>:  97%|█████████▋| 749/773 [00:08<00:00, 89.92it/s]\n",
      "Training =>:  98%|█████████▊| 759/773 [00:08<00:00, 90.08it/s]\n",
      "Training =>:  99%|█████████▉| 769/773 [00:08<00:00, 89.88it/s]\n",
      "100%|██████████| 773/773 [00:08<00:00, 87.31it/s]\n",
      "Training =>: 100%|██████████| 773/773 [00:08<00:00, 87.26it/s]\n"
     ]
    },
    {
     "output_type": "stream",
     "name": "stdout",
     "text": [
      "Saving at epoch 9\n",
      "Epoch: 9 | Total Training Loss: 3.993389368057251 | Pose Training Loss: 0.034853097051382065 | Action Training Loss: 0.5080797076225281 | Action Train Label Accuracy: 78.9241453207448\n"
     ]
    },
    {
     "output_type": "stream",
     "name": "stderr",
     "text": [
      "Testing =>:   0%|          | 0/293 [00:00<?, ?it/s]\n",
      "Testing =>:   7%|▋         | 20/293 [00:00<00:01, 195.47it/s]\n",
      "Testing =>:  14%|█▍        | 41/293 [00:00<00:01, 202.30it/s]\n",
      "Testing =>:  21%|██        | 62/293 [00:00<00:01, 204.33it/s]\n",
      "Testing =>:  28%|██▊       | 83/293 [00:00<00:01, 195.51it/s]\n",
      "Testing =>:  35%|███▌      | 104/293 [00:00<00:00, 199.32it/s]\n",
      "Testing =>:  42%|████▏     | 124/293 [00:00<00:00, 198.63it/s]\n",
      "Testing =>:  49%|████▉     | 144/293 [00:00<00:00, 181.29it/s]\n",
      "Testing =>:  56%|█████▌    | 163/293 [00:00<00:00, 175.97it/s]\n",
      "Testing =>:  62%|██████▏   | 183/293 [00:00<00:00, 182.56it/s]\n",
      "Testing =>:  70%|██████▉   | 204/293 [00:01<00:00, 188.67it/s]\n",
      "Testing =>:  77%|███████▋  | 225/293 [00:01<00:00, 193.90it/s]\n",
      "Testing =>:  84%|████████▍ | 246/293 [00:01<00:00, 196.69it/s]\n",
      "Testing =>:  91%|█████████ | 267/293 [00:01<00:00, 197.92it/s]\n",
      "Testing =>:  98%|█████████▊| 287/293 [00:01<00:00, 195.43it/s]\n",
      "100%|██████████| 293/293 [00:01<00:00, 192.02it/s]\n",
      "Testing =>: 100%|██████████| 293/293 [00:01<00:00, 191.44it/s]\n"
     ]
    },
    {
     "output_type": "stream",
     "name": "stdout",
     "text": [
      "Epoch: 9 | Total Testing Loss: 3.783137083053589 | Pose Testing Loss: 0.03165954723954201 | Action Testing Loss: 0.6171826124191284 | Action Test Label Accuracy: 72.51040666026257\n",
      "Starting EPOCH: 11 / 30\n"
     ]
    },
    {
     "output_type": "stream",
     "name": "stderr",
     "text": [
      "Training =>:   0%|          | 0/773 [00:00<?, ?it/s]\n",
      "Training =>:   1%|          | 8/773 [00:00<00:09, 79.93it/s]\n",
      "Training =>:   2%|▏         | 17/773 [00:00<00:09, 82.68it/s]\n",
      "Training =>:   3%|▎         | 26/773 [00:00<00:08, 83.67it/s]\n",
      "Training =>:   5%|▍         | 35/773 [00:00<00:08, 84.63it/s]\n",
      "Training =>:   6%|▌         | 44/773 [00:00<00:08, 86.01it/s]\n",
      "Training =>:   7%|▋         | 53/773 [00:00<00:08, 86.46it/s]\n",
      "Training =>:   8%|▊         | 62/773 [00:00<00:08, 87.34it/s]\n",
      "Training =>:   9%|▉         | 71/773 [00:00<00:07, 87.99it/s]\n",
      "Training =>:  10%|█         | 80/773 [00:00<00:07, 87.12it/s]\n",
      "Training =>:  12%|█▏        | 89/773 [00:01<00:07, 87.40it/s]\n",
      "Training =>:  13%|█▎        | 98/773 [00:01<00:07, 87.32it/s]\n",
      "Training =>:  14%|█▍        | 107/773 [00:01<00:07, 87.41it/s]\n",
      "Training =>:  15%|█▌        | 116/773 [00:01<00:07, 87.31it/s]\n",
      "Training =>:  16%|█▌        | 125/773 [00:01<00:07, 87.66it/s]\n",
      "Training =>:  17%|█▋        | 134/773 [00:01<00:07, 87.69it/s]\n",
      "Training =>:  18%|█▊        | 143/773 [00:01<00:07, 87.68it/s]\n",
      "Training =>:  20%|█▉        | 152/773 [00:01<00:07, 87.88it/s]\n",
      "Training =>:  21%|██        | 161/773 [00:01<00:06, 87.70it/s]\n",
      "Training =>:  22%|██▏       | 170/773 [00:01<00:06, 87.80it/s]\n",
      "Training =>:  23%|██▎       | 180/773 [00:02<00:06, 88.74it/s]\n",
      "Training =>:  24%|██▍       | 189/773 [00:02<00:06, 88.65it/s]\n",
      "Training =>:  26%|██▌       | 198/773 [00:02<00:06, 88.15it/s]\n",
      "Training =>:  27%|██▋       | 207/773 [00:02<00:06, 88.34it/s]\n",
      "Training =>:  28%|██▊       | 216/773 [00:02<00:06, 88.39it/s]\n",
      "Training =>:  29%|██▉       | 225/773 [00:02<00:06, 88.57it/s]\n",
      "Training =>:  30%|███       | 234/773 [00:02<00:06, 88.39it/s]\n",
      "Training =>:  31%|███▏      | 243/773 [00:02<00:05, 88.51it/s]\n",
      "Training =>:  33%|███▎      | 252/773 [00:02<00:05, 88.39it/s]\n",
      "Training =>:  34%|███▍      | 261/773 [00:02<00:05, 87.52it/s]\n",
      "Training =>:  35%|███▍      | 270/773 [00:03<00:05, 87.98it/s]\n",
      "Training =>:  36%|███▌      | 279/773 [00:03<00:05, 87.97it/s]\n",
      "Training =>:  37%|███▋      | 288/773 [00:03<00:05, 87.86it/s]\n",
      "Training =>:  38%|███▊      | 297/773 [00:03<00:05, 87.92it/s]\n",
      "Training =>:  40%|███▉      | 306/773 [00:03<00:05, 88.14it/s]\n",
      "Training =>:  41%|████      | 315/773 [00:03<00:05, 88.23it/s]\n",
      "Training =>:  42%|████▏     | 324/773 [00:03<00:05, 88.22it/s]\n",
      "Training =>:  43%|████▎     | 334/773 [00:03<00:04, 89.28it/s]\n",
      "Training =>:  44%|████▍     | 343/773 [00:03<00:04, 88.40it/s]\n",
      "Training =>:  46%|████▌     | 352/773 [00:04<00:04, 88.39it/s]\n",
      "Training =>:  47%|████▋     | 361/773 [00:04<00:04, 88.52it/s]\n",
      "Training =>:  48%|████▊     | 371/773 [00:04<00:04, 89.24it/s]\n",
      "Training =>:  49%|████▉     | 380/773 [00:04<00:04, 88.93it/s]\n",
      "Training =>:  50%|█████     | 389/773 [00:04<00:04, 88.24it/s]\n",
      "Training =>:  52%|█████▏    | 399/773 [00:04<00:04, 89.02it/s]\n",
      "Training =>:  53%|█████▎    | 408/773 [00:04<00:04, 89.17it/s]\n",
      "Training =>:  54%|█████▍    | 417/773 [00:04<00:03, 89.23it/s]\n",
      "Training =>:  55%|█████▌    | 426/773 [00:04<00:03, 88.82it/s]\n",
      "Training =>:  56%|█████▋    | 435/773 [00:04<00:03, 88.62it/s]\n",
      "Training =>:  57%|█████▋    | 444/773 [00:05<00:03, 88.79it/s]\n",
      "Training =>:  59%|█████▊    | 453/773 [00:05<00:03, 88.62it/s]\n",
      "Training =>:  60%|█████▉    | 462/773 [00:05<00:03, 87.93it/s]\n",
      "Training =>:  61%|██████    | 471/773 [00:05<00:03, 86.85it/s]\n",
      "Training =>:  62%|██████▏   | 480/773 [00:05<00:03, 86.81it/s]\n",
      "Training =>:  63%|██████▎   | 489/773 [00:05<00:03, 86.85it/s]\n",
      "Training =>:  64%|██████▍   | 498/773 [00:05<00:03, 86.90it/s]\n",
      "Training =>:  66%|██████▌   | 507/773 [00:05<00:03, 86.85it/s]\n",
      "Training =>:  67%|██████▋   | 516/773 [00:05<00:02, 86.87it/s]\n",
      "Training =>:  68%|██████▊   | 525/773 [00:05<00:02, 87.03it/s]\n",
      "Training =>:  69%|██████▉   | 534/773 [00:06<00:02, 86.91it/s]\n",
      "Training =>:  70%|███████   | 543/773 [00:06<00:02, 86.53it/s]\n",
      "Training =>:  71%|███████▏  | 552/773 [00:06<00:02, 86.20it/s]\n",
      "Training =>:  73%|███████▎  | 561/773 [00:06<00:02, 82.56it/s]\n",
      "Training =>:  74%|███████▎  | 570/773 [00:06<00:02, 83.21it/s]\n",
      "Training =>:  75%|███████▍  | 579/773 [00:06<00:02, 84.40it/s]\n",
      "Training =>:  76%|███████▌  | 588/773 [00:06<00:02, 85.42it/s]\n",
      "Training =>:  77%|███████▋  | 598/773 [00:06<00:02, 87.03it/s]\n",
      "Training =>:  79%|███████▊  | 607/773 [00:06<00:01, 86.93it/s]\n",
      "Training =>:  80%|███████▉  | 616/773 [00:07<00:01, 86.99it/s]\n",
      "Training =>:  81%|████████  | 625/773 [00:07<00:01, 85.97it/s]\n",
      "Training =>:  82%|████████▏ | 634/773 [00:07<00:01, 84.58it/s]\n",
      "Training =>:  83%|████████▎ | 643/773 [00:07<00:01, 83.78it/s]\n",
      "Training =>:  84%|████████▍ | 652/773 [00:07<00:01, 84.58it/s]\n",
      "Training =>:  86%|████████▌ | 661/773 [00:07<00:01, 85.34it/s]\n",
      "Training =>:  87%|████████▋ | 670/773 [00:07<00:01, 86.22it/s]\n",
      "Training =>:  88%|████████▊ | 679/773 [00:07<00:01, 86.63it/s]\n",
      "Training =>:  89%|████████▉ | 688/773 [00:07<00:00, 85.88it/s]\n",
      "Training =>:  90%|█████████ | 697/773 [00:07<00:00, 86.63it/s]\n",
      "Training =>:  91%|█████████▏| 707/773 [00:08<00:00, 87.95it/s]\n",
      "Training =>:  93%|█████████▎| 716/773 [00:08<00:00, 88.27it/s]\n",
      "Training =>:  94%|█████████▍| 725/773 [00:08<00:00, 88.71it/s]\n",
      "Training =>:  95%|█████████▍| 734/773 [00:08<00:00, 88.60it/s]\n",
      "Training =>:  96%|█████████▌| 744/773 [00:08<00:00, 89.36it/s]\n",
      "Training =>:  97%|█████████▋| 753/773 [00:08<00:00, 89.18it/s]\n",
      "Training =>:  99%|█████████▊| 763/773 [00:08<00:00, 89.63it/s]\n",
      "Training =>: 100%|█████████▉| 772/773 [00:08<00:00, 89.72it/s]\n",
      "100%|██████████| 773/773 [00:08<00:00, 87.40it/s]\n",
      "Training =>: 100%|██████████| 773/773 [00:08<00:00, 87.35it/s]\n"
     ]
    },
    {
     "output_type": "stream",
     "name": "stdout",
     "text": [
      "Saving at epoch 10\n",
      "Epoch: 10 | Total Training Loss: 3.621448516845703 | Pose Training Loss: 0.03153615817427635 | Action Training Loss: 0.4678322672843933 | Action Train Label Accuracy: 80.27616602308797\n"
     ]
    },
    {
     "output_type": "stream",
     "name": "stderr",
     "text": [
      "Testing =>:   0%|          | 0/293 [00:00<?, ?it/s]\n",
      "Testing =>:   6%|▋         | 19/293 [00:00<00:01, 185.29it/s]\n",
      "Testing =>:  13%|█▎        | 39/293 [00:00<00:01, 193.61it/s]\n",
      "Testing =>:  20%|██        | 60/293 [00:00<00:01, 198.59it/s]\n",
      "Testing =>:  27%|██▋       | 80/293 [00:00<00:01, 192.40it/s]\n",
      "Testing =>:  34%|███▍      | 100/293 [00:00<00:01, 192.97it/s]\n",
      "Testing =>:  41%|████      | 120/293 [00:00<00:00, 192.47it/s]\n",
      "Testing =>:  48%|████▊     | 140/293 [00:00<00:00, 191.49it/s]\n",
      "Testing =>:  55%|█████▍    | 160/293 [00:00<00:00, 193.30it/s]\n",
      "Testing =>:  61%|██████▏   | 180/293 [00:00<00:00, 190.01it/s]\n",
      "Testing =>:  68%|██████▊   | 200/293 [00:01<00:00, 192.68it/s]\n",
      "Testing =>:  75%|███████▌  | 220/293 [00:01<00:00, 193.67it/s]\n",
      "Testing =>:  82%|████████▏ | 240/293 [00:01<00:00, 194.43it/s]\n",
      "Testing =>:  89%|████████▊ | 260/293 [00:01<00:00, 194.42it/s]\n",
      "Testing =>:  96%|█████████▌| 280/293 [00:01<00:00, 173.48it/s]\n",
      "100%|██████████| 293/293 [00:01<00:00, 185.81it/s]\n",
      "Testing =>: 100%|██████████| 293/293 [00:01<00:00, 185.21it/s]\n"
     ]
    },
    {
     "output_type": "stream",
     "name": "stdout",
     "text": [
      "Epoch: 10 | Total Testing Loss: 3.5202810764312744 | Pose Testing Loss: 0.02918286994099617 | Action Testing Loss: 0.6019936203956604 | Action Test Label Accuracy: 73.07610203863806\n",
      "Starting EPOCH: 12 / 30\n"
     ]
    },
    {
     "output_type": "stream",
     "name": "stderr",
     "text": [
      "Training =>:   0%|          | 0/773 [00:00<?, ?it/s]\n",
      "Training =>:   1%|          | 8/773 [00:00<00:09, 79.61it/s]\n",
      "Training =>:   2%|▏         | 17/773 [00:00<00:09, 82.66it/s]\n",
      "Training =>:   3%|▎         | 26/773 [00:00<00:09, 82.98it/s]\n",
      "Training =>:   5%|▍         | 35/773 [00:00<00:08, 83.84it/s]\n",
      "Training =>:   6%|▌         | 44/773 [00:00<00:08, 84.84it/s]\n",
      "Training =>:   7%|▋         | 53/773 [00:00<00:08, 85.78it/s]\n",
      "Training =>:   8%|▊         | 62/773 [00:00<00:08, 85.14it/s]\n",
      "Training =>:   9%|▉         | 71/773 [00:00<00:08, 85.57it/s]\n",
      "Training =>:  10%|█         | 80/773 [00:00<00:08, 86.29it/s]\n",
      "Training =>:  12%|█▏        | 89/773 [00:01<00:07, 86.83it/s]\n",
      "Training =>:  13%|█▎        | 98/773 [00:01<00:07, 87.32it/s]\n",
      "Training =>:  14%|█▍        | 107/773 [00:01<00:07, 87.81it/s]\n",
      "Training =>:  15%|█▌        | 116/773 [00:01<00:07, 87.67it/s]\n",
      "Training =>:  16%|█▌        | 125/773 [00:01<00:07, 87.20it/s]\n",
      "Training =>:  17%|█▋        | 134/773 [00:01<00:07, 87.52it/s]\n",
      "Training =>:  18%|█▊        | 143/773 [00:01<00:07, 87.91it/s]\n",
      "Training =>:  20%|█▉        | 152/773 [00:01<00:07, 87.80it/s]\n",
      "Training =>:  21%|██        | 161/773 [00:01<00:06, 87.72it/s]\n",
      "Training =>:  22%|██▏       | 170/773 [00:01<00:06, 88.19it/s]\n",
      "Training =>:  23%|██▎       | 179/773 [00:02<00:06, 88.23it/s]\n",
      "Training =>:  24%|██▍       | 188/773 [00:02<00:06, 88.65it/s]\n",
      "Training =>:  25%|██▌       | 197/773 [00:02<00:06, 88.49it/s]\n",
      "Training =>:  27%|██▋       | 206/773 [00:02<00:06, 88.65it/s]\n",
      "Training =>:  28%|██▊       | 215/773 [00:02<00:06, 88.97it/s]\n",
      "Training =>:  29%|██▉       | 224/773 [00:02<00:06, 88.81it/s]\n",
      "Training =>:  30%|███       | 233/773 [00:02<00:06, 88.83it/s]\n",
      "Training =>:  31%|███▏      | 243/773 [00:02<00:05, 89.39it/s]\n",
      "Training =>:  33%|███▎      | 252/773 [00:02<00:05, 88.93it/s]\n",
      "Training =>:  34%|███▍      | 262/773 [00:02<00:05, 89.57it/s]\n",
      "Training =>:  35%|███▌      | 271/773 [00:03<00:05, 84.19it/s]\n",
      "Training =>:  36%|███▌      | 280/773 [00:03<00:05, 83.10it/s]\n",
      "Training =>:  38%|███▊      | 290/773 [00:03<00:05, 85.47it/s]\n",
      "Training =>:  39%|███▉      | 300/773 [00:03<00:05, 87.30it/s]\n",
      "Training =>:  40%|████      | 310/773 [00:03<00:05, 88.67it/s]\n",
      "Training =>:  41%|████▏     | 320/773 [00:03<00:05, 89.44it/s]\n",
      "Training =>:  43%|████▎     | 329/773 [00:03<00:04, 89.40it/s]\n",
      "Training =>:  44%|████▎     | 338/773 [00:03<00:05, 82.44it/s]\n",
      "Training =>:  45%|████▍     | 347/773 [00:04<00:05, 83.33it/s]\n",
      "Training =>:  46%|████▌     | 356/773 [00:04<00:04, 85.07it/s]\n",
      "Training =>:  47%|████▋     | 366/773 [00:04<00:04, 86.77it/s]\n",
      "Training =>:  49%|████▊     | 376/773 [00:04<00:04, 88.02it/s]\n",
      "Training =>:  50%|████▉     | 385/773 [00:04<00:04, 88.34it/s]\n",
      "Training =>:  51%|█████     | 394/773 [00:04<00:04, 87.13it/s]\n",
      "Training =>:  52%|█████▏    | 403/773 [00:04<00:04, 80.61it/s]\n",
      "Training =>:  53%|█████▎    | 412/773 [00:04<00:04, 82.08it/s]\n",
      "Training =>:  55%|█████▍    | 422/773 [00:04<00:04, 84.65it/s]\n",
      "Training =>:  56%|█████▌    | 432/773 [00:04<00:03, 86.45it/s]\n",
      "Training =>:  57%|█████▋    | 442/773 [00:05<00:03, 87.90it/s]\n",
      "Training =>:  58%|█████▊    | 452/773 [00:05<00:03, 88.73it/s]\n",
      "Training =>:  60%|█████▉    | 462/773 [00:05<00:03, 89.98it/s]\n",
      "Training =>:  61%|██████    | 472/773 [00:05<00:03, 90.57it/s]\n",
      "Training =>:  62%|██████▏   | 482/773 [00:05<00:03, 90.84it/s]\n",
      "Training =>:  64%|██████▎   | 492/773 [00:05<00:03, 91.08it/s]\n",
      "Training =>:  65%|██████▍   | 502/773 [00:05<00:02, 90.67it/s]\n",
      "Training =>:  66%|██████▌   | 512/773 [00:05<00:02, 91.06it/s]\n",
      "Training =>:  68%|██████▊   | 522/773 [00:05<00:02, 91.35it/s]\n",
      "Training =>:  69%|██████▉   | 532/773 [00:06<00:02, 90.88it/s]\n",
      "Training =>:  70%|███████   | 542/773 [00:06<00:02, 91.05it/s]\n",
      "Training =>:  71%|███████▏  | 552/773 [00:06<00:02, 91.50it/s]\n",
      "Training =>:  73%|███████▎  | 562/773 [00:06<00:02, 89.62it/s]\n",
      "Training =>:  74%|███████▍  | 571/773 [00:06<00:02, 89.32it/s]\n",
      "Training =>:  75%|███████▌  | 580/773 [00:06<00:02, 89.42it/s]\n",
      "Training =>:  76%|███████▌  | 589/773 [00:06<00:02, 89.03it/s]\n",
      "Training =>:  77%|███████▋  | 598/773 [00:06<00:01, 88.77it/s]\n",
      "Training =>:  79%|███████▊  | 607/773 [00:06<00:01, 88.92it/s]\n",
      "Training =>:  80%|███████▉  | 616/773 [00:07<00:01, 88.66it/s]\n",
      "Training =>:  81%|████████  | 625/773 [00:07<00:01, 88.47it/s]\n",
      "Training =>:  82%|████████▏ | 634/773 [00:07<00:01, 87.78it/s]\n",
      "Training =>:  83%|████████▎ | 643/773 [00:07<00:01, 87.90it/s]\n",
      "Training =>:  84%|████████▍ | 652/773 [00:07<00:01, 88.47it/s]\n",
      "Training =>:  86%|████████▌ | 662/773 [00:07<00:01, 89.19it/s]\n",
      "Training =>:  87%|████████▋ | 671/773 [00:07<00:01, 89.04it/s]\n",
      "Training =>:  88%|████████▊ | 680/773 [00:07<00:01, 88.89it/s]\n",
      "Training =>:  89%|████████▉ | 689/773 [00:07<00:00, 88.87it/s]\n",
      "Training =>:  90%|█████████ | 698/773 [00:07<00:00, 88.51it/s]\n",
      "Training =>:  91%|█████████▏| 707/773 [00:08<00:00, 87.52it/s]\n",
      "Training =>:  93%|█████████▎| 716/773 [00:08<00:00, 87.72it/s]\n",
      "Training =>:  94%|█████████▍| 726/773 [00:08<00:00, 88.60it/s]\n",
      "Training =>:  95%|█████████▌| 735/773 [00:08<00:00, 88.84it/s]\n",
      "Training =>:  96%|█████████▌| 744/773 [00:08<00:00, 88.56it/s]\n",
      "Training =>:  97%|█████████▋| 753/773 [00:08<00:00, 87.68it/s]\n",
      "Training =>:  99%|█████████▊| 762/773 [00:08<00:00, 88.18it/s]\n",
      "Training =>: 100%|█████████▉| 772/773 [00:08<00:00, 88.96it/s]\n",
      "100%|██████████| 773/773 [00:08<00:00, 87.77it/s]\n",
      "Training =>: 100%|██████████| 773/773 [00:08<00:00, 87.70it/s]\n"
     ]
    },
    {
     "output_type": "stream",
     "name": "stdout",
     "text": [
      "Saving at epoch 11\n",
      "Epoch: 11 | Total Training Loss: 3.3529458045959473 | Pose Training Loss: 0.02920670621097088 | Action Training Loss: 0.4322735369205475 | Action Train Label Accuracy: 81.52912277864263\n"
     ]
    },
    {
     "output_type": "stream",
     "name": "stderr",
     "text": [
      "Testing =>:   0%|          | 0/293 [00:00<?, ?it/s]\n",
      "Testing =>:   7%|▋         | 20/293 [00:00<00:01, 197.71it/s]\n",
      "Testing =>:  14%|█▍        | 41/293 [00:00<00:01, 200.86it/s]\n",
      "Testing =>:  22%|██▏       | 63/293 [00:00<00:01, 206.61it/s]\n",
      "Testing =>:  29%|██▊       | 84/293 [00:00<00:01, 205.42it/s]\n",
      "Testing =>:  36%|███▌      | 105/293 [00:00<00:00, 204.02it/s]\n",
      "Testing =>:  43%|████▎     | 126/293 [00:00<00:00, 204.18it/s]\n",
      "Testing =>:  50%|█████     | 147/293 [00:00<00:00, 204.78it/s]\n",
      "Testing =>:  57%|█████▋    | 168/293 [00:00<00:00, 203.70it/s]\n",
      "Testing =>:  65%|██████▍   | 189/293 [00:00<00:00, 197.28it/s]\n",
      "Testing =>:  71%|███████▏  | 209/293 [00:01<00:00, 194.80it/s]\n",
      "Testing =>:  78%|███████▊  | 230/293 [00:01<00:00, 197.93it/s]\n",
      "Testing =>:  86%|████████▌ | 251/293 [00:01<00:00, 200.98it/s]\n",
      "Testing =>:  93%|█████████▎| 272/293 [00:01<00:00, 200.77it/s]\n",
      "100%|██████████| 293/293 [00:01<00:00, 201.35it/s]\n",
      "Testing =>: 100%|██████████| 293/293 [00:01<00:00, 200.38it/s]\n"
     ]
    },
    {
     "output_type": "stream",
     "name": "stdout",
     "text": [
      "Epoch: 11 | Total Testing Loss: 3.3044376373291016 | Pose Testing Loss: 0.027382267639040947 | Action Testing Loss: 0.5662111639976501 | Action Test Label Accuracy: 73.76454264062333\n",
      "Starting EPOCH: 13 / 30\n"
     ]
    },
    {
     "output_type": "stream",
     "name": "stderr",
     "text": [
      "Training =>:   0%|          | 0/773 [00:00<?, ?it/s]\n",
      "Training =>:   1%|          | 8/773 [00:00<00:09, 77.77it/s]\n",
      "Training =>:   2%|▏         | 17/773 [00:00<00:09, 81.86it/s]\n",
      "Training =>:   3%|▎         | 26/773 [00:00<00:08, 83.68it/s]\n",
      "Training =>:   5%|▍         | 35/773 [00:00<00:08, 84.91it/s]\n",
      "Training =>:   6%|▌         | 44/773 [00:00<00:08, 86.04it/s]\n",
      "Training =>:   7%|▋         | 53/773 [00:00<00:08, 86.73it/s]\n",
      "Training =>:   8%|▊         | 62/773 [00:00<00:08, 87.18it/s]\n",
      "Training =>:   9%|▉         | 71/773 [00:00<00:08, 86.54it/s]\n",
      "Training =>:  10%|█         | 80/773 [00:00<00:08, 86.57it/s]\n",
      "Training =>:  12%|█▏        | 89/773 [00:01<00:07, 86.69it/s]\n",
      "Training =>:  13%|█▎        | 98/773 [00:01<00:07, 86.72it/s]\n",
      "Training =>:  14%|█▍        | 107/773 [00:01<00:07, 86.65it/s]\n",
      "Training =>:  15%|█▌        | 116/773 [00:01<00:07, 86.65it/s]\n",
      "Training =>:  16%|█▌        | 125/773 [00:01<00:07, 86.88it/s]\n",
      "Training =>:  17%|█▋        | 134/773 [00:01<00:07, 87.58it/s]\n",
      "Training =>:  18%|█▊        | 143/773 [00:01<00:07, 86.59it/s]\n",
      "Training =>:  20%|█▉        | 152/773 [00:01<00:07, 86.45it/s]\n",
      "Training =>:  21%|██        | 161/773 [00:01<00:07, 86.30it/s]\n",
      "Training =>:  22%|██▏       | 170/773 [00:01<00:06, 86.93it/s]\n",
      "Training =>:  23%|██▎       | 179/773 [00:02<00:06, 87.30it/s]\n",
      "Training =>:  24%|██▍       | 188/773 [00:02<00:06, 87.64it/s]\n",
      "Training =>:  25%|██▌       | 197/773 [00:02<00:06, 87.62it/s]\n",
      "Training =>:  27%|██▋       | 206/773 [00:02<00:06, 87.78it/s]\n",
      "Training =>:  28%|██▊       | 215/773 [00:02<00:06, 87.52it/s]\n",
      "Training =>:  29%|██▉       | 224/773 [00:02<00:06, 87.83it/s]\n",
      "Training =>:  30%|███       | 233/773 [00:02<00:06, 88.12it/s]\n",
      "Training =>:  31%|███▏      | 242/773 [00:02<00:06, 87.77it/s]\n",
      "Training =>:  32%|███▏      | 251/773 [00:02<00:05, 88.00it/s]\n",
      "Training =>:  34%|███▎      | 260/773 [00:02<00:05, 88.09it/s]\n",
      "Training =>:  35%|███▍      | 269/773 [00:03<00:05, 87.79it/s]\n",
      "Training =>:  36%|███▌      | 278/773 [00:03<00:05, 87.36it/s]\n",
      "Training =>:  37%|███▋      | 287/773 [00:03<00:05, 87.75it/s]\n",
      "Training =>:  38%|███▊      | 296/773 [00:03<00:05, 87.94it/s]\n",
      "Training =>:  39%|███▉      | 305/773 [00:03<00:05, 87.82it/s]\n",
      "Training =>:  41%|████      | 314/773 [00:03<00:05, 87.49it/s]\n",
      "Training =>:  42%|████▏     | 323/773 [00:03<00:05, 85.95it/s]\n",
      "Training =>:  43%|████▎     | 332/773 [00:03<00:05, 86.57it/s]\n",
      "Training =>:  44%|████▍     | 341/773 [00:03<00:04, 86.75it/s]\n",
      "Training =>:  45%|████▌     | 350/773 [00:04<00:04, 86.22it/s]\n",
      "Training =>:  46%|████▋     | 359/773 [00:04<00:04, 86.50it/s]\n",
      "Training =>:  48%|████▊     | 368/773 [00:04<00:04, 86.69it/s]\n",
      "Training =>:  49%|████▉     | 377/773 [00:04<00:04, 86.28it/s]\n",
      "Training =>:  50%|████▉     | 386/773 [00:04<00:04, 86.93it/s]\n",
      "Training =>:  51%|█████     | 395/773 [00:04<00:04, 87.58it/s]\n",
      "Training =>:  52%|█████▏    | 404/773 [00:04<00:04, 87.52it/s]\n",
      "Training =>:  53%|█████▎    | 413/773 [00:04<00:04, 87.96it/s]\n",
      "Training =>:  55%|█████▍    | 422/773 [00:04<00:03, 87.94it/s]\n",
      "Training =>:  56%|█████▌    | 431/773 [00:04<00:03, 88.19it/s]\n",
      "Training =>:  57%|█████▋    | 440/773 [00:05<00:03, 88.54it/s]\n",
      "Training =>:  58%|█████▊    | 449/773 [00:05<00:03, 88.57it/s]\n",
      "Training =>:  59%|█████▉    | 458/773 [00:05<00:03, 87.28it/s]\n",
      "Training =>:  60%|██████    | 467/773 [00:05<00:03, 86.85it/s]\n",
      "Training =>:  62%|██████▏   | 476/773 [00:05<00:03, 87.38it/s]\n",
      "Training =>:  63%|██████▎   | 486/773 [00:05<00:03, 88.44it/s]\n",
      "Training =>:  64%|██████▍   | 495/773 [00:05<00:03, 88.69it/s]\n",
      "Training =>:  65%|██████▌   | 504/773 [00:05<00:03, 88.41it/s]\n",
      "Training =>:  66%|██████▋   | 514/773 [00:05<00:02, 89.18it/s]\n",
      "Training =>:  68%|██████▊   | 523/773 [00:05<00:02, 89.40it/s]\n",
      "Training =>:  69%|██████▉   | 532/773 [00:06<00:02, 89.37it/s]\n",
      "Training =>:  70%|██████▉   | 541/773 [00:06<00:02, 88.81it/s]\n",
      "Training =>:  71%|███████   | 550/773 [00:06<00:02, 88.05it/s]\n",
      "Training =>:  72%|███████▏  | 559/773 [00:06<00:02, 87.49it/s]\n",
      "Training =>:  73%|███████▎  | 568/773 [00:06<00:02, 87.87it/s]\n",
      "Training =>:  75%|███████▍  | 577/773 [00:06<00:02, 87.47it/s]\n",
      "Training =>:  76%|███████▌  | 586/773 [00:06<00:02, 88.00it/s]\n",
      "Training =>:  77%|███████▋  | 595/773 [00:06<00:02, 88.38it/s]\n",
      "Training =>:  78%|███████▊  | 604/773 [00:06<00:01, 88.35it/s]\n",
      "Training =>:  79%|███████▉  | 613/773 [00:07<00:01, 88.52it/s]\n",
      "Training =>:  80%|████████  | 622/773 [00:07<00:01, 86.27it/s]\n",
      "Training =>:  82%|████████▏ | 631/773 [00:07<00:01, 77.02it/s]\n",
      "Training =>:  83%|████████▎ | 639/773 [00:07<00:01, 76.27it/s]\n",
      "Training =>:  84%|████████▍ | 648/773 [00:07<00:01, 79.72it/s]\n",
      "Training =>:  85%|████████▍ | 657/773 [00:07<00:01, 82.41it/s]\n",
      "Training =>:  86%|████████▌ | 666/773 [00:07<00:01, 84.53it/s]\n",
      "Training =>:  87%|████████▋ | 675/773 [00:07<00:01, 85.64it/s]\n",
      "Training =>:  88%|████████▊ | 684/773 [00:07<00:01, 84.44it/s]\n",
      "Training =>:  90%|████████▉ | 693/773 [00:08<00:01, 79.80it/s]\n",
      "Training =>:  91%|█████████ | 702/773 [00:08<00:00, 78.38it/s]\n",
      "Training =>:  92%|█████████▏| 711/773 [00:08<00:00, 80.33it/s]\n",
      "Training =>:  93%|█████████▎| 720/773 [00:08<00:00, 82.33it/s]\n",
      "Training =>:  94%|█████████▍| 729/773 [00:08<00:00, 84.23it/s]\n",
      "Training =>:  95%|█████████▌| 738/773 [00:08<00:00, 85.72it/s]\n",
      "Training =>:  97%|█████████▋| 747/773 [00:08<00:00, 86.38it/s]\n",
      "Training =>:  98%|█████████▊| 756/773 [00:08<00:00, 76.62it/s]\n",
      "Training =>:  99%|█████████▉| 765/773 [00:08<00:00, 77.95it/s]\n",
      "100%|██████████| 773/773 [00:09<00:00, 85.84it/s]\n",
      "Training =>: 100%|██████████| 773/773 [00:09<00:00, 85.79it/s]\n"
     ]
    },
    {
     "output_type": "stream",
     "name": "stdout",
     "text": [
      "Saving at epoch 12\n",
      "Epoch: 12 | Total Training Loss: 3.150153398513794 | Pose Training Loss: 0.027469748631119728 | Action Training Loss: 0.4031812250614166 | Action Train Label Accuracy: 82.55969108222307\n"
     ]
    },
    {
     "output_type": "stream",
     "name": "stderr",
     "text": [
      "Testing =>:   0%|          | 0/293 [00:00<?, ?it/s]\n",
      "Testing =>:   6%|▌         | 18/293 [00:00<00:01, 175.05it/s]\n",
      "Testing =>:  13%|█▎        | 38/293 [00:00<00:01, 188.44it/s]\n",
      "Testing =>:  20%|█▉        | 58/293 [00:00<00:01, 192.84it/s]\n",
      "Testing =>:  27%|██▋       | 78/293 [00:00<00:01, 194.08it/s]\n",
      "Testing =>:  34%|███▍      | 99/293 [00:00<00:00, 197.45it/s]\n",
      "Testing =>:  41%|████      | 119/293 [00:00<00:00, 197.47it/s]\n",
      "Testing =>:  47%|████▋     | 139/293 [00:00<00:00, 196.99it/s]\n",
      "Testing =>:  54%|█████▍    | 159/293 [00:00<00:00, 197.61it/s]\n",
      "Testing =>:  61%|██████    | 179/293 [00:00<00:00, 198.20it/s]\n",
      "Testing =>:  68%|██████▊   | 200/293 [00:01<00:00, 198.95it/s]\n",
      "Testing =>:  75%|███████▌  | 220/293 [00:01<00:00, 193.07it/s]\n",
      "Testing =>:  82%|████████▏ | 240/293 [00:01<00:00, 188.87it/s]\n",
      "Testing =>:  89%|████████▊ | 260/293 [00:01<00:00, 190.19it/s]\n",
      "Testing =>:  96%|█████████▌| 280/293 [00:01<00:00, 191.43it/s]\n",
      "100%|██████████| 293/293 [00:01<00:00, 193.57it/s]\n",
      "Testing =>: 100%|██████████| 293/293 [00:01<00:00, 192.89it/s]\n"
     ]
    },
    {
     "output_type": "stream",
     "name": "stdout",
     "text": [
      "Epoch: 12 | Total Testing Loss: 3.1328723430633545 | Pose Testing Loss: 0.025881623849272728 | Action Testing Loss: 0.5447086095809937 | Action Test Label Accuracy: 74.62909595474437\n",
      "Starting EPOCH: 14 / 30\n"
     ]
    },
    {
     "output_type": "stream",
     "name": "stderr",
     "text": [
      "Training =>:   0%|          | 0/773 [00:00<?, ?it/s]\n",
      "Training =>:   1%|          | 8/773 [00:00<00:09, 77.91it/s]\n",
      "Training =>:   2%|▏         | 17/773 [00:00<00:09, 81.76it/s]\n",
      "Training =>:   3%|▎         | 26/773 [00:00<00:08, 83.53it/s]\n",
      "Training =>:   5%|▍         | 35/773 [00:00<00:08, 84.42it/s]\n",
      "Training =>:   6%|▌         | 44/773 [00:00<00:08, 81.79it/s]\n",
      "Training =>:   7%|▋         | 53/773 [00:00<00:08, 81.84it/s]\n",
      "Training =>:   8%|▊         | 62/773 [00:00<00:08, 83.34it/s]\n",
      "Training =>:   9%|▉         | 71/773 [00:00<00:08, 85.03it/s]\n",
      "Training =>:  10%|█         | 80/773 [00:00<00:08, 86.26it/s]\n",
      "Training =>:  12%|█▏        | 89/773 [00:01<00:07, 87.26it/s]\n",
      "Training =>:  13%|█▎        | 98/773 [00:01<00:07, 87.20it/s]\n",
      "Training =>:  14%|█▍        | 107/773 [00:01<00:07, 87.44it/s]\n",
      "Training =>:  15%|█▌        | 117/773 [00:01<00:07, 88.33it/s]\n",
      "Training =>:  16%|█▋        | 126/773 [00:01<00:07, 88.53it/s]\n",
      "Training =>:  17%|█▋        | 135/773 [00:01<00:07, 88.20it/s]\n",
      "Training =>:  19%|█▊        | 144/773 [00:01<00:07, 88.13it/s]\n",
      "Training =>:  20%|█▉        | 153/773 [00:01<00:06, 88.64it/s]\n",
      "Training =>:  21%|██        | 163/773 [00:01<00:06, 89.38it/s]\n",
      "Training =>:  22%|██▏       | 172/773 [00:01<00:06, 88.98it/s]\n",
      "Training =>:  23%|██▎       | 181/773 [00:02<00:06, 88.97it/s]\n",
      "Training =>:  25%|██▍       | 190/773 [00:02<00:06, 88.49it/s]\n",
      "Training =>:  26%|██▌       | 199/773 [00:02<00:06, 88.23it/s]\n",
      "Training =>:  27%|██▋       | 208/773 [00:02<00:06, 88.66it/s]\n",
      "Training =>:  28%|██▊       | 218/773 [00:02<00:06, 89.30it/s]\n",
      "Training =>:  29%|██▉       | 227/773 [00:02<00:06, 86.81it/s]\n",
      "Training =>:  31%|███       | 236/773 [00:02<00:06, 87.73it/s]\n",
      "Training =>:  32%|███▏      | 246/773 [00:02<00:05, 88.82it/s]\n",
      "Training =>:  33%|███▎      | 256/773 [00:02<00:05, 89.62it/s]\n",
      "Training =>:  34%|███▍      | 266/773 [00:03<00:05, 90.38it/s]\n",
      "Training =>:  36%|███▌      | 276/773 [00:03<00:05, 90.42it/s]\n",
      "Training =>:  37%|███▋      | 286/773 [00:03<00:05, 89.73it/s]\n",
      "Training =>:  38%|███▊      | 295/773 [00:03<00:05, 89.67it/s]\n",
      "Training =>:  39%|███▉      | 304/773 [00:03<00:05, 87.89it/s]\n",
      "Training =>:  40%|████      | 313/773 [00:03<00:05, 84.46it/s]\n",
      "Training =>:  42%|████▏     | 322/773 [00:03<00:05, 85.66it/s]\n",
      "Training =>:  43%|████▎     | 332/773 [00:03<00:05, 87.55it/s]\n",
      "Training =>:  44%|████▍     | 342/773 [00:03<00:04, 88.47it/s]\n",
      "Training =>:  46%|████▌     | 352/773 [00:04<00:04, 89.12it/s]\n",
      "Training =>:  47%|████▋     | 361/773 [00:04<00:04, 88.93it/s]\n",
      "Training =>:  48%|████▊     | 371/773 [00:04<00:04, 89.97it/s]\n",
      "Training =>:  49%|████▉     | 380/773 [00:04<00:04, 89.77it/s]\n",
      "Training =>:  50%|█████     | 390/773 [00:04<00:04, 90.18it/s]\n",
      "Training =>:  52%|█████▏    | 400/773 [00:04<00:04, 89.56it/s]\n",
      "Training =>:  53%|█████▎    | 410/773 [00:04<00:04, 90.08it/s]\n",
      "Training =>:  54%|█████▍    | 420/773 [00:04<00:03, 89.66it/s]\n",
      "Training =>:  55%|█████▌    | 429/773 [00:04<00:03, 89.67it/s]\n",
      "Training =>:  57%|█████▋    | 439/773 [00:04<00:03, 89.93it/s]\n",
      "Training =>:  58%|█████▊    | 449/773 [00:05<00:03, 90.43it/s]\n",
      "Training =>:  59%|█████▉    | 459/773 [00:05<00:03, 90.77it/s]\n",
      "Training =>:  61%|██████    | 469/773 [00:05<00:03, 91.07it/s]\n",
      "Training =>:  62%|██████▏   | 479/773 [00:05<00:03, 90.63it/s]\n",
      "Training =>:  63%|██████▎   | 489/773 [00:05<00:03, 88.44it/s]\n",
      "Training =>:  64%|██████▍   | 498/773 [00:05<00:03, 87.82it/s]\n",
      "Training =>:  66%|██████▌   | 508/773 [00:05<00:02, 88.92it/s]\n",
      "Training =>:  67%|██████▋   | 518/773 [00:05<00:02, 89.37it/s]\n",
      "Training =>:  68%|██████▊   | 528/773 [00:05<00:02, 90.01it/s]\n",
      "Training =>:  70%|██████▉   | 538/773 [00:06<00:02, 90.33it/s]\n",
      "Training =>:  71%|███████   | 548/773 [00:06<00:02, 90.13it/s]\n",
      "Training =>:  72%|███████▏  | 558/773 [00:06<00:02, 90.45it/s]\n",
      "Training =>:  73%|███████▎  | 568/773 [00:06<00:02, 91.06it/s]\n",
      "Training =>:  75%|███████▍  | 578/773 [00:06<00:02, 89.17it/s]\n",
      "Training =>:  76%|███████▌  | 587/773 [00:06<00:02, 88.44it/s]\n",
      "Training =>:  77%|███████▋  | 596/773 [00:06<00:01, 88.83it/s]\n",
      "Training =>:  78%|███████▊  | 606/773 [00:06<00:01, 89.53it/s]\n",
      "Training =>:  80%|███████▉  | 615/773 [00:06<00:01, 89.53it/s]\n",
      "Training =>:  81%|████████  | 625/773 [00:07<00:01, 89.98it/s]\n",
      "Training =>:  82%|████████▏ | 634/773 [00:07<00:01, 89.33it/s]\n",
      "Training =>:  83%|████████▎ | 643/773 [00:07<00:01, 89.38it/s]\n",
      "Training =>:  84%|████████▍ | 653/773 [00:07<00:01, 90.16it/s]\n",
      "Training =>:  86%|████████▌ | 663/773 [00:07<00:01, 64.65it/s]\n",
      "Training =>:  87%|████████▋ | 672/773 [00:07<00:01, 70.13it/s]\n",
      "Training =>:  88%|████████▊ | 681/773 [00:07<00:01, 73.90it/s]\n",
      "Training =>:  89%|████████▉ | 690/773 [00:07<00:01, 77.54it/s]\n",
      "Training =>:  91%|█████████ | 700/773 [00:08<00:00, 81.53it/s]\n",
      "Training =>:  92%|█████████▏| 709/773 [00:08<00:00, 83.59it/s]\n",
      "Training =>:  93%|█████████▎| 719/773 [00:08<00:00, 85.82it/s]\n",
      "Training =>:  94%|█████████▍| 728/773 [00:08<00:00, 86.46it/s]\n",
      "Training =>:  95%|█████████▌| 738/773 [00:08<00:00, 87.99it/s]\n",
      "Training =>:  97%|█████████▋| 747/773 [00:08<00:00, 87.50it/s]\n",
      "Training =>:  98%|█████████▊| 756/773 [00:08<00:00, 86.98it/s]\n",
      "Training =>:  99%|█████████▉| 765/773 [00:08<00:00, 85.84it/s]\n",
      "100%|██████████| 773/773 [00:08<00:00, 87.14it/s]\n",
      "Training =>: 100%|██████████| 773/773 [00:08<00:00, 87.09it/s]\n"
     ]
    },
    {
     "output_type": "stream",
     "name": "stdout",
     "text": [
      "Saving at epoch 13\n",
      "Epoch: 13 | Total Training Loss: 2.991849184036255 | Pose Training Loss: 0.026086872443556786 | Action Training Loss: 0.383163720369339 | Action Train Label Accuracy: 83.34714837353174\n"
     ]
    },
    {
     "output_type": "stream",
     "name": "stderr",
     "text": [
      "Testing =>:   0%|          | 0/293 [00:00<?, ?it/s]\n",
      "Testing =>:   5%|▌         | 16/293 [00:00<00:01, 156.56it/s]\n",
      "Testing =>:  12%|█▏        | 36/293 [00:00<00:01, 178.49it/s]\n",
      "Testing =>:  19%|█▉        | 55/293 [00:00<00:01, 183.62it/s]\n",
      "Testing =>:  26%|██▌       | 75/293 [00:00<00:01, 187.21it/s]\n",
      "Testing =>:  33%|███▎      | 96/293 [00:00<00:01, 192.08it/s]\n",
      "Testing =>:  40%|███▉      | 116/293 [00:00<00:00, 188.86it/s]\n",
      "Testing =>:  46%|████▌     | 135/293 [00:00<00:00, 188.11it/s]\n",
      "Testing =>:  53%|█████▎    | 154/293 [00:00<00:00, 187.71it/s]\n",
      "Testing =>:  59%|█████▉    | 174/293 [00:00<00:00, 190.30it/s]\n",
      "Testing =>:  66%|██████▌   | 194/293 [00:01<00:00, 192.75it/s]\n",
      "Testing =>:  73%|███████▎  | 214/293 [00:01<00:00, 194.40it/s]\n",
      "Testing =>:  80%|███████▉  | 234/293 [00:01<00:00, 193.94it/s]\n",
      "Testing =>:  87%|████████▋ | 255/293 [00:01<00:00, 197.29it/s]\n",
      "Testing =>:  94%|█████████▍| 275/293 [00:01<00:00, 195.65it/s]\n",
      "100%|██████████| 293/293 [00:01<00:00, 188.37it/s]\n",
      "Testing =>: 100%|██████████| 293/293 [00:01<00:00, 187.45it/s]\n"
     ]
    },
    {
     "output_type": "stream",
     "name": "stdout",
     "text": [
      "Epoch: 13 | Total Testing Loss: 2.9995830059051514 | Pose Testing Loss: 0.024666184559464455 | Action Testing Loss: 0.5329656600952148 | Action Test Label Accuracy: 73.62178460881631\n",
      "Starting EPOCH: 15 / 30\n"
     ]
    },
    {
     "output_type": "stream",
     "name": "stderr",
     "text": [
      "Training =>:   0%|          | 0/773 [00:00<?, ?it/s]\n",
      "Training =>:   1%|          | 9/773 [00:00<00:09, 81.73it/s]\n",
      "Training =>:   2%|▏         | 18/773 [00:00<00:08, 84.68it/s]\n",
      "Training =>:   3%|▎         | 27/773 [00:00<00:08, 85.66it/s]\n",
      "Training =>:   5%|▍         | 36/773 [00:00<00:08, 86.82it/s]\n",
      "Training =>:   6%|▌         | 45/773 [00:00<00:08, 86.90it/s]\n",
      "Training =>:   7%|▋         | 54/773 [00:00<00:08, 87.53it/s]\n",
      "Training =>:   8%|▊         | 63/773 [00:00<00:08, 88.24it/s]\n",
      "Training =>:   9%|▉         | 72/773 [00:00<00:07, 88.15it/s]\n",
      "Training =>:  10%|█         | 81/773 [00:00<00:07, 87.52it/s]\n",
      "Training =>:  12%|█▏        | 90/773 [00:01<00:07, 87.63it/s]\n",
      "Training =>:  13%|█▎        | 99/773 [00:01<00:07, 87.02it/s]\n",
      "Training =>:  14%|█▍        | 108/773 [00:01<00:07, 86.77it/s]\n",
      "Training =>:  15%|█▌        | 118/773 [00:01<00:07, 87.98it/s]\n",
      "Training =>:  17%|█▋        | 128/773 [00:01<00:07, 89.12it/s]\n",
      "Training =>:  18%|█▊        | 137/773 [00:01<00:07, 88.97it/s]\n",
      "Training =>:  19%|█▉        | 146/773 [00:01<00:07, 89.24it/s]\n",
      "Training =>:  20%|██        | 156/773 [00:01<00:06, 89.88it/s]\n",
      "Training =>:  21%|██▏       | 165/773 [00:01<00:06, 89.63it/s]\n",
      "Training =>:  23%|██▎       | 174/773 [00:01<00:06, 89.25it/s]\n",
      "Training =>:  24%|██▎       | 183/773 [00:02<00:06, 89.01it/s]\n",
      "Training =>:  25%|██▍       | 192/773 [00:02<00:06, 88.82it/s]\n",
      "Training =>:  26%|██▌       | 201/773 [00:02<00:06, 88.84it/s]\n",
      "Training =>:  27%|██▋       | 211/773 [00:02<00:06, 89.64it/s]\n",
      "Training =>:  28%|██▊       | 220/773 [00:02<00:06, 89.24it/s]\n",
      "Training =>:  30%|██▉       | 229/773 [00:02<00:06, 89.41it/s]\n",
      "Training =>:  31%|███       | 238/773 [00:02<00:06, 88.93it/s]\n",
      "Training =>:  32%|███▏      | 247/773 [00:02<00:05, 88.63it/s]\n",
      "Training =>:  33%|███▎      | 256/773 [00:02<00:05, 87.65it/s]\n",
      "Training =>:  34%|███▍      | 265/773 [00:03<00:05, 87.42it/s]\n",
      "Training =>:  36%|███▌      | 275/773 [00:03<00:05, 88.47it/s]\n",
      "Training =>:  37%|███▋      | 284/773 [00:03<00:05, 88.88it/s]\n",
      "Training =>:  38%|███▊      | 293/773 [00:03<00:05, 88.64it/s]\n",
      "Training =>:  39%|███▉      | 302/773 [00:03<00:05, 88.86it/s]\n",
      "Training =>:  40%|████      | 311/773 [00:03<00:05, 88.60it/s]\n",
      "Training =>:  41%|████▏     | 320/773 [00:03<00:05, 88.97it/s]\n",
      "Training =>:  43%|████▎     | 329/773 [00:03<00:04, 89.20it/s]\n",
      "Training =>:  44%|████▎     | 338/773 [00:03<00:04, 89.14it/s]\n",
      "Training =>:  45%|████▍     | 347/773 [00:03<00:04, 89.14it/s]\n",
      "Training =>:  46%|████▌     | 356/773 [00:04<00:04, 89.00it/s]\n",
      "Training =>:  47%|████▋     | 365/773 [00:04<00:04, 88.72it/s]\n",
      "Training =>:  48%|████▊     | 374/773 [00:04<00:04, 88.46it/s]\n",
      "Training =>:  50%|████▉     | 383/773 [00:04<00:04, 88.91it/s]\n",
      "Training =>:  51%|█████     | 392/773 [00:04<00:04, 89.14it/s]\n",
      "Training =>:  52%|█████▏    | 401/773 [00:04<00:04, 88.87it/s]\n",
      "Training =>:  53%|█████▎    | 410/773 [00:04<00:04, 88.45it/s]\n",
      "Training =>:  54%|█████▍    | 420/773 [00:04<00:03, 89.16it/s]\n",
      "Training =>:  55%|█████▌    | 429/773 [00:04<00:03, 88.26it/s]\n",
      "Training =>:  57%|█████▋    | 438/773 [00:04<00:03, 88.34it/s]\n",
      "Training =>:  58%|█████▊    | 447/773 [00:05<00:03, 88.72it/s]\n",
      "Training =>:  59%|█████▉    | 457/773 [00:05<00:03, 89.69it/s]\n",
      "Training =>:  60%|██████    | 467/773 [00:05<00:03, 90.44it/s]\n",
      "Training =>:  62%|██████▏   | 477/773 [00:05<00:03, 90.58it/s]\n",
      "Training =>:  63%|██████▎   | 487/773 [00:05<00:03, 90.31it/s]\n",
      "Training =>:  64%|██████▍   | 497/773 [00:05<00:03, 90.31it/s]\n",
      "Training =>:  66%|██████▌   | 507/773 [00:05<00:02, 90.29it/s]\n",
      "Training =>:  67%|██████▋   | 517/773 [00:05<00:02, 89.76it/s]\n",
      "Training =>:  68%|██████▊   | 526/773 [00:05<00:02, 88.25it/s]\n",
      "Training =>:  69%|██████▉   | 535/773 [00:06<00:02, 88.45it/s]\n",
      "Training =>:  70%|███████   | 544/773 [00:06<00:02, 88.68it/s]\n",
      "Training =>:  72%|███████▏  | 553/773 [00:06<00:02, 88.80it/s]\n",
      "Training =>:  73%|███████▎  | 562/773 [00:06<00:02, 88.48it/s]\n",
      "Training =>:  74%|███████▍  | 571/773 [00:06<00:02, 88.60it/s]\n",
      "Training =>:  75%|███████▌  | 581/773 [00:06<00:02, 89.38it/s]\n",
      "Training =>:  76%|███████▋  | 591/773 [00:06<00:02, 89.85it/s]\n",
      "Training =>:  78%|███████▊  | 601/773 [00:06<00:01, 90.23it/s]\n",
      "Training =>:  79%|███████▉  | 611/773 [00:06<00:01, 89.28it/s]\n",
      "Training =>:  80%|████████  | 620/773 [00:06<00:01, 88.99it/s]\n",
      "Training =>:  81%|████████▏ | 629/773 [00:07<00:01, 89.26it/s]\n",
      "Training =>:  83%|████████▎ | 639/773 [00:07<00:01, 89.82it/s]\n",
      "Training =>:  84%|████████▍ | 648/773 [00:07<00:01, 89.48it/s]\n",
      "Training =>:  85%|████████▍ | 657/773 [00:07<00:01, 89.24it/s]\n",
      "Training =>:  86%|████████▋ | 667/773 [00:07<00:01, 89.63it/s]\n",
      "Training =>:  87%|████████▋ | 676/773 [00:07<00:01, 88.80it/s]\n",
      "Training =>:  89%|████████▊ | 685/773 [00:07<00:00, 89.07it/s]\n",
      "Training =>:  90%|████████▉ | 694/773 [00:07<00:00, 88.59it/s]\n",
      "Training =>:  91%|█████████ | 703/773 [00:07<00:00, 87.00it/s]\n",
      "Training =>:  92%|█████████▏| 712/773 [00:08<00:00, 87.08it/s]\n",
      "Training =>:  93%|█████████▎| 722/773 [00:08<00:00, 88.23it/s]\n",
      "Training =>:  95%|█████████▍| 732/773 [00:08<00:00, 89.06it/s]\n",
      "Training =>:  96%|█████████▌| 741/773 [00:08<00:00, 89.05it/s]\n",
      "Training =>:  97%|█████████▋| 750/773 [00:08<00:00, 89.12it/s]\n",
      "Training =>:  98%|█████████▊| 759/773 [00:08<00:00, 87.51it/s]\n",
      "Training =>:  99%|█████████▉| 768/773 [00:08<00:00, 87.84it/s]\n",
      "100%|██████████| 773/773 [00:08<00:00, 88.68it/s]\n",
      "Training =>: 100%|██████████| 773/773 [00:08<00:00, 88.62it/s]\n"
     ]
    },
    {
     "output_type": "stream",
     "name": "stdout",
     "text": [
      "Saving at epoch 14\n",
      "Epoch: 14 | Total Training Loss: 2.8492672443389893 | Pose Training Loss: 0.02484394609928131 | Action Training Loss: 0.3648744821548462 | Action Train Label Accuracy: 84.19525706083336\n"
     ]
    },
    {
     "output_type": "stream",
     "name": "stderr",
     "text": [
      "Testing =>:   0%|          | 0/293 [00:00<?, ?it/s]\n",
      "Testing =>:   6%|▌         | 17/293 [00:00<00:01, 163.85it/s]\n",
      "Testing =>:  13%|█▎        | 38/293 [00:00<00:01, 185.75it/s]\n",
      "Testing =>:  20%|██        | 59/293 [00:00<00:01, 195.38it/s]\n",
      "Testing =>:  27%|██▋       | 80/293 [00:00<00:01, 198.92it/s]\n",
      "Testing =>:  34%|███▍      | 101/293 [00:00<00:00, 200.94it/s]\n",
      "Testing =>:  42%|████▏     | 122/293 [00:00<00:00, 191.86it/s]\n",
      "Testing =>:  48%|████▊     | 142/293 [00:00<00:00, 194.33it/s]\n",
      "Testing =>:  56%|█████▌    | 163/293 [00:00<00:00, 196.87it/s]\n",
      "Testing =>:  62%|██████▏   | 183/293 [00:00<00:00, 197.33it/s]\n",
      "Testing =>:  69%|██████▉   | 203/293 [00:01<00:00, 185.25it/s]\n",
      "Testing =>:  76%|███████▌  | 222/293 [00:01<00:00, 184.51it/s]\n",
      "Testing =>:  83%|████████▎ | 242/293 [00:01<00:00, 186.71it/s]\n",
      "Testing =>:  89%|████████▉ | 261/293 [00:01<00:00, 185.77it/s]\n",
      "Testing =>:  96%|█████████▌| 281/293 [00:01<00:00, 188.43it/s]\n",
      "100%|██████████| 293/293 [00:01<00:00, 190.75it/s]\n",
      "Testing =>: 100%|██████████| 293/293 [00:01<00:00, 189.97it/s]\n"
     ]
    },
    {
     "output_type": "stream",
     "name": "stdout",
     "text": [
      "Epoch: 14 | Total Testing Loss: 2.8553879261016846 | Pose Testing Loss: 0.02352043241262436 | Action Testing Loss: 0.5033434629440308 | Action Test Label Accuracy: 75.35756217312414\n",
      "Starting EPOCH: 16 / 30\n"
     ]
    },
    {
     "output_type": "stream",
     "name": "stderr",
     "text": [
      "Training =>:   0%|          | 0/773 [00:00<?, ?it/s]\n",
      "Training =>:   1%|          | 8/773 [00:00<00:10, 76.39it/s]\n",
      "Training =>:   2%|▏         | 17/773 [00:00<00:09, 81.92it/s]\n",
      "Training =>:   3%|▎         | 26/773 [00:00<00:09, 82.68it/s]\n",
      "Training =>:   5%|▍         | 35/773 [00:00<00:08, 84.46it/s]\n",
      "Training =>:   6%|▌         | 44/773 [00:00<00:08, 84.49it/s]\n",
      "Training =>:   7%|▋         | 53/773 [00:00<00:08, 85.46it/s]\n",
      "Training =>:   8%|▊         | 62/773 [00:00<00:08, 86.39it/s]\n",
      "Training =>:   9%|▉         | 71/773 [00:00<00:08, 86.09it/s]\n",
      "Training =>:  10%|█         | 80/773 [00:00<00:08, 86.33it/s]\n",
      "Training =>:  12%|█▏        | 89/773 [00:01<00:07, 86.78it/s]\n",
      "Training =>:  13%|█▎        | 99/773 [00:01<00:07, 87.96it/s]\n",
      "Training =>:  14%|█▍        | 108/773 [00:01<00:07, 88.56it/s]\n",
      "Training =>:  15%|█▌        | 117/773 [00:01<00:07, 88.84it/s]\n",
      "Training =>:  16%|█▋        | 126/773 [00:01<00:07, 88.67it/s]\n",
      "Training =>:  18%|█▊        | 136/773 [00:01<00:07, 89.22it/s]\n",
      "Training =>:  19%|█▉        | 146/773 [00:01<00:06, 89.70it/s]\n",
      "Training =>:  20%|██        | 156/773 [00:01<00:06, 90.33it/s]\n",
      "Training =>:  21%|██▏       | 166/773 [00:01<00:06, 90.59it/s]\n",
      "Training =>:  23%|██▎       | 176/773 [00:02<00:06, 91.20it/s]\n",
      "Training =>:  24%|██▍       | 186/773 [00:02<00:06, 91.66it/s]\n",
      "Training =>:  25%|██▌       | 196/773 [00:02<00:06, 91.53it/s]\n",
      "Training =>:  27%|██▋       | 206/773 [00:02<00:06, 91.30it/s]\n",
      "Training =>:  28%|██▊       | 216/773 [00:02<00:06, 90.80it/s]\n",
      "Training =>:  29%|██▉       | 226/773 [00:02<00:06, 90.84it/s]\n",
      "Training =>:  31%|███       | 236/773 [00:02<00:05, 91.10it/s]\n",
      "Training =>:  32%|███▏      | 246/773 [00:02<00:05, 91.39it/s]\n",
      "Training =>:  33%|███▎      | 256/773 [00:02<00:05, 91.93it/s]\n",
      "Training =>:  34%|███▍      | 266/773 [00:02<00:05, 92.24it/s]\n",
      "Training =>:  36%|███▌      | 276/773 [00:03<00:05, 92.09it/s]\n",
      "Training =>:  37%|███▋      | 286/773 [00:03<00:05, 91.94it/s]\n",
      "Training =>:  38%|███▊      | 296/773 [00:03<00:05, 91.27it/s]\n",
      "Training =>:  40%|███▉      | 306/773 [00:03<00:05, 89.22it/s]\n",
      "Training =>:  41%|████      | 316/773 [00:03<00:05, 89.86it/s]\n",
      "Training =>:  42%|████▏     | 326/773 [00:03<00:04, 90.81it/s]\n",
      "Training =>:  43%|████▎     | 336/773 [00:03<00:04, 91.41it/s]\n",
      "Training =>:  45%|████▍     | 346/773 [00:03<00:04, 91.40it/s]\n",
      "Training =>:  46%|████▌     | 356/773 [00:03<00:04, 91.25it/s]\n",
      "Training =>:  47%|████▋     | 366/773 [00:04<00:04, 91.21it/s]\n",
      "Training =>:  49%|████▊     | 376/773 [00:04<00:04, 91.79it/s]\n",
      "Training =>:  50%|████▉     | 386/773 [00:04<00:04, 91.71it/s]\n",
      "Training =>:  51%|█████     | 396/773 [00:04<00:04, 91.32it/s]\n",
      "Training =>:  53%|█████▎    | 406/773 [00:04<00:03, 91.88it/s]\n",
      "Training =>:  54%|█████▍    | 416/773 [00:04<00:03, 91.90it/s]\n",
      "Training =>:  55%|█████▌    | 426/773 [00:04<00:03, 92.19it/s]\n",
      "Training =>:  56%|█████▋    | 436/773 [00:04<00:03, 92.23it/s]\n",
      "Training =>:  58%|█████▊    | 446/773 [00:04<00:03, 92.09it/s]\n",
      "Training =>:  59%|█████▉    | 456/773 [00:05<00:03, 92.41it/s]\n",
      "Training =>:  60%|██████    | 466/773 [00:05<00:03, 92.58it/s]\n",
      "Training =>:  62%|██████▏   | 476/773 [00:05<00:03, 92.83it/s]\n",
      "Training =>:  63%|██████▎   | 486/773 [00:05<00:03, 91.33it/s]\n",
      "Training =>:  64%|██████▍   | 496/773 [00:05<00:03, 91.19it/s]\n",
      "Training =>:  65%|██████▌   | 506/773 [00:05<00:02, 91.41it/s]\n",
      "Training =>:  67%|██████▋   | 516/773 [00:05<00:02, 91.86it/s]\n",
      "Training =>:  68%|██████▊   | 526/773 [00:05<00:02, 92.28it/s]\n",
      "Training =>:  69%|██████▉   | 536/773 [00:05<00:02, 91.75it/s]\n",
      "Training =>:  71%|███████   | 546/773 [00:06<00:02, 91.75it/s]\n",
      "Training =>:  72%|███████▏  | 556/773 [00:06<00:02, 91.58it/s]\n",
      "Training =>:  73%|███████▎  | 566/773 [00:06<00:02, 91.52it/s]\n",
      "Training =>:  75%|███████▍  | 576/773 [00:06<00:02, 91.04it/s]\n",
      "Training =>:  76%|███████▌  | 586/773 [00:06<00:02, 91.34it/s]\n",
      "Training =>:  77%|███████▋  | 596/773 [00:06<00:01, 91.79it/s]\n",
      "Training =>:  78%|███████▊  | 606/773 [00:06<00:01, 91.88it/s]\n",
      "Training =>:  80%|███████▉  | 616/773 [00:06<00:01, 92.56it/s]\n",
      "Training =>:  81%|████████  | 626/773 [00:06<00:01, 92.39it/s]\n",
      "Training =>:  82%|████████▏ | 636/773 [00:07<00:01, 92.40it/s]\n",
      "Training =>:  84%|████████▎ | 646/773 [00:07<00:01, 92.99it/s]\n",
      "Training =>:  85%|████████▍ | 656/773 [00:07<00:01, 92.90it/s]\n",
      "Training =>:  86%|████████▌ | 666/773 [00:07<00:01, 92.07it/s]\n",
      "Training =>:  87%|████████▋ | 676/773 [00:07<00:01, 89.55it/s]\n",
      "Training =>:  89%|████████▊ | 686/773 [00:07<00:00, 90.43it/s]\n",
      "Training =>:  90%|█████████ | 696/773 [00:07<00:00, 90.96it/s]\n",
      "Training =>:  91%|█████████▏| 706/773 [00:07<00:00, 91.55it/s]\n",
      "Training =>:  93%|█████████▎| 716/773 [00:07<00:00, 91.86it/s]\n",
      "Training =>:  94%|█████████▍| 726/773 [00:08<00:00, 92.37it/s]\n",
      "Training =>:  95%|█████████▌| 736/773 [00:08<00:00, 92.35it/s]\n",
      "Training =>:  97%|█████████▋| 746/773 [00:08<00:00, 92.53it/s]\n",
      "Training =>:  98%|█████████▊| 756/773 [00:08<00:00, 91.89it/s]\n",
      "Training =>:  99%|█████████▉| 766/773 [00:08<00:00, 90.89it/s]\n",
      "100%|██████████| 773/773 [00:08<00:00, 90.73it/s]\n",
      "Training =>: 100%|██████████| 773/773 [00:08<00:00, 90.67it/s]\n"
     ]
    },
    {
     "output_type": "stream",
     "name": "stdout",
     "text": [
      "Saving at epoch 15\n",
      "Epoch: 15 | Total Training Loss: 2.7181079387664795 | Pose Training Loss: 0.02373608946800232 | Action Training Loss: 0.3445011079311371 | Action Train Label Accuracy: 85.19448880981744\n"
     ]
    },
    {
     "output_type": "stream",
     "name": "stderr",
     "text": [
      "Testing =>:   0%|          | 0/293 [00:00<?, ?it/s]\n",
      "Testing =>:   7%|▋         | 20/293 [00:00<00:01, 192.15it/s]\n",
      "Testing =>:  14%|█▍        | 41/293 [00:00<00:01, 198.67it/s]\n",
      "Testing =>:  21%|██        | 62/293 [00:00<00:01, 201.78it/s]\n",
      "Testing =>:  28%|██▊       | 83/293 [00:00<00:01, 203.51it/s]\n",
      "Testing =>:  35%|███▌      | 104/293 [00:00<00:00, 204.20it/s]\n",
      "Testing =>:  43%|████▎     | 126/293 [00:00<00:00, 206.58it/s]\n",
      "Testing =>:  50%|█████     | 147/293 [00:00<00:00, 200.94it/s]\n",
      "Testing =>:  57%|█████▋    | 168/293 [00:00<00:00, 195.94it/s]\n",
      "Testing =>:  65%|██████▍   | 189/293 [00:00<00:00, 199.29it/s]\n",
      "Testing =>:  72%|███████▏  | 210/293 [00:01<00:00, 199.89it/s]\n",
      "Testing =>:  79%|███████▉  | 231/293 [00:01<00:00, 201.77it/s]\n",
      "Testing =>:  86%|████████▌ | 252/293 [00:01<00:00, 202.79it/s]\n",
      "Testing =>:  93%|█████████▎| 273/293 [00:01<00:00, 200.54it/s]\n",
      "100%|██████████| 293/293 [00:01<00:00, 198.84it/s]\n",
      "Testing =>: 100%|██████████| 293/293 [00:01<00:00, 198.03it/s]\n"
     ]
    },
    {
     "output_type": "stream",
     "name": "stdout",
     "text": [
      "Epoch: 15 | Total Testing Loss: 2.748802900314331 | Pose Testing Loss: 0.022543946281075478 | Action Testing Loss: 0.49440687894821167 | Action Test Label Accuracy: 76.60502721741915\n",
      "Starting EPOCH: 17 / 30\n"
     ]
    },
    {
     "output_type": "stream",
     "name": "stderr",
     "text": [
      "Training =>:   0%|          | 0/773 [00:00<?, ?it/s]\n",
      "Training =>:   1%|          | 8/773 [00:00<00:09, 76.87it/s]\n",
      "Training =>:   2%|▏         | 17/773 [00:00<00:09, 80.29it/s]\n",
      "Training =>:   3%|▎         | 26/773 [00:00<00:09, 80.76it/s]\n",
      "Training =>:   5%|▍         | 35/773 [00:00<00:08, 83.47it/s]\n",
      "Training =>:   6%|▌         | 44/773 [00:00<00:08, 85.08it/s]\n",
      "Training =>:   7%|▋         | 53/773 [00:00<00:08, 85.77it/s]\n",
      "Training =>:   8%|▊         | 62/773 [00:00<00:08, 87.04it/s]\n",
      "Training =>:   9%|▉         | 71/773 [00:00<00:08, 87.63it/s]\n",
      "Training =>:  10%|█         | 80/773 [00:00<00:07, 87.73it/s]\n",
      "Training =>:  12%|█▏        | 89/773 [00:01<00:07, 88.10it/s]\n",
      "Training =>:  13%|█▎        | 98/773 [00:01<00:07, 87.95it/s]\n",
      "Training =>:  14%|█▍        | 107/773 [00:01<00:07, 88.16it/s]\n",
      "Training =>:  15%|█▌        | 116/773 [00:01<00:07, 88.62it/s]\n",
      "Training =>:  16%|█▌        | 125/773 [00:01<00:07, 88.62it/s]\n",
      "Training =>:  17%|█▋        | 135/773 [00:01<00:07, 89.33it/s]\n",
      "Training =>:  19%|█▊        | 144/773 [00:01<00:07, 89.50it/s]\n",
      "Training =>:  20%|█▉        | 153/773 [00:01<00:06, 89.13it/s]\n",
      "Training =>:  21%|██        | 162/773 [00:01<00:06, 88.38it/s]\n",
      "Training =>:  22%|██▏       | 171/773 [00:01<00:06, 88.49it/s]\n",
      "Training =>:  23%|██▎       | 181/773 [00:02<00:06, 89.23it/s]\n",
      "Training =>:  25%|██▍       | 190/773 [00:02<00:06, 88.79it/s]\n",
      "Training =>:  26%|██▌       | 199/773 [00:02<00:06, 87.84it/s]\n",
      "Training =>:  27%|██▋       | 209/773 [00:02<00:06, 88.77it/s]\n",
      "Training =>:  28%|██▊       | 219/773 [00:02<00:06, 89.27it/s]\n",
      "Training =>:  29%|██▉       | 228/773 [00:02<00:06, 89.23it/s]\n",
      "Training =>:  31%|███       | 237/773 [00:02<00:06, 89.17it/s]\n",
      "Training =>:  32%|███▏      | 246/773 [00:02<00:05, 88.49it/s]\n",
      "Training =>:  33%|███▎      | 255/773 [00:02<00:05, 88.56it/s]\n",
      "Training =>:  34%|███▍      | 264/773 [00:03<00:05, 88.66it/s]\n",
      "Training =>:  35%|███▌      | 273/773 [00:03<00:05, 88.72it/s]\n",
      "Training =>:  36%|███▋      | 282/773 [00:03<00:05, 88.60it/s]\n",
      "Training =>:  38%|███▊      | 292/773 [00:03<00:05, 89.41it/s]\n",
      "Training =>:  39%|███▉      | 301/773 [00:03<00:05, 89.29it/s]\n",
      "Training =>:  40%|████      | 310/773 [00:03<00:05, 89.01it/s]\n",
      "Training =>:  41%|████▏     | 319/773 [00:03<00:05, 88.40it/s]\n",
      "Training =>:  42%|████▏     | 328/773 [00:03<00:05, 87.65it/s]\n",
      "Training =>:  44%|████▎     | 337/773 [00:03<00:04, 87.95it/s]\n",
      "Training =>:  45%|████▍     | 346/773 [00:03<00:04, 88.48it/s]\n",
      "Training =>:  46%|████▌     | 355/773 [00:04<00:04, 88.88it/s]\n",
      "Training =>:  47%|████▋     | 364/773 [00:04<00:04, 88.56it/s]\n",
      "Training =>:  48%|████▊     | 373/773 [00:04<00:04, 88.04it/s]\n",
      "Training =>:  49%|████▉     | 382/773 [00:04<00:04, 88.41it/s]\n",
      "Training =>:  51%|█████     | 391/773 [00:04<00:04, 88.37it/s]\n",
      "Training =>:  52%|█████▏    | 400/773 [00:04<00:04, 88.76it/s]\n",
      "Training =>:  53%|█████▎    | 409/773 [00:04<00:04, 88.73it/s]\n",
      "Training =>:  54%|█████▍    | 419/773 [00:04<00:03, 89.68it/s]\n",
      "Training =>:  55%|█████▌    | 428/773 [00:04<00:03, 88.89it/s]\n",
      "Training =>:  57%|█████▋    | 437/773 [00:04<00:03, 88.82it/s]\n",
      "Training =>:  58%|█████▊    | 446/773 [00:05<00:03, 88.71it/s]\n",
      "Training =>:  59%|█████▉    | 455/773 [00:05<00:03, 86.96it/s]\n",
      "Training =>:  60%|██████    | 464/773 [00:05<00:03, 87.18it/s]\n",
      "Training =>:  61%|██████    | 473/773 [00:05<00:03, 87.66it/s]\n",
      "Training =>:  62%|██████▏   | 482/773 [00:05<00:03, 87.54it/s]\n",
      "Training =>:  64%|██████▎   | 491/773 [00:05<00:03, 88.01it/s]\n",
      "Training =>:  65%|██████▍   | 500/773 [00:05<00:03, 88.04it/s]\n",
      "Training =>:  66%|██████▌   | 509/773 [00:05<00:02, 88.43it/s]\n",
      "Training =>:  67%|██████▋   | 518/773 [00:05<00:02, 88.47it/s]\n",
      "Training =>:  68%|██████▊   | 527/773 [00:05<00:02, 88.62it/s]\n",
      "Training =>:  69%|██████▉   | 536/773 [00:06<00:02, 88.19it/s]\n",
      "Training =>:  71%|███████   | 545/773 [00:06<00:02, 88.17it/s]\n",
      "Training =>:  72%|███████▏  | 554/773 [00:06<00:02, 87.72it/s]\n",
      "Training =>:  73%|███████▎  | 563/773 [00:06<00:02, 88.25it/s]\n",
      "Training =>:  74%|███████▍  | 572/773 [00:06<00:02, 88.37it/s]\n",
      "Training =>:  75%|███████▌  | 581/773 [00:06<00:02, 88.84it/s]\n",
      "Training =>:  76%|███████▋  | 590/773 [00:06<00:02, 88.28it/s]\n",
      "Training =>:  78%|███████▊  | 600/773 [00:06<00:01, 89.08it/s]\n",
      "Training =>:  79%|███████▉  | 610/773 [00:06<00:01, 89.46it/s]\n",
      "Training =>:  80%|████████  | 620/773 [00:07<00:01, 89.78it/s]\n",
      "Training =>:  81%|████████▏ | 629/773 [00:07<00:01, 89.29it/s]\n",
      "Training =>:  83%|████████▎ | 638/773 [00:07<00:01, 88.58it/s]\n",
      "Training =>:  84%|████████▎ | 647/773 [00:07<00:01, 88.35it/s]\n",
      "Training =>:  85%|████████▍ | 656/773 [00:07<00:01, 88.83it/s]\n",
      "Training =>:  86%|████████▌ | 665/773 [00:07<00:01, 89.11it/s]\n",
      "Training =>:  87%|████████▋ | 675/773 [00:07<00:01, 89.78it/s]\n",
      "Training =>:  89%|████████▊ | 685/773 [00:07<00:00, 90.22it/s]\n",
      "Training =>:  90%|████████▉ | 695/773 [00:07<00:00, 89.84it/s]\n",
      "Training =>:  91%|█████████ | 704/773 [00:07<00:00, 89.73it/s]\n",
      "Training =>:  92%|█████████▏| 713/773 [00:08<00:00, 89.49it/s]\n",
      "Training =>:  93%|█████████▎| 722/773 [00:08<00:00, 86.86it/s]\n",
      "Training =>:  95%|█████████▍| 731/773 [00:08<00:00, 87.22it/s]\n",
      "Training =>:  96%|█████████▌| 741/773 [00:08<00:00, 88.41it/s]\n",
      "Training =>:  97%|█████████▋| 751/773 [00:08<00:00, 89.19it/s]\n",
      "Training =>:  98%|█████████▊| 761/773 [00:08<00:00, 90.04it/s]\n",
      "100%|██████████| 773/773 [00:08<00:00, 88.40it/s]\n",
      "Training =>: 100%|██████████| 773/773 [00:08<00:00, 88.33it/s]\n"
     ]
    },
    {
     "output_type": "stream",
     "name": "stdout",
     "text": [
      "Saving at epoch 16\n",
      "Epoch: 16 | Total Training Loss: 2.5984957218170166 | Pose Training Loss: 0.022661907598376274 | Action Training Loss: 0.3323032259941101 | Action Train Label Accuracy: 85.78028020944949\n"
     ]
    },
    {
     "output_type": "stream",
     "name": "stderr",
     "text": [
      "Testing =>:   0%|          | 0/293 [00:00<?, ?it/s]\n",
      "Testing =>:   7%|▋         | 20/293 [00:00<00:01, 194.72it/s]\n",
      "Testing =>:  14%|█▍        | 41/293 [00:00<00:01, 203.41it/s]\n",
      "Testing =>:  21%|██        | 62/293 [00:00<00:01, 199.58it/s]\n",
      "Testing =>:  28%|██▊       | 83/293 [00:00<00:01, 201.06it/s]\n",
      "Testing =>:  35%|███▌      | 104/293 [00:00<00:00, 203.27it/s]\n",
      "Testing =>:  43%|████▎     | 125/293 [00:00<00:00, 204.02it/s]\n",
      "Testing =>:  50%|████▉     | 146/293 [00:00<00:00, 204.36it/s]\n",
      "Testing =>:  57%|█████▋    | 167/293 [00:00<00:00, 201.60it/s]\n",
      "Testing =>:  64%|██████▍   | 188/293 [00:00<00:00, 187.16it/s]\n",
      "Testing =>:  71%|███████   | 208/293 [00:01<00:00, 190.57it/s]\n",
      "Testing =>:  78%|███████▊  | 228/293 [00:01<00:00, 184.23it/s]\n",
      "Testing =>:  84%|████████▍ | 247/293 [00:01<00:00, 182.53it/s]\n",
      "Testing =>:  91%|█████████ | 266/293 [00:01<00:00, 183.86it/s]\n",
      "Testing =>:  98%|█████████▊| 287/293 [00:01<00:00, 188.67it/s]\n",
      "100%|██████████| 293/293 [00:01<00:00, 192.30it/s]\n",
      "Testing =>: 100%|██████████| 293/293 [00:01<00:00, 191.63it/s]\n"
     ]
    },
    {
     "output_type": "stream",
     "name": "stdout",
     "text": [
      "Epoch: 16 | Total Testing Loss: 2.6476969718933105 | Pose Testing Loss: 0.021586833521723747 | Action Testing Loss: 0.4890148937702179 | Action Test Label Accuracy: 77.28412850891237\n",
      "Starting EPOCH: 18 / 30\n"
     ]
    },
    {
     "output_type": "stream",
     "name": "stderr",
     "text": [
      "Training =>:   0%|          | 0/773 [00:00<?, ?it/s]\n",
      "Training =>:   1%|          | 8/773 [00:00<00:10, 74.99it/s]\n",
      "Training =>:   2%|▏         | 17/773 [00:00<00:09, 78.69it/s]\n",
      "Training =>:   3%|▎         | 26/773 [00:00<00:09, 79.93it/s]\n",
      "Training =>:   5%|▍         | 35/773 [00:00<00:09, 80.48it/s]\n",
      "Training =>:   6%|▌         | 44/773 [00:00<00:09, 79.38it/s]\n",
      "Training =>:   7%|▋         | 53/773 [00:00<00:08, 80.23it/s]\n",
      "Training =>:   8%|▊         | 62/773 [00:00<00:08, 80.79it/s]\n",
      "Training =>:   9%|▉         | 71/773 [00:00<00:08, 80.98it/s]\n",
      "Training =>:  10%|█         | 80/773 [00:00<00:08, 82.78it/s]\n",
      "Training =>:  12%|█▏        | 89/773 [00:01<00:08, 83.81it/s]\n",
      "Training =>:  13%|█▎        | 98/773 [00:01<00:07, 84.98it/s]\n",
      "Training =>:  14%|█▍        | 107/773 [00:01<00:07, 85.66it/s]\n",
      "Training =>:  15%|█▌        | 116/773 [00:01<00:07, 85.16it/s]\n",
      "Training =>:  16%|█▌        | 125/773 [00:01<00:07, 86.12it/s]\n",
      "Training =>:  17%|█▋        | 134/773 [00:01<00:07, 86.61it/s]\n",
      "Training =>:  18%|█▊        | 143/773 [00:01<00:07, 86.26it/s]\n",
      "Training =>:  20%|█▉        | 152/773 [00:01<00:07, 86.75it/s]\n",
      "Training =>:  21%|██        | 161/773 [00:01<00:07, 87.08it/s]\n",
      "Training =>:  22%|██▏       | 170/773 [00:02<00:06, 87.50it/s]\n",
      "Training =>:  23%|██▎       | 179/773 [00:02<00:06, 87.92it/s]\n",
      "Training =>:  24%|██▍       | 188/773 [00:02<00:06, 88.25it/s]\n",
      "Training =>:  25%|██▌       | 197/773 [00:02<00:06, 88.01it/s]\n",
      "Training =>:  27%|██▋       | 206/773 [00:02<00:06, 87.56it/s]\n",
      "Training =>:  28%|██▊       | 215/773 [00:02<00:06, 88.22it/s]\n",
      "Training =>:  29%|██▉       | 224/773 [00:02<00:06, 88.75it/s]\n",
      "Training =>:  30%|███       | 233/773 [00:02<00:06, 89.07it/s]\n",
      "Training =>:  31%|███▏      | 243/773 [00:02<00:05, 89.93it/s]\n",
      "Training =>:  33%|███▎      | 252/773 [00:02<00:05, 89.62it/s]\n",
      "Training =>:  34%|███▍      | 261/773 [00:03<00:05, 89.44it/s]\n",
      "Training =>:  35%|███▍      | 270/773 [00:03<00:05, 89.21it/s]\n",
      "Training =>:  36%|███▌      | 279/773 [00:03<00:05, 88.71it/s]\n",
      "Training =>:  37%|███▋      | 288/773 [00:03<00:05, 88.37it/s]\n",
      "Training =>:  38%|███▊      | 297/773 [00:03<00:05, 88.39it/s]\n",
      "Training =>:  40%|███▉      | 307/773 [00:03<00:05, 89.14it/s]\n",
      "Training =>:  41%|████      | 317/773 [00:03<00:05, 89.73it/s]\n",
      "Training =>:  42%|████▏     | 326/773 [00:03<00:04, 89.76it/s]\n",
      "Training =>:  43%|████▎     | 336/773 [00:03<00:04, 90.72it/s]\n",
      "Training =>:  45%|████▍     | 346/773 [00:03<00:04, 91.04it/s]\n",
      "Training =>:  46%|████▌     | 356/773 [00:04<00:04, 89.42it/s]\n",
      "Training =>:  47%|████▋     | 365/773 [00:04<00:04, 89.36it/s]\n",
      "Training =>:  48%|████▊     | 374/773 [00:04<00:04, 89.00it/s]\n",
      "Training =>:  50%|████▉     | 383/773 [00:04<00:04, 88.74it/s]\n",
      "Training =>:  51%|█████     | 392/773 [00:04<00:04, 88.99it/s]\n",
      "Training =>:  52%|█████▏    | 401/773 [00:04<00:04, 89.15it/s]\n",
      "Training =>:  53%|█████▎    | 410/773 [00:04<00:04, 88.94it/s]\n",
      "Training =>:  54%|█████▍    | 420/773 [00:04<00:03, 89.73it/s]\n",
      "Training =>:  56%|█████▌    | 430/773 [00:04<00:03, 90.49it/s]\n",
      "Training =>:  57%|█████▋    | 440/773 [00:05<00:03, 90.46it/s]\n",
      "Training =>:  58%|█████▊    | 450/773 [00:05<00:03, 90.30it/s]\n",
      "Training =>:  60%|█████▉    | 460/773 [00:05<00:03, 89.88it/s]\n",
      "Training =>:  61%|██████    | 469/773 [00:05<00:03, 88.54it/s]\n",
      "Training =>:  62%|██████▏   | 478/773 [00:05<00:03, 88.34it/s]\n",
      "Training =>:  63%|██████▎   | 487/773 [00:05<00:03, 88.30it/s]\n",
      "Training =>:  64%|██████▍   | 497/773 [00:05<00:03, 89.33it/s]\n",
      "Training =>:  66%|██████▌   | 507/773 [00:05<00:02, 90.12it/s]\n",
      "Training =>:  67%|██████▋   | 517/773 [00:05<00:02, 90.57it/s]\n",
      "Training =>:  68%|██████▊   | 527/773 [00:06<00:02, 90.35it/s]\n",
      "Training =>:  69%|██████▉   | 537/773 [00:06<00:02, 90.34it/s]\n",
      "Training =>:  71%|███████   | 547/773 [00:06<00:02, 90.72it/s]\n",
      "Training =>:  72%|███████▏  | 557/773 [00:06<00:02, 88.63it/s]\n",
      "Training =>:  73%|███████▎  | 566/773 [00:06<00:02, 85.96it/s]\n",
      "Training =>:  75%|███████▍  | 576/773 [00:06<00:02, 87.79it/s]\n",
      "Training =>:  76%|███████▌  | 586/773 [00:06<00:02, 89.17it/s]\n",
      "Training =>:  77%|███████▋  | 596/773 [00:06<00:01, 89.75it/s]\n",
      "Training =>:  78%|███████▊  | 606/773 [00:06<00:01, 90.55it/s]\n",
      "Training =>:  80%|███████▉  | 616/773 [00:07<00:01, 90.93it/s]\n",
      "Training =>:  81%|████████  | 626/773 [00:07<00:01, 90.60it/s]\n",
      "Training =>:  82%|████████▏ | 636/773 [00:07<00:01, 90.75it/s]\n",
      "Training =>:  84%|████████▎ | 646/773 [00:07<00:01, 89.43it/s]\n",
      "Training =>:  85%|████████▍ | 655/773 [00:07<00:01, 86.22it/s]\n",
      "Training =>:  86%|████████▌ | 665/773 [00:07<00:01, 87.71it/s]\n",
      "Training =>:  87%|████████▋ | 675/773 [00:07<00:01, 89.16it/s]\n",
      "Training =>:  89%|████████▊ | 685/773 [00:07<00:00, 90.05it/s]\n",
      "Training =>:  90%|████████▉ | 695/773 [00:07<00:00, 91.21it/s]\n",
      "Training =>:  91%|█████████ | 705/773 [00:07<00:00, 91.90it/s]\n",
      "Training =>:  92%|█████████▏| 715/773 [00:08<00:00, 91.48it/s]\n",
      "Training =>:  94%|█████████▍| 725/773 [00:08<00:00, 91.34it/s]\n",
      "Training =>:  95%|█████████▌| 735/773 [00:08<00:00, 90.35it/s]\n",
      "Training =>:  96%|█████████▋| 745/773 [00:08<00:00, 89.04it/s]\n",
      "Training =>:  98%|█████████▊| 755/773 [00:08<00:00, 90.01it/s]\n",
      "Training =>:  99%|█████████▉| 765/773 [00:08<00:00, 90.65it/s]\n",
      "100%|██████████| 773/773 [00:08<00:00, 88.28it/s]\n",
      "Training =>: 100%|██████████| 773/773 [00:08<00:00, 88.22it/s]\n"
     ]
    },
    {
     "output_type": "stream",
     "name": "stdout",
     "text": [
      "Saving at epoch 17\n",
      "Epoch: 17 | Total Training Loss: 2.476933240890503 | Pose Training Loss: 0.021577445790171623 | Action Training Loss: 0.3191906809806824 | Action Train Label Accuracy: 86.4621029860704\n"
     ]
    },
    {
     "output_type": "stream",
     "name": "stderr",
     "text": [
      "Testing =>:   0%|          | 0/293 [00:00<?, ?it/s]\n",
      "Testing =>:   7%|▋         | 20/293 [00:00<00:01, 195.24it/s]\n",
      "Testing =>:  14%|█▍        | 42/293 [00:00<00:01, 204.00it/s]\n",
      "Testing =>:  22%|██▏       | 64/293 [00:00<00:01, 208.56it/s]\n",
      "Testing =>:  29%|██▉       | 85/293 [00:00<00:00, 208.22it/s]\n",
      "Testing =>:  36%|███▌      | 106/293 [00:00<00:00, 194.60it/s]\n",
      "Testing =>:  43%|████▎     | 126/293 [00:00<00:00, 189.38it/s]\n",
      "Testing =>:  50%|████▉     | 146/293 [00:00<00:00, 190.97it/s]\n",
      "Testing =>:  57%|█████▋    | 166/293 [00:00<00:00, 190.22it/s]\n",
      "Testing =>:  63%|██████▎   | 186/293 [00:00<00:00, 181.24it/s]\n",
      "Testing =>:  71%|███████   | 207/293 [00:01<00:00, 187.82it/s]\n",
      "Testing =>:  78%|███████▊  | 229/293 [00:01<00:00, 194.93it/s]\n",
      "Testing =>:  85%|████████▌ | 250/293 [00:01<00:00, 198.53it/s]\n",
      "Testing =>:  92%|█████████▏| 270/293 [00:01<00:00, 195.45it/s]\n",
      "Testing =>:  99%|█████████▉| 290/293 [00:01<00:00, 187.98it/s]\n",
      "100%|██████████| 293/293 [00:01<00:00, 192.33it/s]\n",
      "Testing =>: 100%|██████████| 293/293 [00:01<00:00, 191.50it/s]\n"
     ]
    },
    {
     "output_type": "stream",
     "name": "stdout",
     "text": [
      "Epoch: 17 | Total Testing Loss: 2.5408387184143066 | Pose Testing Loss: 0.020494217053055763 | Action Testing Loss: 0.49141648411750793 | Action Test Label Accuracy: 77.32148575088056\n",
      "Starting EPOCH: 19 / 30\n"
     ]
    },
    {
     "output_type": "stream",
     "name": "stderr",
     "text": [
      "Training =>:   0%|          | 0/773 [00:00<?, ?it/s]\n",
      "Training =>:   1%|          | 8/773 [00:00<00:09, 77.89it/s]\n",
      "Training =>:   2%|▏         | 17/773 [00:00<00:09, 80.69it/s]\n",
      "Training =>:   3%|▎         | 26/773 [00:00<00:09, 82.56it/s]\n",
      "Training =>:   5%|▍         | 35/773 [00:00<00:08, 83.39it/s]\n",
      "Training =>:   6%|▌         | 44/773 [00:00<00:08, 84.06it/s]\n",
      "Training =>:   7%|▋         | 53/773 [00:00<00:08, 84.50it/s]\n",
      "Training =>:   8%|▊         | 62/773 [00:00<00:08, 85.47it/s]\n",
      "Training =>:   9%|▉         | 71/773 [00:00<00:08, 84.92it/s]\n",
      "Training =>:  10%|█         | 80/773 [00:00<00:08, 83.17it/s]\n",
      "Training =>:  12%|█▏        | 89/773 [00:01<00:08, 83.72it/s]\n",
      "Training =>:  13%|█▎        | 98/773 [00:01<00:08, 83.51it/s]\n",
      "Training =>:  14%|█▍        | 107/773 [00:01<00:07, 83.85it/s]\n",
      "Training =>:  15%|█▌        | 116/773 [00:01<00:07, 83.11it/s]\n",
      "Training =>:  16%|█▌        | 125/773 [00:01<00:07, 82.76it/s]\n",
      "Training =>:  17%|█▋        | 134/773 [00:01<00:07, 84.11it/s]\n",
      "Training =>:  18%|█▊        | 143/773 [00:01<00:07, 85.27it/s]\n",
      "Training =>:  20%|█▉        | 152/773 [00:01<00:07, 86.09it/s]\n",
      "Training =>:  21%|██        | 161/773 [00:01<00:07, 85.74it/s]\n",
      "Training =>:  22%|██▏       | 170/773 [00:02<00:07, 85.54it/s]\n",
      "Training =>:  23%|██▎       | 179/773 [00:02<00:06, 85.98it/s]\n",
      "Training =>:  24%|██▍       | 188/773 [00:02<00:06, 86.79it/s]\n",
      "Training =>:  25%|██▌       | 197/773 [00:02<00:06, 87.43it/s]\n",
      "Training =>:  27%|██▋       | 206/773 [00:02<00:06, 87.98it/s]\n",
      "Training =>:  28%|██▊       | 215/773 [00:02<00:06, 88.08it/s]\n",
      "Training =>:  29%|██▉       | 224/773 [00:02<00:06, 87.61it/s]\n",
      "Training =>:  30%|███       | 233/773 [00:02<00:06, 87.14it/s]\n",
      "Training =>:  31%|███▏      | 242/773 [00:02<00:06, 87.36it/s]\n",
      "Training =>:  32%|███▏      | 251/773 [00:02<00:05, 87.92it/s]\n",
      "Training =>:  34%|███▎      | 260/773 [00:03<00:05, 87.94it/s]\n",
      "Training =>:  35%|███▍      | 270/773 [00:03<00:05, 88.89it/s]\n",
      "Training =>:  36%|███▌      | 280/773 [00:03<00:05, 89.39it/s]\n",
      "Training =>:  38%|███▊      | 290/773 [00:03<00:05, 89.80it/s]\n",
      "Training =>:  39%|███▊      | 299/773 [00:03<00:05, 89.65it/s]\n",
      "Training =>:  40%|███▉      | 308/773 [00:03<00:05, 88.67it/s]\n",
      "Training =>:  41%|████      | 317/773 [00:03<00:05, 88.65it/s]\n",
      "Training =>:  42%|████▏     | 326/773 [00:03<00:05, 88.65it/s]\n",
      "Training =>:  43%|████▎     | 335/773 [00:03<00:04, 88.25it/s]\n",
      "Training =>:  45%|████▍     | 344/773 [00:03<00:04, 86.77it/s]\n",
      "Training =>:  46%|████▌     | 354/773 [00:04<00:04, 88.18it/s]\n",
      "Training =>:  47%|████▋     | 363/773 [00:04<00:04, 88.68it/s]\n",
      "Training =>:  48%|████▊     | 373/773 [00:04<00:04, 89.36it/s]\n",
      "Training =>:  49%|████▉     | 382/773 [00:04<00:04, 88.77it/s]\n",
      "Training =>:  51%|█████     | 391/773 [00:04<00:04, 87.94it/s]\n",
      "Training =>:  52%|█████▏    | 400/773 [00:04<00:04, 87.71it/s]\n",
      "Training =>:  53%|█████▎    | 410/773 [00:04<00:04, 88.84it/s]\n",
      "Training =>:  54%|█████▍    | 419/773 [00:04<00:04, 87.20it/s]\n",
      "Training =>:  55%|█████▌    | 428/773 [00:04<00:04, 85.45it/s]\n",
      "Training =>:  57%|█████▋    | 437/773 [00:05<00:03, 86.09it/s]\n",
      "Training =>:  58%|█████▊    | 446/773 [00:05<00:03, 86.65it/s]\n",
      "Training =>:  59%|█████▉    | 455/773 [00:05<00:03, 86.76it/s]\n",
      "Training =>:  60%|██████    | 464/773 [00:05<00:03, 87.24it/s]\n",
      "Training =>:  61%|██████    | 473/773 [00:05<00:03, 87.75it/s]\n",
      "Training =>:  62%|██████▏   | 482/773 [00:05<00:03, 88.18it/s]\n",
      "Training =>:  64%|██████▎   | 491/773 [00:05<00:03, 88.11it/s]\n",
      "Training =>:  65%|██████▍   | 500/773 [00:05<00:03, 86.78it/s]\n",
      "Training =>:  66%|██████▌   | 509/773 [00:05<00:03, 83.69it/s]\n",
      "Training =>:  67%|██████▋   | 518/773 [00:05<00:03, 82.83it/s]\n",
      "Training =>:  68%|██████▊   | 527/773 [00:06<00:02, 84.80it/s]\n",
      "Training =>:  69%|██████▉   | 537/773 [00:06<00:02, 86.86it/s]\n",
      "Training =>:  71%|███████   | 547/773 [00:06<00:02, 88.29it/s]\n",
      "Training =>:  72%|███████▏  | 556/773 [00:06<00:02, 88.31it/s]\n",
      "Training =>:  73%|███████▎  | 565/773 [00:06<00:02, 88.19it/s]\n",
      "Training =>:  74%|███████▍  | 575/773 [00:06<00:02, 88.93it/s]\n",
      "Training =>:  76%|███████▌  | 585/773 [00:06<00:02, 89.69it/s]\n",
      "Training =>:  77%|███████▋  | 594/773 [00:06<00:02, 89.26it/s]\n",
      "Training =>:  78%|███████▊  | 603/773 [00:06<00:01, 88.51it/s]\n",
      "Training =>:  79%|███████▉  | 612/773 [00:07<00:01, 88.82it/s]\n",
      "Training =>:  80%|████████  | 622/773 [00:07<00:01, 89.50it/s]\n",
      "Training =>:  82%|████████▏ | 631/773 [00:07<00:01, 89.37it/s]\n",
      "Training =>:  83%|████████▎ | 640/773 [00:07<00:01, 89.24it/s]\n",
      "Training =>:  84%|████████▍ | 649/773 [00:07<00:01, 88.12it/s]\n",
      "Training =>:  85%|████████▌ | 658/773 [00:07<00:01, 88.56it/s]\n",
      "Training =>:  86%|████████▋ | 667/773 [00:07<00:01, 88.67it/s]\n",
      "Training =>:  87%|████████▋ | 676/773 [00:07<00:01, 88.85it/s]\n",
      "Training =>:  89%|████████▊ | 685/773 [00:07<00:00, 88.52it/s]\n",
      "Training =>:  90%|████████▉ | 694/773 [00:07<00:00, 87.80it/s]\n",
      "Training =>:  91%|█████████ | 704/773 [00:08<00:00, 88.81it/s]\n",
      "Training =>:  92%|█████████▏| 714/773 [00:08<00:00, 89.74it/s]\n",
      "Training =>:  94%|█████████▎| 724/773 [00:08<00:00, 90.03it/s]\n",
      "Training =>:  95%|█████████▍| 733/773 [00:08<00:00, 89.50it/s]\n",
      "Training =>:  96%|█████████▌| 742/773 [00:08<00:00, 89.53it/s]\n",
      "Training =>:  97%|█████████▋| 752/773 [00:08<00:00, 90.19it/s]\n",
      "Training =>:  99%|█████████▊| 762/773 [00:08<00:00, 90.37it/s]\n",
      "100%|██████████| 773/773 [00:08<00:00, 87.27it/s]\n",
      "Training =>: 100%|██████████| 773/773 [00:08<00:00, 87.20it/s]\n"
     ]
    },
    {
     "output_type": "stream",
     "name": "stdout",
     "text": [
      "Saving at epoch 18\n",
      "Epoch: 18 | Total Training Loss: 2.362994432449341 | Pose Training Loss: 0.020540764555335045 | Action Training Loss: 0.30891937017440796 | Action Train Label Accuracy: 86.90839617491862\n"
     ]
    },
    {
     "output_type": "stream",
     "name": "stderr",
     "text": [
      "Testing =>:   0%|          | 0/293 [00:00<?, ?it/s]\n",
      "Testing =>:   7%|▋         | 20/293 [00:00<00:01, 191.66it/s]\n",
      "Testing =>:  14%|█▍        | 41/293 [00:00<00:01, 200.01it/s]\n",
      "Testing =>:  21%|██        | 62/293 [00:00<00:01, 203.56it/s]\n",
      "Testing =>:  28%|██▊       | 83/293 [00:00<00:01, 205.00it/s]\n",
      "Testing =>:  35%|███▌      | 104/293 [00:00<00:00, 205.18it/s]\n",
      "Testing =>:  43%|████▎     | 125/293 [00:00<00:00, 201.35it/s]\n",
      "Testing =>:  50%|████▉     | 146/293 [00:00<00:00, 200.91it/s]\n",
      "Testing =>:  57%|█████▋    | 167/293 [00:00<00:00, 201.75it/s]\n",
      "Testing =>:  64%|██████▍   | 188/293 [00:00<00:00, 201.25it/s]\n",
      "Testing =>:  71%|███████▏  | 209/293 [00:01<00:00, 199.06it/s]\n",
      "Testing =>:  78%|███████▊  | 229/293 [00:01<00:00, 192.00it/s]\n",
      "Testing =>:  85%|████████▍ | 249/293 [00:01<00:00, 187.18it/s]\n",
      "Testing =>:  92%|█████████▏| 269/293 [00:01<00:00, 189.10it/s]\n",
      "Testing =>:  98%|█████████▊| 288/293 [00:01<00:00, 181.05it/s]\n",
      "100%|██████████| 293/293 [00:01<00:00, 193.28it/s]\n",
      "Testing =>: 100%|██████████| 293/293 [00:01<00:00, 192.50it/s]\n"
     ]
    },
    {
     "output_type": "stream",
     "name": "stdout",
     "text": [
      "Epoch: 18 | Total Testing Loss: 2.3972830772399902 | Pose Testing Loss: 0.01918748766183853 | Action Testing Loss: 0.47853341698646545 | Action Test Label Accuracy: 77.42555235350625\n",
      "Starting EPOCH: 20 / 30\n"
     ]
    },
    {
     "output_type": "stream",
     "name": "stderr",
     "text": [
      "Training =>:   0%|          | 0/773 [00:00<?, ?it/s]\n",
      "Training =>:   1%|          | 7/773 [00:00<00:11, 68.84it/s]\n",
      "Training =>:   2%|▏         | 15/773 [00:00<00:10, 72.49it/s]\n",
      "Training =>:   3%|▎         | 24/773 [00:00<00:09, 76.65it/s]\n",
      "Training =>:   4%|▍         | 33/773 [00:00<00:09, 79.40it/s]\n",
      "Training =>:   5%|▌         | 42/773 [00:00<00:09, 80.85it/s]\n",
      "Training =>:   7%|▋         | 51/773 [00:00<00:08, 82.34it/s]\n",
      "Training =>:   8%|▊         | 60/773 [00:00<00:08, 83.18it/s]\n",
      "Training =>:   9%|▉         | 69/773 [00:00<00:08, 83.84it/s]\n",
      "Training =>:  10%|█         | 78/773 [00:00<00:08, 83.12it/s]\n",
      "Training =>:  11%|█▏        | 87/773 [00:01<00:08, 84.65it/s]\n",
      "Training =>:  12%|█▏        | 96/773 [00:01<00:08, 84.29it/s]\n",
      "Training =>:  14%|█▎        | 105/773 [00:01<00:08, 81.01it/s]\n",
      "Training =>:  15%|█▍        | 114/773 [00:01<00:07, 82.93it/s]\n",
      "Training =>:  16%|█▌        | 123/773 [00:01<00:07, 82.86it/s]\n",
      "Training =>:  17%|█▋        | 132/773 [00:01<00:07, 83.45it/s]\n",
      "Training =>:  18%|█▊        | 141/773 [00:01<00:07, 84.06it/s]\n",
      "Training =>:  19%|█▉        | 150/773 [00:01<00:07, 83.60it/s]\n",
      "Training =>:  21%|██        | 159/773 [00:01<00:07, 84.75it/s]\n",
      "Training =>:  22%|██▏       | 168/773 [00:02<00:07, 80.91it/s]\n",
      "Training =>:  23%|██▎       | 177/773 [00:02<00:07, 81.87it/s]\n",
      "Training =>:  24%|██▍       | 186/773 [00:02<00:07, 81.84it/s]\n",
      "Training =>:  25%|██▌       | 195/773 [00:02<00:06, 83.26it/s]\n",
      "Training =>:  26%|██▋       | 204/773 [00:02<00:06, 84.92it/s]\n",
      "Training =>:  28%|██▊       | 213/773 [00:02<00:06, 86.16it/s]\n",
      "Training =>:  29%|██▊       | 222/773 [00:02<00:06, 86.30it/s]\n",
      "Training =>:  30%|██▉       | 231/773 [00:02<00:06, 86.19it/s]\n",
      "Training =>:  31%|███       | 240/773 [00:02<00:06, 85.85it/s]\n",
      "Training =>:  32%|███▏      | 249/773 [00:02<00:06, 85.41it/s]\n",
      "Training =>:  33%|███▎      | 258/773 [00:03<00:05, 86.12it/s]\n",
      "Training =>:  35%|███▍      | 267/773 [00:03<00:05, 85.48it/s]\n",
      "Training =>:  36%|███▌      | 276/773 [00:03<00:05, 85.71it/s]\n",
      "Training =>:  37%|███▋      | 285/773 [00:03<00:05, 85.28it/s]\n",
      "Training =>:  38%|███▊      | 294/773 [00:03<00:05, 85.88it/s]\n",
      "Training =>:  39%|███▉      | 303/773 [00:03<00:05, 86.66it/s]\n",
      "Training =>:  40%|████      | 312/773 [00:03<00:05, 87.01it/s]\n",
      "Training =>:  42%|████▏     | 321/773 [00:03<00:05, 87.36it/s]\n",
      "Training =>:  43%|████▎     | 330/773 [00:03<00:05, 86.40it/s]\n",
      "Training =>:  44%|████▍     | 339/773 [00:04<00:04, 87.19it/s]\n",
      "Training =>:  45%|████▌     | 348/773 [00:04<00:04, 87.43it/s]\n",
      "Training =>:  46%|████▌     | 357/773 [00:04<00:04, 85.65it/s]\n",
      "Training =>:  47%|████▋     | 366/773 [00:04<00:04, 85.64it/s]\n",
      "Training =>:  49%|████▊     | 375/773 [00:04<00:04, 85.32it/s]\n",
      "Training =>:  50%|████▉     | 384/773 [00:04<00:04, 86.24it/s]\n",
      "Training =>:  51%|█████     | 393/773 [00:04<00:04, 87.25it/s]\n",
      "Training =>:  52%|█████▏    | 402/773 [00:04<00:04, 87.88it/s]\n",
      "Training =>:  53%|█████▎    | 411/773 [00:04<00:04, 87.66it/s]\n",
      "Training =>:  54%|█████▍    | 420/773 [00:04<00:04, 87.21it/s]\n",
      "Training =>:  55%|█████▌    | 429/773 [00:05<00:03, 87.74it/s]\n",
      "Training =>:  57%|█████▋    | 438/773 [00:05<00:03, 87.44it/s]\n",
      "Training =>:  58%|█████▊    | 447/773 [00:05<00:03, 87.75it/s]\n",
      "Training =>:  59%|█████▉    | 456/773 [00:05<00:03, 86.85it/s]\n",
      "Training =>:  60%|██████    | 465/773 [00:05<00:03, 87.03it/s]\n",
      "Training =>:  61%|██████▏   | 474/773 [00:05<00:03, 87.88it/s]\n",
      "Training =>:  62%|██████▏   | 483/773 [00:05<00:03, 88.32it/s]\n",
      "Training =>:  64%|██████▎   | 492/773 [00:05<00:03, 88.07it/s]\n",
      "Training =>:  65%|██████▍   | 501/773 [00:05<00:03, 88.19it/s]\n",
      "Training =>:  66%|██████▌   | 510/773 [00:05<00:03, 87.50it/s]\n",
      "Training =>:  67%|██████▋   | 519/773 [00:06<00:02, 87.18it/s]\n",
      "Training =>:  68%|██████▊   | 528/773 [00:06<00:02, 85.54it/s]\n",
      "Training =>:  69%|██████▉   | 537/773 [00:06<00:02, 85.89it/s]\n",
      "Training =>:  71%|███████   | 546/773 [00:06<00:02, 86.78it/s]\n",
      "Training =>:  72%|███████▏  | 556/773 [00:06<00:02, 88.06it/s]\n",
      "Training =>:  73%|███████▎  | 565/773 [00:06<00:02, 88.22it/s]\n",
      "Training =>:  74%|███████▍  | 574/773 [00:06<00:02, 88.27it/s]\n",
      "Training =>:  75%|███████▌  | 583/773 [00:06<00:02, 88.53it/s]\n",
      "Training =>:  77%|███████▋  | 592/773 [00:06<00:02, 87.89it/s]\n",
      "Training =>:  78%|███████▊  | 602/773 [00:07<00:01, 88.72it/s]\n",
      "Training =>:  79%|███████▉  | 611/773 [00:07<00:01, 87.52it/s]\n",
      "Training =>:  80%|████████  | 620/773 [00:07<00:01, 85.17it/s]\n",
      "Training =>:  81%|████████▏ | 629/773 [00:07<00:01, 86.00it/s]\n",
      "Training =>:  83%|████████▎ | 638/773 [00:07<00:01, 86.64it/s]\n",
      "Training =>:  84%|████████▎ | 647/773 [00:07<00:01, 87.23it/s]\n",
      "Training =>:  85%|████████▍ | 656/773 [00:07<00:01, 87.81it/s]\n",
      "Training =>:  86%|████████▌ | 665/773 [00:07<00:01, 88.28it/s]\n",
      "Training =>:  87%|████████▋ | 674/773 [00:07<00:01, 88.11it/s]\n",
      "Training =>:  88%|████████▊ | 683/773 [00:07<00:01, 88.32it/s]\n",
      "Training =>:  90%|████████▉ | 692/773 [00:08<00:00, 87.83it/s]\n",
      "Training =>:  91%|█████████ | 701/773 [00:08<00:00, 87.67it/s]\n",
      "Training =>:  92%|█████████▏| 710/773 [00:08<00:00, 87.11it/s]\n",
      "Training =>:  93%|█████████▎| 719/773 [00:08<00:00, 87.85it/s]\n",
      "Training =>:  94%|█████████▍| 728/773 [00:08<00:00, 88.32it/s]\n",
      "Training =>:  95%|█████████▌| 737/773 [00:08<00:00, 88.68it/s]\n",
      "Training =>:  97%|█████████▋| 747/773 [00:08<00:00, 89.35it/s]\n",
      "Training =>:  98%|█████████▊| 756/773 [00:08<00:00, 88.57it/s]\n",
      "Training =>:  99%|█████████▉| 765/773 [00:08<00:00, 88.32it/s]\n",
      "100%|██████████| 773/773 [00:08<00:00, 85.99it/s]\n",
      "Training =>: 100%|██████████| 773/773 [00:08<00:00, 85.94it/s]\n"
     ]
    },
    {
     "output_type": "stream",
     "name": "stdout",
     "text": [
      "Saving at epoch 19\n",
      "Epoch: 19 | Total Training Loss: 2.25716233253479 | Pose Training Loss: 0.01958383619785309 | Action Training Loss: 0.2987786531448364 | Action Train Label Accuracy: 87.49368214625073\n"
     ]
    },
    {
     "output_type": "stream",
     "name": "stderr",
     "text": [
      "Testing =>:   0%|          | 0/293 [00:00<?, ?it/s]\n",
      "Testing =>:   5%|▌         | 16/293 [00:00<00:01, 159.18it/s]\n",
      "Testing =>:  12%|█▏        | 36/293 [00:00<00:01, 178.32it/s]\n",
      "Testing =>:  19%|█▉        | 56/293 [00:00<00:01, 187.42it/s]\n",
      "Testing =>:  26%|██▋       | 77/293 [00:00<00:01, 195.75it/s]\n",
      "Testing =>:  33%|███▎      | 98/293 [00:00<00:00, 198.99it/s]\n",
      "Testing =>:  41%|████      | 119/293 [00:00<00:00, 202.36it/s]\n",
      "Testing =>:  48%|████▊     | 140/293 [00:00<00:00, 203.03it/s]\n",
      "Testing =>:  55%|█████▍    | 161/293 [00:00<00:00, 201.69it/s]\n",
      "Testing =>:  62%|██████▏   | 182/293 [00:00<00:00, 200.99it/s]\n",
      "Testing =>:  69%|██████▉   | 203/293 [00:01<00:00, 202.44it/s]\n",
      "Testing =>:  76%|███████▋  | 224/293 [00:01<00:00, 202.59it/s]\n",
      "Testing =>:  84%|████████▎ | 245/293 [00:01<00:00, 203.49it/s]\n",
      "Testing =>:  91%|█████████ | 266/293 [00:01<00:00, 204.09it/s]\n",
      "Testing =>:  98%|█████████▊| 287/293 [00:01<00:00, 204.05it/s]\n",
      "100%|██████████| 293/293 [00:01<00:00, 199.63it/s]\n",
      "Testing =>: 100%|██████████| 293/293 [00:01<00:00, 198.92it/s]\n"
     ]
    },
    {
     "output_type": "stream",
     "name": "stdout",
     "text": [
      "Epoch: 19 | Total Testing Loss: 2.3037171363830566 | Pose Testing Loss: 0.018255868926644325 | Action Testing Loss: 0.478129506111145 | Action Test Label Accuracy: 78.09798270893373\n",
      "Starting EPOCH: 21 / 30\n"
     ]
    },
    {
     "output_type": "stream",
     "name": "stderr",
     "text": [
      "Training =>:   0%|          | 0/773 [00:00<?, ?it/s]\n",
      "Training =>:   1%|          | 8/773 [00:00<00:09, 79.53it/s]\n",
      "Training =>:   2%|▏         | 17/773 [00:00<00:09, 83.04it/s]\n",
      "Training =>:   3%|▎         | 26/773 [00:00<00:08, 83.33it/s]\n",
      "Training =>:   5%|▍         | 35/773 [00:00<00:08, 82.96it/s]\n",
      "Training =>:   6%|▌         | 44/773 [00:00<00:09, 80.03it/s]\n",
      "Training =>:   7%|▋         | 53/773 [00:00<00:08, 80.46it/s]\n",
      "Training =>:   8%|▊         | 62/773 [00:00<00:08, 82.04it/s]\n",
      "Training =>:   9%|▉         | 71/773 [00:00<00:08, 83.30it/s]\n",
      "Training =>:  10%|█         | 80/773 [00:00<00:08, 84.32it/s]\n",
      "Training =>:  12%|█▏        | 89/773 [00:01<00:07, 85.65it/s]\n",
      "Training =>:  13%|█▎        | 98/773 [00:01<00:07, 85.66it/s]\n",
      "Training =>:  14%|█▍        | 107/773 [00:01<00:07, 84.52it/s]\n",
      "Training =>:  15%|█▌        | 116/773 [00:01<00:07, 84.00it/s]\n",
      "Training =>:  16%|█▌        | 125/773 [00:01<00:07, 82.37it/s]\n",
      "Training =>:  17%|█▋        | 134/773 [00:01<00:07, 82.78it/s]\n",
      "Training =>:  18%|█▊        | 143/773 [00:01<00:07, 83.83it/s]\n",
      "Training =>:  20%|█▉        | 152/773 [00:01<00:07, 83.12it/s]\n",
      "Training =>:  21%|██        | 161/773 [00:01<00:07, 82.97it/s]\n",
      "Training =>:  22%|██▏       | 170/773 [00:02<00:07, 83.83it/s]\n",
      "Training =>:  23%|██▎       | 179/773 [00:02<00:07, 82.42it/s]\n",
      "Training =>:  24%|██▍       | 188/773 [00:02<00:07, 82.47it/s]\n",
      "Training =>:  25%|██▌       | 197/773 [00:02<00:07, 81.23it/s]\n",
      "Training =>:  27%|██▋       | 206/773 [00:02<00:06, 81.04it/s]\n",
      "Training =>:  28%|██▊       | 215/773 [00:02<00:06, 82.84it/s]\n",
      "Training =>:  29%|██▉       | 224/773 [00:02<00:06, 81.42it/s]\n",
      "Training =>:  30%|███       | 233/773 [00:02<00:06, 82.19it/s]\n",
      "Training =>:  31%|███▏      | 242/773 [00:02<00:06, 82.72it/s]\n",
      "Training =>:  32%|███▏      | 251/773 [00:03<00:06, 84.07it/s]\n",
      "Training =>:  34%|███▎      | 260/773 [00:03<00:06, 85.41it/s]\n",
      "Training =>:  35%|███▍      | 269/773 [00:03<00:05, 86.44it/s]\n",
      "Training =>:  36%|███▌      | 278/773 [00:03<00:05, 86.95it/s]\n",
      "Training =>:  37%|███▋      | 287/773 [00:03<00:05, 86.54it/s]\n",
      "Training =>:  38%|███▊      | 296/773 [00:03<00:05, 86.34it/s]\n",
      "Training =>:  39%|███▉      | 305/773 [00:03<00:05, 87.28it/s]\n",
      "Training =>:  41%|████      | 314/773 [00:03<00:05, 88.05it/s]\n",
      "Training =>:  42%|████▏     | 323/773 [00:03<00:05, 88.21it/s]\n",
      "Training =>:  43%|████▎     | 332/773 [00:03<00:05, 87.84it/s]\n",
      "Training =>:  44%|████▍     | 341/773 [00:04<00:04, 88.10it/s]\n",
      "Training =>:  45%|████▌     | 350/773 [00:04<00:04, 87.22it/s]\n",
      "Training =>:  46%|████▋     | 359/773 [00:04<00:04, 87.81it/s]\n",
      "Training =>:  48%|████▊     | 368/773 [00:04<00:04, 87.82it/s]\n",
      "Training =>:  49%|████▉     | 377/773 [00:04<00:04, 87.33it/s]\n",
      "Training =>:  50%|████▉     | 386/773 [00:04<00:04, 87.61it/s]\n",
      "Training =>:  51%|█████     | 395/773 [00:04<00:04, 87.82it/s]\n",
      "Training =>:  52%|█████▏    | 404/773 [00:04<00:04, 87.91it/s]\n",
      "Training =>:  53%|█████▎    | 413/773 [00:04<00:04, 87.70it/s]\n",
      "Training =>:  55%|█████▍    | 422/773 [00:04<00:03, 87.86it/s]\n",
      "Training =>:  56%|█████▌    | 431/773 [00:05<00:03, 87.39it/s]\n",
      "Training =>:  57%|█████▋    | 440/773 [00:05<00:03, 87.32it/s]\n",
      "Training =>:  58%|█████▊    | 449/773 [00:05<00:03, 87.64it/s]\n",
      "Training =>:  59%|█████▉    | 458/773 [00:05<00:03, 86.88it/s]\n",
      "Training =>:  60%|██████    | 467/773 [00:05<00:03, 84.70it/s]\n",
      "Training =>:  62%|██████▏   | 476/773 [00:05<00:03, 85.27it/s]\n",
      "Training =>:  63%|██████▎   | 485/773 [00:05<00:03, 85.72it/s]\n",
      "Training =>:  64%|██████▍   | 494/773 [00:05<00:03, 86.62it/s]\n",
      "Training =>:  65%|██████▌   | 503/773 [00:05<00:03, 87.50it/s]\n",
      "Training =>:  66%|██████▌   | 512/773 [00:06<00:03, 86.49it/s]\n",
      "Training =>:  67%|██████▋   | 521/773 [00:06<00:02, 87.28it/s]\n",
      "Training =>:  69%|██████▊   | 530/773 [00:06<00:02, 87.37it/s]\n",
      "Training =>:  70%|██████▉   | 539/773 [00:06<00:02, 87.13it/s]\n",
      "Training =>:  71%|███████   | 548/773 [00:06<00:02, 85.97it/s]\n",
      "Training =>:  72%|███████▏  | 557/773 [00:06<00:02, 86.37it/s]\n",
      "Training =>:  73%|███████▎  | 566/773 [00:06<00:02, 87.27it/s]\n",
      "Training =>:  75%|███████▍  | 576/773 [00:06<00:02, 88.41it/s]\n",
      "Training =>:  76%|███████▌  | 585/773 [00:06<00:02, 88.35it/s]\n",
      "Training =>:  77%|███████▋  | 594/773 [00:06<00:02, 88.10it/s]\n",
      "Training =>:  78%|███████▊  | 603/773 [00:07<00:01, 88.57it/s]\n",
      "Training =>:  79%|███████▉  | 612/773 [00:07<00:01, 87.95it/s]\n",
      "Training =>:  80%|████████  | 621/773 [00:07<00:01, 88.38it/s]\n",
      "Training =>:  82%|████████▏ | 630/773 [00:07<00:01, 88.61it/s]\n",
      "Training =>:  83%|████████▎ | 639/773 [00:07<00:01, 87.07it/s]\n",
      "Training =>:  84%|████████▍ | 648/773 [00:07<00:01, 87.01it/s]\n",
      "Training =>:  85%|████████▍ | 657/773 [00:07<00:01, 87.65it/s]\n",
      "Training =>:  86%|████████▌ | 666/773 [00:07<00:01, 88.26it/s]\n",
      "Training =>:  87%|████████▋ | 675/773 [00:07<00:01, 88.67it/s]\n",
      "Training =>:  88%|████████▊ | 684/773 [00:07<00:01, 88.80it/s]\n",
      "Training =>:  90%|████████▉ | 693/773 [00:08<00:00, 88.54it/s]\n",
      "Training =>:  91%|█████████ | 702/773 [00:08<00:00, 88.09it/s]\n",
      "Training =>:  92%|█████████▏| 711/773 [00:08<00:00, 88.37it/s]\n",
      "Training =>:  93%|█████████▎| 720/773 [00:08<00:00, 88.67it/s]\n",
      "Training =>:  94%|█████████▍| 729/773 [00:08<00:00, 86.63it/s]\n",
      "Training =>:  95%|█████████▌| 738/773 [00:08<00:00, 87.14it/s]\n",
      "Training =>:  97%|█████████▋| 747/773 [00:08<00:00, 87.80it/s]\n",
      "Training =>:  98%|█████████▊| 756/773 [00:08<00:00, 88.11it/s]\n",
      "Training =>:  99%|█████████▉| 765/773 [00:08<00:00, 88.65it/s]\n",
      "100%|██████████| 773/773 [00:08<00:00, 86.04it/s]\n",
      "Training =>: 100%|██████████| 773/773 [00:08<00:00, 85.98it/s]\n"
     ]
    },
    {
     "output_type": "stream",
     "name": "stdout",
     "text": [
      "Saving at epoch 20\n",
      "Epoch: 20 | Total Training Loss: 2.1603875160217285 | Pose Training Loss: 0.018710605800151825 | Action Training Loss: 0.28932762145996094 | Action Train Label Accuracy: 88.05672927238541\n"
     ]
    },
    {
     "output_type": "stream",
     "name": "stderr",
     "text": [
      "Testing =>:   0%|          | 0/293 [00:00<?, ?it/s]\n",
      "Testing =>:   6%|▋         | 19/293 [00:00<00:01, 188.87it/s]\n",
      "Testing =>:  14%|█▎        | 40/293 [00:00<00:01, 199.73it/s]\n",
      "Testing =>:  21%|██        | 61/293 [00:00<00:01, 203.77it/s]\n",
      "Testing =>:  28%|██▊       | 82/293 [00:00<00:01, 204.16it/s]\n",
      "Testing =>:  35%|███▌      | 103/293 [00:00<00:00, 200.72it/s]\n",
      "Testing =>:  42%|████▏     | 124/293 [00:00<00:00, 201.93it/s]\n",
      "Testing =>:  49%|████▉     | 145/293 [00:00<00:00, 201.10it/s]\n",
      "Testing =>:  57%|█████▋    | 166/293 [00:00<00:00, 202.08it/s]\n",
      "Testing =>:  64%|██████▍   | 187/293 [00:00<00:00, 202.39it/s]\n",
      "Testing =>:  71%|███████   | 208/293 [00:01<00:00, 203.46it/s]\n",
      "Testing =>:  78%|███████▊  | 229/293 [00:01<00:00, 202.30it/s]\n",
      "Testing =>:  85%|████████▌ | 250/293 [00:01<00:00, 203.71it/s]\n",
      "Testing =>:  92%|█████████▏| 271/293 [00:01<00:00, 203.41it/s]\n",
      "Testing =>: 100%|█████████▉| 292/293 [00:01<00:00, 202.95it/s]\n",
      "100%|██████████| 293/293 [00:01<00:00, 202.03it/s]\n",
      "Testing =>: 100%|██████████| 293/293 [00:01<00:00, 201.29it/s]\n"
     ]
    },
    {
     "output_type": "stream",
     "name": "stdout",
     "text": [
      "Epoch: 20 | Total Testing Loss: 2.202420473098755 | Pose Testing Loss: 0.0172923244535923 | Action Testing Loss: 0.4731874167919159 | Action Test Label Accuracy: 78.80910449354253\n",
      "Starting EPOCH: 22 / 30\n"
     ]
    },
    {
     "output_type": "stream",
     "name": "stderr",
     "text": [
      "Training =>:   0%|          | 0/773 [00:00<?, ?it/s]\n",
      "Training =>:   1%|          | 8/773 [00:00<00:09, 79.49it/s]\n",
      "Training =>:   2%|▏         | 17/773 [00:00<00:09, 81.28it/s]\n",
      "Training =>:   3%|▎         | 26/773 [00:00<00:08, 83.90it/s]\n",
      "Training =>:   5%|▍         | 35/773 [00:00<00:08, 84.57it/s]\n",
      "Training =>:   6%|▌         | 44/773 [00:00<00:08, 85.15it/s]\n",
      "Training =>:   7%|▋         | 53/773 [00:00<00:08, 82.70it/s]\n",
      "Training =>:   8%|▊         | 62/773 [00:00<00:08, 83.40it/s]\n",
      "Training =>:   9%|▉         | 71/773 [00:00<00:08, 84.16it/s]\n",
      "Training =>:  10%|█         | 80/773 [00:00<00:08, 84.83it/s]\n",
      "Training =>:  12%|█▏        | 89/773 [00:01<00:07, 85.57it/s]\n",
      "Training =>:  13%|█▎        | 98/773 [00:01<00:07, 85.83it/s]\n",
      "Training =>:  14%|█▍        | 107/773 [00:01<00:07, 85.50it/s]\n",
      "Training =>:  15%|█▌        | 116/773 [00:01<00:07, 84.76it/s]\n",
      "Training =>:  16%|█▌        | 125/773 [00:01<00:07, 85.46it/s]\n",
      "Training =>:  17%|█▋        | 134/773 [00:01<00:07, 86.43it/s]\n",
      "Training =>:  19%|█▊        | 144/773 [00:01<00:07, 87.88it/s]\n",
      "Training =>:  20%|█▉        | 153/773 [00:01<00:07, 88.24it/s]\n",
      "Training =>:  21%|██        | 162/773 [00:01<00:06, 87.66it/s]\n",
      "Training =>:  22%|██▏       | 171/773 [00:01<00:06, 87.87it/s]\n",
      "Training =>:  23%|██▎       | 181/773 [00:02<00:06, 88.93it/s]\n",
      "Training =>:  25%|██▍       | 190/773 [00:02<00:06, 87.06it/s]\n",
      "Training =>:  26%|██▌       | 199/773 [00:02<00:06, 84.35it/s]\n",
      "Training =>:  27%|██▋       | 208/773 [00:02<00:06, 84.67it/s]\n",
      "Training =>:  28%|██▊       | 218/773 [00:02<00:06, 86.56it/s]\n",
      "Training =>:  29%|██▉       | 227/773 [00:02<00:06, 87.32it/s]\n",
      "Training =>:  31%|███       | 236/773 [00:02<00:06, 86.08it/s]\n",
      "Training =>:  32%|███▏      | 245/773 [00:02<00:06, 86.09it/s]\n",
      "Training =>:  33%|███▎      | 254/773 [00:02<00:05, 86.96it/s]\n",
      "Training =>:  34%|███▍      | 264/773 [00:03<00:05, 88.13it/s]\n",
      "Training =>:  35%|███▌      | 274/773 [00:03<00:05, 89.10it/s]\n",
      "Training =>:  37%|███▋      | 284/773 [00:03<00:05, 89.36it/s]\n",
      "Training =>:  38%|███▊      | 293/773 [00:03<00:05, 89.48it/s]\n",
      "Training =>:  39%|███▉      | 303/773 [00:03<00:05, 89.95it/s]\n",
      "Training =>:  40%|████      | 313/773 [00:03<00:05, 90.57it/s]\n",
      "Training =>:  42%|████▏     | 323/773 [00:03<00:04, 90.74it/s]\n",
      "Training =>:  43%|████▎     | 333/773 [00:03<00:04, 90.67it/s]\n",
      "Training =>:  44%|████▍     | 343/773 [00:03<00:04, 89.66it/s]\n",
      "Training =>:  46%|████▌     | 352/773 [00:04<00:04, 89.34it/s]\n",
      "Training =>:  47%|████▋     | 361/773 [00:04<00:04, 89.26it/s]\n",
      "Training =>:  48%|████▊     | 370/773 [00:04<00:04, 88.56it/s]\n",
      "Training =>:  49%|████▉     | 380/773 [00:04<00:04, 89.41it/s]\n",
      "Training =>:  50%|█████     | 389/773 [00:04<00:04, 89.46it/s]\n",
      "Training =>:  51%|█████▏    | 398/773 [00:04<00:04, 89.59it/s]\n",
      "Training =>:  53%|█████▎    | 408/773 [00:04<00:04, 90.36it/s]\n",
      "Training =>:  54%|█████▍    | 418/773 [00:04<00:03, 91.03it/s]\n",
      "Training =>:  55%|█████▌    | 428/773 [00:04<00:03, 90.64it/s]\n",
      "Training =>:  57%|█████▋    | 438/773 [00:04<00:03, 90.18it/s]\n",
      "Training =>:  58%|█████▊    | 448/773 [00:05<00:03, 90.56it/s]\n",
      "Training =>:  59%|█████▉    | 458/773 [00:05<00:03, 90.15it/s]\n",
      "Training =>:  61%|██████    | 468/773 [00:05<00:03, 89.05it/s]\n",
      "Training =>:  62%|██████▏   | 478/773 [00:05<00:03, 89.73it/s]\n",
      "Training =>:  63%|██████▎   | 488/773 [00:05<00:03, 90.14it/s]\n",
      "Training =>:  64%|██████▍   | 498/773 [00:05<00:03, 90.66it/s]\n",
      "Training =>:  66%|██████▌   | 508/773 [00:05<00:02, 90.99it/s]\n",
      "Training =>:  67%|██████▋   | 518/773 [00:05<00:02, 91.32it/s]\n",
      "Training =>:  68%|██████▊   | 528/773 [00:05<00:02, 91.08it/s]\n",
      "Training =>:  70%|██████▉   | 538/773 [00:06<00:02, 91.26it/s]\n",
      "Training =>:  71%|███████   | 548/773 [00:06<00:02, 89.65it/s]\n",
      "Training =>:  72%|███████▏  | 557/773 [00:06<00:02, 89.29it/s]\n",
      "Training =>:  73%|███████▎  | 566/773 [00:06<00:02, 89.44it/s]\n",
      "Training =>:  75%|███████▍  | 576/773 [00:06<00:02, 89.91it/s]\n",
      "Training =>:  76%|███████▌  | 586/773 [00:06<00:02, 90.28it/s]\n",
      "Training =>:  77%|███████▋  | 596/773 [00:06<00:01, 90.38it/s]\n",
      "Training =>:  78%|███████▊  | 606/773 [00:06<00:01, 91.14it/s]\n",
      "Training =>:  80%|███████▉  | 616/773 [00:06<00:01, 91.02it/s]\n",
      "Training =>:  81%|████████  | 626/773 [00:07<00:01, 90.38it/s]\n",
      "Training =>:  82%|████████▏ | 636/773 [00:07<00:01, 89.51it/s]\n",
      "Training =>:  83%|████████▎ | 645/773 [00:07<00:01, 89.47it/s]\n",
      "Training =>:  85%|████████▍ | 655/773 [00:07<00:01, 90.00it/s]\n",
      "Training =>:  86%|████████▌ | 665/773 [00:07<00:01, 90.07it/s]\n",
      "Training =>:  87%|████████▋ | 675/773 [00:07<00:01, 90.36it/s]\n",
      "Training =>:  89%|████████▊ | 685/773 [00:07<00:00, 90.59it/s]\n",
      "Training =>:  90%|████████▉ | 695/773 [00:07<00:00, 90.35it/s]\n",
      "Training =>:  91%|█████████ | 705/773 [00:07<00:00, 90.85it/s]\n",
      "Training =>:  92%|█████████▏| 715/773 [00:08<00:00, 90.85it/s]\n",
      "Training =>:  94%|█████████▍| 725/773 [00:08<00:00, 91.10it/s]\n",
      "Training =>:  95%|█████████▌| 735/773 [00:08<00:00, 90.87it/s]\n",
      "Training =>:  96%|█████████▋| 745/773 [00:08<00:00, 90.87it/s]\n",
      "Training =>:  98%|█████████▊| 755/773 [00:08<00:00, 91.46it/s]\n",
      "Training =>:  99%|█████████▉| 765/773 [00:08<00:00, 91.46it/s]\n",
      "100%|██████████| 773/773 [00:08<00:00, 88.83it/s]\n",
      "Training =>: 100%|██████████| 773/773 [00:08<00:00, 88.77it/s]\n"
     ]
    },
    {
     "output_type": "stream",
     "name": "stdout",
     "text": [
      "Saving at epoch 21\n",
      "Epoch: 21 | Total Training Loss: 2.0820534229278564 | Pose Training Loss: 0.01801444962620735 | Action Training Loss: 0.28060972690582275 | Action Train Label Accuracy: 88.46966419343751\n"
     ]
    },
    {
     "output_type": "stream",
     "name": "stderr",
     "text": [
      "Testing =>:   0%|          | 0/293 [00:00<?, ?it/s]\n",
      "Testing =>:   7%|▋         | 21/293 [00:00<00:01, 204.41it/s]\n",
      "Testing =>:  14%|█▍        | 42/293 [00:00<00:01, 207.29it/s]\n",
      "Testing =>:  22%|██▏       | 63/293 [00:00<00:01, 207.15it/s]\n",
      "Testing =>:  29%|██▊       | 84/293 [00:00<00:01, 194.30it/s]\n",
      "Testing =>:  36%|███▌      | 105/293 [00:00<00:00, 198.30it/s]\n",
      "Testing =>:  43%|████▎     | 126/293 [00:00<00:00, 201.21it/s]\n",
      "Testing =>:  50%|█████     | 147/293 [00:00<00:00, 202.11it/s]\n",
      "Testing =>:  57%|█████▋    | 168/293 [00:00<00:00, 202.24it/s]\n",
      "Testing =>:  65%|██████▍   | 190/293 [00:00<00:00, 204.82it/s]\n",
      "Testing =>:  72%|███████▏  | 212/293 [00:01<00:00, 206.97it/s]\n",
      "Testing =>:  80%|███████▉  | 233/293 [00:01<00:00, 206.04it/s]\n",
      "Testing =>:  87%|████████▋ | 254/293 [00:01<00:00, 205.83it/s]\n",
      "Testing =>:  94%|█████████▍| 275/293 [00:01<00:00, 205.55it/s]\n",
      "100%|██████████| 293/293 [00:01<00:00, 204.15it/s]\n",
      "Testing =>: 100%|██████████| 293/293 [00:01<00:00, 203.59it/s]\n"
     ]
    },
    {
     "output_type": "stream",
     "name": "stdout",
     "text": [
      "Epoch: 21 | Total Testing Loss: 2.146014928817749 | Pose Testing Loss: 0.016673142090439796 | Action Testing Loss: 0.4787006378173828 | Action Test Label Accuracy: 78.93318390436545\n",
      "Starting EPOCH: 23 / 30\n"
     ]
    },
    {
     "output_type": "stream",
     "name": "stderr",
     "text": [
      "Training =>:   0%|          | 0/773 [00:00<?, ?it/s]\n",
      "Training =>:   1%|          | 8/773 [00:00<00:09, 78.17it/s]\n",
      "Training =>:   2%|▏         | 17/773 [00:00<00:09, 83.82it/s]\n",
      "Training =>:   3%|▎         | 26/773 [00:00<00:08, 86.09it/s]\n",
      "Training =>:   5%|▍         | 35/773 [00:00<00:08, 86.58it/s]\n",
      "Training =>:   6%|▌         | 44/773 [00:00<00:08, 86.09it/s]\n",
      "Training =>:   7%|▋         | 53/773 [00:00<00:08, 86.54it/s]\n",
      "Training =>:   8%|▊         | 62/773 [00:00<00:08, 87.36it/s]\n",
      "Training =>:   9%|▉         | 71/773 [00:00<00:07, 87.76it/s]\n",
      "Training =>:  10%|█         | 80/773 [00:00<00:07, 87.47it/s]\n",
      "Training =>:  12%|█▏        | 89/773 [00:01<00:07, 87.99it/s]\n",
      "Training =>:  13%|█▎        | 98/773 [00:01<00:07, 87.55it/s]\n",
      "Training =>:  14%|█▍        | 107/773 [00:01<00:07, 87.95it/s]\n",
      "Training =>:  15%|█▌        | 116/773 [00:01<00:07, 88.16it/s]\n",
      "Training =>:  16%|█▌        | 125/773 [00:01<00:07, 87.82it/s]\n",
      "Training =>:  17%|█▋        | 134/773 [00:01<00:07, 87.72it/s]\n",
      "Training =>:  18%|█▊        | 143/773 [00:01<00:07, 87.07it/s]\n",
      "Training =>:  20%|█▉        | 152/773 [00:01<00:07, 87.04it/s]\n",
      "Training =>:  21%|██        | 161/773 [00:01<00:07, 84.28it/s]\n",
      "Training =>:  22%|██▏       | 170/773 [00:01<00:07, 84.67it/s]\n",
      "Training =>:  23%|██▎       | 179/773 [00:02<00:06, 85.96it/s]\n",
      "Training =>:  24%|██▍       | 189/773 [00:02<00:06, 87.57it/s]\n",
      "Training =>:  26%|██▌       | 198/773 [00:02<00:06, 86.55it/s]\n",
      "Training =>:  27%|██▋       | 207/773 [00:02<00:06, 86.84it/s]\n",
      "Training =>:  28%|██▊       | 216/773 [00:02<00:06, 86.49it/s]\n",
      "Training =>:  29%|██▉       | 225/773 [00:02<00:06, 85.87it/s]\n",
      "Training =>:  30%|███       | 235/773 [00:02<00:06, 87.38it/s]\n",
      "Training =>:  32%|███▏      | 244/773 [00:02<00:06, 87.42it/s]\n",
      "Training =>:  33%|███▎      | 253/773 [00:02<00:05, 87.40it/s]\n",
      "Training =>:  34%|███▍      | 262/773 [00:03<00:05, 87.07it/s]\n",
      "Training =>:  35%|███▌      | 271/773 [00:03<00:05, 86.08it/s]\n",
      "Training =>:  36%|███▌      | 280/773 [00:03<00:05, 85.88it/s]\n",
      "Training =>:  37%|███▋      | 289/773 [00:03<00:05, 86.12it/s]\n",
      "Training =>:  39%|███▊      | 298/773 [00:03<00:05, 86.17it/s]\n",
      "Training =>:  40%|███▉      | 307/773 [00:03<00:05, 86.44it/s]\n",
      "Training =>:  41%|████      | 316/773 [00:03<00:05, 86.93it/s]\n",
      "Training =>:  42%|████▏     | 325/773 [00:03<00:05, 86.74it/s]\n",
      "Training =>:  43%|████▎     | 334/773 [00:03<00:05, 85.70it/s]\n",
      "Training =>:  44%|████▍     | 343/773 [00:03<00:04, 86.44it/s]\n",
      "Training =>:  46%|████▌     | 352/773 [00:04<00:04, 86.72it/s]\n",
      "Training =>:  47%|████▋     | 361/773 [00:04<00:04, 87.14it/s]\n",
      "Training =>:  48%|████▊     | 370/773 [00:04<00:04, 87.32it/s]\n",
      "Training =>:  49%|████▉     | 379/773 [00:04<00:04, 87.34it/s]\n",
      "Training =>:  50%|█████     | 388/773 [00:04<00:04, 87.19it/s]\n",
      "Training =>:  51%|█████▏    | 397/773 [00:04<00:04, 87.07it/s]\n",
      "Training =>:  53%|█████▎    | 406/773 [00:04<00:04, 87.72it/s]\n",
      "Training =>:  54%|█████▎    | 415/773 [00:04<00:04, 88.11it/s]\n",
      "Training =>:  55%|█████▍    | 424/773 [00:04<00:03, 88.19it/s]\n",
      "Training =>:  56%|█████▌    | 433/773 [00:04<00:03, 86.52it/s]\n",
      "Training =>:  57%|█████▋    | 443/773 [00:05<00:03, 88.02it/s]\n",
      "Training =>:  58%|█████▊    | 452/773 [00:05<00:03, 87.85it/s]\n",
      "Training =>:  60%|█████▉    | 461/773 [00:05<00:03, 88.13it/s]\n",
      "Training =>:  61%|██████    | 470/773 [00:05<00:03, 88.05it/s]\n",
      "Training =>:  62%|██████▏   | 479/773 [00:05<00:03, 88.53it/s]\n",
      "Training =>:  63%|██████▎   | 488/773 [00:05<00:03, 88.00it/s]\n",
      "Training =>:  64%|██████▍   | 498/773 [00:05<00:03, 88.92it/s]\n",
      "Training =>:  66%|██████▌   | 507/773 [00:05<00:03, 88.40it/s]\n",
      "Training =>:  67%|██████▋   | 516/773 [00:05<00:02, 88.01it/s]\n",
      "Training =>:  68%|██████▊   | 525/773 [00:06<00:02, 87.57it/s]\n",
      "Training =>:  69%|██████▉   | 534/773 [00:06<00:02, 88.04it/s]\n",
      "Training =>:  70%|███████   | 543/773 [00:06<00:02, 88.52it/s]\n",
      "Training =>:  72%|███████▏  | 553/773 [00:06<00:02, 89.29it/s]\n",
      "Training =>:  73%|███████▎  | 562/773 [00:06<00:02, 88.99it/s]\n",
      "Training =>:  74%|███████▍  | 571/773 [00:06<00:02, 87.96it/s]\n",
      "Training =>:  75%|███████▌  | 580/773 [00:06<00:02, 88.07it/s]\n",
      "Training =>:  76%|███████▌  | 589/773 [00:06<00:02, 88.34it/s]\n",
      "Training =>:  77%|███████▋  | 598/773 [00:06<00:01, 88.50it/s]\n",
      "Training =>:  79%|███████▊  | 607/773 [00:06<00:01, 88.15it/s]\n",
      "Training =>:  80%|███████▉  | 616/773 [00:07<00:01, 88.08it/s]\n",
      "Training =>:  81%|████████  | 625/773 [00:07<00:01, 88.63it/s]\n",
      "Training =>:  82%|████████▏ | 635/773 [00:07<00:01, 89.26it/s]\n",
      "Training =>:  83%|████████▎ | 644/773 [00:07<00:01, 89.38it/s]\n",
      "Training =>:  85%|████████▍ | 654/773 [00:07<00:01, 89.84it/s]\n",
      "Training =>:  86%|████████▌ | 663/773 [00:07<00:01, 89.47it/s]\n",
      "Training =>:  87%|████████▋ | 672/773 [00:07<00:01, 89.21it/s]\n",
      "Training =>:  88%|████████▊ | 681/773 [00:07<00:01, 89.11it/s]\n",
      "Training =>:  89%|████████▉ | 690/773 [00:07<00:00, 87.11it/s]\n",
      "Training =>:  90%|█████████ | 699/773 [00:07<00:00, 87.05it/s]\n",
      "Training =>:  92%|█████████▏| 709/773 [00:08<00:00, 88.58it/s]\n",
      "Training =>:  93%|█████████▎| 718/773 [00:08<00:00, 88.89it/s]\n",
      "Training =>:  94%|█████████▍| 728/773 [00:08<00:00, 89.71it/s]\n",
      "Training =>:  95%|█████████▌| 738/773 [00:08<00:00, 90.19it/s]\n",
      "Training =>:  97%|█████████▋| 748/773 [00:08<00:00, 90.20it/s]\n",
      "Training =>:  98%|█████████▊| 758/773 [00:08<00:00, 89.52it/s]\n",
      "Training =>:  99%|█████████▉| 767/773 [00:08<00:00, 89.50it/s]\n",
      "100%|██████████| 773/773 [00:08<00:00, 87.66it/s]\n",
      "Training =>: 100%|██████████| 773/773 [00:08<00:00, 87.61it/s]\n"
     ]
    },
    {
     "output_type": "stream",
     "name": "stdout",
     "text": [
      "Saving at epoch 22\n",
      "Epoch: 22 | Total Training Loss: 2.014954090118408 | Pose Training Loss: 0.017418377101421356 | Action Training Loss: 0.2731166481971741 | Action Train Label Accuracy: 88.80071972989911\n"
     ]
    },
    {
     "output_type": "stream",
     "name": "stderr",
     "text": [
      "Testing =>:   0%|          | 0/293 [00:00<?, ?it/s]\n",
      "Testing =>:   6%|▌         | 18/293 [00:00<00:01, 178.42it/s]\n",
      "Testing =>:  13%|█▎        | 39/293 [00:00<00:01, 196.71it/s]\n",
      "Testing =>:  20%|██        | 60/293 [00:00<00:01, 200.31it/s]\n",
      "Testing =>:  28%|██▊       | 82/293 [00:00<00:01, 204.99it/s]\n",
      "Testing =>:  35%|███▌      | 103/293 [00:00<00:00, 204.60it/s]\n",
      "Testing =>:  42%|████▏     | 124/293 [00:00<00:00, 202.80it/s]\n",
      "Testing =>:  49%|████▉     | 145/293 [00:00<00:00, 201.86it/s]\n",
      "Testing =>:  57%|█████▋    | 166/293 [00:00<00:00, 201.76it/s]\n",
      "Testing =>:  64%|██████▍   | 187/293 [00:00<00:00, 198.20it/s]\n",
      "Testing =>:  71%|███████   | 208/293 [00:01<00:00, 199.58it/s]\n",
      "Testing =>:  78%|███████▊  | 229/293 [00:01<00:00, 200.58it/s]\n",
      "Testing =>:  85%|████████▌ | 250/293 [00:01<00:00, 201.78it/s]\n",
      "Testing =>:  92%|█████████▏| 271/293 [00:01<00:00, 202.82it/s]\n",
      "Testing =>: 100%|█████████▉| 292/293 [00:01<00:00, 202.84it/s]\n",
      "100%|██████████| 293/293 [00:01<00:00, 201.13it/s]\n",
      "Testing =>: 100%|██████████| 293/293 [00:01<00:00, 200.25it/s]\n"
     ]
    },
    {
     "output_type": "stream",
     "name": "stdout",
     "text": [
      "Epoch: 22 | Total Testing Loss: 2.0792222023010254 | Pose Testing Loss: 0.01604240946471691 | Action Testing Loss: 0.47498077154159546 | Action Test Label Accuracy: 79.01190094994129\n",
      "Starting EPOCH: 24 / 30\n"
     ]
    },
    {
     "output_type": "stream",
     "name": "stderr",
     "text": [
      "Training =>:   0%|          | 0/773 [00:00<?, ?it/s]\n",
      "Training =>:   1%|          | 9/773 [00:00<00:09, 81.34it/s]\n",
      "Training =>:   2%|▏         | 18/773 [00:00<00:09, 83.08it/s]\n",
      "Training =>:   3%|▎         | 27/773 [00:00<00:08, 84.58it/s]\n",
      "Training =>:   5%|▍         | 36/773 [00:00<00:08, 84.09it/s]\n",
      "Training =>:   6%|▌         | 45/773 [00:00<00:08, 84.07it/s]\n",
      "Training =>:   7%|▋         | 54/773 [00:00<00:08, 85.29it/s]\n",
      "Training =>:   8%|▊         | 63/773 [00:00<00:08, 86.65it/s]\n",
      "Training =>:   9%|▉         | 72/773 [00:00<00:08, 87.14it/s]\n",
      "Training =>:  10%|█         | 81/773 [00:00<00:07, 87.10it/s]\n",
      "Training =>:  12%|█▏        | 90/773 [00:01<00:07, 87.66it/s]\n",
      "Training =>:  13%|█▎        | 99/773 [00:01<00:07, 88.20it/s]\n",
      "Training =>:  14%|█▍        | 108/773 [00:01<00:07, 88.37it/s]\n",
      "Training =>:  15%|█▌        | 117/773 [00:01<00:07, 88.54it/s]\n",
      "Training =>:  16%|█▋        | 126/773 [00:01<00:07, 87.05it/s]\n",
      "Training =>:  17%|█▋        | 135/773 [00:01<00:07, 85.47it/s]\n",
      "Training =>:  19%|█▊        | 144/773 [00:01<00:07, 86.50it/s]\n",
      "Training =>:  20%|█▉        | 153/773 [00:01<00:07, 87.09it/s]\n",
      "Training =>:  21%|██        | 162/773 [00:01<00:07, 86.63it/s]\n",
      "Training =>:  22%|██▏       | 171/773 [00:01<00:07, 85.75it/s]\n",
      "Training =>:  23%|██▎       | 180/773 [00:02<00:06, 86.66it/s]\n",
      "Training =>:  24%|██▍       | 189/773 [00:02<00:06, 87.27it/s]\n",
      "Training =>:  26%|██▌       | 198/773 [00:02<00:06, 87.67it/s]\n",
      "Training =>:  27%|██▋       | 207/773 [00:02<00:06, 87.09it/s]\n",
      "Training =>:  28%|██▊       | 216/773 [00:02<00:06, 85.51it/s]\n",
      "Training =>:  29%|██▉       | 225/773 [00:02<00:06, 86.06it/s]\n",
      "Training =>:  30%|███       | 234/773 [00:02<00:06, 85.31it/s]\n",
      "Training =>:  32%|███▏      | 244/773 [00:02<00:06, 87.53it/s]\n",
      "Training =>:  33%|███▎      | 254/773 [00:02<00:05, 88.61it/s]\n",
      "Training =>:  34%|███▍      | 264/773 [00:03<00:05, 89.89it/s]\n",
      "Training =>:  35%|███▌      | 274/773 [00:03<00:05, 90.29it/s]\n",
      "Training =>:  37%|███▋      | 284/773 [00:03<00:05, 89.01it/s]\n",
      "Training =>:  38%|███▊      | 293/773 [00:03<00:05, 89.21it/s]\n",
      "Training =>:  39%|███▉      | 302/773 [00:03<00:05, 86.85it/s]\n",
      "Training =>:  40%|████      | 311/773 [00:03<00:05, 87.18it/s]\n",
      "Training =>:  42%|████▏     | 321/773 [00:03<00:05, 88.35it/s]\n",
      "Training =>:  43%|████▎     | 331/773 [00:03<00:04, 89.31it/s]\n",
      "Training =>:  44%|████▍     | 341/773 [00:03<00:04, 89.82it/s]\n",
      "Training =>:  45%|████▌     | 350/773 [00:04<00:04, 88.79it/s]\n",
      "Training =>:  46%|████▋     | 359/773 [00:04<00:04, 87.47it/s]\n",
      "Training =>:  48%|████▊     | 368/773 [00:04<00:04, 87.74it/s]\n",
      "Training =>:  49%|████▉     | 377/773 [00:04<00:04, 85.65it/s]\n",
      "Training =>:  50%|████▉     | 386/773 [00:04<00:04, 86.38it/s]\n",
      "Training =>:  51%|█████     | 395/773 [00:04<00:04, 84.70it/s]\n",
      "Training =>:  52%|█████▏    | 404/773 [00:04<00:04, 85.63it/s]\n",
      "Training =>:  54%|█████▎    | 414/773 [00:04<00:04, 87.25it/s]\n",
      "Training =>:  55%|█████▍    | 424/773 [00:04<00:03, 88.60it/s]\n",
      "Training =>:  56%|█████▌    | 434/773 [00:04<00:03, 89.18it/s]\n",
      "Training =>:  57%|█████▋    | 444/773 [00:05<00:03, 89.73it/s]\n",
      "Training =>:  59%|█████▊    | 454/773 [00:05<00:03, 90.34it/s]\n",
      "Training =>:  60%|██████    | 464/773 [00:05<00:03, 90.75it/s]\n",
      "Training =>:  61%|██████▏   | 474/773 [00:05<00:03, 89.53it/s]\n",
      "Training =>:  62%|██████▏   | 483/773 [00:05<00:03, 88.53it/s]\n",
      "Training =>:  64%|██████▍   | 493/773 [00:05<00:03, 89.45it/s]\n",
      "Training =>:  65%|██████▌   | 503/773 [00:05<00:03, 89.97it/s]\n",
      "Training =>:  66%|██████▋   | 513/773 [00:05<00:02, 90.43it/s]\n",
      "Training =>:  68%|██████▊   | 523/773 [00:05<00:02, 91.11it/s]\n",
      "Training =>:  69%|██████▉   | 533/773 [00:06<00:02, 91.12it/s]\n",
      "Training =>:  70%|███████   | 543/773 [00:06<00:02, 89.95it/s]\n",
      "Training =>:  72%|███████▏  | 553/773 [00:06<00:02, 90.38it/s]\n",
      "Training =>:  73%|███████▎  | 563/773 [00:06<00:02, 90.09it/s]\n",
      "Training =>:  74%|███████▍  | 573/773 [00:06<00:02, 90.40it/s]\n",
      "Training =>:  75%|███████▌  | 583/773 [00:06<00:02, 90.75it/s]\n",
      "Training =>:  77%|███████▋  | 593/773 [00:06<00:01, 91.21it/s]\n",
      "Training =>:  78%|███████▊  | 603/773 [00:06<00:01, 91.25it/s]\n",
      "Training =>:  79%|███████▉  | 613/773 [00:06<00:01, 90.95it/s]\n",
      "Training =>:  81%|████████  | 623/773 [00:07<00:01, 91.07it/s]\n",
      "Training =>:  82%|████████▏ | 633/773 [00:07<00:01, 91.27it/s]\n",
      "Training =>:  83%|████████▎ | 643/773 [00:07<00:01, 91.65it/s]\n",
      "Training =>:  84%|████████▍ | 653/773 [00:07<00:01, 90.72it/s]\n",
      "Training =>:  86%|████████▌ | 663/773 [00:07<00:01, 90.86it/s]\n",
      "Training =>:  87%|████████▋ | 673/773 [00:07<00:01, 91.24it/s]\n",
      "Training =>:  88%|████████▊ | 683/773 [00:07<00:00, 91.70it/s]\n",
      "Training =>:  90%|████████▉ | 693/773 [00:07<00:00, 91.66it/s]\n",
      "Training =>:  91%|█████████ | 703/773 [00:07<00:00, 91.80it/s]\n",
      "Training =>:  92%|█████████▏| 713/773 [00:08<00:00, 91.79it/s]\n",
      "Training =>:  94%|█████████▎| 723/773 [00:08<00:00, 91.05it/s]\n",
      "Training =>:  95%|█████████▍| 733/773 [00:08<00:00, 91.65it/s]\n",
      "Training =>:  96%|█████████▌| 743/773 [00:08<00:00, 91.69it/s]\n",
      "Training =>:  97%|█████████▋| 753/773 [00:08<00:00, 91.60it/s]\n",
      "Training =>:  99%|█████████▊| 763/773 [00:08<00:00, 91.80it/s]\n",
      "Training =>: 100%|██████████| 773/773 [00:08<00:00, 91.10it/s]\n",
      "100%|██████████| 773/773 [00:08<00:00, 88.86it/s]\n",
      "Training =>: 100%|██████████| 773/773 [00:08<00:00, 88.80it/s]\n"
     ]
    },
    {
     "output_type": "stream",
     "name": "stdout",
     "text": [
      "Saving at epoch 23\n",
      "Epoch: 23 | Total Training Loss: 1.9614228010177612 | Pose Training Loss: 0.01694568432867527 | Action Training Loss: 0.2668544054031372 | Action Train Label Accuracy: 89.1828235246548\n"
     ]
    },
    {
     "output_type": "stream",
     "name": "stderr",
     "text": [
      "Testing =>:   0%|          | 0/293 [00:00<?, ?it/s]\n",
      "Testing =>:   7%|▋         | 20/293 [00:00<00:01, 195.76it/s]\n",
      "Testing =>:  14%|█▍        | 42/293 [00:00<00:01, 204.69it/s]\n",
      "Testing =>:  22%|██▏       | 63/293 [00:00<00:01, 206.95it/s]\n",
      "Testing =>:  29%|██▊       | 84/293 [00:00<00:01, 207.62it/s]\n",
      "Testing =>:  36%|███▌      | 105/293 [00:00<00:00, 207.95it/s]\n",
      "Testing =>:  43%|████▎     | 126/293 [00:00<00:00, 204.89it/s]\n",
      "Testing =>:  50%|█████     | 147/293 [00:00<00:00, 203.16it/s]\n",
      "Testing =>:  57%|█████▋    | 168/293 [00:00<00:00, 202.93it/s]\n",
      "Testing =>:  65%|██████▍   | 189/293 [00:00<00:00, 203.27it/s]\n",
      "Testing =>:  72%|███████▏  | 210/293 [00:01<00:00, 203.43it/s]\n",
      "Testing =>:  79%|███████▉  | 232/293 [00:01<00:00, 206.50it/s]\n",
      "Testing =>:  86%|████████▋ | 253/293 [00:01<00:00, 207.31it/s]\n",
      "Testing =>:  94%|█████████▎| 274/293 [00:01<00:00, 207.88it/s]\n",
      "100%|██████████| 293/293 [00:01<00:00, 206.13it/s]\n",
      "Testing =>: 100%|██████████| 293/293 [00:01<00:00, 205.13it/s]\n"
     ]
    },
    {
     "output_type": "stream",
     "name": "stdout",
     "text": [
      "Epoch: 23 | Total Testing Loss: 2.0455479621887207 | Pose Testing Loss: 0.01563344895839691 | Action Testing Loss: 0.4822041690349579 | Action Test Label Accuracy: 78.91183690895507\n",
      "Starting EPOCH: 25 / 30\n"
     ]
    },
    {
     "output_type": "stream",
     "name": "stderr",
     "text": [
      "Training =>:   0%|          | 0/773 [00:00<?, ?it/s]\n",
      "Training =>:   1%|          | 8/773 [00:00<00:10, 75.82it/s]\n",
      "Training =>:   2%|▏         | 17/773 [00:00<00:09, 80.62it/s]\n",
      "Training =>:   3%|▎         | 26/773 [00:00<00:08, 83.60it/s]\n",
      "Training =>:   5%|▍         | 36/773 [00:00<00:08, 86.42it/s]\n",
      "Training =>:   6%|▌         | 45/773 [00:00<00:08, 86.32it/s]\n",
      "Training =>:   7%|▋         | 54/773 [00:00<00:08, 86.83it/s]\n",
      "Training =>:   8%|▊         | 63/773 [00:00<00:08, 86.31it/s]\n",
      "Training =>:   9%|▉         | 72/773 [00:00<00:08, 87.17it/s]\n",
      "Training =>:  11%|█         | 82/773 [00:00<00:07, 88.38it/s]\n",
      "Training =>:  12%|█▏        | 92/773 [00:01<00:07, 89.30it/s]\n",
      "Training =>:  13%|█▎        | 101/773 [00:01<00:07, 89.04it/s]\n",
      "Training =>:  14%|█▍        | 110/773 [00:01<00:07, 89.23it/s]\n",
      "Training =>:  15%|█▌        | 119/773 [00:01<00:07, 89.13it/s]\n",
      "Training =>:  17%|█▋        | 128/773 [00:01<00:07, 88.92it/s]\n",
      "Training =>:  18%|█▊        | 137/773 [00:01<00:07, 88.86it/s]\n",
      "Training =>:  19%|█▉        | 146/773 [00:01<00:07, 88.20it/s]\n",
      "Training =>:  20%|██        | 155/773 [00:01<00:07, 86.92it/s]\n",
      "Training =>:  21%|██        | 164/773 [00:01<00:06, 87.33it/s]\n",
      "Training =>:  22%|██▏       | 173/773 [00:01<00:06, 87.89it/s]\n",
      "Training =>:  24%|██▎       | 182/773 [00:02<00:06, 88.32it/s]\n",
      "Training =>:  25%|██▍       | 191/773 [00:02<00:06, 88.69it/s]\n",
      "Training =>:  26%|██▌       | 200/773 [00:02<00:06, 88.87it/s]\n",
      "Training =>:  27%|██▋       | 209/773 [00:02<00:06, 88.41it/s]\n",
      "Training =>:  28%|██▊       | 218/773 [00:02<00:06, 88.29it/s]\n",
      "Training =>:  29%|██▉       | 227/773 [00:02<00:07, 71.37it/s]\n",
      "Training =>:  31%|███       | 236/773 [00:02<00:07, 75.37it/s]\n",
      "Training =>:  32%|███▏      | 245/773 [00:02<00:06, 78.95it/s]\n",
      "Training =>:  33%|███▎      | 254/773 [00:02<00:06, 80.79it/s]\n",
      "Training =>:  34%|███▍      | 263/773 [00:03<00:06, 82.68it/s]\n",
      "Training =>:  35%|███▌      | 272/773 [00:03<00:05, 84.45it/s]\n",
      "Training =>:  36%|███▋      | 281/773 [00:03<00:05, 85.31it/s]\n",
      "Training =>:  38%|███▊      | 290/773 [00:03<00:05, 85.18it/s]\n",
      "Training =>:  39%|███▊      | 299/773 [00:03<00:05, 85.99it/s]\n",
      "Training =>:  40%|███▉      | 308/773 [00:03<00:05, 86.93it/s]\n",
      "Training =>:  41%|████      | 317/773 [00:03<00:05, 85.27it/s]\n",
      "Training =>:  42%|████▏     | 326/773 [00:03<00:05, 83.85it/s]\n",
      "Training =>:  43%|████▎     | 335/773 [00:03<00:05, 85.06it/s]\n",
      "Training =>:  45%|████▍     | 344/773 [00:04<00:04, 86.12it/s]\n",
      "Training =>:  46%|████▌     | 353/773 [00:04<00:04, 86.50it/s]\n",
      "Training =>:  47%|████▋     | 362/773 [00:04<00:04, 86.77it/s]\n",
      "Training =>:  48%|████▊     | 372/773 [00:04<00:04, 88.08it/s]\n",
      "Training =>:  49%|████▉     | 381/773 [00:04<00:04, 88.03it/s]\n",
      "Training =>:  50%|█████     | 390/773 [00:04<00:04, 86.11it/s]\n",
      "Training =>:  52%|█████▏    | 399/773 [00:04<00:04, 86.52it/s]\n",
      "Training =>:  53%|█████▎    | 408/773 [00:04<00:04, 82.65it/s]\n",
      "Training =>:  54%|█████▍    | 417/773 [00:04<00:04, 83.39it/s]\n",
      "Training =>:  55%|█████▌    | 426/773 [00:04<00:04, 84.36it/s]\n",
      "Training =>:  56%|█████▋    | 435/773 [00:05<00:03, 85.15it/s]\n",
      "Training =>:  57%|█████▋    | 444/773 [00:05<00:03, 84.82it/s]\n",
      "Training =>:  59%|█████▊    | 453/773 [00:05<00:03, 85.40it/s]\n",
      "Training =>:  60%|█████▉    | 462/773 [00:05<00:03, 86.61it/s]\n",
      "Training =>:  61%|██████    | 471/773 [00:05<00:03, 87.53it/s]\n",
      "Training =>:  62%|██████▏   | 481/773 [00:05<00:03, 88.48it/s]\n",
      "Training =>:  63%|██████▎   | 490/773 [00:05<00:03, 88.11it/s]\n",
      "Training =>:  65%|██████▍   | 499/773 [00:05<00:03, 88.06it/s]\n",
      "Training =>:  66%|██████▌   | 508/773 [00:05<00:03, 87.84it/s]\n",
      "Training =>:  67%|██████▋   | 517/773 [00:06<00:02, 88.30it/s]\n",
      "Training =>:  68%|██████▊   | 527/773 [00:06<00:02, 88.97it/s]\n",
      "Training =>:  69%|██████▉   | 536/773 [00:06<00:02, 88.17it/s]\n",
      "Training =>:  71%|███████   | 545/773 [00:06<00:02, 88.61it/s]\n",
      "Training =>:  72%|███████▏  | 555/773 [00:06<00:02, 89.51it/s]\n",
      "Training =>:  73%|███████▎  | 565/773 [00:06<00:02, 89.82it/s]\n",
      "Training =>:  74%|███████▍  | 574/773 [00:06<00:02, 89.51it/s]\n",
      "Training =>:  75%|███████▌  | 583/773 [00:06<00:02, 89.17it/s]\n",
      "Training =>:  77%|███████▋  | 592/773 [00:06<00:02, 88.70it/s]\n",
      "Training =>:  78%|███████▊  | 601/773 [00:06<00:01, 88.69it/s]\n",
      "Training =>:  79%|███████▉  | 611/773 [00:07<00:01, 89.46it/s]\n",
      "Training =>:  80%|████████  | 620/773 [00:07<00:01, 88.98it/s]\n",
      "Training =>:  82%|████████▏ | 630/773 [00:07<00:01, 89.47it/s]\n",
      "Training =>:  83%|████████▎ | 639/773 [00:07<00:01, 89.61it/s]\n",
      "Training =>:  84%|████████▍ | 648/773 [00:07<00:01, 89.27it/s]\n",
      "Training =>:  85%|████████▍ | 657/773 [00:07<00:01, 88.76it/s]\n",
      "Training =>:  86%|████████▌ | 666/773 [00:07<00:01, 88.83it/s]\n",
      "Training =>:  87%|████████▋ | 675/773 [00:07<00:01, 88.86it/s]\n",
      "Training =>:  88%|████████▊ | 684/773 [00:07<00:00, 89.07it/s]\n",
      "Training =>:  90%|████████▉ | 694/773 [00:07<00:00, 89.75it/s]\n",
      "Training =>:  91%|█████████ | 704/773 [00:08<00:00, 90.28it/s]\n",
      "Training =>:  92%|█████████▏| 714/773 [00:08<00:00, 90.37it/s]\n",
      "Training =>:  94%|█████████▎| 724/773 [00:08<00:00, 90.76it/s]\n",
      "Training =>:  95%|█████████▍| 734/773 [00:08<00:00, 90.43it/s]\n",
      "Training =>:  96%|█████████▌| 744/773 [00:08<00:00, 90.07it/s]\n",
      "Training =>:  98%|█████████▊| 754/773 [00:08<00:00, 90.18it/s]\n",
      "Training =>:  99%|█████████▉| 764/773 [00:08<00:00, 90.10it/s]\n",
      "100%|██████████| 773/773 [00:08<00:00, 87.10it/s]\n",
      "Training =>: 100%|██████████| 773/773 [00:08<00:00, 87.04it/s]\n"
     ]
    },
    {
     "output_type": "stream",
     "name": "stdout",
     "text": [
      "Saving at epoch 24\n",
      "Epoch: 24 | Total Training Loss: 1.9162569046020508 | Pose Training Loss: 0.016550790518522263 | Action Training Loss: 0.2611773610115051 | Action Train Label Accuracy: 89.48355336311991\n"
     ]
    },
    {
     "output_type": "stream",
     "name": "stderr",
     "text": [
      "Testing =>:   0%|          | 0/293 [00:00<?, ?it/s]\n",
      "Testing =>:   7%|▋         | 20/293 [00:00<00:01, 198.14it/s]\n",
      "Testing =>:  14%|█▍        | 41/293 [00:00<00:01, 203.97it/s]\n",
      "Testing =>:  21%|██        | 62/293 [00:00<00:01, 202.24it/s]\n",
      "Testing =>:  28%|██▊       | 83/293 [00:00<00:01, 203.17it/s]\n",
      "Testing =>:  35%|███▌      | 104/293 [00:00<00:00, 203.36it/s]\n",
      "Testing =>:  43%|████▎     | 125/293 [00:00<00:00, 202.82it/s]\n",
      "Testing =>:  50%|████▉     | 146/293 [00:00<00:00, 203.00it/s]\n",
      "Testing =>:  57%|█████▋    | 167/293 [00:00<00:00, 200.24it/s]\n",
      "Testing =>:  64%|██████▍   | 188/293 [00:00<00:00, 202.34it/s]\n",
      "Testing =>:  71%|███████▏  | 209/293 [00:01<00:00, 204.03it/s]\n",
      "Testing =>:  78%|███████▊  | 230/293 [00:01<00:00, 204.40it/s]\n",
      "Testing =>:  86%|████████▌ | 251/293 [00:01<00:00, 204.31it/s]\n",
      "Testing =>:  93%|█████████▎| 272/293 [00:01<00:00, 204.31it/s]\n",
      "100%|██████████| 293/293 [00:01<00:00, 203.65it/s]\n",
      "Testing =>: 100%|██████████| 293/293 [00:01<00:00, 202.95it/s]\n"
     ]
    },
    {
     "output_type": "stream",
     "name": "stdout",
     "text": [
      "Epoch: 24 | Total Testing Loss: 2.0270180702209473 | Pose Testing Loss: 0.015459494665265083 | Action Testing Loss: 0.48106804490089417 | Action Test Label Accuracy: 79.54424164798804\n",
      "Starting EPOCH: 26 / 30\n"
     ]
    },
    {
     "output_type": "stream",
     "name": "stderr",
     "text": [
      "Training =>:   0%|          | 0/773 [00:00<?, ?it/s]\n",
      "Training =>:   1%|          | 8/773 [00:00<00:09, 79.23it/s]\n",
      "Training =>:   2%|▏         | 17/773 [00:00<00:09, 82.16it/s]\n",
      "Training =>:   3%|▎         | 26/773 [00:00<00:08, 83.54it/s]\n",
      "Training =>:   5%|▍         | 35/773 [00:00<00:08, 84.17it/s]\n",
      "Training =>:   6%|▌         | 44/773 [00:00<00:08, 85.18it/s]\n",
      "Training =>:   7%|▋         | 53/773 [00:00<00:08, 85.80it/s]\n",
      "Training =>:   8%|▊         | 62/773 [00:00<00:08, 86.76it/s]\n",
      "Training =>:   9%|▉         | 71/773 [00:00<00:08, 86.91it/s]\n",
      "Training =>:  10%|█         | 80/773 [00:00<00:07, 87.44it/s]\n",
      "Training =>:  12%|█▏        | 89/773 [00:01<00:07, 87.79it/s]\n",
      "Training =>:  13%|█▎        | 98/773 [00:01<00:07, 87.50it/s]\n",
      "Training =>:  14%|█▍        | 107/773 [00:01<00:07, 87.29it/s]\n",
      "Training =>:  15%|█▌        | 116/773 [00:01<00:07, 87.51it/s]\n",
      "Training =>:  16%|█▌        | 125/773 [00:01<00:07, 87.66it/s]\n",
      "Training =>:  17%|█▋        | 134/773 [00:01<00:07, 87.87it/s]\n",
      "Training =>:  18%|█▊        | 143/773 [00:01<00:07, 88.33it/s]\n",
      "Training =>:  20%|█▉        | 152/773 [00:01<00:07, 88.30it/s]\n",
      "Training =>:  21%|██        | 161/773 [00:01<00:06, 88.65it/s]\n",
      "Training =>:  22%|██▏       | 170/773 [00:01<00:06, 88.93it/s]\n",
      "Training =>:  23%|██▎       | 179/773 [00:02<00:06, 89.23it/s]\n",
      "Training =>:  24%|██▍       | 188/773 [00:02<00:06, 89.44it/s]\n",
      "Training =>:  25%|██▌       | 197/773 [00:02<00:06, 88.34it/s]\n",
      "Training =>:  27%|██▋       | 206/773 [00:02<00:06, 88.60it/s]\n",
      "Training =>:  28%|██▊       | 215/773 [00:02<00:06, 88.21it/s]\n",
      "Training =>:  29%|██▉       | 224/773 [00:02<00:06, 87.99it/s]\n",
      "Training =>:  30%|███       | 234/773 [00:02<00:06, 89.22it/s]\n",
      "Training =>:  32%|███▏      | 244/773 [00:02<00:05, 89.63it/s]\n",
      "Training =>:  33%|███▎      | 253/773 [00:02<00:05, 89.56it/s]\n",
      "Training =>:  34%|███▍      | 262/773 [00:02<00:05, 89.26it/s]\n",
      "Training =>:  35%|███▌      | 271/773 [00:03<00:05, 88.77it/s]\n",
      "Training =>:  36%|███▌      | 280/773 [00:03<00:05, 87.84it/s]\n",
      "Training =>:  37%|███▋      | 289/773 [00:03<00:05, 86.57it/s]\n",
      "Training =>:  39%|███▊      | 298/773 [00:03<00:05, 86.91it/s]\n",
      "Training =>:  40%|███▉      | 308/773 [00:03<00:05, 88.51it/s]\n",
      "Training =>:  41%|████      | 317/773 [00:03<00:05, 88.36it/s]\n",
      "Training =>:  42%|████▏     | 327/773 [00:03<00:05, 89.06it/s]\n",
      "Training =>:  43%|████▎     | 336/773 [00:03<00:04, 88.22it/s]\n",
      "Training =>:  45%|████▍     | 345/773 [00:03<00:04, 87.58it/s]\n",
      "Training =>:  46%|████▌     | 354/773 [00:04<00:04, 87.63it/s]\n",
      "Training =>:  47%|████▋     | 363/773 [00:04<00:04, 87.73it/s]\n",
      "Training =>:  48%|████▊     | 372/773 [00:04<00:04, 86.57it/s]\n",
      "Training =>:  49%|████▉     | 381/773 [00:04<00:04, 86.84it/s]\n",
      "Training =>:  50%|█████     | 390/773 [00:04<00:04, 87.18it/s]\n",
      "Training =>:  52%|█████▏    | 399/773 [00:04<00:04, 87.64it/s]\n",
      "Training =>:  53%|█████▎    | 408/773 [00:04<00:04, 87.94it/s]\n",
      "Training =>:  54%|█████▍    | 417/773 [00:04<00:04, 88.10it/s]\n",
      "Training =>:  55%|█████▌    | 426/773 [00:04<00:03, 88.47it/s]\n",
      "Training =>:  56%|█████▋    | 436/773 [00:04<00:03, 89.21it/s]\n",
      "Training =>:  58%|█████▊    | 446/773 [00:05<00:03, 89.78it/s]\n",
      "Training =>:  59%|█████▉    | 455/773 [00:05<00:03, 88.85it/s]\n",
      "Training =>:  60%|██████    | 464/773 [00:05<00:03, 86.06it/s]\n",
      "Training =>:  61%|██████    | 473/773 [00:05<00:03, 86.61it/s]\n",
      "Training =>:  62%|██████▏   | 482/773 [00:05<00:03, 85.94it/s]\n",
      "Training =>:  64%|██████▎   | 491/773 [00:05<00:03, 85.75it/s]\n",
      "Training =>:  65%|██████▍   | 500/773 [00:05<00:03, 86.23it/s]\n",
      "Training =>:  66%|██████▌   | 509/773 [00:05<00:03, 86.94it/s]\n",
      "Training =>:  67%|██████▋   | 518/773 [00:05<00:02, 86.86it/s]\n",
      "Training =>:  68%|██████▊   | 527/773 [00:06<00:02, 86.69it/s]\n",
      "Training =>:  69%|██████▉   | 537/773 [00:06<00:02, 88.55it/s]\n",
      "Training =>:  71%|███████   | 546/773 [00:06<00:02, 88.77it/s]\n",
      "Training =>:  72%|███████▏  | 556/773 [00:06<00:02, 89.66it/s]\n",
      "Training =>:  73%|███████▎  | 565/773 [00:06<00:02, 89.67it/s]\n",
      "Training =>:  74%|███████▍  | 575/773 [00:06<00:02, 89.98it/s]\n",
      "Training =>:  76%|███████▌  | 585/773 [00:06<00:02, 90.80it/s]\n",
      "Training =>:  77%|███████▋  | 595/773 [00:06<00:01, 91.52it/s]\n",
      "Training =>:  78%|███████▊  | 605/773 [00:06<00:01, 91.44it/s]\n",
      "Training =>:  80%|███████▉  | 615/773 [00:06<00:01, 90.70it/s]\n",
      "Training =>:  81%|████████  | 625/773 [00:07<00:01, 90.79it/s]\n",
      "Training =>:  82%|████████▏ | 635/773 [00:07<00:01, 90.58it/s]\n",
      "Training =>:  83%|████████▎ | 645/773 [00:07<00:01, 90.27it/s]\n",
      "Training =>:  85%|████████▍ | 655/773 [00:07<00:01, 91.10it/s]\n",
      "Training =>:  86%|████████▌ | 665/773 [00:07<00:01, 91.68it/s]\n",
      "Training =>:  87%|████████▋ | 675/773 [00:07<00:01, 91.43it/s]\n",
      "Training =>:  89%|████████▊ | 685/773 [00:07<00:00, 91.24it/s]\n",
      "Training =>:  90%|████████▉ | 695/773 [00:07<00:00, 91.40it/s]\n",
      "Training =>:  91%|█████████ | 705/773 [00:07<00:00, 91.76it/s]\n",
      "Training =>:  92%|█████████▏| 715/773 [00:08<00:00, 91.83it/s]\n",
      "Training =>:  94%|█████████▍| 725/773 [00:08<00:00, 90.32it/s]\n",
      "Training =>:  95%|█████████▌| 735/773 [00:08<00:00, 89.67it/s]\n",
      "Training =>:  96%|█████████▋| 745/773 [00:08<00:00, 90.49it/s]\n",
      "Training =>:  98%|█████████▊| 755/773 [00:08<00:00, 91.08it/s]\n",
      "Training =>:  99%|█████████▉| 765/773 [00:08<00:00, 90.97it/s]\n",
      "100%|██████████| 773/773 [00:08<00:00, 88.63it/s]\n",
      "Training =>: 100%|██████████| 773/773 [00:08<00:00, 88.57it/s]\n"
     ]
    },
    {
     "output_type": "stream",
     "name": "stdout",
     "text": [
      "Saving at epoch 25\n",
      "Epoch: 25 | Total Training Loss: 1.8780263662338257 | Pose Training Loss: 0.016232559457421303 | Action Training Loss: 0.2547699809074402 | Action Train Label Accuracy: 89.77973434688555\n"
     ]
    },
    {
     "output_type": "stream",
     "name": "stderr",
     "text": [
      "Testing =>:   0%|          | 0/293 [00:00<?, ?it/s]\n",
      "Testing =>:   7%|▋         | 20/293 [00:00<00:01, 199.30it/s]\n",
      "Testing =>:  14%|█▎        | 40/293 [00:00<00:01, 199.11it/s]\n",
      "Testing =>:  21%|██        | 62/293 [00:00<00:01, 204.86it/s]\n",
      "Testing =>:  28%|██▊       | 83/293 [00:00<00:01, 204.68it/s]\n",
      "Testing =>:  35%|███▌      | 104/293 [00:00<00:00, 200.16it/s]\n",
      "Testing =>:  43%|████▎     | 126/293 [00:00<00:00, 204.27it/s]\n",
      "Testing =>:  50%|█████     | 147/293 [00:00<00:00, 205.05it/s]\n",
      "Testing =>:  57%|█████▋    | 168/293 [00:00<00:00, 205.36it/s]\n",
      "Testing =>:  65%|██████▍   | 189/293 [00:00<00:00, 205.72it/s]\n",
      "Testing =>:  72%|███████▏  | 210/293 [00:01<00:00, 203.41it/s]\n",
      "Testing =>:  79%|███████▉  | 231/293 [00:01<00:00, 204.36it/s]\n",
      "Testing =>:  86%|████████▌ | 252/293 [00:01<00:00, 203.34it/s]\n",
      "Testing =>:  94%|█████████▎| 274/293 [00:01<00:00, 205.55it/s]\n",
      "100%|██████████| 293/293 [00:01<00:00, 204.39it/s]\n",
      "Testing =>: 100%|██████████| 293/293 [00:01<00:00, 203.60it/s]\n"
     ]
    },
    {
     "output_type": "stream",
     "name": "stdout",
     "text": [
      "Epoch: 25 | Total Testing Loss: 2.0009090900421143 | Pose Testing Loss: 0.015222162008285522 | Action Testing Loss: 0.47869521379470825 | Action Test Label Accuracy: 79.72569110897642\n",
      "Starting EPOCH: 27 / 30\n"
     ]
    },
    {
     "output_type": "stream",
     "name": "stderr",
     "text": [
      "Training =>:   0%|          | 0/773 [00:00<?, ?it/s]\n",
      "Training =>:   1%|          | 8/773 [00:00<00:09, 79.20it/s]\n",
      "Training =>:   2%|▏         | 17/773 [00:00<00:08, 84.16it/s]\n",
      "Training =>:   3%|▎         | 26/773 [00:00<00:08, 85.79it/s]\n",
      "Training =>:   5%|▍         | 35/773 [00:00<00:08, 85.53it/s]\n",
      "Training =>:   6%|▌         | 44/773 [00:00<00:08, 85.64it/s]\n",
      "Training =>:   7%|▋         | 53/773 [00:00<00:08, 86.73it/s]\n",
      "Training =>:   8%|▊         | 62/773 [00:00<00:08, 85.18it/s]\n",
      "Training =>:   9%|▉         | 71/773 [00:00<00:08, 85.87it/s]\n",
      "Training =>:  10%|█         | 80/773 [00:00<00:08, 86.45it/s]\n",
      "Training =>:  12%|█▏        | 89/773 [00:01<00:07, 87.49it/s]\n",
      "Training =>:  13%|█▎        | 98/773 [00:01<00:07, 87.42it/s]\n",
      "Training =>:  14%|█▍        | 107/773 [00:01<00:07, 87.87it/s]\n",
      "Training =>:  15%|█▌        | 116/773 [00:01<00:07, 88.35it/s]\n",
      "Training =>:  16%|█▌        | 125/773 [00:01<00:07, 88.07it/s]\n",
      "Training =>:  17%|█▋        | 134/773 [00:01<00:07, 88.17it/s]\n",
      "Training =>:  18%|█▊        | 143/773 [00:01<00:07, 87.86it/s]\n",
      "Training =>:  20%|█▉        | 152/773 [00:01<00:07, 88.13it/s]\n",
      "Training =>:  21%|██        | 161/773 [00:01<00:06, 88.54it/s]\n",
      "Training =>:  22%|██▏       | 170/773 [00:01<00:06, 88.42it/s]\n",
      "Training =>:  23%|██▎       | 179/773 [00:02<00:06, 88.53it/s]\n",
      "Training =>:  24%|██▍       | 188/773 [00:02<00:06, 88.91it/s]\n",
      "Training =>:  25%|██▌       | 197/773 [00:02<00:06, 88.65it/s]\n",
      "Training =>:  27%|██▋       | 206/773 [00:02<00:06, 88.75it/s]\n",
      "Training =>:  28%|██▊       | 215/773 [00:02<00:06, 88.17it/s]\n",
      "Training =>:  29%|██▉       | 224/773 [00:02<00:06, 88.52it/s]\n",
      "Training =>:  30%|███       | 233/773 [00:02<00:06, 87.06it/s]\n",
      "Training =>:  31%|███▏      | 242/773 [00:02<00:06, 85.56it/s]\n",
      "Training =>:  32%|███▏      | 251/773 [00:02<00:06, 86.59it/s]\n",
      "Training =>:  34%|███▎      | 260/773 [00:02<00:05, 86.81it/s]\n",
      "Training =>:  35%|███▍      | 269/773 [00:03<00:05, 87.20it/s]\n",
      "Training =>:  36%|███▌      | 278/773 [00:03<00:05, 87.60it/s]\n",
      "Training =>:  37%|███▋      | 287/773 [00:03<00:05, 87.83it/s]\n",
      "Training =>:  38%|███▊      | 296/773 [00:03<00:05, 87.20it/s]\n",
      "Training =>:  39%|███▉      | 305/773 [00:03<00:05, 87.34it/s]\n",
      "Training =>:  41%|████      | 314/773 [00:03<00:05, 86.55it/s]\n",
      "Training =>:  42%|████▏     | 323/773 [00:03<00:05, 85.54it/s]\n",
      "Training =>:  43%|████▎     | 332/773 [00:03<00:05, 85.87it/s]\n",
      "Training =>:  44%|████▍     | 341/773 [00:03<00:04, 86.75it/s]\n",
      "Training =>:  45%|████▌     | 350/773 [00:04<00:04, 87.50it/s]\n",
      "Training =>:  47%|████▋     | 360/773 [00:04<00:04, 88.52it/s]\n",
      "Training =>:  48%|████▊     | 369/773 [00:04<00:04, 88.79it/s]\n",
      "Training =>:  49%|████▉     | 378/773 [00:04<00:04, 88.12it/s]\n",
      "Training =>:  50%|█████     | 387/773 [00:04<00:04, 88.30it/s]\n",
      "Training =>:  51%|█████     | 396/773 [00:04<00:04, 86.24it/s]\n",
      "Training =>:  52%|█████▏    | 405/773 [00:04<00:04, 84.06it/s]\n",
      "Training =>:  54%|█████▎    | 414/773 [00:04<00:04, 81.47it/s]\n",
      "Training =>:  55%|█████▍    | 423/773 [00:04<00:04, 83.12it/s]\n",
      "Training =>:  56%|█████▌    | 432/773 [00:04<00:04, 84.64it/s]\n",
      "Training =>:  57%|█████▋    | 442/773 [00:05<00:03, 86.60it/s]\n",
      "Training =>:  58%|█████▊    | 451/773 [00:05<00:03, 86.86it/s]\n",
      "Training =>:  60%|█████▉    | 460/773 [00:05<00:03, 86.91it/s]\n",
      "Training =>:  61%|██████    | 469/773 [00:05<00:03, 86.50it/s]\n",
      "Training =>:  62%|██████▏   | 478/773 [00:05<00:03, 86.54it/s]\n",
      "Training =>:  63%|██████▎   | 487/773 [00:05<00:03, 87.31it/s]\n",
      "Training =>:  64%|██████▍   | 496/773 [00:05<00:03, 86.85it/s]\n",
      "Training =>:  65%|██████▌   | 505/773 [00:05<00:03, 87.30it/s]\n",
      "Training =>:  66%|██████▋   | 514/773 [00:05<00:02, 87.47it/s]\n",
      "Training =>:  68%|██████▊   | 523/773 [00:06<00:02, 87.31it/s]\n",
      "Training =>:  69%|██████▉   | 532/773 [00:06<00:02, 87.12it/s]\n",
      "Training =>:  70%|██████▉   | 541/773 [00:06<00:02, 86.94it/s]\n",
      "Training =>:  71%|███████   | 550/773 [00:06<00:02, 87.14it/s]\n",
      "Training =>:  72%|███████▏  | 559/773 [00:06<00:02, 87.50it/s]\n",
      "Training =>:  73%|███████▎  | 568/773 [00:06<00:02, 85.92it/s]\n",
      "Training =>:  75%|███████▍  | 577/773 [00:06<00:02, 84.42it/s]\n",
      "Training =>:  76%|███████▌  | 586/773 [00:06<00:02, 81.93it/s]\n",
      "Training =>:  77%|███████▋  | 595/773 [00:06<00:02, 83.61it/s]\n",
      "Training =>:  78%|███████▊  | 604/773 [00:06<00:01, 85.25it/s]\n",
      "Training =>:  79%|███████▉  | 613/773 [00:07<00:01, 86.38it/s]\n",
      "Training =>:  80%|████████  | 622/773 [00:07<00:01, 87.21it/s]\n",
      "Training =>:  82%|████████▏ | 631/773 [00:07<00:01, 87.62it/s]\n",
      "Training =>:  83%|████████▎ | 641/773 [00:07<00:01, 88.60it/s]\n",
      "Training =>:  84%|████████▍ | 651/773 [00:07<00:01, 89.33it/s]\n",
      "Training =>:  85%|████████▌ | 660/773 [00:07<00:01, 89.00it/s]\n",
      "Training =>:  87%|████████▋ | 669/773 [00:07<00:01, 88.63it/s]\n",
      "Training =>:  88%|████████▊ | 678/773 [00:07<00:01, 88.55it/s]\n",
      "Training =>:  89%|████████▉ | 687/773 [00:07<00:00, 88.68it/s]\n",
      "Training =>:  90%|█████████ | 696/773 [00:08<00:00, 88.65it/s]\n",
      "Training =>:  91%|█████████ | 705/773 [00:08<00:00, 88.83it/s]\n",
      "Training =>:  92%|█████████▏| 714/773 [00:08<00:00, 88.19it/s]\n",
      "Training =>:  94%|█████████▎| 723/773 [00:08<00:00, 88.25it/s]\n",
      "Training =>:  95%|█████████▍| 733/773 [00:08<00:00, 89.06it/s]\n",
      "Training =>:  96%|█████████▌| 743/773 [00:08<00:00, 89.54it/s]\n",
      "Training =>:  97%|█████████▋| 752/773 [00:08<00:00, 89.60it/s]\n",
      "Training =>:  98%|█████████▊| 761/773 [00:08<00:00, 88.81it/s]\n",
      "Training =>: 100%|█████████▉| 770/773 [00:08<00:00, 88.57it/s]\n",
      "100%|██████████| 773/773 [00:08<00:00, 87.11it/s]\n",
      "Training =>: 100%|██████████| 773/773 [00:08<00:00, 87.05it/s]\n"
     ]
    },
    {
     "output_type": "stream",
     "name": "stdout",
     "text": [
      "Saving at epoch 26\n",
      "Epoch: 26 | Total Training Loss: 1.8433687686920166 | Pose Training Loss: 0.015934042632579803 | Action Training Loss: 0.24996404349803925 | Action Train Label Accuracy: 90.02739421385682\n"
     ]
    },
    {
     "output_type": "stream",
     "name": "stderr",
     "text": [
      "Testing =>:   0%|          | 0/293 [00:00<?, ?it/s]\n",
      "Testing =>:   6%|▋         | 19/293 [00:00<00:01, 185.58it/s]\n",
      "Testing =>:  14%|█▎        | 40/293 [00:00<00:01, 198.10it/s]\n",
      "Testing =>:  21%|██        | 61/293 [00:00<00:01, 202.87it/s]\n",
      "Testing =>:  28%|██▊       | 82/293 [00:00<00:01, 202.47it/s]\n",
      "Testing =>:  35%|███▌      | 103/293 [00:00<00:00, 204.15it/s]\n",
      "Testing =>:  42%|████▏     | 124/293 [00:00<00:00, 203.21it/s]\n",
      "Testing =>:  49%|████▉     | 145/293 [00:00<00:00, 200.73it/s]\n",
      "Testing =>:  57%|█████▋    | 166/293 [00:00<00:00, 199.36it/s]\n",
      "Testing =>:  64%|██████▍   | 187/293 [00:00<00:00, 201.91it/s]\n",
      "Testing =>:  71%|███████   | 208/293 [00:01<00:00, 203.51it/s]\n",
      "Testing =>:  78%|███████▊  | 229/293 [00:01<00:00, 204.69it/s]\n",
      "Testing =>:  85%|████████▌ | 250/293 [00:01<00:00, 205.61it/s]\n",
      "Testing =>:  92%|█████████▏| 271/293 [00:01<00:00, 203.97it/s]\n",
      "Testing =>: 100%|█████████▉| 292/293 [00:01<00:00, 204.18it/s]\n",
      "100%|██████████| 293/293 [00:01<00:00, 202.49it/s]\n",
      "Testing =>: 100%|██████████| 293/293 [00:01<00:00, 201.79it/s]\n"
     ]
    },
    {
     "output_type": "stream",
     "name": "stdout",
     "text": [
      "Epoch: 26 | Total Testing Loss: 1.9760500192642212 | Pose Testing Loss: 0.01486216951161623 | Action Testing Loss: 0.48983389139175415 | Action Test Label Accuracy: 79.69633899028712\n",
      "Starting EPOCH: 28 / 30\n"
     ]
    },
    {
     "output_type": "stream",
     "name": "stderr",
     "text": [
      "Training =>:   0%|          | 0/773 [00:00<?, ?it/s]\n",
      "Training =>:   1%|          | 8/773 [00:00<00:09, 78.71it/s]\n",
      "Training =>:   2%|▏         | 17/773 [00:00<00:09, 83.25it/s]\n",
      "Training =>:   3%|▎         | 26/773 [00:00<00:08, 85.02it/s]\n",
      "Training =>:   5%|▍         | 35/773 [00:00<00:08, 85.72it/s]\n",
      "Training =>:   6%|▌         | 44/773 [00:00<00:08, 85.52it/s]\n",
      "Training =>:   7%|▋         | 53/773 [00:00<00:08, 84.90it/s]\n",
      "Training =>:   8%|▊         | 62/773 [00:00<00:08, 85.71it/s]\n",
      "Training =>:   9%|▉         | 71/773 [00:00<00:08, 86.28it/s]\n",
      "Training =>:  10%|█         | 80/773 [00:00<00:08, 85.30it/s]\n",
      "Training =>:  12%|█▏        | 89/773 [00:01<00:07, 85.97it/s]\n",
      "Training =>:  13%|█▎        | 98/773 [00:01<00:07, 86.73it/s]\n",
      "Training =>:  14%|█▍        | 107/773 [00:01<00:07, 87.22it/s]\n",
      "Training =>:  15%|█▌        | 116/773 [00:01<00:07, 87.47it/s]\n",
      "Training =>:  16%|█▌        | 125/773 [00:01<00:07, 87.65it/s]\n",
      "Training =>:  17%|█▋        | 134/773 [00:01<00:07, 87.43it/s]\n",
      "Training =>:  18%|█▊        | 143/773 [00:01<00:07, 87.81it/s]\n",
      "Training =>:  20%|█▉        | 152/773 [00:01<00:07, 87.93it/s]\n",
      "Training =>:  21%|██        | 161/773 [00:01<00:06, 87.55it/s]\n",
      "Training =>:  22%|██▏       | 170/773 [00:01<00:06, 87.12it/s]\n",
      "Training =>:  23%|██▎       | 179/773 [00:02<00:06, 87.03it/s]\n",
      "Training =>:  24%|██▍       | 188/773 [00:02<00:06, 87.62it/s]\n",
      "Training =>:  25%|██▌       | 197/773 [00:02<00:06, 88.01it/s]\n",
      "Training =>:  27%|██▋       | 206/773 [00:02<00:06, 88.37it/s]\n",
      "Training =>:  28%|██▊       | 215/773 [00:02<00:06, 88.10it/s]\n",
      "Training =>:  29%|██▉       | 224/773 [00:02<00:06, 88.13it/s]\n",
      "Training =>:  30%|███       | 234/773 [00:02<00:06, 89.10it/s]\n",
      "Training =>:  32%|███▏      | 244/773 [00:02<00:05, 89.57it/s]\n",
      "Training =>:  33%|███▎      | 253/773 [00:02<00:05, 89.25it/s]\n",
      "Training =>:  34%|███▍      | 262/773 [00:03<00:05, 88.73it/s]\n",
      "Training =>:  35%|███▌      | 271/773 [00:03<00:05, 88.99it/s]\n",
      "Training =>:  36%|███▋      | 281/773 [00:03<00:05, 89.64it/s]\n",
      "Training =>:  38%|███▊      | 291/773 [00:03<00:05, 89.94it/s]\n",
      "Training =>:  39%|███▉      | 300/773 [00:03<00:05, 89.41it/s]\n",
      "Training =>:  40%|████      | 310/773 [00:03<00:05, 89.86it/s]\n",
      "Training =>:  41%|████▏     | 319/773 [00:03<00:05, 88.75it/s]\n",
      "Training =>:  42%|████▏     | 328/773 [00:03<00:05, 88.35it/s]\n",
      "Training =>:  44%|████▎     | 337/773 [00:03<00:04, 88.36it/s]\n",
      "Training =>:  45%|████▍     | 346/773 [00:03<00:04, 86.08it/s]\n",
      "Training =>:  46%|████▌     | 355/773 [00:04<00:04, 86.71it/s]\n",
      "Training =>:  47%|████▋     | 364/773 [00:04<00:04, 87.60it/s]\n",
      "Training =>:  48%|████▊     | 374/773 [00:04<00:04, 88.74it/s]\n",
      "Training =>:  50%|████▉     | 384/773 [00:04<00:04, 89.50it/s]\n",
      "Training =>:  51%|█████     | 394/773 [00:04<00:04, 90.11it/s]\n",
      "Training =>:  52%|█████▏    | 404/773 [00:04<00:04, 89.93it/s]\n",
      "Training =>:  54%|█████▎    | 414/773 [00:04<00:03, 90.22it/s]\n",
      "Training =>:  55%|█████▍    | 424/773 [00:04<00:03, 90.14it/s]\n",
      "Training =>:  56%|█████▌    | 434/773 [00:04<00:03, 88.73it/s]\n",
      "Training =>:  57%|█████▋    | 443/773 [00:05<00:03, 88.10it/s]\n",
      "Training =>:  58%|█████▊    | 452/773 [00:05<00:03, 88.35it/s]\n",
      "Training =>:  60%|█████▉    | 461/773 [00:05<00:03, 88.65it/s]\n",
      "Training =>:  61%|██████    | 470/773 [00:05<00:03, 88.75it/s]\n",
      "Training =>:  62%|██████▏   | 479/773 [00:05<00:03, 88.44it/s]\n",
      "Training =>:  63%|██████▎   | 488/773 [00:05<00:03, 88.59it/s]\n",
      "Training =>:  64%|██████▍   | 497/773 [00:05<00:03, 87.65it/s]\n",
      "Training =>:  65%|██████▌   | 506/773 [00:05<00:03, 87.63it/s]\n",
      "Training =>:  67%|██████▋   | 515/773 [00:05<00:02, 86.66it/s]\n",
      "Training =>:  68%|██████▊   | 524/773 [00:05<00:02, 86.77it/s]\n",
      "Training =>:  69%|██████▉   | 533/773 [00:06<00:02, 85.70it/s]\n",
      "Training =>:  70%|███████   | 542/773 [00:06<00:02, 85.77it/s]\n",
      "Training =>:  71%|███████▏  | 551/773 [00:06<00:02, 84.81it/s]\n",
      "Training =>:  72%|███████▏  | 560/773 [00:06<00:02, 85.98it/s]\n",
      "Training =>:  74%|███████▎  | 569/773 [00:06<00:02, 86.84it/s]\n",
      "Training =>:  75%|███████▍  | 578/773 [00:06<00:02, 87.59it/s]\n",
      "Training =>:  76%|███████▌  | 587/773 [00:06<00:02, 87.18it/s]\n",
      "Training =>:  77%|███████▋  | 596/773 [00:06<00:02, 87.87it/s]\n",
      "Training =>:  78%|███████▊  | 605/773 [00:06<00:01, 87.93it/s]\n",
      "Training =>:  79%|███████▉  | 614/773 [00:06<00:01, 87.98it/s]\n",
      "Training =>:  81%|████████  | 623/773 [00:07<00:01, 87.41it/s]\n",
      "Training =>:  82%|████████▏ | 632/773 [00:07<00:01, 88.16it/s]\n",
      "Training =>:  83%|████████▎ | 642/773 [00:07<00:01, 88.95it/s]\n",
      "Training =>:  84%|████████▍ | 652/773 [00:07<00:01, 89.57it/s]\n",
      "Training =>:  86%|████████▌ | 661/773 [00:07<00:01, 89.33it/s]\n",
      "Training =>:  87%|████████▋ | 670/773 [00:07<00:01, 89.52it/s]\n",
      "Training =>:  88%|████████▊ | 680/773 [00:07<00:01, 89.93it/s]\n",
      "Training =>:  89%|████████▉ | 689/773 [00:07<00:00, 89.75it/s]\n",
      "Training =>:  90%|█████████ | 698/773 [00:07<00:00, 89.59it/s]\n",
      "Training =>:  91%|█████████▏| 707/773 [00:08<00:00, 89.70it/s]\n",
      "Training =>:  93%|█████████▎| 716/773 [00:08<00:00, 89.44it/s]\n",
      "Training =>:  94%|█████████▍| 725/773 [00:08<00:00, 89.52it/s]\n",
      "Training =>:  95%|█████████▍| 734/773 [00:08<00:00, 89.42it/s]\n",
      "Training =>:  96%|█████████▌| 743/773 [00:08<00:00, 89.43it/s]\n",
      "Training =>:  97%|█████████▋| 753/773 [00:08<00:00, 90.09it/s]\n",
      "Training =>:  99%|█████████▊| 763/773 [00:08<00:00, 90.30it/s]\n",
      "100%|██████████| 773/773 [00:08<00:00, 88.14it/s]\n",
      "Training =>: 100%|██████████| 773/773 [00:08<00:00, 88.08it/s]\n"
     ]
    },
    {
     "output_type": "stream",
     "name": "stdout",
     "text": [
      "Saving at epoch 27\n",
      "Epoch: 27 | Total Training Loss: 1.8160885572433472 | Pose Training Loss: 0.01568826474249363 | Action Training Loss: 0.24726277589797974 | Action Train Label Accuracy: 90.18407698683865\n"
     ]
    },
    {
     "output_type": "stream",
     "name": "stderr",
     "text": [
      "Testing =>:   0%|          | 0/293 [00:00<?, ?it/s]\n",
      "Testing =>:   6%|▋         | 19/293 [00:00<00:01, 186.87it/s]\n",
      "Testing =>:  14%|█▎        | 40/293 [00:00<00:01, 199.93it/s]\n",
      "Testing =>:  21%|██        | 61/293 [00:00<00:01, 200.86it/s]\n",
      "Testing =>:  28%|██▊       | 82/293 [00:00<00:01, 201.91it/s]\n",
      "Testing =>:  35%|███▌      | 103/293 [00:00<00:00, 203.42it/s]\n",
      "Testing =>:  42%|████▏     | 124/293 [00:00<00:00, 199.84it/s]\n",
      "Testing =>:  49%|████▉     | 145/293 [00:00<00:00, 200.89it/s]\n",
      "Testing =>:  57%|█████▋    | 166/293 [00:00<00:00, 200.85it/s]\n",
      "Testing =>:  64%|██████▍   | 187/293 [00:00<00:00, 202.21it/s]\n",
      "Testing =>:  71%|███████   | 208/293 [00:01<00:00, 203.11it/s]\n",
      "Testing =>:  78%|███████▊  | 229/293 [00:01<00:00, 201.35it/s]\n",
      "Testing =>:  85%|████████▌ | 250/293 [00:01<00:00, 203.74it/s]\n",
      "Testing =>:  92%|█████████▏| 271/293 [00:01<00:00, 205.30it/s]\n",
      "100%|██████████| 293/293 [00:01<00:00, 202.93it/s]\n",
      "Testing =>: 100%|██████████| 293/293 [00:01<00:00, 202.24it/s]\n"
     ]
    },
    {
     "output_type": "stream",
     "name": "stdout",
     "text": [
      "Epoch: 27 | Total Testing Loss: 1.9631050825119019 | Pose Testing Loss: 0.01477572787553072 | Action Testing Loss: 0.4855321943759918 | Action Test Label Accuracy: 79.99252855160636\n",
      "Starting EPOCH: 29 / 30\n"
     ]
    },
    {
     "output_type": "stream",
     "name": "stderr",
     "text": [
      "Training =>:   0%|          | 0/773 [00:00<?, ?it/s]\n",
      "Training =>:   1%|          | 8/773 [00:00<00:09, 79.76it/s]\n",
      "Training =>:   2%|▏         | 17/773 [00:00<00:08, 84.15it/s]\n",
      "Training =>:   3%|▎         | 26/773 [00:00<00:08, 84.96it/s]\n",
      "Training =>:   5%|▍         | 35/773 [00:00<00:08, 84.93it/s]\n",
      "Training =>:   6%|▌         | 44/773 [00:00<00:08, 83.57it/s]\n",
      "Training =>:   7%|▋         | 53/773 [00:00<00:08, 84.56it/s]\n",
      "Training =>:   8%|▊         | 62/773 [00:00<00:08, 85.22it/s]\n",
      "Training =>:   9%|▉         | 71/773 [00:00<00:08, 86.20it/s]\n",
      "Training =>:  10%|█         | 80/773 [00:00<00:07, 86.86it/s]\n",
      "Training =>:  12%|█▏        | 89/773 [00:01<00:07, 87.64it/s]\n",
      "Training =>:  13%|█▎        | 98/773 [00:01<00:07, 87.66it/s]\n",
      "Training =>:  14%|█▍        | 107/773 [00:01<00:07, 88.05it/s]\n",
      "Training =>:  15%|█▌        | 116/773 [00:01<00:07, 88.08it/s]\n",
      "Training =>:  16%|█▌        | 125/773 [00:01<00:07, 88.08it/s]\n",
      "Training =>:  17%|█▋        | 134/773 [00:01<00:07, 88.44it/s]\n",
      "Training =>:  18%|█▊        | 143/773 [00:01<00:07, 88.67it/s]\n",
      "Training =>:  20%|█▉        | 153/773 [00:01<00:06, 89.40it/s]\n",
      "Training =>:  21%|██        | 162/773 [00:01<00:06, 88.69it/s]\n",
      "Training =>:  22%|██▏       | 171/773 [00:01<00:06, 89.06it/s]\n",
      "Training =>:  23%|██▎       | 180/773 [00:02<00:06, 88.76it/s]\n",
      "Training =>:  24%|██▍       | 189/773 [00:02<00:06, 88.55it/s]\n",
      "Training =>:  26%|██▌       | 199/773 [00:02<00:06, 89.17it/s]\n",
      "Training =>:  27%|██▋       | 208/773 [00:02<00:06, 88.90it/s]\n",
      "Training =>:  28%|██▊       | 217/773 [00:02<00:06, 88.66it/s]\n",
      "Training =>:  29%|██▉       | 226/773 [00:02<00:06, 87.96it/s]\n",
      "Training =>:  30%|███       | 235/773 [00:02<00:06, 87.23it/s]\n",
      "Training =>:  32%|███▏      | 244/773 [00:02<00:06, 87.60it/s]\n",
      "Training =>:  33%|███▎      | 253/773 [00:02<00:05, 87.18it/s]\n",
      "Training =>:  34%|███▍      | 262/773 [00:02<00:05, 87.79it/s]\n",
      "Training =>:  35%|███▌      | 271/773 [00:03<00:05, 87.59it/s]\n",
      "Training =>:  36%|███▌      | 280/773 [00:03<00:05, 87.80it/s]\n",
      "Training =>:  37%|███▋      | 289/773 [00:03<00:05, 88.26it/s]\n",
      "Training =>:  39%|███▊      | 298/773 [00:03<00:05, 88.58it/s]\n",
      "Training =>:  40%|███▉      | 307/773 [00:03<00:05, 88.31it/s]\n",
      "Training =>:  41%|████      | 316/773 [00:03<00:05, 88.40it/s]\n",
      "Training =>:  42%|████▏     | 325/773 [00:03<00:05, 88.72it/s]\n",
      "Training =>:  43%|████▎     | 335/773 [00:03<00:04, 89.32it/s]\n",
      "Training =>:  45%|████▍     | 344/773 [00:03<00:04, 88.80it/s]\n",
      "Training =>:  46%|████▌     | 354/773 [00:04<00:04, 89.48it/s]\n",
      "Training =>:  47%|████▋     | 363/773 [00:04<00:04, 88.22it/s]\n",
      "Training =>:  48%|████▊     | 372/773 [00:04<00:04, 88.55it/s]\n",
      "Training =>:  49%|████▉     | 381/773 [00:04<00:04, 88.79it/s]\n",
      "Training =>:  50%|█████     | 390/773 [00:04<00:04, 88.39it/s]\n",
      "Training =>:  52%|█████▏    | 399/773 [00:04<00:04, 86.26it/s]\n",
      "Training =>:  53%|█████▎    | 408/773 [00:04<00:04, 86.58it/s]\n",
      "Training =>:  54%|█████▍    | 417/773 [00:04<00:04, 87.45it/s]\n",
      "Training =>:  55%|█████▌    | 426/773 [00:04<00:03, 87.73it/s]\n",
      "Training =>:  56%|█████▋    | 435/773 [00:04<00:03, 87.59it/s]\n",
      "Training =>:  57%|█████▋    | 444/773 [00:05<00:03, 87.25it/s]\n",
      "Training =>:  59%|█████▊    | 453/773 [00:05<00:03, 87.94it/s]\n",
      "Training =>:  60%|█████▉    | 463/773 [00:05<00:03, 88.89it/s]\n",
      "Training =>:  61%|██████    | 472/773 [00:05<00:03, 89.10it/s]\n",
      "Training =>:  62%|██████▏   | 481/773 [00:05<00:03, 89.21it/s]\n",
      "Training =>:  63%|██████▎   | 490/773 [00:05<00:03, 88.22it/s]\n",
      "Training =>:  65%|██████▍   | 499/773 [00:05<00:03, 88.44it/s]\n",
      "Training =>:  66%|██████▌   | 508/773 [00:05<00:02, 88.88it/s]\n",
      "Training =>:  67%|██████▋   | 517/773 [00:05<00:02, 87.65it/s]\n",
      "Training =>:  68%|██████▊   | 526/773 [00:05<00:02, 87.11it/s]\n",
      "Training =>:  69%|██████▉   | 536/773 [00:06<00:02, 88.63it/s]\n",
      "Training =>:  71%|███████   | 545/773 [00:06<00:02, 88.22it/s]\n",
      "Training =>:  72%|███████▏  | 554/773 [00:06<00:02, 88.15it/s]\n",
      "Training =>:  73%|███████▎  | 563/773 [00:06<00:02, 87.91it/s]\n",
      "Training =>:  74%|███████▍  | 572/773 [00:06<00:02, 86.96it/s]\n",
      "Training =>:  75%|███████▌  | 581/773 [00:06<00:02, 85.61it/s]\n",
      "Training =>:  76%|███████▋  | 590/773 [00:06<00:02, 86.30it/s]\n",
      "Training =>:  78%|███████▊  | 600/773 [00:06<00:01, 87.77it/s]\n",
      "Training =>:  79%|███████▉  | 609/773 [00:06<00:01, 87.88it/s]\n",
      "Training =>:  80%|███████▉  | 618/773 [00:07<00:01, 88.18it/s]\n",
      "Training =>:  81%|████████  | 627/773 [00:07<00:01, 88.00it/s]\n",
      "Training =>:  82%|████████▏ | 637/773 [00:07<00:01, 88.80it/s]\n",
      "Training =>:  84%|████████▎ | 647/773 [00:07<00:01, 89.47it/s]\n",
      "Training =>:  85%|████████▍ | 656/773 [00:07<00:01, 89.20it/s]\n",
      "Training =>:  86%|████████▌ | 665/773 [00:07<00:01, 87.77it/s]\n",
      "Training =>:  87%|████████▋ | 674/773 [00:07<00:01, 86.97it/s]\n",
      "Training =>:  88%|████████▊ | 683/773 [00:07<00:01, 84.20it/s]\n",
      "Training =>:  90%|████████▉ | 692/773 [00:07<00:00, 84.56it/s]\n",
      "Training =>:  91%|█████████ | 701/773 [00:08<00:00, 81.62it/s]\n",
      "Training =>:  92%|█████████▏| 710/773 [00:08<00:00, 83.30it/s]\n",
      "Training =>:  93%|█████████▎| 719/773 [00:08<00:00, 85.19it/s]\n",
      "Training =>:  94%|█████████▍| 728/773 [00:08<00:00, 85.73it/s]\n",
      "Training =>:  95%|█████████▌| 737/773 [00:08<00:00, 86.54it/s]\n",
      "Training =>:  97%|█████████▋| 746/773 [00:08<00:00, 84.80it/s]\n",
      "Training =>:  98%|█████████▊| 755/773 [00:08<00:00, 85.52it/s]\n",
      "Training =>:  99%|█████████▉| 764/773 [00:08<00:00, 86.58it/s]\n",
      "100%|██████████| 773/773 [00:08<00:00, 87.45it/s]\n",
      "Training =>: 100%|██████████| 773/773 [00:08<00:00, 87.39it/s]\n"
     ]
    },
    {
     "output_type": "stream",
     "name": "stdout",
     "text": [
      "Saving at epoch 28\n",
      "Epoch: 28 | Total Training Loss: 1.7904362678527832 | Pose Training Loss: 0.015465200878679752 | Action Training Loss: 0.24391618371009827 | Action Train Label Accuracy: 90.27151608272851\n"
     ]
    },
    {
     "output_type": "stream",
     "name": "stderr",
     "text": [
      "Testing =>:   0%|          | 0/293 [00:00<?, ?it/s]\n",
      "Testing =>:   6%|▋         | 19/293 [00:00<00:01, 188.94it/s]\n",
      "Testing =>:  14%|█▎        | 40/293 [00:00<00:01, 196.88it/s]\n",
      "Testing =>:  21%|██        | 61/293 [00:00<00:01, 198.41it/s]\n",
      "Testing =>:  28%|██▊       | 82/293 [00:00<00:01, 199.36it/s]\n",
      "Testing =>:  35%|███▍      | 102/293 [00:00<00:00, 199.44it/s]\n",
      "Testing =>:  42%|████▏     | 123/293 [00:00<00:00, 200.37it/s]\n",
      "Testing =>:  49%|████▉     | 144/293 [00:00<00:00, 200.01it/s]\n",
      "Testing =>:  56%|█████▋    | 165/293 [00:00<00:00, 200.68it/s]\n",
      "Testing =>:  63%|██████▎   | 186/293 [00:00<00:00, 200.68it/s]\n",
      "Testing =>:  71%|███████   | 207/293 [00:01<00:00, 199.68it/s]\n",
      "Testing =>:  78%|███████▊  | 228/293 [00:01<00:00, 200.70it/s]\n",
      "Testing =>:  85%|████████▍ | 249/293 [00:01<00:00, 200.09it/s]\n",
      "Testing =>:  92%|█████████▏| 270/293 [00:01<00:00, 201.36it/s]\n",
      "Testing =>:  99%|█████████▉| 291/293 [00:01<00:00, 201.61it/s]\n",
      "100%|██████████| 293/293 [00:01<00:00, 199.97it/s]\n",
      "Testing =>: 100%|██████████| 293/293 [00:01<00:00, 199.11it/s]\n"
     ]
    },
    {
     "output_type": "stream",
     "name": "stdout",
     "text": [
      "Epoch: 28 | Total Testing Loss: 1.935573935508728 | Pose Testing Loss: 0.014570319093763828 | Action Testing Loss: 0.47854113578796387 | Action Test Label Accuracy: 80.01654392144306\n",
      "Starting EPOCH: 30 / 30\n"
     ]
    },
    {
     "output_type": "stream",
     "name": "stderr",
     "text": [
      "Training =>:   0%|          | 0/773 [00:00<?, ?it/s]\n",
      "Training =>:   1%|          | 8/773 [00:00<00:09, 77.88it/s]\n",
      "Training =>:   2%|▏         | 17/773 [00:00<00:09, 82.61it/s]\n",
      "Training =>:   3%|▎         | 26/773 [00:00<00:08, 83.87it/s]\n",
      "Training =>:   5%|▍         | 35/773 [00:00<00:08, 84.57it/s]\n",
      "Training =>:   6%|▌         | 44/773 [00:00<00:08, 85.41it/s]\n",
      "Training =>:   7%|▋         | 53/773 [00:00<00:08, 85.98it/s]\n",
      "Training =>:   8%|▊         | 62/773 [00:00<00:08, 86.16it/s]\n",
      "Training =>:   9%|▉         | 71/773 [00:00<00:08, 86.80it/s]\n",
      "Training =>:  10%|█         | 80/773 [00:00<00:08, 86.47it/s]\n",
      "Training =>:  12%|█▏        | 89/773 [00:01<00:07, 86.75it/s]\n",
      "Training =>:  13%|█▎        | 98/773 [00:01<00:07, 86.66it/s]\n",
      "Training =>:  14%|█▍        | 107/773 [00:01<00:07, 86.83it/s]\n",
      "Training =>:  15%|█▌        | 116/773 [00:01<00:07, 87.30it/s]\n",
      "Training =>:  16%|█▌        | 125/773 [00:01<00:07, 87.94it/s]\n",
      "Training =>:  17%|█▋        | 134/773 [00:01<00:07, 87.59it/s]\n",
      "Training =>:  18%|█▊        | 143/773 [00:01<00:07, 86.25it/s]\n",
      "Training =>:  20%|█▉        | 152/773 [00:01<00:07, 85.90it/s]\n",
      "Training =>:  21%|██        | 162/773 [00:01<00:07, 87.23it/s]\n",
      "Training =>:  22%|██▏       | 171/773 [00:01<00:06, 86.77it/s]\n",
      "Training =>:  23%|██▎       | 180/773 [00:02<00:06, 86.78it/s]\n",
      "Training =>:  24%|██▍       | 189/773 [00:02<00:06, 86.86it/s]\n",
      "Training =>:  26%|██▌       | 198/773 [00:02<00:06, 87.32it/s]\n",
      "Training =>:  27%|██▋       | 207/773 [00:02<00:06, 87.07it/s]\n",
      "Training =>:  28%|██▊       | 216/773 [00:02<00:06, 86.61it/s]\n",
      "Training =>:  29%|██▉       | 225/773 [00:02<00:06, 86.58it/s]\n",
      "Training =>:  30%|███       | 234/773 [00:02<00:06, 87.16it/s]\n",
      "Training =>:  31%|███▏      | 243/773 [00:02<00:06, 87.66it/s]\n",
      "Training =>:  33%|███▎      | 252/773 [00:02<00:05, 87.35it/s]\n",
      "Training =>:  34%|███▍      | 261/773 [00:03<00:05, 87.75it/s]\n",
      "Training =>:  35%|███▍      | 270/773 [00:03<00:05, 87.95it/s]\n",
      "Training =>:  36%|███▌      | 280/773 [00:03<00:05, 89.00it/s]\n",
      "Training =>:  38%|███▊      | 290/773 [00:03<00:05, 89.68it/s]\n",
      "Training =>:  39%|███▊      | 299/773 [00:03<00:05, 89.33it/s]\n",
      "Training =>:  40%|███▉      | 309/773 [00:03<00:05, 89.82it/s]\n",
      "Training =>:  41%|████      | 318/773 [00:03<00:05, 88.74it/s]\n",
      "Training =>:  42%|████▏     | 328/773 [00:03<00:04, 89.34it/s]\n",
      "Training =>:  44%|████▎     | 338/773 [00:03<00:04, 89.70it/s]\n",
      "Training =>:  45%|████▍     | 347/773 [00:03<00:04, 89.37it/s]\n",
      "Training =>:  46%|████▌     | 356/773 [00:04<00:04, 89.25it/s]\n",
      "Training =>:  47%|████▋     | 366/773 [00:04<00:04, 89.93it/s]\n",
      "Training =>:  49%|████▊     | 376/773 [00:04<00:04, 90.31it/s]\n",
      "Training =>:  50%|████▉     | 386/773 [00:04<00:04, 90.56it/s]\n",
      "Training =>:  51%|█████     | 396/773 [00:04<00:04, 90.84it/s]\n",
      "Training =>:  53%|█████▎    | 406/773 [00:04<00:04, 89.91it/s]\n",
      "Training =>:  54%|█████▎    | 415/773 [00:04<00:03, 89.89it/s]\n",
      "Training =>:  55%|█████▍    | 425/773 [00:04<00:03, 90.27it/s]\n",
      "Training =>:  56%|█████▋    | 435/773 [00:04<00:03, 89.85it/s]\n",
      "Training =>:  57%|█████▋    | 444/773 [00:05<00:03, 89.25it/s]\n",
      "Training =>:  59%|█████▊    | 453/773 [00:05<00:03, 89.38it/s]\n",
      "Training =>:  60%|█████▉    | 462/773 [00:05<00:03, 89.40it/s]\n",
      "Training =>:  61%|██████    | 471/773 [00:05<00:03, 89.40it/s]\n",
      "Training =>:  62%|██████▏   | 480/773 [00:05<00:03, 89.50it/s]\n",
      "Training =>:  63%|██████▎   | 489/773 [00:05<00:03, 89.15it/s]\n",
      "Training =>:  64%|██████▍   | 498/773 [00:05<00:03, 89.01it/s]\n",
      "Training =>:  66%|██████▌   | 508/773 [00:05<00:02, 89.98it/s]\n",
      "Training =>:  67%|██████▋   | 517/773 [00:05<00:02, 89.68it/s]\n",
      "Training =>:  68%|██████▊   | 526/773 [00:05<00:02, 88.16it/s]\n",
      "Training =>:  69%|██████▉   | 535/773 [00:06<00:02, 88.39it/s]\n",
      "Training =>:  70%|███████   | 544/773 [00:06<00:02, 88.66it/s]\n",
      "Training =>:  72%|███████▏  | 553/773 [00:06<00:02, 74.99it/s]\n",
      "Training =>:  73%|███████▎  | 563/773 [00:06<00:02, 79.42it/s]\n",
      "Training =>:  74%|███████▍  | 572/773 [00:06<00:02, 82.07it/s]\n",
      "Training =>:  75%|███████▌  | 581/773 [00:06<00:02, 82.10it/s]\n",
      "Training =>:  76%|███████▋  | 590/773 [00:06<00:02, 83.33it/s]\n",
      "Training =>:  77%|███████▋  | 599/773 [00:06<00:02, 84.87it/s]\n",
      "Training =>:  79%|███████▊  | 608/773 [00:06<00:01, 83.87it/s]\n",
      "Training =>:  80%|███████▉  | 617/773 [00:07<00:01, 84.98it/s]\n",
      "Training =>:  81%|████████  | 626/773 [00:07<00:01, 85.60it/s]\n",
      "Training =>:  82%|████████▏ | 635/773 [00:07<00:01, 86.01it/s]\n",
      "Training =>:  83%|████████▎ | 644/773 [00:07<00:01, 86.28it/s]\n",
      "Training =>:  84%|████████▍ | 653/773 [00:07<00:01, 86.73it/s]\n",
      "Training =>:  86%|████████▌ | 662/773 [00:07<00:01, 87.64it/s]\n",
      "Training =>:  87%|████████▋ | 671/773 [00:07<00:01, 87.00it/s]\n",
      "Training =>:  88%|████████▊ | 680/773 [00:07<00:01, 87.83it/s]\n",
      "Training =>:  89%|████████▉ | 689/773 [00:07<00:00, 86.73it/s]\n",
      "Training =>:  90%|█████████ | 698/773 [00:08<00:00, 87.16it/s]\n",
      "Training =>:  91%|█████████▏| 707/773 [00:08<00:00, 86.99it/s]\n",
      "Training =>:  93%|█████████▎| 716/773 [00:08<00:00, 87.62it/s]\n",
      "Training =>:  94%|█████████▍| 725/773 [00:08<00:00, 88.17it/s]\n",
      "Training =>:  95%|█████████▍| 734/773 [00:08<00:00, 86.62it/s]\n",
      "Training =>:  96%|█████████▌| 743/773 [00:08<00:00, 84.21it/s]\n",
      "Training =>:  97%|█████████▋| 752/773 [00:08<00:00, 85.41it/s]\n",
      "Training =>:  98%|█████████▊| 761/773 [00:08<00:00, 86.03it/s]\n",
      "100%|██████████| 773/773 [00:08<00:00, 87.11it/s]\n",
      "Training =>: 100%|██████████| 773/773 [00:08<00:00, 87.04it/s]\n"
     ]
    },
    {
     "output_type": "stream",
     "name": "stdout",
     "text": [
      "Saving at epoch 29\n",
      "Epoch: 29 | Total Training Loss: 1.7584266662597656 | Pose Training Loss: 0.015206225216388702 | Action Training Loss: 0.2378043234348297 | Action Train Label Accuracy: 90.50552938560136\n"
     ]
    },
    {
     "output_type": "stream",
     "name": "stderr",
     "text": [
      "Testing =>:   0%|          | 0/293 [00:00<?, ?it/s]\n",
      "Testing =>:   7%|▋         | 20/293 [00:00<00:01, 196.43it/s]\n",
      "Testing =>:  14%|█▍        | 42/293 [00:00<00:01, 205.32it/s]\n",
      "Testing =>:  22%|██▏       | 64/293 [00:00<00:01, 208.48it/s]\n",
      "Testing =>:  29%|██▉       | 85/293 [00:00<00:01, 205.59it/s]\n",
      "Testing =>:  36%|███▌      | 106/293 [00:00<00:00, 204.66it/s]\n",
      "Testing =>:  43%|████▎     | 127/293 [00:00<00:00, 204.18it/s]\n",
      "Testing =>:  51%|█████     | 148/293 [00:00<00:00, 204.95it/s]\n",
      "Testing =>:  58%|█████▊    | 169/293 [00:00<00:00, 203.91it/s]\n",
      "Testing =>:  65%|██████▍   | 190/293 [00:00<00:00, 202.93it/s]\n",
      "Testing =>:  72%|███████▏  | 211/293 [00:01<00:00, 198.90it/s]\n",
      "Testing =>:  79%|███████▉  | 232/293 [00:01<00:00, 200.48it/s]\n",
      "Testing =>:  86%|████████▋ | 253/293 [00:01<00:00, 201.82it/s]\n",
      "Testing =>:  94%|█████████▎| 274/293 [00:01<00:00, 202.54it/s]\n",
      "100%|██████████| 293/293 [00:01<00:00, 203.39it/s]\n",
      "Testing =>: 100%|██████████| 293/293 [00:01<00:00, 202.77it/s]\n"
     ]
    },
    {
     "output_type": "stream",
     "name": "stdout",
     "text": [
      "Epoch: 29 | Total Testing Loss: 1.9219890832901 | Pose Testing Loss: 0.014424951747059822 | Action Testing Loss: 0.479493111371994 | Action Test Label Accuracy: 80.16730707652899\n"
     ]
    },
    {
     "output_type": "display_data",
     "data": {
      "text/plain": [
       "<Figure size 640x480 with 0 Axes>"
      ]
     },
     "metadata": {}
    }
   ],
   "source": [
    "from src.simple_pose.train_and_test import training_loop\n",
    "from argparse import Namespace\n",
    "import os\n",
    "from datetime import datetime\n",
    "timestamp = datetime.now().strftime(\"%Y-%m-%d--%H-%M-%S\")\n",
    "\n",
    "args_dict = {\n",
    "    'learning_rate': 3e-5,\n",
    "    'num_epochs': 30,\n",
    "    'batch_size': 256,\n",
    "    'action_loss_multiplier': 1,\n",
    "    'pose_loss_multiplier': 100,\n",
    "    'training_2d_data_path': os.path.join('datasets', 'h36m', 'Processed', 'train_2d_poses.npy'),\n",
    "    'training_3d_data_path': os.path.join('datasets', 'h36m', 'Processed', 'train_3d_poses.npy'),\n",
    "    'training_label_path': os.path.join('datasets', 'h36m', 'Processed', 'train_actions.npy'),\n",
    "    'testing_2d_data_path': os.path.join('datasets', 'h36m', 'Processed', 'test_2d_poses.npy'),\n",
    "    'testing_3d_data_path': os.path.join('datasets', 'h36m', 'Processed', 'test_3d_poses.npy'),\n",
    "    'testing_label_path': os.path.join('datasets', 'h36m', 'Processed', 'test_actions.npy'),\n",
    "    'save_path': os.path.join('model_outputs', 'simple_pose', timestamp)\n",
    "}\n",
    "args = Namespace(**args_dict)\n",
    "training_loop(args)"
   ]
  },
  {
   "cell_type": "markdown",
   "id": "e0032857",
   "metadata": {},
   "source": [
    "<h3><u>3.5.  Training Graph Convolutional model (SimplePoseGNN) </u></h3>"
   ]
  },
  {
   "cell_type": "code",
   "execution_count": null,
   "id": "5507bae9",
   "metadata": {
    "colab": {
     "base_uri": "https://localhost:8080/",
     "height": 1000
    },
    "id": "5507bae9",
    "outputId": "48a41ce3-f772-4f64-e58f-c5cf807de456"
   },
   "outputs": [
    {
     "output_type": "stream",
     "name": "stdout",
     "text": [
      "Training args are: Namespace(learning_rate=3e-05, num_epochs=30, batch_size=256, action_loss_multiplier=1, pose_loss_multiplier=100, training_2d_data_path='datasets/h36m/Processed/train_2d_poses.npy', training_3d_data_path='datasets/h36m/Processed/train_3d_poses.npy', training_label_path='datasets/h36m/Processed/train_actions.npy', testing_2d_data_path='datasets/h36m/Processed/test_2d_poses.npy', testing_3d_data_path='datasets/h36m/Processed/test_3d_poses.npy', testing_label_path='datasets/h36m/Processed/test_actions.npy', save_path='model_outputs/simple_pose_gnn/2024-11-18--03-35-29')\n",
      "Starting EPOCH: 1 / 30\n"
     ]
    },
    {
     "output_type": "stream",
     "name": "stderr",
     "text": [
      "Training =>: 100%|██████████| 773/773 [02:07<00:00,  6.08it/s]\n"
     ]
    },
    {
     "output_type": "stream",
     "name": "stdout",
     "text": [
      "Saving at epoch 0\n",
      "Epoch: 0 | Total Training Loss: 14.24456787109375 | Pose Training Loss: 0.1294834166765213 | Action Training Loss: 1.2962241172790527 | Action Train Label Accuracy: 47.89842912884378\n"
     ]
    },
    {
     "output_type": "stream",
     "name": "stderr",
     "text": [
      "Testing =>: 100%|██████████| 293/293 [00:41<00:00,  7.10it/s]\n"
     ]
    },
    {
     "output_type": "stream",
     "name": "stdout",
     "text": [
      "Epoch: 0 | Total Testing Loss: 6.902277946472168 | Pose Testing Loss: 0.056832555681467056 | Action Testing Loss: 1.2190204858779907 | Action Test Label Accuracy: 54.039918881417435\n",
      "Starting EPOCH: 2 / 30\n"
     ]
    },
    {
     "output_type": "stream",
     "name": "stderr",
     "text": [
      "Training =>: 100%|██████████| 773/773 [02:05<00:00,  6.14it/s]\n"
     ]
    },
    {
     "output_type": "stream",
     "name": "stdout",
     "text": [
      "Saving at epoch 1\n",
      "Epoch: 1 | Total Training Loss: 6.95900821685791 | Pose Training Loss: 0.05998128280043602 | Action Training Loss: 0.9608767032623291 | Action Train Label Accuracy: 61.958433576612826\n"
     ]
    },
    {
     "output_type": "stream",
     "name": "stderr",
     "text": [
      "Testing =>: 100%|██████████| 293/293 [00:43<00:00,  6.68it/s]\n"
     ]
    },
    {
     "output_type": "stream",
     "name": "stdout",
     "text": [
      "Epoch: 1 | Total Testing Loss: 5.613968849182129 | Pose Testing Loss: 0.04658839479088783 | Action Testing Loss: 0.9551315307617188 | Action Test Label Accuracy: 65.29111964990928\n",
      "Starting EPOCH: 3 / 30\n"
     ]
    },
    {
     "output_type": "stream",
     "name": "stderr",
     "text": [
      "Training =>: 100%|██████████| 773/773 [02:08<00:00,  6.02it/s]\n"
     ]
    },
    {
     "output_type": "stream",
     "name": "stdout",
     "text": [
      "Saving at epoch 2\n",
      "Epoch: 2 | Total Training Loss: 6.111195087432861 | Pose Training Loss: 0.05270753055810928 | Action Training Loss: 0.8404414653778076 | Action Train Label Accuracy: 65.491377393203\n"
     ]
    },
    {
     "output_type": "stream",
     "name": "stderr",
     "text": [
      "Testing =>: 100%|██████████| 293/293 [00:42<00:00,  6.95it/s]\n"
     ]
    },
    {
     "output_type": "stream",
     "name": "stdout",
     "text": [
      "Epoch: 2 | Total Testing Loss: 5.238968849182129 | Pose Testing Loss: 0.043737225234508514 | Action Testing Loss: 0.8652459383010864 | Action Test Label Accuracy: 67.35110470701248\n",
      "Starting EPOCH: 4 / 30\n"
     ]
    },
    {
     "output_type": "stream",
     "name": "stderr",
     "text": [
      "Training =>: 100%|██████████| 773/773 [02:05<00:00,  6.15it/s]\n"
     ]
    },
    {
     "output_type": "stream",
     "name": "stdout",
     "text": [
      "Saving at epoch 3\n",
      "Epoch: 3 | Total Training Loss: 5.614279747009277 | Pose Training Loss: 0.04829052835702896 | Action Training Loss: 0.7852303385734558 | Action Train Label Accuracy: 67.41301578958009\n"
     ]
    },
    {
     "output_type": "stream",
     "name": "stderr",
     "text": [
      "Testing =>: 100%|██████████| 293/293 [00:44<00:00,  6.57it/s]\n"
     ]
    },
    {
     "output_type": "stream",
     "name": "stdout",
     "text": [
      "Epoch: 3 | Total Testing Loss: 4.790541648864746 | Pose Testing Loss: 0.039744868874549866 | Action Testing Loss: 0.8160549998283386 | Action Test Label Accuracy: 67.80606254669655\n",
      "Starting EPOCH: 5 / 30\n"
     ]
    },
    {
     "output_type": "stream",
     "name": "stderr",
     "text": [
      "Training =>: 100%|██████████| 773/773 [02:07<00:00,  6.06it/s]\n"
     ]
    },
    {
     "output_type": "stream",
     "name": "stdout",
     "text": [
      "Saving at epoch 4\n",
      "Epoch: 4 | Total Training Loss: 5.1178669929504395 | Pose Training Loss: 0.04367252066731453 | Action Training Loss: 0.750610888004303 | Action Train Label Accuracy: 68.64929341123668\n"
     ]
    },
    {
     "output_type": "stream",
     "name": "stderr",
     "text": [
      "Testing =>: 100%|██████████| 293/293 [00:44<00:00,  6.64it/s]\n"
     ]
    },
    {
     "output_type": "stream",
     "name": "stdout",
     "text": [
      "Epoch: 4 | Total Testing Loss: 4.185216426849365 | Pose Testing Loss: 0.03396730124950409 | Action Testing Loss: 0.7884860634803772 | Action Test Label Accuracy: 68.78669014836161\n",
      "Starting EPOCH: 6 / 30\n"
     ]
    },
    {
     "output_type": "stream",
     "name": "stderr",
     "text": [
      "Training =>: 100%|██████████| 773/773 [02:07<00:00,  6.04it/s]\n"
     ]
    },
    {
     "output_type": "stream",
     "name": "stdout",
     "text": [
      "Saving at epoch 5\n",
      "Epoch: 5 | Total Training Loss: 4.721930980682373 | Pose Training Loss: 0.04005754739046097 | Action Training Loss: 0.7161731123924255 | Action Train Label Accuracy: 69.95077128358571\n"
     ]
    },
    {
     "output_type": "stream",
     "name": "stderr",
     "text": [
      "Testing =>: 100%|██████████| 293/293 [00:43<00:00,  6.79it/s]\n"
     ]
    },
    {
     "output_type": "stream",
     "name": "stdout",
     "text": [
      "Epoch: 5 | Total Testing Loss: 3.896273374557495 | Pose Testing Loss: 0.03136249631643295 | Action Testing Loss: 0.7600265741348267 | Action Test Label Accuracy: 70.62520012808197\n",
      "Starting EPOCH: 7 / 30\n"
     ]
    },
    {
     "output_type": "stream",
     "name": "stderr",
     "text": [
      "Training =>: 100%|██████████| 773/773 [02:08<00:00,  6.01it/s]\n"
     ]
    },
    {
     "output_type": "stream",
     "name": "stdout",
     "text": [
      "Saving at epoch 6\n",
      "Epoch: 6 | Total Training Loss: 4.423716068267822 | Pose Training Loss: 0.03739633783698082 | Action Training Loss: 0.6840818524360657 | Action Train Label Accuracy: 71.42005135151528\n"
     ]
    },
    {
     "output_type": "stream",
     "name": "stderr",
     "text": [
      "Testing =>: 100%|██████████| 293/293 [00:43<00:00,  6.72it/s]\n"
     ]
    },
    {
     "output_type": "stream",
     "name": "stdout",
     "text": [
      "Epoch: 6 | Total Testing Loss: 3.681725025177002 | Pose Testing Loss: 0.02962421253323555 | Action Testing Loss: 0.7193050384521484 | Action Test Label Accuracy: 72.23156153271427\n",
      "Starting EPOCH: 8 / 30\n"
     ]
    },
    {
     "output_type": "stream",
     "name": "stderr",
     "text": [
      "Training =>: 100%|██████████| 773/773 [02:07<00:00,  6.08it/s]\n"
     ]
    },
    {
     "output_type": "stream",
     "name": "stdout",
     "text": [
      "Saving at epoch 7\n",
      "Epoch: 7 | Total Training Loss: 4.170155048370361 | Pose Training Loss: 0.03525152429938316 | Action Training Loss: 0.6450006365776062 | Action Train Label Accuracy: 73.53880678486951\n"
     ]
    },
    {
     "output_type": "stream",
     "name": "stderr",
     "text": [
      "Testing =>: 100%|██████████| 293/293 [00:44<00:00,  6.60it/s]\n"
     ]
    },
    {
     "output_type": "stream",
     "name": "stdout",
     "text": [
      "Epoch: 7 | Total Testing Loss: 3.547675132751465 | Pose Testing Loss: 0.028363855555653572 | Action Testing Loss: 0.7112874388694763 | Action Test Label Accuracy: 74.58239940228412\n",
      "Starting EPOCH: 9 / 30\n"
     ]
    },
    {
     "output_type": "stream",
     "name": "stderr",
     "text": [
      "Training =>: 100%|██████████| 773/773 [02:08<00:00,  6.04it/s]\n"
     ]
    },
    {
     "output_type": "stream",
     "name": "stdout",
     "text": [
      "Saving at epoch 8\n",
      "Epoch: 8 | Total Training Loss: 3.9506099224090576 | Pose Training Loss: 0.033505186438560486 | Action Training Loss: 0.6000866293907166 | Action Train Label Accuracy: 75.80009299880719\n"
     ]
    },
    {
     "output_type": "stream",
     "name": "stderr",
     "text": [
      "Testing =>: 100%|██████████| 293/293 [00:45<00:00,  6.44it/s]\n"
     ]
    },
    {
     "output_type": "stream",
     "name": "stdout",
     "text": [
      "Epoch: 8 | Total Testing Loss: 3.3562231063842773 | Pose Testing Loss: 0.026983175426721573 | Action Testing Loss: 0.657905638217926 | Action Test Label Accuracy: 74.52636353933184\n",
      "Starting EPOCH: 10 / 30\n"
     ]
    },
    {
     "output_type": "stream",
     "name": "stderr",
     "text": [
      "Training =>: 100%|██████████| 773/773 [02:09<00:00,  5.99it/s]\n"
     ]
    },
    {
     "output_type": "stream",
     "name": "stdout",
     "text": [
      "Saving at epoch 9\n",
      "Epoch: 9 | Total Training Loss: 3.7459120750427246 | Pose Training Loss: 0.03192107751965523 | Action Training Loss: 0.5538071393966675 | Action Train Label Accuracy: 77.82534419667226\n"
     ]
    },
    {
     "output_type": "stream",
     "name": "stderr",
     "text": [
      "Testing =>: 100%|██████████| 293/293 [00:42<00:00,  6.91it/s]\n"
     ]
    },
    {
     "output_type": "stream",
     "name": "stdout",
     "text": [
      "Epoch: 9 | Total Testing Loss: 3.1989402770996094 | Pose Testing Loss: 0.025823380798101425 | Action Testing Loss: 0.6166025400161743 | Action Test Label Accuracy: 74.14211762194472\n",
      "Starting EPOCH: 11 / 30\n"
     ]
    },
    {
     "output_type": "stream",
     "name": "stderr",
     "text": [
      "Training =>: 100%|██████████| 773/773 [02:07<00:00,  6.05it/s]\n"
     ]
    },
    {
     "output_type": "stream",
     "name": "stdout",
     "text": [
      "Saving at epoch 10\n",
      "Epoch: 10 | Total Training Loss: 3.5606913566589355 | Pose Training Loss: 0.030448883771896362 | Action Training Loss: 0.5158032774925232 | Action Train Label Accuracy: 79.08234437862644\n"
     ]
    },
    {
     "output_type": "stream",
     "name": "stderr",
     "text": [
      "Testing =>: 100%|██████████| 293/293 [00:45<00:00,  6.48it/s]\n"
     ]
    },
    {
     "output_type": "stream",
     "name": "stdout",
     "text": [
      "Epoch: 10 | Total Testing Loss: 3.0280048847198486 | Pose Testing Loss: 0.024350717663764954 | Action Testing Loss: 0.5929323434829712 | Action Test Label Accuracy: 74.91994876721103\n",
      "Starting EPOCH: 12 / 30\n"
     ]
    },
    {
     "output_type": "stream",
     "name": "stderr",
     "text": [
      "Training =>: 100%|██████████| 773/773 [02:07<00:00,  6.06it/s]\n"
     ]
    },
    {
     "output_type": "stream",
     "name": "stdout",
     "text": [
      "Saving at epoch 11\n",
      "Epoch: 11 | Total Training Loss: 3.396138906478882 | Pose Training Loss: 0.029067648574709892 | Action Training Loss: 0.48937416076660156 | Action Train Label Accuracy: 79.98756646382145\n"
     ]
    },
    {
     "output_type": "stream",
     "name": "stderr",
     "text": [
      "Testing =>: 100%|██████████| 293/293 [00:43<00:00,  6.78it/s]\n"
     ]
    },
    {
     "output_type": "stream",
     "name": "stdout",
     "text": [
      "Epoch: 11 | Total Testing Loss: 2.8745768070220947 | Pose Testing Loss: 0.02299349755048752 | Action Testing Loss: 0.5752273797988892 | Action Test Label Accuracy: 74.57839684064467\n",
      "Starting EPOCH: 13 / 30\n"
     ]
    },
    {
     "output_type": "stream",
     "name": "stderr",
     "text": [
      "Training =>: 100%|██████████| 773/773 [02:08<00:00,  6.02it/s]\n"
     ]
    },
    {
     "output_type": "stream",
     "name": "stdout",
     "text": [
      "Saving at epoch 12\n",
      "Epoch: 12 | Total Training Loss: 3.2622063159942627 | Pose Training Loss: 0.027964739128947258 | Action Training Loss: 0.46573153138160706 | Action Train Label Accuracy: 80.79069203242828\n"
     ]
    },
    {
     "output_type": "stream",
     "name": "stderr",
     "text": [
      "Testing =>: 100%|██████████| 293/293 [00:44<00:00,  6.60it/s]\n"
     ]
    },
    {
     "output_type": "stream",
     "name": "stdout",
     "text": [
      "Epoch: 12 | Total Testing Loss: 2.7292444705963135 | Pose Testing Loss: 0.02168227732181549 | Action Testing Loss: 0.5610177516937256 | Action Test Label Accuracy: 74.94663251147401\n",
      "Starting EPOCH: 14 / 30\n"
     ]
    },
    {
     "output_type": "stream",
     "name": "stderr",
     "text": [
      "Training =>: 100%|██████████| 773/773 [02:08<00:00,  6.00it/s]\n"
     ]
    },
    {
     "output_type": "stream",
     "name": "stdout",
     "text": [
      "Saving at epoch 13\n",
      "Epoch: 13 | Total Training Loss: 3.1434309482574463 | Pose Training Loss: 0.026996444910764694 | Action Training Loss: 0.44378480315208435 | Action Train Label Accuracy: 81.3845702848594\n"
     ]
    },
    {
     "output_type": "stream",
     "name": "stderr",
     "text": [
      "Testing =>: 100%|██████████| 293/293 [00:43<00:00,  6.67it/s]\n"
     ]
    },
    {
     "output_type": "stream",
     "name": "stdout",
     "text": [
      "Epoch: 13 | Total Testing Loss: 2.6340222358703613 | Pose Testing Loss: 0.02075020782649517 | Action Testing Loss: 0.5590022206306458 | Action Test Label Accuracy: 74.65311132458106\n",
      "Starting EPOCH: 15 / 30\n"
     ]
    },
    {
     "output_type": "stream",
     "name": "stderr",
     "text": [
      "Training =>: 100%|██████████| 773/773 [02:08<00:00,  5.99it/s]\n"
     ]
    },
    {
     "output_type": "stream",
     "name": "stdout",
     "text": [
      "Saving at epoch 14\n",
      "Epoch: 14 | Total Training Loss: 3.037745475769043 | Pose Training Loss: 0.02611091546714306 | Action Training Loss: 0.426656037569046 | Action Train Label Accuracy: 82.20942927036371\n"
     ]
    },
    {
     "output_type": "stream",
     "name": "stderr",
     "text": [
      "Testing =>: 100%|██████████| 293/293 [00:45<00:00,  6.40it/s]\n"
     ]
    },
    {
     "output_type": "stream",
     "name": "stdout",
     "text": [
      "Epoch: 14 | Total Testing Loss: 2.52630615234375 | Pose Testing Loss: 0.019926678389310837 | Action Testing Loss: 0.5336376428604126 | Action Test Label Accuracy: 75.7965097662504\n",
      "Starting EPOCH: 16 / 30\n"
     ]
    },
    {
     "output_type": "stream",
     "name": "stderr",
     "text": [
      "Training =>: 100%|██████████| 773/773 [02:09<00:00,  5.99it/s]\n"
     ]
    },
    {
     "output_type": "stream",
     "name": "stdout",
     "text": [
      "Saving at epoch 15\n",
      "Epoch: 15 | Total Training Loss: 2.9412827491760254 | Pose Training Loss: 0.025308623909950256 | Action Training Loss: 0.41041994094848633 | Action Train Label Accuracy: 82.8336332207913\n"
     ]
    },
    {
     "output_type": "stream",
     "name": "stderr",
     "text": [
      "Testing =>: 100%|██████████| 293/293 [00:43<00:00,  6.73it/s]\n"
     ]
    },
    {
     "output_type": "stream",
     "name": "stdout",
     "text": [
      "Epoch: 15 | Total Testing Loss: 2.468031644821167 | Pose Testing Loss: 0.01932913064956665 | Action Testing Loss: 0.5351172089576721 | Action Test Label Accuracy: 75.19479133311987\n",
      "Starting EPOCH: 17 / 30\n"
     ]
    },
    {
     "output_type": "stream",
     "name": "stderr",
     "text": [
      "Training =>: 100%|██████████| 773/773 [02:08<00:00,  6.01it/s]\n"
     ]
    },
    {
     "output_type": "stream",
     "name": "stdout",
     "text": [
      "Saving at epoch 16\n",
      "Epoch: 16 | Total Training Loss: 2.8524982929229736 | Pose Training Loss: 0.024567123502492905 | Action Training Loss: 0.3957851231098175 | Action Train Label Accuracy: 83.51899399551179\n"
     ]
    },
    {
     "output_type": "stream",
     "name": "stderr",
     "text": [
      "Testing =>: 100%|██████████| 293/293 [00:43<00:00,  6.81it/s]\n"
     ]
    },
    {
     "output_type": "stream",
     "name": "stdout",
     "text": [
      "Epoch: 16 | Total Testing Loss: 2.4054713249206543 | Pose Testing Loss: 0.018712786957621574 | Action Testing Loss: 0.534191906452179 | Action Test Label Accuracy: 75.46029458853666\n",
      "Starting EPOCH: 18 / 30\n"
     ]
    },
    {
     "output_type": "stream",
     "name": "stderr",
     "text": [
      "Training =>: 100%|██████████| 773/773 [02:07<00:00,  6.06it/s]\n"
     ]
    },
    {
     "output_type": "stream",
     "name": "stdout",
     "text": [
      "Saving at epoch 17\n",
      "Epoch: 17 | Total Training Loss: 2.771574020385742 | Pose Training Loss: 0.023872578516602516 | Action Training Loss: 0.3843149244785309 | Action Train Label Accuracy: 83.98196631825809\n"
     ]
    },
    {
     "output_type": "stream",
     "name": "stderr",
     "text": [
      "Testing =>: 100%|██████████| 293/293 [00:44<00:00,  6.56it/s]\n"
     ]
    },
    {
     "output_type": "stream",
     "name": "stdout",
     "text": [
      "Epoch: 17 | Total Testing Loss: 2.383622884750366 | Pose Testing Loss: 0.018381834030151367 | Action Testing Loss: 0.5454394221305847 | Action Test Label Accuracy: 74.88926246130858\n",
      "Starting EPOCH: 19 / 30\n"
     ]
    },
    {
     "output_type": "stream",
     "name": "stderr",
     "text": [
      "Training =>: 100%|██████████| 773/773 [02:08<00:00,  6.02it/s]\n"
     ]
    },
    {
     "output_type": "stream",
     "name": "stdout",
     "text": [
      "Saving at epoch 18\n",
      "Epoch: 18 | Total Training Loss: 2.6909327507019043 | Pose Training Loss: 0.02318444289267063 | Action Training Loss: 0.37248852849006653 | Action Train Label Accuracy: 84.46768291450175\n"
     ]
    },
    {
     "output_type": "stream",
     "name": "stderr",
     "text": [
      "Testing =>: 100%|██████████| 293/293 [00:44<00:00,  6.52it/s]\n"
     ]
    },
    {
     "output_type": "stream",
     "name": "stdout",
     "text": [
      "Epoch: 18 | Total Testing Loss: 2.3235881328582764 | Pose Testing Loss: 0.01794619672000408 | Action Testing Loss: 0.528969407081604 | Action Test Label Accuracy: 75.44295015476573\n",
      "Starting EPOCH: 20 / 30\n"
     ]
    },
    {
     "output_type": "stream",
     "name": "stderr",
     "text": [
      "Training =>: 100%|██████████| 773/773 [02:08<00:00,  6.03it/s]\n"
     ]
    },
    {
     "output_type": "stream",
     "name": "stdout",
     "text": [
      "Saving at epoch 19\n",
      "Epoch: 19 | Total Training Loss: 2.622431755065918 | Pose Training Loss: 0.022597987204790115 | Action Training Loss: 0.3626313805580139 | Action Train Label Accuracy: 84.90892182035057\n"
     ]
    },
    {
     "output_type": "stream",
     "name": "stderr",
     "text": [
      "Testing =>: 100%|██████████| 293/293 [00:43<00:00,  6.70it/s]\n"
     ]
    },
    {
     "output_type": "stream",
     "name": "stdout",
     "text": [
      "Epoch: 19 | Total Testing Loss: 2.302480936050415 | Pose Testing Loss: 0.017673665657639503 | Action Testing Loss: 0.5351141095161438 | Action Test Label Accuracy: 75.61772867968834\n",
      "Starting EPOCH: 21 / 30\n"
     ]
    },
    {
     "output_type": "stream",
     "name": "stderr",
     "text": [
      "Training =>: 100%|██████████| 773/773 [02:09<00:00,  5.99it/s]\n"
     ]
    },
    {
     "output_type": "stream",
     "name": "stdout",
     "text": [
      "Saving at epoch 20\n",
      "Epoch: 20 | Total Training Loss: 2.5644261837005615 | Pose Training Loss: 0.02210976928472519 | Action Training Loss: 0.35344839096069336 | Action Train Label Accuracy: 85.38351899399551\n"
     ]
    },
    {
     "output_type": "stream",
     "name": "stderr",
     "text": [
      "Testing =>: 100%|██████████| 293/293 [00:44<00:00,  6.58it/s]\n"
     ]
    },
    {
     "output_type": "stream",
     "name": "stdout",
     "text": [
      "Epoch: 20 | Total Testing Loss: 2.2544870376586914 | Pose Testing Loss: 0.0173322893679142 | Action Testing Loss: 0.5212581157684326 | Action Test Label Accuracy: 75.62306542854094\n",
      "Starting EPOCH: 22 / 30\n"
     ]
    },
    {
     "output_type": "stream",
     "name": "stderr",
     "text": [
      "Training =>: 100%|██████████| 773/773 [02:07<00:00,  6.07it/s]\n"
     ]
    },
    {
     "output_type": "stream",
     "name": "stdout",
     "text": [
      "Saving at epoch 21\n",
      "Epoch: 21 | Total Training Loss: 2.5092051029205322 | Pose Training Loss: 0.0216500386595726 | Action Training Loss: 0.34420353174209595 | Action Train Label Accuracy: 85.79544305844773\n"
     ]
    },
    {
     "output_type": "stream",
     "name": "stderr",
     "text": [
      "Testing =>: 100%|██████████| 293/293 [00:43<00:00,  6.79it/s]\n"
     ]
    },
    {
     "output_type": "stream",
     "name": "stdout",
     "text": [
      "Epoch: 21 | Total Testing Loss: 2.2271933555603027 | Pose Testing Loss: 0.017040828242897987 | Action Testing Loss: 0.523110568523407 | Action Test Label Accuracy: 76.13939588002988\n",
      "Starting EPOCH: 23 / 30\n"
     ]
    },
    {
     "output_type": "stream",
     "name": "stderr",
     "text": [
      "Training =>: 100%|██████████| 773/773 [02:08<00:00,  6.02it/s]\n"
     ]
    },
    {
     "output_type": "stream",
     "name": "stdout",
     "text": [
      "Saving at epoch 22\n",
      "Epoch: 22 | Total Training Loss: 2.4509453773498535 | Pose Training Loss: 0.02112911082804203 | Action Training Loss: 0.3380354642868042 | Action Train Label Accuracy: 86.08151547621455\n"
     ]
    },
    {
     "output_type": "stream",
     "name": "stderr",
     "text": [
      "Testing =>: 100%|██████████| 293/293 [00:44<00:00,  6.63it/s]\n"
     ]
    },
    {
     "output_type": "stream",
     "name": "stdout",
     "text": [
      "Epoch: 22 | Total Testing Loss: 2.2179644107818604 | Pose Testing Loss: 0.01692955195903778 | Action Testing Loss: 0.5250096321105957 | Action Test Label Accuracy: 75.4963176432917\n",
      "Starting EPOCH: 24 / 30\n"
     ]
    },
    {
     "output_type": "stream",
     "name": "stderr",
     "text": [
      "Training =>: 100%|██████████| 773/773 [02:11<00:00,  5.89it/s]\n"
     ]
    },
    {
     "output_type": "stream",
     "name": "stdout",
     "text": [
      "Saving at epoch 23\n",
      "Epoch: 23 | Total Training Loss: 2.4017040729522705 | Pose Training Loss: 0.020703410729765892 | Action Training Loss: 0.3313647210597992 | Action Train Label Accuracy: 86.36455532418171\n"
     ]
    },
    {
     "output_type": "stream",
     "name": "stderr",
     "text": [
      "Testing =>: 100%|██████████| 293/293 [00:43<00:00,  6.73it/s]\n"
     ]
    },
    {
     "output_type": "stream",
     "name": "stdout",
     "text": [
      "Epoch: 23 | Total Testing Loss: 2.1865556240081787 | Pose Testing Loss: 0.01658615842461586 | Action Testing Loss: 0.5279397964477539 | Action Test Label Accuracy: 75.37090404525563\n",
      "Starting EPOCH: 25 / 30\n"
     ]
    },
    {
     "output_type": "stream",
     "name": "stderr",
     "text": [
      "Training =>: 100%|██████████| 773/773 [02:08<00:00,  6.01it/s]\n"
     ]
    },
    {
     "output_type": "stream",
     "name": "stdout",
     "text": [
      "Saving at epoch 24\n",
      "Epoch: 24 | Total Training Loss: 2.3558084964752197 | Pose Training Loss: 0.020326217636466026 | Action Training Loss: 0.32318565249443054 | Action Train Label Accuracy: 86.81135394132988\n"
     ]
    },
    {
     "output_type": "stream",
     "name": "stderr",
     "text": [
      "Testing =>: 100%|██████████| 293/293 [00:42<00:00,  6.87it/s]\n"
     ]
    },
    {
     "output_type": "stream",
     "name": "stdout",
     "text": [
      "Epoch: 24 | Total Testing Loss: 2.156276226043701 | Pose Testing Loss: 0.016396021470427513 | Action Testing Loss: 0.5166754126548767 | Action Test Label Accuracy: 76.29682997118155\n",
      "Starting EPOCH: 26 / 30\n"
     ]
    },
    {
     "output_type": "stream",
     "name": "stderr",
     "text": [
      "Training =>: 100%|██████████| 773/773 [02:09<00:00,  5.99it/s]\n"
     ]
    },
    {
     "output_type": "stream",
     "name": "stdout",
     "text": [
      "Saving at epoch 25\n",
      "Epoch: 25 | Total Training Loss: 2.3149609565734863 | Pose Training Loss: 0.019966211169958115 | Action Training Loss: 0.31833988428115845 | Action Train Label Accuracy: 87.02262297070537\n"
     ]
    },
    {
     "output_type": "stream",
     "name": "stderr",
     "text": [
      "Testing =>: 100%|██████████| 293/293 [00:44<00:00,  6.66it/s]\n"
     ]
    },
    {
     "output_type": "stream",
     "name": "stdout",
     "text": [
      "Epoch: 25 | Total Testing Loss: 2.1293251514434814 | Pose Testing Loss: 0.016152309253811836 | Action Testing Loss: 0.5140926837921143 | Action Test Label Accuracy: 76.11137794855374\n",
      "Starting EPOCH: 27 / 30\n"
     ]
    },
    {
     "output_type": "stream",
     "name": "stderr",
     "text": [
      "Training =>: 100%|██████████| 773/773 [02:09<00:00,  5.96it/s]\n"
     ]
    },
    {
     "output_type": "stream",
     "name": "stdout",
     "text": [
      "Saving at epoch 26\n",
      "Epoch: 26 | Total Training Loss: 2.274895191192627 | Pose Training Loss: 0.01962411217391491 | Action Training Loss: 0.31248369812965393 | Action Train Label Accuracy: 87.23995713968017\n"
     ]
    },
    {
     "output_type": "stream",
     "name": "stderr",
     "text": [
      "Testing =>: 100%|██████████| 293/293 [00:43<00:00,  6.70it/s]\n"
     ]
    },
    {
     "output_type": "stream",
     "name": "stdout",
     "text": [
      "Epoch: 26 | Total Testing Loss: 2.1191153526306152 | Pose Testing Loss: 0.015914160758256912 | Action Testing Loss: 0.5277003049850464 | Action Test Label Accuracy: 75.17477852492262\n",
      "Starting EPOCH: 28 / 30\n"
     ]
    },
    {
     "output_type": "stream",
     "name": "stderr",
     "text": [
      "Training =>: 100%|██████████| 773/773 [02:08<00:00,  6.01it/s]\n"
     ]
    },
    {
     "output_type": "stream",
     "name": "stdout",
     "text": [
      "Saving at epoch 27\n",
      "Epoch: 27 | Total Training Loss: 2.238274574279785 | Pose Training Loss: 0.01932295598089695 | Action Training Loss: 0.3059782087802887 | Action Train Label Accuracy: 87.61498493823666\n"
     ]
    },
    {
     "output_type": "stream",
     "name": "stderr",
     "text": [
      "Testing =>: 100%|██████████| 293/293 [00:43<00:00,  6.73it/s]\n"
     ]
    },
    {
     "output_type": "stream",
     "name": "stdout",
     "text": [
      "Epoch: 27 | Total Testing Loss: 2.100525379180908 | Pose Testing Loss: 0.015697134658694267 | Action Testing Loss: 0.5308107733726501 | Action Test Label Accuracy: 75.98996691215712\n",
      "Starting EPOCH: 29 / 30\n"
     ]
    },
    {
     "output_type": "stream",
     "name": "stderr",
     "text": [
      "Training =>: 100%|██████████| 773/773 [02:07<00:00,  6.04it/s]\n"
     ]
    },
    {
     "output_type": "stream",
     "name": "stdout",
     "text": [
      "Saving at epoch 28\n",
      "Epoch: 28 | Total Training Loss: 2.2047061920166016 | Pose Training Loss: 0.0190326739102602 | Action Training Loss: 0.3014392852783203 | Action Train Label Accuracy: 87.71859773972464\n"
     ]
    },
    {
     "output_type": "stream",
     "name": "stderr",
     "text": [
      "Testing =>: 100%|██████████| 293/293 [00:43<00:00,  6.72it/s]\n"
     ]
    },
    {
     "output_type": "stream",
     "name": "stdout",
     "text": [
      "Epoch: 28 | Total Testing Loss: 2.074083089828491 | Pose Testing Loss: 0.01551864854991436 | Action Testing Loss: 0.5222181677818298 | Action Test Label Accuracy: 76.39022307610203\n",
      "Starting EPOCH: 30 / 30\n"
     ]
    },
    {
     "output_type": "stream",
     "name": "stderr",
     "text": [
      "Training =>: 100%|██████████| 773/773 [02:09<00:00,  5.96it/s]\n"
     ]
    },
    {
     "output_type": "stream",
     "name": "stdout",
     "text": [
      "Saving at epoch 29\n",
      "Epoch: 29 | Total Training Loss: 2.1740164756774902 | Pose Training Loss: 0.018767505884170532 | Action Training Loss: 0.2972647547721863 | Action Train Label Accuracy: 87.96221418029639\n"
     ]
    },
    {
     "output_type": "stream",
     "name": "stderr",
     "text": [
      "Testing =>: 100%|██████████| 293/293 [00:43<00:00,  6.69it/s]\n"
     ]
    },
    {
     "output_type": "stream",
     "name": "stdout",
     "text": [
      "Epoch: 29 | Total Testing Loss: 2.0666732788085938 | Pose Testing Loss: 0.015275339595973492 | Action Testing Loss: 0.5391401052474976 | Action Test Label Accuracy: 76.09136514035649\n"
     ]
    },
    {
     "output_type": "display_data",
     "data": {
      "text/plain": [
       "<Figure size 640x480 with 0 Axes>"
      ]
     },
     "metadata": {}
    }
   ],
   "source": [
    "from src.simple_pose_gnn.train_and_test import training_loop\n",
    "from argparse import Namespace\n",
    "import os\n",
    "from datetime import datetime\n",
    "timestamp = datetime.now().strftime(\"%Y-%m-%d--%H-%M-%S\")\n",
    "\n",
    "args_dict = {\n",
    "    'learning_rate': 3e-5,\n",
    "    'num_epochs': 30,\n",
    "    'batch_size': 256,\n",
    "    'action_loss_multiplier': 1,\n",
    "    'pose_loss_multiplier': 100,\n",
    "    'training_2d_data_path': os.path.join('datasets', 'h36m', 'Processed', 'train_2d_poses.npy'),\n",
    "    'training_3d_data_path': os.path.join('datasets', 'h36m', 'Processed', 'train_3d_poses.npy'),\n",
    "    'training_label_path': os.path.join('datasets', 'h36m', 'Processed', 'train_actions.npy'),\n",
    "    'testing_2d_data_path': os.path.join('datasets', 'h36m', 'Processed', 'test_2d_poses.npy'),\n",
    "    'testing_3d_data_path': os.path.join('datasets', 'h36m', 'Processed', 'test_3d_poses.npy'),\n",
    "    'testing_label_path': os.path.join('datasets', 'h36m', 'Processed', 'test_actions.npy'),\n",
    "    'save_path': os.path.join('model_outputs', 'simple_pose_gnn', timestamp)\n",
    "}\n",
    "args = Namespace(**args_dict)\n",
    "training_loop(args)"
   ]
  },
  {
   "cell_type": "markdown",
   "id": "fae590ec",
   "metadata": {},
   "source": [
    "<h3><u>3.6.  Training Graph Transformer model (SimplePoseGAT) </u></h3>"
   ]
  },
  {
   "cell_type": "code",
   "execution_count": null,
   "id": "74bf857d7fea859a",
   "metadata": {
    "colab": {
     "base_uri": "https://localhost:8080/",
     "height": 1000
    },
    "id": "74bf857d7fea859a",
    "outputId": "91b5b64b-72aa-4020-e802-49b27f37bcd5"
   },
   "outputs": [
    {
     "output_type": "stream",
     "name": "stdout",
     "text": [
      "Training args are: Namespace(learning_rate=3e-05, num_epochs=30, batch_size=256, action_loss_multiplier=1, pose_loss_multiplier=100, training_2d_data_path='datasets/h36m/Processed/train_2d_poses.npy', training_3d_data_path='datasets/h36m/Processed/train_3d_poses.npy', training_label_path='datasets/h36m/Processed/train_actions.npy', testing_2d_data_path='datasets/h36m/Processed/test_2d_poses.npy', testing_3d_data_path='datasets/h36m/Processed/test_3d_poses.npy', testing_label_path='datasets/h36m/Processed/test_actions.npy', save_path='model_outputs/simple_pose_gat/2024-11-18--05-02-06')\n",
      "Starting EPOCH: 1 / 30\n"
     ]
    },
    {
     "output_type": "stream",
     "name": "stderr",
     "text": [
      "Training =>: 100%|██████████| 773/773 [03:02<00:00,  4.24it/s]\n"
     ]
    },
    {
     "output_type": "stream",
     "name": "stdout",
     "text": [
      "Saving at epoch 0\n",
      "Epoch: 0 | Total Training Loss: 7.1949896812438965 | Pose Training Loss: 0.059793420135974884 | Action Training Loss: 1.215651512145996 | Action Train Label Accuracy: 51.03713887147969\n"
     ]
    },
    {
     "output_type": "stream",
     "name": "stderr",
     "text": [
      "Testing =>: 100%|██████████| 293/293 [01:07<00:00,  4.36it/s]\n"
     ]
    },
    {
     "output_type": "stream",
     "name": "stdout",
     "text": [
      "Epoch: 0 | Total Testing Loss: 3.8429837226867676 | Pose Testing Loss: 0.02562158741056919 | Action Testing Loss: 1.280826210975647 | Action Test Label Accuracy: 39.145052833813644\n",
      "Starting EPOCH: 2 / 30\n"
     ]
    },
    {
     "output_type": "stream",
     "name": "stderr",
     "text": [
      "Training =>: 100%|██████████| 773/773 [03:00<00:00,  4.27it/s]\n"
     ]
    },
    {
     "output_type": "stream",
     "name": "stdout",
     "text": [
      "Saving at epoch 1\n",
      "Epoch: 1 | Total Training Loss: 3.444185256958008 | Pose Training Loss: 0.02466331049799919 | Action Training Loss: 0.9778536558151245 | Action Train Label Accuracy: 57.75630269090028\n"
     ]
    },
    {
     "output_type": "stream",
     "name": "stderr",
     "text": [
      "Testing =>: 100%|██████████| 293/293 [01:07<00:00,  4.35it/s]\n"
     ]
    },
    {
     "output_type": "stream",
     "name": "stdout",
     "text": [
      "Epoch: 1 | Total Testing Loss: 3.3796157836914062 | Pose Testing Loss: 0.022376131266355515 | Action Testing Loss: 1.1420021057128906 | Action Test Label Accuracy: 45.31566869463123\n",
      "Starting EPOCH: 3 / 30\n"
     ]
    },
    {
     "output_type": "stream",
     "name": "stderr",
     "text": [
      "Training =>: 100%|██████████| 773/773 [03:01<00:00,  4.26it/s]\n"
     ]
    },
    {
     "output_type": "stream",
     "name": "stdout",
     "text": [
      "Saving at epoch 2\n",
      "Epoch: 2 | Total Training Loss: 2.942357301712036 | Pose Training Loss: 0.020745350047945976 | Action Training Loss: 0.8678224682807922 | Action Train Label Accuracy: 65.81080807876594\n"
     ]
    },
    {
     "output_type": "stream",
     "name": "stderr",
     "text": [
      "Testing =>: 100%|██████████| 293/293 [01:04<00:00,  4.52it/s]\n"
     ]
    },
    {
     "output_type": "stream",
     "name": "stdout",
     "text": [
      "Epoch: 2 | Total Testing Loss: 3.0136005878448486 | Pose Testing Loss: 0.020053265616297722 | Action Testing Loss: 1.0082733631134033 | Action Test Label Accuracy: 58.17856761660797\n",
      "Starting EPOCH: 4 / 30\n"
     ]
    },
    {
     "output_type": "stream",
     "name": "stderr",
     "text": [
      "Training =>: 100%|██████████| 773/773 [02:59<00:00,  4.31it/s]\n"
     ]
    },
    {
     "output_type": "stream",
     "name": "stdout",
     "text": [
      "Saving at epoch 3\n",
      "Epoch: 3 | Total Training Loss: 2.58655047416687 | Pose Training Loss: 0.01827201619744301 | Action Training Loss: 0.7593502402305603 | Action Train Label Accuracy: 68.40466611406507\n"
     ]
    },
    {
     "output_type": "stream",
     "name": "stderr",
     "text": [
      "Testing =>: 100%|██████████| 293/293 [01:05<00:00,  4.45it/s]\n"
     ]
    },
    {
     "output_type": "stream",
     "name": "stdout",
     "text": [
      "Epoch: 3 | Total Testing Loss: 2.714442491531372 | Pose Testing Loss: 0.018223971128463745 | Action Testing Loss: 0.8920454382896423 | Action Test Label Accuracy: 62.16245063507312\n",
      "Starting EPOCH: 5 / 30\n"
     ]
    },
    {
     "output_type": "stream",
     "name": "stderr",
     "text": [
      "Training =>: 100%|██████████| 773/773 [03:01<00:00,  4.26it/s]\n"
     ]
    },
    {
     "output_type": "stream",
     "name": "stdout",
     "text": [
      "Saving at epoch 4\n",
      "Epoch: 4 | Total Training Loss: 2.3477094173431396 | Pose Training Loss: 0.016604550182819366 | Action Training Loss: 0.687252938747406 | Action Train Label Accuracy: 71.08444696035421\n"
     ]
    },
    {
     "output_type": "stream",
     "name": "stderr",
     "text": [
      "Testing =>: 100%|██████████| 293/293 [01:07<00:00,  4.36it/s]\n"
     ]
    },
    {
     "output_type": "stream",
     "name": "stdout",
     "text": [
      "Epoch: 4 | Total Testing Loss: 2.5274741649627686 | Pose Testing Loss: 0.017077218741178513 | Action Testing Loss: 0.819752037525177 | Action Test Label Accuracy: 65.89150389582666\n",
      "Starting EPOCH: 6 / 30\n"
     ]
    },
    {
     "output_type": "stream",
     "name": "stderr",
     "text": [
      "Training =>: 100%|██████████| 773/773 [03:01<00:00,  4.27it/s]\n"
     ]
    },
    {
     "output_type": "stream",
     "name": "stdout",
     "text": [
      "Saving at epoch 5\n",
      "Epoch: 5 | Total Training Loss: 2.178523540496826 | Pose Training Loss: 0.015382269397377968 | Action Training Loss: 0.6402955055236816 | Action Train Label Accuracy: 73.31894547439501\n"
     ]
    },
    {
     "output_type": "stream",
     "name": "stderr",
     "text": [
      "Testing =>: 100%|██████████| 293/293 [01:07<00:00,  4.37it/s]\n"
     ]
    },
    {
     "output_type": "stream",
     "name": "stdout",
     "text": [
      "Epoch: 5 | Total Testing Loss: 2.410928964614868 | Pose Testing Loss: 0.01612262614071369 | Action Testing Loss: 0.7986662983894348 | Action Test Label Accuracy: 65.90751414238446\n",
      "Starting EPOCH: 7 / 30\n"
     ]
    },
    {
     "output_type": "stream",
     "name": "stderr",
     "text": [
      "Training =>: 100%|██████████| 773/773 [03:03<00:00,  4.21it/s]\n"
     ]
    },
    {
     "output_type": "stream",
     "name": "stdout",
     "text": [
      "Saving at epoch 6\n",
      "Epoch: 6 | Total Training Loss: 2.038505792617798 | Pose Training Loss: 0.014407350681722164 | Action Training Loss: 0.5977694988250732 | Action Train Label Accuracy: 75.40131007015344\n"
     ]
    },
    {
     "output_type": "stream",
     "name": "stderr",
     "text": [
      "Testing =>: 100%|██████████| 293/293 [01:04<00:00,  4.51it/s]\n"
     ]
    },
    {
     "output_type": "stream",
     "name": "stdout",
     "text": [
      "Epoch: 6 | Total Testing Loss: 2.2700605392456055 | Pose Testing Loss: 0.015247193165123463 | Action Testing Loss: 0.7453401684761047 | Action Test Label Accuracy: 69.24031380083252\n",
      "Starting EPOCH: 8 / 30\n"
     ]
    },
    {
     "output_type": "stream",
     "name": "stderr",
     "text": [
      "Training =>: 100%|██████████| 773/773 [03:04<00:00,  4.20it/s]\n"
     ]
    },
    {
     "output_type": "stream",
     "name": "stdout",
     "text": [
      "Saving at epoch 7\n",
      "Epoch: 7 | Total Training Loss: 1.9062386751174927 | Pose Training Loss: 0.013573587872087955 | Action Training Loss: 0.5488809943199158 | Action Train Label Accuracy: 77.54078806380527\n"
     ]
    },
    {
     "output_type": "stream",
     "name": "stderr",
     "text": [
      "Testing =>: 100%|██████████| 293/293 [01:05<00:00,  4.47it/s]\n"
     ]
    },
    {
     "output_type": "stream",
     "name": "stdout",
     "text": [
      "Epoch: 7 | Total Testing Loss: 2.1207778453826904 | Pose Testing Loss: 0.014292314648628235 | Action Testing Loss: 0.6915462017059326 | Action Test Label Accuracy: 71.31630910449354\n",
      "Starting EPOCH: 9 / 30\n"
     ]
    },
    {
     "output_type": "stream",
     "name": "stderr",
     "text": [
      "Training =>: 100%|██████████| 773/773 [02:58<00:00,  4.34it/s]\n"
     ]
    },
    {
     "output_type": "stream",
     "name": "stdout",
     "text": [
      "Saving at epoch 8\n",
      "Epoch: 8 | Total Training Loss: 1.7855520248413086 | Pose Training Loss: 0.01288048829883337 | Action Training Loss: 0.49750229716300964 | Action Train Label Accuracy: 79.51246386187655\n"
     ]
    },
    {
     "output_type": "stream",
     "name": "stderr",
     "text": [
      "Testing =>: 100%|██████████| 293/293 [01:05<00:00,  4.50it/s]\n"
     ]
    },
    {
     "output_type": "stream",
     "name": "stdout",
     "text": [
      "Epoch: 8 | Total Testing Loss: 2.002653121948242 | Pose Testing Loss: 0.01354646123945713 | Action Testing Loss: 0.6480077505111694 | Action Test Label Accuracy: 71.58448073433664\n",
      "Starting EPOCH: 10 / 30\n"
     ]
    },
    {
     "output_type": "stream",
     "name": "stderr",
     "text": [
      "Training =>: 100%|██████████| 773/773 [02:57<00:00,  4.35it/s]\n"
     ]
    },
    {
     "output_type": "stream",
     "name": "stdout",
     "text": [
      "Saving at epoch 9\n",
      "Epoch: 9 | Total Training Loss: 1.6788734197616577 | Pose Training Loss: 0.01227924320846796 | Action Training Loss: 0.45094922184944153 | Action Train Label Accuracy: 81.28196833997129\n"
     ]
    },
    {
     "output_type": "stream",
     "name": "stderr",
     "text": [
      "Testing =>: 100%|██████████| 293/293 [01:04<00:00,  4.54it/s]\n"
     ]
    },
    {
     "output_type": "stream",
     "name": "stdout",
     "text": [
      "Epoch: 9 | Total Testing Loss: 1.9319472312927246 | Pose Testing Loss: 0.013065802864730358 | Action Testing Loss: 0.6253674030303955 | Action Test Label Accuracy: 72.21288291173018\n",
      "Starting EPOCH: 11 / 30\n"
     ]
    },
    {
     "output_type": "stream",
     "name": "stderr",
     "text": [
      "Training =>: 100%|██████████| 773/773 [03:02<00:00,  4.24it/s]\n"
     ]
    },
    {
     "output_type": "stream",
     "name": "stdout",
     "text": [
      "Saving at epoch 10\n",
      "Epoch: 10 | Total Training Loss: 1.5892566442489624 | Pose Training Loss: 0.011774557642638683 | Action Training Loss: 0.41180112957954407 | Action Train Label Accuracy: 82.9129854638821\n"
     ]
    },
    {
     "output_type": "stream",
     "name": "stderr",
     "text": [
      "Testing =>: 100%|██████████| 293/293 [01:06<00:00,  4.43it/s]\n"
     ]
    },
    {
     "output_type": "stream",
     "name": "stdout",
     "text": [
      "Epoch: 10 | Total Testing Loss: 1.9046974182128906 | Pose Testing Loss: 0.012752491049468517 | Action Testing Loss: 0.6294487714767456 | Action Test Label Accuracy: 70.82666239726758\n",
      "Starting EPOCH: 12 / 30\n"
     ]
    },
    {
     "output_type": "stream",
     "name": "stderr",
     "text": [
      "Training =>: 100%|██████████| 773/773 [03:04<00:00,  4.18it/s]\n"
     ]
    },
    {
     "output_type": "stream",
     "name": "stdout",
     "text": [
      "Saving at epoch 11\n",
      "Epoch: 11 | Total Training Loss: 1.5151386260986328 | Pose Training Loss: 0.011346127837896347 | Action Training Loss: 0.38052669167518616 | Action Train Label Accuracy: 84.12752966864122\n"
     ]
    },
    {
     "output_type": "stream",
     "name": "stderr",
     "text": [
      "Testing =>: 100%|██████████| 293/293 [01:08<00:00,  4.28it/s]\n"
     ]
    },
    {
     "output_type": "stream",
     "name": "stdout",
     "text": [
      "Epoch: 11 | Total Testing Loss: 1.8511673212051392 | Pose Testing Loss: 0.012197420001029968 | Action Testing Loss: 0.631425678730011 | Action Test Label Accuracy: 70.7199274202156\n",
      "Starting EPOCH: 13 / 30\n"
     ]
    },
    {
     "output_type": "stream",
     "name": "stderr",
     "text": [
      "Training =>: 100%|██████████| 773/773 [03:01<00:00,  4.26it/s]\n"
     ]
    },
    {
     "output_type": "stream",
     "name": "stdout",
     "text": [
      "Saving at epoch 12\n",
      "Epoch: 12 | Total Training Loss: 1.4517066478729248 | Pose Training Loss: 0.01096460223197937 | Action Training Loss: 0.35524705052375793 | Action Train Label Accuracy: 85.18640195701838\n"
     ]
    },
    {
     "output_type": "stream",
     "name": "stderr",
     "text": [
      "Testing =>: 100%|██████████| 293/293 [01:09<00:00,  4.20it/s]\n"
     ]
    },
    {
     "output_type": "stream",
     "name": "stdout",
     "text": [
      "Epoch: 12 | Total Testing Loss: 1.8649733066558838 | Pose Testing Loss: 0.012367656454443932 | Action Testing Loss: 0.6282076239585876 | Action Test Label Accuracy: 71.4977585654819\n",
      "Starting EPOCH: 14 / 30\n"
     ]
    },
    {
     "output_type": "stream",
     "name": "stderr",
     "text": [
      "Training =>: 100%|██████████| 773/773 [03:02<00:00,  4.23it/s]\n"
     ]
    },
    {
     "output_type": "stream",
     "name": "stdout",
     "text": [
      "Saving at epoch 13\n",
      "Epoch: 13 | Total Training Loss: 1.4009335041046143 | Pose Training Loss: 0.010659613646566868 | Action Training Loss: 0.33497121930122375 | Action Train Label Accuracy: 86.0405757839193\n"
     ]
    },
    {
     "output_type": "stream",
     "name": "stderr",
     "text": [
      "Testing =>: 100%|██████████| 293/293 [01:09<00:00,  4.21it/s]\n"
     ]
    },
    {
     "output_type": "stream",
     "name": "stdout",
     "text": [
      "Epoch: 13 | Total Testing Loss: 1.8134418725967407 | Pose Testing Loss: 0.01175545621663332 | Action Testing Loss: 0.6378965377807617 | Action Test Label Accuracy: 70.95607855694311\n",
      "Starting EPOCH: 15 / 30\n"
     ]
    },
    {
     "output_type": "stream",
     "name": "stderr",
     "text": [
      "Training =>: 100%|██████████| 773/773 [03:00<00:00,  4.29it/s]\n"
     ]
    },
    {
     "output_type": "stream",
     "name": "stdout",
     "text": [
      "Saving at epoch 14\n",
      "Epoch: 14 | Total Training Loss: 1.3571081161499023 | Pose Training Loss: 0.010385510511696339 | Action Training Loss: 0.31855738162994385 | Action Train Label Accuracy: 86.6844914380446\n"
     ]
    },
    {
     "output_type": "stream",
     "name": "stderr",
     "text": [
      "Testing =>: 100%|██████████| 293/293 [01:08<00:00,  4.26it/s]\n"
     ]
    },
    {
     "output_type": "stream",
     "name": "stdout",
     "text": [
      "Epoch: 14 | Total Testing Loss: 1.8263996839523315 | Pose Testing Loss: 0.011569444090127945 | Action Testing Loss: 0.6694549322128296 | Action Test Label Accuracy: 69.92475184117836\n",
      "Starting EPOCH: 16 / 30\n"
     ]
    },
    {
     "output_type": "stream",
     "name": "stderr",
     "text": [
      "Training =>: 100%|██████████| 773/773 [03:03<00:00,  4.22it/s]\n"
     ]
    },
    {
     "output_type": "stream",
     "name": "stdout",
     "text": [
      "Saving at epoch 15\n",
      "Epoch: 15 | Total Training Loss: 1.314896583557129 | Pose Training Loss: 0.01010789442807436 | Action Training Loss: 0.3041064441204071 | Action Train Label Accuracy: 87.3637870731658\n"
     ]
    },
    {
     "output_type": "stream",
     "name": "stderr",
     "text": [
      "Testing =>: 100%|██████████| 293/293 [01:07<00:00,  4.32it/s]\n"
     ]
    },
    {
     "output_type": "stream",
     "name": "stdout",
     "text": [
      "Epoch: 15 | Total Testing Loss: 1.805808424949646 | Pose Testing Loss: 0.011365019716322422 | Action Testing Loss: 0.6693060398101807 | Action Test Label Accuracy: 70.64788131070551\n",
      "Starting EPOCH: 17 / 30\n"
     ]
    },
    {
     "output_type": "stream",
     "name": "stderr",
     "text": [
      "Training =>: 100%|██████████| 773/773 [03:05<00:00,  4.16it/s]\n"
     ]
    },
    {
     "output_type": "stream",
     "name": "stdout",
     "text": [
      "Saving at epoch 16\n",
      "Epoch: 16 | Total Training Loss: 1.283589482307434 | Pose Training Loss: 0.0098861213773489 | Action Training Loss: 0.29497697949409485 | Action Train Label Accuracy: 87.77217313951843\n"
     ]
    },
    {
     "output_type": "stream",
     "name": "stderr",
     "text": [
      "Testing =>: 100%|██████████| 293/293 [01:09<00:00,  4.23it/s]\n"
     ]
    },
    {
     "output_type": "stream",
     "name": "stdout",
     "text": [
      "Epoch: 16 | Total Testing Loss: 1.7875163555145264 | Pose Testing Loss: 0.01110229641199112 | Action Testing Loss: 0.6772866249084473 | Action Test Label Accuracy: 70.92138968940121\n",
      "Starting EPOCH: 18 / 30\n"
     ]
    },
    {
     "output_type": "stream",
     "name": "stderr",
     "text": [
      "Training =>: 100%|██████████| 773/773 [03:00<00:00,  4.29it/s]\n"
     ]
    },
    {
     "output_type": "stream",
     "name": "stdout",
     "text": [
      "Saving at epoch 17\n",
      "Epoch: 17 | Total Training Loss: 1.251349687576294 | Pose Training Loss: 0.009670587256550789 | Action Training Loss: 0.2842908799648285 | Action Train Label Accuracy: 88.24929745466308\n"
     ]
    },
    {
     "output_type": "stream",
     "name": "stderr",
     "text": [
      "Testing =>: 100%|██████████| 293/293 [01:09<00:00,  4.19it/s]\n"
     ]
    },
    {
     "output_type": "stream",
     "name": "stdout",
     "text": [
      "Epoch: 17 | Total Testing Loss: 1.7813336849212646 | Pose Testing Loss: 0.01104812417179346 | Action Testing Loss: 0.6765217781066895 | Action Test Label Accuracy: 71.13085708186573\n",
      "Starting EPOCH: 19 / 30\n"
     ]
    },
    {
     "output_type": "stream",
     "name": "stderr",
     "text": [
      "Training =>: 100%|██████████| 773/773 [03:05<00:00,  4.16it/s]\n"
     ]
    },
    {
     "output_type": "stream",
     "name": "stdout",
     "text": [
      "Saving at epoch 18\n",
      "Epoch: 18 | Total Training Loss: 1.221678376197815 | Pose Training Loss: 0.009470864199101925 | Action Training Loss: 0.27459219098091125 | Action Train Label Accuracy: 88.67840608131331\n"
     ]
    },
    {
     "output_type": "stream",
     "name": "stderr",
     "text": [
      "Testing =>: 100%|██████████| 293/293 [01:06<00:00,  4.43it/s]\n"
     ]
    },
    {
     "output_type": "stream",
     "name": "stdout",
     "text": [
      "Epoch: 18 | Total Testing Loss: 1.7774319648742676 | Pose Testing Loss: 0.010923095978796482 | Action Testing Loss: 0.6851223111152649 | Action Test Label Accuracy: 71.22558437399937\n",
      "Starting EPOCH: 20 / 30\n"
     ]
    },
    {
     "output_type": "stream",
     "name": "stderr",
     "text": [
      "Training =>: 100%|██████████| 773/773 [03:00<00:00,  4.29it/s]\n"
     ]
    },
    {
     "output_type": "stream",
     "name": "stdout",
     "text": [
      "Saving at epoch 19\n",
      "Epoch: 19 | Total Training Loss: 1.1953538656234741 | Pose Training Loss: 0.009285707958042622 | Action Training Loss: 0.26678308844566345 | Action Train Label Accuracy: 89.05848816286922\n"
     ]
    },
    {
     "output_type": "stream",
     "name": "stderr",
     "text": [
      "Testing =>: 100%|██████████| 293/293 [01:07<00:00,  4.33it/s]\n"
     ]
    },
    {
     "output_type": "stream",
     "name": "stdout",
     "text": [
      "Epoch: 19 | Total Testing Loss: 1.7296197414398193 | Pose Testing Loss: 0.010439693927764893 | Action Testing Loss: 0.6856498122215271 | Action Test Label Accuracy: 71.40703383498771\n",
      "Starting EPOCH: 21 / 30\n"
     ]
    },
    {
     "output_type": "stream",
     "name": "stderr",
     "text": [
      "Training =>: 100%|██████████| 773/773 [03:01<00:00,  4.27it/s]\n"
     ]
    },
    {
     "output_type": "stream",
     "name": "stdout",
     "text": [
      "Saving at epoch 20\n",
      "Epoch: 20 | Total Training Loss: 1.1702373027801514 | Pose Training Loss: 0.00911403726786375 | Action Training Loss: 0.2588336765766144 | Action Train Label Accuracy: 89.3344520146372\n"
     ]
    },
    {
     "output_type": "stream",
     "name": "stderr",
     "text": [
      "Testing =>: 100%|██████████| 293/293 [01:07<00:00,  4.36it/s]\n"
     ]
    },
    {
     "output_type": "stream",
     "name": "stdout",
     "text": [
      "Epoch: 20 | Total Testing Loss: 1.7152788639068604 | Pose Testing Loss: 0.010393538512289524 | Action Testing Loss: 0.6759255528450012 | Action Test Label Accuracy: 71.68854733696233\n",
      "Starting EPOCH: 22 / 30\n"
     ]
    },
    {
     "output_type": "stream",
     "name": "stderr",
     "text": [
      "Training =>: 100%|██████████| 773/773 [03:07<00:00,  4.12it/s]\n"
     ]
    },
    {
     "output_type": "stream",
     "name": "stdout",
     "text": [
      "Saving at epoch 21\n",
      "Epoch: 21 | Total Training Loss: 1.1465879678726196 | Pose Training Loss: 0.008949191309511662 | Action Training Loss: 0.2516690790653229 | Action Train Label Accuracy: 89.73272951499101\n"
     ]
    },
    {
     "output_type": "stream",
     "name": "stderr",
     "text": [
      "Testing =>: 100%|██████████| 293/293 [01:06<00:00,  4.38it/s]\n"
     ]
    },
    {
     "output_type": "stream",
     "name": "stdout",
     "text": [
      "Epoch: 21 | Total Testing Loss: 1.7343599796295166 | Pose Testing Loss: 0.010229090228676796 | Action Testing Loss: 0.71145099401474 | Action Test Label Accuracy: 71.43505176646387\n",
      "Starting EPOCH: 23 / 30\n"
     ]
    },
    {
     "output_type": "stream",
     "name": "stderr",
     "text": [
      "Training =>: 100%|██████████| 773/773 [03:07<00:00,  4.12it/s]\n"
     ]
    },
    {
     "output_type": "stream",
     "name": "stdout",
     "text": [
      "Saving at epoch 22\n",
      "Epoch: 22 | Total Training Loss: 1.1236053705215454 | Pose Training Loss: 0.008784964680671692 | Action Training Loss: 0.24510911107063293 | Action Train Label Accuracy: 90.08248589855043\n"
     ]
    },
    {
     "output_type": "stream",
     "name": "stderr",
     "text": [
      "Testing =>: 100%|██████████| 293/293 [01:05<00:00,  4.46it/s]\n"
     ]
    },
    {
     "output_type": "stream",
     "name": "stdout",
     "text": [
      "Epoch: 22 | Total Testing Loss: 1.7118964195251465 | Pose Testing Loss: 0.010029437951743603 | Action Testing Loss: 0.7089531421661377 | Action Test Label Accuracy: 71.45373038744796\n",
      "Starting EPOCH: 24 / 30\n"
     ]
    },
    {
     "output_type": "stream",
     "name": "stderr",
     "text": [
      "Training =>: 100%|██████████| 773/773 [02:57<00:00,  4.35it/s]\n"
     ]
    },
    {
     "output_type": "stream",
     "name": "stdout",
     "text": [
      "Saving at epoch 23\n",
      "Epoch: 23 | Total Training Loss: 1.1018474102020264 | Pose Training Loss: 0.008635145612061024 | Action Training Loss: 0.2383333444595337 | Action Train Label Accuracy: 90.38928087661485\n"
     ]
    },
    {
     "output_type": "stream",
     "name": "stderr",
     "text": [
      "Testing =>: 100%|██████████| 293/293 [01:07<00:00,  4.31it/s]\n"
     ]
    },
    {
     "output_type": "stream",
     "name": "stdout",
     "text": [
      "Epoch: 23 | Total Testing Loss: 1.6595417261123657 | Pose Testing Loss: 0.009800991974771023 | Action Testing Loss: 0.6794428825378418 | Action Test Label Accuracy: 72.68651937239834\n",
      "Starting EPOCH: 25 / 30\n"
     ]
    },
    {
     "output_type": "stream",
     "name": "stderr",
     "text": [
      "Training =>: 100%|██████████| 773/773 [03:07<00:00,  4.12it/s]\n"
     ]
    },
    {
     "output_type": "stream",
     "name": "stdout",
     "text": [
      "Saving at epoch 24\n",
      "Epoch: 24 | Total Training Loss: 1.0832127332687378 | Pose Training Loss: 0.008500310592353344 | Action Training Loss: 0.23318108916282654 | Action Train Label Accuracy: 90.67838586418131\n"
     ]
    },
    {
     "output_type": "stream",
     "name": "stderr",
     "text": [
      "Testing =>: 100%|██████████| 293/293 [01:05<00:00,  4.48it/s]\n"
     ]
    },
    {
     "output_type": "stream",
     "name": "stdout",
     "text": [
      "Epoch: 24 | Total Testing Loss: 1.6504318714141846 | Pose Testing Loss: 0.009559398517012596 | Action Testing Loss: 0.6944918036460876 | Action Test Label Accuracy: 72.95068844060198\n",
      "Starting EPOCH: 26 / 30\n"
     ]
    },
    {
     "output_type": "stream",
     "name": "stderr",
     "text": [
      "Training =>: 100%|██████████| 773/773 [03:02<00:00,  4.23it/s]\n"
     ]
    },
    {
     "output_type": "stream",
     "name": "stdout",
     "text": [
      "Saving at epoch 25\n",
      "Epoch: 25 | Total Training Loss: 1.061116099357605 | Pose Training Loss: 0.008352267555892467 | Action Training Loss: 0.2258891463279724 | Action Train Label Accuracy: 90.91846430665346\n"
     ]
    },
    {
     "output_type": "stream",
     "name": "stderr",
     "text": [
      "Testing =>: 100%|██████████| 293/293 [01:06<00:00,  4.43it/s]\n"
     ]
    },
    {
     "output_type": "stream",
     "name": "stdout",
     "text": [
      "Epoch: 25 | Total Testing Loss: 1.660233974456787 | Pose Testing Loss: 0.009524350054562092 | Action Testing Loss: 0.7077985405921936 | Action Test Label Accuracy: 72.6051339523962\n",
      "Starting EPOCH: 27 / 30\n"
     ]
    },
    {
     "output_type": "stream",
     "name": "stderr",
     "text": [
      "Training =>: 100%|██████████| 773/773 [03:07<00:00,  4.12it/s]\n"
     ]
    },
    {
     "output_type": "stream",
     "name": "stdout",
     "text": [
      "Saving at epoch 26\n",
      "Epoch: 26 | Total Training Loss: 1.0423977375030518 | Pose Training Loss: 0.008223796263337135 | Action Training Loss: 0.220017209649086 | Action Train Label Accuracy: 91.25558498271435\n"
     ]
    },
    {
     "output_type": "stream",
     "name": "stderr",
     "text": [
      "Testing =>: 100%|██████████| 293/293 [01:08<00:00,  4.30it/s]\n"
     ]
    },
    {
     "output_type": "stream",
     "name": "stdout",
     "text": [
      "Epoch: 26 | Total Testing Loss: 1.6271312236785889 | Pose Testing Loss: 0.009221832267940044 | Action Testing Loss: 0.7049478888511658 | Action Test Label Accuracy: 73.0961148468353\n",
      "Starting EPOCH: 28 / 30\n"
     ]
    },
    {
     "output_type": "stream",
     "name": "stderr",
     "text": [
      "Training =>: 100%|██████████| 773/773 [03:03<00:00,  4.21it/s]\n"
     ]
    },
    {
     "output_type": "stream",
     "name": "stdout",
     "text": [
      "Saving at epoch 27\n",
      "Epoch: 27 | Total Training Loss: 1.02488374710083 | Pose Training Loss: 0.008102689869701862 | Action Training Loss: 0.2146151065826416 | Action Train Label Accuracy: 91.52144026848352\n"
     ]
    },
    {
     "output_type": "stream",
     "name": "stderr",
     "text": [
      "Testing =>: 100%|██████████| 293/293 [01:07<00:00,  4.33it/s]\n"
     ]
    },
    {
     "output_type": "stream",
     "name": "stdout",
     "text": [
      "Epoch: 27 | Total Testing Loss: 1.6269428730010986 | Pose Testing Loss: 0.009455295279622078 | Action Testing Loss: 0.6814125180244446 | Action Test Label Accuracy: 74.02604333440068\n",
      "Starting EPOCH: 29 / 30\n"
     ]
    },
    {
     "output_type": "stream",
     "name": "stderr",
     "text": [
      "Training =>: 100%|██████████| 773/773 [03:04<00:00,  4.20it/s]\n"
     ]
    },
    {
     "output_type": "stream",
     "name": "stdout",
     "text": [
      "Saving at epoch 28\n",
      "Epoch: 28 | Total Training Loss: 1.0073515176773071 | Pose Training Loss: 0.007986234501004219 | Action Training Loss: 0.20872777700424194 | Action Train Label Accuracy: 91.7276550148596\n"
     ]
    },
    {
     "output_type": "stream",
     "name": "stderr",
     "text": [
      "Testing =>: 100%|██████████| 293/293 [01:04<00:00,  4.53it/s]\n"
     ]
    },
    {
     "output_type": "stream",
     "name": "stdout",
     "text": [
      "Epoch: 28 | Total Testing Loss: 1.6136878728866577 | Pose Testing Loss: 0.009062003344297409 | Action Testing Loss: 0.7074874639511108 | Action Test Label Accuracy: 73.92597929341446\n",
      "Starting EPOCH: 30 / 30\n"
     ]
    },
    {
     "output_type": "stream",
     "name": "stderr",
     "text": [
      "Training =>: 100%|██████████| 773/773 [03:02<00:00,  4.24it/s]\n"
     ]
    },
    {
     "output_type": "stream",
     "name": "stdout",
     "text": [
      "Saving at epoch 29\n",
      "Epoch: 29 | Total Training Loss: 0.9923760890960693 | Pose Training Loss: 0.007883653976023197 | Action Training Loss: 0.20401187241077423 | Action Train Label Accuracy: 91.93841861593515\n"
     ]
    },
    {
     "output_type": "stream",
     "name": "stderr",
     "text": [
      "Testing =>: 100%|██████████| 293/293 [01:07<00:00,  4.33it/s]\n"
     ]
    },
    {
     "output_type": "stream",
     "name": "stdout",
     "text": [
      "Epoch: 29 | Total Testing Loss: 1.6089502573013306 | Pose Testing Loss: 0.00904751941561699 | Action Testing Loss: 0.7041975259780884 | Action Test Label Accuracy: 73.60977692389797\n"
     ]
    },
    {
     "output_type": "display_data",
     "data": {
      "text/plain": [
       "<Figure size 640x480 with 0 Axes>"
      ]
     },
     "metadata": {}
    }
   ],
   "source": [
    "from src.simple_pose_gat.train_and_test import training_loop\n",
    "from argparse import Namespace\n",
    "import os\n",
    "from datetime import datetime\n",
    "timestamp = datetime.now().strftime(\"%Y-%m-%d--%H-%M-%S\")\n",
    "\n",
    "args_dict = {\n",
    "    'learning_rate': 3e-5,\n",
    "    'num_epochs': 30,\n",
    "    'batch_size': 256,\n",
    "    'action_loss_multiplier': 1,\n",
    "    'pose_loss_multiplier': 100,\n",
    "    'training_2d_data_path': os.path.join('datasets', 'h36m', 'Processed', 'train_2d_poses.npy'),\n",
    "    'training_3d_data_path': os.path.join('datasets', 'h36m', 'Processed', 'train_3d_poses.npy'),\n",
    "    'training_label_path': os.path.join('datasets', 'h36m', 'Processed', 'train_actions.npy'),\n",
    "    'testing_2d_data_path': os.path.join('datasets', 'h36m', 'Processed', 'test_2d_poses.npy'),\n",
    "    'testing_3d_data_path': os.path.join('datasets', 'h36m', 'Processed', 'test_3d_poses.npy'),\n",
    "    'testing_label_path': os.path.join('datasets', 'h36m', 'Processed', 'test_actions.npy'),\n",
    "    'save_path': os.path.join('model_outputs', 'simple_pose_gat', timestamp)\n",
    "}\n",
    "args = Namespace(**args_dict)\n",
    "training_loop(args)"
   ]
  },
  {
   "cell_type": "markdown",
   "id": "8db1ece2",
   "metadata": {},
   "source": [
    "<h3><u>3.7.  Training Toplogy Adaptive Graph Convolutional model (SimplePoseTAG) </u></h3>"
   ]
  },
  {
   "cell_type": "code",
   "execution_count": null,
   "id": "ea25d299",
   "metadata": {
    "colab": {
     "base_uri": "https://localhost:8080/",
     "height": 1000
    },
    "id": "ea25d299",
    "outputId": "6baadd05-a687-4f60-e424-461e5d87cca2"
   },
   "outputs": [
    {
     "output_type": "stream",
     "name": "stdout",
     "text": [
      "Training args are: Namespace(learning_rate=3e-05, num_epochs=30, batch_size=256, action_loss_multiplier=1, pose_loss_multiplier=100, training_2d_data_path='datasets/h36m/Processed/train_2d_poses.npy', training_3d_data_path='datasets/h36m/Processed/train_3d_poses.npy', training_label_path='datasets/h36m/Processed/train_actions.npy', testing_2d_data_path='datasets/h36m/Processed/test_2d_poses.npy', testing_3d_data_path='datasets/h36m/Processed/test_3d_poses.npy', testing_label_path='datasets/h36m/Processed/test_actions.npy', save_path='model_outputs/simple_pose_tag/2024-11-18--07-07-28')\n",
      "Starting EPOCH: 1 / 30\n"
     ]
    },
    {
     "output_type": "stream",
     "name": "stderr",
     "text": [
      "Training =>: 100%|██████████| 773/773 [02:32<00:00,  5.06it/s]\n"
     ]
    },
    {
     "output_type": "stream",
     "name": "stdout",
     "text": [
      "Saving at epoch 0\n",
      "Epoch: 0 | Total Training Loss: 12.531847953796387 | Pose Training Loss: 0.11242948472499847 | Action Training Loss: 1.288909673690796 | Action Train Label Accuracy: 47.1888077957261\n"
     ]
    },
    {
     "output_type": "stream",
     "name": "stderr",
     "text": [
      "Testing =>: 100%|██████████| 293/293 [00:49<00:00,  5.97it/s]\n"
     ]
    },
    {
     "output_type": "stream",
     "name": "stdout",
     "text": [
      "Epoch: 0 | Total Testing Loss: 5.952681064605713 | Pose Testing Loss: 0.04794268682599068 | Action Testing Loss: 1.1584112644195557 | Action Test Label Accuracy: 59.213896894012166\n",
      "Starting EPOCH: 2 / 30\n"
     ]
    },
    {
     "output_type": "stream",
     "name": "stderr",
     "text": [
      "Training =>: 100%|██████████| 773/773 [02:31<00:00,  5.09it/s]\n"
     ]
    },
    {
     "output_type": "stream",
     "name": "stdout",
     "text": [
      "Saving at epoch 1\n",
      "Epoch: 1 | Total Training Loss: 6.103329181671143 | Pose Training Loss: 0.05160829424858093 | Action Training Loss: 0.9425012469291687 | Action Train Label Accuracy: 62.12876291369306\n"
     ]
    },
    {
     "output_type": "stream",
     "name": "stderr",
     "text": [
      "Testing =>: 100%|██████████| 293/293 [00:49<00:00,  5.88it/s]\n"
     ]
    },
    {
     "output_type": "stream",
     "name": "stdout",
     "text": [
      "Epoch: 1 | Total Testing Loss: 4.900516033172607 | Pose Testing Loss: 0.0394231453537941 | Action Testing Loss: 0.9582024216651917 | Action Test Label Accuracy: 64.62002348169496\n",
      "Starting EPOCH: 3 / 30\n"
     ]
    },
    {
     "output_type": "stream",
     "name": "stderr",
     "text": [
      "Training =>: 100%|██████████| 773/773 [02:34<00:00,  5.01it/s]\n"
     ]
    },
    {
     "output_type": "stream",
     "name": "stdout",
     "text": [
      "Saving at epoch 2\n",
      "Epoch: 2 | Total Training Loss: 5.080974102020264 | Pose Training Loss: 0.04277831315994263 | Action Training Loss: 0.8031438589096069 | Action Train Label Accuracy: 68.20855993368781\n"
     ]
    },
    {
     "output_type": "stream",
     "name": "stderr",
     "text": [
      "Testing =>: 100%|██████████| 293/293 [00:47<00:00,  6.14it/s]\n"
     ]
    },
    {
     "output_type": "stream",
     "name": "stdout",
     "text": [
      "Epoch: 2 | Total Testing Loss: 3.946298599243164 | Pose Testing Loss: 0.03142324090003967 | Action Testing Loss: 0.8039747476577759 | Action Test Label Accuracy: 69.34838296509767\n",
      "Starting EPOCH: 4 / 30\n"
     ]
    },
    {
     "output_type": "stream",
     "name": "stderr",
     "text": [
      "Training =>: 100%|██████████| 773/773 [02:34<00:00,  5.02it/s]\n"
     ]
    },
    {
     "output_type": "stream",
     "name": "stdout",
     "text": [
      "Saving at epoch 3\n",
      "Epoch: 3 | Total Training Loss: 4.4181904792785645 | Pose Training Loss: 0.03723902255296707 | Action Training Loss: 0.6942931413650513 | Action Train Label Accuracy: 72.77914805005761\n"
     ]
    },
    {
     "output_type": "stream",
     "name": "stderr",
     "text": [
      "Testing =>: 100%|██████████| 293/293 [00:49<00:00,  5.97it/s]\n"
     ]
    },
    {
     "output_type": "stream",
     "name": "stdout",
     "text": [
      "Epoch: 3 | Total Testing Loss: 3.379633665084839 | Pose Testing Loss: 0.026839004829525948 | Action Testing Loss: 0.6957331895828247 | Action Test Label Accuracy: 71.95405059237913\n",
      "Starting EPOCH: 5 / 30\n"
     ]
    },
    {
     "output_type": "stream",
     "name": "stderr",
     "text": [
      "Training =>: 100%|██████████| 773/773 [02:36<00:00,  4.95it/s]\n"
     ]
    },
    {
     "output_type": "stream",
     "name": "stdout",
     "text": [
      "Saving at epoch 4\n",
      "Epoch: 4 | Total Training Loss: 3.9424831867218018 | Pose Training Loss: 0.03327079117298126 | Action Training Loss: 0.615408182144165 | Action Train Label Accuracy: 75.87085296079898\n"
     ]
    },
    {
     "output_type": "stream",
     "name": "stderr",
     "text": [
      "Testing =>: 100%|██████████| 293/293 [00:50<00:00,  5.83it/s]\n"
     ]
    },
    {
     "output_type": "stream",
     "name": "stdout",
     "text": [
      "Epoch: 4 | Total Testing Loss: 3.021266222000122 | Pose Testing Loss: 0.023512249812483788 | Action Testing Loss: 0.6700426340103149 | Action Test Label Accuracy: 72.5837869569858\n",
      "Starting EPOCH: 6 / 30\n"
     ]
    },
    {
     "output_type": "stream",
     "name": "stderr",
     "text": [
      "Training =>: 100%|██████████| 773/773 [02:34<00:00,  5.01it/s]\n"
     ]
    },
    {
     "output_type": "stream",
     "name": "stdout",
     "text": [
      "Saving at epoch 5\n",
      "Epoch: 5 | Total Training Loss: 3.5088512897491455 | Pose Training Loss: 0.02953207679092884 | Action Training Loss: 0.5556424856185913 | Action Train Label Accuracy: 78.00072781675192\n"
     ]
    },
    {
     "output_type": "stream",
     "name": "stderr",
     "text": [
      "Testing =>: 100%|██████████| 293/293 [00:48<00:00,  5.99it/s]\n"
     ]
    },
    {
     "output_type": "stream",
     "name": "stdout",
     "text": [
      "Epoch: 5 | Total Testing Loss: 2.532979726791382 | Pose Testing Loss: 0.01916775107383728 | Action Testing Loss: 0.6162049770355225 | Action Test Label Accuracy: 73.24020706585547\n",
      "Starting EPOCH: 7 / 30\n"
     ]
    },
    {
     "output_type": "stream",
     "name": "stderr",
     "text": [
      "Training =>: 100%|██████████| 773/773 [02:35<00:00,  4.98it/s]\n"
     ]
    },
    {
     "output_type": "stream",
     "name": "stdout",
     "text": [
      "Saving at epoch 6\n",
      "Epoch: 6 | Total Training Loss: 3.1497530937194824 | Pose Training Loss: 0.02647087536752224 | Action Training Loss: 0.5026674866676331 | Action Train Label Accuracy: 79.78387885894507\n"
     ]
    },
    {
     "output_type": "stream",
     "name": "stderr",
     "text": [
      "Testing =>: 100%|██████████| 293/293 [00:50<00:00,  5.82it/s]\n"
     ]
    },
    {
     "output_type": "stream",
     "name": "stdout",
     "text": [
      "Epoch: 6 | Total Testing Loss: 2.4082231521606445 | Pose Testing Loss: 0.01764560677111149 | Action Testing Loss: 0.643661379814148 | Action Test Label Accuracy: 70.81065215070979\n",
      "Starting EPOCH: 8 / 30\n"
     ]
    },
    {
     "output_type": "stream",
     "name": "stderr",
     "text": [
      "Training =>: 100%|██████████| 773/773 [02:35<00:00,  4.97it/s]\n"
     ]
    },
    {
     "output_type": "stream",
     "name": "stdout",
     "text": [
      "Saving at epoch 7\n",
      "Epoch: 7 | Total Training Loss: 2.8832478523254395 | Pose Training Loss: 0.02423618547618389 | Action Training Loss: 0.4596301019191742 | Action Train Label Accuracy: 81.25669692497422\n"
     ]
    },
    {
     "output_type": "stream",
     "name": "stderr",
     "text": [
      "Testing =>: 100%|██████████| 293/293 [00:50<00:00,  5.80it/s]\n"
     ]
    },
    {
     "output_type": "stream",
     "name": "stdout",
     "text": [
      "Epoch: 7 | Total Testing Loss: 2.1710667610168457 | Pose Testing Loss: 0.016147485002875328 | Action Testing Loss: 0.5563179850578308 | Action Test Label Accuracy: 75.22414345180916\n",
      "Starting EPOCH: 9 / 30\n"
     ]
    },
    {
     "output_type": "stream",
     "name": "stderr",
     "text": [
      "Training =>: 100%|██████████| 773/773 [02:35<00:00,  4.96it/s]\n"
     ]
    },
    {
     "output_type": "stream",
     "name": "stdout",
     "text": [
      "Saving at epoch 8\n",
      "Epoch: 8 | Total Training Loss: 2.671098470687866 | Pose Training Loss: 0.022525746375322342 | Action Training Loss: 0.4185214340686798 | Action Train Label Accuracy: 82.83211693589148\n"
     ]
    },
    {
     "output_type": "stream",
     "name": "stderr",
     "text": [
      "Testing =>: 100%|██████████| 293/293 [00:50<00:00,  5.82it/s]\n"
     ]
    },
    {
     "output_type": "stream",
     "name": "stdout",
     "text": [
      "Epoch: 8 | Total Testing Loss: 2.0382018089294434 | Pose Testing Loss: 0.014884443953633308 | Action Testing Loss: 0.5497581362724304 | Action Test Label Accuracy: 75.08405379442843\n",
      "Starting EPOCH: 10 / 30\n"
     ]
    },
    {
     "output_type": "stream",
     "name": "stderr",
     "text": [
      "Training =>: 100%|██████████| 773/773 [02:35<00:00,  4.96it/s]\n"
     ]
    },
    {
     "output_type": "stream",
     "name": "stdout",
     "text": [
      "Saving at epoch 9\n",
      "Epoch: 9 | Total Training Loss: 2.4986467361450195 | Pose Training Loss: 0.021149098873138428 | Action Training Loss: 0.3837350606918335 | Action Train Label Accuracy: 84.27056587752462\n"
     ]
    },
    {
     "output_type": "stream",
     "name": "stderr",
     "text": [
      "Testing =>: 100%|██████████| 293/293 [00:49<00:00,  5.91it/s]\n"
     ]
    },
    {
     "output_type": "stream",
     "name": "stdout",
     "text": [
      "Epoch: 9 | Total Testing Loss: 1.9497090578079224 | Pose Testing Loss: 0.014174461364746094 | Action Testing Loss: 0.532262921333313 | Action Test Label Accuracy: 75.52433557476786\n",
      "Starting EPOCH: 11 / 30\n"
     ]
    },
    {
     "output_type": "stream",
     "name": "stderr",
     "text": [
      "Training =>: 100%|██████████| 773/773 [02:35<00:00,  4.97it/s]\n"
     ]
    },
    {
     "output_type": "stream",
     "name": "stdout",
     "text": [
      "Saving at epoch 10\n",
      "Epoch: 10 | Total Training Loss: 2.3459129333496094 | Pose Training Loss: 0.01992831751704216 | Action Training Loss: 0.3530810475349426 | Action Train Label Accuracy: 85.48157208418414\n"
     ]
    },
    {
     "output_type": "stream",
     "name": "stderr",
     "text": [
      "Testing =>: 100%|██████████| 293/293 [00:48<00:00,  6.08it/s]\n"
     ]
    },
    {
     "output_type": "stream",
     "name": "stdout",
     "text": [
      "Epoch: 10 | Total Testing Loss: 1.8437055349349976 | Pose Testing Loss: 0.01318137813359499 | Action Testing Loss: 0.5255671143531799 | Action Test Label Accuracy: 75.83520119543175\n",
      "Starting EPOCH: 12 / 30\n"
     ]
    },
    {
     "output_type": "stream",
     "name": "stderr",
     "text": [
      "Training =>: 100%|██████████| 773/773 [02:34<00:00,  4.99it/s]\n"
     ]
    },
    {
     "output_type": "stream",
     "name": "stdout",
     "text": [
      "Saving at epoch 11\n",
      "Epoch: 11 | Total Training Loss: 2.2162890434265137 | Pose Training Loss: 0.018873782828450203 | Action Training Loss: 0.32891005277633667 | Action Train Label Accuracy: 86.6698340173463\n"
     ]
    },
    {
     "output_type": "stream",
     "name": "stderr",
     "text": [
      "Testing =>: 100%|██████████| 293/293 [00:49<00:00,  5.93it/s]\n"
     ]
    },
    {
     "output_type": "stream",
     "name": "stdout",
     "text": [
      "Epoch: 11 | Total Testing Loss: 1.8206439018249512 | Pose Testing Loss: 0.012726114131510258 | Action Testing Loss: 0.5480331182479858 | Action Test Label Accuracy: 75.70044828690362\n",
      "Starting EPOCH: 13 / 30\n"
     ]
    },
    {
     "output_type": "stream",
     "name": "stderr",
     "text": [
      "Training =>: 100%|██████████| 773/773 [02:34<00:00,  5.00it/s]\n"
     ]
    },
    {
     "output_type": "stream",
     "name": "stdout",
     "text": [
      "Saving at epoch 12\n",
      "Epoch: 12 | Total Training Loss: 2.096369981765747 | Pose Training Loss: 0.017900733277201653 | Action Training Loss: 0.3062981367111206 | Action Train Label Accuracy: 87.68574490022846\n"
     ]
    },
    {
     "output_type": "stream",
     "name": "stderr",
     "text": [
      "Testing =>: 100%|██████████| 293/293 [00:47<00:00,  6.22it/s]\n"
     ]
    },
    {
     "output_type": "stream",
     "name": "stdout",
     "text": [
      "Epoch: 12 | Total Testing Loss: 1.6981862783432007 | Pose Testing Loss: 0.011941284872591496 | Action Testing Loss: 0.5040577054023743 | Action Test Label Accuracy: 78.35681502828477\n",
      "Starting EPOCH: 14 / 30\n"
     ]
    },
    {
     "output_type": "stream",
     "name": "stderr",
     "text": [
      "Training =>: 100%|██████████| 773/773 [02:35<00:00,  4.98it/s]\n"
     ]
    },
    {
     "output_type": "stream",
     "name": "stdout",
     "text": [
      "Saving at epoch 13\n",
      "Epoch: 13 | Total Training Loss: 2.002490758895874 | Pose Training Loss: 0.017141109332442284 | Action Training Loss: 0.28837850689888 | Action Train Label Accuracy: 88.50554960273335\n"
     ]
    },
    {
     "output_type": "stream",
     "name": "stderr",
     "text": [
      "Testing =>: 100%|██████████| 293/293 [00:48<00:00,  6.10it/s]\n"
     ]
    },
    {
     "output_type": "stream",
     "name": "stdout",
     "text": [
      "Epoch: 13 | Total Testing Loss: 1.6291958093643188 | Pose Testing Loss: 0.011365910060703754 | Action Testing Loss: 0.4926055073738098 | Action Test Label Accuracy: 78.30878428861138\n",
      "Starting EPOCH: 15 / 30\n"
     ]
    },
    {
     "output_type": "stream",
     "name": "stderr",
     "text": [
      "Training =>: 100%|██████████| 773/773 [02:37<00:00,  4.92it/s]\n"
     ]
    },
    {
     "output_type": "stream",
     "name": "stdout",
     "text": [
      "Saving at epoch 14\n",
      "Epoch: 14 | Total Training Loss: 1.921250820159912 | Pose Training Loss: 0.016486790031194687 | Action Training Loss: 0.2725701928138733 | Action Train Label Accuracy: 89.24701291874734\n"
     ]
    },
    {
     "output_type": "stream",
     "name": "stderr",
     "text": [
      "Testing =>: 100%|██████████| 293/293 [00:46<00:00,  6.29it/s]\n"
     ]
    },
    {
     "output_type": "stream",
     "name": "stdout",
     "text": [
      "Epoch: 14 | Total Testing Loss: 1.6658108234405518 | Pose Testing Loss: 0.011168825440108776 | Action Testing Loss: 0.5489289164543152 | Action Test Label Accuracy: 76.9092219020173\n",
      "Starting EPOCH: 16 / 30\n"
     ]
    },
    {
     "output_type": "stream",
     "name": "stderr",
     "text": [
      "Training =>: 100%|██████████| 773/773 [02:34<00:00,  5.01it/s]\n"
     ]
    },
    {
     "output_type": "stream",
     "name": "stdout",
     "text": [
      "Saving at epoch 15\n",
      "Epoch: 15 | Total Training Loss: 1.849032998085022 | Pose Training Loss: 0.015896202996373177 | Action Training Loss: 0.25941038131713867 | Action Train Label Accuracy: 89.72110466409235\n"
     ]
    },
    {
     "output_type": "stream",
     "name": "stderr",
     "text": [
      "Testing =>: 100%|██████████| 293/293 [00:48<00:00,  5.98it/s]\n"
     ]
    },
    {
     "output_type": "stream",
     "name": "stdout",
     "text": [
      "Epoch: 15 | Total Testing Loss: 1.6368426084518433 | Pose Testing Loss: 0.010743698105216026 | Action Testing Loss: 0.5624720454216003 | Action Test Label Accuracy: 76.78781086562067\n",
      "Starting EPOCH: 17 / 30\n"
     ]
    },
    {
     "output_type": "stream",
     "name": "stderr",
     "text": [
      "Training =>: 100%|██████████| 773/773 [02:35<00:00,  4.96it/s]\n"
     ]
    },
    {
     "output_type": "stream",
     "name": "stdout",
     "text": [
      "Saving at epoch 16\n",
      "Epoch: 16 | Total Training Loss: 1.7877837419509888 | Pose Training Loss: 0.015412535518407822 | Action Training Loss: 0.2465299367904663 | Action Train Label Accuracy: 90.3508683258193\n"
     ]
    },
    {
     "output_type": "stream",
     "name": "stderr",
     "text": [
      "Testing =>: 100%|██████████| 293/293 [00:49<00:00,  5.89it/s]\n"
     ]
    },
    {
     "output_type": "stream",
     "name": "stdout",
     "text": [
      "Epoch: 16 | Total Testing Loss: 1.5243390798568726 | Pose Testing Loss: 0.010083844885230064 | Action Testing Loss: 0.5159547328948975 | Action Test Label Accuracy: 78.83311986337922\n",
      "Starting EPOCH: 18 / 30\n"
     ]
    },
    {
     "output_type": "stream",
     "name": "stderr",
     "text": [
      "Training =>: 100%|██████████| 773/773 [02:36<00:00,  4.93it/s]\n"
     ]
    },
    {
     "output_type": "stream",
     "name": "stdout",
     "text": [
      "Saving at epoch 17\n",
      "Epoch: 17 | Total Training Loss: 1.7343336343765259 | Pose Training Loss: 0.014988462440669537 | Action Training Loss: 0.23548683524131775 | Action Train Label Accuracy: 90.79362351656795\n"
     ]
    },
    {
     "output_type": "stream",
     "name": "stderr",
     "text": [
      "Testing =>: 100%|██████████| 293/293 [00:50<00:00,  5.86it/s]\n"
     ]
    },
    {
     "output_type": "stream",
     "name": "stdout",
     "text": [
      "Epoch: 17 | Total Testing Loss: 1.5226242542266846 | Pose Testing Loss: 0.010042538866400719 | Action Testing Loss: 0.5183697938919067 | Action Test Label Accuracy: 78.90650016010247\n",
      "Starting EPOCH: 19 / 30\n"
     ]
    },
    {
     "output_type": "stream",
     "name": "stderr",
     "text": [
      "Training =>: 100%|██████████| 773/773 [02:36<00:00,  4.94it/s]\n"
     ]
    },
    {
     "output_type": "stream",
     "name": "stdout",
     "text": [
      "Saving at epoch 18\n",
      "Epoch: 18 | Total Training Loss: 1.6912972927093506 | Pose Training Loss: 0.014626136980950832 | Action Training Loss: 0.22868451476097107 | Action Train Label Accuracy: 91.16764045852456\n"
     ]
    },
    {
     "output_type": "stream",
     "name": "stderr",
     "text": [
      "Testing =>: 100%|██████████| 293/293 [00:48<00:00,  6.04it/s]\n"
     ]
    },
    {
     "output_type": "stream",
     "name": "stdout",
     "text": [
      "Epoch: 18 | Total Testing Loss: 1.4773809909820557 | Pose Testing Loss: 0.009518374688923359 | Action Testing Loss: 0.525543212890625 | Action Test Label Accuracy: 78.66234390009606\n",
      "Starting EPOCH: 20 / 30\n"
     ]
    },
    {
     "output_type": "stream",
     "name": "stderr",
     "text": [
      "Training =>: 100%|██████████| 773/773 [02:38<00:00,  4.89it/s]\n"
     ]
    },
    {
     "output_type": "stream",
     "name": "stdout",
     "text": [
      "Saving at epoch 19\n",
      "Epoch: 19 | Total Training Loss: 1.6442738771438599 | Pose Training Loss: 0.014252201654016972 | Action Training Loss: 0.21905438601970673 | Action Train Label Accuracy: 91.55176596647999\n"
     ]
    },
    {
     "output_type": "stream",
     "name": "stderr",
     "text": [
      "Testing =>: 100%|██████████| 293/293 [00:48<00:00,  5.98it/s]\n"
     ]
    },
    {
     "output_type": "stream",
     "name": "stdout",
     "text": [
      "Epoch: 19 | Total Testing Loss: 1.5038995742797852 | Pose Testing Loss: 0.009521625936031342 | Action Testing Loss: 0.5517366528511047 | Action Test Label Accuracy: 79.31609563453944\n",
      "Starting EPOCH: 21 / 30\n"
     ]
    },
    {
     "output_type": "stream",
     "name": "stderr",
     "text": [
      "Training =>: 100%|██████████| 773/773 [02:36<00:00,  4.95it/s]\n"
     ]
    },
    {
     "output_type": "stream",
     "name": "stdout",
     "text": [
      "Saving at epoch 20\n",
      "Epoch: 20 | Total Training Loss: 1.6017539501190186 | Pose Training Loss: 0.01393539272248745 | Action Training Loss: 0.20821508765220642 | Action Train Label Accuracy: 91.98239087803005\n"
     ]
    },
    {
     "output_type": "stream",
     "name": "stderr",
     "text": [
      "Testing =>: 100%|██████████| 293/293 [00:47<00:00,  6.12it/s]\n"
     ]
    },
    {
     "output_type": "stream",
     "name": "stdout",
     "text": [
      "Epoch: 20 | Total Testing Loss: 1.4224518537521362 | Pose Testing Loss: 0.008897766470909119 | Action Testing Loss: 0.5326749086380005 | Action Test Label Accuracy: 79.72702529618955\n",
      "Starting EPOCH: 22 / 30\n"
     ]
    },
    {
     "output_type": "stream",
     "name": "stderr",
     "text": [
      "Training =>: 100%|██████████| 773/773 [02:36<00:00,  4.94it/s]\n"
     ]
    },
    {
     "output_type": "stream",
     "name": "stdout",
     "text": [
      "Saving at epoch 21\n",
      "Epoch: 21 | Total Training Loss: 1.567823886871338 | Pose Training Loss: 0.013664193451404572 | Action Training Loss: 0.20140370726585388 | Action Train Label Accuracy: 92.29171299759416\n"
     ]
    },
    {
     "output_type": "stream",
     "name": "stderr",
     "text": [
      "Testing =>: 100%|██████████| 293/293 [00:50<00:00,  5.84it/s]\n"
     ]
    },
    {
     "output_type": "stream",
     "name": "stdout",
     "text": [
      "Epoch: 21 | Total Testing Loss: 1.5255506038665771 | Pose Testing Loss: 0.009284477680921555 | Action Testing Loss: 0.5971028804779053 | Action Test Label Accuracy: 79.29875120076849\n",
      "Starting EPOCH: 23 / 30\n"
     ]
    },
    {
     "output_type": "stream",
     "name": "stderr",
     "text": [
      "Training =>: 100%|██████████| 773/773 [02:38<00:00,  4.88it/s]\n"
     ]
    },
    {
     "output_type": "stream",
     "name": "stdout",
     "text": [
      "Saving at epoch 22\n",
      "Epoch: 22 | Total Training Loss: 1.5332285165786743 | Pose Training Loss: 0.013374797999858856 | Action Training Loss: 0.19574961066246033 | Action Train Label Accuracy: 92.59496997755899\n"
     ]
    },
    {
     "output_type": "stream",
     "name": "stderr",
     "text": [
      "Testing =>: 100%|██████████| 293/293 [00:50<00:00,  5.85it/s]\n"
     ]
    },
    {
     "output_type": "stream",
     "name": "stdout",
     "text": [
      "Epoch: 22 | Total Testing Loss: 1.4175057411193848 | Pose Testing Loss: 0.008516757749021053 | Action Testing Loss: 0.5658298134803772 | Action Test Label Accuracy: 79.45885366634646\n",
      "Starting EPOCH: 24 / 30\n"
     ]
    },
    {
     "output_type": "stream",
     "name": "stderr",
     "text": [
      "Training =>: 100%|██████████| 773/773 [02:36<00:00,  4.95it/s]\n"
     ]
    },
    {
     "output_type": "stream",
     "name": "stdout",
     "text": [
      "Saving at epoch 23\n",
      "Epoch: 23 | Total Training Loss: 1.49898099899292 | Pose Training Loss: 0.013124112971127033 | Action Training Loss: 0.18656998872756958 | Action Train Label Accuracy: 92.8759881123264\n"
     ]
    },
    {
     "output_type": "stream",
     "name": "stderr",
     "text": [
      "Testing =>: 100%|██████████| 293/293 [00:49<00:00,  5.88it/s]\n"
     ]
    },
    {
     "output_type": "stream",
     "name": "stdout",
     "text": [
      "Epoch: 23 | Total Testing Loss: 1.3218104839324951 | Pose Testing Loss: 0.008131842128932476 | Action Testing Loss: 0.5086265206336975 | Action Test Label Accuracy: 81.16394492475185\n",
      "Starting EPOCH: 25 / 30\n"
     ]
    },
    {
     "output_type": "stream",
     "name": "stderr",
     "text": [
      "Training =>: 100%|██████████| 773/773 [02:37<00:00,  4.92it/s]\n"
     ]
    },
    {
     "output_type": "stream",
     "name": "stdout",
     "text": [
      "Saving at epoch 24\n",
      "Epoch: 24 | Total Training Loss: 1.4707088470458984 | Pose Training Loss: 0.01290122326463461 | Action Training Loss: 0.1805848926305771 | Action Train Label Accuracy: 93.19693508278915\n"
     ]
    },
    {
     "output_type": "stream",
     "name": "stderr",
     "text": [
      "Testing =>: 100%|██████████| 293/293 [00:47<00:00,  6.14it/s]\n"
     ]
    },
    {
     "output_type": "stream",
     "name": "stdout",
     "text": [
      "Epoch: 24 | Total Testing Loss: 1.3546949625015259 | Pose Testing Loss: 0.008314586244523525 | Action Testing Loss: 0.5232363343238831 | Action Test Label Accuracy: 80.80771693884085\n",
      "Starting EPOCH: 26 / 30\n"
     ]
    },
    {
     "output_type": "stream",
     "name": "stderr",
     "text": [
      "Training =>: 100%|██████████| 773/773 [02:35<00:00,  4.96it/s]\n"
     ]
    },
    {
     "output_type": "stream",
     "name": "stdout",
     "text": [
      "Saving at epoch 25\n",
      "Epoch: 25 | Total Training Loss: 1.4469056129455566 | Pose Training Loss: 0.012721731327474117 | Action Training Loss: 0.17473159730434418 | Action Train Label Accuracy: 93.43347552716172\n"
     ]
    },
    {
     "output_type": "stream",
     "name": "stderr",
     "text": [
      "Testing =>: 100%|██████████| 293/293 [00:49<00:00,  5.88it/s]\n"
     ]
    },
    {
     "output_type": "stream",
     "name": "stdout",
     "text": [
      "Epoch: 25 | Total Testing Loss: 1.4257441759109497 | Pose Testing Loss: 0.008563335984945297 | Action Testing Loss: 0.569411039352417 | Action Test Label Accuracy: 80.71699220834667\n",
      "Starting EPOCH: 27 / 30\n"
     ]
    },
    {
     "output_type": "stream",
     "name": "stderr",
     "text": [
      "Training =>: 100%|██████████| 773/773 [02:36<00:00,  4.92it/s]\n"
     ]
    },
    {
     "output_type": "stream",
     "name": "stdout",
     "text": [
      "Saving at epoch 26\n",
      "Epoch: 26 | Total Training Loss: 1.4228088855743408 | Pose Training Loss: 0.012543092481791973 | Action Training Loss: 0.16850054264068604 | Action Train Label Accuracy: 93.67102682813416\n"
     ]
    },
    {
     "output_type": "stream",
     "name": "stderr",
     "text": [
      "Testing =>: 100%|██████████| 293/293 [00:48<00:00,  6.08it/s]\n"
     ]
    },
    {
     "output_type": "stream",
     "name": "stdout",
     "text": [
      "Epoch: 26 | Total Testing Loss: 1.4382795095443726 | Pose Testing Loss: 0.008160050958395004 | Action Testing Loss: 0.6222734451293945 | Action Test Label Accuracy: 80.00320204931157\n",
      "Starting EPOCH: 28 / 30\n"
     ]
    },
    {
     "output_type": "stream",
     "name": "stderr",
     "text": [
      "Training =>: 100%|██████████| 773/773 [02:36<00:00,  4.93it/s]\n"
     ]
    },
    {
     "output_type": "stream",
     "name": "stdout",
     "text": [
      "Saving at epoch 27\n",
      "Epoch: 27 | Total Training Loss: 1.4016790390014648 | Pose Training Loss: 0.012392840348184109 | Action Training Loss: 0.1623944491147995 | Action Train Label Accuracy: 93.99904979479611\n"
     ]
    },
    {
     "output_type": "stream",
     "name": "stderr",
     "text": [
      "Testing =>: 100%|██████████| 293/293 [00:47<00:00,  6.12it/s]\n"
     ]
    },
    {
     "output_type": "stream",
     "name": "stdout",
     "text": [
      "Epoch: 27 | Total Testing Loss: 1.3888567686080933 | Pose Testing Loss: 0.007673895452171564 | Action Testing Loss: 0.6214674711227417 | Action Test Label Accuracy: 79.95650549685132\n",
      "Starting EPOCH: 29 / 30\n"
     ]
    },
    {
     "output_type": "stream",
     "name": "stderr",
     "text": [
      "Training =>: 100%|██████████| 773/773 [02:36<00:00,  4.94it/s]\n"
     ]
    },
    {
     "output_type": "stream",
     "name": "stdout",
     "text": [
      "Saving at epoch 28\n",
      "Epoch: 28 | Total Training Loss: 1.3805772066116333 | Pose Training Loss: 0.0122267110273242 | Action Training Loss: 0.15790510177612305 | Action Train Label Accuracy: 94.21840567697066\n"
     ]
    },
    {
     "output_type": "stream",
     "name": "stderr",
     "text": [
      "Testing =>: 100%|██████████| 293/293 [00:49<00:00,  5.89it/s]\n"
     ]
    },
    {
     "output_type": "stream",
     "name": "stdout",
     "text": [
      "Epoch: 28 | Total Testing Loss: 1.3678734302520752 | Pose Testing Loss: 0.007601380348205566 | Action Testing Loss: 0.6077352166175842 | Action Test Label Accuracy: 80.47817269719287\n",
      "Starting EPOCH: 30 / 30\n"
     ]
    },
    {
     "output_type": "stream",
     "name": "stderr",
     "text": [
      "Training =>: 100%|██████████| 773/773 [02:38<00:00,  4.89it/s]\n"
     ]
    },
    {
     "output_type": "stream",
     "name": "stdout",
     "text": [
      "Saving at epoch 29\n",
      "Epoch: 29 | Total Training Loss: 1.3589017391204834 | Pose Training Loss: 0.012065859511494637 | Action Training Loss: 0.15231357514858246 | Action Train Label Accuracy: 94.35234417645513\n"
     ]
    },
    {
     "output_type": "stream",
     "name": "stderr",
     "text": [
      "Testing =>: 100%|██████████| 293/293 [00:48<00:00,  6.02it/s]\n"
     ]
    },
    {
     "output_type": "stream",
     "name": "stdout",
     "text": [
      "Epoch: 29 | Total Testing Loss: 1.4310086965560913 | Pose Testing Loss: 0.0076921056024730206 | Action Testing Loss: 0.6617979407310486 | Action Test Label Accuracy: 80.23801899882591\n"
     ]
    },
    {
     "output_type": "display_data",
     "data": {
      "text/plain": [
       "<Figure size 640x480 with 0 Axes>"
      ]
     },
     "metadata": {}
    }
   ],
   "source": [
    "from src.simple_pose_tag.train_and_test import training_loop\n",
    "from argparse import Namespace\n",
    "import os\n",
    "from datetime import datetime\n",
    "timestamp = datetime.now().strftime(\"%Y-%m-%d--%H-%M-%S\")\n",
    "\n",
    "args_dict = {\n",
    "    'learning_rate': 3e-5,\n",
    "    'num_epochs': 30,\n",
    "    'batch_size': 256,\n",
    "    'action_loss_multiplier': 1,\n",
    "    'pose_loss_multiplier': 100,\n",
    "    'training_2d_data_path': os.path.join('datasets', 'h36m', 'Processed', 'train_2d_poses.npy'),\n",
    "    'training_3d_data_path': os.path.join('datasets', 'h36m', 'Processed', 'train_3d_poses.npy'),\n",
    "    'training_label_path': os.path.join('datasets', 'h36m', 'Processed', 'train_actions.npy'),\n",
    "    'testing_2d_data_path': os.path.join('datasets', 'h36m', 'Processed', 'test_2d_poses.npy'),\n",
    "    'testing_3d_data_path': os.path.join('datasets', 'h36m', 'Processed', 'test_3d_poses.npy'),\n",
    "    'testing_label_path': os.path.join('datasets', 'h36m', 'Processed', 'test_actions.npy'),\n",
    "    'save_path': os.path.join('model_outputs', 'simple_pose_tag', timestamp)\n",
    "}\n",
    "args = Namespace(**args_dict)\n",
    "training_loop(args)"
   ]
  },
  {
   "cell_type": "markdown",
   "id": "7726f8b0",
   "metadata": {},
   "source": [
    "<h2><u>4. Custom Dataset</u></h2>\n"
   ]
  },
  {
   "cell_type": "markdown",
   "id": "382d743e",
   "metadata": {},
   "source": [
    "<h3><u>4.1. Summary of the dataset </u></h3>\n",
    "\n",
    "Alongside the Human 3.6M dataset, we created a custom dataset containing 34,594 human poses. These poses were recorded from a single individual performing five distinct actions, captured from ten different camera angles.\n",
    "\n",
    "Instead of utilizing a 3D motion capture system, we recorded videos using a digital camera equipped with a global shutter. The 2D and 3D poses were labeled using MediaPipe.\n",
    "\n",
    "To introduce natural variability, we allowed the individual to incorporate turns and movements while performing the actions, ensuring the dataset reflects more realistic motion patterns."
   ]
  },
  {
   "cell_type": "markdown",
   "id": "d2a4b009",
   "metadata": {},
   "source": [
    "<h3><u>4.2 Preparing the dataset</u></h3>\n",
    "\n",
    "We selected five distinct actions for capture: \"arm_stretch,\" \"leg_stretch,\" \"lunges,\" \"side_stretch,\" and \"walking.\" These actions were recorded using a camera mounted on a stand with a global shutter to eliminate motion blur. The recordings were taken from various camera positions and angles to introduce variability.\n",
    "\n",
    "Here are the steps to record and prepare your custom dataset:\n",
    "\n",
    "1. Use the Python script `data_collection/record_video.py` to record the actions and save the videos in MP4 format.\n",
    "2. Use the Python script `data_collection/extract_poses.py` to extract 2D and 3D poses with MediaPipe, which automatically labels the poses, and save the poses in Numpy format. Ensure the action names and video index filenames are updated correctly."
   ]
  },
  {
   "cell_type": "markdown",
   "id": "3087664a",
   "metadata": {},
   "source": [
    "We included a sample video located at `data_collection/sample.mp4`. Running the script `data_collection/check_video.py` will display the following clip: the left side shows the original video, while the right side displays the annotated version with poses marked.\n",
    "\n",
    "\n",
    "<div align=\"center\">\n",
    "<img alt=\"Sample Mediapose Output\" width=\"100%\" src=\"data_collection/sample.gif\">\n",
    "</div>\n",
    "\n"
   ]
  },
  {
   "cell_type": "markdown",
   "id": "e85feccb",
   "metadata": {},
   "source": [
    "<h3><u>4.3 Visualizing poses </u></h3>\n"
   ]
  },
  {
   "cell_type": "markdown",
   "id": "0d767640",
   "metadata": {},
   "source": [
    "Let's visualise the poses for the 5 actions in the custom dataset"
   ]
  },
  {
   "cell_type": "code",
   "execution_count": null,
   "id": "5302c2ac",
   "metadata": {},
   "outputs": [],
   "source": [
    "from utils.visualization_utils import visualize_2d_pose_actions_custom\n",
    "\n",
    "out_poses_2d = np.load(\"datasets/custom/Processed/test_2d_poses.npy\")\n",
    "out_actions = np.load(\"datasets/custom/Processed/test_actions.npy\")\n",
    "\n",
    "for action in np.unique(out_actions):\n",
    "    out_poses_2d_action = out_poses_2d[out_actions == action]\n",
    "    visualize_2d_pose_actions_custom(out_poses_2d_action, action=action)"
   ]
  },
  {
   "cell_type": "markdown",
   "id": "042d4d7d",
   "metadata": {},
   "source": [
    "Let's visualise the first 2D pose and corresponding 3D poses in the custom dataset"
   ]
  },
  {
   "cell_type": "code",
   "execution_count": null,
   "id": "eee629e2",
   "metadata": {},
   "outputs": [],
   "source": [
    "import numpy as np\n",
    "\n",
    "from utils.visualization_utils import visualize_2d_pose_custom, visualize_3d_pose_custom\n",
    "\n",
    "poses_2d = np.load(\"datasets/custom/Processed/test_2d_poses.npy\")\n",
    "poses_3d = np.load(\"datasets/custom/Processed/test_3d_poses.npy\")\n",
    "\n",
    "visualize_2d_pose_custom(poses_2d[0])\n",
    "visualize_3d_pose_custom(poses_3d[0], elev=110, azim=90)"
   ]
  },
  {
   "cell_type": "markdown",
   "id": "18f66be5",
   "metadata": {},
   "source": [
    "Let's visualise the distribution of the 5 actions in the custom train and test datasets"
   ]
  },
  {
   "cell_type": "code",
   "execution_count": null,
   "id": "f0262d78",
   "metadata": {},
   "outputs": [],
   "source": [
    "train_actions = np.load(\"datasets/custom/Processed/train_actions.npy\")\n",
    "show_action_stats(train_actions, \"Train\")"
   ]
  },
  {
   "cell_type": "code",
   "execution_count": null,
   "id": "85ae460d",
   "metadata": {},
   "outputs": [],
   "source": [
    "test_actions = np.load(\"datasets/custom/Processed/test_actions.npy\")\n",
    "show_action_stats(test_actions, \"Test\")"
   ]
  },
  {
   "cell_type": "markdown",
   "id": "9ac64500",
   "metadata": {},
   "source": [
    "<h3><u>4.4. Training baseline model (SimplePose)</u></h3>"
   ]
  },
  {
   "cell_type": "code",
   "execution_count": null,
   "id": "24d06847",
   "metadata": {
    "colab": {
     "base_uri": "https://localhost:8080/",
     "height": 1000
    },
    "id": "O9SkhIaYOwSd",
    "outputId": "7b98935a-0a26-4e77-d542-2dcb068a441c"
   },
   "outputs": [
    {
     "output_type": "stream",
     "name": "stdout",
     "text": [
      "Training args are: Namespace(learning_rate=3e-05, num_epochs=30, batch_size=256, action_loss_multiplier=1, pose_loss_multiplier=100, training_2d_data_path='datasets/custom/Processed/train_2d_poses.npy', training_3d_data_path='datasets/custom/Processed/train_3d_poses.npy', training_label_path='datasets/custom/Processed/train_actions.npy', testing_2d_data_path='datasets/custom/Processed/test_2d_poses.npy', testing_3d_data_path='datasets/custom/Processed/test_3d_poses.npy', testing_label_path='datasets/custom/Processed/test_actions.npy', save_path='model_outputs/simple_pose_custom/2024-11-17--09-21-41')\n",
      "Starting EPOCH: 1 / 30\n"
     ]
    },
    {
     "output_type": "stream",
     "name": "stderr",
     "text": [
      "Training =>:   0%|          | 0/126 [00:00<?, ?it/s]\n",
      "Training =>:   6%|▋         | 8/126 [00:00<00:01, 77.62it/s]\n",
      "Training =>:  13%|█▎        | 17/126 [00:00<00:01, 79.60it/s]\n",
      "Training =>:  21%|██        | 26/126 [00:00<00:01, 80.36it/s]\n",
      "Training =>:  28%|██▊       | 35/126 [00:00<00:01, 80.65it/s]\n",
      "Training =>:  35%|███▍      | 44/126 [00:00<00:00, 82.34it/s]\n",
      "Training =>:  42%|████▏     | 53/126 [00:00<00:00, 83.01it/s]\n",
      "Training =>:  49%|████▉     | 62/126 [00:00<00:00, 83.47it/s]\n",
      "Training =>:  56%|█████▋    | 71/126 [00:00<00:00, 83.81it/s]\n",
      "Training =>:  63%|██████▎   | 80/126 [00:00<00:00, 83.48it/s]\n",
      "Training =>:  71%|███████   | 89/126 [00:01<00:00, 84.09it/s]\n",
      "Training =>:  78%|███████▊  | 98/126 [00:01<00:00, 84.15it/s]\n",
      "Training =>:  85%|████████▍ | 107/126 [00:01<00:00, 84.48it/s]\n",
      "Training =>:  92%|█████████▏| 116/126 [00:01<00:00, 84.33it/s]\n",
      "Training =>:  99%|█████████▉| 125/126 [00:01<00:00, 84.07it/s]\n",
      "100%|██████████| 126/126 [00:01<00:00, 83.09it/s]\n",
      "Training =>: 100%|██████████| 126/126 [00:01<00:00, 82.78it/s]\n"
     ]
    },
    {
     "output_type": "stream",
     "name": "stdout",
     "text": [
      "Saving at epoch 0\n",
      "Epoch: 0 | Total Training Loss: 158.8680877685547 | Pose Training Loss: 1.5735925436019897 | Action Training Loss: 1.508824110031128 | Action Train Label Accuracy: 37.423122320929366\n"
     ]
    },
    {
     "output_type": "stream",
     "name": "stderr",
     "text": [
      "Testing =>:   0%|          | 0/10 [00:00<?, ?it/s]\n",
      "100%|██████████| 10/10 [00:00<00:00, 187.38it/s]\n",
      "Testing =>: 100%|██████████| 10/10 [00:00<00:00, 170.78it/s]\n"
     ]
    },
    {
     "output_type": "stream",
     "name": "stdout",
     "text": [
      "Epoch: 0 | Total Testing Loss: 14.504740715026855 | Pose Testing Loss: 0.11845336109399796 | Action Testing Loss: 2.659405469894409 | Action Test Label Accuracy: 20.0\n",
      "Starting EPOCH: 2 / 30\n"
     ]
    },
    {
     "output_type": "stream",
     "name": "stderr",
     "text": [
      "Training =>:   0%|          | 0/126 [00:00<?, ?it/s]\n",
      "Training =>:   6%|▋         | 8/126 [00:00<00:01, 78.86it/s]\n",
      "Training =>:  13%|█▎        | 17/126 [00:00<00:01, 82.06it/s]\n",
      "Training =>:  21%|██        | 26/126 [00:00<00:01, 82.74it/s]\n",
      "Training =>:  28%|██▊       | 35/126 [00:00<00:01, 81.99it/s]\n",
      "Training =>:  35%|███▍      | 44/126 [00:00<00:00, 82.78it/s]\n",
      "Training =>:  42%|████▏     | 53/126 [00:00<00:00, 82.41it/s]\n",
      "Training =>:  49%|████▉     | 62/126 [00:00<00:00, 82.76it/s]\n",
      "Training =>:  56%|█████▋    | 71/126 [00:00<00:00, 82.07it/s]\n",
      "Training =>:  63%|██████▎   | 80/126 [00:00<00:00, 81.60it/s]\n",
      "Training =>:  71%|███████   | 89/126 [00:01<00:00, 82.30it/s]\n",
      "Training =>:  78%|███████▊  | 98/126 [00:01<00:00, 82.68it/s]\n",
      "Training =>:  85%|████████▍ | 107/126 [00:01<00:00, 83.28it/s]\n",
      "Training =>:  92%|█████████▏| 116/126 [00:01<00:00, 83.12it/s]\n",
      "Training =>:  99%|█████████▉| 125/126 [00:01<00:00, 83.21it/s]\n",
      "100%|██████████| 126/126 [00:01<00:00, 82.65it/s]\n",
      "Training =>: 100%|██████████| 126/126 [00:01<00:00, 82.39it/s]\n"
     ]
    },
    {
     "output_type": "stream",
     "name": "stdout",
     "text": [
      "Saving at epoch 1\n",
      "Epoch: 1 | Total Training Loss: 85.60617065429688 | Pose Training Loss: 0.8459522724151611 | Action Training Loss: 1.0109256505966187 | Action Train Label Accuracy: 53.5503509970802\n"
     ]
    },
    {
     "output_type": "stream",
     "name": "stderr",
     "text": [
      "Testing =>:   0%|          | 0/10 [00:00<?, ?it/s]\n",
      "100%|██████████| 10/10 [00:00<00:00, 206.60it/s]\n",
      "Testing =>: 100%|██████████| 10/10 [00:00<00:00, 185.62it/s]\n"
     ]
    },
    {
     "output_type": "stream",
     "name": "stdout",
     "text": [
      "Epoch: 1 | Total Testing Loss: 14.138185501098633 | Pose Testing Loss: 0.11169858276844025 | Action Testing Loss: 2.968327283859253 | Action Test Label Accuracy: 20.0\n",
      "Starting EPOCH: 3 / 30\n"
     ]
    },
    {
     "output_type": "stream",
     "name": "stderr",
     "text": [
      "Training =>:   0%|          | 0/126 [00:00<?, ?it/s]\n",
      "Training =>:   6%|▋         | 8/126 [00:00<00:01, 77.11it/s]\n",
      "Training =>:  13%|█▎        | 17/126 [00:00<00:01, 80.70it/s]\n",
      "Training =>:  21%|██        | 26/126 [00:00<00:01, 81.56it/s]\n",
      "Training =>:  28%|██▊       | 35/126 [00:00<00:01, 80.68it/s]\n",
      "Training =>:  35%|███▍      | 44/126 [00:00<00:01, 78.96it/s]\n",
      "Training =>:  41%|████▏     | 52/126 [00:00<00:00, 78.23it/s]\n",
      "Training =>:  48%|████▊     | 61/126 [00:00<00:00, 79.40it/s]\n",
      "Training =>:  56%|█████▌    | 70/126 [00:00<00:00, 80.14it/s]\n",
      "Training =>:  63%|██████▎   | 79/126 [00:00<00:00, 81.34it/s]\n",
      "Training =>:  70%|██████▉   | 88/126 [00:01<00:00, 80.03it/s]\n",
      "Training =>:  77%|███████▋  | 97/126 [00:01<00:00, 78.94it/s]\n",
      "Training =>:  84%|████████▍ | 106/126 [00:01<00:00, 80.36it/s]\n",
      "Training =>:  91%|█████████▏| 115/126 [00:01<00:00, 81.53it/s]\n",
      "Training =>:  98%|█████████▊| 124/126 [00:01<00:00, 82.45it/s]\n",
      "100%|██████████| 126/126 [00:01<00:00, 80.66it/s]\n",
      "Training =>: 100%|██████████| 126/126 [00:01<00:00, 80.32it/s]\n"
     ]
    },
    {
     "output_type": "stream",
     "name": "stdout",
     "text": [
      "Saving at epoch 2\n",
      "Epoch: 2 | Total Training Loss: 51.71696090698242 | Pose Training Loss: 0.5086367726325989 | Action Training Loss: 0.8532938361167908 | Action Train Label Accuracy: 60.62309747157856\n"
     ]
    },
    {
     "output_type": "stream",
     "name": "stderr",
     "text": [
      "Testing =>:   0%|          | 0/10 [00:00<?, ?it/s]\n",
      "100%|██████████| 10/10 [00:00<00:00, 201.92it/s]\n",
      "Testing =>: 100%|██████████| 10/10 [00:00<00:00, 181.18it/s]\n"
     ]
    },
    {
     "output_type": "stream",
     "name": "stdout",
     "text": [
      "Epoch: 2 | Total Testing Loss: 10.414505004882812 | Pose Testing Loss: 0.0768788754940033 | Action Testing Loss: 2.726616382598877 | Action Test Label Accuracy: 20.0\n",
      "Starting EPOCH: 4 / 30\n"
     ]
    },
    {
     "output_type": "stream",
     "name": "stderr",
     "text": [
      "Training =>:   0%|          | 0/126 [00:00<?, ?it/s]\n",
      "Training =>:   6%|▋         | 8/126 [00:00<00:01, 72.04it/s]\n",
      "Training =>:  13%|█▎        | 16/126 [00:00<00:01, 74.57it/s]\n",
      "Training =>:  19%|█▉        | 24/126 [00:00<00:01, 75.67it/s]\n",
      "Training =>:  25%|██▌       | 32/126 [00:00<00:01, 76.81it/s]\n",
      "Training =>:  33%|███▎      | 41/126 [00:00<00:01, 79.10it/s]\n",
      "Training =>:  40%|███▉      | 50/126 [00:00<00:00, 80.58it/s]\n",
      "Training =>:  47%|████▋     | 59/126 [00:00<00:00, 79.96it/s]\n",
      "Training =>:  53%|█████▎    | 67/126 [00:00<00:00, 78.57it/s]\n",
      "Training =>:  60%|██████    | 76/126 [00:00<00:00, 79.86it/s]\n",
      "Training =>:  67%|██████▋   | 84/126 [00:01<00:00, 79.48it/s]\n",
      "Training =>:  73%|███████▎  | 92/126 [00:01<00:00, 79.22it/s]\n",
      "Training =>:  80%|████████  | 101/126 [00:01<00:00, 79.99it/s]\n",
      "Training =>:  87%|████████▋ | 109/126 [00:01<00:00, 79.32it/s]\n",
      "Training =>:  93%|█████████▎| 117/126 [00:01<00:00, 78.25it/s]\n",
      "100%|██████████| 126/126 [00:01<00:00, 78.85it/s]\n",
      "Training =>: 100%|██████████| 126/126 [00:01<00:00, 78.59it/s]\n"
     ]
    },
    {
     "output_type": "stream",
     "name": "stdout",
     "text": [
      "Saving at epoch 3\n",
      "Epoch: 3 | Total Training Loss: 33.121376037597656 | Pose Training Loss: 0.3232436776161194 | Action Training Loss: 0.7970070838928223 | Action Train Label Accuracy: 63.59259489345841\n"
     ]
    },
    {
     "output_type": "stream",
     "name": "stderr",
     "text": [
      "Testing =>:   0%|          | 0/10 [00:00<?, ?it/s]\n",
      "100%|██████████| 10/10 [00:00<00:00, 169.52it/s]\n",
      "Testing =>: 100%|██████████| 10/10 [00:00<00:00, 155.78it/s]\n"
     ]
    },
    {
     "output_type": "stream",
     "name": "stdout",
     "text": [
      "Epoch: 3 | Total Testing Loss: 9.148798942565918 | Pose Testing Loss: 0.06517723202705383 | Action Testing Loss: 2.631075620651245 | Action Test Label Accuracy: 20.0\n",
      "Starting EPOCH: 5 / 30\n"
     ]
    },
    {
     "output_type": "stream",
     "name": "stderr",
     "text": [
      "Training =>:   0%|          | 0/126 [00:00<?, ?it/s]\n",
      "Training =>:   6%|▋         | 8/126 [00:00<00:01, 76.89it/s]\n",
      "Training =>:  13%|█▎        | 17/126 [00:00<00:01, 79.72it/s]\n",
      "Training =>:  21%|██        | 26/126 [00:00<00:01, 81.00it/s]\n",
      "Training =>:  28%|██▊       | 35/126 [00:00<00:01, 82.15it/s]\n",
      "Training =>:  35%|███▍      | 44/126 [00:00<00:00, 82.74it/s]\n",
      "Training =>:  42%|████▏     | 53/126 [00:00<00:00, 82.55it/s]\n",
      "Training =>:  49%|████▉     | 62/126 [00:00<00:00, 82.16it/s]\n",
      "Training =>:  56%|█████▋    | 71/126 [00:00<00:00, 82.02it/s]\n",
      "Training =>:  63%|██████▎   | 80/126 [00:00<00:00, 82.25it/s]\n",
      "Training =>:  71%|███████   | 89/126 [00:01<00:00, 82.67it/s]\n",
      "Training =>:  78%|███████▊  | 98/126 [00:01<00:00, 82.32it/s]\n",
      "Training =>:  85%|████████▍ | 107/126 [00:01<00:00, 82.35it/s]\n",
      "Training =>:  92%|█████████▏| 116/126 [00:01<00:00, 82.68it/s]\n",
      "Training =>:  99%|█████████▉| 125/126 [00:01<00:00, 82.70it/s]\n",
      "100%|██████████| 126/126 [00:01<00:00, 82.26it/s]\n",
      "Training =>: 100%|██████████| 126/126 [00:01<00:00, 81.89it/s]\n"
     ]
    },
    {
     "output_type": "stream",
     "name": "stdout",
     "text": [
      "Saving at epoch 4\n",
      "Epoch: 4 | Total Training Loss: 23.717937469482422 | Pose Training Loss: 0.229532852768898 | Action Training Loss: 0.7646594047546387 | Action Train Label Accuracy: 65.56501211405852\n"
     ]
    },
    {
     "output_type": "stream",
     "name": "stderr",
     "text": [
      "Testing =>:   0%|          | 0/10 [00:00<?, ?it/s]\n",
      "100%|██████████| 10/10 [00:00<00:00, 205.62it/s]\n",
      "Testing =>: 100%|██████████| 10/10 [00:00<00:00, 185.00it/s]\n"
     ]
    },
    {
     "output_type": "stream",
     "name": "stdout",
     "text": [
      "Epoch: 4 | Total Testing Loss: 8.888945579528809 | Pose Testing Loss: 0.06429732590913773 | Action Testing Loss: 2.459212064743042 | Action Test Label Accuracy: 20.0\n",
      "Starting EPOCH: 6 / 30\n"
     ]
    },
    {
     "output_type": "stream",
     "name": "stderr",
     "text": [
      "Training =>:   0%|          | 0/126 [00:00<?, ?it/s]\n",
      "Training =>:   6%|▋         | 8/126 [00:00<00:01, 76.09it/s]\n",
      "Training =>:  13%|█▎        | 17/126 [00:00<00:01, 79.35it/s]\n",
      "Training =>:  21%|██        | 26/126 [00:00<00:01, 80.17it/s]\n",
      "Training =>:  28%|██▊       | 35/126 [00:00<00:01, 81.24it/s]\n",
      "Training =>:  35%|███▍      | 44/126 [00:00<00:01, 81.85it/s]\n",
      "Training =>:  42%|████▏     | 53/126 [00:00<00:00, 81.90it/s]\n",
      "Training =>:  49%|████▉     | 62/126 [00:00<00:00, 82.48it/s]\n",
      "Training =>:  56%|█████▋    | 71/126 [00:00<00:00, 82.98it/s]\n",
      "Training =>:  63%|██████▎   | 80/126 [00:00<00:00, 83.05it/s]\n",
      "Training =>:  71%|███████   | 89/126 [00:01<00:00, 82.85it/s]\n",
      "Training =>:  78%|███████▊  | 98/126 [00:01<00:00, 82.37it/s]\n",
      "Training =>:  85%|████████▍ | 107/126 [00:01<00:00, 82.26it/s]\n",
      "Training =>:  92%|█████████▏| 116/126 [00:01<00:00, 83.20it/s]\n",
      "Training =>:  99%|█████████▉| 125/126 [00:01<00:00, 83.42it/s]\n",
      "100%|██████████| 126/126 [00:01<00:00, 82.31it/s]\n",
      "Training =>: 100%|██████████| 126/126 [00:01<00:00, 82.01it/s]\n"
     ]
    },
    {
     "output_type": "stream",
     "name": "stdout",
     "text": [
      "Saving at epoch 5\n",
      "Epoch: 5 | Total Training Loss: 18.47554588317871 | Pose Training Loss: 0.17741942405700684 | Action Training Loss: 0.7336008548736572 | Action Train Label Accuracy: 67.7113747903336\n"
     ]
    },
    {
     "output_type": "stream",
     "name": "stderr",
     "text": [
      "Testing =>:   0%|          | 0/10 [00:00<?, ?it/s]\n",
      "100%|██████████| 10/10 [00:00<00:00, 207.74it/s]\n",
      "Testing =>: 100%|██████████| 10/10 [00:00<00:00, 187.12it/s]\n"
     ]
    },
    {
     "output_type": "stream",
     "name": "stdout",
     "text": [
      "Epoch: 5 | Total Testing Loss: 8.611437797546387 | Pose Testing Loss: 0.06243332847952843 | Action Testing Loss: 2.36810564994812 | Action Test Label Accuracy: 20.25\n",
      "Starting EPOCH: 7 / 30\n"
     ]
    },
    {
     "output_type": "stream",
     "name": "stderr",
     "text": [
      "Training =>:   0%|          | 0/126 [00:00<?, ?it/s]\n",
      "Training =>:   6%|▋         | 8/126 [00:00<00:01, 79.42it/s]\n",
      "Training =>:  13%|█▎        | 17/126 [00:00<00:01, 81.72it/s]\n",
      "Training =>:  21%|██        | 26/126 [00:00<00:01, 82.16it/s]\n",
      "Training =>:  28%|██▊       | 35/126 [00:00<00:01, 82.64it/s]\n",
      "Training =>:  35%|███▍      | 44/126 [00:00<00:00, 82.37it/s]\n",
      "Training =>:  42%|████▏     | 53/126 [00:00<00:00, 82.88it/s]\n",
      "Training =>:  49%|████▉     | 62/126 [00:00<00:00, 83.27it/s]\n",
      "Training =>:  56%|█████▋    | 71/126 [00:00<00:00, 83.16it/s]\n",
      "Training =>:  63%|██████▎   | 80/126 [00:00<00:00, 83.36it/s]\n",
      "Training =>:  71%|███████   | 89/126 [00:01<00:00, 82.72it/s]\n",
      "Training =>:  78%|███████▊  | 98/126 [00:01<00:00, 82.46it/s]\n",
      "Training =>:  85%|████████▍ | 107/126 [00:01<00:00, 82.91it/s]\n",
      "Training =>:  92%|█████████▏| 116/126 [00:01<00:00, 83.09it/s]\n",
      "Training =>:  99%|█████████▉| 125/126 [00:01<00:00, 83.30it/s]\n",
      "100%|██████████| 126/126 [00:01<00:00, 82.88it/s]\n",
      "Training =>: 100%|██████████| 126/126 [00:01<00:00, 82.60it/s]\n"
     ]
    },
    {
     "output_type": "stream",
     "name": "stdout",
     "text": [
      "Saving at epoch 6\n",
      "Epoch: 6 | Total Training Loss: 15.324664115905762 | Pose Training Loss: 0.14620667695999146 | Action Training Loss: 0.7039858102798462 | Action Train Label Accuracy: 69.49431571100206\n"
     ]
    },
    {
     "output_type": "stream",
     "name": "stderr",
     "text": [
      "Testing =>:   0%|          | 0/10 [00:00<?, ?it/s]\n",
      "100%|██████████| 10/10 [00:00<00:00, 203.04it/s]\n",
      "Testing =>: 100%|██████████| 10/10 [00:00<00:00, 185.02it/s]\n"
     ]
    },
    {
     "output_type": "stream",
     "name": "stdout",
     "text": [
      "Epoch: 6 | Total Testing Loss: 8.223422050476074 | Pose Testing Loss: 0.059359800070524216 | Action Testing Loss: 2.2874419689178467 | Action Test Label Accuracy: 20.375\n",
      "Starting EPOCH: 8 / 30\n"
     ]
    },
    {
     "output_type": "stream",
     "name": "stderr",
     "text": [
      "Training =>:   0%|          | 0/126 [00:00<?, ?it/s]\n",
      "Training =>:   6%|▋         | 8/126 [00:00<00:01, 74.61it/s]\n",
      "Training =>:  13%|█▎        | 16/126 [00:00<00:01, 77.56it/s]\n",
      "Training =>:  20%|█▉        | 25/126 [00:00<00:01, 79.21it/s]\n",
      "Training =>:  26%|██▌       | 33/126 [00:00<00:01, 79.42it/s]\n",
      "Training =>:  33%|███▎      | 41/126 [00:00<00:01, 75.44it/s]\n",
      "Training =>:  40%|███▉      | 50/126 [00:00<00:00, 78.45it/s]\n",
      "Training =>:  47%|████▋     | 59/126 [00:00<00:00, 79.50it/s]\n",
      "Training =>:  53%|█████▎    | 67/126 [00:00<00:00, 79.18it/s]\n",
      "Training =>:  60%|██████    | 76/126 [00:00<00:00, 80.74it/s]\n",
      "Training =>:  67%|██████▋   | 85/126 [00:01<00:00, 80.73it/s]\n",
      "Training =>:  75%|███████▍  | 94/126 [00:01<00:00, 81.27it/s]\n",
      "Training =>:  82%|████████▏ | 103/126 [00:01<00:00, 82.21it/s]\n",
      "Training =>:  89%|████████▉ | 112/126 [00:01<00:00, 79.41it/s]\n",
      "Training =>:  96%|█████████▌| 121/126 [00:01<00:00, 80.89it/s]\n",
      "100%|██████████| 126/126 [00:01<00:00, 80.04it/s]\n",
      "Training =>: 100%|██████████| 126/126 [00:01<00:00, 79.70it/s]\n"
     ]
    },
    {
     "output_type": "stream",
     "name": "stdout",
     "text": [
      "Saving at epoch 7\n",
      "Epoch: 7 | Total Training Loss: 13.264892578125 | Pose Training Loss: 0.12591703236103058 | Action Training Loss: 0.673190176486969 | Action Train Label Accuracy: 71.23066409890042\n"
     ]
    },
    {
     "output_type": "stream",
     "name": "stderr",
     "text": [
      "Testing =>:   0%|          | 0/10 [00:00<?, ?it/s]\n",
      "100%|██████████| 10/10 [00:00<00:00, 197.13it/s]\n",
      "Testing =>: 100%|██████████| 10/10 [00:00<00:00, 174.85it/s]\n"
     ]
    },
    {
     "output_type": "stream",
     "name": "stdout",
     "text": [
      "Epoch: 7 | Total Testing Loss: 7.842933654785156 | Pose Testing Loss: 0.05481123924255371 | Action Testing Loss: 2.3618102073669434 | Action Test Label Accuracy: 20.583333333333336\n",
      "Starting EPOCH: 9 / 30\n"
     ]
    },
    {
     "output_type": "stream",
     "name": "stderr",
     "text": [
      "Training =>:   0%|          | 0/126 [00:00<?, ?it/s]\n",
      "Training =>:   6%|▋         | 8/126 [00:00<00:01, 75.67it/s]\n",
      "Training =>:  13%|█▎        | 17/126 [00:00<00:01, 80.19it/s]\n",
      "Training =>:  21%|██        | 26/126 [00:00<00:01, 80.67it/s]\n",
      "Training =>:  28%|██▊       | 35/126 [00:00<00:01, 81.66it/s]\n",
      "Training =>:  35%|███▍      | 44/126 [00:00<00:00, 82.12it/s]\n",
      "Training =>:  42%|████▏     | 53/126 [00:00<00:00, 82.64it/s]\n",
      "Training =>:  49%|████▉     | 62/126 [00:00<00:00, 83.00it/s]\n",
      "Training =>:  56%|█████▋    | 71/126 [00:00<00:00, 82.68it/s]\n",
      "Training =>:  63%|██████▎   | 80/126 [00:00<00:00, 83.30it/s]\n",
      "Training =>:  71%|███████   | 89/126 [00:01<00:00, 84.09it/s]\n",
      "Training =>:  78%|███████▊  | 98/126 [00:01<00:00, 84.27it/s]\n",
      "Training =>:  85%|████████▍ | 107/126 [00:01<00:00, 81.59it/s]\n",
      "Training =>:  92%|█████████▏| 116/126 [00:01<00:00, 81.36it/s]\n",
      "Training =>:  99%|█████████▉| 125/126 [00:01<00:00, 82.14it/s]\n",
      "100%|██████████| 126/126 [00:01<00:00, 82.18it/s]\n",
      "Training =>: 100%|██████████| 126/126 [00:01<00:00, 81.92it/s]\n"
     ]
    },
    {
     "output_type": "stream",
     "name": "stdout",
     "text": [
      "Saving at epoch 8\n",
      "Epoch: 8 | Total Training Loss: 11.706273078918457 | Pose Training Loss: 0.11067637801170349 | Action Training Loss: 0.6386374235153198 | Action Train Label Accuracy: 73.11921476051438\n"
     ]
    },
    {
     "output_type": "stream",
     "name": "stderr",
     "text": [
      "Testing =>:   0%|          | 0/10 [00:00<?, ?it/s]\n",
      "100%|██████████| 10/10 [00:00<00:00, 196.16it/s]\n",
      "Testing =>: 100%|██████████| 10/10 [00:00<00:00, 180.91it/s]\n"
     ]
    },
    {
     "output_type": "stream",
     "name": "stdout",
     "text": [
      "Epoch: 8 | Total Testing Loss: 7.0985260009765625 | Pose Testing Loss: 0.049631137400865555 | Action Testing Loss: 2.1354126930236816 | Action Test Label Accuracy: 23.958333333333336\n",
      "Starting EPOCH: 10 / 30\n"
     ]
    },
    {
     "output_type": "stream",
     "name": "stderr",
     "text": [
      "Training =>:   0%|          | 0/126 [00:00<?, ?it/s]\n",
      "Training =>:   6%|▋         | 8/126 [00:00<00:01, 75.58it/s]\n",
      "Training =>:  13%|█▎        | 17/126 [00:00<00:01, 79.93it/s]\n",
      "Training =>:  21%|██        | 26/126 [00:00<00:01, 80.90it/s]\n",
      "Training =>:  28%|██▊       | 35/126 [00:00<00:01, 78.73it/s]\n",
      "Training =>:  35%|███▍      | 44/126 [00:00<00:01, 79.66it/s]\n",
      "Training =>:  41%|████▏     | 52/126 [00:00<00:00, 79.59it/s]\n",
      "Training =>:  48%|████▊     | 61/126 [00:00<00:00, 80.56it/s]\n",
      "Training =>:  56%|█████▌    | 70/126 [00:00<00:00, 81.59it/s]\n",
      "Training =>:  63%|██████▎   | 79/126 [00:00<00:00, 82.00it/s]\n",
      "Training =>:  70%|██████▉   | 88/126 [00:01<00:00, 82.88it/s]\n",
      "Training =>:  77%|███████▋  | 97/126 [00:01<00:00, 83.45it/s]\n",
      "Training =>:  84%|████████▍ | 106/126 [00:01<00:00, 83.23it/s]\n",
      "Training =>:  91%|█████████▏| 115/126 [00:01<00:00, 83.42it/s]\n",
      "Training =>:  98%|█████████▊| 124/126 [00:01<00:00, 81.50it/s]\n",
      "100%|██████████| 126/126 [00:01<00:00, 81.36it/s]\n",
      "Training =>: 100%|██████████| 126/126 [00:01<00:00, 81.06it/s]\n"
     ]
    },
    {
     "output_type": "stream",
     "name": "stdout",
     "text": [
      "Saving at epoch 9\n",
      "Epoch: 9 | Total Training Loss: 10.55134105682373 | Pose Training Loss: 0.09941957145929337 | Action Training Loss: 0.6093844771385193 | Action Train Label Accuracy: 74.6039634714543\n"
     ]
    },
    {
     "output_type": "stream",
     "name": "stderr",
     "text": [
      "Testing =>:   0%|          | 0/10 [00:00<?, ?it/s]\n",
      "100%|██████████| 10/10 [00:00<00:00, 203.17it/s]\n",
      "Testing =>: 100%|██████████| 10/10 [00:00<00:00, 182.28it/s]\n"
     ]
    },
    {
     "output_type": "stream",
     "name": "stdout",
     "text": [
      "Epoch: 9 | Total Testing Loss: 6.8260040283203125 | Pose Testing Loss: 0.04415412247180939 | Action Testing Loss: 2.410592794418335 | Action Test Label Accuracy: 22.958333333333332\n",
      "Starting EPOCH: 11 / 30\n"
     ]
    },
    {
     "output_type": "stream",
     "name": "stderr",
     "text": [
      "Training =>:   0%|          | 0/126 [00:00<?, ?it/s]\n",
      "Training =>:   6%|▋         | 8/126 [00:00<00:01, 76.77it/s]\n",
      "Training =>:  13%|█▎        | 17/126 [00:00<00:01, 79.90it/s]\n",
      "Training =>:  21%|██        | 26/126 [00:00<00:01, 80.58it/s]\n",
      "Training =>:  28%|██▊       | 35/126 [00:00<00:01, 80.80it/s]\n",
      "Training =>:  35%|███▍      | 44/126 [00:00<00:01, 81.94it/s]\n",
      "Training =>:  42%|████▏     | 53/126 [00:00<00:00, 80.86it/s]\n",
      "Training =>:  49%|████▉     | 62/126 [00:00<00:00, 81.61it/s]\n",
      "Training =>:  56%|█████▋    | 71/126 [00:00<00:00, 81.68it/s]\n",
      "Training =>:  63%|██████▎   | 80/126 [00:00<00:00, 80.26it/s]\n",
      "Training =>:  71%|███████   | 89/126 [00:01<00:00, 81.01it/s]\n",
      "Training =>:  78%|███████▊  | 98/126 [00:01<00:00, 80.45it/s]\n",
      "Training =>:  85%|████████▍ | 107/126 [00:01<00:00, 81.36it/s]\n",
      "Training =>:  92%|█████████▏| 116/126 [00:01<00:00, 81.98it/s]\n",
      "Training =>:  99%|█████████▉| 125/126 [00:01<00:00, 82.42it/s]\n",
      "100%|██████████| 126/126 [00:01<00:00, 81.34it/s]\n",
      "Training =>: 100%|██████████| 126/126 [00:01<00:00, 81.04it/s]\n"
     ]
    },
    {
     "output_type": "stream",
     "name": "stdout",
     "text": [
      "Saving at epoch 10\n",
      "Epoch: 10 | Total Training Loss: 9.53645133972168 | Pose Training Loss: 0.08964976668357849 | Action Training Loss: 0.571474552154541 | Action Train Label Accuracy: 76.50493880847364\n"
     ]
    },
    {
     "output_type": "stream",
     "name": "stderr",
     "text": [
      "Testing =>:   0%|          | 0/10 [00:00<?, ?it/s]\n",
      "100%|██████████| 10/10 [00:00<00:00, 202.59it/s]\n",
      "Testing =>: 100%|██████████| 10/10 [00:00<00:00, 179.40it/s]\n"
     ]
    },
    {
     "output_type": "stream",
     "name": "stdout",
     "text": [
      "Epoch: 10 | Total Testing Loss: 6.227787971496582 | Pose Testing Loss: 0.041821930557489395 | Action Testing Loss: 2.0455944538116455 | Action Test Label Accuracy: 28.625\n",
      "Starting EPOCH: 12 / 30\n"
     ]
    },
    {
     "output_type": "stream",
     "name": "stderr",
     "text": [
      "Training =>:   0%|          | 0/126 [00:00<?, ?it/s]\n",
      "Training =>:   6%|▋         | 8/126 [00:00<00:01, 78.19it/s]\n",
      "Training =>:  13%|█▎        | 16/126 [00:00<00:01, 79.12it/s]\n",
      "Training =>:  19%|█▉        | 24/126 [00:00<00:01, 76.22it/s]\n",
      "Training =>:  25%|██▌       | 32/126 [00:00<00:01, 77.41it/s]\n",
      "Training =>:  33%|███▎      | 41/126 [00:00<00:01, 79.36it/s]\n",
      "Training =>:  39%|███▉      | 49/126 [00:00<00:00, 79.03it/s]\n",
      "Training =>:  45%|████▌     | 57/126 [00:00<00:00, 79.05it/s]\n",
      "Training =>:  52%|█████▏    | 65/126 [00:00<00:00, 78.74it/s]\n",
      "Training =>:  58%|█████▊    | 73/126 [00:00<00:00, 79.07it/s]\n",
      "Training =>:  65%|██████▌   | 82/126 [00:01<00:00, 80.22it/s]\n",
      "Training =>:  72%|███████▏  | 91/126 [00:01<00:00, 80.17it/s]\n",
      "Training =>:  79%|███████▉  | 100/126 [00:01<00:00, 80.27it/s]\n",
      "Training =>:  87%|████████▋ | 109/126 [00:01<00:00, 81.42it/s]\n",
      "Training =>:  94%|█████████▎| 118/126 [00:01<00:00, 81.79it/s]\n",
      "100%|██████████| 126/126 [00:01<00:00, 80.13it/s]\n",
      "Training =>: 100%|██████████| 126/126 [00:01<00:00, 79.81it/s]\n"
     ]
    },
    {
     "output_type": "stream",
     "name": "stdout",
     "text": [
      "Saving at epoch 11\n",
      "Epoch: 11 | Total Training Loss: 8.759888648986816 | Pose Training Loss: 0.08219175040721893 | Action Training Loss: 0.5407126545906067 | Action Train Label Accuracy: 77.96794433745418\n"
     ]
    },
    {
     "output_type": "stream",
     "name": "stderr",
     "text": [
      "Testing =>:   0%|          | 0/10 [00:00<?, ?it/s]\n",
      "100%|██████████| 10/10 [00:00<00:00, 196.55it/s]\n",
      "Testing =>: 100%|██████████| 10/10 [00:00<00:00, 176.29it/s]\n"
     ]
    },
    {
     "output_type": "stream",
     "name": "stdout",
     "text": [
      "Epoch: 11 | Total Testing Loss: 6.003182888031006 | Pose Testing Loss: 0.03785937651991844 | Action Testing Loss: 2.217244863510132 | Action Test Label Accuracy: 28.958333333333336\n",
      "Starting EPOCH: 13 / 30\n"
     ]
    },
    {
     "output_type": "stream",
     "name": "stderr",
     "text": [
      "Training =>:   0%|          | 0/126 [00:00<?, ?it/s]\n",
      "Training =>:   6%|▋         | 8/126 [00:00<00:01, 76.21it/s]\n",
      "Training =>:  13%|█▎        | 17/126 [00:00<00:01, 79.99it/s]\n",
      "Training =>:  21%|██        | 26/126 [00:00<00:01, 80.51it/s]\n",
      "Training =>:  28%|██▊       | 35/126 [00:00<00:01, 81.53it/s]\n",
      "Training =>:  35%|███▍      | 44/126 [00:00<00:00, 82.07it/s]\n",
      "Training =>:  42%|████▏     | 53/126 [00:00<00:00, 82.45it/s]\n",
      "Training =>:  49%|████▉     | 62/126 [00:00<00:00, 82.73it/s]\n",
      "Training =>:  56%|█████▋    | 71/126 [00:00<00:00, 83.41it/s]\n",
      "Training =>:  63%|██████▎   | 80/126 [00:00<00:00, 83.10it/s]\n",
      "Training =>:  71%|███████   | 89/126 [00:01<00:00, 83.19it/s]\n",
      "Training =>:  78%|███████▊  | 98/126 [00:01<00:00, 82.35it/s]\n",
      "Training =>:  85%|████████▍ | 107/126 [00:01<00:00, 83.04it/s]\n",
      "Training =>:  92%|█████████▏| 116/126 [00:01<00:00, 83.07it/s]\n",
      "Training =>:  99%|█████████▉| 125/126 [00:01<00:00, 83.15it/s]\n",
      "100%|██████████| 126/126 [00:01<00:00, 82.54it/s]\n",
      "Training =>: 100%|██████████| 126/126 [00:01<00:00, 82.17it/s]\n"
     ]
    },
    {
     "output_type": "stream",
     "name": "stdout",
     "text": [
      "Saving at epoch 12\n",
      "Epoch: 12 | Total Training Loss: 8.07141399383545 | Pose Training Loss: 0.0756165087223053 | Action Training Loss: 0.5097624659538269 | Action Train Label Accuracy: 79.52102876312355\n"
     ]
    },
    {
     "output_type": "stream",
     "name": "stderr",
     "text": [
      "Testing =>:   0%|          | 0/10 [00:00<?, ?it/s]\n",
      "100%|██████████| 10/10 [00:00<00:00, 207.88it/s]\n",
      "Testing =>: 100%|██████████| 10/10 [00:00<00:00, 182.93it/s]\n"
     ]
    },
    {
     "output_type": "stream",
     "name": "stdout",
     "text": [
      "Epoch: 12 | Total Testing Loss: 5.554859161376953 | Pose Testing Loss: 0.03597448021173477 | Action Testing Loss: 1.9574116468429565 | Action Test Label Accuracy: 32.75\n",
      "Starting EPOCH: 14 / 30\n"
     ]
    },
    {
     "output_type": "stream",
     "name": "stderr",
     "text": [
      "Training =>:   0%|          | 0/126 [00:00<?, ?it/s]\n",
      "Training =>:   6%|▋         | 8/126 [00:00<00:01, 75.03it/s]\n",
      "Training =>:  13%|█▎        | 16/126 [00:00<00:01, 77.37it/s]\n",
      "Training =>:  20%|█▉        | 25/126 [00:00<00:01, 79.36it/s]\n",
      "Training =>:  27%|██▋       | 34/126 [00:00<00:01, 80.65it/s]\n",
      "Training =>:  34%|███▍      | 43/126 [00:00<00:01, 81.97it/s]\n",
      "Training =>:  41%|████▏     | 52/126 [00:00<00:00, 81.53it/s]\n",
      "Training =>:  48%|████▊     | 61/126 [00:00<00:00, 81.95it/s]\n",
      "Training =>:  56%|█████▌    | 70/126 [00:00<00:00, 81.93it/s]\n",
      "Training =>:  63%|██████▎   | 79/126 [00:00<00:00, 82.54it/s]\n",
      "Training =>:  70%|██████▉   | 88/126 [00:01<00:00, 82.84it/s]\n",
      "Training =>:  77%|███████▋  | 97/126 [00:01<00:00, 82.21it/s]\n",
      "Training =>:  84%|████████▍ | 106/126 [00:01<00:00, 82.09it/s]\n",
      "Training =>:  91%|█████████▏| 115/126 [00:01<00:00, 82.48it/s]\n",
      "Training =>:  98%|█████████▊| 124/126 [00:01<00:00, 82.85it/s]\n",
      "100%|██████████| 126/126 [00:01<00:00, 81.78it/s]\n",
      "Training =>: 100%|██████████| 126/126 [00:01<00:00, 81.48it/s]\n"
     ]
    },
    {
     "output_type": "stream",
     "name": "stdout",
     "text": [
      "Saving at epoch 13\n",
      "Epoch: 13 | Total Training Loss: 7.509942531585693 | Pose Training Loss: 0.07024296373128891 | Action Training Loss: 0.485645592212677 | Action Train Label Accuracy: 80.6858420823756\n"
     ]
    },
    {
     "output_type": "stream",
     "name": "stderr",
     "text": [
      "Testing =>:   0%|          | 0/10 [00:00<?, ?it/s]\n",
      "100%|██████████| 10/10 [00:00<00:00, 197.81it/s]\n",
      "Testing =>: 100%|██████████| 10/10 [00:00<00:00, 181.65it/s]\n"
     ]
    },
    {
     "output_type": "stream",
     "name": "stdout",
     "text": [
      "Epoch: 13 | Total Testing Loss: 5.195000171661377 | Pose Testing Loss: 0.03368651866912842 | Action Testing Loss: 1.8263483047485352 | Action Test Label Accuracy: 35.625\n",
      "Starting EPOCH: 15 / 30\n"
     ]
    },
    {
     "output_type": "stream",
     "name": "stderr",
     "text": [
      "Training =>:   0%|          | 0/126 [00:00<?, ?it/s]\n",
      "Training =>:   1%|          | 1/126 [00:00<00:16,  7.37it/s]\n",
      "Training =>:   8%|▊         | 10/126 [00:00<00:02, 47.25it/s]\n",
      "Training =>:  15%|█▌        | 19/126 [00:00<00:01, 62.82it/s]\n",
      "Training =>:  22%|██▏       | 28/126 [00:00<00:01, 70.55it/s]\n",
      "Training =>:  29%|██▊       | 36/126 [00:00<00:01, 72.46it/s]\n",
      "Training =>:  36%|███▌      | 45/126 [00:00<00:01, 76.29it/s]\n",
      "Training =>:  43%|████▎     | 54/126 [00:00<00:00, 78.76it/s]\n",
      "Training =>:  50%|█████     | 63/126 [00:00<00:00, 79.71it/s]\n",
      "Training =>:  57%|█████▋    | 72/126 [00:00<00:00, 81.00it/s]\n",
      "Training =>:  64%|██████▍   | 81/126 [00:01<00:00, 81.40it/s]\n",
      "Training =>:  71%|███████▏  | 90/126 [00:01<00:00, 81.33it/s]\n",
      "Training =>:  79%|███████▊  | 99/126 [00:01<00:00, 82.00it/s]\n",
      "Training =>:  86%|████████▌ | 108/126 [00:01<00:00, 81.97it/s]\n",
      "Training =>:  93%|█████████▎| 117/126 [00:01<00:00, 81.11it/s]\n",
      "Training =>: 100%|██████████| 126/126 [00:01<00:00, 81.88it/s]\n",
      "100%|██████████| 126/126 [00:01<00:00, 75.94it/s]\n",
      "Training =>: 100%|██████████| 126/126 [00:01<00:00, 75.69it/s]\n"
     ]
    },
    {
     "output_type": "stream",
     "name": "stdout",
     "text": [
      "Saving at epoch 14\n",
      "Epoch: 14 | Total Training Loss: 6.99613094329834 | Pose Training Loss: 0.06542618572711945 | Action Training Loss: 0.45351463556289673 | Action Train Label Accuracy: 82.09293657203206\n"
     ]
    },
    {
     "output_type": "stream",
     "name": "stderr",
     "text": [
      "Testing =>:   0%|          | 0/10 [00:00<?, ?it/s]\n",
      "100%|██████████| 10/10 [00:00<00:00, 201.94it/s]\n",
      "Testing =>: 100%|██████████| 10/10 [00:00<00:00, 183.39it/s]\n"
     ]
    },
    {
     "output_type": "stream",
     "name": "stdout",
     "text": [
      "Epoch: 14 | Total Testing Loss: 4.95660924911499 | Pose Testing Loss: 0.03133685514330864 | Action Testing Loss: 1.8229230642318726 | Action Test Label Accuracy: 36.333333333333336\n",
      "Starting EPOCH: 16 / 30\n"
     ]
    },
    {
     "output_type": "stream",
     "name": "stderr",
     "text": [
      "Training =>:   0%|          | 0/126 [00:00<?, ?it/s]\n",
      "Training =>:   7%|▋         | 9/126 [00:00<00:01, 81.07it/s]\n",
      "Training =>:  14%|█▍        | 18/126 [00:00<00:01, 80.35it/s]\n",
      "Training =>:  21%|██▏       | 27/126 [00:00<00:01, 81.08it/s]\n",
      "Training =>:  29%|██▊       | 36/126 [00:00<00:01, 81.87it/s]\n",
      "Training =>:  36%|███▌      | 45/126 [00:00<00:00, 81.63it/s]\n",
      "Training =>:  43%|████▎     | 54/126 [00:00<00:00, 79.96it/s]\n",
      "Training =>:  50%|█████     | 63/126 [00:00<00:00, 80.74it/s]\n",
      "Training =>:  57%|█████▋    | 72/126 [00:00<00:00, 81.63it/s]\n",
      "Training =>:  64%|██████▍   | 81/126 [00:01<00:00, 80.88it/s]\n",
      "Training =>:  71%|███████▏  | 90/126 [00:01<00:00, 80.48it/s]\n",
      "Training =>:  79%|███████▊  | 99/126 [00:01<00:00, 76.86it/s]\n",
      "Training =>:  85%|████████▍ | 107/126 [00:01<00:00, 76.15it/s]\n",
      "Training =>:  92%|█████████▏| 116/126 [00:01<00:00, 77.53it/s]\n",
      "Training =>:  99%|█████████▉| 125/126 [00:01<00:00, 79.11it/s]\n",
      "100%|██████████| 126/126 [00:01<00:00, 79.63it/s]\n",
      "Training =>: 100%|██████████| 126/126 [00:01<00:00, 79.37it/s]\n"
     ]
    },
    {
     "output_type": "stream",
     "name": "stdout",
     "text": [
      "Saving at epoch 15\n",
      "Epoch: 15 | Total Training Loss: 6.569628715515137 | Pose Training Loss: 0.06140951067209244 | Action Training Loss: 0.4286794662475586 | Action Train Label Accuracy: 82.97198235696092\n"
     ]
    },
    {
     "output_type": "stream",
     "name": "stderr",
     "text": [
      "Testing =>:   0%|          | 0/10 [00:00<?, ?it/s]\n",
      "100%|██████████| 10/10 [00:00<00:00, 203.18it/s]\n",
      "Testing =>: 100%|██████████| 10/10 [00:00<00:00, 181.27it/s]\n"
     ]
    },
    {
     "output_type": "stream",
     "name": "stdout",
     "text": [
      "Epoch: 15 | Total Testing Loss: 4.884727954864502 | Pose Testing Loss: 0.030209971591830254 | Action Testing Loss: 1.863730788230896 | Action Test Label Accuracy: 35.875\n",
      "Starting EPOCH: 17 / 30\n"
     ]
    },
    {
     "output_type": "stream",
     "name": "stderr",
     "text": [
      "Training =>:   0%|          | 0/126 [00:00<?, ?it/s]\n",
      "Training =>:   6%|▋         | 8/126 [00:00<00:01, 76.57it/s]\n",
      "Training =>:  13%|█▎        | 16/126 [00:00<00:01, 78.37it/s]\n",
      "Training =>:  20%|█▉        | 25/126 [00:00<00:01, 80.38it/s]\n",
      "Training =>:  27%|██▋       | 34/126 [00:00<00:01, 81.66it/s]\n",
      "Training =>:  34%|███▍      | 43/126 [00:00<00:01, 82.80it/s]\n",
      "Training =>:  41%|████▏     | 52/126 [00:00<00:00, 83.03it/s]\n",
      "Training =>:  48%|████▊     | 61/126 [00:00<00:00, 83.55it/s]\n",
      "Training =>:  56%|█████▌    | 70/126 [00:00<00:00, 83.79it/s]\n",
      "Training =>:  63%|██████▎   | 79/126 [00:00<00:00, 83.60it/s]\n",
      "Training =>:  70%|██████▉   | 88/126 [00:01<00:00, 82.33it/s]\n",
      "Training =>:  77%|███████▋  | 97/126 [00:01<00:00, 81.63it/s]\n",
      "Training =>:  84%|████████▍ | 106/126 [00:01<00:00, 82.29it/s]\n",
      "Training =>:  91%|█████████▏| 115/126 [00:01<00:00, 83.00it/s]\n",
      "Training =>:  98%|█████████▊| 124/126 [00:01<00:00, 82.89it/s]\n",
      "100%|██████████| 126/126 [00:01<00:00, 82.38it/s]\n",
      "Training =>: 100%|██████████| 126/126 [00:01<00:00, 82.10it/s]\n"
     ]
    },
    {
     "output_type": "stream",
     "name": "stdout",
     "text": [
      "Saving at epoch 16\n",
      "Epoch: 16 | Total Training Loss: 6.162843704223633 | Pose Training Loss: 0.05753231421113014 | Action Training Loss: 0.4096134901046753 | Action Train Label Accuracy: 84.10573398769957\n"
     ]
    },
    {
     "output_type": "stream",
     "name": "stderr",
     "text": [
      "Testing =>:   0%|          | 0/10 [00:00<?, ?it/s]\n",
      "100%|██████████| 10/10 [00:00<00:00, 206.36it/s]\n",
      "Testing =>: 100%|██████████| 10/10 [00:00<00:00, 180.64it/s]\n"
     ]
    },
    {
     "output_type": "stream",
     "name": "stdout",
     "text": [
      "Epoch: 16 | Total Testing Loss: 4.811641693115234 | Pose Testing Loss: 0.028288954868912697 | Action Testing Loss: 1.9827461242675781 | Action Test Label Accuracy: 37.708333333333336\n",
      "Starting EPOCH: 18 / 30\n"
     ]
    },
    {
     "output_type": "stream",
     "name": "stderr",
     "text": [
      "Training =>:   0%|          | 0/126 [00:00<?, ?it/s]\n",
      "Training =>:   6%|▋         | 8/126 [00:00<00:01, 78.90it/s]\n",
      "Training =>:  13%|█▎        | 16/126 [00:00<00:01, 78.70it/s]\n",
      "Training =>:  19%|█▉        | 24/126 [00:00<00:01, 78.85it/s]\n",
      "Training =>:  26%|██▌       | 33/126 [00:00<00:01, 80.11it/s]\n",
      "Training =>:  33%|███▎      | 42/126 [00:00<00:01, 80.99it/s]\n",
      "Training =>:  40%|████      | 51/126 [00:00<00:00, 81.14it/s]\n",
      "Training =>:  48%|████▊     | 60/126 [00:00<00:00, 82.01it/s]\n",
      "Training =>:  55%|█████▍    | 69/126 [00:00<00:00, 81.58it/s]\n",
      "Training =>:  62%|██████▏   | 78/126 [00:00<00:00, 81.89it/s]\n",
      "Training =>:  69%|██████▉   | 87/126 [00:01<00:00, 82.43it/s]\n",
      "Training =>:  76%|███████▌  | 96/126 [00:01<00:00, 82.38it/s]\n",
      "Training =>:  83%|████████▎ | 105/126 [00:01<00:00, 81.67it/s]\n",
      "Training =>:  90%|█████████ | 114/126 [00:01<00:00, 79.28it/s]\n",
      "Training =>:  98%|█████████▊| 123/126 [00:01<00:00, 80.39it/s]\n",
      "100%|██████████| 126/126 [00:01<00:00, 81.08it/s]\n",
      "Training =>: 100%|██████████| 126/126 [00:01<00:00, 80.76it/s]\n"
     ]
    },
    {
     "output_type": "stream",
     "name": "stdout",
     "text": [
      "Saving at epoch 17\n",
      "Epoch: 17 | Total Training Loss: 5.814176559448242 | Pose Training Loss: 0.054272864013910294 | Action Training Loss: 0.38688933849334717 | Action Train Label Accuracy: 84.96924892837174\n"
     ]
    },
    {
     "output_type": "stream",
     "name": "stderr",
     "text": [
      "Testing =>:   0%|          | 0/10 [00:00<?, ?it/s]\n",
      "100%|██████████| 10/10 [00:00<00:00, 200.63it/s]\n",
      "Testing =>: 100%|██████████| 10/10 [00:00<00:00, 184.35it/s]\n"
     ]
    },
    {
     "output_type": "stream",
     "name": "stdout",
     "text": [
      "Epoch: 17 | Total Testing Loss: 4.564406871795654 | Pose Testing Loss: 0.02728303335607052 | Action Testing Loss: 1.8361027240753174 | Action Test Label Accuracy: 38.79166666666667\n",
      "Starting EPOCH: 19 / 30\n"
     ]
    },
    {
     "output_type": "stream",
     "name": "stderr",
     "text": [
      "Training =>:   0%|          | 0/126 [00:00<?, ?it/s]\n",
      "Training =>:   6%|▋         | 8/126 [00:00<00:01, 79.33it/s]\n",
      "Training =>:  13%|█▎        | 17/126 [00:00<00:01, 81.13it/s]\n",
      "Training =>:  21%|██        | 26/126 [00:00<00:01, 82.10it/s]\n",
      "Training =>:  28%|██▊       | 35/126 [00:00<00:01, 82.70it/s]\n",
      "Training =>:  35%|███▍      | 44/126 [00:00<00:01, 81.58it/s]\n",
      "Training =>:  42%|████▏     | 53/126 [00:00<00:00, 82.00it/s]\n",
      "Training =>:  49%|████▉     | 62/126 [00:00<00:00, 82.02it/s]\n",
      "Training =>:  56%|█████▋    | 71/126 [00:00<00:00, 81.59it/s]\n",
      "Training =>:  63%|██████▎   | 80/126 [00:00<00:00, 82.40it/s]\n",
      "Training =>:  71%|███████   | 89/126 [00:01<00:00, 82.83it/s]\n",
      "Training =>:  78%|███████▊  | 98/126 [00:01<00:00, 82.61it/s]\n",
      "Training =>:  85%|████████▍ | 107/126 [00:01<00:00, 81.96it/s]\n",
      "Training =>:  92%|█████████▏| 116/126 [00:01<00:00, 82.45it/s]\n",
      "Training =>:  99%|█████████▉| 125/126 [00:01<00:00, 81.52it/s]\n",
      "100%|██████████| 126/126 [00:01<00:00, 81.90it/s]\n",
      "Training =>: 100%|██████████| 126/126 [00:01<00:00, 81.65it/s]\n"
     ]
    },
    {
     "output_type": "stream",
     "name": "stdout",
     "text": [
      "Saving at epoch 18\n",
      "Epoch: 18 | Total Training Loss: 5.505810260772705 | Pose Training Loss: 0.05138162150979042 | Action Training Loss: 0.3676486611366272 | Action Train Label Accuracy: 85.94769211654345\n"
     ]
    },
    {
     "output_type": "stream",
     "name": "stderr",
     "text": [
      "Testing =>:   0%|          | 0/10 [00:00<?, ?it/s]\n",
      "100%|██████████| 10/10 [00:00<00:00, 195.81it/s]\n",
      "Testing =>: 100%|██████████| 10/10 [00:00<00:00, 174.50it/s]\n"
     ]
    },
    {
     "output_type": "stream",
     "name": "stdout",
     "text": [
      "Epoch: 18 | Total Testing Loss: 4.392388820648193 | Pose Testing Loss: 0.026375798508524895 | Action Testing Loss: 1.754809021949768 | Action Test Label Accuracy: 38.958333333333336\n",
      "Starting EPOCH: 20 / 30\n"
     ]
    },
    {
     "output_type": "stream",
     "name": "stderr",
     "text": [
      "Training =>:   0%|          | 0/126 [00:00<?, ?it/s]\n",
      "Training =>:   6%|▋         | 8/126 [00:00<00:01, 78.27it/s]\n",
      "Training =>:  13%|█▎        | 17/126 [00:00<00:01, 80.74it/s]\n",
      "Training =>:  21%|██        | 26/126 [00:00<00:01, 78.62it/s]\n",
      "Training =>:  27%|██▋       | 34/126 [00:00<00:01, 78.34it/s]\n",
      "Training =>:  34%|███▍      | 43/126 [00:00<00:01, 79.93it/s]\n",
      "Training =>:  41%|████▏     | 52/126 [00:00<00:00, 80.61it/s]\n",
      "Training =>:  48%|████▊     | 61/126 [00:00<00:00, 80.59it/s]\n",
      "Training =>:  56%|█████▌    | 70/126 [00:00<00:00, 81.24it/s]\n",
      "Training =>:  63%|██████▎   | 79/126 [00:00<00:00, 81.17it/s]\n",
      "Training =>:  70%|██████▉   | 88/126 [00:01<00:00, 80.40it/s]\n",
      "Training =>:  77%|███████▋  | 97/126 [00:01<00:00, 79.91it/s]\n",
      "Training =>:  84%|████████▍ | 106/126 [00:01<00:00, 81.08it/s]\n",
      "Training =>:  91%|█████████▏| 115/126 [00:01<00:00, 81.92it/s]\n",
      "Training =>:  98%|█████████▊| 124/126 [00:01<00:00, 82.52it/s]\n",
      "100%|██████████| 126/126 [00:01<00:00, 80.91it/s]\n",
      "Training =>: 100%|██████████| 126/126 [00:01<00:00, 80.67it/s]\n"
     ]
    },
    {
     "output_type": "stream",
     "name": "stdout",
     "text": [
      "Saving at epoch 19\n",
      "Epoch: 19 | Total Training Loss: 5.2156829833984375 | Pose Training Loss: 0.048666082322597504 | Action Training Loss: 0.34907588362693787 | Action Train Label Accuracy: 86.65589861464869\n"
     ]
    },
    {
     "output_type": "stream",
     "name": "stderr",
     "text": [
      "Testing =>:   0%|          | 0/10 [00:00<?, ?it/s]\n",
      "100%|██████████| 10/10 [00:00<00:00, 204.95it/s]\n",
      "Testing =>: 100%|██████████| 10/10 [00:00<00:00, 187.69it/s]\n"
     ]
    },
    {
     "output_type": "stream",
     "name": "stdout",
     "text": [
      "Epoch: 19 | Total Testing Loss: 4.5503435134887695 | Pose Testing Loss: 0.025700030848383904 | Action Testing Loss: 1.9803400039672852 | Action Test Label Accuracy: 38.79166666666667\n",
      "Starting EPOCH: 21 / 30\n"
     ]
    },
    {
     "output_type": "stream",
     "name": "stderr",
     "text": [
      "Training =>:   0%|          | 0/126 [00:00<?, ?it/s]\n",
      "Training =>:   6%|▋         | 8/126 [00:00<00:01, 77.54it/s]\n",
      "Training =>:  13%|█▎        | 17/126 [00:00<00:01, 79.75it/s]\n",
      "Training =>:  21%|██        | 26/126 [00:00<00:01, 81.56it/s]\n",
      "Training =>:  28%|██▊       | 35/126 [00:00<00:01, 82.30it/s]\n",
      "Training =>:  35%|███▍      | 44/126 [00:00<00:01, 81.68it/s]\n",
      "Training =>:  42%|████▏     | 53/126 [00:00<00:00, 82.03it/s]\n",
      "Training =>:  49%|████▉     | 62/126 [00:00<00:00, 81.98it/s]\n",
      "Training =>:  56%|█████▋    | 71/126 [00:00<00:00, 81.60it/s]\n",
      "Training =>:  63%|██████▎   | 80/126 [00:00<00:00, 81.92it/s]\n",
      "Training =>:  71%|███████   | 89/126 [00:01<00:00, 82.42it/s]\n",
      "Training =>:  78%|███████▊  | 98/126 [00:01<00:00, 83.01it/s]\n",
      "Training =>:  85%|████████▍ | 107/126 [00:01<00:00, 83.33it/s]\n",
      "Training =>:  92%|█████████▏| 116/126 [00:01<00:00, 83.17it/s]\n",
      "Training =>:  99%|█████████▉| 125/126 [00:01<00:00, 83.70it/s]\n",
      "100%|██████████| 126/126 [00:01<00:00, 82.47it/s]\n",
      "Training =>: 100%|██████████| 126/126 [00:01<00:00, 82.14it/s]\n"
     ]
    },
    {
     "output_type": "stream",
     "name": "stdout",
     "text": [
      "Saving at epoch 20\n",
      "Epoch: 20 | Total Training Loss: 4.971051216125488 | Pose Training Loss: 0.046408891677856445 | Action Training Loss: 0.3301609456539154 | Action Train Label Accuracy: 87.66229732248246\n"
     ]
    },
    {
     "output_type": "stream",
     "name": "stderr",
     "text": [
      "Testing =>:   0%|          | 0/10 [00:00<?, ?it/s]\n",
      "100%|██████████| 10/10 [00:00<00:00, 199.23it/s]\n",
      "Testing =>: 100%|██████████| 10/10 [00:00<00:00, 177.37it/s]\n"
     ]
    },
    {
     "output_type": "stream",
     "name": "stdout",
     "text": [
      "Epoch: 20 | Total Testing Loss: 4.411677837371826 | Pose Testing Loss: 0.025155356153845787 | Action Testing Loss: 1.8961416482925415 | Action Test Label Accuracy: 39.04166666666667\n",
      "Starting EPOCH: 22 / 30\n"
     ]
    },
    {
     "output_type": "stream",
     "name": "stderr",
     "text": [
      "Training =>:   0%|          | 0/126 [00:00<?, ?it/s]\n",
      "Training =>:   6%|▋         | 8/126 [00:00<00:01, 78.95it/s]\n",
      "Training =>:  13%|█▎        | 17/126 [00:00<00:01, 80.91it/s]\n",
      "Training =>:  21%|██        | 26/126 [00:00<00:01, 81.37it/s]\n",
      "Training =>:  28%|██▊       | 35/126 [00:00<00:01, 82.39it/s]\n",
      "Training =>:  35%|███▍      | 44/126 [00:00<00:00, 83.12it/s]\n",
      "Training =>:  42%|████▏     | 53/126 [00:00<00:00, 82.22it/s]\n",
      "Training =>:  49%|████▉     | 62/126 [00:00<00:00, 81.05it/s]\n",
      "Training =>:  56%|█████▋    | 71/126 [00:00<00:00, 81.27it/s]\n",
      "Training =>:  63%|██████▎   | 80/126 [00:00<00:00, 81.20it/s]\n",
      "Training =>:  71%|███████   | 89/126 [00:01<00:00, 81.89it/s]\n",
      "Training =>:  78%|███████▊  | 98/126 [00:01<00:00, 81.82it/s]\n",
      "Training =>:  85%|████████▍ | 107/126 [00:01<00:00, 82.88it/s]\n",
      "Training =>:  92%|█████████▏| 116/126 [00:01<00:00, 80.56it/s]\n",
      "Training =>:  99%|█████████▉| 125/126 [00:01<00:00, 81.78it/s]\n",
      "100%|██████████| 126/126 [00:01<00:00, 81.74it/s]\n",
      "Training =>: 100%|██████████| 126/126 [00:01<00:00, 81.49it/s]\n"
     ]
    },
    {
     "output_type": "stream",
     "name": "stdout",
     "text": [
      "Saving at epoch 21\n",
      "Epoch: 21 | Total Training Loss: 4.743142604827881 | Pose Training Loss: 0.044319503009319305 | Action Training Loss: 0.3111892342567444 | Action Train Label Accuracy: 88.40777784680375\n"
     ]
    },
    {
     "output_type": "stream",
     "name": "stderr",
     "text": [
      "Testing =>:   0%|          | 0/10 [00:00<?, ?it/s]\n",
      "100%|██████████| 10/10 [00:00<00:00, 187.48it/s]\n",
      "Testing =>: 100%|██████████| 10/10 [00:00<00:00, 168.20it/s]\n"
     ]
    },
    {
     "output_type": "stream",
     "name": "stdout",
     "text": [
      "Epoch: 21 | Total Testing Loss: 4.291747570037842 | Pose Testing Loss: 0.02463706210255623 | Action Testing Loss: 1.828041911125183 | Action Test Label Accuracy: 39.54166666666667\n",
      "Starting EPOCH: 23 / 30\n"
     ]
    },
    {
     "output_type": "stream",
     "name": "stderr",
     "text": [
      "Training =>:   0%|          | 0/126 [00:00<?, ?it/s]\n",
      "Training =>:   6%|▋         | 8/126 [00:00<00:01, 78.34it/s]\n",
      "Training =>:  13%|█▎        | 16/126 [00:00<00:01, 77.48it/s]\n",
      "Training =>:  19%|█▉        | 24/126 [00:00<00:01, 78.57it/s]\n",
      "Training =>:  26%|██▌       | 33/126 [00:00<00:01, 79.62it/s]\n",
      "Training =>:  33%|███▎      | 42/126 [00:00<00:01, 81.08it/s]\n",
      "Training =>:  40%|████      | 51/126 [00:00<00:00, 81.23it/s]\n",
      "Training =>:  48%|████▊     | 60/126 [00:00<00:00, 81.22it/s]\n",
      "Training =>:  55%|█████▍    | 69/126 [00:00<00:00, 81.62it/s]\n",
      "Training =>:  62%|██████▏   | 78/126 [00:00<00:00, 81.73it/s]\n",
      "Training =>:  69%|██████▉   | 87/126 [00:01<00:00, 81.91it/s]\n",
      "Training =>:  76%|███████▌  | 96/126 [00:01<00:00, 81.64it/s]\n",
      "Training =>:  83%|████████▎ | 105/126 [00:01<00:00, 81.99it/s]\n",
      "Training =>:  90%|█████████ | 114/126 [00:01<00:00, 82.61it/s]\n",
      "Training =>:  98%|█████████▊| 123/126 [00:01<00:00, 81.46it/s]\n",
      "100%|██████████| 126/126 [00:01<00:00, 81.15it/s]\n",
      "Training =>: 100%|██████████| 126/126 [00:01<00:00, 80.86it/s]\n"
     ]
    },
    {
     "output_type": "stream",
     "name": "stdout",
     "text": [
      "Saving at epoch 22\n",
      "Epoch: 22 | Total Training Loss: 4.552125453948975 | Pose Training Loss: 0.04254040867090225 | Action Training Loss: 0.29808229207992554 | Action Train Label Accuracy: 88.74945642045101\n"
     ]
    },
    {
     "output_type": "stream",
     "name": "stderr",
     "text": [
      "Testing =>:   0%|          | 0/10 [00:00<?, ?it/s]\n",
      "100%|██████████| 10/10 [00:00<00:00, 199.14it/s]\n",
      "Testing =>: 100%|██████████| 10/10 [00:00<00:00, 179.26it/s]\n"
     ]
    },
    {
     "output_type": "stream",
     "name": "stdout",
     "text": [
      "Epoch: 22 | Total Testing Loss: 3.993650197982788 | Pose Testing Loss: 0.02461198717355728 | Action Testing Loss: 1.5324517488479614 | Action Test Label Accuracy: 40.958333333333336\n",
      "Starting EPOCH: 24 / 30\n"
     ]
    },
    {
     "output_type": "stream",
     "name": "stderr",
     "text": [
      "Training =>:   0%|          | 0/126 [00:00<?, ?it/s]\n",
      "Training =>:   6%|▋         | 8/126 [00:00<00:01, 78.83it/s]\n",
      "Training =>:  13%|█▎        | 17/126 [00:00<00:01, 80.24it/s]\n",
      "Training =>:  21%|██        | 26/126 [00:00<00:01, 80.08it/s]\n",
      "Training =>:  28%|██▊       | 35/126 [00:00<00:01, 80.70it/s]\n",
      "Training =>:  35%|███▍      | 44/126 [00:00<00:01, 80.96it/s]\n",
      "Training =>:  42%|████▏     | 53/126 [00:00<00:00, 80.87it/s]\n",
      "Training =>:  49%|████▉     | 62/126 [00:00<00:00, 80.51it/s]\n",
      "Training =>:  56%|█████▋    | 71/126 [00:00<00:00, 80.31it/s]\n",
      "Training =>:  63%|██████▎   | 80/126 [00:00<00:00, 79.23it/s]\n",
      "Training =>:  71%|███████   | 89/126 [00:01<00:00, 79.97it/s]\n",
      "Training =>:  78%|███████▊  | 98/126 [00:01<00:00, 78.52it/s]\n",
      "Training =>:  85%|████████▍ | 107/126 [00:01<00:00, 79.33it/s]\n",
      "Training =>:  92%|█████████▏| 116/126 [00:01<00:00, 80.82it/s]\n",
      "Training =>:  99%|█████████▉| 125/126 [00:01<00:00, 80.89it/s]\n",
      "100%|██████████| 126/126 [00:01<00:00, 80.17it/s]\n",
      "Training =>: 100%|██████████| 126/126 [00:01<00:00, 79.89it/s]\n"
     ]
    },
    {
     "output_type": "stream",
     "name": "stdout",
     "text": [
      "Saving at epoch 23\n",
      "Epoch: 23 | Total Training Loss: 4.3711652755737305 | Pose Training Loss: 0.04089689254760742 | Action Training Loss: 0.28147682547569275 | Action Train Label Accuracy: 89.70926259551469\n"
     ]
    },
    {
     "output_type": "stream",
     "name": "stderr",
     "text": [
      "Testing =>:   0%|          | 0/10 [00:00<?, ?it/s]\n",
      "100%|██████████| 10/10 [00:00<00:00, 194.75it/s]\n",
      "Testing =>: 100%|██████████| 10/10 [00:00<00:00, 175.08it/s]\n"
     ]
    },
    {
     "output_type": "stream",
     "name": "stdout",
     "text": [
      "Epoch: 23 | Total Testing Loss: 4.097865581512451 | Pose Testing Loss: 0.024369308724999428 | Action Testing Loss: 1.6609344482421875 | Action Test Label Accuracy: 40.583333333333336\n",
      "Starting EPOCH: 25 / 30\n"
     ]
    },
    {
     "output_type": "stream",
     "name": "stderr",
     "text": [
      "Training =>:   0%|          | 0/126 [00:00<?, ?it/s]\n",
      "Training =>:   1%|          | 1/126 [00:00<00:27,  4.55it/s]\n",
      "Training =>:   7%|▋         | 9/126 [00:00<00:03, 32.79it/s]\n",
      "Training =>:  13%|█▎        | 17/126 [00:00<00:02, 49.05it/s]\n",
      "Training =>:  21%|██        | 26/126 [00:00<00:01, 60.69it/s]\n",
      "Training =>:  27%|██▋       | 34/126 [00:00<00:01, 65.84it/s]\n",
      "Training =>:  34%|███▍      | 43/126 [00:00<00:01, 70.39it/s]\n",
      "Training =>:  41%|████▏     | 52/126 [00:00<00:01, 73.89it/s]\n",
      "Training =>:  48%|████▊     | 61/126 [00:00<00:00, 76.46it/s]\n",
      "Training =>:  56%|█████▌    | 70/126 [00:01<00:00, 78.26it/s]\n",
      "Training =>:  63%|██████▎   | 79/126 [00:01<00:00, 79.67it/s]\n",
      "Training =>:  70%|██████▉   | 88/126 [00:01<00:00, 78.00it/s]\n",
      "Training =>:  77%|███████▋  | 97/126 [00:01<00:00, 79.37it/s]\n",
      "Training =>:  84%|████████▍ | 106/126 [00:01<00:00, 80.01it/s]\n",
      "Training =>:  91%|█████████▏| 115/126 [00:01<00:00, 80.06it/s]\n",
      "100%|██████████| 126/126 [00:01<00:00, 79.78it/s]\n",
      "Training =>: 100%|██████████| 126/126 [00:01<00:00, 70.66it/s]\n"
     ]
    },
    {
     "output_type": "stream",
     "name": "stdout",
     "text": [
      "Saving at epoch 24\n",
      "Epoch: 24 | Total Training Loss: 4.194711208343506 | Pose Training Loss: 0.03932053968310356 | Action Training Loss: 0.26265838742256165 | Action Train Label Accuracy: 90.43610610672796\n"
     ]
    },
    {
     "output_type": "stream",
     "name": "stderr",
     "text": [
      "Testing =>:   0%|          | 0/10 [00:00<?, ?it/s]\n",
      "100%|██████████| 10/10 [00:00<00:00, 194.30it/s]\n",
      "Testing =>: 100%|██████████| 10/10 [00:00<00:00, 177.67it/s]\n"
     ]
    },
    {
     "output_type": "stream",
     "name": "stdout",
     "text": [
      "Epoch: 24 | Total Testing Loss: 3.9985299110412598 | Pose Testing Loss: 0.02429943159222603 | Action Testing Loss: 1.5685865879058838 | Action Test Label Accuracy: 41.833333333333336\n",
      "Starting EPOCH: 26 / 30\n"
     ]
    },
    {
     "output_type": "stream",
     "name": "stderr",
     "text": [
      "Training =>:   0%|          | 0/126 [00:00<?, ?it/s]\n",
      "Training =>:   6%|▋         | 8/126 [00:00<00:01, 76.72it/s]\n",
      "Training =>:  13%|█▎        | 17/126 [00:00<00:01, 80.64it/s]\n",
      "Training =>:  21%|██        | 26/126 [00:00<00:01, 81.15it/s]\n",
      "Training =>:  28%|██▊       | 35/126 [00:00<00:01, 81.94it/s]\n",
      "Training =>:  35%|███▍      | 44/126 [00:00<00:00, 82.74it/s]\n",
      "Training =>:  42%|████▏     | 53/126 [00:00<00:00, 82.54it/s]\n",
      "Training =>:  49%|████▉     | 62/126 [00:00<00:00, 82.86it/s]\n",
      "Training =>:  56%|█████▋    | 71/126 [00:00<00:00, 83.34it/s]\n",
      "Training =>:  63%|██████▎   | 80/126 [00:00<00:00, 83.08it/s]\n",
      "Training =>:  71%|███████   | 89/126 [00:01<00:00, 83.53it/s]\n",
      "Training =>:  78%|███████▊  | 98/126 [00:01<00:00, 84.18it/s]\n",
      "Training =>:  85%|████████▍ | 107/126 [00:01<00:00, 83.21it/s]\n",
      "Training =>:  92%|█████████▏| 116/126 [00:01<00:00, 83.19it/s]\n",
      "Training =>:  99%|█████████▉| 125/126 [00:01<00:00, 83.45it/s]\n",
      "100%|██████████| 126/126 [00:01<00:00, 82.85it/s]\n",
      "Training =>: 100%|██████████| 126/126 [00:01<00:00, 82.50it/s]\n"
     ]
    },
    {
     "output_type": "stream",
     "name": "stdout",
     "text": [
      "Saving at epoch 25\n",
      "Epoch: 25 | Total Training Loss: 4.053676128387451 | Pose Training Loss: 0.038035012781620026 | Action Training Loss: 0.2501749098300934 | Action Train Label Accuracy: 91.25924085233274\n"
     ]
    },
    {
     "output_type": "stream",
     "name": "stderr",
     "text": [
      "Testing =>:   0%|          | 0/10 [00:00<?, ?it/s]\n",
      "100%|██████████| 10/10 [00:00<00:00, 195.48it/s]\n",
      "Testing =>: 100%|██████████| 10/10 [00:00<00:00, 178.33it/s]\n"
     ]
    },
    {
     "output_type": "stream",
     "name": "stdout",
     "text": [
      "Epoch: 25 | Total Testing Loss: 4.023375034332275 | Pose Testing Loss: 0.02408008463680744 | Action Testing Loss: 1.6153665781021118 | Action Test Label Accuracy: 41.583333333333336\n",
      "Starting EPOCH: 27 / 30\n"
     ]
    },
    {
     "output_type": "stream",
     "name": "stderr",
     "text": [
      "Training =>:   0%|          | 0/126 [00:00<?, ?it/s]\n",
      "Training =>:   6%|▋         | 8/126 [00:00<00:01, 77.65it/s]\n",
      "Training =>:  13%|█▎        | 17/126 [00:00<00:01, 80.43it/s]\n",
      "Training =>:  21%|██        | 26/126 [00:00<00:01, 80.76it/s]\n",
      "Training =>:  28%|██▊       | 35/126 [00:00<00:01, 80.68it/s]\n",
      "Training =>:  35%|███▍      | 44/126 [00:00<00:01, 81.19it/s]\n",
      "Training =>:  42%|████▏     | 53/126 [00:00<00:00, 80.81it/s]\n",
      "Training =>:  49%|████▉     | 62/126 [00:00<00:00, 79.36it/s]\n",
      "Training =>:  56%|█████▋    | 71/126 [00:00<00:00, 79.86it/s]\n",
      "Training =>:  63%|██████▎   | 80/126 [00:00<00:00, 81.36it/s]\n",
      "Training =>:  71%|███████   | 89/126 [00:01<00:00, 82.09it/s]\n",
      "Training =>:  78%|███████▊  | 98/126 [00:01<00:00, 80.73it/s]\n",
      "Training =>:  85%|████████▍ | 107/126 [00:01<00:00, 81.72it/s]\n",
      "Training =>:  92%|█████████▏| 116/126 [00:01<00:00, 82.05it/s]\n",
      "Training =>:  99%|█████████▉| 125/126 [00:01<00:00, 82.25it/s]\n",
      "100%|██████████| 126/126 [00:01<00:00, 81.11it/s]\n",
      "Training =>: 100%|██████████| 126/126 [00:01<00:00, 80.77it/s]\n"
     ]
    },
    {
     "output_type": "stream",
     "name": "stdout",
     "text": [
      "Saving at epoch 26\n",
      "Epoch: 26 | Total Training Loss: 3.8960278034210205 | Pose Training Loss: 0.0366131030023098 | Action Training Loss: 0.23471814393997192 | Action Train Label Accuracy: 91.78107721935764\n"
     ]
    },
    {
     "output_type": "stream",
     "name": "stderr",
     "text": [
      "Testing =>:   0%|          | 0/10 [00:00<?, ?it/s]\n",
      "100%|██████████| 10/10 [00:00<00:00, 197.75it/s]\n",
      "Testing =>: 100%|██████████| 10/10 [00:00<00:00, 178.94it/s]\n"
     ]
    },
    {
     "output_type": "stream",
     "name": "stdout",
     "text": [
      "Epoch: 26 | Total Testing Loss: 4.13593053817749 | Pose Testing Loss: 0.023670418187975883 | Action Testing Loss: 1.768889307975769 | Action Test Label Accuracy: 45.125\n",
      "Starting EPOCH: 28 / 30\n"
     ]
    },
    {
     "output_type": "stream",
     "name": "stderr",
     "text": [
      "Training =>:   0%|          | 0/126 [00:00<?, ?it/s]\n",
      "Training =>:   6%|▋         | 8/126 [00:00<00:01, 79.13it/s]\n",
      "Training =>:  13%|█▎        | 17/126 [00:00<00:01, 81.25it/s]\n",
      "Training =>:  21%|██        | 26/126 [00:00<00:01, 80.02it/s]\n",
      "Training =>:  28%|██▊       | 35/126 [00:00<00:01, 80.99it/s]\n",
      "Training =>:  35%|███▍      | 44/126 [00:00<00:01, 81.71it/s]\n",
      "Training =>:  42%|████▏     | 53/126 [00:00<00:00, 81.10it/s]\n",
      "Training =>:  49%|████▉     | 62/126 [00:00<00:00, 81.46it/s]\n",
      "Training =>:  56%|█████▋    | 71/126 [00:00<00:00, 81.75it/s]\n",
      "Training =>:  63%|██████▎   | 80/126 [00:00<00:00, 82.14it/s]\n",
      "Training =>:  71%|███████   | 89/126 [00:01<00:00, 82.82it/s]\n",
      "Training =>:  78%|███████▊  | 98/126 [00:01<00:00, 83.61it/s]\n",
      "Training =>:  85%|████████▍ | 107/126 [00:01<00:00, 83.01it/s]\n",
      "Training =>:  92%|█████████▏| 116/126 [00:01<00:00, 83.42it/s]\n",
      "Training =>:  99%|█████████▉| 125/126 [00:01<00:00, 83.24it/s]\n",
      "100%|██████████| 126/126 [00:01<00:00, 82.28it/s]\n",
      "Training =>: 100%|██████████| 126/126 [00:01<00:00, 82.02it/s]\n"
     ]
    },
    {
     "output_type": "stream",
     "name": "stdout",
     "text": [
      "Saving at epoch 27\n",
      "Epoch: 27 | Total Training Loss: 3.7766196727752686 | Pose Training Loss: 0.03554868325591087 | Action Training Loss: 0.22175225615501404 | Action Train Label Accuracy: 92.54830092563832\n"
     ]
    },
    {
     "output_type": "stream",
     "name": "stderr",
     "text": [
      "Testing =>:   0%|          | 0/10 [00:00<?, ?it/s]\n",
      "100%|██████████| 10/10 [00:00<00:00, 197.76it/s]\n",
      "Testing =>: 100%|██████████| 10/10 [00:00<00:00, 178.26it/s]\n"
     ]
    },
    {
     "output_type": "stream",
     "name": "stdout",
     "text": [
      "Epoch: 27 | Total Testing Loss: 3.8994667530059814 | Pose Testing Loss: 0.02349700592458248 | Action Testing Loss: 1.549765944480896 | Action Test Label Accuracy: 48.95833333333333\n",
      "Starting EPOCH: 29 / 30\n"
     ]
    },
    {
     "output_type": "stream",
     "name": "stderr",
     "text": [
      "Training =>:   0%|          | 0/126 [00:00<?, ?it/s]\n",
      "Training =>:   6%|▋         | 8/126 [00:00<00:01, 79.50it/s]\n",
      "Training =>:  13%|█▎        | 17/126 [00:00<00:01, 81.00it/s]\n",
      "Training =>:  21%|██        | 26/126 [00:00<00:01, 81.11it/s]\n",
      "Training =>:  28%|██▊       | 35/126 [00:00<00:01, 81.53it/s]\n",
      "Training =>:  35%|███▍      | 44/126 [00:00<00:01, 81.82it/s]\n",
      "Training =>:  42%|████▏     | 53/126 [00:00<00:00, 81.88it/s]\n",
      "Training =>:  49%|████▉     | 62/126 [00:00<00:00, 81.79it/s]\n",
      "Training =>:  56%|█████▋    | 71/126 [00:00<00:00, 81.81it/s]\n",
      "Training =>:  63%|██████▎   | 80/126 [00:00<00:00, 79.11it/s]\n",
      "Training =>:  71%|███████   | 89/126 [00:01<00:00, 80.67it/s]\n",
      "Training =>:  78%|███████▊  | 98/126 [00:01<00:00, 81.46it/s]\n",
      "Training =>:  85%|████████▍ | 107/126 [00:01<00:00, 82.34it/s]\n",
      "Training =>:  92%|█████████▏| 116/126 [00:01<00:00, 82.54it/s]\n",
      "Training =>:  99%|█████████▉| 125/126 [00:01<00:00, 81.82it/s]\n",
      "100%|██████████| 126/126 [00:01<00:00, 81.56it/s]\n",
      "Training =>: 100%|██████████| 126/126 [00:01<00:00, 81.19it/s]\n"
     ]
    },
    {
     "output_type": "stream",
     "name": "stdout",
     "text": [
      "Saving at epoch 28\n",
      "Epoch: 28 | Total Training Loss: 3.6671485900878906 | Pose Training Loss: 0.03457837924361229 | Action Training Loss: 0.20931008458137512 | Action Train Label Accuracy: 92.83717462881282\n"
     ]
    },
    {
     "output_type": "stream",
     "name": "stderr",
     "text": [
      "Testing =>:   0%|          | 0/10 [00:00<?, ?it/s]\n",
      "100%|██████████| 10/10 [00:00<00:00, 209.28it/s]\n",
      "Testing =>: 100%|██████████| 10/10 [00:00<00:00, 185.23it/s]\n"
     ]
    },
    {
     "output_type": "stream",
     "name": "stdout",
     "text": [
      "Epoch: 28 | Total Testing Loss: 3.9393727779388428 | Pose Testing Loss: 0.022818228229880333 | Action Testing Loss: 1.6575498580932617 | Action Test Label Accuracy: 50.875\n",
      "Starting EPOCH: 30 / 30\n"
     ]
    },
    {
     "output_type": "stream",
     "name": "stderr",
     "text": [
      "Training =>:   0%|          | 0/126 [00:00<?, ?it/s]\n",
      "Training =>:   6%|▋         | 8/126 [00:00<00:01, 77.54it/s]\n",
      "Training =>:  13%|█▎        | 16/126 [00:00<00:01, 78.88it/s]\n",
      "Training =>:  20%|█▉        | 25/126 [00:00<00:01, 79.66it/s]\n",
      "Training =>:  27%|██▋       | 34/126 [00:00<00:01, 80.21it/s]\n",
      "Training =>:  34%|███▍      | 43/126 [00:00<00:01, 80.41it/s]\n",
      "Training =>:  41%|████▏     | 52/126 [00:00<00:00, 80.87it/s]\n",
      "Training =>:  48%|████▊     | 61/126 [00:00<00:00, 81.17it/s]\n",
      "Training =>:  56%|█████▌    | 70/126 [00:00<00:00, 81.31it/s]\n",
      "Training =>:  63%|██████▎   | 79/126 [00:00<00:00, 81.48it/s]\n",
      "Training =>:  70%|██████▉   | 88/126 [00:01<00:00, 82.00it/s]\n",
      "Training =>:  77%|███████▋  | 97/126 [00:01<00:00, 81.07it/s]\n",
      "Training =>:  84%|████████▍ | 106/126 [00:01<00:00, 81.38it/s]\n",
      "Training =>:  91%|█████████▏| 115/126 [00:01<00:00, 81.87it/s]\n",
      "Training =>:  98%|█████████▊| 124/126 [00:01<00:00, 82.47it/s]\n",
      "100%|██████████| 126/126 [00:01<00:00, 81.45it/s]\n",
      "Training =>: 100%|██████████| 126/126 [00:01<00:00, 81.09it/s]\n"
     ]
    },
    {
     "output_type": "stream",
     "name": "stdout",
     "text": [
      "Saving at epoch 29\n",
      "Epoch: 29 | Total Training Loss: 3.5527873039245605 | Pose Training Loss: 0.03356274217367172 | Action Training Loss: 0.19651304185390472 | Action Train Label Accuracy: 93.42734671056718\n"
     ]
    },
    {
     "output_type": "stream",
     "name": "stderr",
     "text": [
      "Testing =>:   0%|          | 0/10 [00:00<?, ?it/s]\n",
      "100%|██████████| 10/10 [00:00<00:00, 193.44it/s]\n",
      "Testing =>: 100%|██████████| 10/10 [00:00<00:00, 177.21it/s]\n"
     ]
    },
    {
     "output_type": "stream",
     "name": "stdout",
     "text": [
      "Epoch: 29 | Total Testing Loss: 3.8463234901428223 | Pose Testing Loss: 0.02288799360394478 | Action Testing Loss: 1.55752432346344 | Action Test Label Accuracy: 56.208333333333336\n"
     ]
    },
    {
     "output_type": "display_data",
     "data": {
      "text/plain": [
       "<Figure size 640x480 with 0 Axes>"
      ]
     },
     "metadata": {}
    }
   ],
   "source": [
    "from src.simple_pose.train_and_test import training_loop\n",
    "from argparse import Namespace\n",
    "import os\n",
    "from datetime import datetime\n",
    "timestamp = datetime.now().strftime(\"%Y-%m-%d--%H-%M-%S\")\n",
    "\n",
    "args_dict = {\n",
    "    'learning_rate': 3e-5,\n",
    "    'num_epochs': 30,\n",
    "    'batch_size': 256,\n",
    "    'action_loss_multiplier': 1,\n",
    "    'pose_loss_multiplier': 100,\n",
    "    'training_2d_data_path': os.path.join('datasets', 'custom', 'Processed', 'train_2d_poses.npy'),\n",
    "    'training_3d_data_path': os.path.join('datasets', 'custom', 'Processed', 'train_3d_poses.npy'),\n",
    "    'training_label_path': os.path.join('datasets', 'custom', 'Processed', 'train_actions.npy'),\n",
    "    'testing_2d_data_path': os.path.join('datasets', 'custom', 'Processed', 'test_2d_poses.npy'),\n",
    "    'testing_3d_data_path': os.path.join('datasets', 'custom', 'Processed', 'test_3d_poses.npy'),\n",
    "    'testing_label_path': os.path.join('datasets', 'custom', 'Processed', 'test_actions.npy'),\n",
    "    'save_path': os.path.join('model_outputs', 'simple_pose_custom', timestamp)\n",
    "}\n",
    "args = Namespace(**args_dict)\n",
    "training_loop(args)"
   ]
  },
  {
   "cell_type": "markdown",
   "id": "85f8efcd",
   "metadata": {},
   "source": [
    "<h3><u>4.5. Training Graph Convolutional model (SimplePoseGNN)</u></h3>"
   ]
  },
  {
   "cell_type": "code",
   "execution_count": null,
   "id": "2718aa6f",
   "metadata": {
    "id": "OvEsBpeD_-DW",
    "colab": {
     "base_uri": "https://localhost:8080/",
     "height": 1000
    },
    "outputId": "9991e110-f308-4b1e-837a-d15b48555e3b"
   },
   "outputs": [
    {
     "output_type": "stream",
     "name": "stderr",
     "text": [
      "DGL backend not selected or invalid.  Assuming PyTorch for now.\n"
     ]
    },
    {
     "output_type": "stream",
     "name": "stdout",
     "text": [
      "Setting the default backend to \"pytorch\". You can change it in the ~/.dgl/config.json file or export the DGLBACKEND environment variable.  Valid options are: pytorch, mxnet, tensorflow (all lowercase)\n",
      "Training args are: Namespace(learning_rate=3e-05, num_epochs=30, batch_size=256, action_loss_multiplier=1, pose_loss_multiplier=100, training_2d_data_path='datasets/custom/Processed/train_2d_poses.npy', training_3d_data_path='datasets/custom/Processed/train_3d_poses.npy', training_label_path='datasets/custom/Processed/train_actions.npy', testing_2d_data_path='datasets/custom/Processed/test_2d_poses.npy', testing_3d_data_path='datasets/custom/Processed/test_3d_poses.npy', testing_label_path='datasets/custom/Processed/test_actions.npy', save_path='model_outputs/simple_pose_gnn_custom/2024-11-17--08-39-44')\n",
      "Starting EPOCH: 1 / 30\n"
     ]
    },
    {
     "output_type": "stream",
     "name": "stderr",
     "text": [
      "Training =>: 100%|██████████| 126/126 [00:22<00:00,  5.63it/s]\n"
     ]
    },
    {
     "output_type": "stream",
     "name": "stdout",
     "text": [
      "Saving at epoch 0\n",
      "Epoch: 0 | Total Training Loss: 37.714317321777344 | Pose Training Loss: 0.36073991656303406 | Action Training Loss: 1.6403099298477173 | Action Train Label Accuracy: 21.74007579051997\n"
     ]
    },
    {
     "output_type": "stream",
     "name": "stderr",
     "text": [
      "Testing =>: 100%|██████████| 10/10 [00:01<00:00,  6.88it/s]\n"
     ]
    },
    {
     "output_type": "stream",
     "name": "stdout",
     "text": [
      "Epoch: 0 | Total Testing Loss: 6.000362396240234 | Pose Testing Loss: 0.0446021631360054 | Action Testing Loss: 1.5401461124420166 | Action Test Label Accuracy: 33.625\n",
      "Starting EPOCH: 2 / 30\n"
     ]
    },
    {
     "output_type": "stream",
     "name": "stderr",
     "text": [
      "Training =>: 100%|██████████| 126/126 [00:20<00:00,  6.16it/s]\n"
     ]
    },
    {
     "output_type": "stream",
     "name": "stdout",
     "text": [
      "Saving at epoch 1\n",
      "Epoch: 1 | Total Training Loss: 17.883731842041016 | Pose Training Loss: 0.1632789820432663 | Action Training Loss: 1.555834174156189 | Action Train Label Accuracy: 28.452506678263028\n"
     ]
    },
    {
     "output_type": "stream",
     "name": "stderr",
     "text": [
      "Testing =>: 100%|██████████| 10/10 [00:01<00:00,  6.55it/s]\n"
     ]
    },
    {
     "output_type": "stream",
     "name": "stdout",
     "text": [
      "Epoch: 1 | Total Testing Loss: 5.342889308929443 | Pose Testing Loss: 0.039038948714733124 | Action Testing Loss: 1.4389941692352295 | Action Test Label Accuracy: 45.916666666666664\n",
      "Starting EPOCH: 3 / 30\n"
     ]
    },
    {
     "output_type": "stream",
     "name": "stderr",
     "text": [
      "Training =>: 100%|██████████| 126/126 [00:20<00:00,  6.17it/s]\n"
     ]
    },
    {
     "output_type": "stream",
     "name": "stdout",
     "text": [
      "Saving at epoch 2\n",
      "Epoch: 2 | Total Training Loss: 11.371230125427246 | Pose Training Loss: 0.09922848641872406 | Action Training Loss: 1.448385238647461 | Action Train Label Accuracy: 36.56892588681121\n"
     ]
    },
    {
     "output_type": "stream",
     "name": "stderr",
     "text": [
      "Testing =>: 100%|██████████| 10/10 [00:01<00:00,  5.35it/s]\n"
     ]
    },
    {
     "output_type": "stream",
     "name": "stdout",
     "text": [
      "Epoch: 2 | Total Testing Loss: 5.204286098480225 | Pose Testing Loss: 0.03892947733402252 | Action Testing Loss: 1.3113385438919067 | Action Test Label Accuracy: 55.791666666666664\n",
      "Starting EPOCH: 4 / 30\n"
     ]
    },
    {
     "output_type": "stream",
     "name": "stderr",
     "text": [
      "Training =>: 100%|██████████| 126/126 [00:20<00:00,  6.08it/s]\n"
     ]
    },
    {
     "output_type": "stream",
     "name": "stdout",
     "text": [
      "Saving at epoch 3\n",
      "Epoch: 3 | Total Training Loss: 8.630080223083496 | Pose Training Loss: 0.07303892076015472 | Action Training Loss: 1.3261865377426147 | Action Train Label Accuracy: 41.80592657016835\n"
     ]
    },
    {
     "output_type": "stream",
     "name": "stderr",
     "text": [
      "Testing =>: 100%|██████████| 10/10 [00:01<00:00,  6.38it/s]\n"
     ]
    },
    {
     "output_type": "stream",
     "name": "stdout",
     "text": [
      "Epoch: 3 | Total Testing Loss: 4.888587474822998 | Pose Testing Loss: 0.036871712654829025 | Action Testing Loss: 1.201416015625 | Action Test Label Accuracy: 64.75\n",
      "Starting EPOCH: 5 / 30\n"
     ]
    },
    {
     "output_type": "stream",
     "name": "stderr",
     "text": [
      "Training =>: 100%|██████████| 126/126 [00:20<00:00,  6.10it/s]\n"
     ]
    },
    {
     "output_type": "stream",
     "name": "stdout",
     "text": [
      "Saving at epoch 4\n",
      "Epoch: 4 | Total Training Loss: 7.3558244705200195 | Pose Training Loss: 0.06132775545120239 | Action Training Loss: 1.2230476140975952 | Action Train Label Accuracy: 45.53022302292353\n"
     ]
    },
    {
     "output_type": "stream",
     "name": "stderr",
     "text": [
      "Testing =>: 100%|██████████| 10/10 [00:01<00:00,  6.46it/s]\n"
     ]
    },
    {
     "output_type": "stream",
     "name": "stdout",
     "text": [
      "Epoch: 4 | Total Testing Loss: 4.532105922698975 | Pose Testing Loss: 0.03412986919283867 | Action Testing Loss: 1.1191195249557495 | Action Test Label Accuracy: 67.79166666666666\n",
      "Starting EPOCH: 6 / 30\n"
     ]
    },
    {
     "output_type": "stream",
     "name": "stderr",
     "text": [
      "Training =>: 100%|██████████| 126/126 [00:20<00:00,  6.06it/s]\n"
     ]
    },
    {
     "output_type": "stream",
     "name": "stdout",
     "text": [
      "Saving at epoch 5\n",
      "Epoch: 5 | Total Training Loss: 6.642796993255615 | Pose Training Loss: 0.0549495667219162 | Action Training Loss: 1.1478407382965088 | Action Train Label Accuracy: 48.72336460209977\n"
     ]
    },
    {
     "output_type": "stream",
     "name": "stderr",
     "text": [
      "Testing =>: 100%|██████████| 10/10 [00:01<00:00,  5.17it/s]\n"
     ]
    },
    {
     "output_type": "stream",
     "name": "stdout",
     "text": [
      "Epoch: 5 | Total Testing Loss: 4.269049167633057 | Pose Testing Loss: 0.032060977071523666 | Action Testing Loss: 1.062951922416687 | Action Test Label Accuracy: 63.041666666666664\n",
      "Starting EPOCH: 7 / 30\n"
     ]
    },
    {
     "output_type": "stream",
     "name": "stderr",
     "text": [
      "Training =>: 100%|██████████| 126/126 [00:20<00:00,  6.14it/s]\n"
     ]
    },
    {
     "output_type": "stream",
     "name": "stdout",
     "text": [
      "Saving at epoch 6\n",
      "Epoch: 6 | Total Training Loss: 6.185048580169678 | Pose Training Loss: 0.05094769224524498 | Action Training Loss: 1.0902814865112305 | Action Train Label Accuracy: 51.58103994533143\n"
     ]
    },
    {
     "output_type": "stream",
     "name": "stderr",
     "text": [
      "Testing =>: 100%|██████████| 10/10 [00:01<00:00,  6.46it/s]\n"
     ]
    },
    {
     "output_type": "stream",
     "name": "stdout",
     "text": [
      "Epoch: 6 | Total Testing Loss: 4.038477897644043 | Pose Testing Loss: 0.030037248507142067 | Action Testing Loss: 1.0347527265548706 | Action Test Label Accuracy: 61.5\n",
      "Starting EPOCH: 8 / 30\n"
     ]
    },
    {
     "output_type": "stream",
     "name": "stderr",
     "text": [
      "Training =>: 100%|██████████| 126/126 [00:20<00:00,  6.06it/s]\n"
     ]
    },
    {
     "output_type": "stream",
     "name": "stdout",
     "text": [
      "Saving at epoch 7\n",
      "Epoch: 7 | Total Training Loss: 5.834321022033691 | Pose Training Loss: 0.04794291406869888 | Action Training Loss: 1.0400302410125732 | Action Train Label Accuracy: 54.152947754239925\n"
     ]
    },
    {
     "output_type": "stream",
     "name": "stderr",
     "text": [
      "Testing =>: 100%|██████████| 10/10 [00:01<00:00,  5.74it/s]\n"
     ]
    },
    {
     "output_type": "stream",
     "name": "stdout",
     "text": [
      "Epoch: 7 | Total Testing Loss: 3.8277223110198975 | Pose Testing Loss: 0.028386685997247696 | Action Testing Loss: 0.9890533685684204 | Action Test Label Accuracy: 61.66666666666667\n",
      "Starting EPOCH: 9 / 30\n"
     ]
    },
    {
     "output_type": "stream",
     "name": "stderr",
     "text": [
      "Training =>: 100%|██████████| 126/126 [00:21<00:00,  5.85it/s]\n"
     ]
    },
    {
     "output_type": "stream",
     "name": "stdout",
     "text": [
      "Saving at epoch 8\n",
      "Epoch: 8 | Total Training Loss: 5.545805931091309 | Pose Training Loss: 0.045611605048179626 | Action Training Loss: 0.9846470952033997 | Action Train Label Accuracy: 57.37093868422688\n"
     ]
    },
    {
     "output_type": "stream",
     "name": "stderr",
     "text": [
      "Testing =>: 100%|██████████| 10/10 [00:01<00:00,  6.42it/s]\n"
     ]
    },
    {
     "output_type": "stream",
     "name": "stdout",
     "text": [
      "Epoch: 8 | Total Testing Loss: 3.631406784057617 | Pose Testing Loss: 0.0268689151853323 | Action Testing Loss: 0.9445155262947083 | Action Test Label Accuracy: 62.875\n",
      "Starting EPOCH: 10 / 30\n"
     ]
    },
    {
     "output_type": "stream",
     "name": "stderr",
     "text": [
      "Training =>: 100%|██████████| 126/126 [00:21<00:00,  6.00it/s]\n"
     ]
    },
    {
     "output_type": "stream",
     "name": "stdout",
     "text": [
      "Saving at epoch 9\n",
      "Epoch: 9 | Total Training Loss: 5.293685436248779 | Pose Training Loss: 0.04362371936440468 | Action Training Loss: 0.9313135743141174 | Action Train Label Accuracy: 59.22221531962477\n"
     ]
    },
    {
     "output_type": "stream",
     "name": "stderr",
     "text": [
      "Testing =>: 100%|██████████| 10/10 [00:01<00:00,  6.39it/s]\n"
     ]
    },
    {
     "output_type": "stream",
     "name": "stdout",
     "text": [
      "Epoch: 9 | Total Testing Loss: 3.465406894683838 | Pose Testing Loss: 0.025635093450546265 | Action Testing Loss: 0.9018974304199219 | Action Test Label Accuracy: 64.75\n",
      "Starting EPOCH: 11 / 30\n"
     ]
    },
    {
     "output_type": "stream",
     "name": "stderr",
     "text": [
      "Training =>: 100%|██████████| 126/126 [00:20<00:00,  6.16it/s]\n"
     ]
    },
    {
     "output_type": "stream",
     "name": "stdout",
     "text": [
      "Saving at epoch 10\n",
      "Epoch: 10 | Total Training Loss: 5.0606184005737305 | Pose Training Loss: 0.04182446375489235 | Action Training Loss: 0.8781706690788269 | Action Train Label Accuracy: 60.99583773373921\n"
     ]
    },
    {
     "output_type": "stream",
     "name": "stderr",
     "text": [
      "Testing =>: 100%|██████████| 10/10 [00:01<00:00,  6.14it/s]\n"
     ]
    },
    {
     "output_type": "stream",
     "name": "stdout",
     "text": [
      "Epoch: 10 | Total Testing Loss: 3.2644011974334717 | Pose Testing Loss: 0.024171508848667145 | Action Testing Loss: 0.8472504019737244 | Action Test Label Accuracy: 68.29166666666666\n",
      "Starting EPOCH: 12 / 30\n"
     ]
    },
    {
     "output_type": "stream",
     "name": "stderr",
     "text": [
      "Training =>: 100%|██████████| 126/126 [00:20<00:00,  6.15it/s]\n"
     ]
    },
    {
     "output_type": "stream",
     "name": "stdout",
     "text": [
      "Saving at epoch 11\n",
      "Epoch: 11 | Total Training Loss: 4.8437628746032715 | Pose Training Loss: 0.04015728086233139 | Action Training Loss: 0.828034520149231 | Action Train Label Accuracy: 62.68869975771882\n"
     ]
    },
    {
     "output_type": "stream",
     "name": "stderr",
     "text": [
      "Testing =>: 100%|██████████| 10/10 [00:01<00:00,  6.37it/s]\n"
     ]
    },
    {
     "output_type": "stream",
     "name": "stdout",
     "text": [
      "Epoch: 11 | Total Testing Loss: 3.0832836627960205 | Pose Testing Loss: 0.022888971492648125 | Action Testing Loss: 0.7943863272666931 | Action Test Label Accuracy: 70.16666666666667\n",
      "Starting EPOCH: 13 / 30\n"
     ]
    },
    {
     "output_type": "stream",
     "name": "stderr",
     "text": [
      "Training =>: 100%|██████████| 126/126 [00:20<00:00,  6.18it/s]\n"
     ]
    },
    {
     "output_type": "stream",
     "name": "stdout",
     "text": [
      "Saving at epoch 12\n",
      "Epoch: 12 | Total Training Loss: 4.650606632232666 | Pose Training Loss: 0.03872573748230934 | Action Training Loss: 0.7780320644378662 | Action Train Label Accuracy: 64.38777411940113\n"
     ]
    },
    {
     "output_type": "stream",
     "name": "stderr",
     "text": [
      "Testing =>: 100%|██████████| 10/10 [00:01<00:00,  6.36it/s]\n"
     ]
    },
    {
     "output_type": "stream",
     "name": "stdout",
     "text": [
      "Epoch: 12 | Total Testing Loss: 2.903841972351074 | Pose Testing Loss: 0.0215502567589283 | Action Testing Loss: 0.7488164305686951 | Action Test Label Accuracy: 72.08333333333333\n",
      "Starting EPOCH: 14 / 30\n"
     ]
    },
    {
     "output_type": "stream",
     "name": "stderr",
     "text": [
      "Training =>: 100%|██████████| 126/126 [00:21<00:00,  5.93it/s]\n"
     ]
    },
    {
     "output_type": "stream",
     "name": "stdout",
     "text": [
      "Saving at epoch 13\n",
      "Epoch: 13 | Total Training Loss: 4.482811450958252 | Pose Training Loss: 0.037466861307621 | Action Training Loss: 0.7361244559288025 | Action Train Label Accuracy: 65.77001925824688\n"
     ]
    },
    {
     "output_type": "stream",
     "name": "stderr",
     "text": [
      "Testing =>: 100%|██████████| 10/10 [00:01<00:00,  6.31it/s]\n"
     ]
    },
    {
     "output_type": "stream",
     "name": "stdout",
     "text": [
      "Epoch: 13 | Total Testing Loss: 2.7984635829925537 | Pose Testing Loss: 0.02085983008146286 | Action Testing Loss: 0.7124808430671692 | Action Test Label Accuracy: 72.29166666666667\n",
      "Starting EPOCH: 15 / 30\n"
     ]
    },
    {
     "output_type": "stream",
     "name": "stderr",
     "text": [
      "Training =>: 100%|██████████| 126/126 [00:21<00:00,  5.88it/s]\n"
     ]
    },
    {
     "output_type": "stream",
     "name": "stdout",
     "text": [
      "Saving at epoch 14\n",
      "Epoch: 14 | Total Training Loss: 4.319504737854004 | Pose Training Loss: 0.0361844077706337 | Action Training Loss: 0.7010629773139954 | Action Train Label Accuracy: 66.68012673168914\n"
     ]
    },
    {
     "output_type": "stream",
     "name": "stderr",
     "text": [
      "Testing =>: 100%|██████████| 10/10 [00:01<00:00,  6.38it/s]\n"
     ]
    },
    {
     "output_type": "stream",
     "name": "stdout",
     "text": [
      "Epoch: 14 | Total Testing Loss: 2.6182780265808105 | Pose Testing Loss: 0.019453896209597588 | Action Testing Loss: 0.672888457775116 | Action Test Label Accuracy: 73.91666666666666\n",
      "Starting EPOCH: 16 / 30\n"
     ]
    },
    {
     "output_type": "stream",
     "name": "stderr",
     "text": [
      "Training =>: 100%|██████████| 126/126 [00:21<00:00,  5.94it/s]\n"
     ]
    },
    {
     "output_type": "stream",
     "name": "stdout",
     "text": [
      "Saving at epoch 15\n",
      "Epoch: 15 | Total Training Loss: 4.178109645843506 | Pose Training Loss: 0.035056356340646744 | Action Training Loss: 0.6724737286567688 | Action Train Label Accuracy: 67.66788842641486\n"
     ]
    },
    {
     "output_type": "stream",
     "name": "stderr",
     "text": [
      "Testing =>: 100%|██████████| 10/10 [00:01<00:00,  5.75it/s]\n"
     ]
    },
    {
     "output_type": "stream",
     "name": "stdout",
     "text": [
      "Epoch: 15 | Total Testing Loss: 2.4883105754852295 | Pose Testing Loss: 0.018665360286831856 | Action Testing Loss: 0.6217744946479797 | Action Test Label Accuracy: 76.0\n",
      "Starting EPOCH: 17 / 30\n"
     ]
    },
    {
     "output_type": "stream",
     "name": "stderr",
     "text": [
      "Training =>: 100%|██████████| 126/126 [00:21<00:00,  5.98it/s]\n"
     ]
    },
    {
     "output_type": "stream",
     "name": "stdout",
     "text": [
      "Saving at epoch 16\n",
      "Epoch: 16 | Total Training Loss: 4.038969039916992 | Pose Training Loss: 0.03391425311565399 | Action Training Loss: 0.6475448608398438 | Action Train Label Accuracy: 68.63080077032988\n"
     ]
    },
    {
     "output_type": "stream",
     "name": "stderr",
     "text": [
      "Testing =>: 100%|██████████| 10/10 [00:01<00:00,  5.24it/s]\n"
     ]
    },
    {
     "output_type": "stream",
     "name": "stdout",
     "text": [
      "Epoch: 16 | Total Testing Loss: 2.3985111713409424 | Pose Testing Loss: 0.017758965492248535 | Action Testing Loss: 0.6226145625114441 | Action Test Label Accuracy: 73.83333333333333\n",
      "Starting EPOCH: 18 / 30\n"
     ]
    },
    {
     "output_type": "stream",
     "name": "stderr",
     "text": [
      "Training =>: 100%|██████████| 126/126 [00:20<00:00,  6.10it/s]\n"
     ]
    },
    {
     "output_type": "stream",
     "name": "stdout",
     "text": [
      "Saving at epoch 17\n",
      "Epoch: 17 | Total Training Loss: 3.9154207706451416 | Pose Training Loss: 0.032892126590013504 | Action Training Loss: 0.6262086033821106 | Action Train Label Accuracy: 69.35764428154314\n"
     ]
    },
    {
     "output_type": "stream",
     "name": "stderr",
     "text": [
      "Testing =>: 100%|██████████| 10/10 [00:01<00:00,  5.46it/s]\n"
     ]
    },
    {
     "output_type": "stream",
     "name": "stdout",
     "text": [
      "Epoch: 17 | Total Testing Loss: 2.2276904582977295 | Pose Testing Loss: 0.01650703139603138 | Action Testing Loss: 0.5769872069358826 | Action Test Label Accuracy: 77.41666666666667\n",
      "Starting EPOCH: 19 / 30\n"
     ]
    },
    {
     "output_type": "stream",
     "name": "stderr",
     "text": [
      "Training =>: 100%|██████████| 126/126 [00:21<00:00,  5.91it/s]\n"
     ]
    },
    {
     "output_type": "stream",
     "name": "stdout",
     "text": [
      "Saving at epoch 18\n",
      "Epoch: 18 | Total Training Loss: 3.7965006828308105 | Pose Training Loss: 0.03186830133199692 | Action Training Loss: 0.6096699833869934 | Action Train Label Accuracy: 69.87326831086537\n"
     ]
    },
    {
     "output_type": "stream",
     "name": "stderr",
     "text": [
      "Testing =>: 100%|██████████| 10/10 [00:01<00:00,  6.40it/s]\n"
     ]
    },
    {
     "output_type": "stream",
     "name": "stdout",
     "text": [
      "Epoch: 18 | Total Testing Loss: 2.0996041297912598 | Pose Testing Loss: 0.015541605651378632 | Action Testing Loss: 0.5454434752464294 | Action Test Label Accuracy: 77.91666666666667\n",
      "Starting EPOCH: 20 / 30\n"
     ]
    },
    {
     "output_type": "stream",
     "name": "stderr",
     "text": [
      "Training =>: 100%|██████████| 126/126 [00:21<00:00,  5.92it/s]\n"
     ]
    },
    {
     "output_type": "stream",
     "name": "stdout",
     "text": [
      "Saving at epoch 19\n",
      "Epoch: 19 | Total Training Loss: 3.678908586502075 | Pose Training Loss: 0.030897410586476326 | Action Training Loss: 0.5891678929328918 | Action Train Label Accuracy: 70.9169410449152\n"
     ]
    },
    {
     "output_type": "stream",
     "name": "stderr",
     "text": [
      "Testing =>: 100%|██████████| 10/10 [00:01<00:00,  5.86it/s]\n"
     ]
    },
    {
     "output_type": "stream",
     "name": "stdout",
     "text": [
      "Epoch: 19 | Total Testing Loss: 1.9624990224838257 | Pose Testing Loss: 0.014344505965709686 | Action Testing Loss: 0.5280483961105347 | Action Test Label Accuracy: 78.625\n",
      "Starting EPOCH: 21 / 30\n"
     ]
    },
    {
     "output_type": "stream",
     "name": "stderr",
     "text": [
      "Training =>: 100%|██████████| 126/126 [00:20<00:00,  6.16it/s]\n"
     ]
    },
    {
     "output_type": "stream",
     "name": "stdout",
     "text": [
      "Saving at epoch 20\n",
      "Epoch: 20 | Total Training Loss: 3.5707449913024902 | Pose Training Loss: 0.0299838799983263 | Action Training Loss: 0.5723558664321899 | Action Train Label Accuracy: 72.0475865068025\n"
     ]
    },
    {
     "output_type": "stream",
     "name": "stderr",
     "text": [
      "Testing =>: 100%|██████████| 10/10 [00:01<00:00,  5.08it/s]\n"
     ]
    },
    {
     "output_type": "stream",
     "name": "stdout",
     "text": [
      "Epoch: 20 | Total Testing Loss: 1.8845933675765991 | Pose Testing Loss: 0.01369071938097477 | Action Testing Loss: 0.5155217051506042 | Action Test Label Accuracy: 79.08333333333334\n",
      "Starting EPOCH: 22 / 30\n"
     ]
    },
    {
     "output_type": "stream",
     "name": "stderr",
     "text": [
      "Training =>: 100%|██████████| 126/126 [00:21<00:00,  5.84it/s]\n"
     ]
    },
    {
     "output_type": "stream",
     "name": "stdout",
     "text": [
      "Saving at epoch 21\n",
      "Epoch: 21 | Total Training Loss: 3.4543957710266113 | Pose Training Loss: 0.029015757143497467 | Action Training Loss: 0.5528197884559631 | Action Train Label Accuracy: 73.42051313909424\n"
     ]
    },
    {
     "output_type": "stream",
     "name": "stderr",
     "text": [
      "Testing =>: 100%|██████████| 10/10 [00:01<00:00,  6.22it/s]\n"
     ]
    },
    {
     "output_type": "stream",
     "name": "stdout",
     "text": [
      "Epoch: 21 | Total Testing Loss: 1.7582670450210571 | Pose Testing Loss: 0.01272787619382143 | Action Testing Loss: 0.4854795038700104 | Action Test Label Accuracy: 81.20833333333334\n",
      "Starting EPOCH: 23 / 30\n"
     ]
    },
    {
     "output_type": "stream",
     "name": "stderr",
     "text": [
      "Training =>: 100%|██████████| 126/126 [00:21<00:00,  5.91it/s]\n"
     ]
    },
    {
     "output_type": "stream",
     "name": "stdout",
     "text": [
      "Saving at epoch 22\n",
      "Epoch: 22 | Total Training Loss: 3.352302074432373 | Pose Training Loss: 0.02816575951874256 | Action Training Loss: 0.5357258915901184 | Action Train Label Accuracy: 74.80897061564266\n"
     ]
    },
    {
     "output_type": "stream",
     "name": "stderr",
     "text": [
      "Testing =>: 100%|██████████| 10/10 [00:01<00:00,  6.00it/s]\n"
     ]
    },
    {
     "output_type": "stream",
     "name": "stdout",
     "text": [
      "Epoch: 22 | Total Testing Loss: 1.6530998945236206 | Pose Testing Loss: 0.01198518555611372 | Action Testing Loss: 0.45458149909973145 | Action Test Label Accuracy: 85.70833333333333\n",
      "Starting EPOCH: 24 / 30\n"
     ]
    },
    {
     "output_type": "stream",
     "name": "stderr",
     "text": [
      "Training =>: 100%|██████████| 126/126 [00:21<00:00,  5.99it/s]\n"
     ]
    },
    {
     "output_type": "stream",
     "name": "stdout",
     "text": [
      "Saving at epoch 23\n",
      "Epoch: 23 | Total Training Loss: 3.244232416152954 | Pose Training Loss: 0.027304669842123985 | Action Training Loss: 0.5137646794319153 | Action Train Label Accuracy: 76.80313101820215\n"
     ]
    },
    {
     "output_type": "stream",
     "name": "stderr",
     "text": [
      "Testing =>: 100%|██████████| 10/10 [00:01<00:00,  6.20it/s]\n"
     ]
    },
    {
     "output_type": "stream",
     "name": "stdout",
     "text": [
      "Epoch: 23 | Total Testing Loss: 1.56304132938385 | Pose Testing Loss: 0.011284707114100456 | Action Testing Loss: 0.43457069993019104 | Action Test Label Accuracy: 84.625\n",
      "Starting EPOCH: 25 / 30\n"
     ]
    },
    {
     "output_type": "stream",
     "name": "stderr",
     "text": [
      "Training =>: 100%|██████████| 126/126 [00:21<00:00,  5.95it/s]\n"
     ]
    },
    {
     "output_type": "stream",
     "name": "stdout",
     "text": [
      "Saving at epoch 24\n",
      "Epoch: 24 | Total Training Loss: 3.143807888031006 | Pose Training Loss: 0.026554804295301437 | Action Training Loss: 0.48832690715789795 | Action Train Label Accuracy: 78.36553395042554\n"
     ]
    },
    {
     "output_type": "stream",
     "name": "stderr",
     "text": [
      "Testing =>: 100%|██████████| 10/10 [00:01<00:00,  6.43it/s]\n"
     ]
    },
    {
     "output_type": "stream",
     "name": "stdout",
     "text": [
      "Epoch: 24 | Total Testing Loss: 1.4566868543624878 | Pose Testing Loss: 0.010593350976705551 | Action Testing Loss: 0.39735159277915955 | Action Test Label Accuracy: 88.70833333333333\n",
      "Starting EPOCH: 26 / 30\n"
     ]
    },
    {
     "output_type": "stream",
     "name": "stderr",
     "text": [
      "Training =>: 100%|██████████| 126/126 [00:21<00:00,  5.93it/s]\n"
     ]
    },
    {
     "output_type": "stream",
     "name": "stdout",
     "text": [
      "Saving at epoch 25\n",
      "Epoch: 25 | Total Training Loss: 3.0398330688476562 | Pose Training Loss: 0.025769824162125587 | Action Training Loss: 0.46284911036491394 | Action Train Label Accuracy: 79.965210908865\n"
     ]
    },
    {
     "output_type": "stream",
     "name": "stderr",
     "text": [
      "Testing =>: 100%|██████████| 10/10 [00:01<00:00,  6.18it/s]\n"
     ]
    },
    {
     "output_type": "stream",
     "name": "stdout",
     "text": [
      "Epoch: 25 | Total Testing Loss: 1.41031014919281 | Pose Testing Loss: 0.010293652303516865 | Action Testing Loss: 0.3809449374675751 | Action Test Label Accuracy: 86.79166666666667\n",
      "Starting EPOCH: 27 / 30\n"
     ]
    },
    {
     "output_type": "stream",
     "name": "stderr",
     "text": [
      "Training =>: 100%|██████████| 126/126 [00:21<00:00,  5.79it/s]\n"
     ]
    },
    {
     "output_type": "stream",
     "name": "stdout",
     "text": [
      "Saving at epoch 26\n",
      "Epoch: 26 | Total Training Loss: 2.9510278701782227 | Pose Training Loss: 0.02514844387769699 | Action Training Loss: 0.4361836910247803 | Action Train Label Accuracy: 81.85686773933031\n"
     ]
    },
    {
     "output_type": "stream",
     "name": "stderr",
     "text": [
      "Testing =>: 100%|██████████| 10/10 [00:01<00:00,  6.21it/s]\n"
     ]
    },
    {
     "output_type": "stream",
     "name": "stdout",
     "text": [
      "Epoch: 26 | Total Testing Loss: 1.3308981657028198 | Pose Testing Loss: 0.009875102899968624 | Action Testing Loss: 0.3433879017829895 | Action Test Label Accuracy: 89.95833333333333\n",
      "Starting EPOCH: 28 / 30\n"
     ]
    },
    {
     "output_type": "stream",
     "name": "stderr",
     "text": [
      "Training =>: 100%|██████████| 126/126 [00:20<00:00,  6.10it/s]\n"
     ]
    },
    {
     "output_type": "stream",
     "name": "stdout",
     "text": [
      "Saving at epoch 27\n",
      "Epoch: 27 | Total Training Loss: 2.865375280380249 | Pose Training Loss: 0.024542605504393578 | Action Training Loss: 0.4111143946647644 | Action Train Label Accuracy: 83.25153755358141\n"
     ]
    },
    {
     "output_type": "stream",
     "name": "stderr",
     "text": [
      "Testing =>: 100%|██████████| 10/10 [00:02<00:00,  4.51it/s]\n"
     ]
    },
    {
     "output_type": "stream",
     "name": "stdout",
     "text": [
      "Epoch: 27 | Total Testing Loss: 1.2284334897994995 | Pose Testing Loss: 0.009261858649551868 | Action Testing Loss: 0.3022475838661194 | Action Test Label Accuracy: 92.45833333333333\n",
      "Starting EPOCH: 29 / 30\n"
     ]
    },
    {
     "output_type": "stream",
     "name": "stderr",
     "text": [
      "Training =>: 100%|██████████| 126/126 [00:19<00:00,  6.31it/s]\n"
     ]
    },
    {
     "output_type": "stream",
     "name": "stdout",
     "text": [
      "Saving at epoch 28\n",
      "Epoch: 28 | Total Training Loss: 2.7746057510375977 | Pose Training Loss: 0.023917444050312042 | Action Training Loss: 0.38286271691322327 | Action Train Label Accuracy: 84.87606386283159\n"
     ]
    },
    {
     "output_type": "stream",
     "name": "stderr",
     "text": [
      "Testing =>: 100%|██████████| 10/10 [00:01<00:00,  5.91it/s]\n"
     ]
    },
    {
     "output_type": "stream",
     "name": "stdout",
     "text": [
      "Epoch: 28 | Total Testing Loss: 1.159064769744873 | Pose Testing Loss: 0.008857653476297855 | Action Testing Loss: 0.2732994258403778 | Action Test Label Accuracy: 94.20833333333334\n",
      "Starting EPOCH: 30 / 30\n"
     ]
    },
    {
     "output_type": "stream",
     "name": "stderr",
     "text": [
      "Training =>: 100%|██████████| 126/126 [00:21<00:00,  5.85it/s]\n"
     ]
    },
    {
     "output_type": "stream",
     "name": "stdout",
     "text": [
      "Saving at epoch 29\n",
      "Epoch: 29 | Total Training Loss: 2.6875386238098145 | Pose Training Loss: 0.02336752787232399 | Action Training Loss: 0.35078567266464233 | Action Train Label Accuracy: 86.81120705721564\n"
     ]
    },
    {
     "output_type": "stream",
     "name": "stderr",
     "text": [
      "Testing =>: 100%|██████████| 10/10 [00:01<00:00,  5.61it/s]\n"
     ]
    },
    {
     "output_type": "stream",
     "name": "stdout",
     "text": [
      "Epoch: 29 | Total Testing Loss: 1.0730615854263306 | Pose Testing Loss: 0.00841727014631033 | Action Testing Loss: 0.23133455216884613 | Action Test Label Accuracy: 95.75\n"
     ]
    },
    {
     "output_type": "display_data",
     "data": {
      "text/plain": [
       "<Figure size 640x480 with 0 Axes>"
      ]
     },
     "metadata": {}
    }
   ],
   "source": [
    "from src.simple_pose_gnn.train_and_test import training_loop\n",
    "from argparse import Namespace\n",
    "import os\n",
    "from datetime import datetime\n",
    "timestamp = datetime.now().strftime(\"%Y-%m-%d--%H-%M-%S\")\n",
    "\n",
    "args_dict = {\n",
    "    'learning_rate': 3e-5,\n",
    "    'num_epochs': 30,\n",
    "    'batch_size': 256,\n",
    "    'action_loss_multiplier': 1,\n",
    "    'pose_loss_multiplier': 100,\n",
    "    'training_2d_data_path': os.path.join('datasets', 'custom', 'Processed', 'train_2d_poses.npy'),\n",
    "    'training_3d_data_path': os.path.join('datasets', 'custom', 'Processed', 'train_3d_poses.npy'),\n",
    "    'training_label_path': os.path.join('datasets', 'custom', 'Processed', 'train_actions.npy'),\n",
    "    'testing_2d_data_path': os.path.join('datasets', 'custom', 'Processed', 'test_2d_poses.npy'),\n",
    "    'testing_3d_data_path': os.path.join('datasets', 'custom', 'Processed', 'test_3d_poses.npy'),\n",
    "    'testing_label_path': os.path.join('datasets', 'custom', 'Processed', 'test_actions.npy'),\n",
    "    'save_path': os.path.join('model_outputs', 'simple_pose_gnn_custom', timestamp)\n",
    "}\n",
    "args = Namespace(**args_dict)\n",
    "training_loop(args)"
   ]
  },
  {
   "cell_type": "markdown",
   "id": "d77ffa2b",
   "metadata": {},
   "source": [
    "<h3><u>4.6. Training Graph Transformer model (SimplePoseGAT)</u></h3>"
   ]
  },
  {
   "cell_type": "code",
   "execution_count": null,
   "id": "1964e3d5",
   "metadata": {
    "colab": {
     "base_uri": "https://localhost:8080/",
     "height": 1000
    },
    "id": "XhW6HCVoOvmf",
    "outputId": "258074c6-3e1f-4a4a-be18-6587b3493654"
   },
   "outputs": [
    {
     "output_type": "stream",
     "name": "stdout",
     "text": [
      "Training args are: Namespace(learning_rate=3e-05, num_epochs=30, batch_size=256, action_loss_multiplier=1, pose_loss_multiplier=100, training_2d_data_path='datasets/custom/Processed/train_2d_poses.npy', training_3d_data_path='datasets/custom/Processed/train_3d_poses.npy', training_label_path='datasets/custom/Processed/train_actions.npy', testing_2d_data_path='datasets/custom/Processed/test_2d_poses.npy', testing_3d_data_path='datasets/custom/Processed/test_3d_poses.npy', testing_label_path='datasets/custom/Processed/test_actions.npy', save_path='model_outputs/simple_pose_gat_custom/2024-11-17--09-05-38')\n",
      "Starting EPOCH: 1 / 30\n"
     ]
    },
    {
     "output_type": "stream",
     "name": "stderr",
     "text": [
      "Training =>: 100%|██████████| 126/126 [00:29<00:00,  4.29it/s]\n"
     ]
    },
    {
     "output_type": "stream",
     "name": "stdout",
     "text": [
      "Saving at epoch 0\n",
      "Epoch: 0 | Total Training Loss: 18.847429275512695 | Pose Training Loss: 0.1733040064573288 | Action Training Loss: 1.5170223712921143 | Action Train Label Accuracy: 27.290799527862337\n"
     ]
    },
    {
     "output_type": "stream",
     "name": "stderr",
     "text": [
      "Testing =>: 100%|██████████| 10/10 [00:02<00:00,  4.56it/s]\n"
     ]
    },
    {
     "output_type": "stream",
     "name": "stdout",
     "text": [
      "Epoch: 0 | Total Testing Loss: 4.888330936431885 | Pose Testing Loss: 0.03508218750357628 | Action Testing Loss: 1.3801120519638062 | Action Test Label Accuracy: 34.708333333333336\n",
      "Starting EPOCH: 2 / 30\n"
     ]
    },
    {
     "output_type": "stream",
     "name": "stderr",
     "text": [
      "Training =>: 100%|██████████| 126/126 [00:27<00:00,  4.60it/s]\n"
     ]
    },
    {
     "output_type": "stream",
     "name": "stdout",
     "text": [
      "Saving at epoch 1\n",
      "Epoch: 1 | Total Training Loss: 6.682464599609375 | Pose Training Loss: 0.05359276384115219 | Action Training Loss: 1.3231863975524902 | Action Train Label Accuracy: 39.17189538423308\n"
     ]
    },
    {
     "output_type": "stream",
     "name": "stderr",
     "text": [
      "Testing =>: 100%|██████████| 10/10 [00:02<00:00,  4.51it/s]\n"
     ]
    },
    {
     "output_type": "stream",
     "name": "stdout",
     "text": [
      "Epoch: 1 | Total Testing Loss: 3.4098281860351562 | Pose Testing Loss: 0.021639913320541382 | Action Testing Loss: 1.2458367347717285 | Action Test Label Accuracy: 47.5\n",
      "Starting EPOCH: 3 / 30\n"
     ]
    },
    {
     "output_type": "stream",
     "name": "stderr",
     "text": [
      "Training =>: 100%|██████████| 126/126 [00:29<00:00,  4.24it/s]\n"
     ]
    },
    {
     "output_type": "stream",
     "name": "stdout",
     "text": [
      "Saving at epoch 2\n",
      "Epoch: 2 | Total Training Loss: 4.770929336547852 | Pose Training Loss: 0.03551367670297623 | Action Training Loss: 1.2195608615875244 | Action Train Label Accuracy: 46.654656147108156\n"
     ]
    },
    {
     "output_type": "stream",
     "name": "stderr",
     "text": [
      "Testing =>: 100%|██████████| 10/10 [00:01<00:00,  5.56it/s]\n"
     ]
    },
    {
     "output_type": "stream",
     "name": "stdout",
     "text": [
      "Epoch: 2 | Total Testing Loss: 2.760838747024536 | Pose Testing Loss: 0.01593446172773838 | Action Testing Loss: 1.167392373085022 | Action Test Label Accuracy: 54.91666666666667\n",
      "Starting EPOCH: 4 / 30\n"
     ]
    },
    {
     "output_type": "stream",
     "name": "stderr",
     "text": [
      "Training =>: 100%|██████████| 126/126 [00:30<00:00,  4.12it/s]\n"
     ]
    },
    {
     "output_type": "stream",
     "name": "stdout",
     "text": [
      "Saving at epoch 3\n",
      "Epoch: 3 | Total Training Loss: 3.7399611473083496 | Pose Training Loss: 0.025832826271653175 | Action Training Loss: 1.1566786766052246 | Action Train Label Accuracy: 50.58706591290303\n"
     ]
    },
    {
     "output_type": "stream",
     "name": "stderr",
     "text": [
      "Testing =>: 100%|██████████| 10/10 [00:02<00:00,  4.67it/s]\n"
     ]
    },
    {
     "output_type": "stream",
     "name": "stdout",
     "text": [
      "Epoch: 3 | Total Testing Loss: 2.360884428024292 | Pose Testing Loss: 0.012459858320653439 | Action Testing Loss: 1.114898681640625 | Action Test Label Accuracy: 57.91666666666667\n",
      "Starting EPOCH: 5 / 30\n"
     ]
    },
    {
     "output_type": "stream",
     "name": "stderr",
     "text": [
      "Training =>: 100%|██████████| 126/126 [00:29<00:00,  4.26it/s]\n"
     ]
    },
    {
     "output_type": "stream",
     "name": "stdout",
     "text": [
      "Saving at epoch 4\n",
      "Epoch: 4 | Total Training Loss: 3.0791923999786377 | Pose Training Loss: 0.019740356132388115 | Action Training Loss: 1.1051560640335083 | Action Train Label Accuracy: 52.80797664161023\n"
     ]
    },
    {
     "output_type": "stream",
     "name": "stderr",
     "text": [
      "Testing =>: 100%|██████████| 10/10 [00:02<00:00,  4.57it/s]\n"
     ]
    },
    {
     "output_type": "stream",
     "name": "stdout",
     "text": [
      "Epoch: 4 | Total Testing Loss: 2.096870183944702 | Pose Testing Loss: 0.010267323814332485 | Action Testing Loss: 1.0701379776000977 | Action Test Label Accuracy: 61.75000000000001\n",
      "Starting EPOCH: 6 / 30\n"
     ]
    },
    {
     "output_type": "stream",
     "name": "stderr",
     "text": [
      "Training =>: 100%|██████████| 126/126 [00:28<00:00,  4.42it/s]\n"
     ]
    },
    {
     "output_type": "stream",
     "name": "stdout",
     "text": [
      "Saving at epoch 5\n",
      "Epoch: 5 | Total Training Loss: 2.638282537460327 | Pose Training Loss: 0.015783263370394707 | Action Training Loss: 1.059957504272461 | Action Train Label Accuracy: 56.0508169224079\n"
     ]
    },
    {
     "output_type": "stream",
     "name": "stderr",
     "text": [
      "Testing =>: 100%|██████████| 10/10 [00:02<00:00,  3.83it/s]\n"
     ]
    },
    {
     "output_type": "stream",
     "name": "stdout",
     "text": [
      "Epoch: 5 | Total Testing Loss: 1.8768690824508667 | Pose Testing Loss: 0.008604113012552261 | Action Testing Loss: 1.0164577960968018 | Action Test Label Accuracy: 66.45833333333333\n",
      "Starting EPOCH: 7 / 30\n"
     ]
    },
    {
     "output_type": "stream",
     "name": "stderr",
     "text": [
      "Training =>: 100%|██████████| 126/126 [00:29<00:00,  4.24it/s]\n"
     ]
    },
    {
     "output_type": "stream",
     "name": "stdout",
     "text": [
      "Saving at epoch 6\n",
      "Epoch: 6 | Total Training Loss: 2.3209707736968994 | Pose Training Loss: 0.013055916875600815 | Action Training Loss: 1.0153781175613403 | Action Train Label Accuracy: 59.38684226874573\n"
     ]
    },
    {
     "output_type": "stream",
     "name": "stderr",
     "text": [
      "Testing =>: 100%|██████████| 10/10 [00:02<00:00,  4.26it/s]\n"
     ]
    },
    {
     "output_type": "stream",
     "name": "stdout",
     "text": [
      "Epoch: 6 | Total Testing Loss: 1.7197178602218628 | Pose Testing Loss: 0.0074919359758496284 | Action Testing Loss: 0.97052401304245 | Action Test Label Accuracy: 67.70833333333334\n",
      "Starting EPOCH: 8 / 30\n"
     ]
    },
    {
     "output_type": "stream",
     "name": "stderr",
     "text": [
      "Training =>: 100%|██████████| 126/126 [00:27<00:00,  4.55it/s]\n"
     ]
    },
    {
     "output_type": "stream",
     "name": "stdout",
     "text": [
      "Saving at epoch 7\n",
      "Epoch: 7 | Total Training Loss: 2.0781779289245605 | Pose Training Loss: 0.011137526482343674 | Action Training Loss: 0.9644256234169006 | Action Train Label Accuracy: 62.62347021184071\n"
     ]
    },
    {
     "output_type": "stream",
     "name": "stderr",
     "text": [
      "Testing =>: 100%|██████████| 10/10 [00:02<00:00,  4.31it/s]\n"
     ]
    },
    {
     "output_type": "stream",
     "name": "stdout",
     "text": [
      "Epoch: 7 | Total Testing Loss: 1.5931633710861206 | Pose Testing Loss: 0.00678751477971673 | Action Testing Loss: 0.9144118428230286 | Action Test Label Accuracy: 70.91666666666666\n",
      "Starting EPOCH: 9 / 30\n"
     ]
    },
    {
     "output_type": "stream",
     "name": "stderr",
     "text": [
      "Training =>: 100%|██████████| 126/126 [00:28<00:00,  4.42it/s]\n"
     ]
    },
    {
     "output_type": "stream",
     "name": "stdout",
     "text": [
      "Saving at epoch 8\n",
      "Epoch: 8 | Total Training Loss: 1.8765244483947754 | Pose Training Loss: 0.009722626768052578 | Action Training Loss: 0.9042615294456482 | Action Train Label Accuracy: 66.5496676399329\n"
     ]
    },
    {
     "output_type": "stream",
     "name": "stderr",
     "text": [
      "Testing =>: 100%|██████████| 10/10 [00:01<00:00,  5.05it/s]\n"
     ]
    },
    {
     "output_type": "stream",
     "name": "stdout",
     "text": [
      "Epoch: 8 | Total Testing Loss: 1.4656723737716675 | Pose Testing Loss: 0.006207507103681564 | Action Testing Loss: 0.8449217081069946 | Action Test Label Accuracy: 74.125\n",
      "Starting EPOCH: 10 / 30\n"
     ]
    },
    {
     "output_type": "stream",
     "name": "stderr",
     "text": [
      "Training =>: 100%|██████████| 126/126 [00:30<00:00,  4.15it/s]\n"
     ]
    },
    {
     "output_type": "stream",
     "name": "stdout",
     "text": [
      "Saving at epoch 9\n",
      "Epoch: 9 | Total Training Loss: 1.7060773372650146 | Pose Training Loss: 0.008699155412614346 | Action Training Loss: 0.8361616134643555 | Action Train Label Accuracy: 70.44790954836306\n"
     ]
    },
    {
     "output_type": "stream",
     "name": "stderr",
     "text": [
      "Testing =>: 100%|██████████| 10/10 [00:02<00:00,  4.88it/s]\n"
     ]
    },
    {
     "output_type": "stream",
     "name": "stdout",
     "text": [
      "Epoch: 9 | Total Testing Loss: 1.3457680940628052 | Pose Testing Loss: 0.00577841280028224 | Action Testing Loss: 0.7679266929626465 | Action Test Label Accuracy: 78.625\n",
      "Starting EPOCH: 11 / 30\n"
     ]
    },
    {
     "output_type": "stream",
     "name": "stderr",
     "text": [
      "Training =>: 100%|██████████| 126/126 [00:28<00:00,  4.37it/s]\n"
     ]
    },
    {
     "output_type": "stream",
     "name": "stdout",
     "text": [
      "Saving at epoch 10\n",
      "Epoch: 10 | Total Training Loss: 1.5461571216583252 | Pose Training Loss: 0.007890376262366772 | Action Training Loss: 0.757119357585907 | Action Train Label Accuracy: 74.4579735354414\n"
     ]
    },
    {
     "output_type": "stream",
     "name": "stderr",
     "text": [
      "Testing =>: 100%|██████████| 10/10 [00:02<00:00,  4.64it/s]\n"
     ]
    },
    {
     "output_type": "stream",
     "name": "stdout",
     "text": [
      "Epoch: 10 | Total Testing Loss: 1.2230852842330933 | Pose Testing Loss: 0.0054253279231488705 | Action Testing Loss: 0.6805524230003357 | Action Test Label Accuracy: 81.16666666666667\n",
      "Starting EPOCH: 12 / 30\n"
     ]
    },
    {
     "output_type": "stream",
     "name": "stderr",
     "text": [
      "Training =>: 100%|██████████| 126/126 [00:28<00:00,  4.35it/s]\n"
     ]
    },
    {
     "output_type": "stream",
     "name": "stdout",
     "text": [
      "Saving at epoch 11\n",
      "Epoch: 11 | Total Training Loss: 1.4028596878051758 | Pose Training Loss: 0.007275119889527559 | Action Training Loss: 0.6753474473953247 | Action Train Label Accuracy: 77.67907063427968\n"
     ]
    },
    {
     "output_type": "stream",
     "name": "stderr",
     "text": [
      "Testing =>: 100%|██████████| 10/10 [00:02<00:00,  4.51it/s]\n"
     ]
    },
    {
     "output_type": "stream",
     "name": "stdout",
     "text": [
      "Epoch: 11 | Total Testing Loss: 1.0962234735488892 | Pose Testing Loss: 0.0051146079786121845 | Action Testing Loss: 0.584762692451477 | Action Test Label Accuracy: 83.08333333333333\n",
      "Starting EPOCH: 13 / 30\n"
     ]
    },
    {
     "output_type": "stream",
     "name": "stderr",
     "text": [
      "Training =>: 100%|██████████| 126/126 [00:29<00:00,  4.31it/s]\n"
     ]
    },
    {
     "output_type": "stream",
     "name": "stdout",
     "text": [
      "Saving at epoch 12\n",
      "Epoch: 12 | Total Training Loss: 1.2704097032546997 | Pose Training Loss: 0.006765310186892748 | Action Training Loss: 0.5938781499862671 | Action Train Label Accuracy: 79.94657389575698\n"
     ]
    },
    {
     "output_type": "stream",
     "name": "stderr",
     "text": [
      "Testing =>: 100%|██████████| 10/10 [00:02<00:00,  4.22it/s]\n"
     ]
    },
    {
     "output_type": "stream",
     "name": "stdout",
     "text": [
      "Epoch: 12 | Total Testing Loss: 0.9957235455513 | Pose Testing Loss: 0.004873571451753378 | Action Testing Loss: 0.5083664059638977 | Action Test Label Accuracy: 85.0\n",
      "Starting EPOCH: 14 / 30\n"
     ]
    },
    {
     "output_type": "stream",
     "name": "stderr",
     "text": [
      "Training =>: 100%|██████████| 126/126 [00:27<00:00,  4.50it/s]\n"
     ]
    },
    {
     "output_type": "stream",
     "name": "stdout",
     "text": [
      "Saving at epoch 13\n",
      "Epoch: 13 | Total Training Loss: 1.1567158699035645 | Pose Training Loss: 0.006326667033135891 | Action Training Loss: 0.5240492224693298 | Action Train Label Accuracy: 82.08672423432938\n"
     ]
    },
    {
     "output_type": "stream",
     "name": "stderr",
     "text": [
      "Testing =>: 100%|██████████| 10/10 [00:02<00:00,  4.57it/s]\n"
     ]
    },
    {
     "output_type": "stream",
     "name": "stdout",
     "text": [
      "Epoch: 13 | Total Testing Loss: 0.9096500277519226 | Pose Testing Loss: 0.004686473403126001 | Action Testing Loss: 0.4410026967525482 | Action Test Label Accuracy: 84.875\n",
      "Starting EPOCH: 15 / 30\n"
     ]
    },
    {
     "output_type": "stream",
     "name": "stderr",
     "text": [
      "Training =>: 100%|██████████| 126/126 [00:29<00:00,  4.29it/s]\n"
     ]
    },
    {
     "output_type": "stream",
     "name": "stdout",
     "text": [
      "Saving at epoch 14\n",
      "Epoch: 14 | Total Training Loss: 1.0652787685394287 | Pose Training Loss: 0.005972470156848431 | Action Training Loss: 0.4680315852165222 | Action Train Label Accuracy: 83.4099521649997\n"
     ]
    },
    {
     "output_type": "stream",
     "name": "stderr",
     "text": [
      "Testing =>: 100%|██████████| 10/10 [00:01<00:00,  5.20it/s]\n"
     ]
    },
    {
     "output_type": "stream",
     "name": "stdout",
     "text": [
      "Epoch: 14 | Total Testing Loss: 0.8358082175254822 | Pose Testing Loss: 0.004498257301747799 | Action Testing Loss: 0.385982483625412 | Action Test Label Accuracy: 86.5\n",
      "Starting EPOCH: 16 / 30\n"
     ]
    },
    {
     "output_type": "stream",
     "name": "stderr",
     "text": [
      "Training =>: 100%|██████████| 126/126 [00:29<00:00,  4.26it/s]\n"
     ]
    },
    {
     "output_type": "stream",
     "name": "stdout",
     "text": [
      "Saving at epoch 15\n",
      "Epoch: 15 | Total Training Loss: 0.9818954467773438 | Pose Training Loss: 0.005638862960040569 | Action Training Loss: 0.4180089235305786 | Action Train Label Accuracy: 85.29850282661366\n"
     ]
    },
    {
     "output_type": "stream",
     "name": "stderr",
     "text": [
      "Testing =>: 100%|██████████| 10/10 [00:02<00:00,  4.90it/s]\n"
     ]
    },
    {
     "output_type": "stream",
     "name": "stdout",
     "text": [
      "Epoch: 15 | Total Testing Loss: 0.7859076261520386 | Pose Testing Loss: 0.0043704756535589695 | Action Testing Loss: 0.3488600552082062 | Action Test Label Accuracy: 88.75\n",
      "Starting EPOCH: 17 / 30\n"
     ]
    },
    {
     "output_type": "stream",
     "name": "stderr",
     "text": [
      "Training =>: 100%|██████████| 126/126 [00:28<00:00,  4.45it/s]\n"
     ]
    },
    {
     "output_type": "stream",
     "name": "stdout",
     "text": [
      "Saving at epoch 16\n",
      "Epoch: 16 | Total Training Loss: 0.9134091138839722 | Pose Training Loss: 0.0053558070212602615 | Action Training Loss: 0.37782803177833557 | Action Train Label Accuracy: 87.24607069640305\n"
     ]
    },
    {
     "output_type": "stream",
     "name": "stderr",
     "text": [
      "Testing =>: 100%|██████████| 10/10 [00:02<00:00,  4.22it/s]\n"
     ]
    },
    {
     "output_type": "stream",
     "name": "stdout",
     "text": [
      "Epoch: 16 | Total Testing Loss: 0.7367722392082214 | Pose Testing Loss: 0.004249818157404661 | Action Testing Loss: 0.31179043650627136 | Action Test Label Accuracy: 91.95833333333333\n",
      "Starting EPOCH: 18 / 30\n"
     ]
    },
    {
     "output_type": "stream",
     "name": "stderr",
     "text": [
      "Training =>: 100%|██████████| 126/126 [00:29<00:00,  4.26it/s]\n"
     ]
    },
    {
     "output_type": "stream",
     "name": "stdout",
     "text": [
      "Saving at epoch 17\n",
      "Epoch: 17 | Total Training Loss: 0.8466176986694336 | Pose Training Loss: 0.005099284928292036 | Action Training Loss: 0.336689293384552 | Action Train Label Accuracy: 89.73721811517674\n"
     ]
    },
    {
     "output_type": "stream",
     "name": "stderr",
     "text": [
      "Testing =>: 100%|██████████| 10/10 [00:02<00:00,  4.01it/s]\n"
     ]
    },
    {
     "output_type": "stream",
     "name": "stdout",
     "text": [
      "Epoch: 17 | Total Testing Loss: 0.6659722328186035 | Pose Testing Loss: 0.004074958618730307 | Action Testing Loss: 0.2584763765335083 | Action Test Label Accuracy: 95.54166666666667\n",
      "Starting EPOCH: 19 / 30\n"
     ]
    },
    {
     "output_type": "stream",
     "name": "stderr",
     "text": [
      "Training =>: 100%|██████████| 126/126 [00:28<00:00,  4.41it/s]\n"
     ]
    },
    {
     "output_type": "stream",
     "name": "stdout",
     "text": [
      "Saving at epoch 18\n",
      "Epoch: 18 | Total Training Loss: 0.789129912853241 | Pose Training Loss: 0.004906782880425453 | Action Training Loss: 0.29845139384269714 | Action Train Label Accuracy: 91.63819345219606\n"
     ]
    },
    {
     "output_type": "stream",
     "name": "stderr",
     "text": [
      "Testing =>: 100%|██████████| 10/10 [00:02<00:00,  4.96it/s]\n"
     ]
    },
    {
     "output_type": "stream",
     "name": "stdout",
     "text": [
      "Epoch: 18 | Total Testing Loss: 0.6178909540176392 | Pose Testing Loss: 0.003949982579797506 | Action Testing Loss: 0.2228926718235016 | Action Test Label Accuracy: 96.29166666666666\n",
      "Starting EPOCH: 20 / 30\n"
     ]
    },
    {
     "output_type": "stream",
     "name": "stderr",
     "text": [
      "Training =>: 100%|██████████| 126/126 [00:30<00:00,  4.12it/s]\n"
     ]
    },
    {
     "output_type": "stream",
     "name": "stdout",
     "text": [
      "Saving at epoch 19\n",
      "Epoch: 19 | Total Training Loss: 0.7367039918899536 | Pose Training Loss: 0.004732431378215551 | Action Training Loss: 0.26346060633659363 | Action Train Label Accuracy: 93.0515002795552\n"
     ]
    },
    {
     "output_type": "stream",
     "name": "stderr",
     "text": [
      "Testing =>: 100%|██████████| 10/10 [00:02<00:00,  4.04it/s]\n"
     ]
    },
    {
     "output_type": "stream",
     "name": "stdout",
     "text": [
      "Epoch: 19 | Total Testing Loss: 0.5750098824501038 | Pose Testing Loss: 0.0038906403351575136 | Action Testing Loss: 0.18594585359096527 | Action Test Label Accuracy: 97.375\n",
      "Starting EPOCH: 21 / 30\n"
     ]
    },
    {
     "output_type": "stream",
     "name": "stderr",
     "text": [
      "Training =>: 100%|██████████| 126/126 [00:27<00:00,  4.50it/s]\n"
     ]
    },
    {
     "output_type": "stream",
     "name": "stdout",
     "text": [
      "Saving at epoch 20\n",
      "Epoch: 20 | Total Training Loss: 0.6820797920227051 | Pose Training Loss: 0.004557604435831308 | Action Training Loss: 0.2263195663690567 | Action Train Label Accuracy: 94.13555320867243\n"
     ]
    },
    {
     "output_type": "stream",
     "name": "stderr",
     "text": [
      "Testing =>: 100%|██████████| 10/10 [00:02<00:00,  4.29it/s]\n"
     ]
    },
    {
     "output_type": "stream",
     "name": "stdout",
     "text": [
      "Epoch: 20 | Total Testing Loss: 0.5367264151573181 | Pose Testing Loss: 0.0038602936547249556 | Action Testing Loss: 0.1506970375776291 | Action Test Label Accuracy: 97.79166666666667\n",
      "Starting EPOCH: 22 / 30\n"
     ]
    },
    {
     "output_type": "stream",
     "name": "stderr",
     "text": [
      "Training =>: 100%|██████████| 126/126 [00:30<00:00,  4.12it/s]\n"
     ]
    },
    {
     "output_type": "stream",
     "name": "stdout",
     "text": [
      "Saving at epoch 21\n",
      "Epoch: 21 | Total Training Loss: 0.6342492699623108 | Pose Training Loss: 0.004400122910737991 | Action Training Loss: 0.19423680007457733 | Action Train Label Accuracy: 95.14195191650619\n"
     ]
    },
    {
     "output_type": "stream",
     "name": "stderr",
     "text": [
      "Testing =>: 100%|██████████| 10/10 [00:01<00:00,  5.44it/s]\n"
     ]
    },
    {
     "output_type": "stream",
     "name": "stdout",
     "text": [
      "Epoch: 21 | Total Testing Loss: 0.5014554858207703 | Pose Testing Loss: 0.003690306795760989 | Action Testing Loss: 0.13242487609386444 | Action Test Label Accuracy: 97.5\n",
      "Starting EPOCH: 23 / 30\n"
     ]
    },
    {
     "output_type": "stream",
     "name": "stderr",
     "text": [
      "Training =>: 100%|██████████| 126/126 [00:29<00:00,  4.32it/s]\n"
     ]
    },
    {
     "output_type": "stream",
     "name": "stdout",
     "text": [
      "Saving at epoch 22\n",
      "Epoch: 22 | Total Training Loss: 0.5954297184944153 | Pose Training Loss: 0.004255352541804314 | Action Training Loss: 0.1698944866657257 | Action Train Label Accuracy: 95.69174380319313\n"
     ]
    },
    {
     "output_type": "stream",
     "name": "stderr",
     "text": [
      "Testing =>: 100%|██████████| 10/10 [00:01<00:00,  5.52it/s]\n"
     ]
    },
    {
     "output_type": "stream",
     "name": "stdout",
     "text": [
      "Epoch: 22 | Total Testing Loss: 0.46493569016456604 | Pose Testing Loss: 0.003570642787963152 | Action Testing Loss: 0.10787143558263779 | Action Test Label Accuracy: 98.08333333333333\n",
      "Starting EPOCH: 24 / 30\n"
     ]
    },
    {
     "output_type": "stream",
     "name": "stderr",
     "text": [
      "Training =>: 100%|██████████| 126/126 [00:30<00:00,  4.20it/s]\n"
     ]
    },
    {
     "output_type": "stream",
     "name": "stdout",
     "text": [
      "Saving at epoch 23\n",
      "Epoch: 23 | Total Training Loss: 0.5630213618278503 | Pose Training Loss: 0.00412291893735528 | Action Training Loss: 0.1507297307252884 | Action Train Label Accuracy: 96.0334223768404\n"
     ]
    },
    {
     "output_type": "stream",
     "name": "stderr",
     "text": [
      "Testing =>: 100%|██████████| 10/10 [00:02<00:00,  4.71it/s]\n"
     ]
    },
    {
     "output_type": "stream",
     "name": "stdout",
     "text": [
      "Epoch: 23 | Total Testing Loss: 0.44215860962867737 | Pose Testing Loss: 0.00349289714358747 | Action Testing Loss: 0.09286892414093018 | Action Test Label Accuracy: 98.16666666666667\n",
      "Starting EPOCH: 25 / 30\n"
     ]
    },
    {
     "output_type": "stream",
     "name": "stderr",
     "text": [
      "Training =>: 100%|██████████| 126/126 [00:29<00:00,  4.25it/s]\n"
     ]
    },
    {
     "output_type": "stream",
     "name": "stdout",
     "text": [
      "Saving at epoch 24\n",
      "Epoch: 24 | Total Training Loss: 0.5287870168685913 | Pose Training Loss: 0.003990016411989927 | Action Training Loss: 0.12978529930114746 | Action Train Label Accuracy: 96.63291296514879\n"
     ]
    },
    {
     "output_type": "stream",
     "name": "stderr",
     "text": [
      "Testing =>: 100%|██████████| 10/10 [00:02<00:00,  4.63it/s]\n"
     ]
    },
    {
     "output_type": "stream",
     "name": "stdout",
     "text": [
      "Epoch: 24 | Total Testing Loss: 0.42629334330558777 | Pose Testing Loss: 0.0034683928824961185 | Action Testing Loss: 0.07945401221513748 | Action Test Label Accuracy: 98.16666666666667\n",
      "Starting EPOCH: 26 / 30\n"
     ]
    },
    {
     "output_type": "stream",
     "name": "stderr",
     "text": [
      "Training =>: 100%|██████████| 126/126 [00:29<00:00,  4.29it/s]\n"
     ]
    },
    {
     "output_type": "stream",
     "name": "stdout",
     "text": [
      "Saving at epoch 25\n",
      "Epoch: 25 | Total Training Loss: 0.5113875269889832 | Pose Training Loss: 0.0038873443845659494 | Action Training Loss: 0.1226532980799675 | Action Train Label Accuracy: 96.71056718643226\n"
     ]
    },
    {
     "output_type": "stream",
     "name": "stderr",
     "text": [
      "Testing =>: 100%|██████████| 10/10 [00:02<00:00,  4.33it/s]\n"
     ]
    },
    {
     "output_type": "stream",
     "name": "stdout",
     "text": [
      "Epoch: 25 | Total Testing Loss: 0.3950822949409485 | Pose Testing Loss: 0.003281459677964449 | Action Testing Loss: 0.06693637371063232 | Action Test Label Accuracy: 98.875\n",
      "Starting EPOCH: 27 / 30\n"
     ]
    },
    {
     "output_type": "stream",
     "name": "stderr",
     "text": [
      "Training =>: 100%|██████████| 126/126 [00:28<00:00,  4.48it/s]\n"
     ]
    },
    {
     "output_type": "stream",
     "name": "stdout",
     "text": [
      "Saving at epoch 26\n",
      "Epoch: 26 | Total Training Loss: 0.4857252836227417 | Pose Training Loss: 0.003774957964196801 | Action Training Loss: 0.10822926461696625 | Action Train Label Accuracy: 97.13611231906566\n"
     ]
    },
    {
     "output_type": "stream",
     "name": "stderr",
     "text": [
      "Testing =>: 100%|██████████| 10/10 [00:02<00:00,  4.44it/s]\n"
     ]
    },
    {
     "output_type": "stream",
     "name": "stdout",
     "text": [
      "Epoch: 26 | Total Testing Loss: 0.3784596025943756 | Pose Testing Loss: 0.003200934501364827 | Action Testing Loss: 0.05836616829037666 | Action Test Label Accuracy: 99.33333333333333\n",
      "Starting EPOCH: 28 / 30\n"
     ]
    },
    {
     "output_type": "stream",
     "name": "stderr",
     "text": [
      "Training =>: 100%|██████████| 126/126 [00:30<00:00,  4.11it/s]\n"
     ]
    },
    {
     "output_type": "stream",
     "name": "stdout",
     "text": [
      "Saving at epoch 27\n",
      "Epoch: 27 | Total Training Loss: 0.4692411422729492 | Pose Training Loss: 0.003682614304125309 | Action Training Loss: 0.100979745388031 | Action Train Label Accuracy: 97.09883829284959\n"
     ]
    },
    {
     "output_type": "stream",
     "name": "stderr",
     "text": [
      "Testing =>: 100%|██████████| 10/10 [00:02<00:00,  4.79it/s]\n"
     ]
    },
    {
     "output_type": "stream",
     "name": "stdout",
     "text": [
      "Epoch: 27 | Total Testing Loss: 0.3716006577014923 | Pose Testing Loss: 0.0031931009143590927 | Action Testing Loss: 0.05229054018855095 | Action Test Label Accuracy: 99.41666666666666\n",
      "Starting EPOCH: 29 / 30\n"
     ]
    },
    {
     "output_type": "stream",
     "name": "stderr",
     "text": [
      "Training =>: 100%|██████████| 126/126 [00:28<00:00,  4.36it/s]\n"
     ]
    },
    {
     "output_type": "stream",
     "name": "stdout",
     "text": [
      "Saving at epoch 28\n",
      "Epoch: 28 | Total Training Loss: 0.4505458474159241 | Pose Training Loss: 0.0035965824499726295 | Action Training Loss: 0.09088759124279022 | Action Train Label Accuracy: 97.3721811517674\n"
     ]
    },
    {
     "output_type": "stream",
     "name": "stderr",
     "text": [
      "Testing =>: 100%|██████████| 10/10 [00:02<00:00,  4.98it/s]\n"
     ]
    },
    {
     "output_type": "stream",
     "name": "stdout",
     "text": [
      "Epoch: 28 | Total Testing Loss: 0.3583279848098755 | Pose Testing Loss: 0.0031420474406331778 | Action Testing Loss: 0.044123243540525436 | Action Test Label Accuracy: 99.5\n",
      "Starting EPOCH: 30 / 30\n"
     ]
    },
    {
     "output_type": "stream",
     "name": "stderr",
     "text": [
      "Training =>: 100%|██████████| 126/126 [00:27<00:00,  4.62it/s]\n"
     ]
    },
    {
     "output_type": "stream",
     "name": "stdout",
     "text": [
      "Saving at epoch 29\n",
      "Epoch: 29 | Total Training Loss: 0.4308996796607971 | Pose Training Loss: 0.003506248816847801 | Action Training Loss: 0.08027482032775879 | Action Train Label Accuracy: 97.85053115487358\n"
     ]
    },
    {
     "output_type": "stream",
     "name": "stderr",
     "text": [
      "Testing =>: 100%|██████████| 10/10 [00:02<00:00,  3.98it/s]\n"
     ]
    },
    {
     "output_type": "stream",
     "name": "stdout",
     "text": [
      "Epoch: 29 | Total Testing Loss: 0.3450351655483246 | Pose Testing Loss: 0.00305281113833189 | Action Testing Loss: 0.03975405916571617 | Action Test Label Accuracy: 99.5\n"
     ]
    },
    {
     "output_type": "display_data",
     "data": {
      "text/plain": [
       "<Figure size 640x480 with 0 Axes>"
      ]
     },
     "metadata": {}
    }
   ],
   "source": [
    "from src.simple_pose_gat.train_and_test import training_loop\n",
    "from argparse import Namespace\n",
    "import os\n",
    "from datetime import datetime\n",
    "timestamp = datetime.now().strftime(\"%Y-%m-%d--%H-%M-%S\")\n",
    "\n",
    "args_dict = {\n",
    "    'learning_rate': 3e-5,\n",
    "    'num_epochs': 30,\n",
    "    'batch_size': 256,\n",
    "    'action_loss_multiplier': 1,\n",
    "    'pose_loss_multiplier': 100,\n",
    "    'training_2d_data_path': os.path.join('datasets', 'custom', 'Processed', 'train_2d_poses.npy'),\n",
    "    'training_3d_data_path': os.path.join('datasets', 'custom', 'Processed', 'train_3d_poses.npy'),\n",
    "    'training_label_path': os.path.join('datasets', 'custom', 'Processed', 'train_actions.npy'),\n",
    "    'testing_2d_data_path': os.path.join('datasets', 'custom', 'Processed', 'test_2d_poses.npy'),\n",
    "    'testing_3d_data_path': os.path.join('datasets', 'custom', 'Processed', 'test_3d_poses.npy'),\n",
    "    'testing_label_path': os.path.join('datasets', 'custom', 'Processed', 'test_actions.npy'),\n",
    "    'save_path': os.path.join('model_outputs', 'simple_pose_gat_custom', timestamp)\n",
    "}\n",
    "args = Namespace(**args_dict)\n",
    "training_loop(args)"
   ]
  },
  {
   "cell_type": "markdown",
   "id": "bc7c042a",
   "metadata": {},
   "source": [
    "<h3><u>4.7. Training Toplogy Adaptive Graph Convolutional model (SimplePoseTAG)</u></h3>"
   ]
  },
  {
   "cell_type": "code",
   "execution_count": null,
   "id": "7dd02582",
   "metadata": {
    "colab": {
     "base_uri": "https://localhost:8080/",
     "height": 1000
    },
    "id": "7k8frUJAOu68",
    "outputId": "94a6fc99-72a6-4586-ed24-a6c52271fda3"
   },
   "outputs": [
    {
     "output_type": "stream",
     "name": "stdout",
     "text": [
      "Training args are: Namespace(learning_rate=3e-05, num_epochs=30, batch_size=256, action_loss_multiplier=1, pose_loss_multiplier=100, training_2d_data_path='datasets/custom/Processed/train_2d_poses.npy', training_3d_data_path='datasets/custom/Processed/train_3d_poses.npy', training_label_path='datasets/custom/Processed/train_actions.npy', testing_2d_data_path='datasets/custom/Processed/test_2d_poses.npy', testing_3d_data_path='datasets/custom/Processed/test_3d_poses.npy', testing_label_path='datasets/custom/Processed/test_actions.npy', save_path='model_outputs/simple_pose_tag_custom/2024-11-17--08-51-33')\n",
      "Starting EPOCH: 1 / 30\n"
     ]
    },
    {
     "output_type": "stream",
     "name": "stderr",
     "text": [
      "Training =>: 100%|██████████| 126/126 [00:24<00:00,  5.16it/s]\n"
     ]
    },
    {
     "output_type": "stream",
     "name": "stdout",
     "text": [
      "Saving at epoch 0\n",
      "Epoch: 0 | Total Training Loss: 24.604963302612305 | Pose Training Loss: 0.22997219860553741 | Action Training Loss: 1.6077426671981812 | Action Train Label Accuracy: 24.485929055103437\n"
     ]
    },
    {
     "output_type": "stream",
     "name": "stderr",
     "text": [
      "Testing =>: 100%|██████████| 10/10 [00:01<00:00,  5.55it/s]\n"
     ]
    },
    {
     "output_type": "stream",
     "name": "stdout",
     "text": [
      "Epoch: 0 | Total Testing Loss: 5.861079216003418 | Pose Testing Loss: 0.04376217722892761 | Action Testing Loss: 1.4848613739013672 | Action Test Label Accuracy: 40.0\n",
      "Starting EPOCH: 2 / 30\n"
     ]
    },
    {
     "output_type": "stream",
     "name": "stderr",
     "text": [
      "Training =>: 100%|██████████| 126/126 [00:24<00:00,  5.08it/s]\n"
     ]
    },
    {
     "output_type": "stream",
     "name": "stdout",
     "text": [
      "Saving at epoch 1\n",
      "Epoch: 1 | Total Training Loss: 12.097752571105957 | Pose Training Loss: 0.10659296065568924 | Action Training Loss: 1.4384592771530151 | Action Train Label Accuracy: 36.643473939243336\n"
     ]
    },
    {
     "output_type": "stream",
     "name": "stderr",
     "text": [
      "Testing =>: 100%|██████████| 10/10 [00:01<00:00,  5.55it/s]\n"
     ]
    },
    {
     "output_type": "stream",
     "name": "stdout",
     "text": [
      "Epoch: 1 | Total Testing Loss: 4.9486002922058105 | Pose Testing Loss: 0.03675764799118042 | Action Testing Loss: 1.272835612297058 | Action Test Label Accuracy: 45.83333333333333\n",
      "Starting EPOCH: 3 / 30\n"
     ]
    },
    {
     "output_type": "stream",
     "name": "stderr",
     "text": [
      "Training =>: 100%|██████████| 126/126 [00:25<00:00,  4.88it/s]\n"
     ]
    },
    {
     "output_type": "stream",
     "name": "stdout",
     "text": [
      "Saving at epoch 2\n",
      "Epoch: 2 | Total Training Loss: 8.253189086914062 | Pose Training Loss: 0.0698033794760704 | Action Training Loss: 1.2728521823883057 | Action Train Label Accuracy: 42.52966391253029\n"
     ]
    },
    {
     "output_type": "stream",
     "name": "stderr",
     "text": [
      "Testing =>: 100%|██████████| 10/10 [00:01<00:00,  5.46it/s]\n"
     ]
    },
    {
     "output_type": "stream",
     "name": "stdout",
     "text": [
      "Epoch: 2 | Total Testing Loss: 4.672059535980225 | Pose Testing Loss: 0.03508434817194939 | Action Testing Loss: 1.1636245250701904 | Action Test Label Accuracy: 58.62500000000001\n",
      "Starting EPOCH: 4 / 30\n"
     ]
    },
    {
     "output_type": "stream",
     "name": "stderr",
     "text": [
      "Training =>: 100%|██████████| 126/126 [00:25<00:00,  5.04it/s]\n"
     ]
    },
    {
     "output_type": "stream",
     "name": "stdout",
     "text": [
      "Saving at epoch 3\n",
      "Epoch: 3 | Total Training Loss: 6.816596508026123 | Pose Training Loss: 0.05628381669521332 | Action Training Loss: 1.1882131099700928 | Action Train Label Accuracy: 45.01770516245263\n"
     ]
    },
    {
     "output_type": "stream",
     "name": "stderr",
     "text": [
      "Testing =>: 100%|██████████| 10/10 [00:01<00:00,  5.50it/s]\n"
     ]
    },
    {
     "output_type": "stream",
     "name": "stdout",
     "text": [
      "Epoch: 3 | Total Testing Loss: 4.427868843078613 | Pose Testing Loss: 0.03301572427153587 | Action Testing Loss: 1.1262962818145752 | Action Test Label Accuracy: 61.291666666666664\n",
      "Starting EPOCH: 5 / 30\n"
     ]
    },
    {
     "output_type": "stream",
     "name": "stderr",
     "text": [
      "Training =>: 100%|██████████| 126/126 [00:25<00:00,  4.97it/s]\n"
     ]
    },
    {
     "output_type": "stream",
     "name": "stdout",
     "text": [
      "Saving at epoch 4\n",
      "Epoch: 4 | Total Training Loss: 6.130388259887695 | Pose Training Loss: 0.049892768263816833 | Action Training Loss: 1.141111135482788 | Action Train Label Accuracy: 46.57700192582469\n"
     ]
    },
    {
     "output_type": "stream",
     "name": "stderr",
     "text": [
      "Testing =>: 100%|██████████| 10/10 [00:01<00:00,  5.20it/s]\n"
     ]
    },
    {
     "output_type": "stream",
     "name": "stdout",
     "text": [
      "Epoch: 4 | Total Testing Loss: 4.177281379699707 | Pose Testing Loss: 0.030838200822472572 | Action Testing Loss: 1.0934619903564453 | Action Test Label Accuracy: 65.79166666666667\n",
      "Starting EPOCH: 6 / 30\n"
     ]
    },
    {
     "output_type": "stream",
     "name": "stderr",
     "text": [
      "Training =>: 100%|██████████| 126/126 [00:24<00:00,  5.07it/s]\n"
     ]
    },
    {
     "output_type": "stream",
     "name": "stdout",
     "text": [
      "Saving at epoch 5\n",
      "Epoch: 5 | Total Training Loss: 5.700883865356445 | Pose Training Loss: 0.04592260718345642 | Action Training Loss: 1.1086233854293823 | Action Train Label Accuracy: 48.875566875815366\n"
     ]
    },
    {
     "output_type": "stream",
     "name": "stderr",
     "text": [
      "Testing =>: 100%|██████████| 10/10 [00:02<00:00,  4.57it/s]\n"
     ]
    },
    {
     "output_type": "stream",
     "name": "stdout",
     "text": [
      "Epoch: 5 | Total Testing Loss: 4.001275539398193 | Pose Testing Loss: 0.029452184215188026 | Action Testing Loss: 1.0560569763183594 | Action Test Label Accuracy: 67.125\n",
      "Starting EPOCH: 7 / 30\n"
     ]
    },
    {
     "output_type": "stream",
     "name": "stderr",
     "text": [
      "Training =>: 100%|██████████| 126/126 [00:25<00:00,  5.01it/s]\n"
     ]
    },
    {
     "output_type": "stream",
     "name": "stdout",
     "text": [
      "Saving at epoch 6\n",
      "Epoch: 6 | Total Training Loss: 5.380367755889893 | Pose Training Loss: 0.04306160286068916 | Action Training Loss: 1.0742082595825195 | Action Train Label Accuracy: 51.79225942722246\n"
     ]
    },
    {
     "output_type": "stream",
     "name": "stderr",
     "text": [
      "Testing =>: 100%|██████████| 10/10 [00:02<00:00,  4.89it/s]\n"
     ]
    },
    {
     "output_type": "stream",
     "name": "stdout",
     "text": [
      "Epoch: 6 | Total Testing Loss: 3.7552459239959717 | Pose Testing Loss: 0.027385283261537552 | Action Testing Loss: 1.0167179107666016 | Action Test Label Accuracy: 71.125\n",
      "Starting EPOCH: 8 / 30\n"
     ]
    },
    {
     "output_type": "stream",
     "name": "stderr",
     "text": [
      "Training =>: 100%|██████████| 126/126 [00:24<00:00,  5.15it/s]\n"
     ]
    },
    {
     "output_type": "stream",
     "name": "stdout",
     "text": [
      "Saving at epoch 7\n",
      "Epoch: 7 | Total Training Loss: 5.102537155151367 | Pose Training Loss: 0.04067090153694153 | Action Training Loss: 1.0354468822479248 | Action Train Label Accuracy: 54.556749704913955\n"
     ]
    },
    {
     "output_type": "stream",
     "name": "stderr",
     "text": [
      "Testing =>: 100%|██████████| 10/10 [00:02<00:00,  4.42it/s]\n"
     ]
    },
    {
     "output_type": "stream",
     "name": "stdout",
     "text": [
      "Epoch: 7 | Total Testing Loss: 3.521557331085205 | Pose Testing Loss: 0.025540530681610107 | Action Testing Loss: 0.9675043225288391 | Action Test Label Accuracy: 74.25\n",
      "Starting EPOCH: 9 / 30\n"
     ]
    },
    {
     "output_type": "stream",
     "name": "stderr",
     "text": [
      "Training =>: 100%|██████████| 126/126 [00:25<00:00,  4.99it/s]\n"
     ]
    },
    {
     "output_type": "stream",
     "name": "stdout",
     "text": [
      "Saving at epoch 8\n",
      "Epoch: 8 | Total Training Loss: 4.829096794128418 | Pose Training Loss: 0.03849945589900017 | Action Training Loss: 0.9791510701179504 | Action Train Label Accuracy: 58.74075914766726\n"
     ]
    },
    {
     "output_type": "stream",
     "name": "stderr",
     "text": [
      "Testing =>: 100%|██████████| 10/10 [00:02<00:00,  4.41it/s]\n"
     ]
    },
    {
     "output_type": "stream",
     "name": "stdout",
     "text": [
      "Epoch: 8 | Total Testing Loss: 3.2820236682891846 | Pose Testing Loss: 0.023879364132881165 | Action Testing Loss: 0.8940872550010681 | Action Test Label Accuracy: 72.91666666666666\n",
      "Starting EPOCH: 10 / 30\n"
     ]
    },
    {
     "output_type": "stream",
     "name": "stderr",
     "text": [
      "Training =>: 100%|██████████| 126/126 [00:25<00:00,  5.00it/s]\n"
     ]
    },
    {
     "output_type": "stream",
     "name": "stdout",
     "text": [
      "Saving at epoch 9\n",
      "Epoch: 9 | Total Training Loss: 4.539920806884766 | Pose Training Loss: 0.03640567883849144 | Action Training Loss: 0.8993526101112366 | Action Train Label Accuracy: 63.281978008324536\n"
     ]
    },
    {
     "output_type": "stream",
     "name": "stderr",
     "text": [
      "Testing =>: 100%|██████████| 10/10 [00:01<00:00,  5.10it/s]\n"
     ]
    },
    {
     "output_type": "stream",
     "name": "stdout",
     "text": [
      "Epoch: 9 | Total Testing Loss: 2.9344980716705322 | Pose Testing Loss: 0.021476266905665398 | Action Testing Loss: 0.7868713140487671 | Action Test Label Accuracy: 78.0\n",
      "Starting EPOCH: 11 / 30\n"
     ]
    },
    {
     "output_type": "stream",
     "name": "stderr",
     "text": [
      "Training =>: 100%|██████████| 126/126 [00:24<00:00,  5.05it/s]\n"
     ]
    },
    {
     "output_type": "stream",
     "name": "stdout",
     "text": [
      "Saving at epoch 10\n",
      "Epoch: 10 | Total Training Loss: 4.264094352722168 | Pose Training Loss: 0.03446154296398163 | Action Training Loss: 0.8179416656494141 | Action Train Label Accuracy: 66.40678387277133\n"
     ]
    },
    {
     "output_type": "stream",
     "name": "stderr",
     "text": [
      "Testing =>: 100%|██████████| 10/10 [00:02<00:00,  4.88it/s]\n"
     ]
    },
    {
     "output_type": "stream",
     "name": "stdout",
     "text": [
      "Epoch: 10 | Total Testing Loss: 2.628223419189453 | Pose Testing Loss: 0.019357552751898766 | Action Testing Loss: 0.6924678087234497 | Action Test Label Accuracy: 78.25\n",
      "Starting EPOCH: 12 / 30\n"
     ]
    },
    {
     "output_type": "stream",
     "name": "stderr",
     "text": [
      "Training =>: 100%|██████████| 126/126 [00:24<00:00,  5.16it/s]\n"
     ]
    },
    {
     "output_type": "stream",
     "name": "stdout",
     "text": [
      "Saving at epoch 11\n",
      "Epoch: 11 | Total Training Loss: 4.004626274108887 | Pose Training Loss: 0.03265868127346039 | Action Training Loss: 0.7387587428092957 | Action Train Label Accuracy: 68.5438280424924\n"
     ]
    },
    {
     "output_type": "stream",
     "name": "stderr",
     "text": [
      "Testing =>: 100%|██████████| 10/10 [00:02<00:00,  4.90it/s]\n"
     ]
    },
    {
     "output_type": "stream",
     "name": "stdout",
     "text": [
      "Epoch: 11 | Total Testing Loss: 2.3730692863464355 | Pose Testing Loss: 0.017610684037208557 | Action Testing Loss: 0.6120006442070007 | Action Test Label Accuracy: 79.08333333333334\n",
      "Starting EPOCH: 13 / 30\n"
     ]
    },
    {
     "output_type": "stream",
     "name": "stderr",
     "text": [
      "Training =>: 100%|██████████| 126/126 [00:25<00:00,  4.93it/s]\n"
     ]
    },
    {
     "output_type": "stream",
     "name": "stdout",
     "text": [
      "Saving at epoch 12\n",
      "Epoch: 12 | Total Training Loss: 3.781144142150879 | Pose Training Loss: 0.031034525483846664 | Action Training Loss: 0.6776904463768005 | Action Train Label Accuracy: 70.24600857302603\n"
     ]
    },
    {
     "output_type": "stream",
     "name": "stderr",
     "text": [
      "Testing =>: 100%|██████████| 10/10 [00:01<00:00,  5.26it/s]\n"
     ]
    },
    {
     "output_type": "stream",
     "name": "stdout",
     "text": [
      "Epoch: 12 | Total Testing Loss: 2.1424129009246826 | Pose Testing Loss: 0.01594742387533188 | Action Testing Loss: 0.5476707220077515 | Action Test Label Accuracy: 79.625\n",
      "Starting EPOCH: 14 / 30\n"
     ]
    },
    {
     "output_type": "stream",
     "name": "stderr",
     "text": [
      "Training =>: 100%|██████████| 126/126 [00:25<00:00,  4.94it/s]\n"
     ]
    },
    {
     "output_type": "stream",
     "name": "stdout",
     "text": [
      "Saving at epoch 13\n",
      "Epoch: 13 | Total Training Loss: 3.5937533378601074 | Pose Training Loss: 0.029595455154776573 | Action Training Loss: 0.6342069506645203 | Action Train Label Accuracy: 71.40150338572406\n"
     ]
    },
    {
     "output_type": "stream",
     "name": "stderr",
     "text": [
      "Testing =>: 100%|██████████| 10/10 [00:01<00:00,  5.18it/s]\n"
     ]
    },
    {
     "output_type": "stream",
     "name": "stdout",
     "text": [
      "Epoch: 13 | Total Testing Loss: 1.985192894935608 | Pose Testing Loss: 0.014636816456913948 | Action Testing Loss: 0.5215112566947937 | Action Test Label Accuracy: 79.33333333333333\n",
      "Starting EPOCH: 15 / 30\n"
     ]
    },
    {
     "output_type": "stream",
     "name": "stderr",
     "text": [
      "Training =>: 100%|██████████| 126/126 [00:25<00:00,  4.89it/s]\n"
     ]
    },
    {
     "output_type": "stream",
     "name": "stdout",
     "text": [
      "Saving at epoch 14\n",
      "Epoch: 14 | Total Training Loss: 3.4012482166290283 | Pose Training Loss: 0.02809671126306057 | Action Training Loss: 0.5915773510932922 | Action Train Label Accuracy: 73.24967385227062\n"
     ]
    },
    {
     "output_type": "stream",
     "name": "stderr",
     "text": [
      "Testing =>: 100%|██████████| 10/10 [00:01<00:00,  5.33it/s]\n"
     ]
    },
    {
     "output_type": "stream",
     "name": "stdout",
     "text": [
      "Epoch: 14 | Total Testing Loss: 1.801714539527893 | Pose Testing Loss: 0.013378671370446682 | Action Testing Loss: 0.46384739875793457 | Action Test Label Accuracy: 81.29166666666666\n",
      "Starting EPOCH: 16 / 30\n"
     ]
    },
    {
     "output_type": "stream",
     "name": "stderr",
     "text": [
      "Training =>: 100%|██████████| 126/126 [00:25<00:00,  4.92it/s]\n"
     ]
    },
    {
     "output_type": "stream",
     "name": "stdout",
     "text": [
      "Saving at epoch 15\n",
      "Epoch: 15 | Total Training Loss: 3.228895664215088 | Pose Training Loss: 0.026718586683273315 | Action Training Loss: 0.557037889957428 | Action Train Label Accuracy: 75.38982419084302\n"
     ]
    },
    {
     "output_type": "stream",
     "name": "stderr",
     "text": [
      "Testing =>: 100%|██████████| 10/10 [00:02<00:00,  4.97it/s]\n"
     ]
    },
    {
     "output_type": "stream",
     "name": "stdout",
     "text": [
      "Epoch: 15 | Total Testing Loss: 1.6028164625167847 | Pose Testing Loss: 0.01179039478302002 | Action Testing Loss: 0.4237770140171051 | Action Test Label Accuracy: 82.625\n",
      "Starting EPOCH: 17 / 30\n"
     ]
    },
    {
     "output_type": "stream",
     "name": "stderr",
     "text": [
      "Training =>: 100%|██████████| 126/126 [00:24<00:00,  5.05it/s]\n"
     ]
    },
    {
     "output_type": "stream",
     "name": "stdout",
     "text": [
      "Saving at epoch 16\n",
      "Epoch: 16 | Total Training Loss: 3.0400192737579346 | Pose Training Loss: 0.025258399546146393 | Action Training Loss: 0.5141792297363281 | Action Train Label Accuracy: 78.53637323724918\n"
     ]
    },
    {
     "output_type": "stream",
     "name": "stderr",
     "text": [
      "Testing =>: 100%|██████████| 10/10 [00:02<00:00,  4.83it/s]\n"
     ]
    },
    {
     "output_type": "stream",
     "name": "stdout",
     "text": [
      "Epoch: 16 | Total Testing Loss: 1.543251395225525 | Pose Testing Loss: 0.011270416900515556 | Action Testing Loss: 0.41620951890945435 | Action Test Label Accuracy: 82.45833333333333\n",
      "Starting EPOCH: 18 / 30\n"
     ]
    },
    {
     "output_type": "stream",
     "name": "stderr",
     "text": [
      "Training =>: 100%|██████████| 126/126 [00:24<00:00,  5.05it/s]\n"
     ]
    },
    {
     "output_type": "stream",
     "name": "stdout",
     "text": [
      "Saving at epoch 17\n",
      "Epoch: 17 | Total Training Loss: 2.8731439113616943 | Pose Training Loss: 0.024078819900751114 | Action Training Loss: 0.4652617573738098 | Action Train Label Accuracy: 81.94073429831646\n"
     ]
    },
    {
     "output_type": "stream",
     "name": "stderr",
     "text": [
      "Testing =>: 100%|██████████| 10/10 [00:02<00:00,  4.71it/s]\n"
     ]
    },
    {
     "output_type": "stream",
     "name": "stdout",
     "text": [
      "Epoch: 17 | Total Testing Loss: 1.3423446416854858 | Pose Testing Loss: 0.009921792894601822 | Action Testing Loss: 0.3501652181148529 | Action Test Label Accuracy: 87.625\n",
      "Starting EPOCH: 19 / 30\n"
     ]
    },
    {
     "output_type": "stream",
     "name": "stderr",
     "text": [
      "Training =>: 100%|██████████| 126/126 [00:24<00:00,  5.15it/s]\n"
     ]
    },
    {
     "output_type": "stream",
     "name": "stdout",
     "text": [
      "Saving at epoch 18\n",
      "Epoch: 18 | Total Training Loss: 2.7040860652923584 | Pose Training Loss: 0.023028358817100525 | Action Training Loss: 0.40125027298927307 | Action Train Label Accuracy: 86.01292166242158\n"
     ]
    },
    {
     "output_type": "stream",
     "name": "stderr",
     "text": [
      "Testing =>: 100%|██████████| 10/10 [00:02<00:00,  4.35it/s]\n"
     ]
    },
    {
     "output_type": "stream",
     "name": "stdout",
     "text": [
      "Epoch: 18 | Total Testing Loss: 1.306970477104187 | Pose Testing Loss: 0.009735936298966408 | Action Testing Loss: 0.33337685465812683 | Action Test Label Accuracy: 89.08333333333334\n",
      "Starting EPOCH: 20 / 30\n"
     ]
    },
    {
     "output_type": "stream",
     "name": "stderr",
     "text": [
      "Training =>: 100%|██████████| 126/126 [00:24<00:00,  5.06it/s]\n"
     ]
    },
    {
     "output_type": "stream",
     "name": "stdout",
     "text": [
      "Saving at epoch 19\n",
      "Epoch: 19 | Total Training Loss: 2.5368576049804688 | Pose Training Loss: 0.02221865765750408 | Action Training Loss: 0.3149925172328949 | Action Train Label Accuracy: 90.63490091321364\n"
     ]
    },
    {
     "output_type": "stream",
     "name": "stderr",
     "text": [
      "Testing =>: 100%|██████████| 10/10 [00:02<00:00,  4.33it/s]\n"
     ]
    },
    {
     "output_type": "stream",
     "name": "stdout",
     "text": [
      "Epoch: 19 | Total Testing Loss: 1.0858885049819946 | Pose Testing Loss: 0.008921866305172443 | Action Testing Loss: 0.19370190799236298 | Action Test Label Accuracy: 94.58333333333333\n",
      "Starting EPOCH: 21 / 30\n"
     ]
    },
    {
     "output_type": "stream",
     "name": "stderr",
     "text": [
      "Training =>: 100%|██████████| 126/126 [00:25<00:00,  5.00it/s]\n"
     ]
    },
    {
     "output_type": "stream",
     "name": "stdout",
     "text": [
      "Saving at epoch 20\n",
      "Epoch: 20 | Total Training Loss: 2.392704486846924 | Pose Training Loss: 0.021417217329144478 | Action Training Loss: 0.2509821653366089 | Action Train Label Accuracy: 93.13847300739269\n"
     ]
    },
    {
     "output_type": "stream",
     "name": "stderr",
     "text": [
      "Testing =>: 100%|██████████| 10/10 [00:01<00:00,  5.16it/s]\n"
     ]
    },
    {
     "output_type": "stream",
     "name": "stdout",
     "text": [
      "Epoch: 20 | Total Testing Loss: 1.085976481437683 | Pose Testing Loss: 0.008648441173136234 | Action Testing Loss: 0.22113235294818878 | Action Test Label Accuracy: 90.33333333333333\n",
      "Starting EPOCH: 22 / 30\n"
     ]
    },
    {
     "output_type": "stream",
     "name": "stderr",
     "text": [
      "Training =>: 100%|██████████| 126/126 [00:25<00:00,  5.03it/s]\n"
     ]
    },
    {
     "output_type": "stream",
     "name": "stdout",
     "text": [
      "Saving at epoch 21\n",
      "Epoch: 21 | Total Training Loss: 2.2785274982452393 | Pose Training Loss: 0.020735878497362137 | Action Training Loss: 0.20493939518928528 | Action Train Label Accuracy: 94.56731067900851\n"
     ]
    },
    {
     "output_type": "stream",
     "name": "stderr",
     "text": [
      "Testing =>: 100%|██████████| 10/10 [00:02<00:00,  4.81it/s]\n"
     ]
    },
    {
     "output_type": "stream",
     "name": "stdout",
     "text": [
      "Epoch: 21 | Total Testing Loss: 0.8280550241470337 | Pose Testing Loss: 0.0074910991825163364 | Action Testing Loss: 0.07894500344991684 | Action Test Label Accuracy: 98.45833333333334\n",
      "Starting EPOCH: 23 / 30\n"
     ]
    },
    {
     "output_type": "stream",
     "name": "stderr",
     "text": [
      "Training =>: 100%|██████████| 126/126 [00:25<00:00,  4.95it/s]\n"
     ]
    },
    {
     "output_type": "stream",
     "name": "stdout",
     "text": [
      "Saving at epoch 22\n",
      "Epoch: 22 | Total Training Loss: 2.182511806488037 | Pose Training Loss: 0.020160475745797157 | Action Training Loss: 0.166464701294899 | Action Train Label Accuracy: 95.86879542771946\n"
     ]
    },
    {
     "output_type": "stream",
     "name": "stderr",
     "text": [
      "Testing =>: 100%|██████████| 10/10 [00:02<00:00,  4.92it/s]\n"
     ]
    },
    {
     "output_type": "stream",
     "name": "stdout",
     "text": [
      "Epoch: 22 | Total Testing Loss: 0.7566310167312622 | Pose Testing Loss: 0.006961257662624121 | Action Testing Loss: 0.06050524115562439 | Action Test Label Accuracy: 99.16666666666667\n",
      "Starting EPOCH: 24 / 30\n"
     ]
    },
    {
     "output_type": "stream",
     "name": "stderr",
     "text": [
      "Training =>: 100%|██████████| 126/126 [00:25<00:00,  4.91it/s]\n"
     ]
    },
    {
     "output_type": "stream",
     "name": "stdout",
     "text": [
      "Saving at epoch 23\n",
      "Epoch: 23 | Total Training Loss: 2.095309257507324 | Pose Training Loss: 0.019559187814593315 | Action Training Loss: 0.13939037919044495 | Action Train Label Accuracy: 96.72609803068895\n"
     ]
    },
    {
     "output_type": "stream",
     "name": "stderr",
     "text": [
      "Testing =>: 100%|██████████| 10/10 [00:02<00:00,  4.81it/s]\n"
     ]
    },
    {
     "output_type": "stream",
     "name": "stdout",
     "text": [
      "Epoch: 23 | Total Testing Loss: 0.7344331741333008 | Pose Testing Loss: 0.007027387619018555 | Action Testing Loss: 0.031694453209638596 | Action Test Label Accuracy: 100.0\n",
      "Starting EPOCH: 25 / 30\n"
     ]
    },
    {
     "output_type": "stream",
     "name": "stderr",
     "text": [
      "Training =>: 100%|██████████| 126/126 [00:25<00:00,  4.93it/s]\n"
     ]
    },
    {
     "output_type": "stream",
     "name": "stdout",
     "text": [
      "Saving at epoch 24\n",
      "Epoch: 24 | Total Training Loss: 2.013103485107422 | Pose Training Loss: 0.018964966759085655 | Action Training Loss: 0.11660662293434143 | Action Train Label Accuracy: 97.44051686649686\n"
     ]
    },
    {
     "output_type": "stream",
     "name": "stderr",
     "text": [
      "Testing =>: 100%|██████████| 10/10 [00:01<00:00,  5.02it/s]\n"
     ]
    },
    {
     "output_type": "stream",
     "name": "stdout",
     "text": [
      "Epoch: 24 | Total Testing Loss: 0.6455315351486206 | Pose Testing Loss: 0.006191509775817394 | Action Testing Loss: 0.0263805091381073 | Action Test Label Accuracy: 100.0\n",
      "Starting EPOCH: 26 / 30\n"
     ]
    },
    {
     "output_type": "stream",
     "name": "stderr",
     "text": [
      "Training =>: 100%|██████████| 126/126 [00:25<00:00,  4.88it/s]\n"
     ]
    },
    {
     "output_type": "stream",
     "name": "stdout",
     "text": [
      "Saving at epoch 25\n",
      "Epoch: 25 | Total Training Loss: 1.9518983364105225 | Pose Training Loss: 0.018499888479709625 | Action Training Loss: 0.1019093245267868 | Action Train Label Accuracy: 97.73560290737404\n"
     ]
    },
    {
     "output_type": "stream",
     "name": "stderr",
     "text": [
      "Testing =>: 100%|██████████| 10/10 [00:01<00:00,  5.09it/s]\n"
     ]
    },
    {
     "output_type": "stream",
     "name": "stdout",
     "text": [
      "Epoch: 25 | Total Testing Loss: 0.6117373704910278 | Pose Testing Loss: 0.005883154459297657 | Action Testing Loss: 0.023421943187713623 | Action Test Label Accuracy: 100.0\n",
      "Starting EPOCH: 27 / 30\n"
     ]
    },
    {
     "output_type": "stream",
     "name": "stderr",
     "text": [
      "Training =>: 100%|██████████| 126/126 [00:26<00:00,  4.76it/s]\n"
     ]
    },
    {
     "output_type": "stream",
     "name": "stdout",
     "text": [
      "Saving at epoch 26\n",
      "Epoch: 26 | Total Training Loss: 1.8873393535614014 | Pose Training Loss: 0.017983732745051384 | Action Training Loss: 0.0889657512307167 | Action Train Label Accuracy: 98.0369012859539\n"
     ]
    },
    {
     "output_type": "stream",
     "name": "stderr",
     "text": [
      "Testing =>: 100%|██████████| 10/10 [00:01<00:00,  5.12it/s]\n"
     ]
    },
    {
     "output_type": "stream",
     "name": "stdout",
     "text": [
      "Epoch: 26 | Total Testing Loss: 0.6068246960639954 | Pose Testing Loss: 0.005937904119491577 | Action Testing Loss: 0.013034261763095856 | Action Test Label Accuracy: 99.95833333333334\n",
      "Starting EPOCH: 28 / 30\n"
     ]
    },
    {
     "output_type": "stream",
     "name": "stderr",
     "text": [
      "Training =>: 100%|██████████| 126/126 [00:25<00:00,  4.94it/s]\n"
     ]
    },
    {
     "output_type": "stream",
     "name": "stdout",
     "text": [
      "Saving at epoch 27\n",
      "Epoch: 27 | Total Training Loss: 1.835940957069397 | Pose Training Loss: 0.01757536642253399 | Action Training Loss: 0.07840480655431747 | Action Train Label Accuracy: 98.3816860284525\n"
     ]
    },
    {
     "output_type": "stream",
     "name": "stderr",
     "text": [
      "Testing =>: 100%|██████████| 10/10 [00:01<00:00,  5.09it/s]\n"
     ]
    },
    {
     "output_type": "stream",
     "name": "stdout",
     "text": [
      "Epoch: 27 | Total Testing Loss: 0.5772802233695984 | Pose Testing Loss: 0.005662480369210243 | Action Testing Loss: 0.011032248847186565 | Action Test Label Accuracy: 100.0\n",
      "Starting EPOCH: 29 / 30\n"
     ]
    },
    {
     "output_type": "stream",
     "name": "stderr",
     "text": [
      "Training =>: 100%|██████████| 126/126 [00:24<00:00,  5.10it/s]\n"
     ]
    },
    {
     "output_type": "stream",
     "name": "stdout",
     "text": [
      "Saving at epoch 28\n",
      "Epoch: 28 | Total Training Loss: 1.7913509607315063 | Pose Training Loss: 0.017214156687259674 | Action Training Loss: 0.06993512809276581 | Action Train Label Accuracy: 98.59601167919489\n"
     ]
    },
    {
     "output_type": "stream",
     "name": "stderr",
     "text": [
      "Testing =>: 100%|██████████| 10/10 [00:02<00:00,  3.83it/s]\n"
     ]
    },
    {
     "output_type": "stream",
     "name": "stdout",
     "text": [
      "Epoch: 28 | Total Testing Loss: 0.645545482635498 | Pose Testing Loss: 0.0059052444994449615 | Action Testing Loss: 0.0550210177898407 | Action Test Label Accuracy: 97.16666666666667\n",
      "Starting EPOCH: 30 / 30\n"
     ]
    },
    {
     "output_type": "stream",
     "name": "stderr",
     "text": [
      "Training =>: 100%|██████████| 126/126 [00:24<00:00,  5.08it/s]\n"
     ]
    },
    {
     "output_type": "stream",
     "name": "stdout",
     "text": [
      "Saving at epoch 29\n",
      "Epoch: 29 | Total Training Loss: 1.752930760383606 | Pose Training Loss: 0.016896378248929977 | Action Training Loss: 0.06329337507486343 | Action Train Label Accuracy: 98.77616947257253\n"
     ]
    },
    {
     "output_type": "stream",
     "name": "stderr",
     "text": [
      "Testing =>: 100%|██████████| 10/10 [00:02<00:00,  4.76it/s]\n"
     ]
    },
    {
     "output_type": "stream",
     "name": "stdout",
     "text": [
      "Epoch: 29 | Total Testing Loss: 0.5635214447975159 | Pose Testing Loss: 0.005169626325368881 | Action Testing Loss: 0.04655873775482178 | Action Test Label Accuracy: 98.08333333333333\n"
     ]
    },
    {
     "output_type": "display_data",
     "data": {
      "text/plain": [
       "<Figure size 640x480 with 0 Axes>"
      ]
     },
     "metadata": {}
    }
   ],
   "source": [
    "from src.simple_pose_tag.train_and_test import training_loop\n",
    "from argparse import Namespace\n",
    "import os\n",
    "from datetime import datetime\n",
    "timestamp = datetime.now().strftime(\"%Y-%m-%d--%H-%M-%S\")\n",
    "\n",
    "args_dict = {\n",
    "    'learning_rate': 3e-5,\n",
    "    'num_epochs': 30,\n",
    "    'batch_size': 256,\n",
    "    'action_loss_multiplier': 1,\n",
    "    'pose_loss_multiplier': 100,\n",
    "    'training_2d_data_path': os.path.join('datasets', 'custom', 'Processed', 'train_2d_poses.npy'),\n",
    "    'training_3d_data_path': os.path.join('datasets', 'custom', 'Processed', 'train_3d_poses.npy'),\n",
    "    'training_label_path': os.path.join('datasets', 'custom', 'Processed', 'train_actions.npy'),\n",
    "    'testing_2d_data_path': os.path.join('datasets', 'custom', 'Processed', 'test_2d_poses.npy'),\n",
    "    'testing_3d_data_path': os.path.join('datasets', 'custom', 'Processed', 'test_3d_poses.npy'),\n",
    "    'testing_label_path': os.path.join('datasets', 'custom', 'Processed', 'test_actions.npy'),\n",
    "    'save_path': os.path.join('model_outputs', 'simple_pose_tag_custom', timestamp)\n",
    "}\n",
    "args = Namespace(**args_dict)\n",
    "training_loop(args)"
   ]
  },
  {
   "cell_type": "markdown",
   "id": "e1f66435",
   "metadata": {},
   "source": [
    "<h2><u>5. Evaluation </u></h2>\n",
    "\n",
    "In this section we will be showing the training and testing graphs for each model across both datasets along with confusion matrices for each model. \n",
    "\n",
    "Before you run the cells below, you will need to download the final_weights.zip from our Google Drive Link.\n",
    "\n",
    "**Please run all the cells in this section to generate the graphs and the confusion matrices. We use the same image names for our explanation below**\n",
    "\n",
    "To evaluate our models, we have decided to use these metrics.\n",
    "\n",
    "1. Pose Loss: To measure the pose loss per epoch using Mean Squared Loss\n",
    "2. Label Loss: To measure the label loss per epoch using Cross Entropy Loss\n",
    "3. Total Loss: To measure our multitasking loss per epoch using this formula: pose_loss_multiplier * pose_loss + action_loss_multiplier * action_loss where pose_loss_multiplier = 100 and action_loss_multiplier = 1\n",
    "4. Accuracies: To measure the number of right label predictions per epoch"
   ]
  },
  {
   "cell_type": "markdown",
   "id": "043e8b61",
   "metadata": {},
   "source": [
    "<h3><u>5.1 Human 3.6M Dataset </u></h3>"
   ]
  },
  {
   "cell_type": "code",
   "execution_count": 2,
   "id": "d8490601",
   "metadata": {},
   "outputs": [
    {
     "name": "stderr",
     "output_type": "stream",
     "text": [
      "100%|██████████| 293/293 [00:01<00:00, 236.05it/s] 243.45it/s]\n",
      "Testing =>: 100%|██████████| 293/293 [00:01<00:00, 235.87it/s]\n"
     ]
    },
    {
     "name": "stdout",
     "output_type": "stream",
     "text": [
      "Confusion Matrix Without Normalization\n"
     ]
    },
    {
     "name": "stderr",
     "output_type": "stream",
     "text": [
      "Testing =>: 100%|██████████| 293/293 [01:35<00:00,  3.07it/s]\n"
     ]
    },
    {
     "name": "stdout",
     "output_type": "stream",
     "text": [
      "Confusion Matrix Without Normalization\n"
     ]
    },
    {
     "name": "stderr",
     "output_type": "stream",
     "text": [
      "Testing =>: 100%|██████████| 293/293 [01:48<00:00,  2.70it/s]\n"
     ]
    },
    {
     "name": "stdout",
     "output_type": "stream",
     "text": [
      "Confusion Matrix Without Normalization\n"
     ]
    },
    {
     "name": "stderr",
     "output_type": "stream",
     "text": [
      "Testing =>: 100%|██████████| 293/293 [01:35<00:00,  3.06it/s]\n"
     ]
    },
    {
     "name": "stdout",
     "output_type": "stream",
     "text": [
      "Confusion Matrix Without Normalization\n"
     ]
    }
   ],
   "source": [
    "\n",
    "# Prepare the loss and accuracies graphs\n",
    "import os\n",
    "from utils.visualization_utils import save_fig\n",
    "\n",
    "TESTING_2D_DATA_PATH = os.path.join('datasets', 'h36m', 'Processed', 'test_2d_poses.npy')\n",
    "TESTING_3D_DATA_PATH =  os.path.join('datasets', 'h36m', 'Processed', 'test_3d_poses.npy')\n",
    "TESTING_LABEL_PATH = os.path.join('datasets', 'h36m', 'Processed', 'test_actions.npy')\n",
    "SAVE_PATH = os.path.join('visualizations', 'graphs', 'h36m')\n",
    "\n",
    "save_files = {\n",
    "    'SimplePose': os.path.join('final_weights', 'h36m', 'simple_pose_h36m.pth'),\n",
    "    'SimplePoseGNN': os.path.join('final_weights', 'h36m', \"simple_pose_gnn_h36m.pth\"),\n",
    "    'SimplePoseGAT': os.path.join('final_weights', 'h36m', \"simple_pose_gat_h36m.pth\"), \n",
    "    'SimplePoseTAG': os.path.join('final_weights', 'h36m', \"simple_pose_tag_h36m.pth\"),\n",
    "}\n",
    "\n",
    "save_fig(save_files, 'h36m', SAVE_PATH)\n",
    "\n",
    "\n",
    "from src.simple_pose.train_and_test import generate_confusion_matrix\n",
    "generate_confusion_matrix(\n",
    "    weights_path=save_files['SimplePose'],\n",
    "    save_path=SAVE_PATH,\n",
    "    testing_2d_path= TESTING_2D_DATA_PATH,\n",
    "    testing_3d_path= TESTING_3D_DATA_PATH,\n",
    "    testing_label_path= TESTING_LABEL_PATH\n",
    ")\n",
    "\n",
    "from src.simple_pose_gnn.train_and_test import generate_confusion_matrix\n",
    "generate_confusion_matrix(\n",
    "    weights_path=save_files['SimplePoseGNN'],\n",
    "    save_path=SAVE_PATH,\n",
    "    testing_2d_path= TESTING_2D_DATA_PATH,\n",
    "    testing_3d_path= TESTING_3D_DATA_PATH,\n",
    "    testing_label_path= TESTING_LABEL_PATH\n",
    ")\n",
    "\n",
    "from src.simple_pose_gat.train_and_test import generate_confusion_matrix\n",
    "generate_confusion_matrix(\n",
    "    weights_path=save_files['SimplePoseGAT'],\n",
    "    save_path=SAVE_PATH,\n",
    "    testing_2d_path= TESTING_2D_DATA_PATH,\n",
    "    testing_3d_path= TESTING_3D_DATA_PATH,\n",
    "    testing_label_path= TESTING_LABEL_PATH\n",
    ")\n",
    "\n",
    "from src.simple_pose_tag.train_and_test import generate_confusion_matrix\n",
    "generate_confusion_matrix(\n",
    "    weights_path=save_files['SimplePoseTAG'],\n",
    "    save_path=SAVE_PATH,\n",
    "    testing_2d_path= TESTING_2D_DATA_PATH,\n",
    "    testing_3d_path= TESTING_3D_DATA_PATH,\n",
    "    testing_label_path= TESTING_LABEL_PATH\n",
    ")"
   ]
  },
  {
   "cell_type": "markdown",
   "id": "304a6ad6",
   "metadata": {},
   "source": [
    "<h4>Accuracies and Confusion Matrices</h4>"
   ]
  },
  {
   "cell_type": "markdown",
   "id": "25236790",
   "metadata": {},
   "source": [
    "<h5>Human 3.6M Confusion Matrix</h5>\n",
    "\n",
    "\n",
    "| SimplePose| SimplePoseGNN |\n",
    "|---------------|---------------|\n",
    "|![SimplePose](./visualizations/graphs/h36m/SimplePose_conf_matrix.png)|![SimplePoseGNN](./visualizations/graphs/h36m/SimplePoseGNN_conf_matrix.png)|\n",
    "|SimplePoseGAT| SimplePoseTAG|\n",
    "| ![SimplePoseGAT](./visualizations/graphs/h36m/SimplePoseGAT_conf_matrix.png) | ![SimplePoseTAG](./visualizations/graphs/h36m/SimplePoseTAG_conf_matrix.png) |\n",
    "\n",
    "\n",
    "<h5>Human 3.6M Accuracies</h5>\n",
    "\n",
    "| All Models Training Accuracies | All Models Testing Accuracies |\n",
    "|---------------|---------------|\n",
    "|![All Models Training Accuracies ](./visualizations/graphs/h36m/h36m_training_accuracies.png)|![All Models Testing Accuracies](./visualizations/graphs/h36m/h36m_testing_accuracies.png)|\n"
   ]
  },
  {
   "cell_type": "markdown",
   "id": "9bd63933",
   "metadata": {},
   "source": [
    "<h3><u>5.2 Custom Dataset </u></h3>"
   ]
  },
  {
   "cell_type": "code",
   "execution_count": null,
   "id": "d21bb5e6",
   "metadata": {},
   "outputs": [],
   "source": []
  },
  {
   "cell_type": "code",
   "execution_count": 3,
   "id": "fe8e4486",
   "metadata": {},
   "outputs": [
    {
     "name": "stderr",
     "output_type": "stream",
     "text": [
      "100%|██████████| 10/10 [00:00<00:00, 83.70it/s] 84.20it/s]\n",
      "Testing =>: 100%|██████████| 10/10 [00:00<00:00, 82.18it/s]\n"
     ]
    },
    {
     "name": "stdout",
     "output_type": "stream",
     "text": [
      "Confusion Matrix Without Normalization\n"
     ]
    },
    {
     "name": "stderr",
     "output_type": "stream",
     "text": [
      "Testing =>: 100%|██████████| 10/10 [00:03<00:00,  2.89it/s]\n"
     ]
    },
    {
     "name": "stdout",
     "output_type": "stream",
     "text": [
      "Confusion Matrix Without Normalization\n"
     ]
    },
    {
     "name": "stderr",
     "output_type": "stream",
     "text": [
      "Testing =>: 100%|██████████| 10/10 [00:04<00:00,  2.43it/s]\n"
     ]
    },
    {
     "name": "stdout",
     "output_type": "stream",
     "text": [
      "Confusion Matrix Without Normalization\n"
     ]
    },
    {
     "name": "stderr",
     "output_type": "stream",
     "text": [
      "Testing =>: 100%|██████████| 10/10 [00:06<00:00,  1.55it/s]\n"
     ]
    },
    {
     "name": "stdout",
     "output_type": "stream",
     "text": [
      "Confusion Matrix Without Normalization\n"
     ]
    }
   ],
   "source": [
    "\n",
    "# Prepare the loss and accuracies graphs\n",
    "import os\n",
    "from utils.visualization_utils import save_fig\n",
    "\n",
    "TESTING_2D_DATA_PATH = os.path.join('datasets', 'custom', 'Processed', 'test_2d_poses.npy')\n",
    "TESTING_3D_DATA_PATH =  os.path.join('datasets', 'custom', 'Processed', 'test_3d_poses.npy')\n",
    "TESTING_LABEL_PATH = os.path.join('datasets', 'custom', 'Processed', 'test_actions.npy')\n",
    "SAVE_PATH = os.path.join('visualizations', 'graphs', 'custom')\n",
    "\n",
    "save_files = {\n",
    "    'SimplePose': os.path.join('final_weights', 'custom', 'simple_pose_custom.pth'),\n",
    "    'SimplePoseGNN': os.path.join('final_weights', 'custom', \"simple_pose_gnn_custom.pth\"),\n",
    "    'SimplePoseGAT': os.path.join('final_weights', 'custom', \"simple_pose_gat_custom.pth\"), \n",
    "    'SimplePoseTAG': os.path.join('final_weights', 'custom', \"simple_pose_tag_custom.pth\"),\n",
    "}\n",
    "\n",
    "save_fig(save_files, 'custom', SAVE_PATH)\n",
    "\n",
    "\n",
    "from src.simple_pose.train_and_test import generate_confusion_matrix\n",
    "generate_confusion_matrix(\n",
    "    weights_path=save_files['SimplePose'],\n",
    "    save_path=SAVE_PATH,\n",
    "    testing_2d_path= TESTING_2D_DATA_PATH,\n",
    "    testing_3d_path= TESTING_3D_DATA_PATH,\n",
    "    testing_label_path= TESTING_LABEL_PATH\n",
    ")\n",
    "\n",
    "from src.simple_pose_gnn.train_and_test import generate_confusion_matrix\n",
    "generate_confusion_matrix(\n",
    "    weights_path=save_files['SimplePoseGNN'],\n",
    "    save_path=SAVE_PATH,\n",
    "    testing_2d_path= TESTING_2D_DATA_PATH,\n",
    "    testing_3d_path= TESTING_3D_DATA_PATH,\n",
    "    testing_label_path= TESTING_LABEL_PATH\n",
    ")\n",
    "\n",
    "from src.simple_pose_gat.train_and_test import generate_confusion_matrix\n",
    "generate_confusion_matrix(\n",
    "    weights_path=save_files['SimplePoseGAT'],\n",
    "    save_path=SAVE_PATH,\n",
    "    testing_2d_path= TESTING_2D_DATA_PATH,\n",
    "    testing_3d_path= TESTING_3D_DATA_PATH,\n",
    "    testing_label_path= TESTING_LABEL_PATH\n",
    ")\n",
    "\n",
    "from src.simple_pose_tag.train_and_test import generate_confusion_matrix\n",
    "generate_confusion_matrix(\n",
    "    weights_path=save_files['SimplePoseTAG'],\n",
    "    save_path=SAVE_PATH,\n",
    "    testing_2d_path= TESTING_2D_DATA_PATH,\n",
    "    testing_3d_path= TESTING_3D_DATA_PATH,\n",
    "    testing_label_path= TESTING_LABEL_PATH\n",
    ")"
   ]
  },
  {
   "cell_type": "markdown",
   "id": "2b4a2fd0",
   "metadata": {},
   "source": [
    "<h2><u>6. Lessons Learnt & Conclusions </u></h2>\n",
    "\n",
    "\n",
    "Talk about the history of development and optimizations we made"
   ]
  },
  {
   "cell_type": "markdown",
   "id": "49de2aba",
   "metadata": {},
   "source": [
    "<h2><u>7. Resources</u></h2>\n",
    "\n",
    "\n",
    "TODO add blogs, documentations , us"
   ]
  }
 ],
 "metadata": {
  "kernelspec": {
   "display_name": "gnn_course",
   "language": "python",
   "name": "python3"
  },
  "language_info": {
   "codemirror_mode": {
    "name": "ipython",
    "version": 3
   },
   "file_extension": ".py",
   "mimetype": "text/x-python",
   "name": "python",
   "nbconvert_exporter": "python",
   "pygments_lexer": "ipython3",
   "version": "3.8.20"
  }
 },
 "nbformat": 4,
 "nbformat_minor": 5
}
