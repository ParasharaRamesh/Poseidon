{
 "cells": [
  {
   "cell_type": "markdown",
   "id": "47024cb481badce7",
   "metadata": {},
   "source": [
    "# POSEIDON: Pose Estimation & Activity Recognition using GNNs\n",
    "\n",
    "Team Members (Group 16): \n",
    "1. Chong Jun Rong Brian (A0290882U)\n",
    "2. Parashara Ramesh (A0285647M)\n",
    "3. Ng Wei Jie Brandon (A0184893L)"
   ]
  },
  {
   "cell_type": "code",
   "execution_count": null,
   "id": "ca470c79",
   "metadata": {
    "ExecuteTime": {
     "end_time": "2024-11-02T07:02:29.934709Z",
     "start_time": "2024-11-02T07:02:29.892153Z"
    }
   },
   "outputs": [],
   "source": [
    "%load_ext autoreload\n",
    "%autoreload 2"
   ]
  },
  {
   "cell_type": "markdown",
   "id": "54775158eb81e1a9",
   "metadata": {},
   "source": [
    "<h2><u> Table of contents </u></h2>\n",
    "\n",
    "1. What is this project about?\n",
    "<br> 1.1. Project Motivation\n",
    "<br> 1.2. Project Description\n",
    "<br> 1.3. Project Setup   \n",
    "2. Human 3.6M Dataset\n",
    "<br> 2.1. Summary of the dataset\n",
    "<br> 2.2. Preparing the dataset\n",
    "<br> 2.3. Visualizing poses\n",
    "3. Model building approach\n",
    "4. Baseline 1 - SimplePose (Simple ML model without using GNNs)\n",
    "5. Baseline 2 - SimplePoseGNN (Simple ML model using GNNs) \n",
    "6. Improvement 1 - SimplePoseGAT (Using 2 layers of GATConv)\n",
    "7. Improvement 2 - SemGCN model (Reimplementation of Semantic GCN)\n",
    "8. Evaluation & Analysis of models\n",
    "9. Creating our own custom dataset\n",
    "10. Evaluation on custom dataset\n",
    "11. Conclusion\n",
    "12. Video presentation & Resources\n"
   ]
  },
  {
   "cell_type": "markdown",
   "id": "5e9d0baed6e093c8",
   "metadata": {},
   "source": [
    "<h2><u>1. What is this project about?</u></h2>\n",
    "<h3><u>1.1 Project Motivation</u></h3>\n",
    "\n",
    "Accurately predicting 3D human poses from 2D keypoints is a critical task for many applications such as motion capture and activity recognition. Traditional methods that use direct regression or lifting techniques often struggle to fully capture the complex spatial relationships between body joints. By treating the 2D pose keypoints as graphs, we can leverage the underlying connectivity between joints to improve the 3D pose estimation. Additionally, recognizing and classifying human activities from these poses is an essential task in fields like surveillance and healthcare. Therefore, this project seeks to explore how GNNs can enhance 3D pose estimation and activity recognition.\n",
    "\n",
    "<h3><u>1.2 Project Description</h3></u>\n",
    "\n",
    "The primary objective of this project is to predict 3D human poses from 2D pose keypoints accurately using GNNs. \n",
    "* Firstly, we will develop two baseline models: one using standard Neural Network (NN) & Convolutional Neural Network (CNN) followed by a simple GNN based model both for 3d pose estimation \n",
    "* Secondly, we will reimplement the SemGCN model, which treats the body joints of a 2D pose as nodes in a graph, with edges representing the connectivity between them. \n",
    "* Finally, we will design an improved version of the SemGCN model by exploring different GNN architectures and modifications to enhance its performance.\n",
    "\n",
    "The secondary objective is to classify human activities based on 2D pose keypoints. We will use custom datasets to validate this task, allowing us to assess the generalization capabilities of GNN-based models for activity recognition.\n",
    "\n",
    "<h3><u>1.3 Project Setup</u></h3>\n",
    "\n",
    "1. Install the dependencies from requirements.txt using the command\n",
    "\n",
    "`pip install -r requirements.txt`\n"
   ]
  },
  {
   "cell_type": "markdown",
   "id": "611734fb42bb945e",
   "metadata": {},
   "source": [
    "<h2><u>2. Human 3.6M Dataset</u></h2>\n",
    "\n",
    "<h3><u>2.1 Summary of the dataset </u></h3>\n",
    "\n",
    "The [Human 3.6M dataset](http://vision.imar.ro/human3.6m/description.php) is a large-scale collection of 3.6 million 3D human poses captured from 11 professional actors in 17 everyday scenarios (e.g., talking, smoking, discussing). It includes synchronized video from multiple calibrated cameras, precise 3D joint positions and angles, and pixel-level body part labels. Additional data like time-of-flight range data and 3D laser scans of actors are also available.\n",
    "\n",
    "The dataset comes with precomputed image descriptors, tools for visualizing and predicting human poses, and an evaluation set for benchmarking performance, making it a rich resource for 3D human pose estimation, action recognition, and related computer vision tasks."
   ]
  },
  {
   "cell_type": "markdown",
   "id": "76972dcfdd4a2b57",
   "metadata": {},
   "source": [
    "<h3><u>2.2. Dataset preparation </u></h3>\n",
    "\n",
    "Downloading the dataset from the website requires a login , therefore we will be directly using a preprocessed version of this dataset stored in google drive [here](https://drive.google.com/file/d/1JGt3j9q5A8WzUY-QKfyMVJUUvfreri-s/view?usp=drive_link).\n",
    " \n",
    "Original preprocessing was done by [Martinez et al](https://github.com/una-dinosauria/3d-pose-baseline) from this repository.\n",
    "\n",
    "The cells below go through the steps of downloading this preprocessed dataset and creating train-test files from it after some transformation. \n",
    "\n",
    "From section 3(Models) we will be directly using the created train-test files, therefore the cells under this section need not be executed."
   ]
  },
  {
   "cell_type": "markdown",
   "id": "f7b437e917fa318b",
   "metadata": {},
   "source": [
    "#### Downloading the zip from google drive"
   ]
  },
  {
   "cell_type": "code",
   "execution_count": null,
   "id": "71f1e0ceefe13857",
   "metadata": {
    "ExecuteTime": {
     "end_time": "2024-10-24T10:31:40.978888Z",
     "start_time": "2024-10-24T10:31:06.728419Z"
    }
   },
   "outputs": [],
   "source": [
    "# Download the zip from google drive\n",
    "import gdown\n",
    "import os\n",
    "\n",
    "# file id from gdrive (refer to markdown cell above for full link)\n",
    "file_id = '1JGt3j9q5A8WzUY-QKfyMVJUUvfreri-s' \n",
    "download_url = f'https://drive.google.com/uc?id={file_id}'\n",
    "\n",
    "# Folder where you want to save the file\n",
    "folder_path = os.path.join(os.getcwd(),\"datasets\", \"h36m\", \"Original\")\n",
    "zip_file_path = os.path.join(folder_path, 'h36m.zip')\n",
    "\n",
    "# Ensure the folder exists\n",
    "os.makedirs(folder_path, exist_ok=True)\n",
    "\n",
    "# Download the ZIP file\n",
    "gdown.download(download_url, zip_file_path, quiet=False)\n",
    "\n",
    "print(f\"Downloaded ZIP file and saved to {zip_file_path}\")\n"
   ]
  },
  {
   "cell_type": "markdown",
   "id": "82af82d9932cf7c2",
   "metadata": {},
   "source": [
    "#### Extracting the contents into the same folder"
   ]
  },
  {
   "cell_type": "code",
   "execution_count": null,
   "id": "93b0822847be0d9c",
   "metadata": {
    "ExecuteTime": {
     "end_time": "2024-10-24T10:31:43.844809Z",
     "start_time": "2024-10-24T10:31:40.978888Z"
    }
   },
   "outputs": [],
   "source": [
    "# extracting the contents inside the /datasets/h36m/Original folder\n",
    "import zipfile\n",
    "\n",
    "print(f\"Extracting files to {folder_path}..\")\n",
    "# Open the ZIP file and extract its contents\n",
    "with zipfile.ZipFile(zip_file_path, 'r') as zip_ref:\n",
    "    zip_ref.extractall(folder_path)\n",
    "\n",
    "print(f\"Finished extracting files to {folder_path}\")\n",
    "\n"
   ]
  },
  {
   "cell_type": "markdown",
   "id": "93b5da612c5f96",
   "metadata": {},
   "source": [
    "#### Saving the 3d positions into a compressed np file"
   ]
  },
  {
   "cell_type": "code",
   "execution_count": null,
   "id": "4e513820c9281fc5",
   "metadata": {
    "ExecuteTime": {
     "end_time": "2024-10-24T10:31:50.599958Z",
     "start_time": "2024-10-24T10:31:43.845626Z"
    }
   },
   "outputs": [],
   "source": [
    "import h5py\n",
    "from glob import glob\n",
    "from tqdm import tqdm\n",
    "import numpy as np\n",
    "\n",
    "output_filename = os.path.join(folder_path, 'data_3d_h36m')\n",
    "subjects = ['S1', 'S5', 'S6', 'S7', 'S8', 'S9', 'S11']\n",
    "\n",
    "output = dict()\n",
    "for subject in tqdm(subjects, desc= f'Processing subjects..'):\n",
    "    output[subject] = dict()\n",
    "    file_list = glob(os.path.join(folder_path, 'h36m', subject, 'MyPoses', '3D_positions', '*.h5'))\n",
    "    assert len(file_list) == 30, \"Expected 30 files for subject \" + subject + \", got \" + str(len(file_list))\n",
    "    for f in file_list:\n",
    "        action = os.path.splitext(os.path.basename(f))[0]\n",
    "\n",
    "        if subject == 'S11' and action == 'Directions':\n",
    "            continue  # Discard corrupted video\n",
    "\n",
    "        with h5py.File(f) as hf:\n",
    "            positions = hf.get('3D_positions')[:].reshape(32, 3, -1).transpose(2, 0, 1)\n",
    "            positions /= 1000  # Meters instead of millimeters\n",
    "            output[subject][action] = positions.astype('float32')\n",
    "\n",
    "print(f'Saving compressed 3d positions into {output_filename}')\n",
    "np.savez_compressed(output_filename, positions_3d=output)\n",
    "print(f'Finished saving 3d positions into {output_filename}')\n",
    "del output\n"
   ]
  },
  {
   "cell_type": "markdown",
   "id": "e588965a522e8f8",
   "metadata": {},
   "source": [
    "#### Compute the ground truth 2d poses.\n",
    "\n",
    "TODO.brandon explain what the human35mDataset constructor does in detail (intrinsics, extrinsics, cameras, normalization etc etc)"
   ]
  },
  {
   "cell_type": "code",
   "execution_count": null,
   "id": "6c4794b93a1836eb",
   "metadata": {
    "ExecuteTime": {
     "end_time": "2024-10-24T10:32:08.130629Z",
     "start_time": "2024-10-24T10:31:50.602485Z"
    }
   },
   "outputs": [],
   "source": [
    "from data.camera import world_to_camera, project_to_2d, image_coordinates, wrap\n",
    "from data.h36m_dataset import Human36mDataset\n",
    "\n",
    "print('Computing ground-truth 2D poses...')\n",
    "output_filename_2d = os.path.join(folder_path, 'data_2d_h36m_gt')\n",
    "\n",
    "dataset = Human36mDataset(output_filename + '.npz')\n",
    "output_2d_poses = {}\n",
    "for subject in dataset.subjects():\n",
    "    output_2d_poses[subject] = {}\n",
    "    for action in dataset[subject].keys():\n",
    "        anim = dataset[subject][action]\n",
    "\n",
    "        positions_2d = []\n",
    "        for cam in anim['cameras']:\n",
    "            pos_3d = world_to_camera(anim['positions'], R=cam['orientation'], t=cam['translation'])\n",
    "            pos_2d = wrap(project_to_2d, True, pos_3d, cam['intrinsic'])\n",
    "            pos_2d_pixel_space = image_coordinates(pos_2d, w=cam['res_w'], h=cam['res_h'])\n",
    "            positions_2d.append(pos_2d_pixel_space.astype('float32'))\n",
    "        output_2d_poses[subject][action] = positions_2d\n",
    "\n",
    "print(f'Saving compressed 2d positions into {output_filename_2d}')\n",
    "metadata = {\n",
    "    'num_joints': dataset.skeleton().num_joints(),\n",
    "    'keypoints_symmetry': [dataset.skeleton().joints_left(), dataset.skeleton().joints_right()]\n",
    "}\n",
    "np.savez_compressed(output_filename_2d, positions_2d=output_2d_poses, metadata=metadata)\n",
    "\n",
    "print(f'Done saving compressed 2d positions into {output_filename_2d}')\n",
    "del output_2d_poses"
   ]
  },
  {
   "cell_type": "markdown",
   "id": "72697b64fd7d407d",
   "metadata": {},
   "source": [
    "#### Cleanup the extracted files and the downloaded zip"
   ]
  },
  {
   "cell_type": "code",
   "execution_count": null,
   "id": "118fd2a82b04cd62",
   "metadata": {
    "ExecuteTime": {
     "end_time": "2024-10-24T10:32:08.336197Z",
     "start_time": "2024-10-24T10:32:08.130629Z"
    }
   },
   "outputs": [],
   "source": [
    "from shutil import rmtree\n",
    "\n",
    "rmtree(os.path.join(folder_path, 'h36m'))\n",
    "os.remove(os.path.join(folder_path, 'h36m.zip'))"
   ]
  },
  {
   "cell_type": "markdown",
   "id": "b27ac66ee540da7d",
   "metadata": {},
   "source": [
    "#### Creating and saving train and test files from the saved npz files"
   ]
  },
  {
   "cell_type": "code",
   "execution_count": null,
   "id": "5cb37ba45841bf03",
   "metadata": {
    "ExecuteTime": {
     "end_time": "2024-10-24T10:32:09.228186Z",
     "start_time": "2024-10-24T10:32:08.336197Z"
    }
   },
   "outputs": [],
   "source": [
    "from utils.data_utils import read_3d_data, create_2d_data, create_train_test_files\n",
    "from data.h36m_dataset import TRAIN_SUBJECTS, TEST_SUBJECTS, Human36mDataset\n",
    "import os\n",
    "\n",
    "subjects_train = TRAIN_SUBJECTS\n",
    "subjects_test = TEST_SUBJECTS\n",
    "\n",
    "processed_dataset_path = os.path.join(os.getcwd(), \"datasets\", \"h36m\", \"Processed\")\n",
    "os.makedirs(processed_dataset_path, exist_ok=True)\n",
    "\n",
    "dataset_path = os.path.join(os.getcwd(), \"datasets\", \"h36m\", \"Original\", \"data_3d_h36m.npz\")\n",
    "dataset = Human36mDataset(dataset_path)\n"
   ]
  },
  {
   "cell_type": "code",
   "execution_count": null,
   "id": "a7ad8d6cc3eb740e",
   "metadata": {
    "ExecuteTime": {
     "end_time": "2024-10-24T10:32:12.228130Z",
     "start_time": "2024-10-24T10:32:09.228186Z"
    }
   },
   "outputs": [],
   "source": [
    "#TODO.brandon: add comments for what exactly the read_3d_data function does and the create_2d_data does.\n",
    "print(\"Reading 3d npz file\")\n",
    "dataset = read_3d_data(dataset)\n",
    "\n",
    "print(\"Reading 2d npz file\")\n",
    "dataset_2d_path = os.path.join(os.getcwd(), \"datasets\", \"h36m\", \"Original\", \"data_2d_h36m_gt.npz\")\n",
    "keypoints = create_2d_data(dataset_2d_path, dataset)\n",
    "print(\"Done\")"
   ]
  },
  {
   "cell_type": "code",
   "execution_count": null,
   "id": "f68a656a402feba5",
   "metadata": {
    "ExecuteTime": {
     "end_time": "2024-10-24T10:32:15.890233Z",
     "start_time": "2024-10-24T10:32:12.228130Z"
    }
   },
   "outputs": [],
   "source": [
    "print(\"Creating train datasets and saving into file\")\n",
    "_, _, _ = create_train_test_files(subjects_train, dataset, keypoints, \"train\", processed_dataset_path)\n",
    "\n",
    "print(\"Creating test datasets and saving into file\")\n",
    "_, _, _ = create_train_test_files(subjects_test, dataset, keypoints, \"test\", processed_dataset_path)\n",
    "print(\"Done\")"
   ]
  },
  {
   "cell_type": "markdown",
   "id": "63c43c8d75e4e921",
   "metadata": {},
   "source": [
    "<h3><u>2.3 Visualizing poses </u></h3>\n",
    "\n",
    "Since we have saved the train and test files, we will now only use those files for the rest of the notebook.\n",
    "\n",
    "This has also been saved directly in this [google drive link](https://drive.google.com/drive/folders/1d38hWSM8clZlI11nqljxBECog1KY-iTd?usp=sharing), which can be placed directly in the local path instead of executing previous cells.\n",
    "\n",
    "The visualizations below shows that we are considering that human poses are comprised of skeletons with just 16 joints after doing all of the processing above."
   ]
  },
  {
   "cell_type": "code",
   "execution_count": 5,
   "id": "1e9e7905edcd97d4",
   "metadata": {
    "ExecuteTime": {
     "end_time": "2024-10-24T10:32:16.917256Z",
     "start_time": "2024-10-24T10:32:15.890233Z"
    }
   },
   "outputs": [
    {
     "data": {
      "image/png": "[encoded data removed]",
      "text/plain": [
       "<Figure size 500x500 with 1 Axes>"
      ]
     },
     "metadata": {},
     "output_type": "display_data"
    },
    {
     "data": {
      "image/png": "[encoded data removed]",
      "text/plain": [
       "<Figure size 600x600 with 1 Axes>"
      ]
     },
     "metadata": {},
     "output_type": "display_data"
    }
   ],
   "source": [
    "import numpy as np\n",
    "\n",
    "from utils.visualization_utils import visualize_2d_pose, visualize_3d_pose\n",
    "\n",
    "poses_2d = np.load(\"datasets/h36m/Processed/test_2d_poses.npy\")\n",
    "poses_3d = np.load(\"datasets/h36m/Processed/test_3d_poses.npy\")\n",
    "\n",
    "visualize_2d_pose(poses_2d[0])\n",
    "visualize_3d_pose(poses_3d[0], elev=110, azim=90)"
   ]
  },
  {
   "cell_type": "markdown",
   "id": "7725e8082f63bef6",
   "metadata": {},
   "source": [
    "#### Finding out the distribution of actions in the train and test splits\n",
    "\n",
    "The following code cells plots a bar graph of the actions in the train and test datasets."
   ]
  },
  {
   "cell_type": "code",
   "execution_count": null,
   "id": "6ac4ee6d0caadd6c",
   "metadata": {
    "ExecuteTime": {
     "end_time": "2024-10-24T10:42:37.509585Z",
     "start_time": "2024-10-24T10:42:36.546305Z"
    }
   },
   "outputs": [],
   "source": [
    "import pandas as pd\n",
    "import matplotlib.pyplot as plt\n",
    "\n",
    "def show_action_stats(actions, type):\n",
    "    train_actions_df = pd.DataFrame(actions, columns=['actions'])\n",
    "    action_counts = train_actions_df['actions'].value_counts()\n",
    "    print(action_counts)\n",
    "    \n",
    "    action_counts.plot(kind='bar')\n",
    "    \n",
    "    # Step 4: Show the plot\n",
    "    plt.title(f'{type} Action Distribution')\n",
    "    plt.xlabel('Action')\n",
    "    plt.ylabel('Count')\n",
    "    plt.show()\n"
   ]
  },
  {
   "cell_type": "code",
   "execution_count": null,
   "id": "4a3d339da3ad4be1",
   "metadata": {
    "ExecuteTime": {
     "end_time": "2024-10-24T10:47:10.713481Z",
     "start_time": "2024-10-24T10:47:10.315303Z"
    }
   },
   "outputs": [],
   "source": [
    "train_actions = np.load(\"datasets/h36m/Processed/train_actions.npy\")\n",
    "show_action_stats(train_actions, \"Train\")"
   ]
  },
  {
   "cell_type": "code",
   "execution_count": null,
   "id": "44918710",
   "metadata": {},
   "outputs": [],
   "source": [
    "import torch \n",
    "import torch.nn as nn\n",
    "\n",
    "w = nn.Parameter(torch.Tensor(size=(2,5,5)))"
   ]
  },
  {
   "cell_type": "code",
   "execution_count": null,
   "id": "60e77e8dbb1d9828",
   "metadata": {
    "ExecuteTime": {
     "end_time": "2024-10-24T10:47:11.880112Z",
     "start_time": "2024-10-24T10:47:11.560131Z"
    }
   },
   "outputs": [],
   "source": [
    "test_actions = np.load(\"datasets/h36m/Processed/test_actions.npy\")\n",
    "show_action_stats(train_actions, \"Test\")"
   ]
  },
  {
   "cell_type": "markdown",
   "id": "ad19bb814deadd8b",
   "metadata": {},
   "source": [
    "<h2><u>3. Model Building Approach</u></h2>\n",
    "\n",
    "The following sections attempts to build different ML models using the dataset which was just constructed above.\n",
    "\n",
    "At a very high level these are the models we aim to build:\n",
    "* SimplePose - A simple baseline ML model using classic DL layers\n",
    "* SimplePoseGNN - A simple baseline GNN model using DGL and GNN layers\n",
    "* SemGCN - A reimplementation of the [SemGCN paper](https://arxiv.org/abs/1904.03345) in DGL\n",
    "* PoseGCN - A more complex GNN model by leveraging the insights gained from building the other GNN models.\n"
   ]
  },
  {
   "cell_type": "markdown",
   "id": "73f319c5978c85c1",
   "metadata": {},
   "source": [
    "<h2><u>4. Baseline 1 - SimplePose (Simple ML model without using GNNs)</u></h2>\n",
    "\n",
    "TODO.brian - write something meaningful here\n",
    "\n"
   ]
  },
  {
   "cell_type": "code",
   "execution_count": 1,
   "id": "f272c692",
   "metadata": {
    "ExecuteTime": {
     "end_time": "2024-10-24T11:34:12.664980Z",
     "start_time": "2024-10-24T11:34:08.681142Z"
    }
   },
   "outputs": [
    {
     "name": "stderr",
     "output_type": "stream",
     "text": [
      "INFO:root:Model is currently using : cuda\n",
      "INFO:root:Creating Missing Paths: model_outputs\\simple_pose\\2024-11-13--11-52-41\n",
      "INFO:root:Saving config\n",
      "INFO:root:Setup Training and Testing Dataloaders\n"
     ]
    },
    {
     "name": "stdout",
     "output_type": "stream",
     "text": [
      "Training args are: Namespace(action_loss_multiplier=0.005, batch_size=256, learning_rate=3e-05, num_epochs=30, pose_loss_multiplier=0.995, save_path='model_outputs\\\\simple_pose\\\\2024-11-13--11-52-41', testing_2d_data_path='datasets\\\\custom\\\\Processed\\\\test_2d_poses.npy', testing_3d_data_path='datasets\\\\custom\\\\Processed\\\\test_3d_poses.npy', testing_label_path='datasets\\\\custom\\\\Processed\\\\test_actions.npy', training_2d_data_path='datasets\\\\custom\\\\Processed\\\\train_2d_poses.npy', training_3d_data_path='datasets\\\\custom\\\\Processed\\\\train_3d_poses.npy', training_label_path='datasets\\\\custom\\\\Processed\\\\train_actions.npy')\n"
     ]
    },
    {
     "name": "stderr",
     "output_type": "stream",
     "text": [
      "INFO:root:Setup SimplePose model with Kaiming Weights\n",
      "INFO:root:SimplePose(\n",
      "  (input_linear_2d): Linear(in_features=26, out_features=1024, bias=True)\n",
      "  (blocks): ModuleList(\n",
      "    (0-5): 6 x Sequential(\n",
      "      (0): Linear(in_features=1024, out_features=1024, bias=True)\n",
      "      (1): BatchNorm1d(1024, eps=1e-05, momentum=0.1, affine=True, track_running_stats=True)\n",
      "      (2): ReLU()\n",
      "      (3): Dropout(p=0.6, inplace=False)\n",
      "      (4): Linear(in_features=1024, out_features=1024, bias=True)\n",
      "      (5): BatchNorm1d(1024, eps=1e-05, momentum=0.1, affine=True, track_running_stats=True)\n",
      "      (6): ReLU()\n",
      "      (7): Dropout(p=0.6, inplace=False)\n",
      "    )\n",
      "  )\n",
      "  (output_3d_pose_linear): Sequential(\n",
      "    (0): Linear(in_features=1024, out_features=512, bias=True)\n",
      "    (1): BatchNorm1d(512, eps=1e-05, momentum=0.1, affine=True, track_running_stats=True)\n",
      "    (2): ReLU()\n",
      "    (3): Dropout(p=0.6, inplace=False)\n",
      "    (4): Linear(in_features=512, out_features=256, bias=True)\n",
      "    (5): ReLU()\n",
      "    (6): Linear(in_features=256, out_features=39, bias=True)\n",
      "  )\n",
      "  (output_label_linear): Sequential(\n",
      "    (0): Linear(in_features=1024, out_features=512, bias=True)\n",
      "    (1): BatchNorm1d(512, eps=1e-05, momentum=0.1, affine=True, track_running_stats=True)\n",
      "    (2): ReLU()\n",
      "    (3): Dropout(p=0.6, inplace=False)\n",
      "    (4): Linear(in_features=512, out_features=256, bias=True)\n",
      "    (5): ReLU()\n",
      "    (6): Linear(in_features=256, out_features=5, bias=True)\n",
      "  )\n",
      ")\n",
      "INFO:root:Setup Optimizer\n",
      "INFO:root:Setup Scheduler\n",
      "INFO:root:Setup loss functions\n",
      "INFO:root:Start Training and Testing Loops\n"
     ]
    },
    {
     "name": "stdout",
     "output_type": "stream",
     "text": [
      "Starting EPOCH: 1 / 30\n"
     ]
    },
    {
     "name": "stderr",
     "output_type": "stream",
     "text": [
      "100%|██████████| 126/126 [00:01<00:00, 99.90it/s] , 117.40it/s]\n",
      "Training =>: 100%|██████████| 126/126 [00:01<00:00, 99.70it/s] \n"
     ]
    },
    {
     "name": "stdout",
     "output_type": "stream",
     "text": [
      "Saving at epoch 0\n",
      "Epoch: 0 | Total Training Loss: 1.3647841215133667 | Pose Training Loss: 1.3643653392791748 | Action Training Loss: 1.4481199979782104 | Action Train Label Accuracy: 39.029011617071504\n"
     ]
    },
    {
     "name": "stderr",
     "output_type": "stream",
     "text": [
      "100%|██████████| 10/10 [00:00<00:00, 327.19it/s]s]\n",
      "Testing =>: 100%|██████████| 10/10 [00:00<00:00, 297.88it/s]\n",
      "INFO:root:Saving model current state\n"
     ]
    },
    {
     "name": "stdout",
     "output_type": "stream",
     "text": [
      "Epoch: 0 | Total Testing Loss: 0.13105157017707825 | Pose Testing Loss: 0.1196637749671936 | Action Testing Loss: 2.3972208499908447 | Action Test Label Accuracy: 20.0\n",
      "Starting EPOCH: 2 / 30\n"
     ]
    },
    {
     "name": "stderr",
     "output_type": "stream",
     "text": [
      "100%|██████████| 126/126 [00:00<00:00, 127.90it/s], 125.13it/s]\n",
      "Training =>: 100%|██████████| 126/126 [00:00<00:00, 127.51it/s]\n"
     ]
    },
    {
     "name": "stdout",
     "output_type": "stream",
     "text": [
      "Saving at epoch 1\n",
      "Epoch: 1 | Total Training Loss: 0.7367621064186096 | Pose Training Loss: 0.7354615330696106 | Action Training Loss: 0.9956101179122925 | Action Train Label Accuracy: 54.090824377213146\n"
     ]
    },
    {
     "name": "stderr",
     "output_type": "stream",
     "text": [
      "100%|██████████| 10/10 [00:00<00:00, 327.62it/s]s]\n",
      "Testing =>: 100%|██████████| 10/10 [00:00<00:00, 298.21it/s]\n",
      "INFO:root:Saving model current state\n"
     ]
    },
    {
     "name": "stdout",
     "output_type": "stream",
     "text": [
      "Epoch: 1 | Total Testing Loss: 0.09941070526838303 | Pose Testing Loss: 0.0876048281788826 | Action Testing Loss: 2.4487802982330322 | Action Test Label Accuracy: 20.0\n",
      "Starting EPOCH: 3 / 30\n"
     ]
    },
    {
     "name": "stderr",
     "output_type": "stream",
     "text": [
      "100%|██████████| 126/126 [00:00<00:00, 129.01it/s], 128.91it/s]\n",
      "Training =>: 100%|██████████| 126/126 [00:00<00:00, 128.61it/s]\n"
     ]
    },
    {
     "name": "stdout",
     "output_type": "stream",
     "text": [
      "Saving at epoch 2\n",
      "Epoch: 2 | Total Training Loss: 0.4259212613105774 | Pose Training Loss: 0.42361101508140564 | Action Training Loss: 0.8856843113899231 | Action Train Label Accuracy: 59.18494129340871\n"
     ]
    },
    {
     "name": "stderr",
     "output_type": "stream",
     "text": [
      "100%|██████████| 10/10 [00:00<00:00, 281.97it/s]s]\n",
      "Testing =>: 100%|██████████| 10/10 [00:00<00:00, 256.55it/s]\n",
      "INFO:root:Saving model current state\n"
     ]
    },
    {
     "name": "stdout",
     "output_type": "stream",
     "text": [
      "Epoch: 2 | Total Testing Loss: 0.07716955989599228 | Pose Testing Loss: 0.06578406691551208 | Action Testing Loss: 2.3428800106048584 | Action Test Label Accuracy: 20.0\n",
      "Starting EPOCH: 4 / 30\n"
     ]
    },
    {
     "name": "stderr",
     "output_type": "stream",
     "text": [
      "100%|██████████| 126/126 [00:00<00:00, 130.50it/s], 127.80it/s]\n",
      "Training =>: 100%|██████████| 126/126 [00:00<00:00, 130.09it/s]\n"
     ]
    },
    {
     "name": "stdout",
     "output_type": "stream",
     "text": [
      "Saving at epoch 3\n",
      "Epoch: 3 | Total Training Loss: 0.2696590721607208 | Pose Training Loss: 0.26671093702316284 | Action Training Loss: 0.8563385605812073 | Action Train Label Accuracy: 61.08591663042803\n"
     ]
    },
    {
     "name": "stderr",
     "output_type": "stream",
     "text": [
      "100%|██████████| 10/10 [00:00<00:00, 326.28it/s]s]\n",
      "Testing =>: 100%|██████████| 10/10 [00:00<00:00, 306.35it/s]\n",
      "INFO:root:Saving model current state\n"
     ]
    },
    {
     "name": "stdout",
     "output_type": "stream",
     "text": [
      "Epoch: 3 | Total Testing Loss: 0.06954345852136612 | Pose Testing Loss: 0.05841973051428795 | Action Testing Loss: 2.2831647396087646 | Action Test Label Accuracy: 20.0\n",
      "Starting EPOCH: 5 / 30\n"
     ]
    },
    {
     "name": "stderr",
     "output_type": "stream",
     "text": [
      "100%|██████████| 126/126 [00:00<00:00, 129.34it/s], 130.89it/s]\n",
      "Training =>: 100%|██████████| 126/126 [00:00<00:00, 128.94it/s]\n"
     ]
    },
    {
     "name": "stdout",
     "output_type": "stream",
     "text": [
      "Saving at epoch 4\n",
      "Epoch: 4 | Total Training Loss: 0.19574211537837982 | Pose Training Loss: 0.19253456592559814 | Action Training Loss: 0.8340342044830322 | Action Train Label Accuracy: 62.87196371994782\n"
     ]
    },
    {
     "name": "stderr",
     "output_type": "stream",
     "text": [
      "100%|██████████| 10/10 [00:00<00:00, 235.57it/s]s]\n",
      "Testing =>: 100%|██████████| 10/10 [00:00<00:00, 230.13it/s]\n",
      "INFO:root:Saving model current state\n"
     ]
    },
    {
     "name": "stdout",
     "output_type": "stream",
     "text": [
      "Epoch: 4 | Total Testing Loss: 0.07087962329387665 | Pose Testing Loss: 0.06105373054742813 | Action Testing Loss: 2.026233196258545 | Action Test Label Accuracy: 23.916666666666668\n",
      "Starting EPOCH: 6 / 30\n"
     ]
    },
    {
     "name": "stderr",
     "output_type": "stream",
     "text": [
      "100%|██████████| 126/126 [00:01<00:00, 125.45it/s], 118.38it/s]\n",
      "Training =>: 100%|██████████| 126/126 [00:01<00:00, 125.28it/s]\n"
     ]
    },
    {
     "name": "stdout",
     "output_type": "stream",
     "text": [
      "Saving at epoch 5\n",
      "Epoch: 5 | Total Training Loss: 0.15464694797992706 | Pose Training Loss: 0.15133388340473175 | Action Training Loss: 0.8139444589614868 | Action Train Label Accuracy: 64.25420885879356\n"
     ]
    },
    {
     "name": "stderr",
     "output_type": "stream",
     "text": [
      "100%|██████████| 10/10 [00:00<00:00, 322.62it/s]s]\n",
      "Testing =>: 100%|██████████| 10/10 [00:00<00:00, 289.76it/s]\n",
      "INFO:root:Saving model current state\n"
     ]
    },
    {
     "name": "stdout",
     "output_type": "stream",
     "text": [
      "Epoch: 5 | Total Testing Loss: 0.07078581303358078 | Pose Testing Loss: 0.06050560623407364 | Action Testing Loss: 2.1165480613708496 | Action Test Label Accuracy: 22.0\n",
      "Starting EPOCH: 7 / 30\n"
     ]
    },
    {
     "name": "stderr",
     "output_type": "stream",
     "text": [
      "100%|██████████| 126/126 [00:00<00:00, 130.98it/s], 132.90it/s]\n",
      "Training =>: 100%|██████████| 126/126 [00:00<00:00, 130.57it/s]\n"
     ]
    },
    {
     "name": "stdout",
     "output_type": "stream",
     "text": [
      "Saving at epoch 6\n",
      "Epoch: 6 | Total Training Loss: 0.13000856339931488 | Pose Training Loss: 0.12671665847301483 | Action Training Loss: 0.7851070165634155 | Action Train Label Accuracy: 65.82282412871963\n"
     ]
    },
    {
     "name": "stderr",
     "output_type": "stream",
     "text": [
      "100%|██████████| 10/10 [00:00<00:00, 317.19it/s]s]\n",
      "Testing =>: 100%|██████████| 10/10 [00:00<00:00, 289.19it/s]\n",
      "INFO:root:Saving model current state\n"
     ]
    },
    {
     "name": "stdout",
     "output_type": "stream",
     "text": [
      "Epoch: 6 | Total Testing Loss: 0.06998728960752487 | Pose Testing Loss: 0.0605500303208828 | Action Testing Loss: 1.948001503944397 | Action Test Label Accuracy: 24.333333333333336\n",
      "Starting EPOCH: 8 / 30\n"
     ]
    },
    {
     "name": "stderr",
     "output_type": "stream",
     "text": [
      "100%|██████████| 126/126 [00:00<00:00, 127.26it/s], 128.45it/s]\n",
      "Training =>: 100%|██████████| 126/126 [00:00<00:00, 126.90it/s]\n"
     ]
    },
    {
     "name": "stdout",
     "output_type": "stream",
     "text": [
      "Saving at epoch 7\n",
      "Epoch: 7 | Total Training Loss: 0.11326421052217484 | Pose Training Loss: 0.11006448417901993 | Action Training Loss: 0.7500097751617432 | Action Train Label Accuracy: 67.8231968689818\n"
     ]
    },
    {
     "name": "stderr",
     "output_type": "stream",
     "text": [
      "100%|██████████| 10/10 [00:00<00:00, 305.79it/s]s]\n",
      "Testing =>: 100%|██████████| 10/10 [00:00<00:00, 288.19it/s]\n",
      "INFO:root:Saving model current state\n"
     ]
    },
    {
     "name": "stdout",
     "output_type": "stream",
     "text": [
      "Epoch: 7 | Total Testing Loss: 0.0659634917974472 | Pose Testing Loss: 0.05652277544140816 | Action Testing Loss: 1.944666862487793 | Action Test Label Accuracy: 25.124999999999996\n",
      "Starting EPOCH: 9 / 30\n"
     ]
    },
    {
     "name": "stderr",
     "output_type": "stream",
     "text": [
      "100%|██████████| 126/126 [00:00<00:00, 135.56it/s], 135.95it/s]\n",
      "Training =>: 100%|██████████| 126/126 [00:00<00:00, 135.12it/s]\n"
     ]
    },
    {
     "name": "stdout",
     "output_type": "stream",
     "text": [
      "Saving at epoch 8\n",
      "Epoch: 8 | Total Training Loss: 0.10085432976484299 | Pose Training Loss: 0.09776653349399567 | Action Training Loss: 0.7153230309486389 | Action Train Label Accuracy: 69.89811766167608\n"
     ]
    },
    {
     "name": "stderr",
     "output_type": "stream",
     "text": [
      "100%|██████████| 10/10 [00:00<00:00, 349.89it/s]s]\n",
      "Testing =>: 100%|██████████| 10/10 [00:00<00:00, 338.01it/s]\n",
      "INFO:root:Saving model current state\n"
     ]
    },
    {
     "name": "stdout",
     "output_type": "stream",
     "text": [
      "Epoch: 8 | Total Testing Loss: 0.06089708209037781 | Pose Testing Loss: 0.05275363475084305 | Action Testing Loss: 1.6814441680908203 | Action Test Label Accuracy: 34.875\n",
      "Starting EPOCH: 10 / 30\n"
     ]
    },
    {
     "name": "stderr",
     "output_type": "stream",
     "text": [
      "100%|██████████| 126/126 [00:00<00:00, 131.78it/s], 133.26it/s]\n",
      "Training =>: 100%|██████████| 126/126 [00:00<00:00, 131.51it/s]\n"
     ]
    },
    {
     "name": "stdout",
     "output_type": "stream",
     "text": [
      "Saving at epoch 9\n",
      "Epoch: 9 | Total Training Loss: 0.09122423827648163 | Pose Training Loss: 0.08827321231365204 | Action Training Loss: 0.6784720420837402 | Action Train Label Accuracy: 71.74318195937131\n"
     ]
    },
    {
     "name": "stderr",
     "output_type": "stream",
     "text": [
      "100%|██████████| 10/10 [00:00<00:00, 303.02it/s]s]\n",
      "Testing =>: 100%|██████████| 10/10 [00:00<00:00, 276.54it/s]\n",
      "INFO:root:Saving model current state\n"
     ]
    },
    {
     "name": "stdout",
     "output_type": "stream",
     "text": [
      "Epoch: 9 | Total Testing Loss: 0.056346651166677475 | Pose Testing Loss: 0.048058465123176575 | Action Testing Loss: 1.7056941986083984 | Action Test Label Accuracy: 34.75\n",
      "Starting EPOCH: 11 / 30\n"
     ]
    },
    {
     "name": "stderr",
     "output_type": "stream",
     "text": [
      "100%|██████████| 126/126 [00:01<00:00, 118.41it/s], 112.39it/s]\n",
      "Training =>: 100%|██████████| 126/126 [00:01<00:00, 118.06it/s]\n"
     ]
    },
    {
     "name": "stdout",
     "output_type": "stream",
     "text": [
      "Saving at epoch 10\n",
      "Epoch: 10 | Total Training Loss: 0.0829797014594078 | Pose Training Loss: 0.08016686141490936 | Action Training Loss: 0.6427298188209534 | Action Train Label Accuracy: 73.28384170963534\n"
     ]
    },
    {
     "name": "stderr",
     "output_type": "stream",
     "text": [
      "100%|██████████| 10/10 [00:00<00:00, 236.22it/s]s]\n",
      "Testing =>: 100%|██████████| 10/10 [00:00<00:00, 220.58it/s]\n",
      "INFO:root:Saving model current state\n"
     ]
    },
    {
     "name": "stdout",
     "output_type": "stream",
     "text": [
      "Epoch: 10 | Total Testing Loss: 0.05306936055421829 | Pose Testing Loss: 0.045481327921152115 | Action Testing Loss: 1.5630884170532227 | Action Test Label Accuracy: 39.958333333333336\n",
      "Starting EPOCH: 12 / 30\n"
     ]
    },
    {
     "name": "stderr",
     "output_type": "stream",
     "text": [
      "100%|██████████| 126/126 [00:01<00:00, 114.16it/s], 114.32it/s]\n",
      "Training =>: 100%|██████████| 126/126 [00:01<00:00, 113.96it/s]\n"
     ]
    },
    {
     "name": "stdout",
     "output_type": "stream",
     "text": [
      "Saving at epoch 11\n",
      "Epoch: 11 | Total Training Loss: 0.07625842839479446 | Pose Training Loss: 0.07358849793672562 | Action Training Loss: 0.6075688600540161 | Action Train Label Accuracy: 74.94253587625023\n"
     ]
    },
    {
     "name": "stderr",
     "output_type": "stream",
     "text": [
      "100%|██████████| 10/10 [00:00<00:00, 210.45it/s]s]\n",
      "Testing =>: 100%|██████████| 10/10 [00:00<00:00, 201.95it/s]\n",
      "INFO:root:Saving model current state\n"
     ]
    },
    {
     "name": "stdout",
     "output_type": "stream",
     "text": [
      "Epoch: 11 | Total Testing Loss: 0.04951292648911476 | Pose Testing Loss: 0.04220067709684372 | Action Testing Loss: 1.504650592803955 | Action Test Label Accuracy: 40.416666666666664\n",
      "Starting EPOCH: 13 / 30\n"
     ]
    },
    {
     "name": "stderr",
     "output_type": "stream",
     "text": [
      "100%|██████████| 126/126 [00:01<00:00, 108.03it/s], 105.81it/s]\n",
      "Training =>: 100%|██████████| 126/126 [00:01<00:00, 107.85it/s]\n"
     ]
    },
    {
     "name": "stdout",
     "output_type": "stream",
     "text": [
      "Saving at epoch 12\n",
      "Epoch: 12 | Total Training Loss: 0.07058906555175781 | Pose Training Loss: 0.0680307000875473 | Action Training Loss: 0.5797043442726135 | Action Train Label Accuracy: 76.11356153320494\n"
     ]
    },
    {
     "name": "stderr",
     "output_type": "stream",
     "text": [
      "100%|██████████| 10/10 [00:00<00:00, 253.28it/s]s]\n",
      "Testing =>: 100%|██████████| 10/10 [00:00<00:00, 237.67it/s]\n",
      "INFO:root:Saving model current state\n"
     ]
    },
    {
     "name": "stdout",
     "output_type": "stream",
     "text": [
      "Epoch: 12 | Total Testing Loss: 0.045211195945739746 | Pose Testing Loss: 0.038429997861385345 | Action Testing Loss: 1.3946692943572998 | Action Test Label Accuracy: 43.666666666666664\n",
      "Starting EPOCH: 14 / 30\n"
     ]
    },
    {
     "name": "stderr",
     "output_type": "stream",
     "text": [
      "100%|██████████| 126/126 [00:01<00:00, 85.45it/s]0, 75.77it/s]\n",
      "Training =>: 100%|██████████| 126/126 [00:01<00:00, 85.22it/s]\n"
     ]
    },
    {
     "name": "stdout",
     "output_type": "stream",
     "text": [
      "Saving at epoch 13\n",
      "Epoch: 13 | Total Training Loss: 0.06568925827741623 | Pose Training Loss: 0.06327677518129349 | Action Training Loss: 0.545780599117279 | Action Train Label Accuracy: 77.75983102441448\n"
     ]
    },
    {
     "name": "stderr",
     "output_type": "stream",
     "text": [
      "100%|██████████| 10/10 [00:00<00:00, 215.99it/s]s]\n",
      "Testing =>: 100%|██████████| 10/10 [00:00<00:00, 198.81it/s]\n",
      "INFO:root:Saving model current state\n"
     ]
    },
    {
     "name": "stdout",
     "output_type": "stream",
     "text": [
      "Epoch: 13 | Total Testing Loss: 0.042313989251852036 | Pose Testing Loss: 0.03522465005517006 | Action Testing Loss: 1.4530913829803467 | Action Test Label Accuracy: 41.625\n",
      "Starting EPOCH: 15 / 30\n"
     ]
    },
    {
     "name": "stderr",
     "output_type": "stream",
     "text": [
      "100%|██████████| 126/126 [00:01<00:00, 109.75it/s], 111.66it/s]\n",
      "Training =>: 100%|██████████| 126/126 [00:01<00:00, 109.37it/s]\n"
     ]
    },
    {
     "name": "stdout",
     "output_type": "stream",
     "text": [
      "Saving at epoch 14\n",
      "Epoch: 14 | Total Training Loss: 0.061377715319395065 | Pose Training Loss: 0.05907562002539635 | Action Training Loss: 0.5194962620735168 | Action Train Label Accuracy: 79.01472324035535\n"
     ]
    },
    {
     "name": "stderr",
     "output_type": "stream",
     "text": [
      "100%|██████████| 10/10 [00:00<00:00, 273.81it/s]s]\n",
      "Testing =>: 100%|██████████| 10/10 [00:00<00:00, 252.97it/s]\n",
      "INFO:root:Saving model current state\n"
     ]
    },
    {
     "name": "stdout",
     "output_type": "stream",
     "text": [
      "Epoch: 14 | Total Testing Loss: 0.03973926231265068 | Pose Testing Loss: 0.0334186889231205 | Action Testing Loss: 1.297533392906189 | Action Test Label Accuracy: 44.5\n",
      "Starting EPOCH: 16 / 30\n"
     ]
    },
    {
     "name": "stderr",
     "output_type": "stream",
     "text": [
      "100%|██████████| 126/126 [00:01<00:00, 100.05it/s], 99.62it/s]\n",
      "Training =>: 100%|██████████| 126/126 [00:01<00:00, 99.81it/s]\n"
     ]
    },
    {
     "name": "stdout",
     "output_type": "stream",
     "text": [
      "Saving at epoch 15\n",
      "Epoch: 15 | Total Training Loss: 0.0575028695166111 | Pose Training Loss: 0.055297479033470154 | Action Training Loss: 0.49637311697006226 | Action Train Label Accuracy: 79.76952227123067\n"
     ]
    },
    {
     "name": "stderr",
     "output_type": "stream",
     "text": [
      "100%|██████████| 10/10 [00:00<00:00, 289.77it/s]s]\n",
      "Testing =>: 100%|██████████| 10/10 [00:00<00:00, 273.88it/s]\n",
      "INFO:root:Saving model current state\n"
     ]
    },
    {
     "name": "stdout",
     "output_type": "stream",
     "text": [
      "Epoch: 15 | Total Testing Loss: 0.038038164377212524 | Pose Testing Loss: 0.03129258751869202 | Action Testing Loss: 1.3804072141647339 | Action Test Label Accuracy: 42.541666666666664\n",
      "Starting EPOCH: 17 / 30\n"
     ]
    },
    {
     "name": "stderr",
     "output_type": "stream",
     "text": [
      "100%|██████████| 126/126 [00:00<00:00, 126.47it/s], 120.10it/s]\n",
      "Training =>: 100%|██████████| 126/126 [00:00<00:00, 126.32it/s]\n"
     ]
    },
    {
     "name": "stdout",
     "output_type": "stream",
     "text": [
      "Saving at epoch 16\n",
      "Epoch: 16 | Total Training Loss: 0.05377492308616638 | Pose Training Loss: 0.05167578160762787 | Action Training Loss: 0.47150304913520813 | Action Train Label Accuracy: 80.94054792818538\n"
     ]
    },
    {
     "name": "stderr",
     "output_type": "stream",
     "text": [
      "100%|██████████| 10/10 [00:00<00:00, 318.03it/s]s]\n",
      "Testing =>: 100%|██████████| 10/10 [00:00<00:00, 299.02it/s]\n",
      "INFO:root:Saving model current state\n"
     ]
    },
    {
     "name": "stdout",
     "output_type": "stream",
     "text": [
      "Epoch: 16 | Total Testing Loss: 0.03602373227477074 | Pose Testing Loss: 0.029919907450675964 | Action Testing Loss: 1.2506847381591797 | Action Test Label Accuracy: 44.333333333333336\n",
      "Starting EPOCH: 18 / 30\n"
     ]
    },
    {
     "name": "stderr",
     "output_type": "stream",
     "text": [
      "100%|██████████| 126/126 [00:00<00:00, 126.10it/s], 125.06it/s]\n",
      "Training =>: 100%|██████████| 126/126 [00:01<00:00, 125.72it/s]\n"
     ]
    },
    {
     "name": "stdout",
     "output_type": "stream",
     "text": [
      "Saving at epoch 17\n",
      "Epoch: 17 | Total Training Loss: 0.05099783465266228 | Pose Training Loss: 0.049006387591362 | Action Training Loss: 0.44729238748550415 | Action Train Label Accuracy: 82.37249176865255\n"
     ]
    },
    {
     "name": "stderr",
     "output_type": "stream",
     "text": [
      "100%|██████████| 10/10 [00:00<00:00, 291.53it/s]s]\n",
      "Testing =>: 100%|██████████| 10/10 [00:00<00:00, 266.17it/s]\n",
      "INFO:root:Saving model current state\n"
     ]
    },
    {
     "name": "stdout",
     "output_type": "stream",
     "text": [
      "Epoch: 17 | Total Testing Loss: 0.034788161516189575 | Pose Testing Loss: 0.02848101034760475 | Action Testing Loss: 1.2899112701416016 | Action Test Label Accuracy: 43.666666666666664\n",
      "Starting EPOCH: 19 / 30\n"
     ]
    },
    {
     "name": "stderr",
     "output_type": "stream",
     "text": [
      "100%|██████████| 126/126 [00:01<00:00, 116.46it/s], 123.31it/s]\n",
      "Training =>: 100%|██████████| 126/126 [00:01<00:00, 116.14it/s]\n"
     ]
    },
    {
     "name": "stdout",
     "output_type": "stream",
     "text": [
      "Saving at epoch 18\n",
      "Epoch: 18 | Total Training Loss: 0.04821719229221344 | Pose Training Loss: 0.046307273209095 | Action Training Loss: 0.4282938539981842 | Action Train Label Accuracy: 82.81046157669131\n"
     ]
    },
    {
     "name": "stderr",
     "output_type": "stream",
     "text": [
      "100%|██████████| 10/10 [00:00<00:00, 263.02it/s]s]\n",
      "Testing =>: 100%|██████████| 10/10 [00:00<00:00, 249.90it/s]\n",
      "INFO:root:Saving model current state\n"
     ]
    },
    {
     "name": "stdout",
     "output_type": "stream",
     "text": [
      "Epoch: 18 | Total Testing Loss: 0.03337742015719414 | Pose Testing Loss: 0.027250593528151512 | Action Testing Loss: 1.2526150941848755 | Action Test Label Accuracy: 45.33333333333333\n",
      "Starting EPOCH: 20 / 30\n"
     ]
    },
    {
     "name": "stderr",
     "output_type": "stream",
     "text": [
      "100%|██████████| 126/126 [00:01<00:00, 116.48it/s], 119.58it/s]\n",
      "Training =>: 100%|██████████| 126/126 [00:01<00:00, 116.27it/s]\n"
     ]
    },
    {
     "name": "stdout",
     "output_type": "stream",
     "text": [
      "Saving at epoch 19\n",
      "Epoch: 19 | Total Training Loss: 0.045823950320482254 | Pose Training Loss: 0.04400362819433212 | Action Training Loss: 0.408067524433136 | Action Train Label Accuracy: 83.68950736162017\n"
     ]
    },
    {
     "name": "stderr",
     "output_type": "stream",
     "text": [
      "100%|██████████| 10/10 [00:00<00:00, 210.46it/s]s]\n",
      "Testing =>: 100%|██████████| 10/10 [00:00<00:00, 197.96it/s]\n",
      "INFO:root:Saving model current state\n"
     ]
    },
    {
     "name": "stdout",
     "output_type": "stream",
     "text": [
      "Epoch: 19 | Total Testing Loss: 0.03203028067946434 | Pose Testing Loss: 0.026084577664732933 | Action Testing Loss: 1.2152246236801147 | Action Test Label Accuracy: 46.541666666666664\n",
      "Starting EPOCH: 21 / 30\n"
     ]
    },
    {
     "name": "stderr",
     "output_type": "stream",
     "text": [
      "100%|██████████| 126/126 [00:01<00:00, 115.64it/s], 116.72it/s]\n",
      "Training =>: 100%|██████████| 126/126 [00:01<00:00, 115.53it/s]\n"
     ]
    },
    {
     "name": "stdout",
     "output_type": "stream",
     "text": [
      "Saving at epoch 20\n",
      "Epoch: 20 | Total Training Loss: 0.04358678311109543 | Pose Training Loss: 0.04183187335729599 | Action Training Loss: 0.392813116312027 | Action Train Label Accuracy: 84.37907684661738\n"
     ]
    },
    {
     "name": "stderr",
     "output_type": "stream",
     "text": [
      "100%|██████████| 10/10 [00:00<00:00, 283.18it/s]s]\n",
      "Testing =>: 100%|██████████| 10/10 [00:00<00:00, 260.99it/s]\n",
      "INFO:root:Saving model current state\n"
     ]
    },
    {
     "name": "stdout",
     "output_type": "stream",
     "text": [
      "Epoch: 20 | Total Testing Loss: 0.031264543533325195 | Pose Testing Loss: 0.025303153321146965 | Action Testing Loss: 1.2175817489624023 | Action Test Label Accuracy: 48.375\n",
      "Starting EPOCH: 22 / 30\n"
     ]
    },
    {
     "name": "stderr",
     "output_type": "stream",
     "text": [
      "100%|██████████| 126/126 [00:01<00:00, 110.72it/s], 108.23it/s]\n",
      "Training =>: 100%|██████████| 126/126 [00:01<00:00, 110.52it/s]\n"
     ]
    },
    {
     "name": "stdout",
     "output_type": "stream",
     "text": [
      "Saving at epoch 21\n",
      "Epoch: 21 | Total Training Loss: 0.04175307974219322 | Pose Training Loss: 0.040068816393613815 | Action Training Loss: 0.3769187331199646 | Action Train Label Accuracy: 85.12766353979002\n"
     ]
    },
    {
     "name": "stderr",
     "output_type": "stream",
     "text": [
      "100%|██████████| 10/10 [00:00<00:00, 232.56it/s]s]\n",
      "Testing =>: 100%|██████████| 10/10 [00:00<00:00, 222.22it/s]\n",
      "INFO:root:Saving model current state\n"
     ]
    },
    {
     "name": "stdout",
     "output_type": "stream",
     "text": [
      "Epoch: 21 | Total Testing Loss: 0.030373362824320793 | Pose Testing Loss: 0.02456533908843994 | Action Testing Loss: 1.1861696243286133 | Action Test Label Accuracy: 51.416666666666664\n",
      "Starting EPOCH: 23 / 30\n"
     ]
    },
    {
     "name": "stderr",
     "output_type": "stream",
     "text": [
      "100%|██████████| 126/126 [00:01<00:00, 114.62it/s], 116.40it/s]\n",
      "Training =>: 100%|██████████| 126/126 [00:01<00:00, 114.20it/s]\n"
     ]
    },
    {
     "name": "stdout",
     "output_type": "stream",
     "text": [
      "Saving at epoch 22\n",
      "Epoch: 22 | Total Training Loss: 0.04003185033798218 | Pose Training Loss: 0.03842546418309212 | Action Training Loss: 0.35970398783683777 | Action Train Label Accuracy: 85.95701062309747\n"
     ]
    },
    {
     "name": "stderr",
     "output_type": "stream",
     "text": [
      "100%|██████████| 10/10 [00:00<00:00, 263.18it/s]s]\n",
      "Testing =>: 100%|██████████| 10/10 [00:00<00:00, 243.92it/s]\n",
      "INFO:root:Saving model current state\n"
     ]
    },
    {
     "name": "stdout",
     "output_type": "stream",
     "text": [
      "Epoch: 22 | Total Testing Loss: 0.029789825901389122 | Pose Testing Loss: 0.024217447265982628 | Action Testing Loss: 1.1386935710906982 | Action Test Label Accuracy: 52.0\n",
      "Starting EPOCH: 24 / 30\n"
     ]
    },
    {
     "name": "stderr",
     "output_type": "stream",
     "text": [
      "100%|██████████| 126/126 [00:01<00:00, 90.84it/s]0, 94.83it/s]\n",
      "Training =>: 100%|██████████| 126/126 [00:01<00:00, 90.71it/s]\n"
     ]
    },
    {
     "name": "stdout",
     "output_type": "stream",
     "text": [
      "Saving at epoch 23\n",
      "Epoch: 23 | Total Training Loss: 0.03850667551159859 | Pose Training Loss: 0.03695949167013168 | Action Training Loss: 0.3463973104953766 | Action Train Label Accuracy: 86.57513822451388\n"
     ]
    },
    {
     "name": "stderr",
     "output_type": "stream",
     "text": [
      "100%|██████████| 10/10 [00:00<00:00, 187.36it/s]s]\n",
      "Testing =>: 100%|██████████| 10/10 [00:00<00:00, 178.92it/s]\n",
      "INFO:root:Saving model current state\n"
     ]
    },
    {
     "name": "stdout",
     "output_type": "stream",
     "text": [
      "Epoch: 23 | Total Testing Loss: 0.028537383303046227 | Pose Testing Loss: 0.0235439445823431 | Action Testing Loss: 1.0222315788269043 | Action Test Label Accuracy: 51.583333333333336\n",
      "Starting EPOCH: 25 / 30\n"
     ]
    },
    {
     "name": "stderr",
     "output_type": "stream",
     "text": [
      "100%|██████████| 126/126 [00:01<00:00, 86.97it/s]0, 84.33it/s]\n",
      "Training =>: 100%|██████████| 126/126 [00:01<00:00, 86.73it/s]\n"
     ]
    },
    {
     "name": "stdout",
     "output_type": "stream",
     "text": [
      "Saving at epoch 24\n",
      "Epoch: 24 | Total Training Loss: 0.0370667465031147 | Pose Training Loss: 0.03558242321014404 | Action Training Loss: 0.3324470818042755 | Action Train Label Accuracy: 86.95409082437722\n"
     ]
    },
    {
     "name": "stderr",
     "output_type": "stream",
     "text": [
      "100%|██████████| 10/10 [00:00<00:00, 237.94it/s]s]\n",
      "Testing =>: 100%|██████████| 10/10 [00:00<00:00, 219.73it/s]\n",
      "INFO:root:Saving model current state\n"
     ]
    },
    {
     "name": "stdout",
     "output_type": "stream",
     "text": [
      "Epoch: 24 | Total Testing Loss: 0.028683772310614586 | Pose Testing Loss: 0.02310495637357235 | Action Testing Loss: 1.138867735862732 | Action Test Label Accuracy: 52.541666666666664\n",
      "Starting EPOCH: 26 / 30\n"
     ]
    },
    {
     "name": "stderr",
     "output_type": "stream",
     "text": [
      "100%|██████████| 126/126 [00:01<00:00, 91.62it/s]0, 95.08it/s]\n",
      "Training =>: 100%|██████████| 126/126 [00:01<00:00, 91.39it/s]\n"
     ]
    },
    {
     "name": "stdout",
     "output_type": "stream",
     "text": [
      "Saving at epoch 25\n",
      "Epoch: 25 | Total Training Loss: 0.03580189868807793 | Pose Training Loss: 0.034362830221652985 | Action Training Loss: 0.32217878103256226 | Action Train Label Accuracy: 87.2491768652544\n"
     ]
    },
    {
     "name": "stderr",
     "output_type": "stream",
     "text": [
      "100%|██████████| 10/10 [00:00<00:00, 232.55it/s]s]\n",
      "Testing =>: 100%|██████████| 10/10 [00:00<00:00, 220.51it/s]\n",
      "INFO:root:Saving model current state\n"
     ]
    },
    {
     "name": "stdout",
     "output_type": "stream",
     "text": [
      "Epoch: 25 | Total Testing Loss: 0.02786940149962902 | Pose Testing Loss: 0.02298256941139698 | Action Testing Loss: 1.000348448753357 | Action Test Label Accuracy: 59.375\n",
      "Starting EPOCH: 27 / 30\n"
     ]
    },
    {
     "name": "stderr",
     "output_type": "stream",
     "text": [
      "100%|██████████| 126/126 [00:01<00:00, 95.27it/s]0, 92.01it/s]\n",
      "Training =>: 100%|██████████| 126/126 [00:01<00:00, 95.01it/s]\n"
     ]
    },
    {
     "name": "stdout",
     "output_type": "stream",
     "text": [
      "Saving at epoch 26\n",
      "Epoch: 26 | Total Training Loss: 0.03481521084904671 | Pose Training Loss: 0.033444102853536606 | Action Training Loss: 0.30766552686691284 | Action Train Label Accuracy: 88.00086972727837\n"
     ]
    },
    {
     "name": "stderr",
     "output_type": "stream",
     "text": [
      "100%|██████████| 10/10 [00:00<00:00, 266.54it/s]s]\n",
      "Testing =>: 100%|██████████| 10/10 [00:00<00:00, 240.89it/s]\n",
      "INFO:root:Saving model current state\n"
     ]
    },
    {
     "name": "stdout",
     "output_type": "stream",
     "text": [
      "Epoch: 26 | Total Testing Loss: 0.028440428897738457 | Pose Testing Loss: 0.022658368572592735 | Action Testing Loss: 1.1790698766708374 | Action Test Label Accuracy: 53.208333333333336\n",
      "Starting EPOCH: 28 / 30\n"
     ]
    },
    {
     "name": "stderr",
     "output_type": "stream",
     "text": [
      "100%|██████████| 126/126 [00:01<00:00, 89.61it/s]0, 90.89it/s]\n",
      "Training =>: 100%|██████████| 126/126 [00:01<00:00, 89.34it/s]\n"
     ]
    },
    {
     "name": "stdout",
     "output_type": "stream",
     "text": [
      "Saving at epoch 27\n",
      "Epoch: 27 | Total Training Loss: 0.033784832805395126 | Pose Training Loss: 0.03246210888028145 | Action Training Loss: 0.29700666666030884 | Action Train Label Accuracy: 88.63452817295148\n"
     ]
    },
    {
     "name": "stderr",
     "output_type": "stream",
     "text": [
      "100%|██████████| 10/10 [00:00<00:00, 208.27it/s]s]\n",
      "Testing =>: 100%|██████████| 10/10 [00:00<00:00, 196.02it/s]\n",
      "INFO:root:Saving model current state\n"
     ]
    },
    {
     "name": "stdout",
     "output_type": "stream",
     "text": [
      "Epoch: 27 | Total Testing Loss: 0.026901481673121452 | Pose Testing Loss: 0.022313788533210754 | Action Testing Loss: 0.9398523569107056 | Action Test Label Accuracy: 60.04166666666667\n",
      "Starting EPOCH: 29 / 30\n"
     ]
    },
    {
     "name": "stderr",
     "output_type": "stream",
     "text": [
      "100%|██████████| 126/126 [00:01<00:00, 89.86it/s]0, 94.80it/s]\n",
      "Training =>: 100%|██████████| 126/126 [00:01<00:00, 89.60it/s]\n"
     ]
    },
    {
     "name": "stdout",
     "output_type": "stream",
     "text": [
      "Saving at epoch 28\n",
      "Epoch: 28 | Total Training Loss: 0.032911185175180435 | Pose Training Loss: 0.03162352740764618 | Action Training Loss: 0.2891553044319153 | Action Train Label Accuracy: 89.05386096788222\n"
     ]
    },
    {
     "name": "stderr",
     "output_type": "stream",
     "text": [
      "100%|██████████| 10/10 [00:00<00:00, 243.71it/s]s]\n",
      "Testing =>: 100%|██████████| 10/10 [00:00<00:00, 230.73it/s]\n",
      "INFO:root:Saving model current state\n"
     ]
    },
    {
     "name": "stdout",
     "output_type": "stream",
     "text": [
      "Epoch: 28 | Total Testing Loss: 0.02722179889678955 | Pose Testing Loss: 0.02247507870197296 | Action Testing Loss: 0.9718189239501953 | Action Test Label Accuracy: 61.16666666666667\n",
      "Starting EPOCH: 30 / 30\n"
     ]
    },
    {
     "name": "stderr",
     "output_type": "stream",
     "text": [
      "100%|██████████| 126/126 [00:01<00:00, 112.22it/s], 117.43it/s]\n",
      "Training =>: 100%|██████████| 126/126 [00:01<00:00, 112.02it/s]\n"
     ]
    },
    {
     "name": "stdout",
     "output_type": "stream",
     "text": [
      "Saving at epoch 29\n",
      "Epoch: 29 | Total Training Loss: 0.03208880499005318 | Pose Training Loss: 0.03085114061832428 | Action Training Loss: 0.27838248014450073 | Action Train Label Accuracy: 89.46076908740758\n"
     ]
    },
    {
     "name": "stderr",
     "output_type": "stream",
     "text": [
      "100%|██████████| 10/10 [00:00<00:00, 197.96it/s]s]\n",
      "Testing =>: 100%|██████████| 10/10 [00:00<00:00, 194.12it/s]\n",
      "INFO:root:Saving model current state\n"
     ]
    },
    {
     "name": "stdout",
     "output_type": "stream",
     "text": [
      "Epoch: 29 | Total Testing Loss: 0.027437513694167137 | Pose Testing Loss: 0.02210535667836666 | Action Testing Loss: 1.0885374546051025 | Action Test Label Accuracy: 61.375\n"
     ]
    },
    {
     "data": {
      "text/plain": [
       "<Figure size 640x480 with 0 Axes>"
      ]
     },
     "metadata": {},
     "output_type": "display_data"
    }
   ],
   "source": [
    "from src.simple_pose.train_and_test import training_loop\n",
    "from argparse import Namespace\n",
    "import os\n",
    "from datetime import datetime\n",
    "timestamp = datetime.now().strftime(\"%Y-%m-%d--%H-%M-%S\")\n",
    "\n",
    "args_dict = {\n",
    "    'learning_rate': 3e-5,\n",
    "    'num_epochs': 30,\n",
    "    'batch_size': 256,\n",
    "    'action_loss_multiplier': 0.005,\n",
    "    'pose_loss_multiplier': 0.995,\n",
    "    'training_2d_data_path': os.path.join('datasets', 'custom', 'Processed', 'train_2d_poses.npy'),\n",
    "    'training_3d_data_path': os.path.join('datasets', 'custom', 'Processed', 'train_3d_poses.npy'),\n",
    "    'training_label_path': os.path.join('datasets', 'custom', 'Processed', 'train_actions.npy'),\n",
    "    'testing_2d_data_path': os.path.join('datasets', 'custom', 'Processed', 'test_2d_poses.npy'),\n",
    "    'testing_3d_data_path': os.path.join('datasets', 'custom', 'Processed', 'test_3d_poses.npy'),\n",
    "    'testing_label_path': os.path.join('datasets', 'custom', 'Processed', 'test_actions.npy'),\n",
    "    'save_path': os.path.join('model_outputs', 'simple_pose', timestamp)\n",
    "}\n",
    "args = Namespace(**args_dict)\n",
    "training_loop(args)"
   ]
  },
  {
   "cell_type": "markdown",
   "id": "71e8d37443b92adc",
   "metadata": {},
   "source": [
    "<h2><u>5. Baseline 2 - SimplePoseGNN (Simple ML model using GNNs)</u></h2>\n",
    "\n",
    "TODO.brian to write something meaningful here"
   ]
  },
  {
   "cell_type": "code",
   "execution_count": 2,
   "id": "5507bae9",
   "metadata": {},
   "outputs": [
    {
     "name": "stderr",
     "output_type": "stream",
     "text": [
      "INFO:root:Model is currently using : cuda\n",
      "INFO:root:Creating Missing Paths: model_outputs\\simple_pose_gnn\\2024-11-13--11-53-33\n",
      "INFO:root:Saving config\n",
      "INFO:root:Setup Training and Testing Dataloaders\n",
      "INFO:root:Setup SimplePoseGNN model\n",
      "INFO:root:SimplePoseGNN(\n",
      "  (input_layer): Linear(in_features=2, out_features=80, bias=True)\n",
      "  (pos_linear): Linear(in_features=5, out_features=80, bias=True)\n",
      "  (blocks): ModuleList(\n",
      "    (0-5): 6 x Sequential(\n",
      "      (0): GraphConvModule(\n",
      "        (conv_1): GraphConv(in=80, out=80, normalization=both, activation=None)\n",
      "        (batch_norm_1): BatchNorm1d(80, eps=1e-05, momentum=0.1, affine=True, track_running_stats=True)\n",
      "        (conv_2): GraphConv(in=80, out=80, normalization=both, activation=None)\n",
      "        (batch_norm_2): BatchNorm1d(80, eps=1e-05, momentum=0.1, affine=True, track_running_stats=True)\n",
      "        (feed_forward_1): Linear(in_features=80, out_features=80, bias=True)\n",
      "        (dropout): Dropout(p=0.5, inplace=False)\n",
      "      )\n",
      "      (1): GraphConvModule(\n",
      "        (conv_1): GraphConv(in=80, out=80, normalization=both, activation=None)\n",
      "        (batch_norm_1): BatchNorm1d(80, eps=1e-05, momentum=0.1, affine=True, track_running_stats=True)\n",
      "        (conv_2): GraphConv(in=80, out=80, normalization=both, activation=None)\n",
      "        (batch_norm_2): BatchNorm1d(80, eps=1e-05, momentum=0.1, affine=True, track_running_stats=True)\n",
      "        (feed_forward_1): Linear(in_features=80, out_features=80, bias=True)\n",
      "        (dropout): Dropout(p=0.5, inplace=False)\n",
      "      )\n",
      "    )\n",
      "  )\n",
      "  (output_3d_pose_linear): Sequential(\n",
      "    (0): Linear(in_features=80, out_features=80, bias=True)\n",
      "    (1): Dropout(p=0.5, inplace=False)\n",
      "    (2): ReLU()\n",
      "    (3): Linear(in_features=80, out_features=3, bias=True)\n",
      "  )\n",
      "  (output_label_linear): Sequential(\n",
      "    (0): Linear(in_features=80, out_features=80, bias=True)\n",
      "    (1): Dropout(p=0.5, inplace=False)\n",
      "    (2): ReLU()\n",
      "    (3): Linear(in_features=80, out_features=5, bias=True)\n",
      "  )\n",
      ")\n",
      "INFO:root:Setup Optimizer\n",
      "INFO:root:Setup loss functions\n",
      "INFO:root:Start Training and Testing Loops\n"
     ]
    },
    {
     "name": "stdout",
     "output_type": "stream",
     "text": [
      "Training args are: Namespace(action_loss_multiplier=0.005, batch_size=256, learning_rate=3e-05, num_epochs=30, pose_loss_multiplier=0.995, save_path='model_outputs\\\\simple_pose_gnn\\\\2024-11-13--11-53-33', testing_2d_data_path='datasets\\\\custom\\\\Processed\\\\test_2d_poses.npy', testing_3d_data_path='datasets\\\\custom\\\\Processed\\\\test_3d_poses.npy', testing_label_path='datasets\\\\custom\\\\Processed\\\\test_actions.npy', training_2d_data_path='datasets\\\\custom\\\\Processed\\\\train_2d_poses.npy', training_3d_data_path='datasets\\\\custom\\\\Processed\\\\train_3d_poses.npy', training_label_path='datasets\\\\custom\\\\Processed\\\\train_actions.npy')\n",
      "(32194, 13, 2)\n",
      "(2400, 13, 2)\n",
      "Starting EPOCH: 1 / 30\n"
     ]
    },
    {
     "name": "stderr",
     "output_type": "stream",
     "text": [
      "Training =>: 100%|██████████| 126/126 [00:47<00:00,  2.65it/s]\n"
     ]
    },
    {
     "name": "stdout",
     "output_type": "stream",
     "text": [
      "Saving at epoch 0\n",
      "Epoch: 0 | Total Training Loss: 0.2567999064922333 | Pose Training Loss: 0.2501493990421295 | Action Training Loss: 1.5802462100982666 | Action Train Label Accuracy: 26.734795303472698\n"
     ]
    },
    {
     "name": "stderr",
     "output_type": "stream",
     "text": [
      "Testing =>: 100%|██████████| 10/10 [00:28<00:00,  2.88s/it]\n",
      "INFO:root:Saving model current state\n"
     ]
    },
    {
     "name": "stdout",
     "output_type": "stream",
     "text": [
      "Epoch: 0 | Total Testing Loss: 0.06815377622842789 | Pose Testing Loss: 0.06074831634759903 | Action Testing Loss: 1.5418407917022705 | Action Test Label Accuracy: 48.66666666666667\n",
      "Starting EPOCH: 2 / 30\n"
     ]
    },
    {
     "name": "stderr",
     "output_type": "stream",
     "text": [
      "Training =>: 100%|██████████| 126/126 [00:44<00:00,  2.82it/s]\n"
     ]
    },
    {
     "name": "stdout",
     "output_type": "stream",
     "text": [
      "Saving at epoch 1\n",
      "Epoch: 1 | Total Training Loss: 0.13878539204597473 | Pose Training Loss: 0.1318129152059555 | Action Training Loss: 1.5263115167617798 | Action Train Label Accuracy: 33.248431384730075\n"
     ]
    },
    {
     "name": "stderr",
     "output_type": "stream",
     "text": [
      "Testing =>: 100%|██████████| 10/10 [00:27<00:00,  2.74s/it]\n",
      "INFO:root:Saving model current state\n"
     ]
    },
    {
     "name": "stdout",
     "output_type": "stream",
     "text": [
      "Epoch: 1 | Total Testing Loss: 0.06744959205389023 | Pose Testing Loss: 0.06035294011235237 | Action Testing Loss: 1.4796839952468872 | Action Test Label Accuracy: 54.37499999999999\n",
      "Starting EPOCH: 3 / 30\n"
     ]
    },
    {
     "name": "stderr",
     "output_type": "stream",
     "text": [
      "Training =>: 100%|██████████| 126/126 [00:44<00:00,  2.84it/s]\n"
     ]
    },
    {
     "name": "stdout",
     "output_type": "stream",
     "text": [
      "Saving at epoch 2\n",
      "Epoch: 2 | Total Training Loss: 0.0987435057759285 | Pose Training Loss: 0.09195473045110703 | Action Training Loss: 1.4497090578079224 | Action Train Label Accuracy: 39.98881779213518\n"
     ]
    },
    {
     "name": "stderr",
     "output_type": "stream",
     "text": [
      "Testing =>: 100%|██████████| 10/10 [00:27<00:00,  2.72s/it]\n",
      "INFO:root:Saving model current state\n"
     ]
    },
    {
     "name": "stdout",
     "output_type": "stream",
     "text": [
      "Epoch: 2 | Total Testing Loss: 0.06576646119356155 | Pose Testing Loss: 0.059125710278749466 | Action Testing Loss: 1.387274980545044 | Action Test Label Accuracy: 54.0\n",
      "Starting EPOCH: 4 / 30\n"
     ]
    },
    {
     "name": "stderr",
     "output_type": "stream",
     "text": [
      "Training =>: 100%|██████████| 126/126 [00:42<00:00,  2.97it/s]\n"
     ]
    },
    {
     "name": "stdout",
     "output_type": "stream",
     "text": [
      "Saving at epoch 3\n",
      "Epoch: 3 | Total Training Loss: 0.08345673978328705 | Pose Training Loss: 0.07706370949745178 | Action Training Loss: 1.3556684255599976 | Action Train Label Accuracy: 44.772317823196865\n"
     ]
    },
    {
     "name": "stderr",
     "output_type": "stream",
     "text": [
      "Testing =>: 100%|██████████| 10/10 [00:27<00:00,  2.70s/it]\n",
      "INFO:root:Saving model current state\n"
     ]
    },
    {
     "name": "stdout",
     "output_type": "stream",
     "text": [
      "Epoch: 3 | Total Testing Loss: 0.06097215414047241 | Pose Testing Loss: 0.05479646474123001 | Action Testing Loss: 1.2899341583251953 | Action Test Label Accuracy: 51.208333333333336\n",
      "Starting EPOCH: 5 / 30\n"
     ]
    },
    {
     "name": "stderr",
     "output_type": "stream",
     "text": [
      "Training =>: 100%|██████████| 126/126 [00:42<00:00,  2.99it/s]\n"
     ]
    },
    {
     "name": "stdout",
     "output_type": "stream",
     "text": [
      "Saving at epoch 4\n",
      "Epoch: 4 | Total Training Loss: 0.07584847509860992 | Pose Training Loss: 0.06992032378911972 | Action Training Loss: 1.2555521726608276 | Action Train Label Accuracy: 48.50593278250606\n"
     ]
    },
    {
     "name": "stderr",
     "output_type": "stream",
     "text": [
      "Testing =>: 100%|██████████| 10/10 [00:28<00:00,  2.88s/it]\n",
      "INFO:root:Saving model current state\n"
     ]
    },
    {
     "name": "stdout",
     "output_type": "stream",
     "text": [
      "Epoch: 4 | Total Testing Loss: 0.05519779399037361 | Pose Testing Loss: 0.049406010657548904 | Action Testing Loss: 1.2077629566192627 | Action Test Label Accuracy: 51.5\n",
      "Starting EPOCH: 6 / 30\n"
     ]
    },
    {
     "name": "stderr",
     "output_type": "stream",
     "text": [
      "Training =>: 100%|██████████| 126/126 [00:44<00:00,  2.86it/s]\n"
     ]
    },
    {
     "name": "stdout",
     "output_type": "stream",
     "text": [
      "Saving at epoch 5\n",
      "Epoch: 5 | Total Training Loss: 0.07081251591444016 | Pose Training Loss: 0.06529916822910309 | Action Training Loss: 1.1679677963256836 | Action Train Label Accuracy: 51.587252283034104\n"
     ]
    },
    {
     "name": "stderr",
     "output_type": "stream",
     "text": [
      "Testing =>: 100%|██████████| 10/10 [00:29<00:00,  2.98s/it]\n",
      "INFO:root:Saving model current state\n"
     ]
    },
    {
     "name": "stdout",
     "output_type": "stream",
     "text": [
      "Epoch: 5 | Total Testing Loss: 0.05052715539932251 | Pose Testing Loss: 0.045107074081897736 | Action Testing Loss: 1.129123330116272 | Action Test Label Accuracy: 52.583333333333336\n",
      "Starting EPOCH: 7 / 30\n"
     ]
    },
    {
     "name": "stderr",
     "output_type": "stream",
     "text": [
      "Training =>: 100%|██████████| 126/126 [00:49<00:00,  2.54it/s]\n"
     ]
    },
    {
     "name": "stdout",
     "output_type": "stream",
     "text": [
      "Saving at epoch 6\n",
      "Epoch: 6 | Total Training Loss: 0.06677276641130447 | Pose Training Loss: 0.061584290117025375 | Action Training Loss: 1.0992779731750488 | Action Train Label Accuracy: 53.76157047897123\n"
     ]
    },
    {
     "name": "stderr",
     "output_type": "stream",
     "text": [
      "Testing =>: 100%|██████████| 10/10 [00:28<00:00,  2.81s/it]\n",
      "INFO:root:Saving model current state\n"
     ]
    },
    {
     "name": "stdout",
     "output_type": "stream",
     "text": [
      "Epoch: 6 | Total Testing Loss: 0.046068381518125534 | Pose Testing Loss: 0.04085240140557289 | Action Testing Loss: 1.084048867225647 | Action Test Label Accuracy: 54.79166666666667\n",
      "Starting EPOCH: 8 / 30\n"
     ]
    },
    {
     "name": "stderr",
     "output_type": "stream",
     "text": [
      "Training =>: 100%|██████████| 126/126 [00:55<00:00,  2.28it/s]\n"
     ]
    },
    {
     "name": "stdout",
     "output_type": "stream",
     "text": [
      "Saving at epoch 7\n",
      "Epoch: 7 | Total Training Loss: 0.06337163597345352 | Pose Training Loss: 0.05844347923994064 | Action Training Loss: 1.044080138206482 | Action Train Label Accuracy: 55.24942535876251\n"
     ]
    },
    {
     "name": "stderr",
     "output_type": "stream",
     "text": [
      "Testing =>: 100%|██████████| 10/10 [00:27<00:00,  2.76s/it]\n",
      "INFO:root:Saving model current state\n"
     ]
    },
    {
     "name": "stdout",
     "output_type": "stream",
     "text": [
      "Epoch: 7 | Total Testing Loss: 0.0424678698182106 | Pose Testing Loss: 0.03751619905233383 | Action Testing Loss: 1.0278500318527222 | Action Test Label Accuracy: 60.04166666666667\n",
      "Starting EPOCH: 9 / 30\n"
     ]
    },
    {
     "name": "stderr",
     "output_type": "stream",
     "text": [
      "Training =>: 100%|██████████| 126/126 [00:46<00:00,  2.73it/s]\n"
     ]
    },
    {
     "name": "stdout",
     "output_type": "stream",
     "text": [
      "Saving at epoch 8\n",
      "Epoch: 8 | Total Training Loss: 0.06025382876396179 | Pose Training Loss: 0.055528007447719574 | Action Training Loss: 1.0006953477859497 | Action Train Label Accuracy: 56.74970491395912\n"
     ]
    },
    {
     "name": "stderr",
     "output_type": "stream",
     "text": [
      "Testing =>: 100%|██████████| 10/10 [00:28<00:00,  2.89s/it]\n",
      "INFO:root:Saving model current state\n"
     ]
    },
    {
     "name": "stdout",
     "output_type": "stream",
     "text": [
      "Epoch: 8 | Total Testing Loss: 0.04015504941344261 | Pose Testing Loss: 0.035402487963438034 | Action Testing Loss: 0.9859153628349304 | Action Test Label Accuracy: 61.083333333333336\n",
      "Starting EPOCH: 10 / 30\n"
     ]
    },
    {
     "name": "stderr",
     "output_type": "stream",
     "text": [
      "Training =>: 100%|██████████| 126/126 [00:47<00:00,  2.64it/s]\n"
     ]
    },
    {
     "name": "stdout",
     "output_type": "stream",
     "text": [
      "Saving at epoch 9\n",
      "Epoch: 9 | Total Training Loss: 0.057406943291425705 | Pose Training Loss: 0.05286315456032753 | Action Training Loss: 0.9616146683692932 | Action Train Label Accuracy: 57.91141206435982\n"
     ]
    },
    {
     "name": "stderr",
     "output_type": "stream",
     "text": [
      "Testing =>: 100%|██████████| 10/10 [00:30<00:00,  3.02s/it]\n",
      "INFO:root:Saving model current state\n"
     ]
    },
    {
     "name": "stdout",
     "output_type": "stream",
     "text": [
      "Epoch: 9 | Total Testing Loss: 0.03706410899758339 | Pose Testing Loss: 0.03247156739234924 | Action Testing Loss: 0.9509794116020203 | Action Test Label Accuracy: 62.74999999999999\n",
      "Starting EPOCH: 11 / 30\n"
     ]
    },
    {
     "name": "stderr",
     "output_type": "stream",
     "text": [
      "Training =>: 100%|██████████| 126/126 [00:48<00:00,  2.61it/s]\n"
     ]
    },
    {
     "name": "stdout",
     "output_type": "stream",
     "text": [
      "Saving at epoch 10\n",
      "Epoch: 10 | Total Training Loss: 0.054715417325496674 | Pose Training Loss: 0.05031333863735199 | Action Training Loss: 0.9307328462600708 | Action Train Label Accuracy: 59.4489656457725\n"
     ]
    },
    {
     "name": "stderr",
     "output_type": "stream",
     "text": [
      "Testing =>: 100%|██████████| 10/10 [00:28<00:00,  2.88s/it]\n",
      "INFO:root:Saving model current state\n"
     ]
    },
    {
     "name": "stdout",
     "output_type": "stream",
     "text": [
      "Epoch: 10 | Total Testing Loss: 0.035142045468091965 | Pose Testing Loss: 0.03066982701420784 | Action Testing Loss: 0.925113320350647 | Action Test Label Accuracy: 62.83333333333333\n",
      "Starting EPOCH: 12 / 30\n"
     ]
    },
    {
     "name": "stderr",
     "output_type": "stream",
     "text": [
      "Training =>: 100%|██████████| 126/126 [00:45<00:00,  2.75it/s]\n"
     ]
    },
    {
     "name": "stdout",
     "output_type": "stream",
     "text": [
      "Saving at epoch 11\n",
      "Epoch: 11 | Total Training Loss: 0.052203595638275146 | Pose Training Loss: 0.04795346036553383 | Action Training Loss: 0.8979772925376892 | Action Train Label Accuracy: 60.719388705970054\n"
     ]
    },
    {
     "name": "stderr",
     "output_type": "stream",
     "text": [
      "Testing =>: 100%|██████████| 10/10 [00:27<00:00,  2.77s/it]\n",
      "INFO:root:Saving model current state\n"
     ]
    },
    {
     "name": "stdout",
     "output_type": "stream",
     "text": [
      "Epoch: 11 | Total Testing Loss: 0.0326618030667305 | Pose Testing Loss: 0.028352035209536552 | Action Testing Loss: 0.8903056383132935 | Action Test Label Accuracy: 63.66666666666667\n",
      "Starting EPOCH: 13 / 30\n"
     ]
    },
    {
     "name": "stderr",
     "output_type": "stream",
     "text": [
      "Training =>: 100%|██████████| 126/126 [00:46<00:00,  2.74it/s]\n"
     ]
    },
    {
     "name": "stdout",
     "output_type": "stream",
     "text": [
      "Saving at epoch 12\n",
      "Epoch: 12 | Total Training Loss: 0.04975410923361778 | Pose Training Loss: 0.045637357980012894 | Action Training Loss: 0.8689864277839661 | Action Train Label Accuracy: 61.430701372926634\n"
     ]
    },
    {
     "name": "stderr",
     "output_type": "stream",
     "text": [
      "Testing =>: 100%|██████████| 10/10 [00:29<00:00,  2.90s/it]\n",
      "INFO:root:Saving model current state\n"
     ]
    },
    {
     "name": "stdout",
     "output_type": "stream",
     "text": [
      "Epoch: 12 | Total Testing Loss: 0.03057307004928589 | Pose Testing Loss: 0.02642865478992462 | Action Testing Loss: 0.8553115129470825 | Action Test Label Accuracy: 64.625\n",
      "Starting EPOCH: 14 / 30\n"
     ]
    },
    {
     "name": "stderr",
     "output_type": "stream",
     "text": [
      "Training =>: 100%|██████████| 126/126 [00:46<00:00,  2.71it/s]\n"
     ]
    },
    {
     "name": "stdout",
     "output_type": "stream",
     "text": [
      "Saving at epoch 13\n",
      "Epoch: 13 | Total Training Loss: 0.047577664256095886 | Pose Training Loss: 0.04358771815896034 | Action Training Loss: 0.8415809869766235 | Action Train Label Accuracy: 62.84090203143443\n"
     ]
    },
    {
     "name": "stderr",
     "output_type": "stream",
     "text": [
      "Testing =>: 100%|██████████| 10/10 [00:27<00:00,  2.74s/it]\n",
      "INFO:root:Saving model current state\n"
     ]
    },
    {
     "name": "stdout",
     "output_type": "stream",
     "text": [
      "Epoch: 13 | Total Testing Loss: 0.028831446543335915 | Pose Testing Loss: 0.024828046560287476 | Action Testing Loss: 0.8255082964897156 | Action Test Label Accuracy: 66.58333333333334\n",
      "Starting EPOCH: 15 / 30\n"
     ]
    },
    {
     "name": "stderr",
     "output_type": "stream",
     "text": [
      "Training =>: 100%|██████████| 126/126 [00:47<00:00,  2.63it/s]\n"
     ]
    },
    {
     "name": "stdout",
     "output_type": "stream",
     "text": [
      "Saving at epoch 14\n",
      "Epoch: 14 | Total Training Loss: 0.04542405903339386 | Pose Training Loss: 0.041563622653484344 | Action Training Loss: 0.8136500120162964 | Action Train Label Accuracy: 63.96222898676772\n"
     ]
    },
    {
     "name": "stderr",
     "output_type": "stream",
     "text": [
      "Testing =>: 100%|██████████| 10/10 [00:29<00:00,  2.93s/it]\n",
      "INFO:root:Saving model current state\n"
     ]
    },
    {
     "name": "stdout",
     "output_type": "stream",
     "text": [
      "Epoch: 14 | Total Testing Loss: 0.027630550786852837 | Pose Testing Loss: 0.023792600259184837 | Action Testing Loss: 0.7913832664489746 | Action Test Label Accuracy: 67.41666666666667\n",
      "Starting EPOCH: 16 / 30\n"
     ]
    },
    {
     "name": "stderr",
     "output_type": "stream",
     "text": [
      "Training =>: 100%|██████████| 126/126 [00:45<00:00,  2.79it/s]\n"
     ]
    },
    {
     "name": "stdout",
     "output_type": "stream",
     "text": [
      "Saving at epoch 15\n",
      "Epoch: 15 | Total Training Loss: 0.04354534298181534 | Pose Training Loss: 0.03979125991463661 | Action Training Loss: 0.7906075119972229 | Action Train Label Accuracy: 65.06802509784431\n"
     ]
    },
    {
     "name": "stderr",
     "output_type": "stream",
     "text": [
      "Testing =>: 100%|██████████| 10/10 [00:28<00:00,  2.81s/it]\n",
      "INFO:root:Saving model current state\n"
     ]
    },
    {
     "name": "stdout",
     "output_type": "stream",
     "text": [
      "Epoch: 15 | Total Testing Loss: 0.026475680992007256 | Pose Testing Loss: 0.022765612229704857 | Action Testing Loss: 0.7647792100906372 | Action Test Label Accuracy: 67.66666666666666\n",
      "Starting EPOCH: 17 / 30\n"
     ]
    },
    {
     "name": "stderr",
     "output_type": "stream",
     "text": [
      "Training =>: 100%|██████████| 126/126 [00:42<00:00,  2.94it/s]\n"
     ]
    },
    {
     "name": "stdout",
     "output_type": "stream",
     "text": [
      "Saving at epoch 16\n",
      "Epoch: 16 | Total Training Loss: 0.0419815257191658 | Pose Training Loss: 0.0383397601544857 | Action Training Loss: 0.7666926383972168 | Action Train Label Accuracy: 66.06199913027272\n"
     ]
    },
    {
     "name": "stderr",
     "output_type": "stream",
     "text": [
      "Testing =>: 100%|██████████| 10/10 [00:28<00:00,  2.81s/it]\n",
      "INFO:root:Saving model current state\n"
     ]
    },
    {
     "name": "stdout",
     "output_type": "stream",
     "text": [
      "Epoch: 16 | Total Testing Loss: 0.025114333257079124 | Pose Testing Loss: 0.02158801071345806 | Action Testing Loss: 0.7268526554107666 | Action Test Label Accuracy: 70.0\n",
      "Starting EPOCH: 18 / 30\n"
     ]
    },
    {
     "name": "stderr",
     "output_type": "stream",
     "text": [
      "Training =>: 100%|██████████| 126/126 [00:44<00:00,  2.84it/s]\n"
     ]
    },
    {
     "name": "stdout",
     "output_type": "stream",
     "text": [
      "Saving at epoch 17\n",
      "Epoch: 17 | Total Training Loss: 0.040353018790483475 | Pose Training Loss: 0.03681303188204765 | Action Training Loss: 0.7448117733001709 | Action Train Label Accuracy: 66.62421569236504\n"
     ]
    },
    {
     "name": "stderr",
     "output_type": "stream",
     "text": [
      "Testing =>: 100%|██████████| 10/10 [00:27<00:00,  2.76s/it]\n",
      "INFO:root:Saving model current state\n"
     ]
    },
    {
     "name": "stdout",
     "output_type": "stream",
     "text": [
      "Epoch: 17 | Total Testing Loss: 0.023823020979762077 | Pose Testing Loss: 0.020464984700083733 | Action Testing Loss: 0.6920725107192993 | Action Test Label Accuracy: 71.16666666666667\n",
      "Starting EPOCH: 19 / 30\n"
     ]
    },
    {
     "name": "stderr",
     "output_type": "stream",
     "text": [
      "Training =>: 100%|██████████| 126/126 [00:43<00:00,  2.92it/s]\n"
     ]
    },
    {
     "name": "stdout",
     "output_type": "stream",
     "text": [
      "Saving at epoch 18\n",
      "Epoch: 18 | Total Training Loss: 0.03892343118786812 | Pose Training Loss: 0.035509005188941956 | Action Training Loss: 0.7183910608291626 | Action Train Label Accuracy: 67.75486115425234\n"
     ]
    },
    {
     "name": "stderr",
     "output_type": "stream",
     "text": [
      "Testing =>: 100%|██████████| 10/10 [00:27<00:00,  2.77s/it]\n",
      "INFO:root:Saving model current state\n"
     ]
    },
    {
     "name": "stdout",
     "output_type": "stream",
     "text": [
      "Epoch: 18 | Total Testing Loss: 0.02249547466635704 | Pose Testing Loss: 0.019187644124031067 | Action Testing Loss: 0.6807534098625183 | Action Test Label Accuracy: 71.83333333333334\n",
      "Starting EPOCH: 20 / 30\n"
     ]
    },
    {
     "name": "stderr",
     "output_type": "stream",
     "text": [
      "Training =>: 100%|██████████| 126/126 [01:01<00:00,  2.04it/s]\n"
     ]
    },
    {
     "name": "stdout",
     "output_type": "stream",
     "text": [
      "Saving at epoch 19\n",
      "Epoch: 19 | Total Training Loss: 0.037482015788555145 | Pose Training Loss: 0.03416069969534874 | Action Training Loss: 0.6984228491783142 | Action Train Label Accuracy: 68.6898179785053\n"
     ]
    },
    {
     "name": "stderr",
     "output_type": "stream",
     "text": [
      "Testing =>: 100%|██████████| 10/10 [00:31<00:00,  3.16s/it]\n",
      "INFO:root:Saving model current state\n"
     ]
    },
    {
     "name": "stdout",
     "output_type": "stream",
     "text": [
      "Epoch: 19 | Total Testing Loss: 0.02139134332537651 | Pose Testing Loss: 0.018265804275870323 | Action Testing Loss: 0.6433734893798828 | Action Test Label Accuracy: 73.41666666666666\n",
      "Starting EPOCH: 21 / 30\n"
     ]
    },
    {
     "name": "stderr",
     "output_type": "stream",
     "text": [
      "Training =>: 100%|██████████| 126/126 [00:49<00:00,  2.55it/s]\n"
     ]
    },
    {
     "name": "stdout",
     "output_type": "stream",
     "text": [
      "Saving at epoch 20\n",
      "Epoch: 20 | Total Training Loss: 0.036147382110357285 | Pose Training Loss: 0.032923225313425064 | Action Training Loss: 0.6777550578117371 | Action Train Label Accuracy: 69.95713486985153\n"
     ]
    },
    {
     "name": "stderr",
     "output_type": "stream",
     "text": [
      "Testing =>: 100%|██████████| 10/10 [00:31<00:00,  3.14s/it]\n",
      "INFO:root:Saving model current state\n"
     ]
    },
    {
     "name": "stdout",
     "output_type": "stream",
     "text": [
      "Epoch: 20 | Total Testing Loss: 0.0203385129570961 | Pose Testing Loss: 0.017308657988905907 | Action Testing Loss: 0.6232792735099792 | Action Test Label Accuracy: 74.83333333333333\n",
      "Starting EPOCH: 22 / 30\n"
     ]
    },
    {
     "name": "stderr",
     "output_type": "stream",
     "text": [
      "Training =>: 100%|██████████| 126/126 [00:48<00:00,  2.60it/s]\n"
     ]
    },
    {
     "name": "stdout",
     "output_type": "stream",
     "text": [
      "Saving at epoch 21\n",
      "Epoch: 21 | Total Training Loss: 0.03516783565282822 | Pose Training Loss: 0.032030634582042694 | Action Training Loss: 0.6594715118408203 | Action Train Label Accuracy: 70.419954028701\n"
     ]
    },
    {
     "name": "stderr",
     "output_type": "stream",
     "text": [
      "Testing =>: 100%|██████████| 10/10 [00:31<00:00,  3.17s/it]\n",
      "INFO:root:Saving model current state\n"
     ]
    },
    {
     "name": "stdout",
     "output_type": "stream",
     "text": [
      "Epoch: 21 | Total Testing Loss: 0.019210878759622574 | Pose Testing Loss: 0.01639554277062416 | Action Testing Loss: 0.5794627070426941 | Action Test Label Accuracy: 77.625\n",
      "Starting EPOCH: 23 / 30\n"
     ]
    },
    {
     "name": "stderr",
     "output_type": "stream",
     "text": [
      "Training =>: 100%|██████████| 126/126 [00:48<00:00,  2.62it/s]\n"
     ]
    },
    {
     "name": "stdout",
     "output_type": "stream",
     "text": [
      "Saving at epoch 22\n",
      "Epoch: 22 | Total Training Loss: 0.0342092290520668 | Pose Training Loss: 0.03117150440812111 | Action Training Loss: 0.6387169361114502 | Action Train Label Accuracy: 71.57855501025035\n"
     ]
    },
    {
     "name": "stderr",
     "output_type": "stream",
     "text": [
      "Testing =>: 100%|██████████| 10/10 [00:28<00:00,  2.86s/it]\n",
      "INFO:root:Saving model current state\n"
     ]
    },
    {
     "name": "stdout",
     "output_type": "stream",
     "text": [
      "Epoch: 22 | Total Testing Loss: 0.018841933459043503 | Pose Testing Loss: 0.016128642484545708 | Action Testing Loss: 0.5587864518165588 | Action Test Label Accuracy: 79.45833333333333\n",
      "Starting EPOCH: 24 / 30\n"
     ]
    },
    {
     "name": "stderr",
     "output_type": "stream",
     "text": [
      "Training =>: 100%|██████████| 126/126 [00:44<00:00,  2.82it/s]\n"
     ]
    },
    {
     "name": "stdout",
     "output_type": "stream",
     "text": [
      "Saving at epoch 23\n",
      "Epoch: 23 | Total Training Loss: 0.03332505002617836 | Pose Training Loss: 0.03038884326815605 | Action Training Loss: 0.6176294684410095 | Action Train Label Accuracy: 72.56321053612474\n"
     ]
    },
    {
     "name": "stderr",
     "output_type": "stream",
     "text": [
      "Testing =>: 100%|██████████| 10/10 [00:29<00:00,  2.91s/it]\n",
      "INFO:root:Saving model current state\n"
     ]
    },
    {
     "name": "stdout",
     "output_type": "stream",
     "text": [
      "Epoch: 23 | Total Testing Loss: 0.018145330250263214 | Pose Testing Loss: 0.015573774464428425 | Action Testing Loss: 0.529884934425354 | Action Test Label Accuracy: 80.16666666666666\n",
      "Starting EPOCH: 25 / 30\n"
     ]
    },
    {
     "name": "stderr",
     "output_type": "stream",
     "text": [
      "Training =>: 100%|██████████| 126/126 [00:45<00:00,  2.75it/s]\n"
     ]
    },
    {
     "name": "stdout",
     "output_type": "stream",
     "text": [
      "Saving at epoch 24\n",
      "Epoch: 24 | Total Training Loss: 0.03246565908193588 | Pose Training Loss: 0.029619084671139717 | Action Training Loss: 0.5989341735839844 | Action Train Label Accuracy: 73.38945145058085\n"
     ]
    },
    {
     "name": "stderr",
     "output_type": "stream",
     "text": [
      "Testing =>: 100%|██████████| 10/10 [00:28<00:00,  2.90s/it]\n",
      "INFO:root:Saving model current state\n"
     ]
    },
    {
     "name": "stdout",
     "output_type": "stream",
     "text": [
      "Epoch: 24 | Total Testing Loss: 0.01750214770436287 | Pose Testing Loss: 0.014990665018558502 | Action Testing Loss: 0.5172871947288513 | Action Test Label Accuracy: 81.25\n",
      "Starting EPOCH: 26 / 30\n"
     ]
    },
    {
     "name": "stderr",
     "output_type": "stream",
     "text": [
      "Training =>: 100%|██████████| 126/126 [00:43<00:00,  2.88it/s]\n"
     ]
    },
    {
     "name": "stdout",
     "output_type": "stream",
     "text": [
      "Saving at epoch 25\n",
      "Epoch: 25 | Total Training Loss: 0.03182263299822807 | Pose Training Loss: 0.02904515713453293 | Action Training Loss: 0.5845404863357544 | Action Train Label Accuracy: 74.26228489780704\n"
     ]
    },
    {
     "name": "stderr",
     "output_type": "stream",
     "text": [
      "Testing =>: 100%|██████████| 10/10 [00:27<00:00,  2.79s/it]\n",
      "INFO:root:Saving model current state\n"
     ]
    },
    {
     "name": "stdout",
     "output_type": "stream",
     "text": [
      "Epoch: 25 | Total Testing Loss: 0.017056690528988838 | Pose Testing Loss: 0.014636816456913948 | Action Testing Loss: 0.4986114501953125 | Action Test Label Accuracy: 81.58333333333333\n",
      "Starting EPOCH: 27 / 30\n"
     ]
    },
    {
     "name": "stderr",
     "output_type": "stream",
     "text": [
      "Training =>: 100%|██████████| 126/126 [00:44<00:00,  2.86it/s]\n"
     ]
    },
    {
     "name": "stdout",
     "output_type": "stream",
     "text": [
      "Saving at epoch 26\n",
      "Epoch: 26 | Total Training Loss: 0.031087009236216545 | Pose Training Loss: 0.028413070365786552 | Action Training Loss: 0.5632001757621765 | Action Train Label Accuracy: 75.28732061874884\n"
     ]
    },
    {
     "name": "stderr",
     "output_type": "stream",
     "text": [
      "Testing =>: 100%|██████████| 10/10 [00:28<00:00,  2.83s/it]\n",
      "INFO:root:Saving model current state\n"
     ]
    },
    {
     "name": "stdout",
     "output_type": "stream",
     "text": [
      "Epoch: 26 | Total Testing Loss: 0.01660809852182865 | Pose Testing Loss: 0.01435832865536213 | Action Testing Loss: 0.4643119275569916 | Action Test Label Accuracy: 82.5\n",
      "Starting EPOCH: 28 / 30\n"
     ]
    },
    {
     "name": "stderr",
     "output_type": "stream",
     "text": [
      "Training =>: 100%|██████████| 126/126 [00:45<00:00,  2.80it/s]\n"
     ]
    },
    {
     "name": "stdout",
     "output_type": "stream",
     "text": [
      "Saving at epoch 27\n",
      "Epoch: 27 | Total Training Loss: 0.030452564358711243 | Pose Training Loss: 0.02784528024494648 | Action Training Loss: 0.5493022203445435 | Action Train Label Accuracy: 76.44281543144686\n"
     ]
    },
    {
     "name": "stderr",
     "output_type": "stream",
     "text": [
      "Testing =>: 100%|██████████| 10/10 [00:28<00:00,  2.86s/it]\n",
      "INFO:root:Saving model current state\n"
     ]
    },
    {
     "name": "stdout",
     "output_type": "stream",
     "text": [
      "Epoch: 27 | Total Testing Loss: 0.016185885295271873 | Pose Testing Loss: 0.014003735966980457 | Action Testing Loss: 0.4504334032535553 | Action Test Label Accuracy: 82.91666666666667\n",
      "Starting EPOCH: 29 / 30\n"
     ]
    },
    {
     "name": "stderr",
     "output_type": "stream",
     "text": [
      "Training =>: 100%|██████████| 126/126 [00:44<00:00,  2.81it/s]\n"
     ]
    },
    {
     "name": "stdout",
     "output_type": "stream",
     "text": [
      "Saving at epoch 28\n",
      "Epoch: 28 | Total Training Loss: 0.029800139367580414 | Pose Training Loss: 0.027262847870588303 | Action Training Loss: 0.5347194671630859 | Action Train Label Accuracy: 76.9429086165124\n"
     ]
    },
    {
     "name": "stderr",
     "output_type": "stream",
     "text": [
      "Testing =>: 100%|██████████| 10/10 [00:28<00:00,  2.84s/it]\n",
      "INFO:root:Saving model current state\n"
     ]
    },
    {
     "name": "stdout",
     "output_type": "stream",
     "text": [
      "Epoch: 28 | Total Testing Loss: 0.015667185187339783 | Pose Testing Loss: 0.013597212731838226 | Action Testing Loss: 0.42759132385253906 | Action Test Label Accuracy: 83.75\n",
      "Starting EPOCH: 30 / 30\n"
     ]
    },
    {
     "name": "stderr",
     "output_type": "stream",
     "text": [
      "Training =>: 100%|██████████| 126/126 [00:45<00:00,  2.75it/s]\n"
     ]
    },
    {
     "name": "stdout",
     "output_type": "stream",
     "text": [
      "Saving at epoch 29\n",
      "Epoch: 29 | Total Training Loss: 0.029223846271634102 | Pose Training Loss: 0.026775676757097244 | Action Training Loss: 0.5164077877998352 | Action Train Label Accuracy: 77.72566316704976\n"
     ]
    },
    {
     "name": "stderr",
     "output_type": "stream",
     "text": [
      "Testing =>: 100%|██████████| 10/10 [00:28<00:00,  2.83s/it]\n",
      "INFO:root:Saving model current state\n"
     ]
    },
    {
     "name": "stdout",
     "output_type": "stream",
     "text": [
      "Epoch: 29 | Total Testing Loss: 0.015493041835725307 | Pose Testing Loss: 0.013492538593709469 | Action Testing Loss: 0.4135932922363281 | Action Test Label Accuracy: 83.91666666666666\n"
     ]
    },
    {
     "data": {
      "text/plain": [
       "<Figure size 640x480 with 0 Axes>"
      ]
     },
     "metadata": {},
     "output_type": "display_data"
    }
   ],
   "source": [
    "from src.simple_pose_gnn.train_and_test import training_loop\n",
    "from argparse import Namespace\n",
    "import os\n",
    "from datetime import datetime\n",
    "timestamp = datetime.now().strftime(\"%Y-%m-%d--%H-%M-%S\")\n",
    "\n",
    "args_dict = {\n",
    "    'learning_rate': 3e-5,\n",
    "    'num_epochs': 30,\n",
    "    'batch_size': 256,\n",
    "    'action_loss_multiplier': 0.005,\n",
    "    'pose_loss_multiplier': 0.995,\n",
    "    'training_2d_data_path': os.path.join('datasets', 'custom', 'Processed', 'train_2d_poses.npy'),\n",
    "    'training_3d_data_path': os.path.join('datasets', 'custom', 'Processed', 'train_3d_poses.npy'),\n",
    "    'training_label_path': os.path.join('datasets', 'custom', 'Processed', 'train_actions.npy'),\n",
    "    'testing_2d_data_path': os.path.join('datasets', 'custom', 'Processed', 'test_2d_poses.npy'),\n",
    "    'testing_3d_data_path': os.path.join('datasets', 'custom', 'Processed', 'test_3d_poses.npy'),\n",
    "    'testing_label_path': os.path.join('datasets', 'custom', 'Processed', 'test_actions.npy'),\n",
    "    'save_path': os.path.join('model_outputs', 'simple_pose_gnn', timestamp)\n",
    "}\n",
    "args = Namespace(**args_dict)\n",
    "training_loop(args)"
   ]
  },
  {
   "cell_type": "markdown",
   "id": "6386900b282f7968",
   "metadata": {},
   "source": [
    "<h2><u>6. Improvement 1 - SimplePoseGAT</u></h2>\n",
    "\n",
    "TODO.parash to write something meaningful here\n"
   ]
  },
  {
   "cell_type": "code",
   "execution_count": null,
   "id": "74bf857d7fea859a",
   "metadata": {
    "ExecuteTime": {
     "end_time": "2024-11-02T07:03:41.225166Z",
     "start_time": "2024-11-02T07:03:21.503261Z"
    }
   },
   "outputs": [],
   "source": [
    "from src.simple_pose_gat.train_and_test import training_loop\n",
    "from argparse import Namespace\n",
    "import os\n",
    "from datetime import datetime\n",
    "timestamp = datetime.now().strftime(\"%Y-%m-%d--%H-%M-%S\")\n",
    "\n",
    "args_dict = {\n",
    "    'learning_rate': 1e-4,\n",
    "    'num_epochs': 20,\n",
    "    'batch_size': 256,\n",
    "    'action_loss_multiplier': 0.005,\n",
    "    'pose_loss_multiplier': 0.995,\n",
    "    'training_2d_data_path': os.path.join('datasets', 'custom', 'Processed', 'train_2d_poses.npy'),\n",
    "    'training_3d_data_path': os.path.join('datasets', 'custom', 'Processed', 'train_3d_poses.npy'),\n",
    "    'training_label_path': os.path.join('datasets', 'custom', 'Processed', 'train_actions.npy'),\n",
    "    'testing_2d_data_path': os.path.join('datasets', 'custom', 'Processed', 'test_2d_poses.npy'),\n",
    "    'testing_3d_data_path': os.path.join('datasets', 'custom', 'Processed', 'test_3d_poses.npy'),\n",
    "    'testing_label_path': os.path.join('datasets', 'custom', 'Processed', 'test_actions.npy'),\n",
    "    'save_path': os.path.join('model_outputs', 'simple_pose_gat', timestamp)\n",
    "}\n",
    "args = Namespace(**args_dict)\n",
    "training_loop(args)\n",
    "\n"
   ]
  },
  {
   "cell_type": "markdown",
   "id": "84eddcac2a537037",
   "metadata": {},
   "source": [
    "<h2><u>7. Improvement 2 - SimplePoseTAG model</u></h2>\n",
    "\n",
    "TODO.all"
   ]
  },
  {
   "cell_type": "code",
   "execution_count": 3,
   "id": "ea25d299",
   "metadata": {},
   "outputs": [
    {
     "name": "stderr",
     "output_type": "stream",
     "text": [
      "INFO:root:Model is currently using : cuda\n",
      "INFO:root:Creating Missing Paths: model_outputs\\simple_pose_gat\\2024-11-13--12-36-01\n",
      "INFO:root:Saving config\n",
      "INFO:root:Setup Training and Testing Dataloaders\n",
      "INFO:root:Setup SimplePoseTAG model\n",
      "INFO:root:SimplePoseTAG(\n",
      "  (input_layer): Linear(in_features=2, out_features=80, bias=True)\n",
      "  (pos_linear): Linear(in_features=5, out_features=80, bias=True)\n",
      "  (blocks): ModuleList(\n",
      "    (0-5): 6 x Sequential(\n",
      "      (0): TAGConvModule(\n",
      "        (conv_1): TAGConv(\n",
      "          (lin): Linear(in_features=480, out_features=80, bias=True)\n",
      "        )\n",
      "        (batch_norm_1): BatchNorm1d(80, eps=1e-05, momentum=0.1, affine=True, track_running_stats=True)\n",
      "        (conv_2): TAGConv(\n",
      "          (lin): Linear(in_features=480, out_features=80, bias=True)\n",
      "        )\n",
      "        (batch_norm_2): BatchNorm1d(80, eps=1e-05, momentum=0.1, affine=True, track_running_stats=True)\n",
      "        (feed_forward_1): Linear(in_features=80, out_features=80, bias=True)\n",
      "        (dropout): Dropout(p=0.5, inplace=False)\n",
      "      )\n",
      "      (1): TAGConvModule(\n",
      "        (conv_1): TAGConv(\n",
      "          (lin): Linear(in_features=480, out_features=80, bias=True)\n",
      "        )\n",
      "        (batch_norm_1): BatchNorm1d(80, eps=1e-05, momentum=0.1, affine=True, track_running_stats=True)\n",
      "        (conv_2): TAGConv(\n",
      "          (lin): Linear(in_features=480, out_features=80, bias=True)\n",
      "        )\n",
      "        (batch_norm_2): BatchNorm1d(80, eps=1e-05, momentum=0.1, affine=True, track_running_stats=True)\n",
      "        (feed_forward_1): Linear(in_features=80, out_features=80, bias=True)\n",
      "        (dropout): Dropout(p=0.5, inplace=False)\n",
      "      )\n",
      "    )\n",
      "  )\n",
      "  (output_3d_pose_linear): Sequential(\n",
      "    (0): Linear(in_features=80, out_features=80, bias=True)\n",
      "    (1): Dropout(p=0.5, inplace=False)\n",
      "    (2): ReLU()\n",
      "    (3): Linear(in_features=80, out_features=3, bias=True)\n",
      "  )\n",
      "  (output_label_linear): Sequential(\n",
      "    (0): Linear(in_features=80, out_features=80, bias=True)\n",
      "    (1): Dropout(p=0.5, inplace=False)\n",
      "    (2): ReLU()\n",
      "    (3): Linear(in_features=80, out_features=5, bias=True)\n",
      "  )\n",
      ")\n",
      "INFO:root:Setup Optimizer\n",
      "INFO:root:Setup loss functions\n",
      "INFO:root:Start Training and Testing Loops\n"
     ]
    },
    {
     "name": "stdout",
     "output_type": "stream",
     "text": [
      "Training args are: Namespace(action_loss_multiplier=0.005, batch_size=256, learning_rate=0.0001, num_epochs=20, pose_loss_multiplier=0.995, save_path='model_outputs\\\\simple_pose_gat\\\\2024-11-13--12-36-01', testing_2d_data_path='datasets\\\\custom\\\\Processed\\\\test_2d_poses.npy', testing_3d_data_path='datasets\\\\custom\\\\Processed\\\\test_3d_poses.npy', testing_label_path='datasets\\\\custom\\\\Processed\\\\test_actions.npy', training_2d_data_path='datasets\\\\custom\\\\Processed\\\\train_2d_poses.npy', training_3d_data_path='datasets\\\\custom\\\\Processed\\\\train_3d_poses.npy', training_label_path='datasets\\\\custom\\\\Processed\\\\train_actions.npy')\n",
      "(32194, 13, 2)\n",
      "(2400, 13, 2)\n",
      "Starting EPOCH: 1 / 20\n"
     ]
    },
    {
     "name": "stderr",
     "output_type": "stream",
     "text": [
      "Training =>: 100%|██████████| 126/126 [01:01<00:00,  2.06it/s]\n"
     ]
    },
    {
     "name": "stdout",
     "output_type": "stream",
     "text": [
      "Saving at epoch 0\n",
      "Epoch: 0 | Total Training Loss: 0.1753288209438324 | Pose Training Loss: 0.16858655214309692 | Action Training Loss: 1.5170212984085083 | Action Train Label Accuracy: 29.601789153258373\n"
     ]
    },
    {
     "name": "stderr",
     "output_type": "stream",
     "text": [
      "Testing =>: 100%|██████████| 10/10 [00:28<00:00,  2.88s/it]\n",
      "INFO:root:Saving model current state\n"
     ]
    },
    {
     "name": "stdout",
     "output_type": "stream",
     "text": [
      "Epoch: 0 | Total Testing Loss: 0.03963272646069527 | Pose Testing Loss: 0.03358997777104378 | Action Testing Loss: 1.2421400547027588 | Action Test Label Accuracy: 40.375\n",
      "Starting EPOCH: 2 / 20\n"
     ]
    },
    {
     "name": "stderr",
     "output_type": "stream",
     "text": [
      "Training =>: 100%|██████████| 126/126 [00:58<00:00,  2.16it/s]\n"
     ]
    },
    {
     "name": "stdout",
     "output_type": "stream",
     "text": [
      "Saving at epoch 1\n",
      "Epoch: 1 | Total Training Loss: 0.059242989867925644 | Pose Training Loss: 0.05359258875250816 | Action Training Loss: 1.1836706399917603 | Action Train Label Accuracy: 46.68261166677021\n"
     ]
    },
    {
     "name": "stderr",
     "output_type": "stream",
     "text": [
      "Testing =>: 100%|██████████| 10/10 [00:28<00:00,  2.85s/it]\n",
      "INFO:root:Saving model current state\n"
     ]
    },
    {
     "name": "stdout",
     "output_type": "stream",
     "text": [
      "Epoch: 1 | Total Testing Loss: 0.029972314834594727 | Pose Testing Loss: 0.024919498711824417 | Action Testing Loss: 1.03548264503479 | Action Test Label Accuracy: 66.08333333333334\n",
      "Starting EPOCH: 3 / 20\n"
     ]
    },
    {
     "name": "stderr",
     "output_type": "stream",
     "text": [
      "Training =>: 100%|██████████| 126/126 [00:59<00:00,  2.13it/s]\n"
     ]
    },
    {
     "name": "stdout",
     "output_type": "stream",
     "text": [
      "Saving at epoch 2\n",
      "Epoch: 2 | Total Training Loss: 0.04574555531144142 | Pose Training Loss: 0.04083126783370972 | Action Training Loss: 1.0236858129501343 | Action Train Label Accuracy: 55.38299061937006\n"
     ]
    },
    {
     "name": "stderr",
     "output_type": "stream",
     "text": [
      "Testing =>: 100%|██████████| 10/10 [00:28<00:00,  2.89s/it]\n",
      "INFO:root:Saving model current state\n"
     ]
    },
    {
     "name": "stdout",
     "output_type": "stream",
     "text": [
      "Epoch: 2 | Total Testing Loss: 0.0244536641985178 | Pose Testing Loss: 0.019905397668480873 | Action Testing Loss: 0.929559051990509 | Action Test Label Accuracy: 62.708333333333336\n",
      "Starting EPOCH: 4 / 20\n"
     ]
    },
    {
     "name": "stderr",
     "output_type": "stream",
     "text": [
      "Training =>: 100%|██████████| 126/126 [01:04<00:00,  1.95it/s]\n"
     ]
    },
    {
     "name": "stdout",
     "output_type": "stream",
     "text": [
      "Saving at epoch 3\n",
      "Epoch: 3 | Total Training Loss: 0.03895511105656624 | Pose Training Loss: 0.0347474105656147 | Action Training Loss: 0.8762905597686768 | Action Train Label Accuracy: 63.46834813940486\n"
     ]
    },
    {
     "name": "stderr",
     "output_type": "stream",
     "text": [
      "Testing =>: 100%|██████████| 10/10 [00:29<00:00,  2.95s/it]\n",
      "INFO:root:Saving model current state\n"
     ]
    },
    {
     "name": "stdout",
     "output_type": "stream",
     "text": [
      "Epoch: 3 | Total Testing Loss: 0.019913477823138237 | Pose Testing Loss: 0.0160659272223711 | Action Testing Loss: 0.785575807094574 | Action Test Label Accuracy: 72.95833333333334\n",
      "Starting EPOCH: 5 / 20\n"
     ]
    },
    {
     "name": "stderr",
     "output_type": "stream",
     "text": [
      "Training =>: 100%|██████████| 126/126 [00:57<00:00,  2.19it/s]\n"
     ]
    },
    {
     "name": "stdout",
     "output_type": "stream",
     "text": [
      "Saving at epoch 4\n",
      "Epoch: 4 | Total Training Loss: 0.03445279970765114 | Pose Training Loss: 0.030984383076429367 | Action Training Loss: 0.7246660590171814 | Action Train Label Accuracy: 71.03497546126607\n"
     ]
    },
    {
     "name": "stderr",
     "output_type": "stream",
     "text": [
      "Testing =>: 100%|██████████| 10/10 [00:28<00:00,  2.87s/it]\n",
      "INFO:root:Saving model current state\n"
     ]
    },
    {
     "name": "stdout",
     "output_type": "stream",
     "text": [
      "Epoch: 4 | Total Testing Loss: 0.016689447686076164 | Pose Testing Loss: 0.013719828799366951 | Action Testing Loss: 0.6076436042785645 | Action Test Label Accuracy: 83.20833333333333\n",
      "Starting EPOCH: 6 / 20\n"
     ]
    },
    {
     "name": "stderr",
     "output_type": "stream",
     "text": [
      "Training =>: 100%|██████████| 126/126 [00:57<00:00,  2.20it/s]\n"
     ]
    },
    {
     "name": "stdout",
     "output_type": "stream",
     "text": [
      "Saving at epoch 5\n",
      "Epoch: 5 | Total Training Loss: 0.031010499224066734 | Pose Training Loss: 0.028222978115081787 | Action Training Loss: 0.5857282876968384 | Action Train Label Accuracy: 77.79710505063055\n"
     ]
    },
    {
     "name": "stderr",
     "output_type": "stream",
     "text": [
      "Testing =>: 100%|██████████| 10/10 [00:28<00:00,  2.89s/it]\n",
      "INFO:root:Saving model current state\n"
     ]
    },
    {
     "name": "stdout",
     "output_type": "stream",
     "text": [
      "Epoch: 5 | Total Testing Loss: 0.013463838957250118 | Pose Testing Loss: 0.011430471204221249 | Action Testing Loss: 0.4181039333343506 | Action Test Label Accuracy: 88.91666666666667\n",
      "Starting EPOCH: 7 / 20\n"
     ]
    },
    {
     "name": "stderr",
     "output_type": "stream",
     "text": [
      "Training =>: 100%|██████████| 126/126 [00:57<00:00,  2.18it/s]\n"
     ]
    },
    {
     "name": "stdout",
     "output_type": "stream",
     "text": [
      "Saving at epoch 6\n",
      "Epoch: 6 | Total Training Loss: 0.028267499059438705 | Pose Training Loss: 0.026131028309464455 | Action Training Loss: 0.4534267485141754 | Action Train Label Accuracy: 84.0280797664161\n"
     ]
    },
    {
     "name": "stderr",
     "output_type": "stream",
     "text": [
      "Testing =>: 100%|██████████| 10/10 [00:29<00:00,  2.98s/it]\n",
      "INFO:root:Saving model current state\n"
     ]
    },
    {
     "name": "stdout",
     "output_type": "stream",
     "text": [
      "Epoch: 6 | Total Testing Loss: 0.01215305645018816 | Pose Testing Loss: 0.01073889434337616 | Action Testing Loss: 0.2935711145401001 | Action Test Label Accuracy: 90.54166666666667\n",
      "Starting EPOCH: 8 / 20\n"
     ]
    },
    {
     "name": "stderr",
     "output_type": "stream",
     "text": [
      "Training =>: 100%|██████████| 126/126 [00:57<00:00,  2.19it/s]\n"
     ]
    },
    {
     "name": "stdout",
     "output_type": "stream",
     "text": [
      "Saving at epoch 7\n",
      "Epoch: 7 | Total Training Loss: 0.02613252028822899 | Pose Training Loss: 0.02453065849840641 | Action Training Loss: 0.3449031114578247 | Action Train Label Accuracy: 88.56308628937069\n"
     ]
    },
    {
     "name": "stderr",
     "output_type": "stream",
     "text": [
      "Testing =>: 100%|██████████| 10/10 [00:28<00:00,  2.86s/it]\n",
      "INFO:root:Saving model current state\n"
     ]
    },
    {
     "name": "stdout",
     "output_type": "stream",
     "text": [
      "Epoch: 7 | Total Testing Loss: 0.011162765324115753 | Pose Testing Loss: 0.009975441731512547 | Action Testing Loss: 0.24744029343128204 | Action Test Label Accuracy: 92.625\n",
      "Starting EPOCH: 9 / 20\n"
     ]
    },
    {
     "name": "stderr",
     "output_type": "stream",
     "text": [
      "Training =>: 100%|██████████| 126/126 [00:57<00:00,  2.19it/s]\n"
     ]
    },
    {
     "name": "stdout",
     "output_type": "stream",
     "text": [
      "Saving at epoch 8\n",
      "Epoch: 8 | Total Training Loss: 0.024314282462000847 | Pose Training Loss: 0.023096978664398193 | Action Training Loss: 0.26655852794647217 | Action Train Label Accuracy: 91.7531216996956\n"
     ]
    },
    {
     "name": "stderr",
     "output_type": "stream",
     "text": [
      "Testing =>: 100%|██████████| 10/10 [00:28<00:00,  2.84s/it]\n",
      "INFO:root:Saving model current state\n"
     ]
    },
    {
     "name": "stdout",
     "output_type": "stream",
     "text": [
      "Epoch: 8 | Total Testing Loss: 0.00953694898635149 | Pose Testing Loss: 0.008920727297663689 | Action Testing Loss: 0.13216495513916016 | Action Test Label Accuracy: 99.08333333333333\n",
      "Starting EPOCH: 10 / 20\n"
     ]
    },
    {
     "name": "stderr",
     "output_type": "stream",
     "text": [
      "Training =>: 100%|██████████| 126/126 [00:56<00:00,  2.23it/s]\n"
     ]
    },
    {
     "name": "stdout",
     "output_type": "stream",
     "text": [
      "Saving at epoch 9\n",
      "Epoch: 9 | Total Training Loss: 0.022808922454714775 | Pose Training Loss: 0.021888164803385735 | Action Training Loss: 0.20604050159454346 | Action Train Label Accuracy: 94.29707398894203\n"
     ]
    },
    {
     "name": "stderr",
     "output_type": "stream",
     "text": [
      "Testing =>: 100%|██████████| 10/10 [00:28<00:00,  2.89s/it]\n",
      "INFO:root:Saving model current state\n"
     ]
    },
    {
     "name": "stdout",
     "output_type": "stream",
     "text": [
      "Epoch: 9 | Total Testing Loss: 0.00871293805539608 | Pose Testing Loss: 0.008275560103356838 | Action Testing Loss: 0.09575127810239792 | Action Test Label Accuracy: 99.41666666666666\n",
      "Starting EPOCH: 11 / 20\n"
     ]
    },
    {
     "name": "stderr",
     "output_type": "stream",
     "text": [
      "Training =>: 100%|██████████| 126/126 [00:56<00:00,  2.25it/s]\n"
     ]
    },
    {
     "name": "stdout",
     "output_type": "stream",
     "text": [
      "Saving at epoch 10\n",
      "Epoch: 10 | Total Training Loss: 0.021487699821591377 | Pose Training Loss: 0.02077646553516388 | Action Training Loss: 0.16302262246608734 | Action Train Label Accuracy: 95.74765484251724\n"
     ]
    },
    {
     "name": "stderr",
     "output_type": "stream",
     "text": [
      "Testing =>: 100%|██████████| 10/10 [00:27<00:00,  2.78s/it]\n",
      "INFO:root:Saving model current state\n"
     ]
    },
    {
     "name": "stdout",
     "output_type": "stream",
     "text": [
      "Epoch: 10 | Total Testing Loss: 0.007876530289649963 | Pose Testing Loss: 0.007626342121511698 | Action Testing Loss: 0.05766374617815018 | Action Test Label Accuracy: 99.95833333333334\n",
      "Starting EPOCH: 12 / 20\n"
     ]
    },
    {
     "name": "stderr",
     "output_type": "stream",
     "text": [
      "Training =>:  52%|█████▏    | 65/126 [00:42<00:11,  5.42it/s]"
     ]
    },
    {
     "ename": "KeyboardInterrupt",
     "evalue": "",
     "output_type": "error",
     "traceback": [
      "\u001b[1;31m---------------------------------------------------------------------------\u001b[0m",
      "\u001b[1;31mKeyboardInterrupt\u001b[0m                         Traceback (most recent call last)",
      "Cell \u001b[1;32mIn[3], line 22\u001b[0m\n\u001b[0;32m      7\u001b[0m args_dict \u001b[38;5;241m=\u001b[39m {\n\u001b[0;32m      8\u001b[0m     \u001b[38;5;124m'\u001b[39m\u001b[38;5;124mlearning_rate\u001b[39m\u001b[38;5;124m'\u001b[39m: \u001b[38;5;241m1e-4\u001b[39m,\n\u001b[0;32m      9\u001b[0m     \u001b[38;5;124m'\u001b[39m\u001b[38;5;124mnum_epochs\u001b[39m\u001b[38;5;124m'\u001b[39m: \u001b[38;5;241m20\u001b[39m,\n\u001b[1;32m   (...)\u001b[0m\n\u001b[0;32m     19\u001b[0m     \u001b[38;5;124m'\u001b[39m\u001b[38;5;124msave_path\u001b[39m\u001b[38;5;124m'\u001b[39m: os\u001b[38;5;241m.\u001b[39mpath\u001b[38;5;241m.\u001b[39mjoin(\u001b[38;5;124m'\u001b[39m\u001b[38;5;124mmodel_outputs\u001b[39m\u001b[38;5;124m'\u001b[39m, \u001b[38;5;124m'\u001b[39m\u001b[38;5;124msimple_pose_gat\u001b[39m\u001b[38;5;124m'\u001b[39m, timestamp)\n\u001b[0;32m     20\u001b[0m }\n\u001b[0;32m     21\u001b[0m args \u001b[38;5;241m=\u001b[39m Namespace(\u001b[38;5;241m*\u001b[39m\u001b[38;5;241m*\u001b[39margs_dict)\n\u001b[1;32m---> 22\u001b[0m \u001b[43mtraining_loop\u001b[49m\u001b[43m(\u001b[49m\u001b[43margs\u001b[49m\u001b[43m)\u001b[49m\n",
      "File \u001b[1;32md:\\nus\\Poseidon\\src\\simple_pose_tag\\train_and_test.py:239\u001b[0m, in \u001b[0;36mtraining_loop\u001b[1;34m(args)\u001b[0m\n\u001b[0;32m    228\u001b[0m \u001b[38;5;28mprint\u001b[39m(\u001b[38;5;124mf\u001b[39m\u001b[38;5;124m\"\u001b[39m\u001b[38;5;124mStarting EPOCH: \u001b[39m\u001b[38;5;132;01m{\u001b[39;00mepoch\u001b[38;5;250m \u001b[39m\u001b[38;5;241m+\u001b[39m\u001b[38;5;250m \u001b[39m\u001b[38;5;241m1\u001b[39m\u001b[38;5;132;01m}\u001b[39;00m\u001b[38;5;124m / \u001b[39m\u001b[38;5;132;01m{\u001b[39;00mNUM_EPOCHS\u001b[38;5;132;01m}\u001b[39;00m\u001b[38;5;124m\"\u001b[39m)\n\u001b[0;32m    229\u001b[0m train_dict \u001b[38;5;241m=\u001b[39m {\n\u001b[0;32m    230\u001b[0m     \u001b[38;5;124m'\u001b[39m\u001b[38;5;124mmodel\u001b[39m\u001b[38;5;124m'\u001b[39m: model,\n\u001b[0;32m    231\u001b[0m     \u001b[38;5;124m'\u001b[39m\u001b[38;5;124mdataloader\u001b[39m\u001b[38;5;124m'\u001b[39m: train_dataloader,\n\u001b[1;32m   (...)\u001b[0m\n\u001b[0;32m    237\u001b[0m     \u001b[38;5;124m'\u001b[39m\u001b[38;5;124maction_loss_multiplier\u001b[39m\u001b[38;5;124m'\u001b[39m: ACTION_LOSS_MULTIPLIER\n\u001b[0;32m    238\u001b[0m }\n\u001b[1;32m--> 239\u001b[0m train_predicted_labels, train_true_labels, train_total_losses, train_pose_losses, train_action_losses \u001b[38;5;241m=\u001b[39m \u001b[43mtrain_once\u001b[49m\u001b[43m(\u001b[49m\u001b[43mtrain_dict\u001b[49m\u001b[43m)\u001b[49m\n\u001b[0;32m    240\u001b[0m \u001b[38;5;28mprint\u001b[39m(\u001b[38;5;124mf\u001b[39m\u001b[38;5;124m\"\u001b[39m\u001b[38;5;124mSaving at epoch \u001b[39m\u001b[38;5;132;01m{\u001b[39;00mepoch\u001b[38;5;132;01m}\u001b[39;00m\u001b[38;5;124m\"\u001b[39m)\n\u001b[0;32m    241\u001b[0m train_pose_loss, train_action_loss, train_total_loss, train_accuracy \u001b[38;5;241m=\u001b[39m print_evaluation_metric(epoch, train_predicted_labels, train_true_labels, train_total_losses, train_pose_losses, train_action_losses, \u001b[38;5;124m'\u001b[39m\u001b[38;5;124mtrain\u001b[39m\u001b[38;5;124m'\u001b[39m)\n",
      "File \u001b[1;32md:\\nus\\Poseidon\\src\\simple_pose_tag\\train_and_test.py:51\u001b[0m, in \u001b[0;36mtrain_once\u001b[1;34m(train_dict)\u001b[0m\n\u001b[0;32m     49\u001b[0m batch_labels \u001b[38;5;241m=\u001b[39m batch_labels\u001b[38;5;241m.\u001b[39mto(device)\n\u001b[0;32m     50\u001b[0m \u001b[38;5;66;03m# Train Model\u001b[39;00m\n\u001b[1;32m---> 51\u001b[0m predicted_3d_pose_estimations, predicted_action_labels \u001b[38;5;241m=\u001b[39m \u001b[43mmodel\u001b[49m\u001b[43m(\u001b[49m\u001b[43mbatch_graphs\u001b[49m\u001b[43m,\u001b[49m\u001b[43m \u001b[49m\u001b[43mbatch_2d\u001b[49m\u001b[43m)\u001b[49m\n\u001b[0;32m     52\u001b[0m \u001b[38;5;66;03m# Calculate Loss\u001b[39;00m\n\u001b[0;32m     53\u001b[0m pose_loss \u001b[38;5;241m=\u001b[39m three_dim_pose_loss_fn(predicted_3d_pose_estimations, batch_2d_labels)\n",
      "File \u001b[1;32md:\\Anaconda\\envs\\gnn_course\\lib\\site-packages\\torch\\nn\\modules\\module.py:1518\u001b[0m, in \u001b[0;36mModule._wrapped_call_impl\u001b[1;34m(self, *args, **kwargs)\u001b[0m\n\u001b[0;32m   1516\u001b[0m     \u001b[38;5;28;01mreturn\u001b[39;00m \u001b[38;5;28mself\u001b[39m\u001b[38;5;241m.\u001b[39m_compiled_call_impl(\u001b[38;5;241m*\u001b[39margs, \u001b[38;5;241m*\u001b[39m\u001b[38;5;241m*\u001b[39mkwargs)  \u001b[38;5;66;03m# type: ignore[misc]\u001b[39;00m\n\u001b[0;32m   1517\u001b[0m \u001b[38;5;28;01melse\u001b[39;00m:\n\u001b[1;32m-> 1518\u001b[0m     \u001b[38;5;28;01mreturn\u001b[39;00m \u001b[38;5;28;43mself\u001b[39;49m\u001b[38;5;241;43m.\u001b[39;49m\u001b[43m_call_impl\u001b[49m\u001b[43m(\u001b[49m\u001b[38;5;241;43m*\u001b[39;49m\u001b[43margs\u001b[49m\u001b[43m,\u001b[49m\u001b[43m \u001b[49m\u001b[38;5;241;43m*\u001b[39;49m\u001b[38;5;241;43m*\u001b[39;49m\u001b[43mkwargs\u001b[49m\u001b[43m)\u001b[49m\n",
      "File \u001b[1;32md:\\Anaconda\\envs\\gnn_course\\lib\\site-packages\\torch\\nn\\modules\\module.py:1527\u001b[0m, in \u001b[0;36mModule._call_impl\u001b[1;34m(self, *args, **kwargs)\u001b[0m\n\u001b[0;32m   1522\u001b[0m \u001b[38;5;66;03m# If we don't have any hooks, we want to skip the rest of the logic in\u001b[39;00m\n\u001b[0;32m   1523\u001b[0m \u001b[38;5;66;03m# this function, and just call forward.\u001b[39;00m\n\u001b[0;32m   1524\u001b[0m \u001b[38;5;28;01mif\u001b[39;00m \u001b[38;5;129;01mnot\u001b[39;00m (\u001b[38;5;28mself\u001b[39m\u001b[38;5;241m.\u001b[39m_backward_hooks \u001b[38;5;129;01mor\u001b[39;00m \u001b[38;5;28mself\u001b[39m\u001b[38;5;241m.\u001b[39m_backward_pre_hooks \u001b[38;5;129;01mor\u001b[39;00m \u001b[38;5;28mself\u001b[39m\u001b[38;5;241m.\u001b[39m_forward_hooks \u001b[38;5;129;01mor\u001b[39;00m \u001b[38;5;28mself\u001b[39m\u001b[38;5;241m.\u001b[39m_forward_pre_hooks\n\u001b[0;32m   1525\u001b[0m         \u001b[38;5;129;01mor\u001b[39;00m _global_backward_pre_hooks \u001b[38;5;129;01mor\u001b[39;00m _global_backward_hooks\n\u001b[0;32m   1526\u001b[0m         \u001b[38;5;129;01mor\u001b[39;00m _global_forward_hooks \u001b[38;5;129;01mor\u001b[39;00m _global_forward_pre_hooks):\n\u001b[1;32m-> 1527\u001b[0m     \u001b[38;5;28;01mreturn\u001b[39;00m \u001b[43mforward_call\u001b[49m\u001b[43m(\u001b[49m\u001b[38;5;241;43m*\u001b[39;49m\u001b[43margs\u001b[49m\u001b[43m,\u001b[49m\u001b[43m \u001b[49m\u001b[38;5;241;43m*\u001b[39;49m\u001b[38;5;241;43m*\u001b[39;49m\u001b[43mkwargs\u001b[49m\u001b[43m)\u001b[49m\n\u001b[0;32m   1529\u001b[0m \u001b[38;5;28;01mtry\u001b[39;00m:\n\u001b[0;32m   1530\u001b[0m     result \u001b[38;5;241m=\u001b[39m \u001b[38;5;28;01mNone\u001b[39;00m\n",
      "File \u001b[1;32md:\\nus\\Poseidon\\models\\simple_pose_tag.py:67\u001b[0m, in \u001b[0;36mSimplePoseTAG.forward\u001b[1;34m(self, graph, node_features, mode)\u001b[0m\n\u001b[0;32m     66\u001b[0m \u001b[38;5;28;01mdef\u001b[39;00m \u001b[38;5;21mforward\u001b[39m(\u001b[38;5;28mself\u001b[39m, graph, node_features \u001b[38;5;241m=\u001b[39m \u001b[38;5;28;01mNone\u001b[39;00m, mode \u001b[38;5;241m=\u001b[39m \u001b[38;5;28;01mNone\u001b[39;00m):\n\u001b[1;32m---> 67\u001b[0m     lap_pe \u001b[38;5;241m=\u001b[39m \u001b[43mdgl\u001b[49m\u001b[38;5;241;43m.\u001b[39;49m\u001b[43mlap_pe\u001b[49m\u001b[43m(\u001b[49m\u001b[43mgraph\u001b[49m\u001b[43m,\u001b[49m\u001b[43m \u001b[49m\u001b[43mk\u001b[49m\u001b[38;5;241;43m=\u001b[39;49m\u001b[38;5;28;43mself\u001b[39;49m\u001b[38;5;241;43m.\u001b[39;49m\u001b[43mk\u001b[49m\u001b[43m,\u001b[49m\u001b[43m \u001b[49m\u001b[43mpadding\u001b[49m\u001b[38;5;241;43m=\u001b[39;49m\u001b[38;5;28;43;01mTrue\u001b[39;49;00m\u001b[43m)\u001b[49m\u001b[38;5;241m.\u001b[39mto(node_features\u001b[38;5;241m.\u001b[39mdevice)\n\u001b[0;32m     68\u001b[0m     \u001b[38;5;66;03m# features = torch.cat([node_features, lap_pe], dim=1)\u001b[39;00m\n\u001b[0;32m     69\u001b[0m     h \u001b[38;5;241m=\u001b[39m \u001b[38;5;28mself\u001b[39m\u001b[38;5;241m.\u001b[39minput_layer(node_features) \u001b[38;5;241m+\u001b[39m \u001b[38;5;28mself\u001b[39m\u001b[38;5;241m.\u001b[39mpos_linear(lap_pe)\n",
      "File \u001b[1;32md:\\Anaconda\\envs\\gnn_course\\lib\\site-packages\\dgl\\transforms\\functional.py:3686\u001b[0m, in \u001b[0;36mlap_pe\u001b[1;34m(g, k, padding, return_eigval)\u001b[0m\n\u001b[0;32m   3683\u001b[0m \u001b[38;5;66;03m# select eigenvectors with smaller eigenvalues O(n + klogk)\u001b[39;00m\n\u001b[0;32m   3684\u001b[0m \u001b[38;5;28;01mif\u001b[39;00m k \u001b[38;5;241m+\u001b[39m \u001b[38;5;241m1\u001b[39m \u001b[38;5;241m<\u001b[39m n \u001b[38;5;241m-\u001b[39m \u001b[38;5;241m1\u001b[39m:\n\u001b[0;32m   3685\u001b[0m     \u001b[38;5;66;03m# Use scipy if k + 1 < n - 1 for memory efficiency.\u001b[39;00m\n\u001b[1;32m-> 3686\u001b[0m     EigVal, EigVec \u001b[38;5;241m=\u001b[39m \u001b[43mscipy\u001b[49m\u001b[38;5;241;43m.\u001b[39;49m\u001b[43msparse\u001b[49m\u001b[38;5;241;43m.\u001b[39;49m\u001b[43mlinalg\u001b[49m\u001b[38;5;241;43m.\u001b[39;49m\u001b[43meigs\u001b[49m\u001b[43m(\u001b[49m\n\u001b[0;32m   3687\u001b[0m \u001b[43m        \u001b[49m\u001b[43mL\u001b[49m\u001b[43m,\u001b[49m\u001b[43m \u001b[49m\u001b[43mk\u001b[49m\u001b[38;5;241;43m=\u001b[39;49m\u001b[43mk\u001b[49m\u001b[43m \u001b[49m\u001b[38;5;241;43m+\u001b[39;49m\u001b[43m \u001b[49m\u001b[38;5;241;43m1\u001b[39;49m\u001b[43m,\u001b[49m\u001b[43m \u001b[49m\u001b[43mwhich\u001b[49m\u001b[38;5;241;43m=\u001b[39;49m\u001b[38;5;124;43m\"\u001b[39;49m\u001b[38;5;124;43mSR\u001b[39;49m\u001b[38;5;124;43m\"\u001b[39;49m\u001b[43m,\u001b[49m\u001b[43m \u001b[49m\u001b[43mncv\u001b[49m\u001b[38;5;241;43m=\u001b[39;49m\u001b[38;5;241;43m4\u001b[39;49m\u001b[43m \u001b[49m\u001b[38;5;241;43m*\u001b[39;49m\u001b[43m \u001b[49m\u001b[43mk\u001b[49m\u001b[43m,\u001b[49m\u001b[43m \u001b[49m\u001b[43mtol\u001b[49m\u001b[38;5;241;43m=\u001b[39;49m\u001b[38;5;241;43m1e-2\u001b[39;49m\n\u001b[0;32m   3688\u001b[0m \u001b[43m    \u001b[49m\u001b[43m)\u001b[49m\n\u001b[0;32m   3689\u001b[0m     max_freqs \u001b[38;5;241m=\u001b[39m k\n\u001b[0;32m   3690\u001b[0m     topk_indices \u001b[38;5;241m=\u001b[39m EigVal\u001b[38;5;241m.\u001b[39margsort()[\u001b[38;5;241m1\u001b[39m:]\n",
      "File \u001b[1;32md:\\Anaconda\\envs\\gnn_course\\lib\\site-packages\\scipy\\sparse\\linalg\\_eigen\\arpack\\arpack.py:1346\u001b[0m, in \u001b[0;36meigs\u001b[1;34m(A, k, M, sigma, which, v0, ncv, maxiter, tol, return_eigenvectors, Minv, OPinv, OPpart)\u001b[0m\n\u001b[0;32m   1343\u001b[0m     \u001b[38;5;28;01melse\u001b[39;00m:\n\u001b[0;32m   1344\u001b[0m         M_matvec \u001b[38;5;241m=\u001b[39m _aslinearoperator_with_dtype(M)\u001b[38;5;241m.\u001b[39mmatvec\n\u001b[1;32m-> 1346\u001b[0m params \u001b[38;5;241m=\u001b[39m \u001b[43m_UnsymmetricArpackParams\u001b[49m\u001b[43m(\u001b[49m\u001b[43mn\u001b[49m\u001b[43m,\u001b[49m\u001b[43m \u001b[49m\u001b[43mk\u001b[49m\u001b[43m,\u001b[49m\u001b[43m \u001b[49m\u001b[43mA\u001b[49m\u001b[38;5;241;43m.\u001b[39;49m\u001b[43mdtype\u001b[49m\u001b[38;5;241;43m.\u001b[39;49m\u001b[43mchar\u001b[49m\u001b[43m,\u001b[49m\u001b[43m \u001b[49m\u001b[43mmatvec\u001b[49m\u001b[43m,\u001b[49m\u001b[43m \u001b[49m\u001b[43mmode\u001b[49m\u001b[43m,\u001b[49m\n\u001b[0;32m   1347\u001b[0m \u001b[43m                                  \u001b[49m\u001b[43mM_matvec\u001b[49m\u001b[43m,\u001b[49m\u001b[43m \u001b[49m\u001b[43mMinv_matvec\u001b[49m\u001b[43m,\u001b[49m\u001b[43m \u001b[49m\u001b[43msigma\u001b[49m\u001b[43m,\u001b[49m\n\u001b[0;32m   1348\u001b[0m \u001b[43m                                  \u001b[49m\u001b[43mncv\u001b[49m\u001b[43m,\u001b[49m\u001b[43m \u001b[49m\u001b[43mv0\u001b[49m\u001b[43m,\u001b[49m\u001b[43m \u001b[49m\u001b[43mmaxiter\u001b[49m\u001b[43m,\u001b[49m\u001b[43m \u001b[49m\u001b[43mwhich\u001b[49m\u001b[43m,\u001b[49m\u001b[43m \u001b[49m\u001b[43mtol\u001b[49m\u001b[43m)\u001b[49m\n\u001b[0;32m   1350\u001b[0m \u001b[38;5;28;01mwith\u001b[39;00m _ARPACK_LOCK:\n\u001b[0;32m   1351\u001b[0m     \u001b[38;5;28;01mwhile\u001b[39;00m \u001b[38;5;129;01mnot\u001b[39;00m params\u001b[38;5;241m.\u001b[39mconverged:\n",
      "File \u001b[1;32md:\\Anaconda\\envs\\gnn_course\\lib\\site-packages\\scipy\\sparse\\linalg\\_eigen\\arpack\\arpack.py:696\u001b[0m, in \u001b[0;36m_UnsymmetricArpackParams.__init__\u001b[1;34m(self, n, k, tp, matvec, mode, M_matvec, Minv_matvec, sigma, ncv, v0, maxiter, which, tol)\u001b[0m\n\u001b[0;32m    693\u001b[0m \u001b[38;5;28;01mif\u001b[39;00m k \u001b[38;5;241m>\u001b[39m\u001b[38;5;241m=\u001b[39m n \u001b[38;5;241m-\u001b[39m \u001b[38;5;241m1\u001b[39m:\n\u001b[0;32m    694\u001b[0m     \u001b[38;5;28;01mraise\u001b[39;00m \u001b[38;5;167;01mValueError\u001b[39;00m(\u001b[38;5;124m\"\u001b[39m\u001b[38;5;124mk must be less than ndim(A)-1, k=\u001b[39m\u001b[38;5;132;01m%d\u001b[39;00m\u001b[38;5;124m\"\u001b[39m \u001b[38;5;241m%\u001b[39m k)\n\u001b[1;32m--> 696\u001b[0m \u001b[43m_ArpackParams\u001b[49m\u001b[38;5;241;43m.\u001b[39;49m\u001b[38;5;21;43m__init__\u001b[39;49m\u001b[43m(\u001b[49m\u001b[38;5;28;43mself\u001b[39;49m\u001b[43m,\u001b[49m\u001b[43m \u001b[49m\u001b[43mn\u001b[49m\u001b[43m,\u001b[49m\u001b[43m \u001b[49m\u001b[43mk\u001b[49m\u001b[43m,\u001b[49m\u001b[43m \u001b[49m\u001b[43mtp\u001b[49m\u001b[43m,\u001b[49m\u001b[43m \u001b[49m\u001b[43mmode\u001b[49m\u001b[43m,\u001b[49m\u001b[43m \u001b[49m\u001b[43msigma\u001b[49m\u001b[43m,\u001b[49m\n\u001b[0;32m    697\u001b[0m \u001b[43m                       \u001b[49m\u001b[43mncv\u001b[49m\u001b[43m,\u001b[49m\u001b[43m \u001b[49m\u001b[43mv0\u001b[49m\u001b[43m,\u001b[49m\u001b[43m \u001b[49m\u001b[43mmaxiter\u001b[49m\u001b[43m,\u001b[49m\u001b[43m \u001b[49m\u001b[43mwhich\u001b[49m\u001b[43m,\u001b[49m\u001b[43m \u001b[49m\u001b[43mtol\u001b[49m\u001b[43m)\u001b[49m\n\u001b[0;32m    699\u001b[0m \u001b[38;5;28;01mif\u001b[39;00m \u001b[38;5;28mself\u001b[39m\u001b[38;5;241m.\u001b[39mncv \u001b[38;5;241m>\u001b[39m n \u001b[38;5;129;01mor\u001b[39;00m \u001b[38;5;28mself\u001b[39m\u001b[38;5;241m.\u001b[39mncv \u001b[38;5;241m<\u001b[39m\u001b[38;5;241m=\u001b[39m k \u001b[38;5;241m+\u001b[39m \u001b[38;5;241m1\u001b[39m:\n\u001b[0;32m    700\u001b[0m     \u001b[38;5;28;01mraise\u001b[39;00m \u001b[38;5;167;01mValueError\u001b[39;00m(\u001b[38;5;124m\"\u001b[39m\u001b[38;5;124mncv must be k+1<ncv<=n, ncv=\u001b[39m\u001b[38;5;132;01m%s\u001b[39;00m\u001b[38;5;124m\"\u001b[39m \u001b[38;5;241m%\u001b[39m \u001b[38;5;28mself\u001b[39m\u001b[38;5;241m.\u001b[39mncv)\n",
      "File \u001b[1;32md:\\Anaconda\\envs\\gnn_course\\lib\\site-packages\\scipy\\sparse\\linalg\\_eigen\\arpack\\arpack.py:343\u001b[0m, in \u001b[0;36m_ArpackParams.__init__\u001b[1;34m(self, n, k, tp, mode, sigma, ncv, v0, maxiter, which, tol)\u001b[0m\n\u001b[0;32m    340\u001b[0m     ncv \u001b[38;5;241m=\u001b[39m choose_ncv(k)\n\u001b[0;32m    341\u001b[0m ncv \u001b[38;5;241m=\u001b[39m \u001b[38;5;28mmin\u001b[39m(ncv, n)\n\u001b[1;32m--> 343\u001b[0m \u001b[38;5;28mself\u001b[39m\u001b[38;5;241m.\u001b[39mv \u001b[38;5;241m=\u001b[39m \u001b[43mnp\u001b[49m\u001b[38;5;241;43m.\u001b[39;49m\u001b[43mzeros\u001b[49m\u001b[43m(\u001b[49m\u001b[43m(\u001b[49m\u001b[43mn\u001b[49m\u001b[43m,\u001b[49m\u001b[43m \u001b[49m\u001b[43mncv\u001b[49m\u001b[43m)\u001b[49m\u001b[43m,\u001b[49m\u001b[43m \u001b[49m\u001b[43mtp\u001b[49m\u001b[43m)\u001b[49m  \u001b[38;5;66;03m# holds Ritz vectors\u001b[39;00m\n\u001b[0;32m    344\u001b[0m \u001b[38;5;28mself\u001b[39m\u001b[38;5;241m.\u001b[39miparam \u001b[38;5;241m=\u001b[39m np\u001b[38;5;241m.\u001b[39mzeros(\u001b[38;5;241m11\u001b[39m, arpack_int)\n\u001b[0;32m    346\u001b[0m \u001b[38;5;66;03m# set solver mode and parameters\u001b[39;00m\n",
      "\u001b[1;31mKeyboardInterrupt\u001b[0m: "
     ]
    },
    {
     "data": {
      "text/plain": [
       "<Figure size 640x480 with 0 Axes>"
      ]
     },
     "metadata": {},
     "output_type": "display_data"
    }
   ],
   "source": [
    "from src.simple_pose_tag.train_and_test import training_loop\n",
    "from argparse import Namespace\n",
    "import os\n",
    "from datetime import datetime\n",
    "timestamp = datetime.now().strftime(\"%Y-%m-%d--%H-%M-%S\")\n",
    "\n",
    "args_dict = {\n",
    "    'learning_rate': 1e-4,\n",
    "    'num_epochs': 20,\n",
    "    'batch_size': 256,\n",
    "    'action_loss_multiplier': 0.005,\n",
    "    'pose_loss_multiplier': 0.995,\n",
    "    'training_2d_data_path': os.path.join('datasets', 'custom', 'Processed', 'train_2d_poses.npy'),\n",
    "    'training_3d_data_path': os.path.join('datasets', 'custom', 'Processed', 'train_3d_poses.npy'),\n",
    "    'training_label_path': os.path.join('datasets', 'custom', 'Processed', 'train_actions.npy'),\n",
    "    'testing_2d_data_path': os.path.join('datasets', 'custom', 'Processed', 'test_2d_poses.npy'),\n",
    "    'testing_3d_data_path': os.path.join('datasets', 'custom', 'Processed', 'test_3d_poses.npy'),\n",
    "    'testing_label_path': os.path.join('datasets', 'custom', 'Processed', 'test_actions.npy'),\n",
    "    'save_path': os.path.join('model_outputs', 'simple_pose_gat', timestamp)\n",
    "}\n",
    "args = Namespace(**args_dict)\n",
    "training_loop(args)"
   ]
  },
  {
   "cell_type": "markdown",
   "id": "11bbad889b6bc016",
   "metadata": {},
   "source": [
    "<h2><u>8. Evaluation & Analysis of models<u></h2>"
   ]
  },
  {
   "cell_type": "markdown",
   "id": "49da5ad156e80a02",
   "metadata": {},
   "source": [
    "<h2><u>9. Creating our own custom dataset</u></h2>"
   ]
  },
  {
   "cell_type": "markdown",
   "id": "477bbc24b9d697ad",
   "metadata": {},
   "source": [
    "<h2><u>10. Evaluation on custom dataset</u></h2>"
   ]
  },
  {
   "cell_type": "markdown",
   "id": "27e11b1939fb52fe",
   "metadata": {},
   "source": [
    "<h2><u>11. Conclusion</u></h2>"
   ]
  },
  {
   "cell_type": "markdown",
   "id": "cdca78e7d8d35b85",
   "metadata": {},
   "source": [
    "<h2><u>12. Video presentation & Resources</u></h2>"
   ]
  }
 ],
 "metadata": {
  "kernelspec": {
   "display_name": "gnn_course",
   "language": "python",
   "name": "python3"
  },
  "language_info": {
   "codemirror_mode": {
    "name": "ipython",
    "version": 3
   },
   "file_extension": ".py",
   "mimetype": "text/x-python",
   "name": "python",
   "nbconvert_exporter": "python",
   "pygments_lexer": "ipython3",
   "version": "3.8.20"
  }
 },
 "nbformat": 4,
 "nbformat_minor": 5
}
