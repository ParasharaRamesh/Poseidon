{
 "cells": [
  {
   "cell_type": "markdown",
   "id": "47024cb481badce7",
   "metadata": {},
   "source": [
    "# POSEIDON: Pose Estimation & Activity Recognition using GNNs\n",
    "\n",
    "Team Members (Group 16): \n",
    "1. Chong Jun Rong Brian (A0290882U)\n",
    "2. Parashara Ramesh (A0285647M)\n",
    "3. Ng Wei Jie Brandon (A0184893L)"
   ]
  },
  {
   "cell_type": "code",
<<<<<<< HEAD
   "execution_count": 1,
   "id": "ca470c79",
   "metadata": {},
   "outputs": [],
=======
   "id": "ca470c79",
   "metadata": {
    "ExecuteTime": {
     "end_time": "2024-10-24T10:31:03.101782Z",
     "start_time": "2024-10-24T10:31:03.060100Z"
    }
   },
>>>>>>> 94567e14f2a74847a8b68b7729f0782e73c52f91
   "source": [
    "%load_ext autoreload\n",
    "%autoreload 2"
   ],
   "outputs": [],
   "execution_count": 1
  },
  {
   "cell_type": "markdown",
   "id": "54775158eb81e1a9",
   "metadata": {},
   "source": [
    "<h2><u> Table of contents </u></h2>\n",
    "\n",
    "1. What is this project about?\n",
    "<br> 1.1. Project Motivation\n",
    "<br> 1.2. Project Description\n",
    "<br> 1.3. Project Setup   \n",
    "2. Human 3.6M Dataset\n",
    "<br> 2.1. Summary of the dataset\n",
    "<br> 2.2. Preparing the dataset\n",
    "<br> 2.3. Visualizing poses\n",
    "3. Model building approach\n",
    "4. Baseline 1 - SimplePose (Simple ML model without using GNNs)\n",
    "5. Baseline 2 - SimplePoseGNN (Simple ML model using GNNs) \n",
    "6. Improvement 1 - SemGCN model (Reimplementation of Semantic GCN)\n",
    "7. Improvement 2 - PoseGCN model (Tweaks of SemGCN)\n",
    "8. Evaluation & Analysis of models\n",
    "9. Creating our own custom dataset\n",
    "10. Evaluation on custom dataset\n",
    "11. Conclusion\n",
    "12. Video presentation & Resources\n"
   ]
  },
  {
   "cell_type": "markdown",
   "id": "5e9d0baed6e093c8",
   "metadata": {},
   "source": [
    "<h2><u>1. What is this project about?</u></h2>\n",
    "<h3><u>1.1 Project Motivation</u></h3>\n",
    "\n",
    "Accurately predicting 3D human poses from 2D keypoints is a critical task for many applications such as motion capture and activity recognition. Traditional methods that use direct regression or lifting techniques often struggle to fully capture the complex spatial relationships between body joints. By treating the 2D pose keypoints as graphs, we can leverage the underlying connectivity between joints to improve the 3D pose estimation. Additionally, recognizing and classifying human activities from these poses is an essential task in fields like surveillance and healthcare. Therefore, this project seeks to explore how GNNs can enhance 3D pose estimation and activity recognition.\n",
    "\n",
    "<h3><u>1.2 Project Description</h3></u>\n",
    "\n",
    "The primary objective of this project is to predict 3D human poses from 2D pose keypoints accurately using GNNs. \n",
    "* Firstly, we will develop two baseline models: one using standard Neural Network (NN) & Convolutional Neural Network (CNN) followed by a simple GNN based model both for 3d pose estimation \n",
    "* Secondly, we will reimplement the SemGCN model, which treats the body joints of a 2D pose as nodes in a graph, with edges representing the connectivity between them. \n",
    "* Finally, we will design an improved version of the SemGCN model by exploring different GNN architectures and modifications to enhance its performance.\n",
    "\n",
    "The secondary objective is to classify human activities based on 2D pose keypoints. We will use custom datasets to validate this task, allowing us to assess the generalization capabilities of GNN-based models for activity recognition.\n",
    "\n",
    "<h3><u>1.3 Project Setup</u></h3>\n",
    "\n",
<<<<<<< HEAD
    "1. Install the dependencies from requirements.txt (TODO.all to fix later)\n"
   ]
  },
  {
   "cell_type": "code",
   "execution_count": 2,
   "id": "f092b739",
   "metadata": {},
   "outputs": [],
   "source": [
    "import os\n",
    "os.environ[\"DGLBACKEND\"] = \"pytorch\" # DGL Settings\n",
    "import torch\n",
    "import torch.nn as nn\n",
    "import torch.nn.functional as F\n",
    "import dgl\n",
    "import dgl.nn as dglnn\n",
    "import networkx as nx\n",
    "import numpy as np\n",
    "from tqdm import tqdm\n",
    "from torch.utils.data import Dataset, DataLoader\n",
    "import matplotlib.pyplot as plt\n",
    "from dgl.data import DGLDataset\n",
    "from utils.visualization_utils import visualize_2d_pose, visualize_3d_pose"
=======
    "1. Install the dependencies from requirements.txt using the command\n",
    "\n",
    "`pip install -r requirements.txt`\n"
>>>>>>> 94567e14f2a74847a8b68b7729f0782e73c52f91
   ]
  },
  {
   "cell_type": "markdown",
   "id": "611734fb42bb945e",
   "metadata": {},
   "source": [
    "<h2><u>2. Human 3.6M Dataset</u></h2>\n",
    "\n",
    "<h3><u>2.1 Summary of the dataset </u></h3>\n",
    "\n",
    "The [Human 3.6M dataset](http://vision.imar.ro/human3.6m/description.php) is a large-scale collection of 3.6 million 3D human poses captured from 11 professional actors in 17 everyday scenarios (e.g., talking, smoking, discussing). It includes synchronized video from multiple calibrated cameras, precise 3D joint positions and angles, and pixel-level body part labels. Additional data like time-of-flight range data and 3D laser scans of actors are also available.\n",
    "\n",
    "The dataset comes with precomputed image descriptors, tools for visualizing and predicting human poses, and an evaluation set for benchmarking performance, making it a rich resource for 3D human pose estimation, action recognition, and related computer vision tasks."
   ]
  },
  {
   "cell_type": "markdown",
   "id": "76972dcfdd4a2b57",
   "metadata": {},
   "source": [
    "<h3><u>2.2. Dataset preparation </u></h3>\n",
    "\n",
    "Downloading the dataset from the website requires a login , therefore we will be directly using a preprocessed version of this dataset stored in google drive [here](https://drive.google.com/file/d/1JGt3j9q5A8WzUY-QKfyMVJUUvfreri-s/view?usp=drive_link).\n",
    " \n",
    "Original preprocessing was done by [Martinez et al](https://github.com/una-dinosauria/3d-pose-baseline) from this repository.\n",
    "\n",
    "The cells below go through the steps of downloading this preprocessed dataset and creating train-test files from it after some transformation. \n",
    "\n",
    "From section 3(Models) we will be directly using the created train-test files, therefore the cells under this section need not be executed."
   ]
  },
  {
   "metadata": {},
   "cell_type": "markdown",
   "source": "#### Downloading the zip from google drive",
   "id": "f7b437e917fa318b"
  },
  {
   "metadata": {
    "ExecuteTime": {
     "end_time": "2024-10-24T10:31:40.978888Z",
     "start_time": "2024-10-24T10:31:06.728419Z"
    }
   },
   "cell_type": "code",
<<<<<<< HEAD
   "execution_count": 3,
   "id": "5d4dced5",
   "metadata": {},
=======
   "source": [
    "# Download the zip from google drive\n",
    "import gdown\n",
    "import os\n",
    "\n",
    "# file id from gdrive (refer to markdown cell above for full link)\n",
    "file_id = '1JGt3j9q5A8WzUY-QKfyMVJUUvfreri-s' \n",
    "download_url = f'https://drive.google.com/uc?id={file_id}'\n",
    "\n",
    "# Folder where you want to save the file\n",
    "folder_path = os.path.join(os.getcwd(),\"datasets\", \"h36m\", \"Original\")\n",
    "zip_file_path = os.path.join(folder_path, 'h36m.zip')\n",
    "\n",
    "# Ensure the folder exists\n",
    "os.makedirs(folder_path, exist_ok=True)\n",
    "\n",
    "# Download the ZIP file\n",
    "gdown.download(download_url, zip_file_path, quiet=False)\n",
    "\n",
    "print(f\"Downloaded ZIP file and saved to {zip_file_path}\")\n"
   ],
   "id": "71f1e0ceefe13857",
>>>>>>> 94567e14f2a74847a8b68b7729f0782e73c52f91
   "outputs": [
    {
     "name": "stderr",
     "output_type": "stream",
     "text": [
      "Downloading...\n",
      "From (original): https://drive.google.com/uc?id=1JGt3j9q5A8WzUY-QKfyMVJUUvfreri-s\n",
      "From (redirected): https://drive.google.com/uc?id=1JGt3j9q5A8WzUY-QKfyMVJUUvfreri-s&confirm=t&uuid=4e14a109-59cf-49a1-9afc-5aa1d15be11c\n",
      "To: C:\\Parashara\\Projects\\NUS projects\\Sem3\\Graph ML\\Poseidon\\datasets\\h36m\\Original\\h36m.zip\n",
      "100%|██████████| 260M/260M [00:28<00:00, 8.99MB/s] "
     ]
    },
    {
     "name": "stdout",
     "output_type": "stream",
     "text": [
      "Downloaded ZIP file and saved to C:\\Parashara\\Projects\\NUS projects\\Sem3\\Graph ML\\Poseidon\\datasets\\h36m\\Original\\h36m.zip\n"
     ]
    },
    {
     "name": "stderr",
     "output_type": "stream",
     "text": [
      "\n"
     ]
    }
   ],
   "execution_count": 2
  },
  {
   "metadata": {},
   "cell_type": "markdown",
   "source": "#### Extracting the contents into the same folder",
   "id": "82af82d9932cf7c2"
  },
  {
   "metadata": {
    "ExecuteTime": {
     "end_time": "2024-10-24T10:31:43.844809Z",
     "start_time": "2024-10-24T10:31:40.978888Z"
    }
   },
   "cell_type": "code",
   "source": [
    "# extracting the contents inside the /datasets/h36m/Original folder\n",
    "import zipfile\n",
    "\n",
    "print(f\"Extracting files to {folder_path}..\")\n",
    "# Open the ZIP file and extract its contents\n",
    "with zipfile.ZipFile(zip_file_path, 'r') as zip_ref:\n",
    "    zip_ref.extractall(folder_path)\n",
    "\n",
    "print(f\"Finished extracting files to {folder_path}\")\n",
    "\n"
   ],
   "id": "93b0822847be0d9c",
   "outputs": [
    {
     "name": "stdout",
     "output_type": "stream",
     "text": [
      "Extracting files to C:\\Parashara\\Projects\\NUS projects\\Sem3\\Graph ML\\Poseidon\\datasets\\h36m\\Original..\n",
      "Finished extracting files to C:\\Parashara\\Projects\\NUS projects\\Sem3\\Graph ML\\Poseidon\\datasets\\h36m\\Original\n"
     ]
    }
   ],
   "execution_count": 3
  },
  {
   "metadata": {},
   "cell_type": "markdown",
   "source": "#### Saving the 3d positions into a compressed np file",
   "id": "93b5da612c5f96"
  },
  {
   "metadata": {
    "ExecuteTime": {
     "end_time": "2024-10-24T10:31:50.599958Z",
     "start_time": "2024-10-24T10:31:43.845626Z"
    }
   },
   "cell_type": "code",
   "source": [
    "import h5py\n",
    "from glob import glob\n",
    "from tqdm import tqdm\n",
    "import numpy as np\n",
    "\n",
    "output_filename = os.path.join(folder_path, 'data_3d_h36m')\n",
    "subjects = ['S1', 'S5', 'S6', 'S7', 'S8', 'S9', 'S11']\n",
    "\n",
    "output = dict()\n",
    "for subject in tqdm(subjects, desc= f'Processing subjects..'):\n",
    "    output[subject] = dict()\n",
    "    file_list = glob(os.path.join(folder_path, 'h36m', subject, 'MyPoses', '3D_positions', '*.h5'))\n",
    "    assert len(file_list) == 30, \"Expected 30 files for subject \" + subject + \", got \" + str(len(file_list))\n",
    "    for f in file_list:\n",
    "        action = os.path.splitext(os.path.basename(f))[0]\n",
    "\n",
    "        if subject == 'S11' and action == 'Directions':\n",
    "            continue  # Discard corrupted video\n",
    "\n",
    "        with h5py.File(f) as hf:\n",
    "            positions = hf.get('3D_positions')[:].reshape(32, 3, -1).transpose(2, 0, 1)\n",
    "            positions /= 1000  # Meters instead of millimeters\n",
    "            output[subject][action] = positions.astype('float32')\n",
    "\n",
    "print(f'Saving compressed 3d positions into {output_filename}')\n",
    "np.savez_compressed(output_filename, positions_3d=output)\n",
    "print(f'Finished saving 3d positions into {output_filename}')\n",
    "del output\n"
   ],
   "id": "4e513820c9281fc5",
   "outputs": [
    {
     "name": "stderr",
     "output_type": "stream",
     "text": [
      "Processing subjects..: 100%|██████████| 7/7 [00:01<00:00,  5.42it/s]\n"
     ]
    },
    {
     "name": "stdout",
     "output_type": "stream",
     "text": [
      "Saving compressed 3d positions into C:\\Parashara\\Projects\\NUS projects\\Sem3\\Graph ML\\Poseidon\\datasets\\h36m\\Original\\data_3d_h36m\n",
      "Finished saving 3d positions into C:\\Parashara\\Projects\\NUS projects\\Sem3\\Graph ML\\Poseidon\\datasets\\h36m\\Original\\data_3d_h36m\n"
     ]
    }
   ],
   "execution_count": 4
  },
  {
   "metadata": {},
   "cell_type": "markdown",
   "source": [
    "#### Compute the ground truth 2d poses.\n",
    "\n",
    "TODO.brandon explain what the human35mDataset constructor does in detail (intrinsics, extrinsics, cameras, normalization etc etc)"
   ],
   "id": "e588965a522e8f8"
  },
  {
   "metadata": {
    "ExecuteTime": {
     "end_time": "2024-10-24T10:32:08.130629Z",
     "start_time": "2024-10-24T10:31:50.602485Z"
    }
   },
   "cell_type": "code",
   "source": [
    "from data.camera import world_to_camera, project_to_2d, image_coordinates, wrap\n",
    "from data.h36m_dataset import Human36mDataset\n",
    "\n",
    "print('Computing ground-truth 2D poses...')\n",
    "output_filename_2d = os.path.join(folder_path, 'data_2d_h36m_gt')\n",
    "\n",
    "dataset = Human36mDataset(output_filename + '.npz')\n",
    "output_2d_poses = {}\n",
    "for subject in dataset.subjects():\n",
    "    output_2d_poses[subject] = {}\n",
    "    for action in dataset[subject].keys():\n",
    "        anim = dataset[subject][action]\n",
    "\n",
    "        positions_2d = []\n",
    "        for cam in anim['cameras']:\n",
    "            pos_3d = world_to_camera(anim['positions'], R=cam['orientation'], t=cam['translation'])\n",
    "            pos_2d = wrap(project_to_2d, True, pos_3d, cam['intrinsic'])\n",
    "            pos_2d_pixel_space = image_coordinates(pos_2d, w=cam['res_w'], h=cam['res_h'])\n",
    "            positions_2d.append(pos_2d_pixel_space.astype('float32'))\n",
    "        output_2d_poses[subject][action] = positions_2d\n",
    "\n",
    "print(f'Saving compressed 2d positions into {output_filename_2d}')\n",
    "metadata = {\n",
    "    'num_joints': dataset.skeleton().num_joints(),\n",
    "    'keypoints_symmetry': [dataset.skeleton().joints_left(), dataset.skeleton().joints_right()]\n",
    "}\n",
    "np.savez_compressed(output_filename_2d, positions_2d=output_2d_poses, metadata=metadata)\n",
    "\n",
    "print(f'Done saving compressed 2d positions into {output_filename_2d}')\n",
    "del output_2d_poses"
   ],
   "id": "6c4794b93a1836eb",
   "outputs": [
    {
     "name": "stdout",
     "output_type": "stream",
     "text": [
      "Computing ground-truth 2D poses...\n",
      "Saving compressed 2d positions into C:\\Parashara\\Projects\\NUS projects\\Sem3\\Graph ML\\Poseidon\\datasets\\h36m\\Original\\data_2d_h36m_gt\n",
      "Done saving compressed 2d positions into C:\\Parashara\\Projects\\NUS projects\\Sem3\\Graph ML\\Poseidon\\datasets\\h36m\\Original\\data_2d_h36m_gt\n"
     ]
    }
   ],
   "execution_count": 5
  },
  {
   "metadata": {},
   "cell_type": "markdown",
   "source": "#### Cleanup the extracted files and the downloaded zip",
   "id": "72697b64fd7d407d"
  },
  {
   "metadata": {
    "ExecuteTime": {
     "end_time": "2024-10-24T10:32:08.336197Z",
     "start_time": "2024-10-24T10:32:08.130629Z"
    }
   },
   "cell_type": "code",
   "source": [
    "from shutil import rmtree\n",
    "\n",
    "rmtree(os.path.join(folder_path, 'h36m'))\n",
    "os.remove(os.path.join(folder_path, 'h36m.zip'))"
   ],
   "id": "118fd2a82b04cd62",
   "outputs": [],
   "execution_count": 6
  },
  {
   "metadata": {},
   "cell_type": "markdown",
   "source": "#### Creating and saving train and test files from the saved npz files",
   "id": "b27ac66ee540da7d"
  },
  {
   "metadata": {
    "ExecuteTime": {
     "end_time": "2024-10-24T10:32:09.228186Z",
     "start_time": "2024-10-24T10:32:08.336197Z"
    }
   },
   "cell_type": "code",
   "source": [
    "from utils.data_utils import read_3d_data, create_2d_data, create_train_test_files\n",
    "from data.h36m_dataset import TRAIN_SUBJECTS, TEST_SUBJECTS, Human36mDataset\n",
    "import os\n",
    "\n",
    "subjects_train = TRAIN_SUBJECTS\n",
    "subjects_test = TEST_SUBJECTS\n",
    "\n",
    "processed_dataset_path = os.path.join(os.getcwd(), \"datasets\", \"h36m\", \"Processed\")\n",
    "os.makedirs(processed_dataset_path, exist_ok=True)\n",
    "\n",
    "dataset_path = os.path.join(os.getcwd(), \"datasets\", \"h36m\", \"Original\", \"data_3d_h36m.npz\")\n",
    "dataset = Human36mDataset(dataset_path)\n"
   ],
   "id": "5cb37ba45841bf03",
   "outputs": [],
   "execution_count": 7
  },
  {
   "metadata": {
    "ExecuteTime": {
     "end_time": "2024-10-24T10:32:12.228130Z",
     "start_time": "2024-10-24T10:32:09.228186Z"
    }
   },
   "cell_type": "code",
   "source": [
    "#TODO.brandon: add comments for what exactly the read_3d_data function does and the create_2d_data does.\n",
    "print(\"Reading 3d npz file\")\n",
    "dataset = read_3d_data(dataset)\n",
    "\n",
    "print(\"Reading 2d npz file\")\n",
    "dataset_2d_path = os.path.join(os.getcwd(), \"datasets\", \"h36m\", \"Original\", \"data_2d_h36m_gt.npz\")\n",
    "keypoints = create_2d_data(dataset_2d_path, dataset)\n",
    "print(\"Done\")"
   ],
   "id": "a7ad8d6cc3eb740e",
   "outputs": [
    {
     "name": "stdout",
     "output_type": "stream",
     "text": [
      "Reading 3d npz file\n",
      "Reading 2d npz file\n",
      "Done\n"
     ]
    }
   ],
   "execution_count": 8
  },
  {
   "metadata": {
    "ExecuteTime": {
     "end_time": "2024-10-24T10:32:15.890233Z",
     "start_time": "2024-10-24T10:32:12.228130Z"
    }
   },
   "cell_type": "code",
   "source": [
    "print(\"Creating train datasets and saving into file\")\n",
    "_, _, _ = create_train_test_files(subjects_train, dataset, keypoints, \"train\", processed_dataset_path)\n",
    "\n",
    "print(\"Creating test datasets and saving into file\")\n",
    "_, _, _ = create_train_test_files(subjects_test, dataset, keypoints, \"test\", processed_dataset_path)\n",
    "print(\"Done\")"
   ],
   "id": "f68a656a402feba5",
   "outputs": [
    {
     "name": "stdout",
     "output_type": "stream",
     "text": [
      "Creating train datasets and saving into file\n",
      "Saved pose actions in file C:\\Parashara\\Projects\\NUS projects\\Sem3\\Graph ML\\Poseidon\\datasets\\h36m\\Processed\\train_actions.npy\n",
      "Saved 3d poses in file C:\\Parashara\\Projects\\NUS projects\\Sem3\\Graph ML\\Poseidon\\datasets\\h36m\\Processed\\train_3d_poses.npy\n",
      "Saved 2d poses in file C:\\Parashara\\Projects\\NUS projects\\Sem3\\Graph ML\\Poseidon\\datasets\\h36m\\Processed\\train_2d_poses.npy\n",
      "Creating test datasets and saving into file\n",
      "Saved pose actions in file C:\\Parashara\\Projects\\NUS projects\\Sem3\\Graph ML\\Poseidon\\datasets\\h36m\\Processed\\test_actions.npy\n",
      "Saved 3d poses in file C:\\Parashara\\Projects\\NUS projects\\Sem3\\Graph ML\\Poseidon\\datasets\\h36m\\Processed\\test_3d_poses.npy\n",
      "Saved 2d poses in file C:\\Parashara\\Projects\\NUS projects\\Sem3\\Graph ML\\Poseidon\\datasets\\h36m\\Processed\\test_2d_poses.npy\n",
      "Done\n"
     ]
    }
   ],
   "execution_count": 9
  },
  {
   "metadata": {},
   "cell_type": "markdown",
   "source": [
    "<h3><u>2.3 Visualizing poses </u></h3>\n",
    "\n",
    "Since we have saved the train and test files, we will now only use those files for the rest of the notebook.\n",
    "\n",
    "This has also been saved directly in this [google drive link](https://drive.google.com/drive/folders/1d38hWSM8clZlI11nqljxBECog1KY-iTd?usp=sharing), which can be placed directly in the local path instead of executing previous cells.\n",
    "\n",
    "The visualizations below shows that we are considering that human poses are comprised of skeletons with just 16 joints after doing all of the processing above."
   ],
   "id": "63c43c8d75e4e921"
  },
  {
   "metadata": {
    "ExecuteTime": {
     "end_time": "2024-10-24T10:32:16.917256Z",
     "start_time": "2024-10-24T10:32:15.890233Z"
    }
   },
   "cell_type": "code",
   "source": [
    "poses_2d = np.load(\"datasets/h36m/Processed/test_2d_poses.npy\")\n",
    "poses_3d = np.load(\"datasets/h36m/Processed/test_3d_poses.npy\")\n",
    "visualize_2d_pose(poses_2d[0])\n",
    "visualize_3d_pose(poses_3d[0], elev=110, azim=90)"
   ],
   "id": "1e9e7905edcd97d4",
   "outputs": [
    {
     "data": {
      "text/plain": [
       "<Figure size 500x500 with 1 Axes>"
      ],
      "image/png": "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\n"
     },
     "metadata": {},
     "output_type": "display_data"
    },
    {
     "data": {
      "text/plain": [
       "<Figure size 600x600 with 1 Axes>"
      ],
      "image/png": "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\n"
     },
     "metadata": {},
     "output_type": "display_data"
    }
   ],
   "execution_count": 10
  },
  {
   "metadata": {},
   "cell_type": "markdown",
   "source": [
    "#### Finding out the distribution of actions in the train and test splits\n",
    "\n",
    "The following code cells plots a bar graph of the actions in the train and test datasets."
   ],
   "id": "7725e8082f63bef6"
  },
  {
   "metadata": {
    "ExecuteTime": {
     "end_time": "2024-10-24T10:42:37.509585Z",
     "start_time": "2024-10-24T10:42:36.546305Z"
    }
   },
   "cell_type": "code",
   "source": [
    "import pandas as pd\n",
    "import matplotlib.pyplot as plt\n",
    "\n",
    "def show_action_stats(actions, type):\n",
    "    train_actions_df = pd.DataFrame(train_actions, columns=['actions'])\n",
    "    action_counts = train_actions_df['actions'].value_counts()\n",
    "    print(action_counts)\n",
    "    \n",
    "    action_counts.plot(kind='bar')\n",
    "    \n",
    "    # Step 4: Show the plot\n",
    "    plt.title(f'{type} Action Distribution')\n",
    "    plt.xlabel('Action')\n",
    "    plt.ylabel('Count')\n",
    "    plt.show()\n"
   ],
   "id": "6ac4ee6d0caadd6c",
   "outputs": [],
   "execution_count": 12
  },
  {
   "metadata": {
    "ExecuteTime": {
     "end_time": "2024-10-24T10:47:10.713481Z",
     "start_time": "2024-10-24T10:47:10.315303Z"
    }
   },
   "cell_type": "code",
   "source": [
    "train_actions = np.load(\"datasets/h36m/Processed/train_actions.npy\")\n",
    "show_action_stats(train_actions, \"Train\")"
   ],
   "id": "4a3d339da3ad4be1",
   "outputs": [
    {
     "name": "stdout",
     "output_type": "stream",
     "text": [
      "Discussion      158788\n",
      "Smoking         133252\n",
      "Walking         132744\n",
      "SittingDown     129232\n",
      "Sitting         116472\n",
      "Phoning         115832\n",
      "Waiting         115296\n",
      "Eating          109424\n",
      "Directions      100936\n",
      "WalkTogether     87332\n",
      "WalkDog          79412\n",
      "Photo            76048\n",
      "Greeting         72436\n",
      "Posing           69468\n",
      "Purchases        63080\n",
      "Name: actions, dtype: int64\n"
     ]
    },
    {
     "data": {
      "text/plain": [
       "<Figure size 640x480 with 1 Axes>"
      ],
      "image/png": "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\n"
     },
     "metadata": {},
     "output_type": "display_data"
    }
   ],
   "execution_count": 14
  },
  {
   "metadata": {
    "ExecuteTime": {
     "end_time": "2024-10-24T10:47:11.880112Z",
     "start_time": "2024-10-24T10:47:11.560131Z"
    }
   },
   "cell_type": "code",
   "source": [
    "test_actions = np.load(\"datasets/h36m/Processed/test_actions.npy\")\n",
    "show_action_stats(train_actions, \"Test\")"
   ],
   "id": "60e77e8dbb1d9828",
   "outputs": [
    {
     "name": "stdout",
     "output_type": "stream",
     "text": [
      "Discussion      158788\n",
      "Smoking         133252\n",
      "Walking         132744\n",
      "SittingDown     129232\n",
      "Sitting         116472\n",
      "Phoning         115832\n",
      "Waiting         115296\n",
      "Eating          109424\n",
      "Directions      100936\n",
      "WalkTogether     87332\n",
      "WalkDog          79412\n",
      "Photo            76048\n",
      "Greeting         72436\n",
      "Posing           69468\n",
      "Purchases        63080\n",
      "Name: actions, dtype: int64\n"
     ]
    },
    {
     "data": {
      "text/plain": [
       "<Figure size 640x480 with 1 Axes>"
      ],
      "image/png": "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\n"
     },
     "metadata": {},
     "output_type": "display_data"
    }
   ],
   "execution_count": 15
  },
  {
   "cell_type": "markdown",
   "id": "ad19bb814deadd8b",
   "metadata": {},
   "source": [
    "<h2><u>3. Model Building Approach</u></h2>\n",
    "\n",
<<<<<<< HEAD
    "TODO.all - write a convincing story on our approach + high level thoughts on why the following models are worth building and what we hope to gain from it"
   ]
  },
  {
   "cell_type": "code",
   "execution_count": 4,
   "id": "0444a1f6",
   "metadata": {},
   "outputs": [],
   "source": [
    "# Simple Model based on A Simple yet effective baseline for 3D Pose Estimation\n",
    "class LinearBaselineModel(nn.Module):\n",
    "    \n",
    "    def __init__(self, total_joints, total_actions):\n",
    "        super().__init__()\n",
    "        self.total_joints = total_joints,\n",
    "        self.total_actions = total_actions\n",
    "        self.input_linear = nn.Linear(total_joints * 2, 1024) # 1d input shape is B x 16 x 2\n",
    "        self.block1 = nn.Sequential(\n",
    "            nn.Linear(1024, 1024),\n",
    "            nn.BatchNorm1d(1024),\n",
    "            nn.ReLU(),\n",
    "            nn.Dropout(0.5),\n",
    "            nn.Linear(1024, 1024),\n",
    "            nn.BatchNorm1d(1024),\n",
    "            nn.ReLU(),\n",
    "            nn.Dropout(0.5),\n",
    "        )\n",
    "        self.block2 = nn.Sequential(\n",
    "            nn.Linear(1024, 1024),\n",
    "            nn.BatchNorm1d(1024),\n",
    "            nn.ReLU(),\n",
    "            nn.Dropout(0.5),\n",
    "            nn.Linear(1024, 1024),\n",
    "            nn.BatchNorm1d(1024),\n",
    "            nn.ReLU(),\n",
    "            nn.Dropout(0.5),\n",
    "        )\n",
    "        self.output_3d_pose_linear = nn.Linear(1024, total_joints * 3) # 3D output shape is B x 16 x 3\n",
    "        self.output_label_linear = nn.Linear(1024, total_actions) # Predict Action Labels\n",
    "        \n",
    "    def forward(self, x):\n",
    "        x = x.view(x.shape[0], -1)\n",
    "        x = self.input_linear(x)\n",
    "        x = self.block1(x) + x # First Residual connection\n",
    "        x = self.block2(x) + x # Second Residual Connection\n",
    "        three_dim_pose_predictions = self.output_3d_pose_linear(x)\n",
    "        action_label_predictions = self.output_label_linear(x)\n",
    "        joint_preds = three_dim_pose_predictions.view(x.shape[0], -1, 3)\n",
    "        action_preds = action_label_predictions\n",
    "        return joint_preds, action_preds   # 3D output shape is B x 16 x 3\n",
    "        "
=======
    "The following sections attempts to build different ML models using the dataset which was just constructed above.\n",
    "\n",
    "At a very high level these are the models we aim to build:\n",
    "* SimplePose - A simple baseline ML model using classic DL layers\n",
    "* SimplePoseGNN - A simple baseline GNN model using DGL and GNN layers\n",
    "* SemGCN - A reimplementation of the [SemGCN paper](https://arxiv.org/abs/1904.03345) in DGL\n",
    "* PoseGCN - A more complex GNN model by leveraging the insights gained from building the other GNN models.\n"
>>>>>>> 94567e14f2a74847a8b68b7729f0782e73c52f91
   ]
  },
  {
   "cell_type": "markdown",
   "id": "73f319c5978c85c1",
   "metadata": {},
   "source": [
    "<h2><u>4. Baseline 1 - SimplePose (Simple ML model without using GNNs)</u></h2>\n",
    "\n",
    "TODO.brian - push all of the code to the appropriate files and give a brief description of the model built ( diagrams are good too)"
   ]
  },
  {
   "cell_type": "code",
<<<<<<< HEAD
   "execution_count": 5,
   "id": "091fa9aa",
   "metadata": {},
   "outputs": [],
   "source": [
    "# Dataset Class\n",
    "class Human36MDataset(Dataset):\n",
    "    def __init__(self, two_dim_dataset_path, three_dim_dataset_path, label_dataset_path):\n",
    "        self.two_dim_dataset_path = two_dim_dataset_path\n",
    "        self.three_dim_dataset_path = three_dim_dataset_path\n",
    "        self.label_dataset_path = label_dataset_path\n",
    "        self.input_data = np.load(self.two_dim_dataset_path)\n",
    "        self.output_data = np.load(self.three_dim_dataset_path)\n",
    "        self.labels = np.load(self.label_dataset_path)\n",
    "        unique_labels, tags = np.unique(self.labels, return_inverse=True)\n",
    "        self.unique_labels = unique_labels\n",
    "        self.labels = tags\n",
    "        self.labels_map = dict(zip(range(len(unique_labels)),unique_labels))\n",
    "        assert len(self.input_data) == len(self.labels) == len(self.output_data)\n",
    "    \n",
    "    def get_action_numbers(self):\n",
    "        return len(self.unique_labels)\n",
    "    \n",
    "    def get_joint_numbers(self):\n",
    "        return self.input_data[0].shape[0]\n",
    "    \n",
    "    def __len__(self):\n",
    "        return len(self.input_data)\n",
    "    \n",
    "    def __getitem__(self, index):\n",
    "        return self.input_data[index], self.output_data[index], self.labels[index]"
   ]
  },
  {
   "cell_type": "code",
   "execution_count": 10,
   "id": "f272c692",
   "metadata": {},
   "outputs": [
    {
     "name": "stdout",
     "output_type": "stream",
     "text": [
      "Model Parameters: 4304959\n"
     ]
    },
    {
     "name": "stderr",
     "output_type": "stream",
     "text": [
<<<<<<< HEAD
      "100%|██████████| 6093/6093 [00:24<00:00, 248.14it/s]\n"
=======
      "100%|██████████| 24372/24372 [01:22<00:00, 294.96it/s]\n"
>>>>>>> 3ba1ae51440d919c213a213d3bdf12595fb1c376
     ]
    },
    {
     "name": "stdout",
     "output_type": "stream",
     "text": [
      "Epoch: 0 | Total Training Loss: 1.1999996900558472 | Pose Training Loss: 0.0477236807346344 | Action Training Loss: 1.15227210521698 | Action Train Label Accuracy: 61.328788166323875\n"
     ]
    },
    {
     "name": "stderr",
     "output_type": "stream",
     "text": [
      "100%|██████████| 2123/2123 [00:05<00:00, 408.62it/s]\n",
      "  2%|▏         | 1/50 [00:30<24:36, 30.13s/it]"
     ]
    },
    {
     "name": "stdout",
     "output_type": "stream",
     "text": [
      "Epoch: 0 | Total Testing Loss: 2.0680911540985107 | Pose Testing Loss: 0.006400574464350939 | Action Testing Loss: 2.0616893768310547 | Action Test Label Accuracy: 45.62413498630702\n"
     ]
    },
    {
     "name": "stderr",
     "output_type": "stream",
     "text": [
      "100%|██████████| 6093/6093 [00:25<00:00, 242.61it/s]\n",
      "100%|██████████| 6093/6093 [00:25<00:00, 238.40it/s]\n",
      "100%|██████████| 6093/6093 [00:30<00:00, 201.86it/s]\n",
      "100%|██████████| 6093/6093 [00:28<00:00, 213.54it/s]\n",
      "100%|██████████| 6093/6093 [00:29<00:00, 206.06it/s]\n",
      "100%|██████████| 6093/6093 [00:26<00:00, 230.20it/s]\n",
      "100%|██████████| 6093/6093 [00:28<00:00, 211.02it/s]\n",
      "100%|██████████| 6093/6093 [00:28<00:00, 211.80it/s]\n",
      "100%|██████████| 6093/6093 [00:29<00:00, 209.20it/s]\n",
      "100%|██████████| 6093/6093 [00:27<00:00, 221.62it/s]\n"
     ]
    },
    {
     "name": "stdout",
     "output_type": "stream",
     "text": [
      "Epoch: 10 | Total Training Loss: 0.26662349700927734 | Pose Training Loss: 0.006677968427538872 | Action Training Loss: 0.25994575023651123 | Action Train Label Accuracy: 91.01113510352928\n"
     ]
    },
    {
     "name": "stderr",
     "output_type": "stream",
     "text": [
      "100%|██████████| 2123/2123 [00:04<00:00, 450.58it/s]\n",
      " 22%|██▏       | 11/50 [05:14<19:22, 29.82s/it]"
     ]
    },
    {
     "name": "stdout",
     "output_type": "stream",
     "text": [
      "Epoch: 10 | Total Testing Loss: 2.9540390968322754 | Pose Testing Loss: 0.0050755892880260944 | Action Testing Loss: 2.9489591121673584 | Action Test Label Accuracy: 47.11563944756913\n"
     ]
    },
    {
     "name": "stderr",
     "output_type": "stream",
     "text": [
      "100%|██████████| 6093/6093 [00:26<00:00, 226.05it/s]\n",
      "100%|██████████| 6093/6093 [00:26<00:00, 229.73it/s]\n",
      "100%|██████████| 6093/6093 [00:26<00:00, 228.69it/s]\n",
      "100%|██████████| 6093/6093 [00:26<00:00, 230.27it/s]\n",
      "100%|██████████| 6093/6093 [00:27<00:00, 223.61it/s]\n",
      "100%|██████████| 6093/6093 [00:30<00:00, 197.39it/s]\n",
      "100%|██████████| 6093/6093 [00:29<00:00, 207.52it/s]\n",
      "100%|██████████| 6093/6093 [00:28<00:00, 211.69it/s]\n",
      "100%|██████████| 6093/6093 [00:26<00:00, 225.68it/s]\n",
      "100%|██████████| 6093/6093 [00:30<00:00, 202.02it/s]\n"
     ]
    },
    {
     "name": "stdout",
     "output_type": "stream",
     "text": [
      "Epoch: 20 | Total Training Loss: 0.19051775336265564 | Pose Training Loss: 0.006005116272717714 | Action Training Loss: 0.1845129281282425 | Action Train Label Accuracy: 93.61513881694012\n"
     ]
    },
    {
     "name": "stderr",
     "output_type": "stream",
     "text": [
      "100%|██████████| 2123/2123 [00:04<00:00, 451.39it/s]\n",
      " 42%|████▏     | 21/50 [09:59<14:38, 30.28s/it]"
     ]
    },
    {
     "name": "stdout",
     "output_type": "stream",
     "text": [
      "Epoch: 20 | Total Testing Loss: 3.154789686203003 | Pose Testing Loss: 0.004807908087968826 | Action Testing Loss: 3.1499786376953125 | Action Test Label Accuracy: 46.75509437851527\n"
     ]
    },
    {
     "name": "stderr",
     "output_type": "stream",
     "text": [
      "100%|██████████| 6093/6093 [00:28<00:00, 210.80it/s]\n",
      "100%|██████████| 6093/6093 [00:28<00:00, 212.35it/s]\n",
      "100%|██████████| 6093/6093 [00:25<00:00, 241.31it/s]\n",
      "100%|██████████| 6093/6093 [00:26<00:00, 228.56it/s]\n",
      "100%|██████████| 6093/6093 [00:26<00:00, 232.25it/s]\n",
      "100%|██████████| 6093/6093 [00:26<00:00, 227.49it/s]\n",
      "100%|██████████| 6093/6093 [00:26<00:00, 227.61it/s]\n",
      "100%|██████████| 6093/6093 [00:27<00:00, 220.30it/s]\n",
      "100%|██████████| 6093/6093 [00:29<00:00, 209.49it/s]\n",
      "100%|██████████| 6093/6093 [00:30<00:00, 197.51it/s]\n"
     ]
    },
    {
     "name": "stdout",
     "output_type": "stream",
     "text": [
      "Epoch: 30 | Total Training Loss: 0.15672604739665985 | Pose Training Loss: 0.0056878929026424885 | Action Training Loss: 0.1510377824306488 | Action Train Label Accuracy: 94.77557970754326\n"
     ]
    },
    {
     "name": "stderr",
     "output_type": "stream",
     "text": [
      "100%|██████████| 2123/2123 [00:05<00:00, 396.53it/s]\n",
      " 62%|██████▏   | 31/50 [14:42<09:38, 30.42s/it]"
     ]
    },
    {
     "name": "stdout",
     "output_type": "stream",
     "text": [
      "Epoch: 30 | Total Testing Loss: 3.4267096519470215 | Pose Testing Loss: 0.00457561993971467 | Action Testing Loss: 3.422133445739746 | Action Test Label Accuracy: 46.36215730734121\n"
     ]
    },
    {
     "name": "stderr",
     "output_type": "stream",
     "text": [
      "100%|██████████| 6093/6093 [00:26<00:00, 227.16it/s]\n",
      "100%|██████████| 6093/6093 [00:28<00:00, 216.65it/s]\n",
      "100%|██████████| 6093/6093 [00:29<00:00, 208.14it/s]\n",
      "100%|██████████| 6093/6093 [00:28<00:00, 212.69it/s]\n",
      "100%|██████████| 6093/6093 [00:28<00:00, 213.32it/s]\n",
      "100%|██████████| 6093/6093 [00:25<00:00, 236.55it/s]\n",
      "100%|██████████| 6093/6093 [00:26<00:00, 228.52it/s]\n",
      "100%|██████████| 6093/6093 [00:25<00:00, 237.61it/s]\n",
      "100%|██████████| 6093/6093 [00:27<00:00, 223.18it/s]\n",
      "100%|██████████| 6093/6093 [00:27<00:00, 220.85it/s]\n"
     ]
    },
    {
     "name": "stdout",
     "output_type": "stream",
     "text": [
      "Epoch: 40 | Total Training Loss: 0.13644860684871674 | Pose Training Loss: 0.005488917231559753 | Action Training Loss: 0.1309594362974167 | Action Train Label Accuracy: 95.47088255055932\n"
     ]
    },
    {
     "name": "stderr",
     "output_type": "stream",
     "text": [
      "100%|██████████| 2123/2123 [00:04<00:00, 426.82it/s]\n",
      " 82%|████████▏ | 41/50 [19:22<04:19, 28.83s/it]"
     ]
    },
    {
     "name": "stdout",
     "output_type": "stream",
     "text": [
      "Epoch: 40 | Total Testing Loss: 3.392112970352173 | Pose Testing Loss: 0.00449882447719574 | Action Testing Loss: 3.3876218795776367 | Action Test Label Accuracy: 45.94345387084425\n"
     ]
    },
    {
     "name": "stderr",
     "output_type": "stream",
     "text": [
      "100%|██████████| 6093/6093 [00:51<00:00, 117.69it/s]\n",
      "100%|██████████| 6093/6093 [01:13<00:00, 83.21it/s]\n",
      "100%|██████████| 6093/6093 [00:57<00:00, 105.07it/s]\n",
      " 24%|██▍       | 1489/6093 [00:21<01:07, 67.88it/s]\n",
      " 88%|████████▊ | 44/50 [22:47<03:06, 31.07s/it]\n"
     ]
    },
    {
     "ename": "KeyboardInterrupt",
     "evalue": "",
     "output_type": "error",
     "traceback": [
<<<<<<< HEAD
      "\u001b[1;31m---------------------------------------------------------------------------\u001b[0m",
      "\u001b[1;31mKeyboardInterrupt\u001b[0m                         Traceback (most recent call last)",
      "Cell \u001b[1;32mIn[10], line 53\u001b[0m\n\u001b[0;32m     51\u001b[0m action_losses \u001b[38;5;241m=\u001b[39m []\n\u001b[0;32m     52\u001b[0m model\u001b[38;5;241m.\u001b[39mtrain()\n\u001b[1;32m---> 53\u001b[0m \u001b[38;5;28;01mfor\u001b[39;00m data \u001b[38;5;129;01min\u001b[39;00m tqdm(train_dataloader):\n\u001b[0;32m     54\u001b[0m     \u001b[38;5;66;03m# Prepare Data\u001b[39;00m\n\u001b[0;32m     55\u001b[0m     two_dim_input_data, three_dim_output_data, action_labels\u001b[38;5;241m=\u001b[39m data\n\u001b[0;32m     56\u001b[0m     two_dim_input_data \u001b[38;5;241m=\u001b[39m two_dim_input_data\u001b[38;5;241m.\u001b[39mto(DEVICE)\n",
      "File \u001b[1;32md:\\Anaconda\\envs\\cs5242\\lib\\site-packages\\tqdm\\std.py:1181\u001b[0m, in \u001b[0;36mtqdm.__iter__\u001b[1;34m(self)\u001b[0m\n\u001b[0;32m   1178\u001b[0m time \u001b[38;5;241m=\u001b[39m \u001b[38;5;28mself\u001b[39m\u001b[38;5;241m.\u001b[39m_time\n\u001b[0;32m   1180\u001b[0m \u001b[38;5;28;01mtry\u001b[39;00m:\n\u001b[1;32m-> 1181\u001b[0m     \u001b[38;5;28;01mfor\u001b[39;00m obj \u001b[38;5;129;01min\u001b[39;00m iterable:\n\u001b[0;32m   1182\u001b[0m         \u001b[38;5;28;01myield\u001b[39;00m obj\n\u001b[0;32m   1183\u001b[0m         \u001b[38;5;66;03m# Update and possibly print the progressbar.\u001b[39;00m\n\u001b[0;32m   1184\u001b[0m         \u001b[38;5;66;03m# Note: does not call self.update(1) for speed optimisation.\u001b[39;00m\n",
      "File \u001b[1;32md:\\Anaconda\\envs\\cs5242\\lib\\site-packages\\torch\\utils\\data\\dataloader.py:631\u001b[0m, in \u001b[0;36m_BaseDataLoaderIter.__next__\u001b[1;34m(self)\u001b[0m\n\u001b[0;32m    628\u001b[0m \u001b[38;5;28;01mif\u001b[39;00m \u001b[38;5;28mself\u001b[39m\u001b[38;5;241m.\u001b[39m_sampler_iter \u001b[38;5;129;01mis\u001b[39;00m \u001b[38;5;28;01mNone\u001b[39;00m:\n\u001b[0;32m    629\u001b[0m     \u001b[38;5;66;03m# TODO(https://github.com/pytorch/pytorch/issues/76750)\u001b[39;00m\n\u001b[0;32m    630\u001b[0m     \u001b[38;5;28mself\u001b[39m\u001b[38;5;241m.\u001b[39m_reset()  \u001b[38;5;66;03m# type: ignore[call-arg]\u001b[39;00m\n\u001b[1;32m--> 631\u001b[0m data \u001b[38;5;241m=\u001b[39m \u001b[38;5;28;43mself\u001b[39;49m\u001b[38;5;241;43m.\u001b[39;49m\u001b[43m_next_data\u001b[49m\u001b[43m(\u001b[49m\u001b[43m)\u001b[49m\n\u001b[0;32m    632\u001b[0m \u001b[38;5;28mself\u001b[39m\u001b[38;5;241m.\u001b[39m_num_yielded \u001b[38;5;241m+\u001b[39m\u001b[38;5;241m=\u001b[39m \u001b[38;5;241m1\u001b[39m\n\u001b[0;32m    633\u001b[0m \u001b[38;5;28;01mif\u001b[39;00m \u001b[38;5;28mself\u001b[39m\u001b[38;5;241m.\u001b[39m_dataset_kind \u001b[38;5;241m==\u001b[39m _DatasetKind\u001b[38;5;241m.\u001b[39mIterable \u001b[38;5;129;01mand\u001b[39;00m \\\n\u001b[0;32m    634\u001b[0m         \u001b[38;5;28mself\u001b[39m\u001b[38;5;241m.\u001b[39m_IterableDataset_len_called \u001b[38;5;129;01mis\u001b[39;00m \u001b[38;5;129;01mnot\u001b[39;00m \u001b[38;5;28;01mNone\u001b[39;00m \u001b[38;5;129;01mand\u001b[39;00m \\\n\u001b[0;32m    635\u001b[0m         \u001b[38;5;28mself\u001b[39m\u001b[38;5;241m.\u001b[39m_num_yielded \u001b[38;5;241m>\u001b[39m \u001b[38;5;28mself\u001b[39m\u001b[38;5;241m.\u001b[39m_IterableDataset_len_called:\n",
      "File \u001b[1;32md:\\Anaconda\\envs\\cs5242\\lib\\site-packages\\torch\\utils\\data\\dataloader.py:675\u001b[0m, in \u001b[0;36m_SingleProcessDataLoaderIter._next_data\u001b[1;34m(self)\u001b[0m\n\u001b[0;32m    673\u001b[0m \u001b[38;5;28;01mdef\u001b[39;00m \u001b[38;5;21m_next_data\u001b[39m(\u001b[38;5;28mself\u001b[39m):\n\u001b[0;32m    674\u001b[0m     index \u001b[38;5;241m=\u001b[39m \u001b[38;5;28mself\u001b[39m\u001b[38;5;241m.\u001b[39m_next_index()  \u001b[38;5;66;03m# may raise StopIteration\u001b[39;00m\n\u001b[1;32m--> 675\u001b[0m     data \u001b[38;5;241m=\u001b[39m \u001b[38;5;28;43mself\u001b[39;49m\u001b[38;5;241;43m.\u001b[39;49m\u001b[43m_dataset_fetcher\u001b[49m\u001b[38;5;241;43m.\u001b[39;49m\u001b[43mfetch\u001b[49m\u001b[43m(\u001b[49m\u001b[43mindex\u001b[49m\u001b[43m)\u001b[49m  \u001b[38;5;66;03m# may raise StopIteration\u001b[39;00m\n\u001b[0;32m    676\u001b[0m     \u001b[38;5;28;01mif\u001b[39;00m \u001b[38;5;28mself\u001b[39m\u001b[38;5;241m.\u001b[39m_pin_memory:\n\u001b[0;32m    677\u001b[0m         data \u001b[38;5;241m=\u001b[39m _utils\u001b[38;5;241m.\u001b[39mpin_memory\u001b[38;5;241m.\u001b[39mpin_memory(data, \u001b[38;5;28mself\u001b[39m\u001b[38;5;241m.\u001b[39m_pin_memory_device)\n",
      "File \u001b[1;32md:\\Anaconda\\envs\\cs5242\\lib\\site-packages\\torch\\utils\\data\\_utils\\fetch.py:54\u001b[0m, in \u001b[0;36m_MapDatasetFetcher.fetch\u001b[1;34m(self, possibly_batched_index)\u001b[0m\n\u001b[0;32m     52\u001b[0m \u001b[38;5;28;01melse\u001b[39;00m:\n\u001b[0;32m     53\u001b[0m     data \u001b[38;5;241m=\u001b[39m \u001b[38;5;28mself\u001b[39m\u001b[38;5;241m.\u001b[39mdataset[possibly_batched_index]\n\u001b[1;32m---> 54\u001b[0m \u001b[38;5;28;01mreturn\u001b[39;00m \u001b[38;5;28;43mself\u001b[39;49m\u001b[38;5;241;43m.\u001b[39;49m\u001b[43mcollate_fn\u001b[49m\u001b[43m(\u001b[49m\u001b[43mdata\u001b[49m\u001b[43m)\u001b[49m\n",
      "File \u001b[1;32md:\\Anaconda\\envs\\cs5242\\lib\\site-packages\\torch\\utils\\data\\_utils\\collate.py:277\u001b[0m, in \u001b[0;36mdefault_collate\u001b[1;34m(batch)\u001b[0m\n\u001b[0;32m    216\u001b[0m \u001b[38;5;28;01mdef\u001b[39;00m \u001b[38;5;21mdefault_collate\u001b[39m(batch):\n\u001b[0;32m    217\u001b[0m \u001b[38;5;250m    \u001b[39m\u001b[38;5;124mr\u001b[39m\u001b[38;5;124;03m\"\"\"\u001b[39;00m\n\u001b[0;32m    218\u001b[0m \u001b[38;5;124;03m    Take in a batch of data and put the elements within the batch into a tensor with an additional outer dimension - batch size.\u001b[39;00m\n\u001b[0;32m    219\u001b[0m \n\u001b[1;32m   (...)\u001b[0m\n\u001b[0;32m    275\u001b[0m \u001b[38;5;124;03m        >>> default_collate(batch)  # Handle `CustomType` automatically\u001b[39;00m\n\u001b[0;32m    276\u001b[0m \u001b[38;5;124;03m    \"\"\"\u001b[39;00m\n\u001b[1;32m--> 277\u001b[0m     \u001b[38;5;28;01mreturn\u001b[39;00m \u001b[43mcollate\u001b[49m\u001b[43m(\u001b[49m\u001b[43mbatch\u001b[49m\u001b[43m,\u001b[49m\u001b[43m \u001b[49m\u001b[43mcollate_fn_map\u001b[49m\u001b[38;5;241;43m=\u001b[39;49m\u001b[43mdefault_collate_fn_map\u001b[49m\u001b[43m)\u001b[49m\n",
      "File \u001b[1;32md:\\Anaconda\\envs\\cs5242\\lib\\site-packages\\torch\\utils\\data\\_utils\\collate.py:144\u001b[0m, in \u001b[0;36mcollate\u001b[1;34m(batch, collate_fn_map)\u001b[0m\n\u001b[0;32m    141\u001b[0m transposed \u001b[38;5;241m=\u001b[39m \u001b[38;5;28mlist\u001b[39m(\u001b[38;5;28mzip\u001b[39m(\u001b[38;5;241m*\u001b[39mbatch))  \u001b[38;5;66;03m# It may be accessed twice, so we use a list.\u001b[39;00m\n\u001b[0;32m    143\u001b[0m \u001b[38;5;28;01mif\u001b[39;00m \u001b[38;5;28misinstance\u001b[39m(elem, \u001b[38;5;28mtuple\u001b[39m):\n\u001b[1;32m--> 144\u001b[0m     \u001b[38;5;28;01mreturn\u001b[39;00m [collate(samples, collate_fn_map\u001b[38;5;241m=\u001b[39mcollate_fn_map) \u001b[38;5;28;01mfor\u001b[39;00m samples \u001b[38;5;129;01min\u001b[39;00m transposed]  \u001b[38;5;66;03m# Backwards compatibility.\u001b[39;00m\n\u001b[0;32m    145\u001b[0m \u001b[38;5;28;01melse\u001b[39;00m:\n\u001b[0;32m    146\u001b[0m     \u001b[38;5;28;01mtry\u001b[39;00m:\n",
      "File \u001b[1;32md:\\Anaconda\\envs\\cs5242\\lib\\site-packages\\torch\\utils\\data\\_utils\\collate.py:144\u001b[0m, in \u001b[0;36m<listcomp>\u001b[1;34m(.0)\u001b[0m\n\u001b[0;32m    141\u001b[0m transposed \u001b[38;5;241m=\u001b[39m \u001b[38;5;28mlist\u001b[39m(\u001b[38;5;28mzip\u001b[39m(\u001b[38;5;241m*\u001b[39mbatch))  \u001b[38;5;66;03m# It may be accessed twice, so we use a list.\u001b[39;00m\n\u001b[0;32m    143\u001b[0m \u001b[38;5;28;01mif\u001b[39;00m \u001b[38;5;28misinstance\u001b[39m(elem, \u001b[38;5;28mtuple\u001b[39m):\n\u001b[1;32m--> 144\u001b[0m     \u001b[38;5;28;01mreturn\u001b[39;00m [\u001b[43mcollate\u001b[49m\u001b[43m(\u001b[49m\u001b[43msamples\u001b[49m\u001b[43m,\u001b[49m\u001b[43m \u001b[49m\u001b[43mcollate_fn_map\u001b[49m\u001b[38;5;241;43m=\u001b[39;49m\u001b[43mcollate_fn_map\u001b[49m\u001b[43m)\u001b[49m \u001b[38;5;28;01mfor\u001b[39;00m samples \u001b[38;5;129;01min\u001b[39;00m transposed]  \u001b[38;5;66;03m# Backwards compatibility.\u001b[39;00m\n\u001b[0;32m    145\u001b[0m \u001b[38;5;28;01melse\u001b[39;00m:\n\u001b[0;32m    146\u001b[0m     \u001b[38;5;28;01mtry\u001b[39;00m:\n",
      "File \u001b[1;32md:\\Anaconda\\envs\\cs5242\\lib\\site-packages\\torch\\utils\\data\\_utils\\collate.py:121\u001b[0m, in \u001b[0;36mcollate\u001b[1;34m(batch, collate_fn_map)\u001b[0m\n\u001b[0;32m    119\u001b[0m \u001b[38;5;28;01mif\u001b[39;00m collate_fn_map \u001b[38;5;129;01mis\u001b[39;00m \u001b[38;5;129;01mnot\u001b[39;00m \u001b[38;5;28;01mNone\u001b[39;00m:\n\u001b[0;32m    120\u001b[0m     \u001b[38;5;28;01mif\u001b[39;00m elem_type \u001b[38;5;129;01min\u001b[39;00m collate_fn_map:\n\u001b[1;32m--> 121\u001b[0m         \u001b[38;5;28;01mreturn\u001b[39;00m \u001b[43mcollate_fn_map\u001b[49m\u001b[43m[\u001b[49m\u001b[43melem_type\u001b[49m\u001b[43m]\u001b[49m\u001b[43m(\u001b[49m\u001b[43mbatch\u001b[49m\u001b[43m,\u001b[49m\u001b[43m \u001b[49m\u001b[43mcollate_fn_map\u001b[49m\u001b[38;5;241;43m=\u001b[39;49m\u001b[43mcollate_fn_map\u001b[49m\u001b[43m)\u001b[49m\n\u001b[0;32m    123\u001b[0m     \u001b[38;5;28;01mfor\u001b[39;00m collate_type \u001b[38;5;129;01min\u001b[39;00m collate_fn_map:\n\u001b[0;32m    124\u001b[0m         \u001b[38;5;28;01mif\u001b[39;00m \u001b[38;5;28misinstance\u001b[39m(elem, collate_type):\n",
      "File \u001b[1;32md:\\Anaconda\\envs\\cs5242\\lib\\site-packages\\torch\\utils\\data\\_utils\\collate.py:183\u001b[0m, in \u001b[0;36mcollate_numpy_array_fn\u001b[1;34m(batch, collate_fn_map)\u001b[0m\n\u001b[0;32m    180\u001b[0m \u001b[38;5;28;01mif\u001b[39;00m np_str_obj_array_pattern\u001b[38;5;241m.\u001b[39msearch(elem\u001b[38;5;241m.\u001b[39mdtype\u001b[38;5;241m.\u001b[39mstr) \u001b[38;5;129;01mis\u001b[39;00m \u001b[38;5;129;01mnot\u001b[39;00m \u001b[38;5;28;01mNone\u001b[39;00m:\n\u001b[0;32m    181\u001b[0m     \u001b[38;5;28;01mraise\u001b[39;00m \u001b[38;5;167;01mTypeError\u001b[39;00m(default_collate_err_msg_format\u001b[38;5;241m.\u001b[39mformat(elem\u001b[38;5;241m.\u001b[39mdtype))\n\u001b[1;32m--> 183\u001b[0m \u001b[38;5;28;01mreturn\u001b[39;00m collate([torch\u001b[38;5;241m.\u001b[39mas_tensor(b) \u001b[38;5;28;01mfor\u001b[39;00m b \u001b[38;5;129;01min\u001b[39;00m batch], collate_fn_map\u001b[38;5;241m=\u001b[39mcollate_fn_map)\n",
      "File \u001b[1;32md:\\Anaconda\\envs\\cs5242\\lib\\site-packages\\torch\\utils\\data\\_utils\\collate.py:183\u001b[0m, in \u001b[0;36m<listcomp>\u001b[1;34m(.0)\u001b[0m\n\u001b[0;32m    180\u001b[0m \u001b[38;5;28;01mif\u001b[39;00m np_str_obj_array_pattern\u001b[38;5;241m.\u001b[39msearch(elem\u001b[38;5;241m.\u001b[39mdtype\u001b[38;5;241m.\u001b[39mstr) \u001b[38;5;129;01mis\u001b[39;00m \u001b[38;5;129;01mnot\u001b[39;00m \u001b[38;5;28;01mNone\u001b[39;00m:\n\u001b[0;32m    181\u001b[0m     \u001b[38;5;28;01mraise\u001b[39;00m \u001b[38;5;167;01mTypeError\u001b[39;00m(default_collate_err_msg_format\u001b[38;5;241m.\u001b[39mformat(elem\u001b[38;5;241m.\u001b[39mdtype))\n\u001b[1;32m--> 183\u001b[0m \u001b[38;5;28;01mreturn\u001b[39;00m collate([\u001b[43mtorch\u001b[49m\u001b[38;5;241;43m.\u001b[39;49m\u001b[43mas_tensor\u001b[49m\u001b[43m(\u001b[49m\u001b[43mb\u001b[49m\u001b[43m)\u001b[49m \u001b[38;5;28;01mfor\u001b[39;00m b \u001b[38;5;129;01min\u001b[39;00m batch], collate_fn_map\u001b[38;5;241m=\u001b[39mcollate_fn_map)\n",
      "\u001b[1;31mKeyboardInterrupt\u001b[0m: "
=======
      "\u001B[1;31m---------------------------------------------------------------------------\u001B[0m",
      "\u001B[1;31mKeyboardInterrupt\u001B[0m                         Traceback (most recent call last)",
      "Cell \u001B[1;32mIn[20], line 52\u001B[0m\n\u001B[0;32m     50\u001B[0m pose_losses \u001B[38;5;241m=\u001B[39m []\n\u001B[0;32m     51\u001B[0m action_losses \u001B[38;5;241m=\u001B[39m []\n\u001B[1;32m---> 52\u001B[0m \u001B[38;5;28;01mfor\u001B[39;00m data \u001B[38;5;129;01min\u001B[39;00m tqdm(train_dataloader):\n\u001B[0;32m     53\u001B[0m     \u001B[38;5;66;03m# Prepare Data\u001B[39;00m\n\u001B[0;32m     54\u001B[0m     two_dim_input_data, three_dim_output_data, action_labels\u001B[38;5;241m=\u001B[39m data\n\u001B[0;32m     55\u001B[0m     two_dim_input_data \u001B[38;5;241m=\u001B[39m two_dim_input_data\u001B[38;5;241m.\u001B[39mto(DEVICE)\n",
      "File \u001B[1;32md:\\Anaconda\\envs\\cs5242\\lib\\site-packages\\tqdm\\std.py:1181\u001B[0m, in \u001B[0;36mtqdm.__iter__\u001B[1;34m(self)\u001B[0m\n\u001B[0;32m   1178\u001B[0m time \u001B[38;5;241m=\u001B[39m \u001B[38;5;28mself\u001B[39m\u001B[38;5;241m.\u001B[39m_time\n\u001B[0;32m   1180\u001B[0m \u001B[38;5;28;01mtry\u001B[39;00m:\n\u001B[1;32m-> 1181\u001B[0m     \u001B[38;5;28;01mfor\u001B[39;00m obj \u001B[38;5;129;01min\u001B[39;00m iterable:\n\u001B[0;32m   1182\u001B[0m         \u001B[38;5;28;01myield\u001B[39;00m obj\n\u001B[0;32m   1183\u001B[0m         \u001B[38;5;66;03m# Update and possibly print the progressbar.\u001B[39;00m\n\u001B[0;32m   1184\u001B[0m         \u001B[38;5;66;03m# Note: does not call self.update(1) for speed optimisation.\u001B[39;00m\n",
      "File \u001B[1;32md:\\Anaconda\\envs\\cs5242\\lib\\site-packages\\torch\\utils\\data\\dataloader.py:631\u001B[0m, in \u001B[0;36m_BaseDataLoaderIter.__next__\u001B[1;34m(self)\u001B[0m\n\u001B[0;32m    628\u001B[0m \u001B[38;5;28;01mif\u001B[39;00m \u001B[38;5;28mself\u001B[39m\u001B[38;5;241m.\u001B[39m_sampler_iter \u001B[38;5;129;01mis\u001B[39;00m \u001B[38;5;28;01mNone\u001B[39;00m:\n\u001B[0;32m    629\u001B[0m     \u001B[38;5;66;03m# TODO(https://github.com/pytorch/pytorch/issues/76750)\u001B[39;00m\n\u001B[0;32m    630\u001B[0m     \u001B[38;5;28mself\u001B[39m\u001B[38;5;241m.\u001B[39m_reset()  \u001B[38;5;66;03m# type: ignore[call-arg]\u001B[39;00m\n\u001B[1;32m--> 631\u001B[0m data \u001B[38;5;241m=\u001B[39m \u001B[38;5;28;43mself\u001B[39;49m\u001B[38;5;241;43m.\u001B[39;49m\u001B[43m_next_data\u001B[49m\u001B[43m(\u001B[49m\u001B[43m)\u001B[49m\n\u001B[0;32m    632\u001B[0m \u001B[38;5;28mself\u001B[39m\u001B[38;5;241m.\u001B[39m_num_yielded \u001B[38;5;241m+\u001B[39m\u001B[38;5;241m=\u001B[39m \u001B[38;5;241m1\u001B[39m\n\u001B[0;32m    633\u001B[0m \u001B[38;5;28;01mif\u001B[39;00m \u001B[38;5;28mself\u001B[39m\u001B[38;5;241m.\u001B[39m_dataset_kind \u001B[38;5;241m==\u001B[39m _DatasetKind\u001B[38;5;241m.\u001B[39mIterable \u001B[38;5;129;01mand\u001B[39;00m \\\n\u001B[0;32m    634\u001B[0m         \u001B[38;5;28mself\u001B[39m\u001B[38;5;241m.\u001B[39m_IterableDataset_len_called \u001B[38;5;129;01mis\u001B[39;00m \u001B[38;5;129;01mnot\u001B[39;00m \u001B[38;5;28;01mNone\u001B[39;00m \u001B[38;5;129;01mand\u001B[39;00m \\\n\u001B[0;32m    635\u001B[0m         \u001B[38;5;28mself\u001B[39m\u001B[38;5;241m.\u001B[39m_num_yielded \u001B[38;5;241m>\u001B[39m \u001B[38;5;28mself\u001B[39m\u001B[38;5;241m.\u001B[39m_IterableDataset_len_called:\n",
      "File \u001B[1;32md:\\Anaconda\\envs\\cs5242\\lib\\site-packages\\torch\\utils\\data\\dataloader.py:675\u001B[0m, in \u001B[0;36m_SingleProcessDataLoaderIter._next_data\u001B[1;34m(self)\u001B[0m\n\u001B[0;32m    673\u001B[0m \u001B[38;5;28;01mdef\u001B[39;00m \u001B[38;5;21m_next_data\u001B[39m(\u001B[38;5;28mself\u001B[39m):\n\u001B[0;32m    674\u001B[0m     index \u001B[38;5;241m=\u001B[39m \u001B[38;5;28mself\u001B[39m\u001B[38;5;241m.\u001B[39m_next_index()  \u001B[38;5;66;03m# may raise StopIteration\u001B[39;00m\n\u001B[1;32m--> 675\u001B[0m     data \u001B[38;5;241m=\u001B[39m \u001B[38;5;28;43mself\u001B[39;49m\u001B[38;5;241;43m.\u001B[39;49m\u001B[43m_dataset_fetcher\u001B[49m\u001B[38;5;241;43m.\u001B[39;49m\u001B[43mfetch\u001B[49m\u001B[43m(\u001B[49m\u001B[43mindex\u001B[49m\u001B[43m)\u001B[49m  \u001B[38;5;66;03m# may raise StopIteration\u001B[39;00m\n\u001B[0;32m    676\u001B[0m     \u001B[38;5;28;01mif\u001B[39;00m \u001B[38;5;28mself\u001B[39m\u001B[38;5;241m.\u001B[39m_pin_memory:\n\u001B[0;32m    677\u001B[0m         data \u001B[38;5;241m=\u001B[39m _utils\u001B[38;5;241m.\u001B[39mpin_memory\u001B[38;5;241m.\u001B[39mpin_memory(data, \u001B[38;5;28mself\u001B[39m\u001B[38;5;241m.\u001B[39m_pin_memory_device)\n",
      "File \u001B[1;32md:\\Anaconda\\envs\\cs5242\\lib\\site-packages\\torch\\utils\\data\\_utils\\fetch.py:54\u001B[0m, in \u001B[0;36m_MapDatasetFetcher.fetch\u001B[1;34m(self, possibly_batched_index)\u001B[0m\n\u001B[0;32m     52\u001B[0m \u001B[38;5;28;01melse\u001B[39;00m:\n\u001B[0;32m     53\u001B[0m     data \u001B[38;5;241m=\u001B[39m \u001B[38;5;28mself\u001B[39m\u001B[38;5;241m.\u001B[39mdataset[possibly_batched_index]\n\u001B[1;32m---> 54\u001B[0m \u001B[38;5;28;01mreturn\u001B[39;00m \u001B[38;5;28;43mself\u001B[39;49m\u001B[38;5;241;43m.\u001B[39;49m\u001B[43mcollate_fn\u001B[49m\u001B[43m(\u001B[49m\u001B[43mdata\u001B[49m\u001B[43m)\u001B[49m\n",
      "File \u001B[1;32md:\\Anaconda\\envs\\cs5242\\lib\\site-packages\\torch\\utils\\data\\_utils\\collate.py:277\u001B[0m, in \u001B[0;36mdefault_collate\u001B[1;34m(batch)\u001B[0m\n\u001B[0;32m    216\u001B[0m \u001B[38;5;28;01mdef\u001B[39;00m \u001B[38;5;21mdefault_collate\u001B[39m(batch):\n\u001B[0;32m    217\u001B[0m \u001B[38;5;250m    \u001B[39m\u001B[38;5;124mr\u001B[39m\u001B[38;5;124;03m\"\"\"\u001B[39;00m\n\u001B[0;32m    218\u001B[0m \u001B[38;5;124;03m    Take in a batch of data and put the elements within the batch into a tensor with an additional outer dimension - batch size.\u001B[39;00m\n\u001B[0;32m    219\u001B[0m \n\u001B[1;32m   (...)\u001B[0m\n\u001B[0;32m    275\u001B[0m \u001B[38;5;124;03m        >>> default_collate(batch)  # Handle `CustomType` automatically\u001B[39;00m\n\u001B[0;32m    276\u001B[0m \u001B[38;5;124;03m    \"\"\"\u001B[39;00m\n\u001B[1;32m--> 277\u001B[0m     \u001B[38;5;28;01mreturn\u001B[39;00m \u001B[43mcollate\u001B[49m\u001B[43m(\u001B[49m\u001B[43mbatch\u001B[49m\u001B[43m,\u001B[49m\u001B[43m \u001B[49m\u001B[43mcollate_fn_map\u001B[49m\u001B[38;5;241;43m=\u001B[39;49m\u001B[43mdefault_collate_fn_map\u001B[49m\u001B[43m)\u001B[49m\n",
      "File \u001B[1;32md:\\Anaconda\\envs\\cs5242\\lib\\site-packages\\torch\\utils\\data\\_utils\\collate.py:144\u001B[0m, in \u001B[0;36mcollate\u001B[1;34m(batch, collate_fn_map)\u001B[0m\n\u001B[0;32m    141\u001B[0m transposed \u001B[38;5;241m=\u001B[39m \u001B[38;5;28mlist\u001B[39m(\u001B[38;5;28mzip\u001B[39m(\u001B[38;5;241m*\u001B[39mbatch))  \u001B[38;5;66;03m# It may be accessed twice, so we use a list.\u001B[39;00m\n\u001B[0;32m    143\u001B[0m \u001B[38;5;28;01mif\u001B[39;00m \u001B[38;5;28misinstance\u001B[39m(elem, \u001B[38;5;28mtuple\u001B[39m):\n\u001B[1;32m--> 144\u001B[0m     \u001B[38;5;28;01mreturn\u001B[39;00m [collate(samples, collate_fn_map\u001B[38;5;241m=\u001B[39mcollate_fn_map) \u001B[38;5;28;01mfor\u001B[39;00m samples \u001B[38;5;129;01min\u001B[39;00m transposed]  \u001B[38;5;66;03m# Backwards compatibility.\u001B[39;00m\n\u001B[0;32m    145\u001B[0m \u001B[38;5;28;01melse\u001B[39;00m:\n\u001B[0;32m    146\u001B[0m     \u001B[38;5;28;01mtry\u001B[39;00m:\n",
      "File \u001B[1;32md:\\Anaconda\\envs\\cs5242\\lib\\site-packages\\torch\\utils\\data\\_utils\\collate.py:144\u001B[0m, in \u001B[0;36m<listcomp>\u001B[1;34m(.0)\u001B[0m\n\u001B[0;32m    141\u001B[0m transposed \u001B[38;5;241m=\u001B[39m \u001B[38;5;28mlist\u001B[39m(\u001B[38;5;28mzip\u001B[39m(\u001B[38;5;241m*\u001B[39mbatch))  \u001B[38;5;66;03m# It may be accessed twice, so we use a list.\u001B[39;00m\n\u001B[0;32m    143\u001B[0m \u001B[38;5;28;01mif\u001B[39;00m \u001B[38;5;28misinstance\u001B[39m(elem, \u001B[38;5;28mtuple\u001B[39m):\n\u001B[1;32m--> 144\u001B[0m     \u001B[38;5;28;01mreturn\u001B[39;00m [\u001B[43mcollate\u001B[49m\u001B[43m(\u001B[49m\u001B[43msamples\u001B[49m\u001B[43m,\u001B[49m\u001B[43m \u001B[49m\u001B[43mcollate_fn_map\u001B[49m\u001B[38;5;241;43m=\u001B[39;49m\u001B[43mcollate_fn_map\u001B[49m\u001B[43m)\u001B[49m \u001B[38;5;28;01mfor\u001B[39;00m samples \u001B[38;5;129;01min\u001B[39;00m transposed]  \u001B[38;5;66;03m# Backwards compatibility.\u001B[39;00m\n\u001B[0;32m    145\u001B[0m \u001B[38;5;28;01melse\u001B[39;00m:\n\u001B[0;32m    146\u001B[0m     \u001B[38;5;28;01mtry\u001B[39;00m:\n",
      "File \u001B[1;32md:\\Anaconda\\envs\\cs5242\\lib\\site-packages\\torch\\utils\\data\\_utils\\collate.py:121\u001B[0m, in \u001B[0;36mcollate\u001B[1;34m(batch, collate_fn_map)\u001B[0m\n\u001B[0;32m    119\u001B[0m \u001B[38;5;28;01mif\u001B[39;00m collate_fn_map \u001B[38;5;129;01mis\u001B[39;00m \u001B[38;5;129;01mnot\u001B[39;00m \u001B[38;5;28;01mNone\u001B[39;00m:\n\u001B[0;32m    120\u001B[0m     \u001B[38;5;28;01mif\u001B[39;00m elem_type \u001B[38;5;129;01min\u001B[39;00m collate_fn_map:\n\u001B[1;32m--> 121\u001B[0m         \u001B[38;5;28;01mreturn\u001B[39;00m \u001B[43mcollate_fn_map\u001B[49m\u001B[43m[\u001B[49m\u001B[43melem_type\u001B[49m\u001B[43m]\u001B[49m\u001B[43m(\u001B[49m\u001B[43mbatch\u001B[49m\u001B[43m,\u001B[49m\u001B[43m \u001B[49m\u001B[43mcollate_fn_map\u001B[49m\u001B[38;5;241;43m=\u001B[39;49m\u001B[43mcollate_fn_map\u001B[49m\u001B[43m)\u001B[49m\n\u001B[0;32m    123\u001B[0m     \u001B[38;5;28;01mfor\u001B[39;00m collate_type \u001B[38;5;129;01min\u001B[39;00m collate_fn_map:\n\u001B[0;32m    124\u001B[0m         \u001B[38;5;28;01mif\u001B[39;00m \u001B[38;5;28misinstance\u001B[39m(elem, collate_type):\n",
      "File \u001B[1;32md:\\Anaconda\\envs\\cs5242\\lib\\site-packages\\torch\\utils\\data\\_utils\\collate.py:183\u001B[0m, in \u001B[0;36mcollate_numpy_array_fn\u001B[1;34m(batch, collate_fn_map)\u001B[0m\n\u001B[0;32m    180\u001B[0m \u001B[38;5;28;01mif\u001B[39;00m np_str_obj_array_pattern\u001B[38;5;241m.\u001B[39msearch(elem\u001B[38;5;241m.\u001B[39mdtype\u001B[38;5;241m.\u001B[39mstr) \u001B[38;5;129;01mis\u001B[39;00m \u001B[38;5;129;01mnot\u001B[39;00m \u001B[38;5;28;01mNone\u001B[39;00m:\n\u001B[0;32m    181\u001B[0m     \u001B[38;5;28;01mraise\u001B[39;00m \u001B[38;5;167;01mTypeError\u001B[39;00m(default_collate_err_msg_format\u001B[38;5;241m.\u001B[39mformat(elem\u001B[38;5;241m.\u001B[39mdtype))\n\u001B[1;32m--> 183\u001B[0m \u001B[38;5;28;01mreturn\u001B[39;00m \u001B[43mcollate\u001B[49m\u001B[43m(\u001B[49m\u001B[43m[\u001B[49m\u001B[43mtorch\u001B[49m\u001B[38;5;241;43m.\u001B[39;49m\u001B[43mas_tensor\u001B[49m\u001B[43m(\u001B[49m\u001B[43mb\u001B[49m\u001B[43m)\u001B[49m\u001B[43m \u001B[49m\u001B[38;5;28;43;01mfor\u001B[39;49;00m\u001B[43m \u001B[49m\u001B[43mb\u001B[49m\u001B[43m \u001B[49m\u001B[38;5;129;43;01min\u001B[39;49;00m\u001B[43m \u001B[49m\u001B[43mbatch\u001B[49m\u001B[43m]\u001B[49m\u001B[43m,\u001B[49m\u001B[43m \u001B[49m\u001B[43mcollate_fn_map\u001B[49m\u001B[38;5;241;43m=\u001B[39;49m\u001B[43mcollate_fn_map\u001B[49m\u001B[43m)\u001B[49m\n",
      "Cell \u001B[1;32mIn[20], line 55\u001B[0m\n\u001B[0;32m     52\u001B[0m \u001B[38;5;28;01mfor\u001B[39;00m data \u001B[38;5;129;01min\u001B[39;00m tqdm(train_dataloader):\n\u001B[0;32m     53\u001B[0m     \u001B[38;5;66;03m# Prepare Data\u001B[39;00m\n\u001B[0;32m     54\u001B[0m     two_dim_input_data, three_dim_output_data, action_labels\u001B[38;5;241m=\u001B[39m data\n\u001B[1;32m---> 55\u001B[0m     two_dim_input_data \u001B[38;5;241m=\u001B[39m \u001B[43mtwo_dim_input_data\u001B[49m\u001B[38;5;241;43m.\u001B[39;49m\u001B[43mto\u001B[49m\u001B[43m(\u001B[49m\u001B[43mDEVICE\u001B[49m\u001B[43m)\u001B[49m\n\u001B[0;32m     56\u001B[0m     three_dim_output_data \u001B[38;5;241m=\u001B[39m three_dim_output_data\u001B[38;5;241m.\u001B[39mto(DEVICE)\n\u001B[0;32m     57\u001B[0m     action_labels \u001B[38;5;241m=\u001B[39m action_labels\u001B[38;5;241m.\u001B[39mto(DEVICE)\n",
      "\u001B[1;31mKeyboardInterrupt\u001B[0m: "
>>>>>>> 3ba1ae51440d919c213a213d3bdf12595fb1c376
     ]
=======
   "id": "f272c692",
   "metadata": {
    "ExecuteTime": {
     "end_time": "2024-10-24T11:34:12.664980Z",
     "start_time": "2024-10-24T11:34:08.681142Z"
>>>>>>> 94567e14f2a74847a8b68b7729f0782e73c52f91
    }
   },
   "source": [
<<<<<<< HEAD
=======
    "from models.simple_pose import SimplePose\n",
    "from torch import nn\n",
    "from torch.utils.data import DataLoader\n",
    "from dataloader.h36M_loader import Human36MLoader\n",
    "import torch \n",
    "\n",
>>>>>>> 94567e14f2a74847a8b68b7729f0782e73c52f91
    "# Parameters\n",
    "LEARNING_RATE = 1e-3\n",
    "BATCH_SIZE = 64\n",
    "NUM_EPOCHS = 200\n",
    "DEVICE = 'cuda' if torch.cuda.is_available() else ('mps' if torch.backends.mps.is_available() else 'cpu') \n",
    "\n",
    "#TODO.brian: push all of this stuff under the simple_pose.train script.\n",
    "training_2d_dataset_path = os.path.join('datasets', 'h36m', 'Processed', 'train_2d_poses.npy')\n",
    "training_3d_dataset_path = os.path.join('datasets', 'h36m', 'Processed', 'train_3d_poses.npy')\n",
    "training_label_path  = os.path.join('datasets', 'h36m', 'Processed', 'train_actions.npy')\n",
    "training_data = Human36MLoader(training_2d_dataset_path, training_3d_dataset_path, training_label_path)\n",
    "train_dataloader = DataLoader(training_data, batch_size=BATCH_SIZE, shuffle=True)\n",
    "testing_2d_dataset_path = os.path.join('datasets', 'h36m', 'Processed', 'test_2d_poses.npy')\n",
    "testing_3d_dataset_path = os.path.join('datasets', 'h36m', 'Processed', 'test_3d_poses.npy')\n",
    "testing_label_path  = os.path.join('datasets', 'h36m', 'Processed', 'test_actions.npy')\n",
    "testing_data = Human36MLoader(testing_2d_dataset_path, testing_3d_dataset_path, testing_label_path)\n",
    "test_dataloader = DataLoader(testing_data, batch_size=BATCH_SIZE, shuffle=True)\n",
    "\n",
    "def kaiming_weights_init(m):\n",
    "    if isinstance(m, nn.Linear):\n",
    "        torch.nn.init.kaiming_normal_(m.weight)\n",
    "\n",
    "TOTAL_JOINTS = training_data.get_joint_numbers()\n",
    "TOTAL_ACTIONS = training_data.get_action_numbers()\n",
    "\n",
    "# Declare Model\n",
    "model = SimplePose(TOTAL_JOINTS, TOTAL_ACTIONS).to(DEVICE)\n",
    "# Apply Kaiming Init on Linear Layers\n",
    "model.apply(kaiming_weights_init)\n",
    "\n",
    "print(f\"Model Parameters: {sum(p.numel() for p in model.parameters() if p.requires_grad)}\")\n",
    "\n",
    "# Declare Optimizer\n",
    "optimizer = torch.optim.Adam(params=model.parameters(), lr=LEARNING_RATE)\n",
    "\n",
    "# Declare Scheduler\n",
    "scheduler = torch.optim.lr_scheduler.ExponentialLR(optimizer, gamma=0.96) # Value used by the original authors\n",
    "\n",
    "# Loss Function\n",
    "three_dim_pose_estimation_loss_fn = nn.MSELoss()\n",
    "action_label_loss_fn = nn.CrossEntropyLoss()\n",
    "\n",
    "# Training Loop\n",
    "global_total_losses = []\n",
    "global_pose_losses = []\n",
    "global_action_losses = []\n",
    "for epoch in tqdm(range(NUM_EPOCHS)):\n",
    "    predicted_labels = None\n",
    "    true_labels = None\n",
    "    total_losses = []\n",
    "    pose_losses = []\n",
    "    action_losses = []\n",
    "    model.train()\n",
    "    for data in tqdm(train_dataloader):\n",
    "        # Prepare Data\n",
    "        two_dim_input_data, three_dim_output_data, action_labels= data\n",
    "        two_dim_input_data = two_dim_input_data.to(DEVICE)\n",
    "        three_dim_output_data = three_dim_output_data.to(DEVICE)\n",
    "        action_labels = action_labels.to(DEVICE)\n",
    "        # Train Model\n",
    "        predicted_3d_pose_estimations, predicted_action_labels = model(two_dim_input_data)\n",
    "        # Calculate Loss\n",
    "        three_dim_pose_estimation_loss = three_dim_pose_estimation_loss_fn(predicted_3d_pose_estimations, three_dim_output_data)\n",
    "        action_label_loss = action_label_loss_fn(predicted_action_labels, action_labels)\n",
    "        loss = three_dim_pose_estimation_loss + action_label_loss\n",
    "        if epoch % 10 == 0: # Every 10 epochs, report once\n",
    "            # Store Results\n",
    "            total_losses.append(loss)\n",
    "            pose_losses.append(three_dim_pose_estimation_loss)\n",
    "            action_losses.append(action_label_loss)\n",
    "            predicted_action_labels = torch.argmax(predicted_action_labels, axis=1)\n",
    "            predicted_labels = predicted_action_labels if predicted_labels is None else torch.cat((predicted_labels, predicted_action_labels), axis=0)\n",
    "            true_labels = action_labels if true_labels is None else torch.cat((true_labels, action_labels), axis=0)\n",
    "        # Set Gradients to 0\n",
    "        optimizer.zero_grad()\n",
    "        # Optimize Gradients and Update Learning Rate\n",
    "        loss.backward()\n",
    "        optimizer.step()\n",
    "\n",
    "    # Every 10 epochs, report once\n",
    "    if epoch % 10 == 0:\n",
    "        correct_predictions = (predicted_labels == true_labels).sum().item()\n",
    "        accuracy = correct_predictions / predicted_labels.size(0) * 100\n",
    "        total_loss = sum(total_losses) / len(total_losses)\n",
    "        pose_loss = sum(pose_losses) / len(pose_losses)\n",
    "        action_loss = sum(action_losses) / len(action_losses)\n",
    "        global_total_losses.append(total_loss)\n",
    "        global_action_losses.append(action_loss)\n",
    "        global_pose_losses.append(pose_loss)\n",
    "        print(f\"Epoch: {epoch} | Total Training Loss: {total_loss} | Pose Training Loss: {pose_loss} | Action Training Loss: {action_loss} | Action Train Label Accuracy: {accuracy}\")\n",
    "    \n",
    "    if epoch % 10 == 0: # Every 10 epochs, test once\n",
    "        with torch.no_grad():\n",
    "            model.eval()\n",
    "            predicted_labels = None\n",
    "            true_labels = None\n",
    "            total_losses = []\n",
    "            pose_losses = []\n",
    "            action_losses = []\n",
    "            for data in tqdm(test_dataloader):\n",
    "                # Prepare Data\n",
    "                two_dim_input_data, three_dim_output_data, action_labels= data\n",
    "                two_dim_input_data = two_dim_input_data.to(DEVICE)\n",
    "                three_dim_output_data = three_dim_output_data.to(DEVICE)\n",
    "                action_labels = action_labels.to(DEVICE)\n",
    "                # Predict with model\n",
    "                predicted_3d_pose_estimations, predicted_action_labels = model(two_dim_input_data)\n",
    "                # Calculate Loss\n",
    "                three_dim_pose_estimation_loss = three_dim_pose_estimation_loss_fn(predicted_3d_pose_estimations, three_dim_output_data)\n",
    "                action_label_loss = action_label_loss_fn(predicted_action_labels, action_labels)\n",
    "                loss = three_dim_pose_estimation_loss + action_label_loss\n",
    "                # Store Results\n",
    "                total_losses.append(loss)\n",
    "                pose_losses.append(three_dim_pose_estimation_loss)\n",
    "                action_losses.append(action_label_loss)\n",
    "                predicted_action_labels = torch.argmax(predicted_action_labels, axis=1)\n",
    "                predicted_labels = predicted_action_labels if predicted_labels is None else torch.cat((predicted_labels, predicted_action_labels), axis=0)\n",
    "                true_labels = action_labels if true_labels is None else torch.cat((true_labels, action_labels), axis=0)\n",
    "            \n",
    "            # Calculate Test Accuracy\n",
    "            correct_predictions = (predicted_labels == true_labels).sum().item()\n",
    "            accuracy = correct_predictions / predicted_labels.size(0) * 100\n",
    "            total_loss = sum(total_losses) / len(total_losses)\n",
    "            pose_loss = sum(pose_losses) / len(pose_losses)\n",
    "            action_loss = sum(action_losses) / len(action_losses)\n",
    "            print(f\"Epoch: {epoch} | Total Testing Loss: {total_loss} | Pose Testing Loss: {pose_loss} | Action Testing Loss: {action_loss} | Action Test Label Accuracy: {accuracy}\")\n",
    "    \n",
    "    scheduler.step()\n",
    "    \n",
    "# Save model\n",
    "state_dict = {\n",
    "    'optimizer': optimizer.state_dict(),\n",
    "    'model': model.state_dict(),\n",
    "    'scheduler': scheduler.state_dict(),\n",
    "}\n",
    "weight_save_path = os.path.join('weights', 'linear_baseline_model')\n",
    "if not os.path.exists(weight_save_path):\n",
    "    os.makedirs(weight_save_path)\n",
    "\n",
    "torch.save(state_dict, os.path.join(weight_save_path, 'weights.pth'))"
   ],
   "outputs": [
    {
     "ename": "KeyboardInterrupt",
     "evalue": "",
     "output_type": "error",
     "traceback": [
      "\u001B[1;31m---------------------------------------------------------------------------\u001B[0m",
      "\u001B[1;31mKeyboardInterrupt\u001B[0m                         Traceback (most recent call last)",
      "Cell \u001B[1;32mIn[16], line 33\u001B[0m\n\u001B[0;32m     30\u001B[0m TOTAL_ACTIONS \u001B[38;5;241m=\u001B[39m training_data\u001B[38;5;241m.\u001B[39mget_action_numbers()\n\u001B[0;32m     32\u001B[0m \u001B[38;5;66;03m# Declare Model\u001B[39;00m\n\u001B[1;32m---> 33\u001B[0m model \u001B[38;5;241m=\u001B[39m \u001B[43mSimplePose\u001B[49m\u001B[43m(\u001B[49m\u001B[43mTOTAL_JOINTS\u001B[49m\u001B[43m,\u001B[49m\u001B[43m \u001B[49m\u001B[43mTOTAL_ACTIONS\u001B[49m\u001B[43m)\u001B[49m\u001B[38;5;241;43m.\u001B[39;49m\u001B[43mto\u001B[49m\u001B[43m(\u001B[49m\u001B[43mDEVICE\u001B[49m\u001B[43m)\u001B[49m\n\u001B[0;32m     34\u001B[0m \u001B[38;5;66;03m# Apply Kaiming Init on Linear Layers\u001B[39;00m\n\u001B[0;32m     35\u001B[0m model\u001B[38;5;241m.\u001B[39mapply(kaiming_weights_init)\n",
      "File \u001B[1;32m~\\anaconda3\\lib\\site-packages\\torch\\nn\\modules\\module.py:1145\u001B[0m, in \u001B[0;36mModule.to\u001B[1;34m(self, *args, **kwargs)\u001B[0m\n\u001B[0;32m   1141\u001B[0m         \u001B[38;5;28;01mreturn\u001B[39;00m t\u001B[38;5;241m.\u001B[39mto(device, dtype \u001B[38;5;28;01mif\u001B[39;00m t\u001B[38;5;241m.\u001B[39mis_floating_point() \u001B[38;5;129;01mor\u001B[39;00m t\u001B[38;5;241m.\u001B[39mis_complex() \u001B[38;5;28;01melse\u001B[39;00m \u001B[38;5;28;01mNone\u001B[39;00m,\n\u001B[0;32m   1142\u001B[0m                     non_blocking, memory_format\u001B[38;5;241m=\u001B[39mconvert_to_format)\n\u001B[0;32m   1143\u001B[0m     \u001B[38;5;28;01mreturn\u001B[39;00m t\u001B[38;5;241m.\u001B[39mto(device, dtype \u001B[38;5;28;01mif\u001B[39;00m t\u001B[38;5;241m.\u001B[39mis_floating_point() \u001B[38;5;129;01mor\u001B[39;00m t\u001B[38;5;241m.\u001B[39mis_complex() \u001B[38;5;28;01melse\u001B[39;00m \u001B[38;5;28;01mNone\u001B[39;00m, non_blocking)\n\u001B[1;32m-> 1145\u001B[0m \u001B[38;5;28;01mreturn\u001B[39;00m \u001B[38;5;28;43mself\u001B[39;49m\u001B[38;5;241;43m.\u001B[39;49m\u001B[43m_apply\u001B[49m\u001B[43m(\u001B[49m\u001B[43mconvert\u001B[49m\u001B[43m)\u001B[49m\n",
      "File \u001B[1;32m~\\anaconda3\\lib\\site-packages\\torch\\nn\\modules\\module.py:797\u001B[0m, in \u001B[0;36mModule._apply\u001B[1;34m(self, fn)\u001B[0m\n\u001B[0;32m    795\u001B[0m \u001B[38;5;28;01mdef\u001B[39;00m \u001B[38;5;21m_apply\u001B[39m(\u001B[38;5;28mself\u001B[39m, fn):\n\u001B[0;32m    796\u001B[0m     \u001B[38;5;28;01mfor\u001B[39;00m module \u001B[38;5;129;01min\u001B[39;00m \u001B[38;5;28mself\u001B[39m\u001B[38;5;241m.\u001B[39mchildren():\n\u001B[1;32m--> 797\u001B[0m         \u001B[43mmodule\u001B[49m\u001B[38;5;241;43m.\u001B[39;49m\u001B[43m_apply\u001B[49m\u001B[43m(\u001B[49m\u001B[43mfn\u001B[49m\u001B[43m)\u001B[49m\n\u001B[0;32m    799\u001B[0m     \u001B[38;5;28;01mdef\u001B[39;00m \u001B[38;5;21mcompute_should_use_set_data\u001B[39m(tensor, tensor_applied):\n\u001B[0;32m    800\u001B[0m         \u001B[38;5;28;01mif\u001B[39;00m torch\u001B[38;5;241m.\u001B[39m_has_compatible_shallow_copy_type(tensor, tensor_applied):\n\u001B[0;32m    801\u001B[0m             \u001B[38;5;66;03m# If the new tensor has compatible tensor type as the existing tensor,\u001B[39;00m\n\u001B[0;32m    802\u001B[0m             \u001B[38;5;66;03m# the current behavior is to change the tensor in-place using `.data =`,\u001B[39;00m\n\u001B[1;32m   (...)\u001B[0m\n\u001B[0;32m    807\u001B[0m             \u001B[38;5;66;03m# global flag to let the user control whether they want the future\u001B[39;00m\n\u001B[0;32m    808\u001B[0m             \u001B[38;5;66;03m# behavior of overwriting the existing tensor or not.\u001B[39;00m\n",
      "File \u001B[1;32m~\\anaconda3\\lib\\site-packages\\torch\\nn\\modules\\module.py:820\u001B[0m, in \u001B[0;36mModule._apply\u001B[1;34m(self, fn)\u001B[0m\n\u001B[0;32m    816\u001B[0m \u001B[38;5;66;03m# Tensors stored in modules are graph leaves, and we don't want to\u001B[39;00m\n\u001B[0;32m    817\u001B[0m \u001B[38;5;66;03m# track autograd history of `param_applied`, so we have to use\u001B[39;00m\n\u001B[0;32m    818\u001B[0m \u001B[38;5;66;03m# `with torch.no_grad():`\u001B[39;00m\n\u001B[0;32m    819\u001B[0m \u001B[38;5;28;01mwith\u001B[39;00m torch\u001B[38;5;241m.\u001B[39mno_grad():\n\u001B[1;32m--> 820\u001B[0m     param_applied \u001B[38;5;241m=\u001B[39m \u001B[43mfn\u001B[49m\u001B[43m(\u001B[49m\u001B[43mparam\u001B[49m\u001B[43m)\u001B[49m\n\u001B[0;32m    821\u001B[0m should_use_set_data \u001B[38;5;241m=\u001B[39m compute_should_use_set_data(param, param_applied)\n\u001B[0;32m    822\u001B[0m \u001B[38;5;28;01mif\u001B[39;00m should_use_set_data:\n",
      "File \u001B[1;32m~\\anaconda3\\lib\\site-packages\\torch\\nn\\modules\\module.py:1143\u001B[0m, in \u001B[0;36mModule.to.<locals>.convert\u001B[1;34m(t)\u001B[0m\n\u001B[0;32m   1140\u001B[0m \u001B[38;5;28;01mif\u001B[39;00m convert_to_format \u001B[38;5;129;01mis\u001B[39;00m \u001B[38;5;129;01mnot\u001B[39;00m \u001B[38;5;28;01mNone\u001B[39;00m \u001B[38;5;129;01mand\u001B[39;00m t\u001B[38;5;241m.\u001B[39mdim() \u001B[38;5;129;01min\u001B[39;00m (\u001B[38;5;241m4\u001B[39m, \u001B[38;5;241m5\u001B[39m):\n\u001B[0;32m   1141\u001B[0m     \u001B[38;5;28;01mreturn\u001B[39;00m t\u001B[38;5;241m.\u001B[39mto(device, dtype \u001B[38;5;28;01mif\u001B[39;00m t\u001B[38;5;241m.\u001B[39mis_floating_point() \u001B[38;5;129;01mor\u001B[39;00m t\u001B[38;5;241m.\u001B[39mis_complex() \u001B[38;5;28;01melse\u001B[39;00m \u001B[38;5;28;01mNone\u001B[39;00m,\n\u001B[0;32m   1142\u001B[0m                 non_blocking, memory_format\u001B[38;5;241m=\u001B[39mconvert_to_format)\n\u001B[1;32m-> 1143\u001B[0m \u001B[38;5;28;01mreturn\u001B[39;00m \u001B[43mt\u001B[49m\u001B[38;5;241;43m.\u001B[39;49m\u001B[43mto\u001B[49m\u001B[43m(\u001B[49m\u001B[43mdevice\u001B[49m\u001B[43m,\u001B[49m\u001B[43m \u001B[49m\u001B[43mdtype\u001B[49m\u001B[43m \u001B[49m\u001B[38;5;28;43;01mif\u001B[39;49;00m\u001B[43m \u001B[49m\u001B[43mt\u001B[49m\u001B[38;5;241;43m.\u001B[39;49m\u001B[43mis_floating_point\u001B[49m\u001B[43m(\u001B[49m\u001B[43m)\u001B[49m\u001B[43m \u001B[49m\u001B[38;5;129;43;01mor\u001B[39;49;00m\u001B[43m \u001B[49m\u001B[43mt\u001B[49m\u001B[38;5;241;43m.\u001B[39;49m\u001B[43mis_complex\u001B[49m\u001B[43m(\u001B[49m\u001B[43m)\u001B[49m\u001B[43m \u001B[49m\u001B[38;5;28;43;01melse\u001B[39;49;00m\u001B[43m \u001B[49m\u001B[38;5;28;43;01mNone\u001B[39;49;00m\u001B[43m,\u001B[49m\u001B[43m \u001B[49m\u001B[43mnon_blocking\u001B[49m\u001B[43m)\u001B[49m\n",
      "\u001B[1;31mKeyboardInterrupt\u001B[0m: "
     ]
    }
   ],
   "execution_count": 16
  },
  {
   "cell_type": "markdown",
   "id": "71e8d37443b92adc",
   "metadata": {},
   "source": [
    "<h2><u>5. Baseline 2 - SimplePoseGNN (Simple ML model using GNNs)</u></h2>\n",
    "\n",
    "TODO.brandon"
   ]
  },
  {
   "cell_type": "code",
   "execution_count": 20,
   "id": "0fc49055",
   "metadata": {},
   "outputs": [],
   "source": [
    "# Convert 2D Pose Dataset to 3D\n",
    "# Tutorial: https://docs.dgl.ai/tutorials/blitz/6_load_data.html\n",
    "# Source: https://arxiv.org/pdf/1904.03345 Appendix A\n",
    "# Only process the data when required\n",
    "class Human36MGraphDataset(DGLDataset):\n",
    "    def __init__(self, two_dim_dataset_path, three_dim_dataset_path, label_dataset_path):\n",
    "        self.two_dim_dataset_path = two_dim_dataset_path\n",
    "        self.three_dim_dataset_path = three_dim_dataset_path\n",
    "        self.label_dataset_path  = label_dataset_path\n",
    "        self.two_dim_data = None\n",
    "        self.three_dim_data = None\n",
    "        self.labels = None\n",
    "        self.unique_labels = None\n",
    "        super().__init__(name=\"human_3.6m\")\n",
    "        \n",
    "    def process(self):\n",
    "        # Datasets\n",
    "        self.two_dim_data = np.load(self.two_dim_dataset_path)\n",
    "        self.three_dim_data = np.load(self.three_dim_dataset_path)\n",
    "        self.labels = np.load(self.label_dataset_path)\n",
    "        unique_labels, tags = np.unique(self.labels, return_inverse=True)\n",
    "        self.unique_labels = unique_labels\n",
    "        self.labels = tags\n",
    "        assert len(self.two_dim_data) == len(self.three_dim_data) == len(self.labels)\n",
    "        \n",
    "    def __getitem__(self, index):\n",
    "        # Data\n",
    "        two_dim_data, three_dim_data, label = self.two_dim_data[index], self.three_dim_data[index], self.labels[index]\n",
    "        # Step 1: Define Graph\n",
    "        # Edge Connections [Source & Destination] <-- Human Body Structure\n",
    "        human_pose_edge_src = torch.LongTensor([0, 0, 0, 1, 2, 4, 5, 7, 8, 8, 8, 10, 11, 8, 13, 14])\n",
    "        human_pose_edge_dst = torch.LongTensor([1, 4, 7, 2, 3, 5, 6, 8, 10, 13, 9, 11, 12, 13, 14, 15])\n",
    "        graph = dgl.graph((human_pose_edge_src, human_pose_edge_dst))\n",
    "        graph = dgl.to_bidirected(graph)\n",
    "        # Add node features\n",
    "        graph.ndata['feat_2d'] = torch.Tensor(two_dim_data)\n",
    "        graph.ndata['feat_3d'] = torch.Tensor(three_dim_data)\n",
    "        # Add edge features\n",
    "        graph.edata['feat'] = torch.ones(graph.num_edges()) # Set Edge Weights as 1\n",
    "        return [graph, label]\n",
    "    \n",
    "    def __len__(self):\n",
    "        return len(self.two_dim_data)\n",
    "\n",
    "training_2d_dataset_path = os.path.join('datasets', 'h36m', 'Processed', 'train_2d_poses.npy')\n",
    "training_3d_dataset_path = os.path.join('datasets', 'h36m', 'Processed', 'train_3d_poses.npy')\n",
    "training_label_path  = os.path.join('datasets', 'h36m', 'Processed', 'train_actions.npy')\n",
    "\n",
    "testing_2d_dataset_path = os.path.join('datasets', 'h36m', 'Processed', 'test_2d_poses.npy')\n",
    "testing_3d_dataset_path = os.path.join('datasets', 'h36m', 'Processed', 'test_3d_poses.npy')\n",
    "testing_label_path  = os.path.join('datasets', 'h36m', 'Processed', 'test_actions.npy')\n",
    "\n",
    "# Collate_fn is required for DGL to Pytorch data fetching\n",
    "def collate(samples):\n",
    "    graphs, labels = map(list, zip(*samples))\n",
    "    batch_graphs = dgl.batch(graphs)\n",
    "    batch_labels = torch.tensor(labels)\n",
    "    return batch_graphs, batch_labels"
   ]
  },
  {
   "cell_type": "code",
   "execution_count": 21,
   "id": "a8de7853",
   "metadata": {},
   "outputs": [],
   "source": [
    "# Simple GNN Model\n",
    "class SimplePoseGNN(nn.Module):\n",
    "    def __init__(self, input_dim, output_dim, hidden_size, num_classes):\n",
    "        super(SimplePoseGNN, self).__init__()\n",
    "        self.conv1 = dglnn.GraphConv(input_dim, hidden_size)\n",
    "        self.conv2 = dglnn.GraphConv(hidden_size, output_dim)\n",
    "        \n",
    "        self.classifier = nn.Linear(output_dim, num_classes)\n",
    "        \n",
    "    def forward(self, graph, node_features):\n",
    "        h = self.conv1(graph, node_features)\n",
    "        h = F.relu(h)\n",
    "        h = self.conv2(graph, h)\n",
    "        label = self.classifier(h)\n",
    "        return h, label\n"
   ]
  },
  {
   "cell_type": "code",
   "execution_count": null,
   "id": "6528a290",
   "metadata": {},
   "outputs": [],
   "source": [
    "# Training Loop\n",
    "# Declare DataLoader\n",
    "training_graph_data = Human36MGraphDataset(training_2d_dataset_path, training_3d_dataset_path, training_label_path)\n",
    "train_dataloader = DataLoader(training_graph_data, batch_size=5, shuffle=True, collate_fn=collate)\n",
    "testing_graph_data = Human36MGraphDataset(testing_2d_dataset_path, testing_3d_dataset_path, testing_label_path)\n",
    "test_dataloader = DataLoader(testing_graph_data, batch_size=5, shuffle=True, collate_fn=collate)\n",
    "\n",
    "# input_dim = training_graph_data[0][0].ndata['feat_2d'].shape[0] * training_graph_data[0][0].ndata['feat_2d'].shape[1]\n",
    "# output_dim = training_graph_data[0][0].ndata['feat_3d'].shape[0] * training_graph_data[0][0].ndata['feat_3d'].shape[1]\n",
    "# Declare Model\n",
    "model = SimplePoseGNN(2, 3, 1024, len(training_graph_data.unique_labels))\n",
    "\n",
    "# Declare Optimizer\n",
    "optimizer = torch.optim.Adam(model.parameters())\n",
    "\n",
    "for index, (batch_graphs, batch_labels) in enumerate(train_dataloader):\n",
    "    batch_x = batch_graphs.ndata['feat_2d']\n",
    "    batch_y = batch_graphs.ndata['feat_3d']\n",
    "    pred_3d, pred_labels = model(batch_graphs, batch_x)\n",
    "    print(pred_3d.shape, batch_y.shape, pred_labels.shape, batch_labels.shape)\n",
    "    \n",
    "    # 3D Loss\n",
    "    three_dim_loss = F.mse_loss(pred_3d, batch_y)\n",
    "    \n",
    "    # Classification Loss\n",
    "    classification_loss = F.cross_entropy(pred_labels, batch_labels)\n",
    "    \n",
    "    # Total Loss\n",
    "    loss = three_dim_loss + classification_loss\n",
    "    print(f\"MSELoss: {three_dim_loss} | CE Loss: {classification_loss} | Total Loss: {total_loss}\")\n",
    "    optimizer.zero_grad()\n",
    "    loss.backward()\n",
    "    optimizer.step()"
   ]
  },
  {
   "cell_type": "markdown",
   "id": "6386900b282f7968",
   "metadata": {},
   "source": [
    "<h2><u>6. Improvement 1 - SemGCN model (Reimplementation of Semantic GCN)</u></h2>\n",
    "\n",
    "TODO.parash\n"
   ]
  },
  {
   "cell_type": "markdown",
   "id": "84eddcac2a537037",
   "metadata": {},
   "source": [
    "<h2><u>7. Improvement 2 - PoseGCN model (Tweaks of SemGCN)</u></h2>\n",
    "\n",
    "TODO.all"
   ]
  },
  {
   "cell_type": "markdown",
   "id": "11bbad889b6bc016",
   "metadata": {},
   "source": "<h2><u>8. Evaluation & Analysis of models<u></h2>"
  },
  {
   "cell_type": "markdown",
   "id": "49da5ad156e80a02",
   "metadata": {},
   "source": "<h2><u>9. Creating our own custom dataset</u></h2>"
  },
  {
   "cell_type": "markdown",
   "id": "477bbc24b9d697ad",
   "metadata": {},
   "source": "<h2><u>10. Evaluation on custom dataset</u></h2>"
  },
  {
   "cell_type": "markdown",
   "id": "27e11b1939fb52fe",
   "metadata": {},
   "source": "<h2><u>11. Conclusion</u></h2>"
  },
  {
   "cell_type": "markdown",
   "id": "cdca78e7d8d35b85",
   "metadata": {},
   "source": "<h2><u>12. Video presentation & Resources</u></h2>"
  }
 ],
 "metadata": {
  "kernelspec": {
   "display_name": "cs5242",
   "language": "python",
   "name": "python3"
  },
  "language_info": {
   "codemirror_mode": {
    "name": "ipython",
    "version": 3
   },
   "file_extension": ".py",
   "mimetype": "text/x-python",
   "name": "python",
   "nbconvert_exporter": "python",
   "pygments_lexer": "ipython3",
   "version": "3.10.13"
  }
 },
 "nbformat": 4,
 "nbformat_minor": 5
}
