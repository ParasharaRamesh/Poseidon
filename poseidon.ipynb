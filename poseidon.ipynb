{
 "cells": [
  {
   "metadata": {},
   "cell_type": "markdown",
   "source": [
    "# POSEIDON: Pose Estimation & Activity Recognition using GNNs\n",
    "\n",
    "Team Members (Group 16): Chong Jun Rong Brian (A0290882U), Parashara Ramesh (A0285647M), Ng Wei Jie Brandon (A0184893L)"
   ],
   "id": "47024cb481badce7"
  },
  {
   "metadata": {},
   "cell_type": "markdown",
   "source": [
    "<h2><u> Table of contents </u></h2>\n",
    "\n",
    "1. What is this project about?\n",
    "2. Understanding the Human 3.6M Dataset\n",
    "3. Dataset preparation\n",
    "4. Models\n",
    "5. Baseline 1 - SimplePose (Simple ML model without using GNNs)\n",
    "6. Baseline 2 - SimplePoseGNN (Simple ML model using GNNs) \n",
    "7. Improvement 1 - SemGCN model (Reimplementation of Semantic GCN)\n",
    "8. Improvement 2 - PoseGCN model (Tweaks of SemGCN)\n",
    "9. Evaluation & Analysis of models\n",
    "10. Creating our own custom dataset\n",
    "11. Evaluation on custom dataset\n",
    "12. Conclusion\n",
    "13. Video presentation & Resources\n"
   ],
   "id": "54775158eb81e1a9"
  },
  {
   "metadata": {},
   "cell_type": "markdown",
   "source": [
    "<h2><u>1. What is this project about?</u></h2>\n",
    "<h3><u>Project Motivation</u></h3>\n",
    "\n",
    "Accurately predicting 3D human poses from 2D keypoints is a critical task for many applications such as motion capture and activity recognition. Traditional methods that use direct regression or lifting techniques often struggle to fully capture the complex spatial relationships between body joints. By treating the 2D pose keypoints as graphs, we can leverage the underlying connectivity between joints to improve the 3D pose estimation. Additionally, recognizing and classifying human activities from these poses is an essential task in fields like surveillance and healthcare. Therefore, this project seeks to explore how GNNs can enhance 3D pose estimation and activity recognition.\n",
    "\n",
    "<h3><u>Project Description</h3></u>\n",
    "\n",
    "The primary objective of this project is to predict 3D human poses from 2D pose keypoints accurately using GNNs. \n",
    "* Firstly, we will develop two baseline models: one using standard Neural Network (NN) & Convolutional Neural Network (CNN) followed by a simple GNN based model both for 3d pose estimation \n",
    "* Secondly, we will reimplement the SemGCN model, which treats the body joints of a 2D pose as nodes in a graph, with edges representing the connectivity between them. \n",
    "* Finally, we will design an improved version of the SemGCN model by exploring different GNN architectures and modifications to enhance its performance.\n",
    "\n",
    "The secondary objective is to classify human activities based on 2D pose keypoints. We will use custom datasets to validate this task, allowing us to assess the generalization capabilities of GNN-based models for activity recognition.\n"
   ],
   "id": "5e9d0baed6e093c8"
  },
  {
   "metadata": {},
   "cell_type": "markdown",
   "source": [
    "<h2><u>2. Understanding the Human 3.6M Dataset</u></h2>\n",
    "\n",
    "TODO.brandon :\n",
    "- Add a small brief about the human 3.6M dataset + how we plan to use it\n",
    "- add h3 tags for each subsection + make changes in table of contents + only present the story points here, main code can go to appropriate folders\n",
    "\n",
    "EDA points will also come here as individual cell blocks but will be called as one function directly in the dataset preparation"
   ],
   "id": "108fd3e6fe88e214"
  },
  {
   "metadata": {},
   "cell_type": "markdown",
   "source": [
    "<h2><u>3. Dataset preparation </u></h2>\n",
    "\n",
    "TODO.parash: create it once, and then mention that the code blocks under this section need not be run as they are present in this (drive/sharepoint folder)?"
   ],
   "id": "76972dcfdd4a2b57"
  },
  {
   "metadata": {},
   "cell_type": "markdown",
   "source": [
    "<h2><u>4. Models</u></h2>\n",
    "\n",
    "TODO.all - write a convincing story on our approach + high level thoughts on why the following models are worth building and what we hope to gain from it"
   ],
   "id": "ad19bb814deadd8b"
  },
  {
   "metadata": {},
   "cell_type": "markdown",
   "source": [
    "<h2><u>5. Baseline 1 - SimplePose (Simple ML model without using GNNs)</u></h2>\n",
    "\n",
    "TODO.brian"
   ],
   "id": "73f319c5978c85c1"
  },
  {
   "metadata": {},
   "cell_type": "markdown",
   "source": [
    "<h2><u>6. Baseline 2 - SimplePoseGNN (Simple ML model using GNNs)</u></h2>\n",
    "\n",
    "TODO.brandon"
   ],
   "id": "71e8d37443b92adc"
  },
  {
   "metadata": {},
   "cell_type": "markdown",
   "source": [
    "<h2><u>7. Improvement 1 - SemGCN model (Reimplementation of Semantic GCN)</u></h2>\n",
    "\n",
    "TODO.parash\n"
   ],
   "id": "6386900b282f7968"
  },
  {
   "metadata": {},
   "cell_type": "markdown",
   "source": [
    "<h2><u>8. Improvement 2 - PoseGCN model (Tweaks of SemGCN)</u></h2>\n",
    "\n",
    "TODO.all"
   ],
   "id": "84eddcac2a537037"
  },
  {
   "metadata": {},
   "cell_type": "markdown",
   "source": "<h2><u>9. Evaluation & Analysis of models<u></h2>",
   "id": "11bbad889b6bc016"
  },
  {
   "metadata": {},
   "cell_type": "markdown",
   "source": "<h2><u>10. Creating our own custom dataset</u></h2>",
   "id": "49da5ad156e80a02"
  },
  {
   "metadata": {},
   "cell_type": "markdown",
   "source": "<h2><u>11. Evaluation on custom dataset</u></h2>",
   "id": "477bbc24b9d697ad"
  },
  {
   "metadata": {},
   "cell_type": "markdown",
   "source": "<h2><u>12. Conclusion</u></h2>",
   "id": "27e11b1939fb52fe"
  },
  {
   "metadata": {},
   "cell_type": "markdown",
   "source": "<h2><u>13. Video presentation & Resources</u></h2>",
   "id": "cdca78e7d8d35b85"
  }
 ],
 "metadata": {
  "kernelspec": {
   "display_name": "Python 3",
   "language": "python",
   "name": "python3"
  },
  "language_info": {
   "codemirror_mode": {
    "name": "ipython",
    "version": 2
   },
   "file_extension": ".py",
   "mimetype": "text/x-python",
   "name": "python",
   "nbconvert_exporter": "python",
   "pygments_lexer": "ipython2",
   "version": "2.7.6"
  }
 },
 "nbformat": 4,
 "nbformat_minor": 5
}
