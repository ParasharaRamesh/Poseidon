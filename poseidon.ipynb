{
 "cells": [
  {
   "cell_type": "markdown",
   "id": "47024cb481badce7",
   "metadata": {},
   "source": [
    "# POSEIDON: Pose Estimation & Activity Recognition using GNNs\n",
    "\n",
    "Team Members (Group 16): \n",
    "1. Chong Jun Rong Brian (A0290882U)\n",
    "2. Parashara Ramesh (A0285647M)\n",
    "3. Ng Wei Jie Brandon (A0184893L)"
   ]
  },
  {
   "cell_type": "code",
   "execution_count": null,
   "id": "ca470c79",
   "metadata": {
    "ExecuteTime": {
     "end_time": "2024-11-02T07:02:29.934709Z",
     "start_time": "2024-11-02T07:02:29.892153Z"
    }
   },
   "outputs": [],
   "source": [
    "%load_ext autoreload\n",
    "%autoreload 2"
   ]
  },
  {
   "cell_type": "markdown",
   "id": "54775158eb81e1a9",
   "metadata": {},
   "source": [
    "<h2><u> Table of contents </u></h2>\n",
    "\n",
    "1. What is this project about?\n",
    "<br> 1.1. Project Motivation\n",
    "<br> 1.2. Project Description\n",
    "<br> 1.3. Project Setup   \n",
    "2. Human 3.6M Dataset\n",
    "<br> 2.1. Summary of the dataset\n",
    "<br> 2.2. Preparing the dataset\n",
    "<br> 2.3. Visualizing poses\n",
    "3. Model building approach\n",
    "4. Baseline 1 - SimplePose (Simple ML model without using GNNs)\n",
    "5. Baseline 2 - SimplePoseGNN (Simple ML model using GNNs) \n",
    "6. Improvement 1 - SimplePoseGAT (Using 2 layers of GATConv)\n",
    "7. Improvement 2 - SemGCN model (Reimplementation of Semantic GCN)\n",
    "8. Evaluation & Analysis of models\n",
    "9. Creating our own custom dataset\n",
    "10. Evaluation on custom dataset\n",
    "11. Conclusion\n",
    "12. Video presentation & Resources\n"
   ]
  },
  {
   "cell_type": "markdown",
   "id": "5e9d0baed6e093c8",
   "metadata": {},
   "source": [
    "<h2><u>1. What is this project about?</u></h2>\n",
    "<h3><u>1.1 Project Motivation</u></h3>\n",
    "\n",
    "Accurately predicting 3D human poses from 2D keypoints is a critical task for many applications such as motion capture and activity recognition. Traditional methods that use direct regression or lifting techniques often struggle to fully capture the complex spatial relationships between body joints. By treating the 2D pose keypoints as graphs, we can leverage the underlying connectivity between joints to improve the 3D pose estimation. Additionally, recognizing and classifying human activities from these poses is an essential task in fields like surveillance and healthcare. Therefore, this project seeks to explore how GNNs can enhance 3D pose estimation and activity recognition.\n",
    "\n",
    "<h3><u>1.2 Project Description</h3></u>\n",
    "\n",
    "The primary objective of this project is to predict 3D human poses from 2D pose keypoints accurately using GNNs. \n",
    "* Firstly, we will develop two baseline models: one using standard Neural Network (NN) & Convolutional Neural Network (CNN) followed by a simple GNN based model both for 3d pose estimation \n",
    "* Secondly, we will reimplement the SemGCN model, which treats the body joints of a 2D pose as nodes in a graph, with edges representing the connectivity between them. \n",
    "* Finally, we will design an improved version of the SemGCN model by exploring different GNN architectures and modifications to enhance its performance.\n",
    "\n",
    "The secondary objective is to classify human activities based on 2D pose keypoints. We will use custom datasets to validate this task, allowing us to assess the generalization capabilities of GNN-based models for activity recognition.\n",
    "\n",
    "<h3><u>1.3 Project Setup</u></h3>\n",
    "\n",
    "1. Install the dependencies from requirements.txt using the command\n",
    "\n",
    "`pip install -r requirements.txt`\n"
   ]
  },
  {
   "cell_type": "markdown",
   "id": "611734fb42bb945e",
   "metadata": {},
   "source": [
    "<h2><u>2. Human 3.6M Dataset</u></h2>\n",
    "\n",
    "<h3><u>2.1 Summary of the dataset </u></h3>\n",
    "\n",
    "The [Human 3.6M dataset](http://vision.imar.ro/human3.6m/description.php) is a large-scale collection of 3.6 million 3D human poses captured from 11 professional actors in 17 everyday scenarios (e.g., talking, smoking, discussing). It includes synchronized video from multiple calibrated cameras, precise 3D joint positions and angles, and pixel-level body part labels. Additional data like time-of-flight range data and 3D laser scans of actors are also available.\n",
    "\n",
    "The dataset comes with precomputed image descriptors, tools for visualizing and predicting human poses, and an evaluation set for benchmarking performance, making it a rich resource for 3D human pose estimation, action recognition, and related computer vision tasks."
   ]
  },
  {
   "cell_type": "markdown",
   "id": "76972dcfdd4a2b57",
   "metadata": {},
   "source": [
    "<h3><u>2.2. Dataset preparation </u></h3>\n",
    "\n",
    "Downloading the dataset from the website requires a login , therefore we will be directly using a preprocessed version of this dataset stored in google drive [here](https://drive.google.com/file/d/1JGt3j9q5A8WzUY-QKfyMVJUUvfreri-s/view?usp=drive_link).\n",
    " \n",
    "Original preprocessing was done by [Martinez et al](https://github.com/una-dinosauria/3d-pose-baseline) from this repository.\n",
    "\n",
    "The cells below go through the steps of downloading this preprocessed dataset and creating train-test files from it after some transformation. \n",
    "\n",
    "From section 3(Models) we will be directly using the created train-test files, therefore the cells under this section need not be executed."
   ]
  },
  {
   "cell_type": "markdown",
   "id": "f7b437e917fa318b",
   "metadata": {},
   "source": [
    "#### Downloading the zip from google drive"
   ]
  },
  {
   "cell_type": "code",
   "execution_count": null,
   "id": "71f1e0ceefe13857",
   "metadata": {
    "ExecuteTime": {
     "end_time": "2024-10-24T10:31:40.978888Z",
     "start_time": "2024-10-24T10:31:06.728419Z"
    }
   },
   "outputs": [],
   "source": [
    "# Download the zip from google drive\n",
    "import gdown\n",
    "import os\n",
    "\n",
    "# file id from gdrive (refer to markdown cell above for full link)\n",
    "file_id = '1JGt3j9q5A8WzUY-QKfyMVJUUvfreri-s' \n",
    "download_url = f'https://drive.google.com/uc?id={file_id}'\n",
    "\n",
    "# Folder where you want to save the file\n",
    "folder_path = os.path.join(os.getcwd(),\"datasets\", \"h36m\", \"Original\")\n",
    "zip_file_path = os.path.join(folder_path, 'h36m.zip')\n",
    "\n",
    "# Ensure the folder exists\n",
    "os.makedirs(folder_path, exist_ok=True)\n",
    "\n",
    "# Download the ZIP file\n",
    "gdown.download(download_url, zip_file_path, quiet=False)\n",
    "\n",
    "print(f\"Downloaded ZIP file and saved to {zip_file_path}\")\n"
   ]
  },
  {
   "cell_type": "markdown",
   "id": "82af82d9932cf7c2",
   "metadata": {},
   "source": [
    "#### Extracting the contents into the same folder"
   ]
  },
  {
   "cell_type": "code",
   "execution_count": null,
   "id": "93b0822847be0d9c",
   "metadata": {
    "ExecuteTime": {
     "end_time": "2024-10-24T10:31:43.844809Z",
     "start_time": "2024-10-24T10:31:40.978888Z"
    }
   },
   "outputs": [],
   "source": [
    "# extracting the contents inside the /datasets/h36m/Original folder\n",
    "import zipfile\n",
    "\n",
    "print(f\"Extracting files to {folder_path}..\")\n",
    "# Open the ZIP file and extract its contents\n",
    "with zipfile.ZipFile(zip_file_path, 'r') as zip_ref:\n",
    "    zip_ref.extractall(folder_path)\n",
    "\n",
    "print(f\"Finished extracting files to {folder_path}\")\n",
    "\n"
   ]
  },
  {
   "cell_type": "markdown",
   "id": "93b5da612c5f96",
   "metadata": {},
   "source": [
    "#### Saving the 3d positions into a compressed np file"
   ]
  },
  {
   "cell_type": "code",
   "execution_count": null,
   "id": "4e513820c9281fc5",
   "metadata": {
    "ExecuteTime": {
     "end_time": "2024-10-24T10:31:50.599958Z",
     "start_time": "2024-10-24T10:31:43.845626Z"
    }
   },
   "outputs": [],
   "source": [
    "import h5py\n",
    "from glob import glob\n",
    "from tqdm import tqdm\n",
    "import numpy as np\n",
    "\n",
    "output_filename = os.path.join(folder_path, 'data_3d_h36m')\n",
    "subjects = ['S1', 'S5', 'S6', 'S7', 'S8', 'S9', 'S11']\n",
    "\n",
    "output = dict()\n",
    "for subject in tqdm(subjects, desc= f'Processing subjects..'):\n",
    "    output[subject] = dict()\n",
    "    file_list = glob(os.path.join(folder_path, 'h36m', subject, 'MyPoses', '3D_positions', '*.h5'))\n",
    "    assert len(file_list) == 30, \"Expected 30 files for subject \" + subject + \", got \" + str(len(file_list))\n",
    "    for f in file_list:\n",
    "        action = os.path.splitext(os.path.basename(f))[0]\n",
    "\n",
    "        if subject == 'S11' and action == 'Directions':\n",
    "            continue  # Discard corrupted video\n",
    "\n",
    "        with h5py.File(f) as hf:\n",
    "            positions = hf.get('3D_positions')[:].reshape(32, 3, -1).transpose(2, 0, 1)\n",
    "            positions /= 1000  # Meters instead of millimeters\n",
    "            output[subject][action] = positions.astype('float32')\n",
    "\n",
    "print(f'Saving compressed 3d positions into {output_filename}')\n",
    "np.savez_compressed(output_filename, positions_3d=output)\n",
    "print(f'Finished saving 3d positions into {output_filename}')\n",
    "del output\n"
   ]
  },
  {
   "cell_type": "markdown",
   "id": "e588965a522e8f8",
   "metadata": {},
   "source": [
    "#### Compute the ground truth 2d poses.\n",
    "\n",
    "TODO.brandon explain what the human35mDataset constructor does in detail (intrinsics, extrinsics, cameras, normalization etc etc)"
   ]
  },
  {
   "cell_type": "code",
   "execution_count": null,
   "id": "6c4794b93a1836eb",
   "metadata": {
    "ExecuteTime": {
     "end_time": "2024-10-24T10:32:08.130629Z",
     "start_time": "2024-10-24T10:31:50.602485Z"
    }
   },
   "outputs": [],
   "source": [
    "from data.camera import world_to_camera, project_to_2d, image_coordinates, wrap\n",
    "from data.h36m_dataset import Human36mDataset\n",
    "\n",
    "print('Computing ground-truth 2D poses...')\n",
    "output_filename_2d = os.path.join(folder_path, 'data_2d_h36m_gt')\n",
    "\n",
    "dataset = Human36mDataset(output_filename + '.npz')\n",
    "output_2d_poses = {}\n",
    "for subject in dataset.subjects():\n",
    "    output_2d_poses[subject] = {}\n",
    "    for action in dataset[subject].keys():\n",
    "        anim = dataset[subject][action]\n",
    "\n",
    "        positions_2d = []\n",
    "        for cam in anim['cameras']:\n",
    "            pos_3d = world_to_camera(anim['positions'], R=cam['orientation'], t=cam['translation'])\n",
    "            pos_2d = wrap(project_to_2d, True, pos_3d, cam['intrinsic'])\n",
    "            pos_2d_pixel_space = image_coordinates(pos_2d, w=cam['res_w'], h=cam['res_h'])\n",
    "            positions_2d.append(pos_2d_pixel_space.astype('float32'))\n",
    "        output_2d_poses[subject][action] = positions_2d\n",
    "\n",
    "print(f'Saving compressed 2d positions into {output_filename_2d}')\n",
    "metadata = {\n",
    "    'num_joints': dataset.skeleton().num_joints(),\n",
    "    'keypoints_symmetry': [dataset.skeleton().joints_left(), dataset.skeleton().joints_right()]\n",
    "}\n",
    "np.savez_compressed(output_filename_2d, positions_2d=output_2d_poses, metadata=metadata)\n",
    "\n",
    "print(f'Done saving compressed 2d positions into {output_filename_2d}')\n",
    "del output_2d_poses"
   ]
  },
  {
   "cell_type": "markdown",
   "id": "72697b64fd7d407d",
   "metadata": {},
   "source": [
    "#### Cleanup the extracted files and the downloaded zip"
   ]
  },
  {
   "cell_type": "code",
   "execution_count": null,
   "id": "118fd2a82b04cd62",
   "metadata": {
    "ExecuteTime": {
     "end_time": "2024-10-24T10:32:08.336197Z",
     "start_time": "2024-10-24T10:32:08.130629Z"
    }
   },
   "outputs": [],
   "source": [
    "from shutil import rmtree\n",
    "\n",
    "rmtree(os.path.join(folder_path, 'h36m'))\n",
    "os.remove(os.path.join(folder_path, 'h36m.zip'))"
   ]
  },
  {
   "cell_type": "markdown",
   "id": "b27ac66ee540da7d",
   "metadata": {},
   "source": [
    "#### Creating and saving train and test files from the saved npz files"
   ]
  },
  {
   "cell_type": "code",
   "execution_count": null,
   "id": "5cb37ba45841bf03",
   "metadata": {
    "ExecuteTime": {
     "end_time": "2024-10-24T10:32:09.228186Z",
     "start_time": "2024-10-24T10:32:08.336197Z"
    }
   },
   "outputs": [],
   "source": [
    "from utils.data_utils import read_3d_data, create_2d_data, create_train_test_files\n",
    "from data.h36m_dataset import TRAIN_SUBJECTS, TEST_SUBJECTS, Human36mDataset\n",
    "import os\n",
    "\n",
    "subjects_train = TRAIN_SUBJECTS\n",
    "subjects_test = TEST_SUBJECTS\n",
    "\n",
    "processed_dataset_path = os.path.join(os.getcwd(), \"datasets\", \"h36m\", \"Processed\")\n",
    "os.makedirs(processed_dataset_path, exist_ok=True)\n",
    "\n",
    "dataset_path = os.path.join(os.getcwd(), \"datasets\", \"h36m\", \"Original\", \"data_3d_h36m.npz\")\n",
    "dataset = Human36mDataset(dataset_path)\n"
   ]
  },
  {
   "cell_type": "code",
   "execution_count": null,
   "id": "a7ad8d6cc3eb740e",
   "metadata": {
    "ExecuteTime": {
     "end_time": "2024-10-24T10:32:12.228130Z",
     "start_time": "2024-10-24T10:32:09.228186Z"
    }
   },
   "outputs": [],
   "source": [
    "#TODO.brandon: add comments for what exactly the read_3d_data function does and the create_2d_data does.\n",
    "print(\"Reading 3d npz file\")\n",
    "dataset = read_3d_data(dataset)\n",
    "\n",
    "print(\"Reading 2d npz file\")\n",
    "dataset_2d_path = os.path.join(os.getcwd(), \"datasets\", \"h36m\", \"Original\", \"data_2d_h36m_gt.npz\")\n",
    "keypoints = create_2d_data(dataset_2d_path, dataset)\n",
    "print(\"Done\")"
   ]
  },
  {
   "cell_type": "code",
   "execution_count": null,
   "id": "f68a656a402feba5",
   "metadata": {
    "ExecuteTime": {
     "end_time": "2024-10-24T10:32:15.890233Z",
     "start_time": "2024-10-24T10:32:12.228130Z"
    }
   },
   "outputs": [],
   "source": [
    "# NOTE: train on subset of distinct actions or on full set of actions\n",
    "keep_actions = ['Greeting', 'Photo', 'Sitting', 'SittingDown', 'Walking']\n",
    "keep_actions = []\n",
    "\n",
    "print(\"Creating train datasets and saving into file\")\n",
    "_, _, _ = create_train_test_files(subjects_train, dataset, keypoints, \"train\", processed_dataset_path, keep_actions=keep_actions)\n",
    "\n",
    "print(\"Creating test datasets and saving into file\")\n",
    "_, _, _ = create_train_test_files(subjects_test, dataset, keypoints, \"test\", processed_dataset_path, keep_actions=keep_actions)\n",
    "print(\"Done\")"
   ]
  },
  {
   "cell_type": "markdown",
   "id": "63c43c8d75e4e921",
   "metadata": {},
   "source": [
    "<h3><u>2.3 Visualizing poses </u></h3>\n",
    "\n",
    "Since we have saved the train and test files, we will now only use those files for the rest of the notebook.\n",
    "\n",
    "This has also been saved directly in this [google drive link](https://drive.google.com/drive/folders/1d38hWSM8clZlI11nqljxBECog1KY-iTd?usp=sharing), which can be placed directly in the local path instead of executing previous cells.\n",
    "\n",
    "The visualizations below shows that we are considering that human poses are comprised of skeletons with just 16 joints after doing all of the processing above."
   ]
  },
  {
   "cell_type": "code",
   "execution_count": null,
   "id": "1e9e7905edcd97d4",
   "metadata": {
    "ExecuteTime": {
     "end_time": "2024-10-24T10:32:16.917256Z",
     "start_time": "2024-10-24T10:32:15.890233Z"
    }
   },
   "outputs": [],
   "source": [
    "import numpy as np\n",
    "\n",
    "from utils.visualization_utils import visualize_2d_pose, visualize_3d_pose\n",
    "\n",
    "poses_2d = np.load(\"datasets/h36m/Processed/test_2d_poses.npy\")\n",
    "poses_3d = np.load(\"datasets/h36m/Processed/test_3d_poses.npy\")\n",
    "\n",
    "visualize_2d_pose(poses_2d[0])\n",
    "visualize_3d_pose(poses_3d[0], elev=110, azim=90)"
   ]
  },
  {
   "cell_type": "markdown",
   "id": "7725e8082f63bef6",
   "metadata": {},
   "source": [
    "#### Finding out the distribution of actions in the train and test splits\n",
    "\n",
    "The following code cells plots a bar graph of the actions in the train and test datasets."
   ]
  },
  {
   "cell_type": "code",
   "execution_count": null,
   "id": "6ac4ee6d0caadd6c",
   "metadata": {
    "ExecuteTime": {
     "end_time": "2024-10-24T10:42:37.509585Z",
     "start_time": "2024-10-24T10:42:36.546305Z"
    }
   },
   "outputs": [],
   "source": [
    "import pandas as pd\n",
    "import matplotlib.pyplot as plt\n",
    "\n",
    "def show_action_stats(actions, type):\n",
    "    train_actions_df = pd.DataFrame(actions, columns=['actions'])\n",
    "    action_counts = train_actions_df['actions'].value_counts()\n",
    "    print(action_counts)\n",
    "    \n",
    "    action_counts.plot(kind='bar')\n",
    "    \n",
    "    # Step 4: Show the plot\n",
    "    plt.title(f'{type} Action Distribution')\n",
    "    plt.xlabel('Action')\n",
    "    plt.ylabel('Count')\n",
    "    plt.show()\n"
   ]
  },
  {
   "cell_type": "code",
   "execution_count": null,
   "id": "4a3d339da3ad4be1",
   "metadata": {
    "ExecuteTime": {
     "end_time": "2024-10-24T10:47:10.713481Z",
     "start_time": "2024-10-24T10:47:10.315303Z"
    }
   },
   "outputs": [],
   "source": [
    "train_actions = np.load(\"datasets/h36m/Processed/train_actions.npy\")\n",
    "show_action_stats(train_actions, \"Train\")"
   ]
  },
  {
   "cell_type": "code",
   "execution_count": null,
   "id": "44918710",
   "metadata": {},
   "outputs": [],
   "source": [
    "import torch \n",
    "import torch.nn as nn\n",
    "\n",
    "w = nn.Parameter(torch.Tensor(size=(2,5,5)))"
   ]
  },
  {
   "cell_type": "code",
   "execution_count": null,
   "id": "60e77e8dbb1d9828",
   "metadata": {
    "ExecuteTime": {
     "end_time": "2024-10-24T10:47:11.880112Z",
     "start_time": "2024-10-24T10:47:11.560131Z"
    }
   },
   "outputs": [],
   "source": [
    "test_actions = np.load(\"datasets/h36m/Processed/test_actions.npy\")\n",
    "show_action_stats(train_actions, \"Test\")"
   ]
  },
  {
   "cell_type": "markdown",
   "id": "ad19bb814deadd8b",
   "metadata": {},
   "source": [
    "<h2><u>3. Model Building Approach</u></h2>\n",
    "\n",
    "The following sections attempts to build different ML models using the dataset which was just constructed above.\n",
    "\n",
    "At a very high level these are the models we aim to build:\n",
    "* SimplePose - A simple baseline ML model using classic DL layers\n",
    "* SimplePoseGNN - A simple baseline GNN model using DGL and GNN layers\n",
    "* SemGCN - A reimplementation of the [SemGCN paper](https://arxiv.org/abs/1904.03345) in DGL\n",
    "* PoseGCN - A more complex GNN model by leveraging the insights gained from building the other GNN models.\n"
   ]
  },
  {
   "cell_type": "markdown",
   "id": "73f319c5978c85c1",
   "metadata": {},
   "source": [
    "<h2><u>4. Baseline 1 - SimplePose (Simple ML model without using GNNs)</u></h2>\n",
    "\n",
    "TODO.brian - write something meaningful here\n",
    "\n"
   ]
  },
  {
   "cell_type": "code",
   "execution_count": null,
   "id": "f272c692",
   "metadata": {
    "ExecuteTime": {
     "end_time": "2024-10-24T11:34:12.664980Z",
     "start_time": "2024-10-24T11:34:08.681142Z"
    }
   },
   "outputs": [
    {
     "name": "stderr",
     "output_type": "stream",
     "text": [
      "INFO:root:Model is currently using : cuda\n",
      "INFO:root:Creating Missing Paths: model_outputs\\simple_pose\\2024-11-13--16-12-40\n",
      "INFO:root:Saving config\n",
      "INFO:root:Setup Training and Testing Dataloaders\n",
      "INFO:root:Setup SimplePose model with Kaiming Weights\n",
      "INFO:root:SimplePose(\n",
      "  (input_linear_2d): Linear(in_features=26, out_features=1024, bias=True)\n",
      "  (blocks): ModuleList(\n",
      "    (0-5): 6 x Sequential(\n",
      "      (0): Linear(in_features=1024, out_features=1024, bias=True)\n",
      "      (1): BatchNorm1d(1024, eps=1e-05, momentum=0.1, affine=True, track_running_stats=True)\n",
      "      (2): ReLU()\n",
      "      (3): Dropout(p=0.6, inplace=False)\n",
      "      (4): Linear(in_features=1024, out_features=1024, bias=True)\n",
      "      (5): BatchNorm1d(1024, eps=1e-05, momentum=0.1, affine=True, track_running_stats=True)\n",
      "      (6): ReLU()\n",
      "      (7): Dropout(p=0.6, inplace=False)\n",
      "    )\n",
      "  )\n",
      "  (output_3d_pose_linear): Sequential(\n",
      "    (0): Linear(in_features=1024, out_features=512, bias=True)\n",
      "    (1): BatchNorm1d(512, eps=1e-05, momentum=0.1, affine=True, track_running_stats=True)\n",
      "    (2): ReLU()\n",
      "    (3): Dropout(p=0.6, inplace=False)\n",
      "    (4): Linear(in_features=512, out_features=256, bias=True)\n",
      "    (5): ReLU()\n",
      "    (6): Linear(in_features=256, out_features=39, bias=True)\n",
      "  )\n",
      "  (output_label_linear): Sequential(\n",
      "    (0): Linear(in_features=1024, out_features=512, bias=True)\n",
      "    (1): BatchNorm1d(512, eps=1e-05, momentum=0.1, affine=True, track_running_stats=True)\n",
      "    (2): ReLU()\n",
      "    (3): Dropout(p=0.6, inplace=False)\n",
      "    (4): Linear(in_features=512, out_features=256, bias=True)\n",
      "    (5): ReLU()\n",
      "    (6): Linear(in_features=256, out_features=5, bias=True)\n",
      "  )\n",
      ")\n"
     ]
    },
    {
     "name": "stdout",
     "output_type": "stream",
     "text": [
      "Training args are: Namespace(action_loss_multiplier=0.005, batch_size=256, learning_rate=3e-05, num_epochs=30, pose_loss_multiplier=0.995, save_path='model_outputs\\\\simple_pose\\\\2024-11-13--16-12-40', testing_2d_data_path='datasets\\\\custom\\\\Processed\\\\test_2d_poses.npy', testing_3d_data_path='datasets\\\\custom\\\\Processed\\\\test_3d_poses.npy', testing_label_path='datasets\\\\custom\\\\Processed\\\\test_actions.npy', training_2d_data_path='datasets\\\\custom\\\\Processed\\\\train_2d_poses.npy', training_3d_data_path='datasets\\\\custom\\\\Processed\\\\train_3d_poses.npy', training_label_path='datasets\\\\custom\\\\Processed\\\\train_actions.npy')\n"
     ]
    },
    {
     "name": "stderr",
     "output_type": "stream",
     "text": [
      "INFO:root:Setup Optimizer\n",
      "INFO:root:Setup Scheduler\n",
      "INFO:root:Setup loss functions\n",
      "INFO:root:Start Training and Testing Loops\n"
     ]
    },
    {
     "name": "stdout",
     "output_type": "stream",
     "text": [
      "Starting EPOCH: 1 / 30\n"
     ]
    },
    {
     "name": "stderr",
     "output_type": "stream",
     "text": [
      "100%|██████████| 126/126 [00:01<00:00, 101.23it/s], 113.53it/s]\n",
      "Training =>: 100%|██████████| 126/126 [00:01<00:00, 101.07it/s]\n"
     ]
    },
    {
     "name": "stdout",
     "output_type": "stream",
     "text": [
      "Saving at epoch 0\n",
      "Epoch: 0 | Total Training Loss: 1.6406277418136597 | Pose Training Loss: 1.641406536102295 | Action Training Loss: 1.485668659210205 | Action Train Label Accuracy: 37.83934894700876\n"
     ]
    },
    {
     "name": "stderr",
     "output_type": "stream",
     "text": [
      "100%|██████████| 10/10 [00:00<00:00, 201.59it/s]s]\n",
      "Testing =>: 100%|██████████| 10/10 [00:00<00:00, 190.05it/s]\n",
      "INFO:root:Saving model current state\n"
     ]
    },
    {
     "name": "stdout",
     "output_type": "stream",
     "text": [
      "Epoch: 0 | Total Testing Loss: 0.12084994465112686 | Pose Testing Loss: 0.10837476700544357 | Action Testing Loss: 2.6034085750579834 | Action Test Label Accuracy: 20.0\n",
      "Starting EPOCH: 2 / 30\n"
     ]
    },
    {
     "name": "stderr",
     "output_type": "stream",
     "text": [
      "100%|██████████| 126/126 [00:01<00:00, 113.80it/s], 115.27it/s]\n",
      "Training =>: 100%|██████████| 126/126 [00:01<00:00, 113.49it/s]\n"
     ]
    },
    {
     "name": "stdout",
     "output_type": "stream",
     "text": [
      "Saving at epoch 1\n",
      "Epoch: 1 | Total Training Loss: 0.8652684092521667 | Pose Training Loss: 0.8644501566886902 | Action Training Loss: 1.0281076431274414 | Action Train Label Accuracy: 52.224016897558556\n"
     ]
    },
    {
     "name": "stderr",
     "output_type": "stream",
     "text": [
      "100%|██████████| 10/10 [00:00<00:00, 285.68it/s]s]\n",
      "Testing =>: 100%|██████████| 10/10 [00:00<00:00, 256.35it/s]\n",
      "INFO:root:Saving model current state\n"
     ]
    },
    {
     "name": "stdout",
     "output_type": "stream",
     "text": [
      "Epoch: 1 | Total Testing Loss: 0.08771912008523941 | Pose Testing Loss: 0.0739421397447586 | Action Testing Loss: 2.829339027404785 | Action Test Label Accuracy: 20.0\n",
      "Starting EPOCH: 3 / 30\n"
     ]
    },
    {
     "name": "stderr",
     "output_type": "stream",
     "text": [
      "100%|██████████| 126/126 [00:01<00:00, 114.77it/s], 115.61it/s]\n",
      "Training =>: 100%|██████████| 126/126 [00:01<00:00, 114.56it/s]\n"
     ]
    },
    {
     "name": "stdout",
     "output_type": "stream",
     "text": [
      "Saving at epoch 2\n",
      "Epoch: 2 | Total Training Loss: 0.5401147603988647 | Pose Training Loss: 0.5384892225265503 | Action Training Loss: 0.8636717200279236 | Action Train Label Accuracy: 59.243958501584146\n"
     ]
    },
    {
     "name": "stderr",
     "output_type": "stream",
     "text": [
      "100%|██████████| 10/10 [00:00<00:00, 368.51it/s]s]\n",
      "Testing =>: 100%|██████████| 10/10 [00:00<00:00, 343.23it/s]\n",
      "INFO:root:Saving model current state\n"
     ]
    },
    {
     "name": "stdout",
     "output_type": "stream",
     "text": [
      "Epoch: 2 | Total Testing Loss: 0.08262867480516434 | Pose Testing Loss: 0.0691702589392662 | Action Testing Loss: 2.760852575302124 | Action Test Label Accuracy: 20.0\n",
      "Starting EPOCH: 4 / 30\n"
     ]
    },
    {
     "name": "stderr",
     "output_type": "stream",
     "text": [
      "100%|██████████| 126/126 [00:01<00:00, 119.95it/s], 114.55it/s]\n",
      "Training =>: 100%|██████████| 126/126 [00:01<00:00, 119.72it/s]\n"
     ]
    },
    {
     "name": "stdout",
     "output_type": "stream",
     "text": [
      "Saving at epoch 3\n",
      "Epoch: 3 | Total Training Loss: 0.35155269503593445 | Pose Training Loss: 0.3492780029773712 | Action Training Loss: 0.8041711449623108 | Action Train Label Accuracy: 62.927874759271916\n"
     ]
    },
    {
     "name": "stderr",
     "output_type": "stream",
     "text": [
      "100%|██████████| 10/10 [00:00<00:00, 267.30it/s]s]\n",
      "Testing =>: 100%|██████████| 10/10 [00:00<00:00, 253.73it/s]\n",
      "INFO:root:Saving model current state\n"
     ]
    },
    {
     "name": "stdout",
     "output_type": "stream",
     "text": [
      "Epoch: 3 | Total Testing Loss: 0.07479032129049301 | Pose Testing Loss: 0.06222572922706604 | Action Testing Loss: 2.575144052505493 | Action Test Label Accuracy: 20.0\n",
      "Starting EPOCH: 5 / 30\n"
     ]
    },
    {
     "name": "stderr",
     "output_type": "stream",
     "text": [
      "100%|██████████| 126/126 [00:01<00:00, 113.89it/s], 115.64it/s]\n",
      "Training =>: 100%|██████████| 126/126 [00:01<00:00, 113.79it/s]\n"
     ]
    },
    {
     "name": "stdout",
     "output_type": "stream",
     "text": [
      "Saving at epoch 4\n",
      "Epoch: 4 | Total Training Loss: 0.24856950342655182 | Pose Training Loss: 0.24587209522724152 | Action Training Loss: 0.7853646874427795 | Action Train Label Accuracy: 64.5213393800087\n"
     ]
    },
    {
     "name": "stderr",
     "output_type": "stream",
     "text": [
      "100%|██████████| 10/10 [00:00<00:00, 333.34it/s]s]\n",
      "Testing =>: 100%|██████████| 10/10 [00:00<00:00, 322.57it/s]\n",
      "INFO:root:Saving model current state\n"
     ]
    },
    {
     "name": "stdout",
     "output_type": "stream",
     "text": [
      "Epoch: 4 | Total Testing Loss: 0.07242601364850998 | Pose Testing Loss: 0.0613224096596241 | Action Testing Loss: 2.2820441722869873 | Action Test Label Accuracy: 20.291666666666668\n",
      "Starting EPOCH: 6 / 30\n"
     ]
    },
    {
     "name": "stderr",
     "output_type": "stream",
     "text": [
      "100%|██████████| 126/126 [00:01<00:00, 111.91it/s], 114.79it/s]\n",
      "Training =>: 100%|██████████| 126/126 [00:01<00:00, 111.71it/s]\n"
     ]
    },
    {
     "name": "stdout",
     "output_type": "stream",
     "text": [
      "Saving at epoch 5\n",
      "Epoch: 5 | Total Training Loss: 0.19222164154052734 | Pose Training Loss: 0.1893511414527893 | Action Training Loss: 0.7634450793266296 | Action Train Label Accuracy: 66.1551841958129\n"
     ]
    },
    {
     "name": "stderr",
     "output_type": "stream",
     "text": [
      "100%|██████████| 10/10 [00:00<00:00, 312.63it/s]s]\n",
      "Testing =>: 100%|██████████| 10/10 [00:00<00:00, 291.57it/s]\n",
      "INFO:root:Saving model current state\n"
     ]
    },
    {
     "name": "stdout",
     "output_type": "stream",
     "text": [
      "Epoch: 5 | Total Testing Loss: 0.07421456277370453 | Pose Testing Loss: 0.06335677206516266 | Action Testing Loss: 2.2349135875701904 | Action Test Label Accuracy: 21.041666666666668\n",
      "Starting EPOCH: 7 / 30\n"
     ]
    },
    {
     "name": "stderr",
     "output_type": "stream",
     "text": [
      "100%|██████████| 126/126 [00:01<00:00, 110.48it/s], 112.31it/s]\n",
      "Training =>: 100%|██████████| 126/126 [00:01<00:00, 110.34it/s]\n"
     ]
    },
    {
     "name": "stdout",
     "output_type": "stream",
     "text": [
      "Saving at epoch 6\n",
      "Epoch: 6 | Total Training Loss: 0.15866205096244812 | Pose Training Loss: 0.15571093559265137 | Action Training Loss: 0.7459364533424377 | Action Train Label Accuracy: 67.36037771013233\n"
     ]
    },
    {
     "name": "stderr",
     "output_type": "stream",
     "text": [
      "100%|██████████| 10/10 [00:00<00:00, 243.09it/s]s]\n",
      "Testing =>: 100%|██████████| 10/10 [00:00<00:00, 226.56it/s]\n",
      "INFO:root:Saving model current state\n"
     ]
    },
    {
     "name": "stdout",
     "output_type": "stream",
     "text": [
      "Epoch: 6 | Total Testing Loss: 0.07503063976764679 | Pose Testing Loss: 0.06449230760335922 | Action Testing Loss: 2.1721577644348145 | Action Test Label Accuracy: 22.75\n",
      "Starting EPOCH: 8 / 30\n"
     ]
    },
    {
     "name": "stderr",
     "output_type": "stream",
     "text": [
      "100%|██████████| 126/126 [00:01<00:00, 100.34it/s], 96.46it/s]\n",
      "Training =>: 100%|██████████| 126/126 [00:01<00:00, 100.06it/s]\n"
     ]
    },
    {
     "name": "stdout",
     "output_type": "stream",
     "text": [
      "Saving at epoch 7\n",
      "Epoch: 7 | Total Training Loss: 0.13626423478126526 | Pose Training Loss: 0.13333284854888916 | Action Training Loss: 0.7195987701416016 | Action Train Label Accuracy: 69.14331863080076\n"
     ]
    },
    {
     "name": "stderr",
     "output_type": "stream",
     "text": [
      "100%|██████████| 10/10 [00:00<00:00, 207.91it/s]s]\n",
      "Testing =>: 100%|██████████| 10/10 [00:00<00:00, 195.67it/s]\n",
      "INFO:root:Saving model current state\n"
     ]
    },
    {
     "name": "stdout",
     "output_type": "stream",
     "text": [
      "Epoch: 7 | Total Testing Loss: 0.07279147207736969 | Pose Testing Loss: 0.0631433054804802 | Action Testing Loss: 1.9927772283554077 | Action Test Label Accuracy: 26.833333333333332\n",
      "Starting EPOCH: 9 / 30\n"
     ]
    },
    {
     "name": "stderr",
     "output_type": "stream",
     "text": [
      "100%|██████████| 126/126 [00:01<00:00, 102.94it/s], 104.97it/s]\n",
      "Training =>: 100%|██████████| 126/126 [00:01<00:00, 102.78it/s]\n"
     ]
    },
    {
     "name": "stdout",
     "output_type": "stream",
     "text": [
      "Saving at epoch 8\n",
      "Epoch: 8 | Total Training Loss: 0.12020812183618546 | Pose Training Loss: 0.11734023690223694 | Action Training Loss: 0.6909123063087463 | Action Train Label Accuracy: 70.90762253836118\n"
     ]
    },
    {
     "name": "stderr",
     "output_type": "stream",
     "text": [
      "100%|██████████| 10/10 [00:00<00:00, 307.11it/s]s]\n",
      "Testing =>: 100%|██████████| 10/10 [00:00<00:00, 281.33it/s]\n",
      "INFO:root:Saving model current state\n"
     ]
    },
    {
     "name": "stdout",
     "output_type": "stream",
     "text": [
      "Epoch: 8 | Total Testing Loss: 0.06990443915128708 | Pose Testing Loss: 0.06041818484663963 | Action Testing Loss: 1.9576677083969116 | Action Test Label Accuracy: 30.375000000000004\n",
      "Starting EPOCH: 10 / 30\n"
     ]
    },
    {
     "name": "stderr",
     "output_type": "stream",
     "text": [
      "100%|██████████| 126/126 [00:01<00:00, 92.22it/s]0, 85.41it/s]\n",
      "Training =>: 100%|██████████| 126/126 [00:01<00:00, 92.08it/s]\n"
     ]
    },
    {
     "name": "stdout",
     "output_type": "stream",
     "text": [
      "Saving at epoch 9\n",
      "Epoch: 9 | Total Training Loss: 0.10760433971881866 | Pose Training Loss: 0.10481306910514832 | Action Training Loss: 0.6630758047103882 | Action Train Label Accuracy: 72.30850469031496\n"
     ]
    },
    {
     "name": "stderr",
     "output_type": "stream",
     "text": [
      "100%|██████████| 10/10 [00:00<00:00, 233.83it/s]s]\n",
      "Testing =>: 100%|██████████| 10/10 [00:00<00:00, 213.32it/s]\n",
      "INFO:root:Saving model current state\n"
     ]
    },
    {
     "name": "stdout",
     "output_type": "stream",
     "text": [
      "Epoch: 9 | Total Testing Loss: 0.06823907792568207 | Pose Testing Loss: 0.05791062116622925 | Action Testing Loss: 2.1236016750335693 | Action Test Label Accuracy: 28.749999999999996\n",
      "Starting EPOCH: 11 / 30\n"
     ]
    },
    {
     "name": "stderr",
     "output_type": "stream",
     "text": [
      "100%|██████████| 126/126 [00:01<00:00, 97.79it/s]0, 98.71it/s]\n",
      "Training =>: 100%|██████████| 126/126 [00:01<00:00, 97.61it/s]\n"
     ]
    },
    {
     "name": "stdout",
     "output_type": "stream",
     "text": [
      "Saving at epoch 10\n",
      "Epoch: 10 | Total Training Loss: 0.0986979678273201 | Pose Training Loss: 0.09600430727005005 | Action Training Loss: 0.6347291469573975 | Action Train Label Accuracy: 73.70317450456608\n"
     ]
    },
    {
     "name": "stderr",
     "output_type": "stream",
     "text": [
      "100%|██████████| 10/10 [00:00<00:00, 229.57it/s]s]\n",
      "Testing =>: 100%|██████████| 10/10 [00:00<00:00, 210.25it/s]\n",
      "INFO:root:Saving model current state\n"
     ]
    },
    {
     "name": "stdout",
     "output_type": "stream",
     "text": [
      "Epoch: 10 | Total Testing Loss: 0.065131776034832 | Pose Testing Loss: 0.056065578013658524 | Action Testing Loss: 1.8693056106567383 | Action Test Label Accuracy: 35.5\n",
      "Starting EPOCH: 12 / 30\n"
     ]
    },
    {
     "name": "stderr",
     "output_type": "stream",
     "text": [
      "100%|██████████| 126/126 [00:01<00:00, 93.18it/s]0, 92.00it/s]\n",
      "Training =>: 100%|██████████| 126/126 [00:01<00:00, 92.90it/s]\n"
     ]
    },
    {
     "name": "stdout",
     "output_type": "stream",
     "text": [
      "Saving at epoch 11\n",
      "Epoch: 11 | Total Training Loss: 0.09114662557840347 | Pose Training Loss: 0.08857002854347229 | Action Training Loss: 0.6038828492164612 | Action Train Label Accuracy: 75.35565633347828\n"
     ]
    },
    {
     "name": "stderr",
     "output_type": "stream",
     "text": [
      "100%|██████████| 10/10 [00:00<00:00, 269.01it/s]s]\n",
      "Testing =>: 100%|██████████| 10/10 [00:00<00:00, 255.27it/s]\n",
      "INFO:root:Saving model current state\n"
     ]
    },
    {
     "name": "stdout",
     "output_type": "stream",
     "text": [
      "Epoch: 11 | Total Testing Loss: 0.06232708320021629 | Pose Testing Loss: 0.05320597440004349 | Action Testing Loss: 1.8774269819259644 | Action Test Label Accuracy: 36.666666666666664\n",
      "Starting EPOCH: 13 / 30\n"
     ]
    },
    {
     "name": "stderr",
     "output_type": "stream",
     "text": [
      "100%|██████████| 126/126 [00:01<00:00, 96.25it/s]0, 95.60it/s]\n",
      "Training =>: 100%|██████████| 126/126 [00:01<00:00, 95.99it/s]\n"
     ]
    },
    {
     "name": "stdout",
     "output_type": "stream",
     "text": [
      "Saving at epoch 12\n",
      "Epoch: 12 | Total Training Loss: 0.08473130315542221 | Pose Training Loss: 0.0822746753692627 | Action Training Loss: 0.5736021995544434 | Action Train Label Accuracy: 76.96465179847176\n"
     ]
    },
    {
     "name": "stderr",
     "output_type": "stream",
     "text": [
      "100%|██████████| 10/10 [00:00<00:00, 224.64it/s]s]\n",
      "Testing =>: 100%|██████████| 10/10 [00:00<00:00, 206.09it/s]\n",
      "INFO:root:Saving model current state\n"
     ]
    },
    {
     "name": "stdout",
     "output_type": "stream",
     "text": [
      "Epoch: 12 | Total Testing Loss: 0.059824805706739426 | Pose Testing Loss: 0.051377393305301666 | Action Testing Loss: 1.740860939025879 | Action Test Label Accuracy: 39.875\n",
      "Starting EPOCH: 14 / 30\n"
     ]
    },
    {
     "name": "stderr",
     "output_type": "stream",
     "text": [
      "100%|██████████| 126/126 [00:01<00:00, 99.96it/s] , 106.03it/s]\n",
      "Training =>: 100%|██████████| 126/126 [00:01<00:00, 99.68it/s] \n"
     ]
    },
    {
     "name": "stdout",
     "output_type": "stream",
     "text": [
      "Saving at epoch 13\n",
      "Epoch: 13 | Total Training Loss: 0.07917710393667221 | Pose Training Loss: 0.07682333886623383 | Action Training Loss: 0.547575831413269 | Action Train Label Accuracy: 78.17916381934522\n"
     ]
    },
    {
     "name": "stderr",
     "output_type": "stream",
     "text": [
      "100%|██████████| 10/10 [00:00<00:00, 212.38it/s]s]\n",
      "Testing =>: 100%|██████████| 10/10 [00:00<00:00, 201.18it/s]\n",
      "INFO:root:Saving model current state\n"
     ]
    },
    {
     "name": "stdout",
     "output_type": "stream",
     "text": [
      "Epoch: 13 | Total Testing Loss: 0.05822015553712845 | Pose Testing Loss: 0.049730218946933746 | Action Testing Loss: 1.7477177381515503 | Action Test Label Accuracy: 39.83333333333333\n",
      "Starting EPOCH: 15 / 30\n"
     ]
    },
    {
     "name": "stderr",
     "output_type": "stream",
     "text": [
      "100%|██████████| 126/126 [00:01<00:00, 112.66it/s], 112.40it/s]\n",
      "Training =>: 100%|██████████| 126/126 [00:01<00:00, 112.31it/s]\n"
     ]
    },
    {
     "name": "stdout",
     "output_type": "stream",
     "text": [
      "Saving at epoch 14\n",
      "Epoch: 14 | Total Training Loss: 0.07458304613828659 | Pose Training Loss: 0.0723210945725441 | Action Training Loss: 0.5247119665145874 | Action Train Label Accuracy: 79.09237746163882\n"
     ]
    },
    {
     "name": "stderr",
     "output_type": "stream",
     "text": [
      "100%|██████████| 10/10 [00:00<00:00, 285.73it/s]s]\n",
      "Testing =>: 100%|██████████| 10/10 [00:00<00:00, 263.17it/s]\n",
      "INFO:root:Saving model current state\n"
     ]
    },
    {
     "name": "stdout",
     "output_type": "stream",
     "text": [
      "Epoch: 14 | Total Testing Loss: 0.05562099814414978 | Pose Testing Loss: 0.04721144214272499 | Action Testing Loss: 1.7291218042373657 | Action Test Label Accuracy: 40.33333333333333\n",
      "Starting EPOCH: 16 / 30\n"
     ]
    },
    {
     "name": "stderr",
     "output_type": "stream",
     "text": [
      "100%|██████████| 126/126 [00:01<00:00, 108.32it/s], 108.25it/s]\n",
      "Training =>: 100%|██████████| 126/126 [00:01<00:00, 108.07it/s]\n"
     ]
    },
    {
     "name": "stdout",
     "output_type": "stream",
     "text": [
      "Saving at epoch 15\n",
      "Epoch: 15 | Total Training Loss: 0.07012327760457993 | Pose Training Loss: 0.06795244663953781 | Action Training Loss: 0.5021226406097412 | Action Train Label Accuracy: 80.10498850717525\n"
     ]
    },
    {
     "name": "stderr",
     "output_type": "stream",
     "text": [
      "100%|██████████| 10/10 [00:00<00:00, 281.24it/s]s]\n",
      "Testing =>: 100%|██████████| 10/10 [00:00<00:00, 266.01it/s]\n",
      "INFO:root:Saving model current state\n"
     ]
    },
    {
     "name": "stdout",
     "output_type": "stream",
     "text": [
      "Epoch: 15 | Total Testing Loss: 0.053499020636081696 | Pose Testing Loss: 0.04544137045741081 | Action Testing Loss: 1.6569712162017822 | Action Test Label Accuracy: 41.541666666666664\n",
      "Starting EPOCH: 17 / 30\n"
     ]
    },
    {
     "name": "stderr",
     "output_type": "stream",
     "text": [
      "100%|██████████| 126/126 [00:01<00:00, 105.63it/s], 105.90it/s]\n",
      "Training =>: 100%|██████████| 126/126 [00:01<00:00, 105.37it/s]\n"
     ]
    },
    {
     "name": "stdout",
     "output_type": "stream",
     "text": [
      "Saving at epoch 16\n",
      "Epoch: 16 | Total Training Loss: 0.06608502566814423 | Pose Training Loss: 0.06404313445091248 | Action Training Loss: 0.47242167592048645 | Action Train Label Accuracy: 81.42821643784556\n"
     ]
    },
    {
     "name": "stderr",
     "output_type": "stream",
     "text": [
      "100%|██████████| 10/10 [00:00<00:00, 223.60it/s]s]\n",
      "Testing =>: 100%|██████████| 10/10 [00:00<00:00, 209.55it/s]\n",
      "INFO:root:Saving model current state\n"
     ]
    },
    {
     "name": "stdout",
     "output_type": "stream",
     "text": [
      "Epoch: 16 | Total Testing Loss: 0.05168212205171585 | Pose Testing Loss: 0.04399603232741356 | Action Testing Loss: 1.581214427947998 | Action Test Label Accuracy: 43.20833333333333\n",
      "Starting EPOCH: 18 / 30\n"
     ]
    },
    {
     "name": "stderr",
     "output_type": "stream",
     "text": [
      "100%|██████████| 126/126 [00:01<00:00, 109.68it/s], 109.66it/s]\n",
      "Training =>: 100%|██████████| 126/126 [00:01<00:00, 109.37it/s]\n"
     ]
    },
    {
     "name": "stdout",
     "output_type": "stream",
     "text": [
      "Saving at epoch 17\n",
      "Epoch: 17 | Total Training Loss: 0.06301337480545044 | Pose Training Loss: 0.06104221194982529 | Action Training Loss: 0.45527517795562744 | Action Train Label Accuracy: 81.94694663601913\n"
     ]
    },
    {
     "name": "stderr",
     "output_type": "stream",
     "text": [
      "100%|██████████| 10/10 [00:00<00:00, 375.49it/s]s]\n",
      "Testing =>: 100%|██████████| 10/10 [00:00<00:00, 361.65it/s]\n",
      "INFO:root:Saving model current state\n"
     ]
    },
    {
     "name": "stdout",
     "output_type": "stream",
     "text": [
      "Epoch: 17 | Total Testing Loss: 0.04969262704253197 | Pose Testing Loss: 0.04221705347299576 | Action Testing Loss: 1.5373315811157227 | Action Test Label Accuracy: 43.625\n",
      "Starting EPOCH: 19 / 30\n"
     ]
    },
    {
     "name": "stderr",
     "output_type": "stream",
     "text": [
      "100%|██████████| 126/126 [00:01<00:00, 115.77it/s], 111.42it/s]\n",
      "Training =>: 100%|██████████| 126/126 [00:01<00:00, 115.55it/s]\n"
     ]
    },
    {
     "name": "stdout",
     "output_type": "stream",
     "text": [
      "Saving at epoch 18\n",
      "Epoch: 18 | Total Training Loss: 0.06000709906220436 | Pose Training Loss: 0.058107245713472366 | Action Training Loss: 0.4380781352519989 | Action Train Label Accuracy: 82.76076287506989\n"
     ]
    },
    {
     "name": "stderr",
     "output_type": "stream",
     "text": [
      "100%|██████████| 10/10 [00:00<00:00, 204.92it/s]s]\n",
      "Testing =>: 100%|██████████| 10/10 [00:00<00:00, 193.13it/s]\n",
      "INFO:root:Saving model current state\n"
     ]
    },
    {
     "name": "stdout",
     "output_type": "stream",
     "text": [
      "Epoch: 18 | Total Testing Loss: 0.04852529615163803 | Pose Testing Loss: 0.0410347618162632 | Action Testing Loss: 1.5391403436660767 | Action Test Label Accuracy: 44.29166666666667\n",
      "Starting EPOCH: 20 / 30\n"
     ]
    },
    {
     "name": "stderr",
     "output_type": "stream",
     "text": [
      "100%|██████████| 126/126 [00:01<00:00, 100.35it/s], 104.15it/s]\n",
      "Training =>: 100%|██████████| 126/126 [00:01<00:00, 100.17it/s]\n"
     ]
    },
    {
     "name": "stdout",
     "output_type": "stream",
     "text": [
      "Saving at epoch 19\n",
      "Epoch: 19 | Total Training Loss: 0.05698839947581291 | Pose Training Loss: 0.0551760196685791 | Action Training Loss: 0.4176482558250427 | Action Train Label Accuracy: 83.60564080263403\n"
     ]
    },
    {
     "name": "stderr",
     "output_type": "stream",
     "text": [
      "100%|██████████| 10/10 [00:00<00:00, 299.67it/s]s]\n",
      "Testing =>: 100%|██████████| 10/10 [00:00<00:00, 274.93it/s]\n",
      "INFO:root:Saving model current state\n"
     ]
    },
    {
     "name": "stdout",
     "output_type": "stream",
     "text": [
      "Epoch: 19 | Total Testing Loss: 0.04738159850239754 | Pose Testing Loss: 0.04044357314705849 | Action Testing Loss: 1.4280483722686768 | Action Test Label Accuracy: 47.041666666666664\n",
      "Starting EPOCH: 21 / 30\n"
     ]
    },
    {
     "name": "stderr",
     "output_type": "stream",
     "text": [
      "100%|██████████| 126/126 [00:01<00:00, 102.11it/s], 99.46it/s] \n",
      "Training =>: 100%|██████████| 126/126 [00:01<00:00, 101.86it/s]\n"
     ]
    },
    {
     "name": "stdout",
     "output_type": "stream",
     "text": [
      "Saving at epoch 20\n",
      "Epoch: 20 | Total Training Loss: 0.05466099828481674 | Pose Training Loss: 0.05294933170080185 | Action Training Loss: 0.39528214931488037 | Action Train Label Accuracy: 84.7890911349941\n"
     ]
    },
    {
     "name": "stderr",
     "output_type": "stream",
     "text": [
      "100%|██████████| 10/10 [00:00<00:00, 217.39it/s]s]\n",
      "Testing =>: 100%|██████████| 10/10 [00:00<00:00, 200.00it/s]\n",
      "INFO:root:Saving model current state\n"
     ]
    },
    {
     "name": "stdout",
     "output_type": "stream",
     "text": [
      "Epoch: 20 | Total Testing Loss: 0.046067625284194946 | Pose Testing Loss: 0.03859827294945717 | Action Testing Loss: 1.5324690341949463 | Action Test Label Accuracy: 46.33333333333333\n",
      "Starting EPOCH: 22 / 30\n"
     ]
    },
    {
     "name": "stderr",
     "output_type": "stream",
     "text": [
      "100%|██████████| 126/126 [00:01<00:00, 95.65it/s]0, 93.85it/s]\n",
      "Training =>: 100%|██████████| 126/126 [00:01<00:00, 95.49it/s]\n"
     ]
    },
    {
     "name": "stdout",
     "output_type": "stream",
     "text": [
      "Saving at epoch 21\n",
      "Epoch: 21 | Total Training Loss: 0.052308931946754456 | Pose Training Loss: 0.05065685883164406 | Action Training Loss: 0.3810715079307556 | Action Train Label Accuracy: 85.3419891905324\n"
     ]
    },
    {
     "name": "stderr",
     "output_type": "stream",
     "text": [
      "100%|██████████| 10/10 [00:00<00:00, 312.50it/s]s]\n",
      "Testing =>: 100%|██████████| 10/10 [00:00<00:00, 285.66it/s]\n",
      "INFO:root:Saving model current state\n"
     ]
    },
    {
     "name": "stdout",
     "output_type": "stream",
     "text": [
      "Epoch: 21 | Total Testing Loss: 0.04503897204995155 | Pose Testing Loss: 0.0379725806415081 | Action Testing Loss: 1.4512509107589722 | Action Test Label Accuracy: 44.25\n",
      "Starting EPOCH: 23 / 30\n"
     ]
    },
    {
     "name": "stderr",
     "output_type": "stream",
     "text": [
      "100%|██████████| 126/126 [00:01<00:00, 92.80it/s]0, 96.62it/s]\n",
      "Training =>: 100%|██████████| 126/126 [00:01<00:00, 92.60it/s]\n"
     ]
    },
    {
     "name": "stdout",
     "output_type": "stream",
     "text": [
      "Saving at epoch 22\n",
      "Epoch: 22 | Total Training Loss: 0.05019828677177429 | Pose Training Loss: 0.0486142635345459 | Action Training Loss: 0.36542055010795593 | Action Train Label Accuracy: 85.98496614275952\n"
     ]
    },
    {
     "name": "stderr",
     "output_type": "stream",
     "text": [
      "100%|██████████| 10/10 [00:00<00:00, 212.36it/s]s]\n",
      "Testing =>: 100%|██████████| 10/10 [00:00<00:00, 199.68it/s]\n",
      "INFO:root:Saving model current state\n"
     ]
    },
    {
     "name": "stdout",
     "output_type": "stream",
     "text": [
      "Epoch: 22 | Total Testing Loss: 0.04401692748069763 | Pose Testing Loss: 0.036999158561229706 | Action Testing Loss: 1.4405524730682373 | Action Test Label Accuracy: 48.70833333333333\n",
      "Starting EPOCH: 24 / 30\n"
     ]
    },
    {
     "name": "stderr",
     "output_type": "stream",
     "text": [
      "100%|██████████| 126/126 [00:01<00:00, 98.97it/s]0, 97.67it/s]\n",
      "Training =>: 100%|██████████| 126/126 [00:01<00:00, 98.81it/s]\n"
     ]
    },
    {
     "name": "stdout",
     "output_type": "stream",
     "text": [
      "Saving at epoch 23\n",
      "Epoch: 23 | Total Training Loss: 0.0481029637157917 | Pose Training Loss: 0.04656602814793587 | Action Training Loss: 0.3539511561393738 | Action Train Label Accuracy: 86.49127166552773\n"
     ]
    },
    {
     "name": "stderr",
     "output_type": "stream",
     "text": [
      "100%|██████████| 10/10 [00:00<00:00, 310.31it/s]s]\n",
      "Testing =>: 100%|██████████| 10/10 [00:00<00:00, 292.16it/s]\n",
      "INFO:root:Saving model current state\n"
     ]
    },
    {
     "name": "stdout",
     "output_type": "stream",
     "text": [
      "Epoch: 23 | Total Testing Loss: 0.04244353249669075 | Pose Testing Loss: 0.035613760352134705 | Action Testing Loss: 1.4015676975250244 | Action Test Label Accuracy: 50.5\n",
      "Starting EPOCH: 25 / 30\n"
     ]
    },
    {
     "name": "stderr",
     "output_type": "stream",
     "text": [
      "100%|██████████| 126/126 [00:01<00:00, 100.85it/s], 97.68it/s] \n",
      "Training =>: 100%|██████████| 126/126 [00:01<00:00, 100.69it/s]\n"
     ]
    },
    {
     "name": "stdout",
     "output_type": "stream",
     "text": [
      "Saving at epoch 24\n",
      "Epoch: 24 | Total Training Loss: 0.04632793366909027 | Pose Training Loss: 0.04485420137643814 | Action Training Loss: 0.3395998477935791 | Action Train Label Accuracy: 86.97272783748524\n"
     ]
    },
    {
     "name": "stderr",
     "output_type": "stream",
     "text": [
      "100%|██████████| 10/10 [00:00<00:00, 259.58it/s]s]\n",
      "Testing =>: 100%|██████████| 10/10 [00:00<00:00, 240.82it/s]\n",
      "INFO:root:Saving model current state\n"
     ]
    },
    {
     "name": "stdout",
     "output_type": "stream",
     "text": [
      "Epoch: 24 | Total Testing Loss: 0.041527505964040756 | Pose Testing Loss: 0.03427310660481453 | Action Testing Loss: 1.4851524829864502 | Action Test Label Accuracy: 49.083333333333336\n",
      "Starting EPOCH: 26 / 30\n"
     ]
    },
    {
     "name": "stderr",
     "output_type": "stream",
     "text": [
      "100%|██████████| 126/126 [00:01<00:00, 100.64it/s], 100.52it/s]\n",
      "Training =>: 100%|██████████| 126/126 [00:01<00:00, 100.32it/s]\n"
     ]
    },
    {
     "name": "stdout",
     "output_type": "stream",
     "text": [
      "Saving at epoch 25\n",
      "Epoch: 25 | Total Training Loss: 0.04455932602286339 | Pose Training Loss: 0.04315252974629402 | Action Training Loss: 0.32451319694519043 | Action Train Label Accuracy: 87.73995154376591\n"
     ]
    },
    {
     "name": "stderr",
     "output_type": "stream",
     "text": [
      "100%|██████████| 10/10 [00:00<00:00, 227.02it/s]s]\n",
      "Testing =>: 100%|██████████| 10/10 [00:00<00:00, 208.48it/s]\n",
      "INFO:root:Saving model current state\n"
     ]
    },
    {
     "name": "stdout",
     "output_type": "stream",
     "text": [
      "Epoch: 25 | Total Testing Loss: 0.03981084004044533 | Pose Testing Loss: 0.03282724693417549 | Action Testing Loss: 1.429545521736145 | Action Test Label Accuracy: 51.083333333333336\n",
      "Starting EPOCH: 27 / 30\n"
     ]
    },
    {
     "name": "stderr",
     "output_type": "stream",
     "text": [
      "100%|██████████| 126/126 [00:01<00:00, 107.29it/s], 110.55it/s]\n",
      "Training =>: 100%|██████████| 126/126 [00:01<00:00, 106.99it/s]\n"
     ]
    },
    {
     "name": "stdout",
     "output_type": "stream",
     "text": [
      "Saving at epoch 26\n",
      "Epoch: 26 | Total Training Loss: 0.04299599304795265 | Pose Training Loss: 0.04163321480154991 | Action Training Loss: 0.3141880929470062 | Action Train Label Accuracy: 88.10958563707523\n"
     ]
    },
    {
     "name": "stderr",
     "output_type": "stream",
     "text": [
      "100%|██████████| 10/10 [00:00<00:00, 301.56it/s]s]\n",
      "Testing =>: 100%|██████████| 10/10 [00:00<00:00, 279.22it/s]\n",
      "INFO:root:Saving model current state\n"
     ]
    },
    {
     "name": "stdout",
     "output_type": "stream",
     "text": [
      "Epoch: 26 | Total Testing Loss: 0.03797685727477074 | Pose Testing Loss: 0.03166142851114273 | Action Testing Loss: 1.2947462797164917 | Action Test Label Accuracy: 51.37500000000001\n",
      "Starting EPOCH: 28 / 30\n"
     ]
    },
    {
     "name": "stderr",
     "output_type": "stream",
     "text": [
      "100%|██████████| 126/126 [00:01<00:00, 111.54it/s], 110.15it/s]\n",
      "Training =>: 100%|██████████| 126/126 [00:01<00:00, 111.25it/s]\n"
     ]
    },
    {
     "name": "stdout",
     "output_type": "stream",
     "text": [
      "Saving at epoch 27\n",
      "Epoch: 27 | Total Training Loss: 0.041412387043237686 | Pose Training Loss: 0.040091633796691895 | Action Training Loss: 0.3042391538619995 | Action Train Label Accuracy: 88.56929862707337\n"
     ]
    },
    {
     "name": "stderr",
     "output_type": "stream",
     "text": [
      "100%|██████████| 10/10 [00:00<00:00, 203.87it/s]s]\n",
      "Testing =>: 100%|██████████| 10/10 [00:00<00:00, 195.90it/s]\n",
      "INFO:root:Saving model current state\n"
     ]
    },
    {
     "name": "stdout",
     "output_type": "stream",
     "text": [
      "Epoch: 27 | Total Testing Loss: 0.03668421134352684 | Pose Testing Loss: 0.029679760336875916 | Action Testing Loss: 1.4305698871612549 | Action Test Label Accuracy: 50.16666666666667\n",
      "Starting EPOCH: 29 / 30\n"
     ]
    },
    {
     "name": "stderr",
     "output_type": "stream",
     "text": [
      "100%|██████████| 126/126 [00:01<00:00, 112.64it/s], 112.62it/s]\n",
      "Training =>: 100%|██████████| 126/126 [00:01<00:00, 112.43it/s]\n"
     ]
    },
    {
     "name": "stdout",
     "output_type": "stream",
     "text": [
      "Saving at epoch 28\n",
      "Epoch: 28 | Total Training Loss: 0.0400017686188221 | Pose Training Loss: 0.03873306140303612 | Action Training Loss: 0.292477011680603 | Action Train Label Accuracy: 89.0600733055849\n"
     ]
    },
    {
     "name": "stderr",
     "output_type": "stream",
     "text": [
      "100%|██████████| 10/10 [00:00<00:00, 333.33it/s]s]\n",
      "Testing =>: 100%|██████████| 10/10 [00:00<00:00, 312.57it/s]\n",
      "INFO:root:Saving model current state\n"
     ]
    },
    {
     "name": "stdout",
     "output_type": "stream",
     "text": [
      "Epoch: 28 | Total Testing Loss: 0.0356118343770504 | Pose Testing Loss: 0.028691941872239113 | Action Testing Loss: 1.4126704931259155 | Action Test Label Accuracy: 50.458333333333336\n",
      "Starting EPOCH: 30 / 30\n"
     ]
    },
    {
     "name": "stderr",
     "output_type": "stream",
     "text": [
      "100%|██████████| 126/126 [00:01<00:00, 113.52it/s], 116.85it/s]\n",
      "Training =>: 100%|██████████| 126/126 [00:01<00:00, 113.25it/s]\n"
     ]
    },
    {
     "name": "stdout",
     "output_type": "stream",
     "text": [
      "Saving at epoch 29\n",
      "Epoch: 29 | Total Training Loss: 0.03872489184141159 | Pose Training Loss: 0.03751165047287941 | Action Training Loss: 0.2801634967327118 | Action Train Label Accuracy: 89.59433434801515\n"
     ]
    },
    {
     "name": "stderr",
     "output_type": "stream",
     "text": [
      "100%|██████████| 10/10 [00:00<00:00, 339.79it/s]s]\n",
      "Testing =>: 100%|██████████| 10/10 [00:00<00:00, 318.14it/s]\n",
      "INFO:root:Saving model current state\n"
     ]
    },
    {
     "name": "stdout",
     "output_type": "stream",
     "text": [
      "Epoch: 29 | Total Testing Loss: 0.033858295530080795 | Pose Testing Loss: 0.027694417163729668 | Action Testing Loss: 1.2604701519012451 | Action Test Label Accuracy: 54.125\n"
     ]
    },
    {
     "data": {
      "text/plain": [
       "<Figure size 640x480 with 0 Axes>"
      ]
     },
     "metadata": {},
     "output_type": "display_data"
    },
    {
     "ename": "",
     "evalue": "",
     "output_type": "error",
     "traceback": [
      "\u001b[1;31mThe Kernel crashed while executing code in the current cell or a previous cell. \n",
      "\u001b[1;31mPlease review the code in the cell(s) to identify a possible cause of the failure. \n",
      "\u001b[1;31mClick <a href='https://aka.ms/vscodeJupyterKernelCrash'>here</a> for more info. \n",
      "\u001b[1;31mView Jupyter <a href='command:jupyter.viewOutput'>log</a> for further details."
     ]
    }
   ],
   "source": [
    "from src.simple_pose.train_and_test import training_loop\n",
    "from argparse import Namespace\n",
    "import os\n",
    "from datetime import datetime\n",
    "timestamp = datetime.now().strftime(\"%Y-%m-%d--%H-%M-%S\")\n",
    "\n",
    "args_dict = {\n",
    "    'learning_rate': 3e-5,\n",
    "    'num_epochs': 30,\n",
    "    'batch_size': 256,\n",
    "    'action_loss_multiplier': 0.005,\n",
    "    'pose_loss_multiplier': 0.995,\n",
    "    'training_2d_data_path': os.path.join('datasets', 'custom', 'Processed', 'train_2d_poses.npy'),\n",
    "    'training_3d_data_path': os.path.join('datasets', 'custom', 'Processed', 'train_3d_poses.npy'),\n",
    "    'training_label_path': os.path.join('datasets', 'custom', 'Processed', 'train_actions.npy'),\n",
    "    'testing_2d_data_path': os.path.join('datasets', 'custom', 'Processed', 'test_2d_poses.npy'),\n",
    "    'testing_3d_data_path': os.path.join('datasets', 'custom', 'Processed', 'test_3d_poses.npy'),\n",
    "    'testing_label_path': os.path.join('datasets', 'custom', 'Processed', 'test_actions.npy'),\n",
    "    'save_path': os.path.join('model_outputs', 'simple_pose', timestamp)\n",
    "}\n",
    "args = Namespace(**args_dict)\n",
    "training_loop(args)"
   ]
  },
  {
   "cell_type": "markdown",
   "id": "71e8d37443b92adc",
   "metadata": {},
   "source": [
    "<h2><u>5. Baseline 2 - SimplePoseGNN (Simple ML model using GNNs)</u></h2>\n",
    "\n",
    "TODO.brian to write something meaningful here"
   ]
  },
  {
   "cell_type": "code",
   "execution_count": null,
   "id": "5507bae9",
   "metadata": {},
   "outputs": [
    {
     "name": "stderr",
     "output_type": "stream",
     "text": [
      "INFO:root:Model is currently using : cuda\n",
      "INFO:root:Creating Missing Paths: model_outputs\\simple_pose_gnn\\2024-11-13--16-13-33\n",
      "INFO:root:Saving config\n",
      "INFO:root:Setup Training and Testing Dataloaders\n",
      "INFO:root:Setup SimplePoseGNN model\n",
      "INFO:root:SimplePoseGNN(\n",
      "  (input_layer): Linear(in_features=2, out_features=80, bias=True)\n",
      "  (pos_linear): Linear(in_features=5, out_features=80, bias=True)\n",
      "  (blocks): ModuleList(\n",
      "    (0-5): 6 x Sequential(\n",
      "      (0): GraphConvModule(\n",
      "        (conv_1): GraphConv(in=80, out=80, normalization=both, activation=None)\n",
      "        (batch_norm_1): BatchNorm1d(80, eps=1e-05, momentum=0.1, affine=True, track_running_stats=True)\n",
      "        (conv_2): GraphConv(in=80, out=80, normalization=both, activation=None)\n",
      "        (batch_norm_2): BatchNorm1d(80, eps=1e-05, momentum=0.1, affine=True, track_running_stats=True)\n",
      "        (feed_forward_1): Linear(in_features=80, out_features=80, bias=True)\n",
      "        (dropout): Dropout(p=0.5, inplace=False)\n",
      "      )\n",
      "      (1): GraphConvModule(\n",
      "        (conv_1): GraphConv(in=80, out=80, normalization=both, activation=None)\n",
      "        (batch_norm_1): BatchNorm1d(80, eps=1e-05, momentum=0.1, affine=True, track_running_stats=True)\n",
      "        (conv_2): GraphConv(in=80, out=80, normalization=both, activation=None)\n",
      "        (batch_norm_2): BatchNorm1d(80, eps=1e-05, momentum=0.1, affine=True, track_running_stats=True)\n",
      "        (feed_forward_1): Linear(in_features=80, out_features=80, bias=True)\n",
      "        (dropout): Dropout(p=0.5, inplace=False)\n",
      "      )\n",
      "    )\n",
      "  )\n",
      "  (output_3d_pose_linear): Sequential(\n",
      "    (0): Linear(in_features=80, out_features=80, bias=True)\n",
      "    (1): Dropout(p=0.5, inplace=False)\n",
      "    (2): ReLU()\n",
      "    (3): Linear(in_features=80, out_features=3, bias=True)\n",
      "  )\n",
      "  (output_label_linear): Sequential(\n",
      "    (0): Linear(in_features=80, out_features=80, bias=True)\n",
      "    (1): Dropout(p=0.5, inplace=False)\n",
      "    (2): ReLU()\n",
      "    (3): Linear(in_features=80, out_features=5, bias=True)\n",
      "  )\n",
      ")\n",
      "INFO:root:Setup Optimizer\n",
      "INFO:root:Setup loss functions\n",
      "INFO:root:Start Training and Testing Loops\n"
     ]
    },
    {
     "name": "stdout",
     "output_type": "stream",
     "text": [
      "Training args are: Namespace(action_loss_multiplier=0.005, batch_size=256, learning_rate=3e-05, num_epochs=30, pose_loss_multiplier=0.995, save_path='model_outputs\\\\simple_pose_gnn\\\\2024-11-13--16-13-33', testing_2d_data_path='datasets\\\\custom\\\\Processed\\\\test_2d_poses.npy', testing_3d_data_path='datasets\\\\custom\\\\Processed\\\\test_3d_poses.npy', testing_label_path='datasets\\\\custom\\\\Processed\\\\test_actions.npy', training_2d_data_path='datasets\\\\custom\\\\Processed\\\\train_2d_poses.npy', training_3d_data_path='datasets\\\\custom\\\\Processed\\\\train_3d_poses.npy', training_label_path='datasets\\\\custom\\\\Processed\\\\train_actions.npy')\n",
      "(32194, 13, 2)\n",
      "(2400, 13, 2)\n",
      "Starting EPOCH: 1 / 30\n"
     ]
    },
    {
     "name": "stderr",
     "output_type": "stream",
     "text": [
      "Training =>: 100%|██████████| 126/126 [00:48<00:00,  2.58it/s]\n"
     ]
    },
    {
     "name": "stdout",
     "output_type": "stream",
     "text": [
      "Saving at epoch 0\n",
      "Epoch: 0 | Total Training Loss: 0.42331916093826294 | Pose Training Loss: 0.4173782765865326 | Action Training Loss: 1.605534553527832 | Action Train Label Accuracy: 24.054171584767346\n"
     ]
    },
    {
     "name": "stderr",
     "output_type": "stream",
     "text": [
      "Testing =>: 100%|██████████| 10/10 [00:30<00:00,  3.00s/it]\n",
      "INFO:root:Saving model current state\n"
     ]
    },
    {
     "name": "stdout",
     "output_type": "stream",
     "text": [
      "Epoch: 0 | Total Testing Loss: 0.07307813316583633 | Pose Testing Loss: 0.06564990431070328 | Action Testing Loss: 1.5512968301773071 | Action Test Label Accuracy: 32.375\n",
      "Starting EPOCH: 2 / 30\n"
     ]
    },
    {
     "name": "stderr",
     "output_type": "stream",
     "text": [
      "Training =>: 100%|██████████| 126/126 [00:46<00:00,  2.70it/s]\n"
     ]
    },
    {
     "name": "stdout",
     "output_type": "stream",
     "text": [
      "Saving at epoch 1\n",
      "Epoch: 1 | Total Training Loss: 0.21168914437294006 | Pose Training Loss: 0.20497025549411774 | Action Training Loss: 1.5487463474273682 | Action Train Label Accuracy: 29.28185376157048\n"
     ]
    },
    {
     "name": "stderr",
     "output_type": "stream",
     "text": [
      "Testing =>: 100%|██████████| 10/10 [00:32<00:00,  3.29s/it]\n",
      "INFO:root:Saving model current state\n"
     ]
    },
    {
     "name": "stdout",
     "output_type": "stream",
     "text": [
      "Epoch: 1 | Total Testing Loss: 0.06690391153097153 | Pose Testing Loss: 0.05972602963447571 | Action Testing Loss: 1.4953020811080933 | Action Test Label Accuracy: 43.125\n",
      "Starting EPOCH: 3 / 30\n"
     ]
    },
    {
     "name": "stderr",
     "output_type": "stream",
     "text": [
      "Training =>: 100%|██████████| 126/126 [01:00<00:00,  2.07it/s]\n"
     ]
    },
    {
     "name": "stdout",
     "output_type": "stream",
     "text": [
      "Saving at epoch 2\n",
      "Epoch: 2 | Total Training Loss: 0.14297372102737427 | Pose Training Loss: 0.1362125724554062 | Action Training Loss: 1.4884450435638428 | Action Train Label Accuracy: 34.03429210411878\n"
     ]
    },
    {
     "name": "stderr",
     "output_type": "stream",
     "text": [
      "Testing =>: 100%|██████████| 10/10 [00:31<00:00,  3.10s/it]\n",
      "INFO:root:Saving model current state\n"
     ]
    },
    {
     "name": "stdout",
     "output_type": "stream",
     "text": [
      "Epoch: 2 | Total Testing Loss: 0.06269152462482452 | Pose Testing Loss: 0.05592763051390648 | Action Testing Loss: 1.408705472946167 | Action Test Label Accuracy: 52.83333333333333\n",
      "Starting EPOCH: 4 / 30\n"
     ]
    },
    {
     "name": "stderr",
     "output_type": "stream",
     "text": [
      "Training =>: 100%|██████████| 126/126 [00:49<00:00,  2.53it/s]\n"
     ]
    },
    {
     "name": "stdout",
     "output_type": "stream",
     "text": [
      "Saving at epoch 3\n",
      "Epoch: 3 | Total Training Loss: 0.10766097903251648 | Pose Training Loss: 0.101145900785923 | Action Training Loss: 1.4041651487350464 | Action Train Label Accuracy: 39.52910480213704\n"
     ]
    },
    {
     "name": "stderr",
     "output_type": "stream",
     "text": [
      "Testing =>: 100%|██████████| 10/10 [00:29<00:00,  2.92s/it]\n",
      "INFO:root:Saving model current state\n"
     ]
    },
    {
     "name": "stdout",
     "output_type": "stream",
     "text": [
      "Epoch: 3 | Total Testing Loss: 0.057228922843933105 | Pose Testing Loss: 0.05088713392615318 | Action Testing Loss: 1.3192449808120728 | Action Test Label Accuracy: 54.58333333333333\n",
      "Starting EPOCH: 5 / 30\n"
     ]
    },
    {
     "name": "stderr",
     "output_type": "stream",
     "text": [
      "Training =>: 100%|██████████| 126/126 [00:46<00:00,  2.70it/s]\n"
     ]
    },
    {
     "name": "stdout",
     "output_type": "stream",
     "text": [
      "Saving at epoch 4\n",
      "Epoch: 4 | Total Training Loss: 0.08855212479829788 | Pose Training Loss: 0.08242031186819077 | Action Training Loss: 1.3087772130966187 | Action Train Label Accuracy: 44.41821457414425\n"
     ]
    },
    {
     "name": "stderr",
     "output_type": "stream",
     "text": [
      "Testing =>: 100%|██████████| 10/10 [00:32<00:00,  3.22s/it]\n",
      "INFO:root:Saving model current state\n"
     ]
    },
    {
     "name": "stdout",
     "output_type": "stream",
     "text": [
      "Epoch: 4 | Total Testing Loss: 0.05086611583828926 | Pose Testing Loss: 0.04492367058992386 | Action Testing Loss: 1.2334126234054565 | Action Test Label Accuracy: 52.416666666666664\n",
      "Starting EPOCH: 6 / 30\n"
     ]
    },
    {
     "name": "stderr",
     "output_type": "stream",
     "text": [
      "Training =>: 100%|██████████| 126/126 [00:51<00:00,  2.46it/s]\n"
     ]
    },
    {
     "name": "stdout",
     "output_type": "stream",
     "text": [
      "Saving at epoch 5\n",
      "Epoch: 5 | Total Training Loss: 0.0770304948091507 | Pose Training Loss: 0.07130198180675507 | Action Training Loss: 1.2170040607452393 | Action Train Label Accuracy: 48.5090389513574\n"
     ]
    },
    {
     "name": "stderr",
     "output_type": "stream",
     "text": [
      "Testing =>: 100%|██████████| 10/10 [00:29<00:00,  2.96s/it]\n",
      "INFO:root:Saving model current state\n"
     ]
    },
    {
     "name": "stdout",
     "output_type": "stream",
     "text": [
      "Epoch: 5 | Total Testing Loss: 0.04613015800714493 | Pose Testing Loss: 0.040541406720876694 | Action Testing Loss: 1.158292293548584 | Action Test Label Accuracy: 54.125\n",
      "Starting EPOCH: 7 / 30\n"
     ]
    },
    {
     "name": "stderr",
     "output_type": "stream",
     "text": [
      "Training =>: 100%|██████████| 126/126 [00:49<00:00,  2.57it/s]\n"
     ]
    },
    {
     "name": "stdout",
     "output_type": "stream",
     "text": [
      "Saving at epoch 6\n",
      "Epoch: 6 | Total Training Loss: 0.07016946375370026 | Pose Training Loss: 0.06474325805902481 | Action Training Loss: 1.1499814987182617 | Action Train Label Accuracy: 50.698887991551224\n"
     ]
    },
    {
     "name": "stderr",
     "output_type": "stream",
     "text": [
      "Testing =>: 100%|██████████| 10/10 [00:30<00:00,  3.05s/it]\n",
      "INFO:root:Saving model current state\n"
     ]
    },
    {
     "name": "stdout",
     "output_type": "stream",
     "text": [
      "Epoch: 6 | Total Testing Loss: 0.04245908185839653 | Pose Testing Loss: 0.03712381049990654 | Action Testing Loss: 1.10417902469635 | Action Test Label Accuracy: 53.0\n",
      "Starting EPOCH: 8 / 30\n"
     ]
    },
    {
     "name": "stderr",
     "output_type": "stream",
     "text": [
      "Training =>: 100%|██████████| 126/126 [00:52<00:00,  2.41it/s]\n"
     ]
    },
    {
     "name": "stdout",
     "output_type": "stream",
     "text": [
      "Saving at epoch 7\n",
      "Epoch: 7 | Total Training Loss: 0.06502778083086014 | Pose Training Loss: 0.059852905571460724 | Action Training Loss: 1.094831943511963 | Action Train Label Accuracy: 52.196061377896505\n"
     ]
    },
    {
     "name": "stderr",
     "output_type": "stream",
     "text": [
      "Testing =>: 100%|██████████| 10/10 [00:29<00:00,  2.99s/it]\n",
      "INFO:root:Saving model current state\n"
     ]
    },
    {
     "name": "stdout",
     "output_type": "stream",
     "text": [
      "Epoch: 7 | Total Testing Loss: 0.039680033922195435 | Pose Testing Loss: 0.03454557806253433 | Action Testing Loss: 1.0614374876022339 | Action Test Label Accuracy: 52.625\n",
      "Starting EPOCH: 9 / 30\n"
     ]
    },
    {
     "name": "stderr",
     "output_type": "stream",
     "text": [
      "Training =>: 100%|██████████| 126/126 [00:50<00:00,  2.50it/s]\n"
     ]
    },
    {
     "name": "stdout",
     "output_type": "stream",
     "text": [
      "Saving at epoch 8\n",
      "Epoch: 8 | Total Training Loss: 0.061271194368600845 | Pose Training Loss: 0.05628491938114166 | Action Training Loss: 1.0535365343093872 | Action Train Label Accuracy: 53.960365285456916\n"
     ]
    },
    {
     "name": "stderr",
     "output_type": "stream",
     "text": [
      "Testing =>: 100%|██████████| 10/10 [00:28<00:00,  2.86s/it]\n",
      "INFO:root:Saving model current state\n"
     ]
    },
    {
     "name": "stdout",
     "output_type": "stream",
     "text": [
      "Epoch: 8 | Total Testing Loss: 0.03691147267818451 | Pose Testing Loss: 0.03193458542227745 | Action Testing Loss: 1.0273122787475586 | Action Test Label Accuracy: 53.41666666666667\n",
      "Starting EPOCH: 10 / 30\n"
     ]
    },
    {
     "name": "stderr",
     "output_type": "stream",
     "text": [
      "Training =>: 100%|██████████| 126/126 [00:50<00:00,  2.51it/s]\n"
     ]
    },
    {
     "name": "stdout",
     "output_type": "stream",
     "text": [
      "Saving at epoch 9\n",
      "Epoch: 9 | Total Training Loss: 0.05800900235772133 | Pose Training Loss: 0.053172338753938675 | Action Training Loss: 1.0205014944076538 | Action Train Label Accuracy: 54.54121886065727\n"
     ]
    },
    {
     "name": "stderr",
     "output_type": "stream",
     "text": [
      "Testing =>: 100%|██████████| 10/10 [00:29<00:00,  2.95s/it]\n",
      "INFO:root:Saving model current state\n"
     ]
    },
    {
     "name": "stdout",
     "output_type": "stream",
     "text": [
      "Epoch: 9 | Total Testing Loss: 0.034871041774749756 | Pose Testing Loss: 0.03002876415848732 | Action Testing Loss: 0.9984841346740723 | Action Test Label Accuracy: 55.333333333333336\n",
      "Starting EPOCH: 11 / 30\n"
     ]
    },
    {
     "name": "stderr",
     "output_type": "stream",
     "text": [
      "Training =>: 100%|██████████| 126/126 [00:52<00:00,  2.39it/s]\n"
     ]
    },
    {
     "name": "stdout",
     "output_type": "stream",
     "text": [
      "Saving at epoch 10\n",
      "Epoch: 10 | Total Training Loss: 0.055431902408599854 | Pose Training Loss: 0.05075430870056152 | Action Training Loss: 0.9862751364707947 | Action Train Label Accuracy: 56.249611728893576\n"
     ]
    },
    {
     "name": "stderr",
     "output_type": "stream",
     "text": [
      "Testing =>: 100%|██████████| 10/10 [00:28<00:00,  2.86s/it]\n",
      "INFO:root:Saving model current state\n"
     ]
    },
    {
     "name": "stdout",
     "output_type": "stream",
     "text": [
      "Epoch: 10 | Total Testing Loss: 0.03321658447384834 | Pose Testing Loss: 0.02848786488175392 | Action Testing Loss: 0.9742323756217957 | Action Test Label Accuracy: 56.91666666666667\n",
      "Starting EPOCH: 12 / 30\n"
     ]
    },
    {
     "name": "stderr",
     "output_type": "stream",
     "text": [
      "Training =>: 100%|██████████| 126/126 [00:47<00:00,  2.65it/s]\n"
     ]
    },
    {
     "name": "stdout",
     "output_type": "stream",
     "text": [
      "Saving at epoch 11\n",
      "Epoch: 11 | Total Training Loss: 0.05309680849313736 | Pose Training Loss: 0.048545289784669876 | Action Training Loss: 0.9588500261306763 | Action Train Label Accuracy: 57.56973349071256\n"
     ]
    },
    {
     "name": "stderr",
     "output_type": "stream",
     "text": [
      "Testing =>: 100%|██████████| 10/10 [00:28<00:00,  2.81s/it]\n",
      "INFO:root:Saving model current state\n"
     ]
    },
    {
     "name": "stdout",
     "output_type": "stream",
     "text": [
      "Epoch: 11 | Total Testing Loss: 0.03164521977305412 | Pose Testing Loss: 0.02703092433512211 | Action Testing Loss: 0.9498907327651978 | Action Test Label Accuracy: 58.5\n",
      "Starting EPOCH: 13 / 30\n"
     ]
    },
    {
     "name": "stderr",
     "output_type": "stream",
     "text": [
      "Training =>: 100%|██████████| 126/126 [00:43<00:00,  2.91it/s]\n"
     ]
    },
    {
     "name": "stdout",
     "output_type": "stream",
     "text": [
      "Saving at epoch 12\n",
      "Epoch: 12 | Total Training Loss: 0.050939928740262985 | Pose Training Loss: 0.04654013738036156 | Action Training Loss: 0.9265006184577942 | Action Train Label Accuracy: 58.8960675902342\n"
     ]
    },
    {
     "name": "stderr",
     "output_type": "stream",
     "text": [
      "Testing =>: 100%|██████████| 10/10 [00:27<00:00,  2.74s/it]\n",
      "INFO:root:Saving model current state\n"
     ]
    },
    {
     "name": "stdout",
     "output_type": "stream",
     "text": [
      "Epoch: 12 | Total Testing Loss: 0.030384588986635208 | Pose Testing Loss: 0.02594522014260292 | Action Testing Loss: 0.9138189554214478 | Action Test Label Accuracy: 59.12500000000001\n",
      "Starting EPOCH: 14 / 30\n"
     ]
    },
    {
     "name": "stderr",
     "output_type": "stream",
     "text": [
      "Training =>: 100%|██████████| 126/126 [00:43<00:00,  2.90it/s]\n"
     ]
    },
    {
     "name": "stdout",
     "output_type": "stream",
     "text": [
      "Saving at epoch 13\n",
      "Epoch: 13 | Total Training Loss: 0.04919504001736641 | Pose Training Loss: 0.0449165441095829 | Action Training Loss: 0.9006160497665405 | Action Train Label Accuracy: 59.89004162266261\n"
     ]
    },
    {
     "name": "stderr",
     "output_type": "stream",
     "text": [
      "Testing =>: 100%|██████████| 10/10 [00:27<00:00,  2.75s/it]\n",
      "INFO:root:Saving model current state\n"
     ]
    },
    {
     "name": "stdout",
     "output_type": "stream",
     "text": [
      "Epoch: 13 | Total Testing Loss: 0.02923993580043316 | Pose Testing Loss: 0.02487974613904953 | Action Testing Loss: 0.8969172835350037 | Action Test Label Accuracy: 61.0\n",
      "Starting EPOCH: 15 / 30\n"
     ]
    },
    {
     "name": "stderr",
     "output_type": "stream",
     "text": [
      "Training =>: 100%|██████████| 126/126 [00:43<00:00,  2.89it/s]\n"
     ]
    },
    {
     "name": "stdout",
     "output_type": "stream",
     "text": [
      "Saving at epoch 14\n",
      "Epoch: 14 | Total Training Loss: 0.047539785504341125 | Pose Training Loss: 0.04339378699660301 | Action Training Loss: 0.872593343257904 | Action Train Label Accuracy: 61.231906566440955\n"
     ]
    },
    {
     "name": "stderr",
     "output_type": "stream",
     "text": [
      "Testing =>: 100%|██████████| 10/10 [00:27<00:00,  2.75s/it]\n",
      "INFO:root:Saving model current state\n"
     ]
    },
    {
     "name": "stdout",
     "output_type": "stream",
     "text": [
      "Epoch: 14 | Total Testing Loss: 0.02779204584658146 | Pose Testing Loss: 0.023585282266139984 | Action Testing Loss: 0.864937961101532 | Action Test Label Accuracy: 62.33333333333333\n",
      "Starting EPOCH: 16 / 30\n"
     ]
    },
    {
     "name": "stderr",
     "output_type": "stream",
     "text": [
      "Training =>: 100%|██████████| 126/126 [00:43<00:00,  2.92it/s]\n"
     ]
    },
    {
     "name": "stdout",
     "output_type": "stream",
     "text": [
      "Saving at epoch 15\n",
      "Epoch: 15 | Total Training Loss: 0.04605674371123314 | Pose Training Loss: 0.04204463213682175 | Action Training Loss: 0.8444671630859375 | Action Train Label Accuracy: 62.191712741504624\n"
     ]
    },
    {
     "name": "stderr",
     "output_type": "stream",
     "text": [
      "Testing =>: 100%|██████████| 10/10 [00:28<00:00,  2.89s/it]\n",
      "INFO:root:Saving model current state\n"
     ]
    },
    {
     "name": "stdout",
     "output_type": "stream",
     "text": [
      "Epoch: 15 | Total Testing Loss: 0.02680855803191662 | Pose Testing Loss: 0.022656045854091644 | Action Testing Loss: 0.8531579971313477 | Action Test Label Accuracy: 63.416666666666664\n",
      "Starting EPOCH: 17 / 30\n"
     ]
    },
    {
     "name": "stderr",
     "output_type": "stream",
     "text": [
      "Training =>: 100%|██████████| 126/126 [00:44<00:00,  2.84it/s]\n"
     ]
    },
    {
     "name": "stdout",
     "output_type": "stream",
     "text": [
      "Saving at epoch 16\n",
      "Epoch: 16 | Total Training Loss: 0.044720135629177094 | Pose Training Loss: 0.040817223489284515 | Action Training Loss: 0.821397066116333 | Action Train Label Accuracy: 62.65763806920545\n"
     ]
    },
    {
     "name": "stderr",
     "output_type": "stream",
     "text": [
      "Testing =>: 100%|██████████| 10/10 [00:28<00:00,  2.82s/it]\n",
      "INFO:root:Saving model current state\n"
     ]
    },
    {
     "name": "stdout",
     "output_type": "stream",
     "text": [
      "Epoch: 16 | Total Testing Loss: 0.025853483006358147 | Pose Testing Loss: 0.021797746419906616 | Action Testing Loss: 0.8329448103904724 | Action Test Label Accuracy: 63.83333333333333\n",
      "Starting EPOCH: 18 / 30\n"
     ]
    },
    {
     "name": "stderr",
     "output_type": "stream",
     "text": [
      "Training =>: 100%|██████████| 126/126 [00:45<00:00,  2.79it/s]\n"
     ]
    },
    {
     "name": "stdout",
     "output_type": "stream",
     "text": [
      "Saving at epoch 17\n",
      "Epoch: 17 | Total Training Loss: 0.04353581368923187 | Pose Training Loss: 0.03972383588552475 | Action Training Loss: 0.8021178245544434 | Action Train Label Accuracy: 63.59570106230975\n"
     ]
    },
    {
     "name": "stderr",
     "output_type": "stream",
     "text": [
      "Testing =>: 100%|██████████| 10/10 [00:27<00:00,  2.78s/it]\n",
      "INFO:root:Saving model current state\n"
     ]
    },
    {
     "name": "stdout",
     "output_type": "stream",
     "text": [
      "Epoch: 17 | Total Testing Loss: 0.024652209132909775 | Pose Testing Loss: 0.020743293687701225 | Action Testing Loss: 0.8025267720222473 | Action Test Label Accuracy: 66.20833333333334\n",
      "Starting EPOCH: 19 / 30\n"
     ]
    },
    {
     "name": "stderr",
     "output_type": "stream",
     "text": [
      "Training =>: 100%|██████████| 126/126 [00:43<00:00,  2.87it/s]\n"
     ]
    },
    {
     "name": "stdout",
     "output_type": "stream",
     "text": [
      "Saving at epoch 18\n",
      "Epoch: 18 | Total Training Loss: 0.042239077389240265 | Pose Training Loss: 0.03853356093168259 | Action Training Loss: 0.7796344757080078 | Action Train Label Accuracy: 64.37224327514444\n"
     ]
    },
    {
     "name": "stderr",
     "output_type": "stream",
     "text": [
      "Testing =>: 100%|██████████| 10/10 [00:27<00:00,  2.76s/it]\n",
      "INFO:root:Saving model current state\n"
     ]
    },
    {
     "name": "stdout",
     "output_type": "stream",
     "text": [
      "Epoch: 18 | Total Testing Loss: 0.023667922243475914 | Pose Testing Loss: 0.01976788230240345 | Action Testing Loss: 0.799775242805481 | Action Test Label Accuracy: 65.66666666666666\n",
      "Starting EPOCH: 20 / 30\n"
     ]
    },
    {
     "name": "stderr",
     "output_type": "stream",
     "text": [
      "Training =>: 100%|██████████| 126/126 [00:43<00:00,  2.86it/s]\n"
     ]
    },
    {
     "name": "stdout",
     "output_type": "stream",
     "text": [
      "Saving at epoch 19\n",
      "Epoch: 19 | Total Training Loss: 0.04113205894827843 | Pose Training Loss: 0.03751901537179947 | Action Training Loss: 0.7601300477981567 | Action Train Label Accuracy: 65.2109088650059\n"
     ]
    },
    {
     "name": "stderr",
     "output_type": "stream",
     "text": [
      "Testing =>:   0%|          | 0/10 [00:00<?, ?it/s]"
     ]
    }
   ],
   "source": [
    "from src.simple_pose_gnn.train_and_test import training_loop\n",
    "from argparse import Namespace\n",
    "import os\n",
    "from datetime import datetime\n",
    "timestamp = datetime.now().strftime(\"%Y-%m-%d--%H-%M-%S\")\n",
    "\n",
    "args_dict = {\n",
    "    'learning_rate': 3e-5,\n",
    "    'num_epochs': 30,\n",
    "    'batch_size': 256,\n",
    "    'action_loss_multiplier': 0.005,\n",
    "    'pose_loss_multiplier': 0.995,\n",
    "    'training_2d_data_path': os.path.join('datasets', 'custom', 'Processed', 'train_2d_poses.npy'),\n",
    "    'training_3d_data_path': os.path.join('datasets', 'custom', 'Processed', 'train_3d_poses.npy'),\n",
    "    'training_label_path': os.path.join('datasets', 'custom', 'Processed', 'train_actions.npy'),\n",
    "    'testing_2d_data_path': os.path.join('datasets', 'custom', 'Processed', 'test_2d_poses.npy'),\n",
    "    'testing_3d_data_path': os.path.join('datasets', 'custom', 'Processed', 'test_3d_poses.npy'),\n",
    "    'testing_label_path': os.path.join('datasets', 'custom', 'Processed', 'test_actions.npy'),\n",
    "    'save_path': os.path.join('model_outputs', 'simple_pose_gnn', timestamp)\n",
    "}\n",
    "args = Namespace(**args_dict)\n",
    "training_loop(args)"
   ]
  },
  {
   "cell_type": "markdown",
   "id": "6386900b282f7968",
   "metadata": {},
   "source": [
    "<h2><u>6. Improvement 1 - SimplePoseGAT</u></h2>\n",
    "\n",
    "TODO.parash to write something meaningful here\n"
   ]
  },
  {
   "cell_type": "code",
   "execution_count": null,
   "id": "74bf857d7fea859a",
   "metadata": {
    "ExecuteTime": {
     "end_time": "2024-11-02T07:03:41.225166Z",
     "start_time": "2024-11-02T07:03:21.503261Z"
    }
   },
   "outputs": [],
   "source": [
    "from src.simple_pose_gat.train_and_test import training_loop\n",
    "from argparse import Namespace\n",
    "import os\n",
    "from datetime import datetime\n",
    "timestamp = datetime.now().strftime(\"%Y-%m-%d--%H-%M-%S\")\n",
    "\n",
    "args_dict = {\n",
    "    'learning_rate': 1e-4,\n",
    "    'num_epochs': 20,\n",
    "    'batch_size': 256,\n",
    "    'action_loss_multiplier': 0.005,\n",
    "    'pose_loss_multiplier': 0.995,\n",
    "    'training_2d_data_path': os.path.join('datasets', 'custom', 'Processed', 'train_2d_poses.npy'),\n",
    "    'training_3d_data_path': os.path.join('datasets', 'custom', 'Processed', 'train_3d_poses.npy'),\n",
    "    'training_label_path': os.path.join('datasets', 'custom', 'Processed', 'train_actions.npy'),\n",
    "    'testing_2d_data_path': os.path.join('datasets', 'custom', 'Processed', 'test_2d_poses.npy'),\n",
    "    'testing_3d_data_path': os.path.join('datasets', 'custom', 'Processed', 'test_3d_poses.npy'),\n",
    "    'testing_label_path': os.path.join('datasets', 'custom', 'Processed', 'test_actions.npy'),\n",
    "    'save_path': os.path.join('model_outputs', 'simple_pose_gat', timestamp)\n",
    "}\n",
    "args = Namespace(**args_dict)\n",
    "training_loop(args)\n",
    "\n"
   ]
  },
  {
   "cell_type": "markdown",
   "id": "84eddcac2a537037",
   "metadata": {},
   "source": [
    "<h2><u>7. Improvement 2 - SimplePoseTAG model</u></h2>\n",
    "\n",
    "TODO.all"
   ]
  },
  {
   "cell_type": "code",
   "execution_count": null,
   "id": "ea25d299",
   "metadata": {},
   "outputs": [],
   "source": [
    "from src.simple_pose_tag.train_and_test import training_loop\n",
    "from argparse import Namespace\n",
    "import os\n",
    "from datetime import datetime\n",
    "timestamp = datetime.now().strftime(\"%Y-%m-%d--%H-%M-%S\")\n",
    "\n",
    "args_dict = {\n",
    "    'learning_rate': 1e-4,\n",
    "    'num_epochs': 20,\n",
    "    'batch_size': 256,\n",
    "    'action_loss_multiplier': 0.005,\n",
    "    'pose_loss_multiplier': 0.995,\n",
    "    'training_2d_data_path': os.path.join('datasets', 'custom', 'Processed', 'train_2d_poses.npy'),\n",
    "    'training_3d_data_path': os.path.join('datasets', 'custom', 'Processed', 'train_3d_poses.npy'),\n",
    "    'training_label_path': os.path.join('datasets', 'custom', 'Processed', 'train_actions.npy'),\n",
    "    'testing_2d_data_path': os.path.join('datasets', 'custom', 'Processed', 'test_2d_poses.npy'),\n",
    "    'testing_3d_data_path': os.path.join('datasets', 'custom', 'Processed', 'test_3d_poses.npy'),\n",
    "    'testing_label_path': os.path.join('datasets', 'custom', 'Processed', 'test_actions.npy'),\n",
    "    'save_path': os.path.join('model_outputs', 'simple_pose_gat', timestamp)\n",
    "}\n",
    "args = Namespace(**args_dict)\n",
    "training_loop(args)"
   ]
  },
  {
   "cell_type": "markdown",
   "id": "11bbad889b6bc016",
   "metadata": {},
   "source": [
    "<h2><u>8. Evaluation & Analysis of models<u></h2>"
   ]
  },
  {
   "cell_type": "markdown",
   "id": "49da5ad156e80a02",
   "metadata": {},
   "source": [
    "<h2><u>9. Creating our own custom dataset</u></h2>"
   ]
  },
  {
   "cell_type": "markdown",
   "id": "477bbc24b9d697ad",
   "metadata": {},
   "source": [
    "<h2><u>10. Evaluation on custom dataset</u></h2>"
   ]
  },
  {
   "cell_type": "markdown",
   "id": "27e11b1939fb52fe",
   "metadata": {},
   "source": [
    "<h2><u>11. Conclusion</u></h2>"
   ]
  },
  {
   "cell_type": "markdown",
   "id": "cdca78e7d8d35b85",
   "metadata": {},
   "source": [
    "<h2><u>12. Video presentation & Resources</u></h2>"
   ]
  }
 ],
 "metadata": {
  "kernelspec": {
   "display_name": "gnn_course",
   "language": "python",
   "name": "python3"
  },
  "language_info": {
   "codemirror_mode": {
    "name": "ipython",
    "version": 3
   },
   "file_extension": ".py",
   "mimetype": "text/x-python",
   "name": "python",
   "nbconvert_exporter": "python",
   "pygments_lexer": "ipython3",
   "version": "3.8.20"
  }
 },
 "nbformat": 4,
 "nbformat_minor": 5
}
